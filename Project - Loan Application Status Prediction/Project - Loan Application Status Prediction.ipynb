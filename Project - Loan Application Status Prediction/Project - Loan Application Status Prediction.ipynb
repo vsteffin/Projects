{
 "cells": [
  {
   "cell_type": "markdown",
   "id": "41e8e96e",
   "metadata": {},
   "source": [
    "## Loan Application Status Prediction"
   ]
  },
  {
   "cell_type": "markdown",
   "id": "1a4086bd",
   "metadata": {},
   "source": [
    "### Problem Statement:\n",
    "    \n",
    "**This dataset includes details of applicants who have applied for loan. The dataset includes details like credit history, loan amount, their income, dependents etc.** "
   ]
  },
  {
   "cell_type": "markdown",
   "id": "deff47b6",
   "metadata": {},
   "source": [
    "Aim : Build a model that can predict whether the loan of the applicant will be approved or not on the basis of the details provided in the dataset. "
   ]
  },
  {
   "cell_type": "code",
   "execution_count": 1,
   "id": "55e7a2cf",
   "metadata": {},
   "outputs": [
    {
     "data": {
      "text/html": [
       "<div>\n",
       "<style scoped>\n",
       "    .dataframe tbody tr th:only-of-type {\n",
       "        vertical-align: middle;\n",
       "    }\n",
       "\n",
       "    .dataframe tbody tr th {\n",
       "        vertical-align: top;\n",
       "    }\n",
       "\n",
       "    .dataframe thead th {\n",
       "        text-align: right;\n",
       "    }\n",
       "</style>\n",
       "<table border=\"1\" class=\"dataframe\">\n",
       "  <thead>\n",
       "    <tr style=\"text-align: right;\">\n",
       "      <th></th>\n",
       "      <th>Loan_ID</th>\n",
       "      <th>Gender</th>\n",
       "      <th>Married</th>\n",
       "      <th>Dependents</th>\n",
       "      <th>Education</th>\n",
       "      <th>Self_Employed</th>\n",
       "      <th>ApplicantIncome</th>\n",
       "      <th>CoapplicantIncome</th>\n",
       "      <th>LoanAmount</th>\n",
       "      <th>Loan_Amount_Term</th>\n",
       "      <th>Credit_History</th>\n",
       "      <th>Property_Area</th>\n",
       "      <th>Loan_Status</th>\n",
       "    </tr>\n",
       "  </thead>\n",
       "  <tbody>\n",
       "    <tr>\n",
       "      <th>0</th>\n",
       "      <td>LP001002</td>\n",
       "      <td>Male</td>\n",
       "      <td>No</td>\n",
       "      <td>0</td>\n",
       "      <td>Graduate</td>\n",
       "      <td>No</td>\n",
       "      <td>5849</td>\n",
       "      <td>0.0</td>\n",
       "      <td>NaN</td>\n",
       "      <td>360.0</td>\n",
       "      <td>1.0</td>\n",
       "      <td>Urban</td>\n",
       "      <td>Y</td>\n",
       "    </tr>\n",
       "    <tr>\n",
       "      <th>1</th>\n",
       "      <td>LP001003</td>\n",
       "      <td>Male</td>\n",
       "      <td>Yes</td>\n",
       "      <td>1</td>\n",
       "      <td>Graduate</td>\n",
       "      <td>No</td>\n",
       "      <td>4583</td>\n",
       "      <td>1508.0</td>\n",
       "      <td>128.0</td>\n",
       "      <td>360.0</td>\n",
       "      <td>1.0</td>\n",
       "      <td>Rural</td>\n",
       "      <td>N</td>\n",
       "    </tr>\n",
       "    <tr>\n",
       "      <th>2</th>\n",
       "      <td>LP001005</td>\n",
       "      <td>Male</td>\n",
       "      <td>Yes</td>\n",
       "      <td>0</td>\n",
       "      <td>Graduate</td>\n",
       "      <td>Yes</td>\n",
       "      <td>3000</td>\n",
       "      <td>0.0</td>\n",
       "      <td>66.0</td>\n",
       "      <td>360.0</td>\n",
       "      <td>1.0</td>\n",
       "      <td>Urban</td>\n",
       "      <td>Y</td>\n",
       "    </tr>\n",
       "    <tr>\n",
       "      <th>3</th>\n",
       "      <td>LP001006</td>\n",
       "      <td>Male</td>\n",
       "      <td>Yes</td>\n",
       "      <td>0</td>\n",
       "      <td>Not Graduate</td>\n",
       "      <td>No</td>\n",
       "      <td>2583</td>\n",
       "      <td>2358.0</td>\n",
       "      <td>120.0</td>\n",
       "      <td>360.0</td>\n",
       "      <td>1.0</td>\n",
       "      <td>Urban</td>\n",
       "      <td>Y</td>\n",
       "    </tr>\n",
       "    <tr>\n",
       "      <th>4</th>\n",
       "      <td>LP001008</td>\n",
       "      <td>Male</td>\n",
       "      <td>No</td>\n",
       "      <td>0</td>\n",
       "      <td>Graduate</td>\n",
       "      <td>No</td>\n",
       "      <td>6000</td>\n",
       "      <td>0.0</td>\n",
       "      <td>141.0</td>\n",
       "      <td>360.0</td>\n",
       "      <td>1.0</td>\n",
       "      <td>Urban</td>\n",
       "      <td>Y</td>\n",
       "    </tr>\n",
       "    <tr>\n",
       "      <th>5</th>\n",
       "      <td>LP001011</td>\n",
       "      <td>Male</td>\n",
       "      <td>Yes</td>\n",
       "      <td>2</td>\n",
       "      <td>Graduate</td>\n",
       "      <td>Yes</td>\n",
       "      <td>5417</td>\n",
       "      <td>4196.0</td>\n",
       "      <td>267.0</td>\n",
       "      <td>360.0</td>\n",
       "      <td>1.0</td>\n",
       "      <td>Urban</td>\n",
       "      <td>Y</td>\n",
       "    </tr>\n",
       "    <tr>\n",
       "      <th>6</th>\n",
       "      <td>LP001013</td>\n",
       "      <td>Male</td>\n",
       "      <td>Yes</td>\n",
       "      <td>0</td>\n",
       "      <td>Not Graduate</td>\n",
       "      <td>No</td>\n",
       "      <td>2333</td>\n",
       "      <td>1516.0</td>\n",
       "      <td>95.0</td>\n",
       "      <td>360.0</td>\n",
       "      <td>1.0</td>\n",
       "      <td>Urban</td>\n",
       "      <td>Y</td>\n",
       "    </tr>\n",
       "    <tr>\n",
       "      <th>7</th>\n",
       "      <td>LP001014</td>\n",
       "      <td>Male</td>\n",
       "      <td>Yes</td>\n",
       "      <td>3+</td>\n",
       "      <td>Graduate</td>\n",
       "      <td>No</td>\n",
       "      <td>3036</td>\n",
       "      <td>2504.0</td>\n",
       "      <td>158.0</td>\n",
       "      <td>360.0</td>\n",
       "      <td>0.0</td>\n",
       "      <td>Semiurban</td>\n",
       "      <td>N</td>\n",
       "    </tr>\n",
       "    <tr>\n",
       "      <th>8</th>\n",
       "      <td>LP001018</td>\n",
       "      <td>Male</td>\n",
       "      <td>Yes</td>\n",
       "      <td>2</td>\n",
       "      <td>Graduate</td>\n",
       "      <td>No</td>\n",
       "      <td>4006</td>\n",
       "      <td>1526.0</td>\n",
       "      <td>168.0</td>\n",
       "      <td>360.0</td>\n",
       "      <td>1.0</td>\n",
       "      <td>Urban</td>\n",
       "      <td>Y</td>\n",
       "    </tr>\n",
       "    <tr>\n",
       "      <th>9</th>\n",
       "      <td>LP001020</td>\n",
       "      <td>Male</td>\n",
       "      <td>Yes</td>\n",
       "      <td>1</td>\n",
       "      <td>Graduate</td>\n",
       "      <td>No</td>\n",
       "      <td>12841</td>\n",
       "      <td>10968.0</td>\n",
       "      <td>349.0</td>\n",
       "      <td>360.0</td>\n",
       "      <td>1.0</td>\n",
       "      <td>Semiurban</td>\n",
       "      <td>N</td>\n",
       "    </tr>\n",
       "  </tbody>\n",
       "</table>\n",
       "</div>"
      ],
      "text/plain": [
       "    Loan_ID Gender Married Dependents     Education Self_Employed  \\\n",
       "0  LP001002   Male      No          0      Graduate            No   \n",
       "1  LP001003   Male     Yes          1      Graduate            No   \n",
       "2  LP001005   Male     Yes          0      Graduate           Yes   \n",
       "3  LP001006   Male     Yes          0  Not Graduate            No   \n",
       "4  LP001008   Male      No          0      Graduate            No   \n",
       "5  LP001011   Male     Yes          2      Graduate           Yes   \n",
       "6  LP001013   Male     Yes          0  Not Graduate            No   \n",
       "7  LP001014   Male     Yes         3+      Graduate            No   \n",
       "8  LP001018   Male     Yes          2      Graduate            No   \n",
       "9  LP001020   Male     Yes          1      Graduate            No   \n",
       "\n",
       "   ApplicantIncome  CoapplicantIncome  LoanAmount  Loan_Amount_Term  \\\n",
       "0             5849                0.0         NaN             360.0   \n",
       "1             4583             1508.0       128.0             360.0   \n",
       "2             3000                0.0        66.0             360.0   \n",
       "3             2583             2358.0       120.0             360.0   \n",
       "4             6000                0.0       141.0             360.0   \n",
       "5             5417             4196.0       267.0             360.0   \n",
       "6             2333             1516.0        95.0             360.0   \n",
       "7             3036             2504.0       158.0             360.0   \n",
       "8             4006             1526.0       168.0             360.0   \n",
       "9            12841            10968.0       349.0             360.0   \n",
       "\n",
       "   Credit_History Property_Area Loan_Status  \n",
       "0             1.0         Urban           Y  \n",
       "1             1.0         Rural           N  \n",
       "2             1.0         Urban           Y  \n",
       "3             1.0         Urban           Y  \n",
       "4             1.0         Urban           Y  \n",
       "5             1.0         Urban           Y  \n",
       "6             1.0         Urban           Y  \n",
       "7             0.0     Semiurban           N  \n",
       "8             1.0         Urban           Y  \n",
       "9             1.0     Semiurban           N  "
      ]
     },
     "execution_count": 1,
     "metadata": {},
     "output_type": "execute_result"
    }
   ],
   "source": [
    "#Importing the libraries.\n",
    "import pandas as pd\n",
    "\n",
    "import warnings\n",
    "warnings.filterwarnings('ignore')\n",
    "\n",
    "data = pd.read_csv('loan_prediction.csv')\n",
    "data.head(10)"
   ]
  },
  {
   "cell_type": "code",
   "execution_count": 2,
   "id": "2c289a8d",
   "metadata": {},
   "outputs": [
    {
     "data": {
      "text/plain": [
       "(614, 13)"
      ]
     },
     "execution_count": 2,
     "metadata": {},
     "output_type": "execute_result"
    }
   ],
   "source": [
    "data.shape"
   ]
  },
  {
   "cell_type": "markdown",
   "id": "eceb73e4",
   "metadata": {},
   "source": [
    "We have 614 rows and 13 columns in the dataset."
   ]
  },
  {
   "cell_type": "code",
   "execution_count": 3,
   "id": "60a75d89",
   "metadata": {},
   "outputs": [
    {
     "data": {
      "text/plain": [
       "Loan_ID               object\n",
       "Gender                object\n",
       "Married               object\n",
       "Dependents            object\n",
       "Education             object\n",
       "Self_Employed         object\n",
       "ApplicantIncome        int64\n",
       "CoapplicantIncome    float64\n",
       "LoanAmount           float64\n",
       "Loan_Amount_Term     float64\n",
       "Credit_History       float64\n",
       "Property_Area         object\n",
       "Loan_Status           object\n",
       "dtype: object"
      ]
     },
     "execution_count": 3,
     "metadata": {},
     "output_type": "execute_result"
    }
   ],
   "source": [
    "data.dtypes"
   ]
  },
  {
   "cell_type": "markdown",
   "id": "2f47c8f9",
   "metadata": {},
   "source": [
    "We have object, float and integer type of data in the dataset."
   ]
  },
  {
   "cell_type": "code",
   "execution_count": 4,
   "id": "66cf9e88",
   "metadata": {},
   "outputs": [
    {
     "data": {
      "text/plain": [
       "Index(['Loan_ID', 'Gender', 'Married', 'Dependents', 'Education',\n",
       "       'Self_Employed', 'ApplicantIncome', 'CoapplicantIncome', 'LoanAmount',\n",
       "       'Loan_Amount_Term', 'Credit_History', 'Property_Area', 'Loan_Status'],\n",
       "      dtype='object')"
      ]
     },
     "execution_count": 4,
     "metadata": {},
     "output_type": "execute_result"
    }
   ],
   "source": [
    "data.columns"
   ]
  },
  {
   "cell_type": "code",
   "execution_count": 5,
   "id": "afd4ca4b",
   "metadata": {},
   "outputs": [
    {
     "data": {
      "text/plain": [
       "Loan_ID              614\n",
       "Gender                 2\n",
       "Married                2\n",
       "Dependents             4\n",
       "Education              2\n",
       "Self_Employed          2\n",
       "ApplicantIncome      505\n",
       "CoapplicantIncome    287\n",
       "LoanAmount           203\n",
       "Loan_Amount_Term      10\n",
       "Credit_History         2\n",
       "Property_Area          3\n",
       "Loan_Status            2\n",
       "dtype: int64"
      ]
     },
     "execution_count": 5,
     "metadata": {},
     "output_type": "execute_result"
    }
   ],
   "source": [
    "data.nunique()"
   ]
  },
  {
   "cell_type": "markdown",
   "id": "88527844",
   "metadata": {},
   "source": [
    "### Features in dataset(Independent Variable)"
   ]
  },
  {
   "cell_type": "markdown",
   "id": "64157cf0",
   "metadata": {},
   "source": [
    "`Loan_ID` - Unique alpha numeric code for loan application identification\n",
    "\n",
    "`Gender` - Gender of the loan applicant.\n",
    "\n",
    "`Married` - Whether the applicant is married or not.\n",
    "\n",
    "`Dependents` - No. of dependents of the applicant.\n",
    "\n",
    "`Education` - Whether the loan applicant is graduated or not.('Graduate', 'Not Graduate')\n",
    "\n",
    "`Self_Employed` - Whether the applicant is self employeed or not.\n",
    "\n",
    "`ApplicantIncome` - Income of the applicant.\n",
    "\n",
    "`CoapplicantIncome` - Income of coapplicant\n",
    "\n",
    "`LoanAmount` - Amount of loan requested in thousands.\n",
    "\n",
    "`Loan_Amount_Term` - Term of loan in months.\n",
    "\n",
    "`Credit_History` - Credit history meeting the guidelines or not.(1,0,0.842199)\n",
    "\n",
    "`Property_Area` - Location of property('Urban', 'Rural', 'Semiurban')"
   ]
  },
  {
   "cell_type": "markdown",
   "id": "ffa5552d",
   "metadata": {},
   "source": [
    "### Target in dataset(Dependent Variable)"
   ]
  },
  {
   "cell_type": "markdown",
   "id": "f7c4136b",
   "metadata": {},
   "source": [
    "`Loan_Status` - Whether the loan is approved or not(Y/N)"
   ]
  },
  {
   "cell_type": "code",
   "execution_count": 6,
   "id": "f3783b3f",
   "metadata": {
    "scrolled": true
   },
   "outputs": [
    {
     "name": "stdout",
     "output_type": "stream",
     "text": [
      "<class 'pandas.core.frame.DataFrame'>\n",
      "RangeIndex: 614 entries, 0 to 613\n",
      "Data columns (total 13 columns):\n",
      " #   Column             Non-Null Count  Dtype  \n",
      "---  ------             --------------  -----  \n",
      " 0   Loan_ID            614 non-null    object \n",
      " 1   Gender             601 non-null    object \n",
      " 2   Married            611 non-null    object \n",
      " 3   Dependents         599 non-null    object \n",
      " 4   Education          614 non-null    object \n",
      " 5   Self_Employed      582 non-null    object \n",
      " 6   ApplicantIncome    614 non-null    int64  \n",
      " 7   CoapplicantIncome  614 non-null    float64\n",
      " 8   LoanAmount         592 non-null    float64\n",
      " 9   Loan_Amount_Term   600 non-null    float64\n",
      " 10  Credit_History     564 non-null    float64\n",
      " 11  Property_Area      614 non-null    object \n",
      " 12  Loan_Status        614 non-null    object \n",
      "dtypes: float64(4), int64(1), object(8)\n",
      "memory usage: 62.5+ KB\n"
     ]
    }
   ],
   "source": [
    "data.info()"
   ]
  },
  {
   "cell_type": "markdown",
   "id": "e0120ade",
   "metadata": {},
   "source": [
    "We have 614 non null values in columns ['Loan_ID','Education', 'ApplicantIncome', 'CoapplicantIncome', 'Property_Area', 'Loan_status']. That means in rest of the columns there are null values."
   ]
  },
  {
   "cell_type": "markdown",
   "id": "cd3cbadc",
   "metadata": {},
   "source": [
    "Since the column 'Loan_ID' is only for identification purpose and don't have much impact on model building, we can drop this column from the dataset."
   ]
  },
  {
   "cell_type": "code",
   "execution_count": 7,
   "id": "3e97d8fd",
   "metadata": {},
   "outputs": [],
   "source": [
    "data.drop('Loan_ID',axis = 1, inplace = True)"
   ]
  },
  {
   "cell_type": "markdown",
   "id": "72e38cd6",
   "metadata": {},
   "source": [
    "### Exploring the categorical variables"
   ]
  },
  {
   "cell_type": "code",
   "execution_count": 8,
   "id": "fc75c0c7",
   "metadata": {},
   "outputs": [
    {
     "name": "stdout",
     "output_type": "stream",
     "text": [
      "Gender \n",
      " ['Male' 'Female' nan]\n",
      "^^^^^^^^^^^^^^^^^^^^^^^^^^^^^^^^^^^^^^^^^^^^^^^^^^\n",
      "Married \n",
      " ['No' 'Yes' nan]\n",
      "^^^^^^^^^^^^^^^^^^^^^^^^^^^^^^^^^^^^^^^^^^^^^^^^^^\n",
      "Dependents \n",
      " ['0' '1' '2' '3+' nan]\n",
      "^^^^^^^^^^^^^^^^^^^^^^^^^^^^^^^^^^^^^^^^^^^^^^^^^^\n",
      "Education \n",
      " ['Graduate' 'Not Graduate']\n",
      "^^^^^^^^^^^^^^^^^^^^^^^^^^^^^^^^^^^^^^^^^^^^^^^^^^\n",
      "Self_Employed \n",
      " ['No' 'Yes' nan]\n",
      "^^^^^^^^^^^^^^^^^^^^^^^^^^^^^^^^^^^^^^^^^^^^^^^^^^\n",
      "Property_Area \n",
      " ['Urban' 'Rural' 'Semiurban']\n",
      "^^^^^^^^^^^^^^^^^^^^^^^^^^^^^^^^^^^^^^^^^^^^^^^^^^\n",
      "Loan_Status \n",
      " ['Y' 'N']\n",
      "^^^^^^^^^^^^^^^^^^^^^^^^^^^^^^^^^^^^^^^^^^^^^^^^^^\n"
     ]
    }
   ],
   "source": [
    "#User defined function to print the categories in each categorical variables.\n",
    "\n",
    "for i in data.columns:\n",
    "    if data[i].dtypes =='object':\n",
    "        print(i,'\\n',data[i].unique())\n",
    "        print('^'*50)"
   ]
  },
  {
   "cell_type": "markdown",
   "id": "bc13dff7",
   "metadata": {},
   "source": [
    "### Checking for Missing Values"
   ]
  },
  {
   "cell_type": "code",
   "execution_count": 9,
   "id": "7e40555c",
   "metadata": {
    "scrolled": false
   },
   "outputs": [
    {
     "name": "stdout",
     "output_type": "stream",
     "text": [
      "Gender               13\n",
      "Married               3\n",
      "Dependents           15\n",
      "Education             0\n",
      "Self_Employed        32\n",
      "ApplicantIncome       0\n",
      "CoapplicantIncome     0\n",
      "LoanAmount           22\n",
      "Loan_Amount_Term     14\n",
      "Credit_History       50\n",
      "Property_Area         0\n",
      "Loan_Status           0\n",
      "dtype: int64\n"
     ]
    },
    {
     "data": {
      "image/png": "[encoded data removed]",
      "text/plain": [
       "<Figure size 648x504 with 2 Axes>"
      ]
     },
     "metadata": {
      "needs_background": "light"
     },
     "output_type": "display_data"
    }
   ],
   "source": [
    "import matplotlib.pyplot as plt\n",
    "import seaborn as sns\n",
    "\n",
    "plt.figure(figsize=[9,7])\n",
    "sns.heatmap(data.isnull())\n",
    "print(data.isnull().sum())"
   ]
  },
  {
   "cell_type": "markdown",
   "id": "758842e4",
   "metadata": {},
   "source": [
    "We have missing values in columns ['Gender', 'Married', 'Dependents', 'Self_Employed', 'LoanAmount', 'Loan_Amount_Term', 'Credit_History']. Let's replace the null values in these columns with imputation method."
   ]
  },
  {
   "cell_type": "code",
   "execution_count": 10,
   "id": "63b80493",
   "metadata": {},
   "outputs": [],
   "source": [
    "#Imputing the mode value of a column for categorical data\n",
    "data['Gender'].fillna(data['Gender'].mode()[0], inplace=True)\n",
    "data['Married'].fillna(data['Married'].mode()[0], inplace=True)\n",
    "data['Self_Employed'].fillna(data['Self_Employed'].mode()[0], inplace=True)\n",
    "data['Dependents'].fillna(data['Dependents'].mode()[0], inplace=True)"
   ]
  },
  {
   "cell_type": "code",
   "execution_count": 11,
   "id": "6cd84835",
   "metadata": {},
   "outputs": [],
   "source": [
    "import numpy as np\n",
    "#imputing the mean value of a column for continuous data\n",
    "data['LoanAmount'].fillna(np.mean(data['LoanAmount']),inplace = True)\n",
    "data['Loan_Amount_Term'].fillna(np.mean(data['Loan_Amount_Term']),inplace = True)\n",
    "data['Credit_History'].fillna(np.mean(data['Credit_History']),inplace = True)"
   ]
  },
  {
   "cell_type": "code",
   "execution_count": 12,
   "id": "344268a4",
   "metadata": {},
   "outputs": [
    {
     "name": "stdout",
     "output_type": "stream",
     "text": [
      "Gender               0\n",
      "Married              0\n",
      "Dependents           0\n",
      "Education            0\n",
      "Self_Employed        0\n",
      "ApplicantIncome      0\n",
      "CoapplicantIncome    0\n",
      "LoanAmount           0\n",
      "Loan_Amount_Term     0\n",
      "Credit_History       0\n",
      "Property_Area        0\n",
      "Loan_Status          0\n",
      "dtype: int64\n"
     ]
    },
    {
     "data": {
      "image/png": "[encoded data removed]",
      "text/plain": [
       "<Figure size 648x504 with 2 Axes>"
      ]
     },
     "metadata": {
      "needs_background": "light"
     },
     "output_type": "display_data"
    }
   ],
   "source": [
    "import matplotlib.pyplot as plt\n",
    "import seaborn as sns\n",
    "\n",
    "plt.figure(figsize=[9,7])\n",
    "sns.heatmap(data.isnull())\n",
    "print(data.isnull().sum())"
   ]
  },
  {
   "cell_type": "markdown",
   "id": "6764ff5f",
   "metadata": {},
   "source": [
    "We have replaced the null values in the dataset with mean for continuous data and mode value for the categorical data."
   ]
  },
  {
   "cell_type": "markdown",
   "id": "a89c4a22",
   "metadata": {},
   "source": [
    "### Data Visualization"
   ]
  },
  {
   "cell_type": "markdown",
   "id": "3e80a60b",
   "metadata": {},
   "source": [
    "### Univariate Analysis"
   ]
  },
  {
   "cell_type": "code",
   "execution_count": 13,
   "id": "0d5d0c56",
   "metadata": {},
   "outputs": [],
   "source": [
    "#User defined function to plot the categorical variable using countplot\n",
    "category_visualization = data[['Gender','Married','Dependents','Education','Self_Employed','Property_Area','Loan_Status']]\n",
    "def count_plot(col):\n",
    "    print(category_visualization[col].value_counts().sort_values(ascending = False))\n",
    "    plt.figure(figsize = [12,4])\n",
    "    sns.countplot(category_visualization[col])\n",
    "    plt.xticks(rotation = 90)"
   ]
  },
  {
   "cell_type": "code",
   "execution_count": 14,
   "id": "9fdc5005",
   "metadata": {},
   "outputs": [
    {
     "name": "stdout",
     "output_type": "stream",
     "text": [
      "Male      502\n",
      "Female    112\n",
      "Name: Gender, dtype: int64\n"
     ]
    },
    {
     "data": {
      "image/png": "[encoded data removed]",
      "text/plain": [
       "<Figure size 864x288 with 1 Axes>"
      ]
     },
     "metadata": {
      "needs_background": "light"
     },
     "output_type": "display_data"
    }
   ],
   "source": [
    "count_plot('Gender')"
   ]
  },
  {
   "cell_type": "markdown",
   "id": "099a6427",
   "metadata": {},
   "source": [
    "From the above observations, most of the applicants are males."
   ]
  },
  {
   "cell_type": "code",
   "execution_count": 15,
   "id": "2b51484d",
   "metadata": {},
   "outputs": [
    {
     "name": "stdout",
     "output_type": "stream",
     "text": [
      "Yes    401\n",
      "No     213\n",
      "Name: Married, dtype: int64\n"
     ]
    },
    {
     "data": {
      "image/png": "[encoded data removed]",
      "text/plain": [
       "<Figure size 864x288 with 1 Axes>"
      ]
     },
     "metadata": {
      "needs_background": "light"
     },
     "output_type": "display_data"
    }
   ],
   "source": [
    "count_plot('Married')"
   ]
  },
  {
   "cell_type": "markdown",
   "id": "02fafcd8",
   "metadata": {},
   "source": [
    "From the above observations, most of the applicants are married."
   ]
  },
  {
   "cell_type": "code",
   "execution_count": 16,
   "id": "b037be95",
   "metadata": {},
   "outputs": [
    {
     "name": "stdout",
     "output_type": "stream",
     "text": [
      "0     360\n",
      "1     102\n",
      "2     101\n",
      "3+     51\n",
      "Name: Dependents, dtype: int64\n"
     ]
    },
    {
     "data": {
      "image/png": "[encoded data removed]",
      "text/plain": [
       "<Figure size 864x288 with 1 Axes>"
      ]
     },
     "metadata": {
      "needs_background": "light"
     },
     "output_type": "display_data"
    }
   ],
   "source": [
    "count_plot(\"Dependents\")"
   ]
  },
  {
   "cell_type": "markdown",
   "id": "488bd83a",
   "metadata": {},
   "source": [
    "From the above observations, most of the applicants have zero dependents."
   ]
  },
  {
   "cell_type": "code",
   "execution_count": 17,
   "id": "d36b5374",
   "metadata": {},
   "outputs": [
    {
     "name": "stdout",
     "output_type": "stream",
     "text": [
      "Graduate        480\n",
      "Not Graduate    134\n",
      "Name: Education, dtype: int64\n"
     ]
    },
    {
     "data": {
      "image/png": "[encoded data removed]",
      "text/plain": [
       "<Figure size 864x288 with 1 Axes>"
      ]
     },
     "metadata": {
      "needs_background": "light"
     },
     "output_type": "display_data"
    }
   ],
   "source": [
    "count_plot('Education')"
   ]
  },
  {
   "cell_type": "markdown",
   "id": "587b2d65",
   "metadata": {},
   "source": [
    "From the above observations, most of the applicants are graduates."
   ]
  },
  {
   "cell_type": "code",
   "execution_count": 18,
   "id": "2387e08c",
   "metadata": {},
   "outputs": [
    {
     "name": "stdout",
     "output_type": "stream",
     "text": [
      "No     532\n",
      "Yes     82\n",
      "Name: Self_Employed, dtype: int64\n"
     ]
    },
    {
     "data": {
      "image/png": "[encoded data removed]",
      "text/plain": [
       "<Figure size 864x288 with 1 Axes>"
      ]
     },
     "metadata": {
      "needs_background": "light"
     },
     "output_type": "display_data"
    }
   ],
   "source": [
    "count_plot('Self_Employed')"
   ]
  },
  {
   "cell_type": "markdown",
   "id": "81e67b8d",
   "metadata": {},
   "source": [
    "From the above observations, most of the applicants are not self employed."
   ]
  },
  {
   "cell_type": "code",
   "execution_count": 19,
   "id": "2396ab74",
   "metadata": {},
   "outputs": [
    {
     "name": "stdout",
     "output_type": "stream",
     "text": [
      "Semiurban    233\n",
      "Urban        202\n",
      "Rural        179\n",
      "Name: Property_Area, dtype: int64\n"
     ]
    },
    {
     "data": {
      "image/png": "[encoded data removed]",
      "text/plain": [
       "<Figure size 864x288 with 1 Axes>"
      ]
     },
     "metadata": {
      "needs_background": "light"
     },
     "output_type": "display_data"
    }
   ],
   "source": [
    "count_plot('Property_Area')"
   ]
  },
  {
   "cell_type": "markdown",
   "id": "8c07963e",
   "metadata": {},
   "source": [
    "From the above observations, from all the types of property areas, almost equal number of applicants are there. But most number of applicants are having property area in semi urban area. "
   ]
  },
  {
   "cell_type": "code",
   "execution_count": 20,
   "id": "4f6e6000",
   "metadata": {},
   "outputs": [
    {
     "name": "stdout",
     "output_type": "stream",
     "text": [
      "Y    422\n",
      "N    192\n",
      "Name: Loan_Status, dtype: int64\n"
     ]
    },
    {
     "data": {
      "image/png": "[encoded data removed]",
      "text/plain": [
       "<Figure size 864x288 with 1 Axes>"
      ]
     },
     "metadata": {
      "needs_background": "light"
     },
     "output_type": "display_data"
    }
   ],
   "source": [
    "count_plot('Loan_Status')"
   ]
  },
  {
   "cell_type": "markdown",
   "id": "7006e12f",
   "metadata": {},
   "source": [
    "From the above observations, most of the applicants have got the approval for the loan."
   ]
  },
  {
   "cell_type": "code",
   "execution_count": 21,
   "id": "99a77a2b",
   "metadata": {},
   "outputs": [],
   "source": [
    "numeric_visualization = data.drop(['Gender','Married','Dependents','Education','Self_Employed','Property_Area','Loan_Status'],axis = 1)\n",
    "\n",
    "\n",
    "def histogramplot(col):\n",
    "    plt.figure(figsize=[4,4])\n",
    "    sns.histplot(x =col,data = numeric_visualization,bins =6,kde=True)\n",
    "    print(np.histogram(numeric_visualization[col],bins=6))"
   ]
  },
  {
   "cell_type": "code",
   "execution_count": 22,
   "id": "654af545",
   "metadata": {},
   "outputs": [
    {
     "name": "stdout",
     "output_type": "stream",
     "text": [
      "(array([581,  26,   4,   1,   1,   1], dtype=int64), array([  150., 13625., 27100., 40575., 54050., 67525., 81000.]))\n"
     ]
    },
    {
     "data": {
      "image/png": "[encoded data removed]",
      "text/plain": [
       "<Figure size 288x288 with 1 Axes>"
      ]
     },
     "metadata": {
      "needs_background": "light"
     },
     "output_type": "display_data"
    }
   ],
   "source": [
    "histogramplot('ApplicantIncome')"
   ]
  },
  {
   "cell_type": "markdown",
   "id": "596c3b64",
   "metadata": {},
   "source": [
    "From the above observations, most of the applicants are having an income between the range of 150 to 13600."
   ]
  },
  {
   "cell_type": "code",
   "execution_count": 23,
   "id": "09358c24",
   "metadata": {},
   "outputs": [
    {
     "name": "stdout",
     "output_type": "stream",
     "text": [
      "(array([599,  11,   2,   0,   1,   1], dtype=int64), array([    0. ,  6944.5, 13889. , 20833.5, 27778. , 34722.5, 41667. ]))\n"
     ]
    },
    {
     "data": {
      "image/png": "[encoded data removed]",
      "text/plain": [
       "<Figure size 288x288 with 1 Axes>"
      ]
     },
     "metadata": {
      "needs_background": "light"
     },
     "output_type": "display_data"
    }
   ],
   "source": [
    "histogramplot('CoapplicantIncome')"
   ]
  },
  {
   "cell_type": "markdown",
   "id": "6c5ca6ea",
   "metadata": {},
   "source": [
    "From the above observations, most of the coapplicants are having an income between the range 0 to 6900."
   ]
  },
  {
   "cell_type": "code",
   "execution_count": 24,
   "id": "42e9fd56",
   "metadata": {},
   "outputs": [
    {
     "name": "stdout",
     "output_type": "stream",
     "text": [
      "(array([281, 275,  39,   7,   8,   4], dtype=int64), array([  9.        , 124.16666667, 239.33333333, 354.5       ,\n",
      "       469.66666667, 584.83333333, 700.        ]))\n"
     ]
    },
    {
     "data": {
      "image/png": "[encoded data removed]",
      "text/plain": [
       "<Figure size 288x288 with 1 Axes>"
      ]
     },
     "metadata": {
      "needs_background": "light"
     },
     "output_type": "display_data"
    }
   ],
   "source": [
    "histogramplot('LoanAmount')"
   ]
  },
  {
   "cell_type": "markdown",
   "id": "76b21be7",
   "metadata": {},
   "source": [
    "From the above observations, most of the applicants have requested for a loan amount between 9(thousand) to 239(thousand)."
   ]
  },
  {
   "cell_type": "code",
   "execution_count": 25,
   "id": "5af46022",
   "metadata": {},
   "outputs": [
    {
     "name": "stdout",
     "output_type": "stream",
     "text": [
      "(array([  9,   3,  48,  13, 526,  15], dtype=int64), array([ 12.,  90., 168., 246., 324., 402., 480.]))\n"
     ]
    },
    {
     "data": {
      "image/png": "[encoded data removed]",
      "text/plain": [
       "<Figure size 288x288 with 1 Axes>"
      ]
     },
     "metadata": {
      "needs_background": "light"
     },
     "output_type": "display_data"
    }
   ],
   "source": [
    "histogramplot(\"Loan_Amount_Term\")"
   ]
  },
  {
   "cell_type": "markdown",
   "id": "54373969",
   "metadata": {},
   "source": [
    "From the above observations, most of the applicants have selected a loan term between 325 to 402 months for repayment of loan."
   ]
  },
  {
   "cell_type": "code",
   "execution_count": 26,
   "id": "8e796510",
   "metadata": {},
   "outputs": [
    {
     "name": "stdout",
     "output_type": "stream",
     "text": [
      "(array([ 89,   0,   0,   0,   0, 525], dtype=int64), array([0.        , 0.16666667, 0.33333333, 0.5       , 0.66666667,\n",
      "       0.83333333, 1.        ]))\n"
     ]
    },
    {
     "data": {
      "image/png": "[encoded data removed]",
      "text/plain": [
       "<Figure size 288x288 with 1 Axes>"
      ]
     },
     "metadata": {
      "needs_background": "light"
     },
     "output_type": "display_data"
    }
   ],
   "source": [
    "histogramplot('Credit_History')"
   ]
  },
  {
   "cell_type": "markdown",
   "id": "6b42bea1",
   "metadata": {},
   "source": [
    "From the above observations, most of the applicants are following the credit history guidelines."
   ]
  },
  {
   "cell_type": "markdown",
   "id": "c68fa29c",
   "metadata": {},
   "source": [
    "#### Bivariate Analysis"
   ]
  },
  {
   "cell_type": "code",
   "execution_count": 27,
   "id": "21468ef0",
   "metadata": {},
   "outputs": [
    {
     "data": {
      "text/plain": [
       "<AxesSubplot:xlabel='Loan_Status', ylabel='count'>"
      ]
     },
     "execution_count": 27,
     "metadata": {},
     "output_type": "execute_result"
    },
    {
     "data": {
      "image/png": "[encoded data removed]",
      "text/plain": [
       "<Figure size 432x288 with 1 Axes>"
      ]
     },
     "metadata": {
      "needs_background": "light"
     },
     "output_type": "display_data"
    }
   ],
   "source": [
    "sns.countplot('Loan_Status',data = data, hue = 'Gender')"
   ]
  },
  {
   "cell_type": "markdown",
   "id": "e7c3a4da",
   "metadata": {},
   "source": [
    "From the above observations, most of the loans got approved for male applicants."
   ]
  },
  {
   "cell_type": "code",
   "execution_count": 28,
   "id": "4d68b1a1",
   "metadata": {},
   "outputs": [
    {
     "data": {
      "text/plain": [
       "<AxesSubplot:xlabel='Married', ylabel='Loan_Status'>"
      ]
     },
     "execution_count": 28,
     "metadata": {},
     "output_type": "execute_result"
    },
    {
     "data": {
      "image/png": "[encoded data removed]",
      "text/plain": [
       "<Figure size 432x288 with 1 Axes>"
      ]
     },
     "metadata": {
      "needs_background": "light"
     },
     "output_type": "display_data"
    }
   ],
   "source": [
    "sns.lineplot('Married','Loan_Status',data = data,hue ='Gender')"
   ]
  },
  {
   "cell_type": "markdown",
   "id": "1a027b6e",
   "metadata": {},
   "source": [
    "From the above observations, most of the married applicants are getting the loan approved than the unmarried applicants."
   ]
  },
  {
   "cell_type": "code",
   "execution_count": 29,
   "id": "88d795c7",
   "metadata": {},
   "outputs": [
    {
     "data": {
      "text/plain": [
       "<seaborn.axisgrid.FacetGrid at 0x1e6423863d0>"
      ]
     },
     "execution_count": 29,
     "metadata": {},
     "output_type": "execute_result"
    },
    {
     "data": {
      "image/png": "[encoded data removed]",
      "text/plain": [
       "<Figure size 432.125x360 with 1 Axes>"
      ]
     },
     "metadata": {
      "needs_background": "light"
     },
     "output_type": "display_data"
    }
   ],
   "source": [
    "sns.catplot('Loan_Status','ApplicantIncome',data = data,hue = 'Gender')"
   ]
  },
  {
   "cell_type": "markdown",
   "id": "daadace9",
   "metadata": {},
   "source": [
    "From the above observations, most of the applicants who got the loan approved are having an income between the range 150-20000."
   ]
  },
  {
   "cell_type": "code",
   "execution_count": 30,
   "id": "b5c1e068",
   "metadata": {},
   "outputs": [
    {
     "data": {
      "text/plain": [
       "<seaborn.axisgrid.FacetGrid at 0x1e6426322e0>"
      ]
     },
     "execution_count": 30,
     "metadata": {},
     "output_type": "execute_result"
    },
    {
     "data": {
      "image/png": "[encoded data removed]",
      "text/plain": [
       "<Figure size 432.125x360 with 1 Axes>"
      ]
     },
     "metadata": {
      "needs_background": "light"
     },
     "output_type": "display_data"
    }
   ],
   "source": [
    "sns.catplot('Loan_Status','CoapplicantIncome',data = data,hue = 'Gender')"
   ]
  },
  {
   "cell_type": "markdown",
   "id": "b9d7e9cd",
   "metadata": {},
   "source": [
    "From the above observations, most of the applicants who got the loan approved are having the coapplicant with an income between the range 0 to 6000."
   ]
  },
  {
   "cell_type": "code",
   "execution_count": 31,
   "id": "ec4c4723",
   "metadata": {},
   "outputs": [
    {
     "data": {
      "text/plain": [
       "<AxesSubplot:xlabel='Property_Area', ylabel='Loan_Status'>"
      ]
     },
     "execution_count": 31,
     "metadata": {},
     "output_type": "execute_result"
    },
    {
     "data": {
      "image/png": "[encoded data removed]",
      "text/plain": [
       "<Figure size 432x288 with 1 Axes>"
      ]
     },
     "metadata": {
      "needs_background": "light"
     },
     "output_type": "display_data"
    }
   ],
   "source": [
    "sns.stripplot('Property_Area','Loan_Status',data = data, hue='Gender')"
   ]
  },
  {
   "cell_type": "markdown",
   "id": "d55b0e48",
   "metadata": {},
   "source": [
    "From the above observations, loan was approved for applicants who are having property in urban, rural and semiurban areas almost equally."
   ]
  },
  {
   "cell_type": "code",
   "execution_count": 32,
   "id": "cb453297",
   "metadata": {},
   "outputs": [
    {
     "data": {
      "text/plain": [
       "<AxesSubplot:xlabel='Credit_History', ylabel='Loan_Status'>"
      ]
     },
     "execution_count": 32,
     "metadata": {},
     "output_type": "execute_result"
    },
    {
     "data": {
      "image/png": "[encoded data removed]",
      "text/plain": [
       "<Figure size 432x288 with 1 Axes>"
      ]
     },
     "metadata": {
      "needs_background": "light"
     },
     "output_type": "display_data"
    }
   ],
   "source": [
    "sns.lineplot('Credit_History','Loan_Status',data = data, hue='Gender')"
   ]
  },
  {
   "cell_type": "markdown",
   "id": "2dff1903",
   "metadata": {},
   "source": [
    "From the above obseravtions, most of the applicants with good credit history got the loan approved."
   ]
  },
  {
   "cell_type": "markdown",
   "id": "f8c242d9",
   "metadata": {},
   "source": [
    "### Encoding of Categorical data"
   ]
  },
  {
   "cell_type": "code",
   "execution_count": 33,
   "id": "3f0aafa3",
   "metadata": {},
   "outputs": [],
   "source": [
    "from sklearn.preprocessing import OrdinalEncoder\n",
    "from sklearn.preprocessing import LabelEncoder\n",
    "onc = OrdinalEncoder()\n",
    "lnc = LabelEncoder()"
   ]
  },
  {
   "cell_type": "code",
   "execution_count": 34,
   "id": "e8c94ae8",
   "metadata": {},
   "outputs": [
    {
     "data": {
      "text/plain": [
       "Index(['Gender', 'Married', 'Dependents', 'Education', 'Self_Employed',\n",
       "       'Property_Area', 'Loan_Status'],\n",
       "      dtype='object')"
      ]
     },
     "execution_count": 34,
     "metadata": {},
     "output_type": "execute_result"
    }
   ],
   "source": [
    "data.select_dtypes(object).columns"
   ]
  },
  {
   "cell_type": "code",
   "execution_count": 35,
   "id": "1b186dde",
   "metadata": {},
   "outputs": [],
   "source": [
    "data['Loan_Status'] = lnc.fit_transform(data['Loan_Status'].values.reshape(-1,1))    #Label encoding for target or label."
   ]
  },
  {
   "cell_type": "code",
   "execution_count": 36,
   "id": "bb6c0c62",
   "metadata": {},
   "outputs": [],
   "source": [
    "for i in data.columns:\n",
    "    if data[i].dtypes =='object':\n",
    "        data[i] = onc.fit_transform(data[i].values.reshape(-1,1)).astype('int64')    #Ordinal Encoding for the features."
   ]
  },
  {
   "cell_type": "code",
   "execution_count": 37,
   "id": "fb1aa489",
   "metadata": {},
   "outputs": [
    {
     "data": {
      "text/plain": [
       "Gender                 int64\n",
       "Married                int64\n",
       "Dependents             int64\n",
       "Education              int64\n",
       "Self_Employed          int64\n",
       "ApplicantIncome        int64\n",
       "CoapplicantIncome    float64\n",
       "LoanAmount           float64\n",
       "Loan_Amount_Term     float64\n",
       "Credit_History       float64\n",
       "Property_Area          int64\n",
       "Loan_Status            int32\n",
       "dtype: object"
      ]
     },
     "execution_count": 37,
     "metadata": {},
     "output_type": "execute_result"
    }
   ],
   "source": [
    "data.dtypes"
   ]
  },
  {
   "cell_type": "markdown",
   "id": "50bcb5be",
   "metadata": {},
   "source": [
    "We have encoded all the categorical columns in the dataset."
   ]
  },
  {
   "cell_type": "markdown",
   "id": "3a6cc111",
   "metadata": {},
   "source": [
    "### Statistical Summary"
   ]
  },
  {
   "cell_type": "markdown",
   "id": "1694c189",
   "metadata": {},
   "source": [
    "### Describe of the data"
   ]
  },
  {
   "cell_type": "code",
   "execution_count": 38,
   "id": "49e65290",
   "metadata": {},
   "outputs": [
    {
     "data": {
      "text/html": [
       "<div>\n",
       "<style scoped>\n",
       "    .dataframe tbody tr th:only-of-type {\n",
       "        vertical-align: middle;\n",
       "    }\n",
       "\n",
       "    .dataframe tbody tr th {\n",
       "        vertical-align: top;\n",
       "    }\n",
       "\n",
       "    .dataframe thead th {\n",
       "        text-align: right;\n",
       "    }\n",
       "</style>\n",
       "<table border=\"1\" class=\"dataframe\">\n",
       "  <thead>\n",
       "    <tr style=\"text-align: right;\">\n",
       "      <th></th>\n",
       "      <th>Gender</th>\n",
       "      <th>Married</th>\n",
       "      <th>Dependents</th>\n",
       "      <th>Education</th>\n",
       "      <th>Self_Employed</th>\n",
       "      <th>ApplicantIncome</th>\n",
       "      <th>CoapplicantIncome</th>\n",
       "      <th>LoanAmount</th>\n",
       "      <th>Loan_Amount_Term</th>\n",
       "      <th>Credit_History</th>\n",
       "      <th>Property_Area</th>\n",
       "      <th>Loan_Status</th>\n",
       "    </tr>\n",
       "  </thead>\n",
       "  <tbody>\n",
       "    <tr>\n",
       "      <th>count</th>\n",
       "      <td>614.000000</td>\n",
       "      <td>614.000000</td>\n",
       "      <td>614.000000</td>\n",
       "      <td>614.000000</td>\n",
       "      <td>614.000000</td>\n",
       "      <td>614.000000</td>\n",
       "      <td>614.000000</td>\n",
       "      <td>614.000000</td>\n",
       "      <td>614.000000</td>\n",
       "      <td>614.000000</td>\n",
       "      <td>614.000000</td>\n",
       "      <td>614.000000</td>\n",
       "    </tr>\n",
       "    <tr>\n",
       "      <th>mean</th>\n",
       "      <td>0.817590</td>\n",
       "      <td>0.653094</td>\n",
       "      <td>0.744300</td>\n",
       "      <td>0.218241</td>\n",
       "      <td>0.133550</td>\n",
       "      <td>5403.459283</td>\n",
       "      <td>1621.245798</td>\n",
       "      <td>146.412162</td>\n",
       "      <td>342.000000</td>\n",
       "      <td>0.842199</td>\n",
       "      <td>1.037459</td>\n",
       "      <td>0.687296</td>\n",
       "    </tr>\n",
       "    <tr>\n",
       "      <th>std</th>\n",
       "      <td>0.386497</td>\n",
       "      <td>0.476373</td>\n",
       "      <td>1.009623</td>\n",
       "      <td>0.413389</td>\n",
       "      <td>0.340446</td>\n",
       "      <td>6109.041673</td>\n",
       "      <td>2926.248369</td>\n",
       "      <td>84.037468</td>\n",
       "      <td>64.372489</td>\n",
       "      <td>0.349681</td>\n",
       "      <td>0.787482</td>\n",
       "      <td>0.463973</td>\n",
       "    </tr>\n",
       "    <tr>\n",
       "      <th>min</th>\n",
       "      <td>0.000000</td>\n",
       "      <td>0.000000</td>\n",
       "      <td>0.000000</td>\n",
       "      <td>0.000000</td>\n",
       "      <td>0.000000</td>\n",
       "      <td>150.000000</td>\n",
       "      <td>0.000000</td>\n",
       "      <td>9.000000</td>\n",
       "      <td>12.000000</td>\n",
       "      <td>0.000000</td>\n",
       "      <td>0.000000</td>\n",
       "      <td>0.000000</td>\n",
       "    </tr>\n",
       "    <tr>\n",
       "      <th>25%</th>\n",
       "      <td>1.000000</td>\n",
       "      <td>0.000000</td>\n",
       "      <td>0.000000</td>\n",
       "      <td>0.000000</td>\n",
       "      <td>0.000000</td>\n",
       "      <td>2877.500000</td>\n",
       "      <td>0.000000</td>\n",
       "      <td>100.250000</td>\n",
       "      <td>360.000000</td>\n",
       "      <td>1.000000</td>\n",
       "      <td>0.000000</td>\n",
       "      <td>0.000000</td>\n",
       "    </tr>\n",
       "    <tr>\n",
       "      <th>50%</th>\n",
       "      <td>1.000000</td>\n",
       "      <td>1.000000</td>\n",
       "      <td>0.000000</td>\n",
       "      <td>0.000000</td>\n",
       "      <td>0.000000</td>\n",
       "      <td>3812.500000</td>\n",
       "      <td>1188.500000</td>\n",
       "      <td>129.000000</td>\n",
       "      <td>360.000000</td>\n",
       "      <td>1.000000</td>\n",
       "      <td>1.000000</td>\n",
       "      <td>1.000000</td>\n",
       "    </tr>\n",
       "    <tr>\n",
       "      <th>75%</th>\n",
       "      <td>1.000000</td>\n",
       "      <td>1.000000</td>\n",
       "      <td>1.000000</td>\n",
       "      <td>0.000000</td>\n",
       "      <td>0.000000</td>\n",
       "      <td>5795.000000</td>\n",
       "      <td>2297.250000</td>\n",
       "      <td>164.750000</td>\n",
       "      <td>360.000000</td>\n",
       "      <td>1.000000</td>\n",
       "      <td>2.000000</td>\n",
       "      <td>1.000000</td>\n",
       "    </tr>\n",
       "    <tr>\n",
       "      <th>max</th>\n",
       "      <td>1.000000</td>\n",
       "      <td>1.000000</td>\n",
       "      <td>3.000000</td>\n",
       "      <td>1.000000</td>\n",
       "      <td>1.000000</td>\n",
       "      <td>81000.000000</td>\n",
       "      <td>41667.000000</td>\n",
       "      <td>700.000000</td>\n",
       "      <td>480.000000</td>\n",
       "      <td>1.000000</td>\n",
       "      <td>2.000000</td>\n",
       "      <td>1.000000</td>\n",
       "    </tr>\n",
       "  </tbody>\n",
       "</table>\n",
       "</div>"
      ],
      "text/plain": [
       "           Gender     Married  Dependents   Education  Self_Employed  \\\n",
       "count  614.000000  614.000000  614.000000  614.000000     614.000000   \n",
       "mean     0.817590    0.653094    0.744300    0.218241       0.133550   \n",
       "std      0.386497    0.476373    1.009623    0.413389       0.340446   \n",
       "min      0.000000    0.000000    0.000000    0.000000       0.000000   \n",
       "25%      1.000000    0.000000    0.000000    0.000000       0.000000   \n",
       "50%      1.000000    1.000000    0.000000    0.000000       0.000000   \n",
       "75%      1.000000    1.000000    1.000000    0.000000       0.000000   \n",
       "max      1.000000    1.000000    3.000000    1.000000       1.000000   \n",
       "\n",
       "       ApplicantIncome  CoapplicantIncome  LoanAmount  Loan_Amount_Term  \\\n",
       "count       614.000000         614.000000  614.000000        614.000000   \n",
       "mean       5403.459283        1621.245798  146.412162        342.000000   \n",
       "std        6109.041673        2926.248369   84.037468         64.372489   \n",
       "min         150.000000           0.000000    9.000000         12.000000   \n",
       "25%        2877.500000           0.000000  100.250000        360.000000   \n",
       "50%        3812.500000        1188.500000  129.000000        360.000000   \n",
       "75%        5795.000000        2297.250000  164.750000        360.000000   \n",
       "max       81000.000000       41667.000000  700.000000        480.000000   \n",
       "\n",
       "       Credit_History  Property_Area  Loan_Status  \n",
       "count      614.000000     614.000000   614.000000  \n",
       "mean         0.842199       1.037459     0.687296  \n",
       "std          0.349681       0.787482     0.463973  \n",
       "min          0.000000       0.000000     0.000000  \n",
       "25%          1.000000       0.000000     0.000000  \n",
       "50%          1.000000       1.000000     1.000000  \n",
       "75%          1.000000       2.000000     1.000000  \n",
       "max          1.000000       2.000000     1.000000  "
      ]
     },
     "execution_count": 38,
     "metadata": {},
     "output_type": "execute_result"
    }
   ],
   "source": [
    "data.describe()"
   ]
  },
  {
   "cell_type": "code",
   "execution_count": 39,
   "id": "2221cac3",
   "metadata": {},
   "outputs": [
    {
     "data": {
      "text/plain": [
       "<AxesSubplot:>"
      ]
     },
     "execution_count": 39,
     "metadata": {},
     "output_type": "execute_result"
    },
    {
     "data": {
      "image/png": "[encoded data removed]",
      "text/plain": [
       "<Figure size 864x576 with 2 Axes>"
      ]
     },
     "metadata": {
      "needs_background": "light"
     },
     "output_type": "display_data"
    }
   ],
   "source": [
    "plt.figure(figsize=[12,8])\n",
    "sns.heatmap(data.describe()[1:],annot=True,fmt='0.2f')"
   ]
  },
  {
   "cell_type": "markdown",
   "id": "4884afa4",
   "metadata": {},
   "source": [
    "#### Observations:\n",
    "\n",
    "Except the columns **['Gender', 'Married', 'Loan_Term_Amount', 'Credit_History', 'Property_Area', 'Loan_Status']** all other columns are having higher mean value than the median. That means the data in these columns are having skewness in distribution.\n",
    "\n",
    "There is a huge difference between the maximum value and the 75% for the columns **['ApplicantIncome', 'CoapplicantIncome']**. That means possible outliers are present in the data of these columns."
   ]
  },
  {
   "cell_type": "markdown",
   "id": "856f38c9",
   "metadata": {},
   "source": [
    "### Correlation"
   ]
  },
  {
   "cell_type": "code",
   "execution_count": 40,
   "id": "fb6949b6",
   "metadata": {},
   "outputs": [
    {
     "data": {
      "text/html": [
       "<div>\n",
       "<style scoped>\n",
       "    .dataframe tbody tr th:only-of-type {\n",
       "        vertical-align: middle;\n",
       "    }\n",
       "\n",
       "    .dataframe tbody tr th {\n",
       "        vertical-align: top;\n",
       "    }\n",
       "\n",
       "    .dataframe thead th {\n",
       "        text-align: right;\n",
       "    }\n",
       "</style>\n",
       "<table border=\"1\" class=\"dataframe\">\n",
       "  <thead>\n",
       "    <tr style=\"text-align: right;\">\n",
       "      <th></th>\n",
       "      <th>Gender</th>\n",
       "      <th>Married</th>\n",
       "      <th>Dependents</th>\n",
       "      <th>Education</th>\n",
       "      <th>Self_Employed</th>\n",
       "      <th>ApplicantIncome</th>\n",
       "      <th>CoapplicantIncome</th>\n",
       "      <th>LoanAmount</th>\n",
       "      <th>Loan_Amount_Term</th>\n",
       "      <th>Credit_History</th>\n",
       "      <th>Property_Area</th>\n",
       "      <th>Loan_Status</th>\n",
       "    </tr>\n",
       "  </thead>\n",
       "  <tbody>\n",
       "    <tr>\n",
       "      <th>Gender</th>\n",
       "      <td>1.000000</td>\n",
       "      <td>0.364569</td>\n",
       "      <td>0.172914</td>\n",
       "      <td>0.045364</td>\n",
       "      <td>-0.000525</td>\n",
       "      <td>0.058809</td>\n",
       "      <td>0.082912</td>\n",
       "      <td>0.107930</td>\n",
       "      <td>-0.073567</td>\n",
       "      <td>0.012819</td>\n",
       "      <td>-0.025752</td>\n",
       "      <td>0.017987</td>\n",
       "    </tr>\n",
       "    <tr>\n",
       "      <th>Married</th>\n",
       "      <td>0.364569</td>\n",
       "      <td>1.000000</td>\n",
       "      <td>0.334216</td>\n",
       "      <td>0.012304</td>\n",
       "      <td>0.004489</td>\n",
       "      <td>0.051708</td>\n",
       "      <td>0.075948</td>\n",
       "      <td>0.147141</td>\n",
       "      <td>-0.100863</td>\n",
       "      <td>0.005852</td>\n",
       "      <td>0.004257</td>\n",
       "      <td>0.091478</td>\n",
       "    </tr>\n",
       "    <tr>\n",
       "      <th>Dependents</th>\n",
       "      <td>0.172914</td>\n",
       "      <td>0.334216</td>\n",
       "      <td>1.000000</td>\n",
       "      <td>0.055752</td>\n",
       "      <td>0.056798</td>\n",
       "      <td>0.118202</td>\n",
       "      <td>0.030430</td>\n",
       "      <td>0.163106</td>\n",
       "      <td>-0.101054</td>\n",
       "      <td>-0.037392</td>\n",
       "      <td>-0.000244</td>\n",
       "      <td>0.010118</td>\n",
       "    </tr>\n",
       "    <tr>\n",
       "      <th>Education</th>\n",
       "      <td>0.045364</td>\n",
       "      <td>0.012304</td>\n",
       "      <td>0.055752</td>\n",
       "      <td>1.000000</td>\n",
       "      <td>-0.010383</td>\n",
       "      <td>-0.140760</td>\n",
       "      <td>-0.062290</td>\n",
       "      <td>-0.166998</td>\n",
       "      <td>-0.077242</td>\n",
       "      <td>-0.077936</td>\n",
       "      <td>-0.065243</td>\n",
       "      <td>-0.085884</td>\n",
       "    </tr>\n",
       "    <tr>\n",
       "      <th>Self_Employed</th>\n",
       "      <td>-0.000525</td>\n",
       "      <td>0.004489</td>\n",
       "      <td>0.056798</td>\n",
       "      <td>-0.010383</td>\n",
       "      <td>1.000000</td>\n",
       "      <td>0.127180</td>\n",
       "      <td>-0.016100</td>\n",
       "      <td>0.115260</td>\n",
       "      <td>-0.033943</td>\n",
       "      <td>-0.002260</td>\n",
       "      <td>-0.030860</td>\n",
       "      <td>-0.003700</td>\n",
       "    </tr>\n",
       "    <tr>\n",
       "      <th>ApplicantIncome</th>\n",
       "      <td>0.058809</td>\n",
       "      <td>0.051708</td>\n",
       "      <td>0.118202</td>\n",
       "      <td>-0.140760</td>\n",
       "      <td>0.127180</td>\n",
       "      <td>1.000000</td>\n",
       "      <td>-0.116605</td>\n",
       "      <td>0.565620</td>\n",
       "      <td>-0.045242</td>\n",
       "      <td>-0.014477</td>\n",
       "      <td>-0.009500</td>\n",
       "      <td>-0.004710</td>\n",
       "    </tr>\n",
       "    <tr>\n",
       "      <th>CoapplicantIncome</th>\n",
       "      <td>0.082912</td>\n",
       "      <td>0.075948</td>\n",
       "      <td>0.030430</td>\n",
       "      <td>-0.062290</td>\n",
       "      <td>-0.016100</td>\n",
       "      <td>-0.116605</td>\n",
       "      <td>1.000000</td>\n",
       "      <td>0.187828</td>\n",
       "      <td>-0.059675</td>\n",
       "      <td>-0.001665</td>\n",
       "      <td>0.010522</td>\n",
       "      <td>-0.059187</td>\n",
       "    </tr>\n",
       "    <tr>\n",
       "      <th>LoanAmount</th>\n",
       "      <td>0.107930</td>\n",
       "      <td>0.147141</td>\n",
       "      <td>0.163106</td>\n",
       "      <td>-0.166998</td>\n",
       "      <td>0.115260</td>\n",
       "      <td>0.565620</td>\n",
       "      <td>0.187828</td>\n",
       "      <td>1.000000</td>\n",
       "      <td>0.038801</td>\n",
       "      <td>-0.007738</td>\n",
       "      <td>-0.044776</td>\n",
       "      <td>-0.036416</td>\n",
       "    </tr>\n",
       "    <tr>\n",
       "      <th>Loan_Amount_Term</th>\n",
       "      <td>-0.073567</td>\n",
       "      <td>-0.100863</td>\n",
       "      <td>-0.101054</td>\n",
       "      <td>-0.077242</td>\n",
       "      <td>-0.033943</td>\n",
       "      <td>-0.045242</td>\n",
       "      <td>-0.059675</td>\n",
       "      <td>0.038801</td>\n",
       "      <td>1.000000</td>\n",
       "      <td>0.001395</td>\n",
       "      <td>-0.077620</td>\n",
       "      <td>-0.020974</td>\n",
       "    </tr>\n",
       "    <tr>\n",
       "      <th>Credit_History</th>\n",
       "      <td>0.012819</td>\n",
       "      <td>0.005852</td>\n",
       "      <td>-0.037392</td>\n",
       "      <td>-0.077936</td>\n",
       "      <td>-0.002260</td>\n",
       "      <td>-0.014477</td>\n",
       "      <td>-0.001665</td>\n",
       "      <td>-0.007738</td>\n",
       "      <td>0.001395</td>\n",
       "      <td>1.000000</td>\n",
       "      <td>-0.001880</td>\n",
       "      <td>0.540483</td>\n",
       "    </tr>\n",
       "    <tr>\n",
       "      <th>Property_Area</th>\n",
       "      <td>-0.025752</td>\n",
       "      <td>0.004257</td>\n",
       "      <td>-0.000244</td>\n",
       "      <td>-0.065243</td>\n",
       "      <td>-0.030860</td>\n",
       "      <td>-0.009500</td>\n",
       "      <td>0.010522</td>\n",
       "      <td>-0.044776</td>\n",
       "      <td>-0.077620</td>\n",
       "      <td>-0.001880</td>\n",
       "      <td>1.000000</td>\n",
       "      <td>0.032112</td>\n",
       "    </tr>\n",
       "    <tr>\n",
       "      <th>Loan_Status</th>\n",
       "      <td>0.017987</td>\n",
       "      <td>0.091478</td>\n",
       "      <td>0.010118</td>\n",
       "      <td>-0.085884</td>\n",
       "      <td>-0.003700</td>\n",
       "      <td>-0.004710</td>\n",
       "      <td>-0.059187</td>\n",
       "      <td>-0.036416</td>\n",
       "      <td>-0.020974</td>\n",
       "      <td>0.540483</td>\n",
       "      <td>0.032112</td>\n",
       "      <td>1.000000</td>\n",
       "    </tr>\n",
       "  </tbody>\n",
       "</table>\n",
       "</div>"
      ],
      "text/plain": [
       "                     Gender   Married  Dependents  Education  Self_Employed  \\\n",
       "Gender             1.000000  0.364569    0.172914   0.045364      -0.000525   \n",
       "Married            0.364569  1.000000    0.334216   0.012304       0.004489   \n",
       "Dependents         0.172914  0.334216    1.000000   0.055752       0.056798   \n",
       "Education          0.045364  0.012304    0.055752   1.000000      -0.010383   \n",
       "Self_Employed     -0.000525  0.004489    0.056798  -0.010383       1.000000   \n",
       "ApplicantIncome    0.058809  0.051708    0.118202  -0.140760       0.127180   \n",
       "CoapplicantIncome  0.082912  0.075948    0.030430  -0.062290      -0.016100   \n",
       "LoanAmount         0.107930  0.147141    0.163106  -0.166998       0.115260   \n",
       "Loan_Amount_Term  -0.073567 -0.100863   -0.101054  -0.077242      -0.033943   \n",
       "Credit_History     0.012819  0.005852   -0.037392  -0.077936      -0.002260   \n",
       "Property_Area     -0.025752  0.004257   -0.000244  -0.065243      -0.030860   \n",
       "Loan_Status        0.017987  0.091478    0.010118  -0.085884      -0.003700   \n",
       "\n",
       "                   ApplicantIncome  CoapplicantIncome  LoanAmount  \\\n",
       "Gender                    0.058809           0.082912    0.107930   \n",
       "Married                   0.051708           0.075948    0.147141   \n",
       "Dependents                0.118202           0.030430    0.163106   \n",
       "Education                -0.140760          -0.062290   -0.166998   \n",
       "Self_Employed             0.127180          -0.016100    0.115260   \n",
       "ApplicantIncome           1.000000          -0.116605    0.565620   \n",
       "CoapplicantIncome        -0.116605           1.000000    0.187828   \n",
       "LoanAmount                0.565620           0.187828    1.000000   \n",
       "Loan_Amount_Term         -0.045242          -0.059675    0.038801   \n",
       "Credit_History           -0.014477          -0.001665   -0.007738   \n",
       "Property_Area            -0.009500           0.010522   -0.044776   \n",
       "Loan_Status              -0.004710          -0.059187   -0.036416   \n",
       "\n",
       "                   Loan_Amount_Term  Credit_History  Property_Area  \\\n",
       "Gender                    -0.073567        0.012819      -0.025752   \n",
       "Married                   -0.100863        0.005852       0.004257   \n",
       "Dependents                -0.101054       -0.037392      -0.000244   \n",
       "Education                 -0.077242       -0.077936      -0.065243   \n",
       "Self_Employed             -0.033943       -0.002260      -0.030860   \n",
       "ApplicantIncome           -0.045242       -0.014477      -0.009500   \n",
       "CoapplicantIncome         -0.059675       -0.001665       0.010522   \n",
       "LoanAmount                 0.038801       -0.007738      -0.044776   \n",
       "Loan_Amount_Term           1.000000        0.001395      -0.077620   \n",
       "Credit_History             0.001395        1.000000      -0.001880   \n",
       "Property_Area             -0.077620       -0.001880       1.000000   \n",
       "Loan_Status               -0.020974        0.540483       0.032112   \n",
       "\n",
       "                   Loan_Status  \n",
       "Gender                0.017987  \n",
       "Married               0.091478  \n",
       "Dependents            0.010118  \n",
       "Education            -0.085884  \n",
       "Self_Employed        -0.003700  \n",
       "ApplicantIncome      -0.004710  \n",
       "CoapplicantIncome    -0.059187  \n",
       "LoanAmount           -0.036416  \n",
       "Loan_Amount_Term     -0.020974  \n",
       "Credit_History        0.540483  \n",
       "Property_Area         0.032112  \n",
       "Loan_Status           1.000000  "
      ]
     },
     "execution_count": 40,
     "metadata": {},
     "output_type": "execute_result"
    }
   ],
   "source": [
    "Correlation = data.corr()\n",
    "Correlation"
   ]
  },
  {
   "cell_type": "code",
   "execution_count": 41,
   "id": "54aa2bd4",
   "metadata": {},
   "outputs": [
    {
     "data": {
      "text/plain": [
       "<AxesSubplot:>"
      ]
     },
     "execution_count": 41,
     "metadata": {},
     "output_type": "execute_result"
    },
    {
     "data": {
      "image/png": "[encoded data removed]",
      "text/plain": [
       "<Figure size 720x720 with 2 Axes>"
      ]
     },
     "metadata": {
      "needs_background": "light"
     },
     "output_type": "display_data"
    }
   ],
   "source": [
    "#Plotting the correlation of columns\n",
    "plt.figure(figsize=[10,10])\n",
    "sns.heatmap(Correlation,annot = True, fmt = '0.2f',cmap='gnuplot2')"
   ]
  },
  {
   "cell_type": "markdown",
   "id": "dcbf9709",
   "metadata": {},
   "source": [
    "### Correlation with Target Column(Loan_Status)"
   ]
  },
  {
   "cell_type": "code",
   "execution_count": 42,
   "id": "d3af9059",
   "metadata": {},
   "outputs": [
    {
     "name": "stdout",
     "output_type": "stream",
     "text": [
      "Credit_History       0.540483\n",
      "Married              0.091478\n",
      "Property_Area        0.032112\n",
      "Gender               0.017987\n",
      "Dependents           0.010118\n",
      "Self_Employed       -0.003700\n",
      "ApplicantIncome     -0.004710\n",
      "Loan_Amount_Term    -0.020974\n",
      "LoanAmount          -0.036416\n",
      "CoapplicantIncome   -0.059187\n",
      "Education           -0.085884\n",
      "Name: Loan_Status, dtype: float64\n"
     ]
    },
    {
     "data": {
      "image/png": "[encoded data removed]",
      "text/plain": [
       "<Figure size 864x360 with 1 Axes>"
      ]
     },
     "metadata": {
      "needs_background": "light"
     },
     "output_type": "display_data"
    }
   ],
   "source": [
    "print(Correlation['Loan_Status'].drop('Loan_Status').sort_values(ascending = False))\n",
    "plt.figure(figsize = [12,5])\n",
    "Correlation['Loan_Status'].sort_values(ascending= False).drop('Loan_Status').plot(kind = 'bar', color ='crimson')\n",
    "plt.xlabel('Column Names', fontsize = 12)\n",
    "plt.ylabel('Correlation', fontsize = 12)\n",
    "plt.title('Correlation with Target Column')\n",
    "plt.show()"
   ]
  },
  {
   "cell_type": "markdown",
   "id": "24f52fcf",
   "metadata": {},
   "source": [
    "Observations:\n",
    "    \n",
    "1. Except the columns **['Credit_History', 'Married', 'Property_Area', 'Gender', 'Dependents']** all other columns are having negative correlation to the targer variable **'Loan_Status'**.\n",
    "2. The column **'Credit_History'** is having highest positve correlation with the target variable **'Loan_Status'**. The columm **'Education'** is having highest negative correlation with the target variable **'Loan_Status'**.\n",
    "3. The column **'Dependents'** is having least positve correlation to the target variable **'Loan_Status'**. The column **'Self_Employed'** is having least negative correlation to the target variable **'Loan_Status'**."
   ]
  },
  {
   "cell_type": "markdown",
   "id": "aa9ce3a3",
   "metadata": {},
   "source": [
    "### Distribution of data in columns(Checking skewness of data)"
   ]
  },
  {
   "cell_type": "code",
   "execution_count": 43,
   "id": "348ec354",
   "metadata": {},
   "outputs": [
    {
     "data": {
      "image/png": "[encoded data removed]",
      "text/plain": [
       "<Figure size 864x864 with 12 Axes>"
      ]
     },
     "metadata": {
      "needs_background": "light"
     },
     "output_type": "display_data"
    }
   ],
   "source": [
    "plt.figure(figsize = [12,12])\n",
    "for i in range(0,len(data.columns.values)):\n",
    "    plt.subplot(3,5,i+1)\n",
    "    sns.distplot(data[data.columns.values[i]])\n",
    "    plt.tight_layout()"
   ]
  },
  {
   "cell_type": "markdown",
   "id": "b75e64de",
   "metadata": {},
   "source": [
    "The data is not normally distributed for all the columns. Skewness is present in all the columns."
   ]
  },
  {
   "cell_type": "markdown",
   "id": "1a941444",
   "metadata": {},
   "source": [
    "### Skewness"
   ]
  },
  {
   "cell_type": "code",
   "execution_count": 44,
   "id": "05d94ad0",
   "metadata": {},
   "outputs": [
    {
     "data": {
      "text/plain": [
       "CoapplicantIncome    7.491531\n",
       "ApplicantIncome      6.539513\n",
       "LoanAmount           2.726601\n",
       "Self_Employed        2.159796\n",
       "Education            1.367622\n",
       "Dependents           1.015551\n",
       "Property_Area       -0.066196\n",
       "Married             -0.644850\n",
       "Loan_Status         -0.809998\n",
       "Gender              -1.648795\n",
       "Credit_History      -1.963600\n",
       "Loan_Amount_Term    -2.389680\n",
       "dtype: float64"
      ]
     },
     "execution_count": 44,
     "metadata": {},
     "output_type": "execute_result"
    }
   ],
   "source": [
    "Skewness = data.skew()\n",
    "Skewness.sort_values(ascending = False)"
   ]
  },
  {
   "cell_type": "markdown",
   "id": "ab5dadfb",
   "metadata": {},
   "source": [
    "The columns **['CoapplicantIncome', 'ApplicantIncome', 'LoanAmount', 'Self_Employed','Education', 'Dependents']** are having high positive skewness. The columns **['Loan_Amount_Term', 'Credit_History', 'Gender']** are having high negative skewness. We can ignore the encoded variables as they are categorical in nature and skewness irrelevant. "
   ]
  },
  {
   "cell_type": "markdown",
   "id": "fa136645",
   "metadata": {},
   "source": [
    "### Checking the presence of outliers"
   ]
  },
  {
   "cell_type": "code",
   "execution_count": 45,
   "id": "8f50f960",
   "metadata": {},
   "outputs": [
    {
     "data": {
      "image/png": "[encoded data removed]",
      "text/plain": [
       "<Figure size 720x576 with 12 Axes>"
      ]
     },
     "metadata": {
      "needs_background": "light"
     },
     "output_type": "display_data"
    }
   ],
   "source": [
    "#Plotting the data of every columns with boxplot to check the outliers\n",
    "plt.figure(figsize = [10,8])\n",
    "for i in range(0,len(data.columns.values)):\n",
    "    plt.subplot(2,6,i+1)\n",
    "    sns.boxplot(y = data[data.columns.values[i]])\n",
    "    plt.tight_layout()"
   ]
  },
  {
   "cell_type": "markdown",
   "id": "276bb0d8",
   "metadata": {},
   "source": [
    "From the above obseravtions, outliers are present in all the columns except columns **['Married', 'Property_Area', 'Loan_Status']**.\n",
    "\n",
    "We can ignore the columns **['Gender', 'Dependents', 'Education', 'Self_Employed']** as these columns are having categorical data."
   ]
  },
  {
   "cell_type": "markdown",
   "id": "b7c5b5d8",
   "metadata": {},
   "source": [
    "### Data Cleaning"
   ]
  },
  {
   "cell_type": "markdown",
   "id": "045fc4ab",
   "metadata": {},
   "source": [
    "### Checking whether the data is balanced or not"
   ]
  },
  {
   "cell_type": "code",
   "execution_count": 46,
   "id": "26c12777",
   "metadata": {},
   "outputs": [
    {
     "name": "stdout",
     "output_type": "stream",
     "text": [
      "(614, 11)\n",
      "(614,)\n"
     ]
    }
   ],
   "source": [
    "x = data.drop('Loan_Status',axis = 1)\n",
    "y = data['Loan_Status']\n",
    "print(x.shape)\n",
    "print(y.shape)"
   ]
  },
  {
   "cell_type": "code",
   "execution_count": 47,
   "id": "92bd0e75",
   "metadata": {},
   "outputs": [
    {
     "name": "stdout",
     "output_type": "stream",
     "text": [
      "1    422\n",
      "0    192\n",
      "Name: Loan_Status, dtype: int64\n"
     ]
    },
    {
     "data": {
      "image/png": "[encoded data removed]",
      "text/plain": [
       "<Figure size 432x288 with 1 Axes>"
      ]
     },
     "metadata": {
      "needs_background": "light"
     },
     "output_type": "display_data"
    }
   ],
   "source": [
    "sns.countplot(y)\n",
    "print(y.value_counts())"
   ]
  },
  {
   "cell_type": "markdown",
   "id": "3517a5c7",
   "metadata": {},
   "source": [
    "We have huge imbalance in the target data. The data for approved loan applicants are more in the dataset. We can reduce this imbalance of data."
   ]
  },
  {
   "cell_type": "code",
   "execution_count": 48,
   "id": "c8da1249",
   "metadata": {},
   "outputs": [
    {
     "data": {
      "text/plain": [
       "0      1\n",
       "1      0\n",
       "2      1\n",
       "3      1\n",
       "4      1\n",
       "      ..\n",
       "839    0\n",
       "840    0\n",
       "841    0\n",
       "842    0\n",
       "843    0\n",
       "Name: Loan_Status, Length: 844, dtype: int32"
      ]
     },
     "execution_count": 48,
     "metadata": {},
     "output_type": "execute_result"
    }
   ],
   "source": [
    "from imblearn.over_sampling import SMOTE\n",
    "sm = SMOTE()\n",
    "xtrainw, ytrainw = sm.fit_resample(x,y)\n",
    "ytrainw"
   ]
  },
  {
   "cell_type": "code",
   "execution_count": 49,
   "id": "c74a9f08",
   "metadata": {},
   "outputs": [
    {
     "name": "stdout",
     "output_type": "stream",
     "text": [
      "0    422\n",
      "1    422\n",
      "Name: Loan_Status, dtype: int64\n"
     ]
    },
    {
     "data": {
      "image/png": "[encoded data removed]",
      "text/plain": [
       "<Figure size 432x288 with 1 Axes>"
      ]
     },
     "metadata": {
      "needs_background": "light"
     },
     "output_type": "display_data"
    }
   ],
   "source": [
    "sns.countplot(ytrainw)\n",
    "print(ytrainw.value_counts())"
   ]
  },
  {
   "cell_type": "code",
   "execution_count": 50,
   "id": "be998f9f",
   "metadata": {},
   "outputs": [
    {
     "name": "stdout",
     "output_type": "stream",
     "text": [
      "(844, 11)\n",
      "(844,)\n"
     ]
    }
   ],
   "source": [
    "print(xtrainw.shape)\n",
    "print(ytrainw.shape)"
   ]
  },
  {
   "cell_type": "markdown",
   "id": "82bdbed0",
   "metadata": {},
   "source": [
    "Now the data is balanced with equal distribution of data for approved and rejected loan applicants."
   ]
  },
  {
   "cell_type": "markdown",
   "id": "112ea6bd",
   "metadata": {},
   "source": [
    "### Removing the Skewness"
   ]
  },
  {
   "cell_type": "code",
   "execution_count": 51,
   "id": "f7aea52e",
   "metadata": {},
   "outputs": [
    {
     "name": "stdout",
     "output_type": "stream",
     "text": [
      "(844, 11)\n",
      "(844,)\n"
     ]
    }
   ],
   "source": [
    "x = xtrainw.copy()\n",
    "y = ytrainw.copy()\n",
    "print(x.shape)\n",
    "print(y.shape)"
   ]
  },
  {
   "cell_type": "code",
   "execution_count": 52,
   "id": "4ef42702",
   "metadata": {},
   "outputs": [
    {
     "data": {
      "text/plain": [
       "CoapplicantIncome    6.641948\n",
       "ApplicantIncome      6.522410\n",
       "LoanAmount           2.666405\n",
       "Self_Employed        2.615412\n",
       "Education            1.576958\n",
       "Dependents           1.206591\n",
       "Gender              -1.270562\n",
       "Credit_History      -1.294502\n",
       "Loan_Amount_Term    -2.504567\n",
       "dtype: float64"
      ]
     },
     "execution_count": 52,
     "metadata": {},
     "output_type": "execute_result"
    }
   ],
   "source": [
    "#We can set the skewness standard limit as +/-0.5.\n",
    "x.skew().sort_values(ascending=False)[np.abs(x.skew())>0.5]"
   ]
  },
  {
   "cell_type": "markdown",
   "id": "64b0f92f",
   "metadata": {},
   "source": [
    "These are the variables which are having high skewness which is beyond the standard limit. Let's remove the skewness for these columns. We can ignore the categorical columns ['Self_Employed', 'Education', 'Dependents', 'Gender']."
   ]
  },
  {
   "cell_type": "code",
   "execution_count": 53,
   "id": "39cca946",
   "metadata": {},
   "outputs": [],
   "source": [
    "from sklearn.preprocessing import power_transform\n",
    "#user defined function for removing skewness for columns which are beyond standard range\n",
    "def rskew(col):\n",
    "    x[col]=power_transform((x[col].values.reshape(-1,1)))"
   ]
  },
  {
   "cell_type": "code",
   "execution_count": 54,
   "id": "448901db",
   "metadata": {},
   "outputs": [],
   "source": [
    "rskew('CoapplicantIncome')\n",
    "rskew('ApplicantIncome')\n",
    "rskew('LoanAmount')\n",
    "rskew('Credit_History')\n",
    "rskew('Loan_Amount_Term')"
   ]
  },
  {
   "cell_type": "code",
   "execution_count": 55,
   "id": "e4343a26",
   "metadata": {},
   "outputs": [
    {
     "data": {
      "text/plain": [
       "Self_Employed        2.615412\n",
       "Education            1.576958\n",
       "Dependents           1.206591\n",
       "Loan_Amount_Term     0.469934\n",
       "Property_Area        0.115358\n",
       "LoanAmount           0.016739\n",
       "CoapplicantIncome   -0.052482\n",
       "ApplicantIncome     -0.114662\n",
       "Married             -0.292688\n",
       "Credit_History      -0.982857\n",
       "Gender              -1.270562\n",
       "dtype: float64"
      ]
     },
     "execution_count": 55,
     "metadata": {},
     "output_type": "execute_result"
    }
   ],
   "source": [
    "x.skew().sort_values(ascending = False)"
   ]
  },
  {
   "cell_type": "markdown",
   "id": "87c0b8af",
   "metadata": {},
   "source": [
    "Since the column 'Credit_History' is still having high skewness than the standard limit, we can drop this column from the dataset."
   ]
  },
  {
   "cell_type": "code",
   "execution_count": 56,
   "id": "193b1326",
   "metadata": {},
   "outputs": [],
   "source": [
    "x.drop(['Credit_History'],axis = 1, inplace = True)"
   ]
  },
  {
   "cell_type": "code",
   "execution_count": 57,
   "id": "b1cb9c11",
   "metadata": {},
   "outputs": [
    {
     "data": {
      "text/plain": [
       "Self_Employed        2.615412\n",
       "Education            1.576958\n",
       "Dependents           1.206591\n",
       "Loan_Amount_Term     0.469934\n",
       "Property_Area        0.115358\n",
       "LoanAmount           0.016739\n",
       "CoapplicantIncome   -0.052482\n",
       "ApplicantIncome     -0.114662\n",
       "Married             -0.292688\n",
       "Gender              -1.270562\n",
       "dtype: float64"
      ]
     },
     "execution_count": 57,
     "metadata": {},
     "output_type": "execute_result"
    }
   ],
   "source": [
    "x.skew().sort_values(ascending = False)"
   ]
  },
  {
   "cell_type": "markdown",
   "id": "eeec33bd",
   "metadata": {},
   "source": [
    "The skewness for the numerical data has been removed."
   ]
  },
  {
   "cell_type": "markdown",
   "id": "9b492067",
   "metadata": {},
   "source": [
    "### Removing the Outliers"
   ]
  },
  {
   "cell_type": "markdown",
   "id": "d183002c",
   "metadata": {},
   "source": [
    "#### Using ZScore method"
   ]
  },
  {
   "cell_type": "code",
   "execution_count": 58,
   "id": "141b9c81",
   "metadata": {},
   "outputs": [
    {
     "data": {
      "text/plain": [
       "array([[1.15669795, 0.56948444, 1.04725357, 0.2352262 , 0.17670202,\n",
       "        1.37409865],\n",
       "       [0.86452993, 0.18370237, 0.81214151, 0.04914926, 0.17670202,\n",
       "        1.20309971],\n",
       "       [0.86452993, 0.51634371, 1.04725357, 1.42159256, 0.17670202,\n",
       "        1.37409865],\n",
       "       ...,\n",
       "       [1.15669795, 0.09510281, 0.58308283, 0.72061469, 0.17670202,\n",
       "        0.08549947],\n",
       "       [1.15669795, 0.90591698, 1.04725357, 3.19445691, 0.17670202,\n",
       "        1.37409865],\n",
       "       [0.86452993, 0.32233281, 0.91605252, 0.06440776, 0.17670202,\n",
       "        1.20309971]])"
      ]
     },
     "execution_count": 58,
     "metadata": {},
     "output_type": "execute_result"
    }
   ],
   "source": [
    "from scipy.stats import zscore\n",
    "df = x.copy()\n",
    "df['Loan_Status'] = y.copy()\n",
    "df.drop(['Gender', 'Dependents', 'Education', 'Self_Employed','Loan_Status'],axis = 1, inplace = True)    #removing the categorical column from the dataset before removing outliers.\n",
    "z = np.abs(zscore(df))\n",
    "z"
   ]
  },
  {
   "cell_type": "code",
   "execution_count": 59,
   "id": "98ca7de6",
   "metadata": {},
   "outputs": [
    {
     "data": {
      "text/html": [
       "<div>\n",
       "<style scoped>\n",
       "    .dataframe tbody tr th:only-of-type {\n",
       "        vertical-align: middle;\n",
       "    }\n",
       "\n",
       "    .dataframe tbody tr th {\n",
       "        vertical-align: top;\n",
       "    }\n",
       "\n",
       "    .dataframe thead th {\n",
       "        text-align: right;\n",
       "    }\n",
       "</style>\n",
       "<table border=\"1\" class=\"dataframe\">\n",
       "  <thead>\n",
       "    <tr style=\"text-align: right;\">\n",
       "      <th></th>\n",
       "      <th>Married</th>\n",
       "      <th>ApplicantIncome</th>\n",
       "      <th>CoapplicantIncome</th>\n",
       "      <th>LoanAmount</th>\n",
       "      <th>Loan_Amount_Term</th>\n",
       "      <th>Property_Area</th>\n",
       "      <th>Gender</th>\n",
       "      <th>Dependents</th>\n",
       "      <th>Education</th>\n",
       "      <th>Self_Employed</th>\n",
       "      <th>Loan_Status</th>\n",
       "    </tr>\n",
       "  </thead>\n",
       "  <tbody>\n",
       "    <tr>\n",
       "      <th>0</th>\n",
       "      <td>0</td>\n",
       "      <td>0.569484</td>\n",
       "      <td>-1.047254</td>\n",
       "      <td>0.235226</td>\n",
       "      <td>0.176702</td>\n",
       "      <td>2</td>\n",
       "      <td>1</td>\n",
       "      <td>0</td>\n",
       "      <td>0</td>\n",
       "      <td>0</td>\n",
       "      <td>1</td>\n",
       "    </tr>\n",
       "    <tr>\n",
       "      <th>1</th>\n",
       "      <td>1</td>\n",
       "      <td>0.183702</td>\n",
       "      <td>0.812142</td>\n",
       "      <td>-0.049149</td>\n",
       "      <td>0.176702</td>\n",
       "      <td>0</td>\n",
       "      <td>1</td>\n",
       "      <td>1</td>\n",
       "      <td>0</td>\n",
       "      <td>0</td>\n",
       "      <td>0</td>\n",
       "    </tr>\n",
       "    <tr>\n",
       "      <th>2</th>\n",
       "      <td>1</td>\n",
       "      <td>-0.516344</td>\n",
       "      <td>-1.047254</td>\n",
       "      <td>-1.421593</td>\n",
       "      <td>0.176702</td>\n",
       "      <td>2</td>\n",
       "      <td>1</td>\n",
       "      <td>0</td>\n",
       "      <td>0</td>\n",
       "      <td>1</td>\n",
       "      <td>1</td>\n",
       "    </tr>\n",
       "    <tr>\n",
       "      <th>3</th>\n",
       "      <td>1</td>\n",
       "      <td>-0.772968</td>\n",
       "      <td>0.935123</td>\n",
       "      <td>-0.185017</td>\n",
       "      <td>0.176702</td>\n",
       "      <td>2</td>\n",
       "      <td>1</td>\n",
       "      <td>0</td>\n",
       "      <td>1</td>\n",
       "      <td>0</td>\n",
       "      <td>1</td>\n",
       "    </tr>\n",
       "    <tr>\n",
       "      <th>4</th>\n",
       "      <td>0</td>\n",
       "      <td>0.609095</td>\n",
       "      <td>-1.047254</td>\n",
       "      <td>0.155331</td>\n",
       "      <td>0.176702</td>\n",
       "      <td>2</td>\n",
       "      <td>1</td>\n",
       "      <td>0</td>\n",
       "      <td>0</td>\n",
       "      <td>0</td>\n",
       "      <td>1</td>\n",
       "    </tr>\n",
       "    <tr>\n",
       "      <th>...</th>\n",
       "      <td>...</td>\n",
       "      <td>...</td>\n",
       "      <td>...</td>\n",
       "      <td>...</td>\n",
       "      <td>...</td>\n",
       "      <td>...</td>\n",
       "      <td>...</td>\n",
       "      <td>...</td>\n",
       "      <td>...</td>\n",
       "      <td>...</td>\n",
       "      <td>...</td>\n",
       "    </tr>\n",
       "    <tr>\n",
       "      <th>838</th>\n",
       "      <td>1</td>\n",
       "      <td>-0.165937</td>\n",
       "      <td>0.992488</td>\n",
       "      <td>0.277939</td>\n",
       "      <td>0.176702</td>\n",
       "      <td>0</td>\n",
       "      <td>1</td>\n",
       "      <td>1</td>\n",
       "      <td>0</td>\n",
       "      <td>0</td>\n",
       "      <td>0</td>\n",
       "    </tr>\n",
       "    <tr>\n",
       "      <th>839</th>\n",
       "      <td>0</td>\n",
       "      <td>0.233314</td>\n",
       "      <td>-1.047254</td>\n",
       "      <td>-0.953078</td>\n",
       "      <td>0.112913</td>\n",
       "      <td>1</td>\n",
       "      <td>0</td>\n",
       "      <td>1</td>\n",
       "      <td>0</td>\n",
       "      <td>0</td>\n",
       "      <td>0</td>\n",
       "    </tr>\n",
       "    <tr>\n",
       "      <th>840</th>\n",
       "      <td>1</td>\n",
       "      <td>-0.847126</td>\n",
       "      <td>0.915419</td>\n",
       "      <td>0.488587</td>\n",
       "      <td>-1.277316</td>\n",
       "      <td>2</td>\n",
       "      <td>1</td>\n",
       "      <td>0</td>\n",
       "      <td>1</td>\n",
       "      <td>0</td>\n",
       "      <td>0</td>\n",
       "    </tr>\n",
       "    <tr>\n",
       "      <th>841</th>\n",
       "      <td>0</td>\n",
       "      <td>0.095103</td>\n",
       "      <td>0.583083</td>\n",
       "      <td>-0.720615</td>\n",
       "      <td>0.176702</td>\n",
       "      <td>1</td>\n",
       "      <td>0</td>\n",
       "      <td>0</td>\n",
       "      <td>0</td>\n",
       "      <td>0</td>\n",
       "      <td>0</td>\n",
       "    </tr>\n",
       "    <tr>\n",
       "      <th>843</th>\n",
       "      <td>1</td>\n",
       "      <td>-0.322333</td>\n",
       "      <td>0.916053</td>\n",
       "      <td>0.064408</td>\n",
       "      <td>0.176702</td>\n",
       "      <td>0</td>\n",
       "      <td>1</td>\n",
       "      <td>0</td>\n",
       "      <td>0</td>\n",
       "      <td>0</td>\n",
       "      <td>0</td>\n",
       "    </tr>\n",
       "  </tbody>\n",
       "</table>\n",
       "<p>806 rows × 11 columns</p>\n",
       "</div>"
      ],
      "text/plain": [
       "     Married  ApplicantIncome  CoapplicantIncome  LoanAmount  \\\n",
       "0          0         0.569484          -1.047254    0.235226   \n",
       "1          1         0.183702           0.812142   -0.049149   \n",
       "2          1        -0.516344          -1.047254   -1.421593   \n",
       "3          1        -0.772968           0.935123   -0.185017   \n",
       "4          0         0.609095          -1.047254    0.155331   \n",
       "..       ...              ...                ...         ...   \n",
       "838        1        -0.165937           0.992488    0.277939   \n",
       "839        0         0.233314          -1.047254   -0.953078   \n",
       "840        1        -0.847126           0.915419    0.488587   \n",
       "841        0         0.095103           0.583083   -0.720615   \n",
       "843        1        -0.322333           0.916053    0.064408   \n",
       "\n",
       "     Loan_Amount_Term  Property_Area  Gender  Dependents  Education  \\\n",
       "0            0.176702              2       1           0          0   \n",
       "1            0.176702              0       1           1          0   \n",
       "2            0.176702              2       1           0          0   \n",
       "3            0.176702              2       1           0          1   \n",
       "4            0.176702              2       1           0          0   \n",
       "..                ...            ...     ...         ...        ...   \n",
       "838          0.176702              0       1           1          0   \n",
       "839          0.112913              1       0           1          0   \n",
       "840         -1.277316              2       1           0          1   \n",
       "841          0.176702              1       0           0          0   \n",
       "843          0.176702              0       1           0          0   \n",
       "\n",
       "     Self_Employed  Loan_Status  \n",
       "0                0            1  \n",
       "1                0            0  \n",
       "2                1            1  \n",
       "3                0            1  \n",
       "4                0            1  \n",
       "..             ...          ...  \n",
       "838              0            0  \n",
       "839              0            0  \n",
       "840              0            0  \n",
       "841              0            0  \n",
       "843              0            0  \n",
       "\n",
       "[806 rows x 11 columns]"
      ]
     },
     "execution_count": 59,
     "metadata": {},
     "output_type": "execute_result"
    }
   ],
   "source": [
    "threshold = 3\n",
    "df_new = df[(z<3).all(axis=1)]\n",
    "df_new['Gender'] = x['Gender']\n",
    "df_new['Dependents'] = x['Dependents']\n",
    "df_new['Education'] = x['Education']\n",
    "df_new['Self_Employed'] = x['Self_Employed']\n",
    "df_new['Loan_Status'] = y.copy()\n",
    "df_new"
   ]
  },
  {
   "cell_type": "code",
   "execution_count": 60,
   "id": "5b125c83",
   "metadata": {},
   "outputs": [
    {
     "data": {
      "text/plain": [
       "(844, 11)"
      ]
     },
     "execution_count": 60,
     "metadata": {},
     "output_type": "execute_result"
    }
   ],
   "source": [
    "df['Gender'] = x['Gender']\n",
    "df['Dependents'] = x['Dependents']\n",
    "df['Education'] = x['Education']\n",
    "df['Self_Employed'] = x['Self_Employed']\n",
    "df['Loan_Status'] = y.copy()\n",
    "df.shape"
   ]
  },
  {
   "cell_type": "code",
   "execution_count": 61,
   "id": "6716ce81",
   "metadata": {},
   "outputs": [
    {
     "data": {
      "text/plain": [
       "(806, 11)"
      ]
     },
     "execution_count": 61,
     "metadata": {},
     "output_type": "execute_result"
    }
   ],
   "source": [
    "df_new.shape"
   ]
  },
  {
   "cell_type": "code",
   "execution_count": 62,
   "id": "34724692",
   "metadata": {},
   "outputs": [
    {
     "data": {
      "text/plain": [
       "4.502369668246446"
      ]
     },
     "execution_count": 62,
     "metadata": {},
     "output_type": "execute_result"
    }
   ],
   "source": [
    "data_loss = (df.shape[0]-df_new.shape[0])/df.shape[0]*100\n",
    "data_loss"
   ]
  },
  {
   "cell_type": "markdown",
   "id": "5be768bb",
   "metadata": {},
   "source": [
    "We are losing only 4.62% of data after removing outliers using zscore method."
   ]
  },
  {
   "cell_type": "markdown",
   "id": "845ee9e8",
   "metadata": {},
   "source": [
    "#### Using Inter Quartile range method"
   ]
  },
  {
   "cell_type": "code",
   "execution_count": 63,
   "id": "750c3db7",
   "metadata": {},
   "outputs": [],
   "source": [
    "x1 = x.drop(['Gender', 'Dependents', 'Education', 'Self_Employed'],axis = 1)\n",
    "# 1st quantile\n",
    "\n",
    "Q1=x.quantile(0.25)\n",
    "\n",
    "# 3rd quantile\n",
    "Q3=x.quantile(0.75)\n",
    "\n",
    "# IQR\n",
    "IQR=Q3 - Q1\n",
    "df.drop(['Gender', 'Dependents', 'Education', 'Self_Employed','Loan_Status'],axis = 1,inplace = True)\n",
    "df_1=df[~((df < (Q1 - 1.5 * IQR)) |(df > (Q3 + 1.5 * IQR))).any(axis=1)]"
   ]
  },
  {
   "cell_type": "code",
   "execution_count": 64,
   "id": "aeb455fe",
   "metadata": {},
   "outputs": [
    {
     "data": {
      "text/plain": [
       "(619, 11)"
      ]
     },
     "execution_count": 64,
     "metadata": {},
     "output_type": "execute_result"
    }
   ],
   "source": [
    "df_1['Gender'] = x['Gender']\n",
    "df_1['Dependents'] = x['Dependents']\n",
    "df_1['Education'] = x['Education']\n",
    "df_1['Self_Employed'] = x['Self_Employed']\n",
    "df_1['Loan_Status'] = y.copy()\n",
    "df_1.shape"
   ]
  },
  {
   "cell_type": "code",
   "execution_count": 65,
   "id": "496c81a2",
   "metadata": {},
   "outputs": [
    {
     "data": {
      "text/plain": [
       "(844, 11)"
      ]
     },
     "execution_count": 65,
     "metadata": {},
     "output_type": "execute_result"
    }
   ],
   "source": [
    "df['Gender'] = x['Gender']\n",
    "df['Dependents'] = x['Dependents']\n",
    "df['Education'] = x['Education']\n",
    "df['Self_Employed'] = x['Self_Employed']\n",
    "df['Loan_Status'] = y.copy()\n",
    "df.shape"
   ]
  },
  {
   "cell_type": "code",
   "execution_count": 66,
   "id": "e49001e1",
   "metadata": {},
   "outputs": [
    {
     "data": {
      "text/plain": [
       "26.658767772511847"
      ]
     },
     "execution_count": 66,
     "metadata": {},
     "output_type": "execute_result"
    }
   ],
   "source": [
    "data_loss = (df.shape[0]-df_1.shape[0])/df.shape[0]*100\n",
    "data_loss"
   ]
  },
  {
   "cell_type": "markdown",
   "id": "9ee200e2",
   "metadata": {},
   "source": [
    "We are losing 28.67% of data after removing outliers using IQR method which is a huge loss of data. So we can stick to the ZScore method as it is losing only 4.62% of data after removing outliers."
   ]
  },
  {
   "cell_type": "markdown",
   "id": "73d950c3",
   "metadata": {},
   "source": [
    "### Checking the Multicolinearity of variables in the dataframe"
   ]
  },
  {
   "cell_type": "code",
   "execution_count": 67,
   "id": "0bc4241a",
   "metadata": {},
   "outputs": [
    {
     "name": "stdout",
     "output_type": "stream",
     "text": [
      "(806, 10)\n",
      "(806,)\n"
     ]
    }
   ],
   "source": [
    "x = df_new.drop('Loan_Status',axis = 1)\n",
    "y = df_new['Loan_Status']\n",
    "c = x.columns\n",
    "print(x.shape)\n",
    "print(y.shape)"
   ]
  },
  {
   "cell_type": "code",
   "execution_count": 68,
   "id": "2ef0ffcb",
   "metadata": {},
   "outputs": [
    {
     "data": {
      "text/html": [
       "<div>\n",
       "<style scoped>\n",
       "    .dataframe tbody tr th:only-of-type {\n",
       "        vertical-align: middle;\n",
       "    }\n",
       "\n",
       "    .dataframe tbody tr th {\n",
       "        vertical-align: top;\n",
       "    }\n",
       "\n",
       "    .dataframe thead th {\n",
       "        text-align: right;\n",
       "    }\n",
       "</style>\n",
       "<table border=\"1\" class=\"dataframe\">\n",
       "  <thead>\n",
       "    <tr style=\"text-align: right;\">\n",
       "      <th></th>\n",
       "      <th>Married</th>\n",
       "      <th>ApplicantIncome</th>\n",
       "      <th>CoapplicantIncome</th>\n",
       "      <th>LoanAmount</th>\n",
       "      <th>Loan_Amount_Term</th>\n",
       "      <th>Property_Area</th>\n",
       "      <th>Gender</th>\n",
       "      <th>Dependents</th>\n",
       "      <th>Education</th>\n",
       "      <th>Self_Employed</th>\n",
       "    </tr>\n",
       "  </thead>\n",
       "  <tbody>\n",
       "    <tr>\n",
       "      <th>0</th>\n",
       "      <td>-1.155955</td>\n",
       "      <td>0.670973</td>\n",
       "      <td>-1.050256</td>\n",
       "      <td>0.267667</td>\n",
       "      <td>0.320898</td>\n",
       "      <td>1.384721</td>\n",
       "      <td>0.549636</td>\n",
       "      <td>-0.688597</td>\n",
       "      <td>-0.48795</td>\n",
       "      <td>-0.336541</td>\n",
       "    </tr>\n",
       "    <tr>\n",
       "      <th>1</th>\n",
       "      <td>0.865086</td>\n",
       "      <td>0.220837</td>\n",
       "      <td>0.810509</td>\n",
       "      <td>-0.047979</td>\n",
       "      <td>0.320898</td>\n",
       "      <td>-1.189870</td>\n",
       "      <td>0.549636</td>\n",
       "      <td>0.380785</td>\n",
       "      <td>-0.48795</td>\n",
       "      <td>-0.336541</td>\n",
       "    </tr>\n",
       "    <tr>\n",
       "      <th>2</th>\n",
       "      <td>0.865086</td>\n",
       "      <td>-0.595989</td>\n",
       "      <td>-1.050256</td>\n",
       "      <td>-1.571339</td>\n",
       "      <td>0.320898</td>\n",
       "      <td>1.384721</td>\n",
       "      <td>0.549636</td>\n",
       "      <td>-0.688597</td>\n",
       "      <td>-0.48795</td>\n",
       "      <td>2.971408</td>\n",
       "    </tr>\n",
       "    <tr>\n",
       "      <th>3</th>\n",
       "      <td>0.865086</td>\n",
       "      <td>-0.895421</td>\n",
       "      <td>0.933580</td>\n",
       "      <td>-0.198788</td>\n",
       "      <td>0.320898</td>\n",
       "      <td>1.384721</td>\n",
       "      <td>0.549636</td>\n",
       "      <td>-0.688597</td>\n",
       "      <td>2.04939</td>\n",
       "      <td>-0.336541</td>\n",
       "    </tr>\n",
       "    <tr>\n",
       "      <th>4</th>\n",
       "      <td>-1.155955</td>\n",
       "      <td>0.717191</td>\n",
       "      <td>-1.050256</td>\n",
       "      <td>0.178986</td>\n",
       "      <td>0.320898</td>\n",
       "      <td>1.384721</td>\n",
       "      <td>0.549636</td>\n",
       "      <td>-0.688597</td>\n",
       "      <td>-0.48795</td>\n",
       "      <td>-0.336541</td>\n",
       "    </tr>\n",
       "    <tr>\n",
       "      <th>...</th>\n",
       "      <td>...</td>\n",
       "      <td>...</td>\n",
       "      <td>...</td>\n",
       "      <td>...</td>\n",
       "      <td>...</td>\n",
       "      <td>...</td>\n",
       "      <td>...</td>\n",
       "      <td>...</td>\n",
       "      <td>...</td>\n",
       "      <td>...</td>\n",
       "    </tr>\n",
       "    <tr>\n",
       "      <th>801</th>\n",
       "      <td>0.865086</td>\n",
       "      <td>-0.187129</td>\n",
       "      <td>0.990988</td>\n",
       "      <td>0.315076</td>\n",
       "      <td>0.320898</td>\n",
       "      <td>-1.189870</td>\n",
       "      <td>0.549636</td>\n",
       "      <td>0.380785</td>\n",
       "      <td>-0.48795</td>\n",
       "      <td>-0.336541</td>\n",
       "    </tr>\n",
       "    <tr>\n",
       "      <th>802</th>\n",
       "      <td>-1.155955</td>\n",
       "      <td>0.278725</td>\n",
       "      <td>-1.050256</td>\n",
       "      <td>-1.051306</td>\n",
       "      <td>0.238780</td>\n",
       "      <td>0.097426</td>\n",
       "      <td>-1.819385</td>\n",
       "      <td>0.380785</td>\n",
       "      <td>-0.48795</td>\n",
       "      <td>-0.336541</td>\n",
       "    </tr>\n",
       "    <tr>\n",
       "      <th>803</th>\n",
       "      <td>0.865086</td>\n",
       "      <td>-0.981951</td>\n",
       "      <td>0.913862</td>\n",
       "      <td>0.548888</td>\n",
       "      <td>-1.550910</td>\n",
       "      <td>1.384721</td>\n",
       "      <td>0.549636</td>\n",
       "      <td>-0.688597</td>\n",
       "      <td>2.04939</td>\n",
       "      <td>-0.336541</td>\n",
       "    </tr>\n",
       "    <tr>\n",
       "      <th>804</th>\n",
       "      <td>-1.155955</td>\n",
       "      <td>0.117457</td>\n",
       "      <td>0.581281</td>\n",
       "      <td>-0.793280</td>\n",
       "      <td>0.320898</td>\n",
       "      <td>0.097426</td>\n",
       "      <td>-1.819385</td>\n",
       "      <td>-0.688597</td>\n",
       "      <td>-0.48795</td>\n",
       "      <td>-0.336541</td>\n",
       "    </tr>\n",
       "    <tr>\n",
       "      <th>805</th>\n",
       "      <td>0.865086</td>\n",
       "      <td>-0.369613</td>\n",
       "      <td>0.914496</td>\n",
       "      <td>0.078065</td>\n",
       "      <td>0.320898</td>\n",
       "      <td>-1.189870</td>\n",
       "      <td>0.549636</td>\n",
       "      <td>-0.688597</td>\n",
       "      <td>-0.48795</td>\n",
       "      <td>-0.336541</td>\n",
       "    </tr>\n",
       "  </tbody>\n",
       "</table>\n",
       "<p>806 rows × 10 columns</p>\n",
       "</div>"
      ],
      "text/plain": [
       "      Married  ApplicantIncome  CoapplicantIncome  LoanAmount  \\\n",
       "0   -1.155955         0.670973          -1.050256    0.267667   \n",
       "1    0.865086         0.220837           0.810509   -0.047979   \n",
       "2    0.865086        -0.595989          -1.050256   -1.571339   \n",
       "3    0.865086        -0.895421           0.933580   -0.198788   \n",
       "4   -1.155955         0.717191          -1.050256    0.178986   \n",
       "..        ...              ...                ...         ...   \n",
       "801  0.865086        -0.187129           0.990988    0.315076   \n",
       "802 -1.155955         0.278725          -1.050256   -1.051306   \n",
       "803  0.865086        -0.981951           0.913862    0.548888   \n",
       "804 -1.155955         0.117457           0.581281   -0.793280   \n",
       "805  0.865086        -0.369613           0.914496    0.078065   \n",
       "\n",
       "     Loan_Amount_Term  Property_Area    Gender  Dependents  Education  \\\n",
       "0            0.320898       1.384721  0.549636   -0.688597   -0.48795   \n",
       "1            0.320898      -1.189870  0.549636    0.380785   -0.48795   \n",
       "2            0.320898       1.384721  0.549636   -0.688597   -0.48795   \n",
       "3            0.320898       1.384721  0.549636   -0.688597    2.04939   \n",
       "4            0.320898       1.384721  0.549636   -0.688597   -0.48795   \n",
       "..                ...            ...       ...         ...        ...   \n",
       "801          0.320898      -1.189870  0.549636    0.380785   -0.48795   \n",
       "802          0.238780       0.097426 -1.819385    0.380785   -0.48795   \n",
       "803         -1.550910       1.384721  0.549636   -0.688597    2.04939   \n",
       "804          0.320898       0.097426 -1.819385   -0.688597   -0.48795   \n",
       "805          0.320898      -1.189870  0.549636   -0.688597   -0.48795   \n",
       "\n",
       "     Self_Employed  \n",
       "0        -0.336541  \n",
       "1        -0.336541  \n",
       "2         2.971408  \n",
       "3        -0.336541  \n",
       "4        -0.336541  \n",
       "..             ...  \n",
       "801      -0.336541  \n",
       "802      -0.336541  \n",
       "803      -0.336541  \n",
       "804      -0.336541  \n",
       "805      -0.336541  \n",
       "\n",
       "[806 rows x 10 columns]"
      ]
     },
     "execution_count": 68,
     "metadata": {},
     "output_type": "execute_result"
    }
   ],
   "source": [
    "#Scaling the data using standardscaler\n",
    "from sklearn.preprocessing import StandardScaler\n",
    "sc = StandardScaler()\n",
    "x = sc.fit_transform(x)\n",
    "x = pd.DataFrame(x,columns = c)\n",
    "x"
   ]
  },
  {
   "cell_type": "code",
   "execution_count": 69,
   "id": "cc99136b",
   "metadata": {},
   "outputs": [],
   "source": [
    "from statsmodels.stats.outliers_influence import variance_inflation_factor\n",
    "\n",
    "def calc_vif(x):\n",
    "    vif = pd.DataFrame()\n",
    "    vif['Column Name'] = x.columns\n",
    "    vif['VIF Factor'] = [variance_inflation_factor(x.values,i) for i in range(x.shape[1])]\n",
    "    return(vif)"
   ]
  },
  {
   "cell_type": "code",
   "execution_count": 70,
   "id": "f6daa3b8",
   "metadata": {},
   "outputs": [
    {
     "data": {
      "text/html": [
       "<div>\n",
       "<style scoped>\n",
       "    .dataframe tbody tr th:only-of-type {\n",
       "        vertical-align: middle;\n",
       "    }\n",
       "\n",
       "    .dataframe tbody tr th {\n",
       "        vertical-align: top;\n",
       "    }\n",
       "\n",
       "    .dataframe thead th {\n",
       "        text-align: right;\n",
       "    }\n",
       "</style>\n",
       "<table border=\"1\" class=\"dataframe\">\n",
       "  <thead>\n",
       "    <tr style=\"text-align: right;\">\n",
       "      <th></th>\n",
       "      <th>Column Name</th>\n",
       "      <th>VIF Factor</th>\n",
       "    </tr>\n",
       "  </thead>\n",
       "  <tbody>\n",
       "    <tr>\n",
       "      <th>0</th>\n",
       "      <td>Married</td>\n",
       "      <td>1.456350</td>\n",
       "    </tr>\n",
       "    <tr>\n",
       "      <th>1</th>\n",
       "      <td>ApplicantIncome</td>\n",
       "      <td>1.916485</td>\n",
       "    </tr>\n",
       "    <tr>\n",
       "      <th>2</th>\n",
       "      <td>CoapplicantIncome</td>\n",
       "      <td>1.722015</td>\n",
       "    </tr>\n",
       "    <tr>\n",
       "      <th>3</th>\n",
       "      <td>LoanAmount</td>\n",
       "      <td>1.696635</td>\n",
       "    </tr>\n",
       "    <tr>\n",
       "      <th>4</th>\n",
       "      <td>Loan_Amount_Term</td>\n",
       "      <td>1.057594</td>\n",
       "    </tr>\n",
       "    <tr>\n",
       "      <th>5</th>\n",
       "      <td>Property_Area</td>\n",
       "      <td>1.036199</td>\n",
       "    </tr>\n",
       "    <tr>\n",
       "      <th>6</th>\n",
       "      <td>Gender</td>\n",
       "      <td>1.271773</td>\n",
       "    </tr>\n",
       "    <tr>\n",
       "      <th>7</th>\n",
       "      <td>Dependents</td>\n",
       "      <td>1.183963</td>\n",
       "    </tr>\n",
       "    <tr>\n",
       "      <th>8</th>\n",
       "      <td>Education</td>\n",
       "      <td>1.070358</td>\n",
       "    </tr>\n",
       "    <tr>\n",
       "      <th>9</th>\n",
       "      <td>Self_Employed</td>\n",
       "      <td>1.051367</td>\n",
       "    </tr>\n",
       "  </tbody>\n",
       "</table>\n",
       "</div>"
      ],
      "text/plain": [
       "         Column Name  VIF Factor\n",
       "0            Married    1.456350\n",
       "1    ApplicantIncome    1.916485\n",
       "2  CoapplicantIncome    1.722015\n",
       "3         LoanAmount    1.696635\n",
       "4   Loan_Amount_Term    1.057594\n",
       "5      Property_Area    1.036199\n",
       "6             Gender    1.271773\n",
       "7         Dependents    1.183963\n",
       "8          Education    1.070358\n",
       "9      Self_Employed    1.051367"
      ]
     },
     "execution_count": 70,
     "metadata": {},
     "output_type": "execute_result"
    }
   ],
   "source": [
    "calc_vif(x)"
   ]
  },
  {
   "cell_type": "markdown",
   "id": "de0931dc",
   "metadata": {},
   "source": [
    "We don't have much variance of inflation for the variables in the dataset which is a good sign that there is no multicolinearity between the variables in the dataset."
   ]
  },
  {
   "cell_type": "code",
   "execution_count": 71,
   "id": "23c86543",
   "metadata": {},
   "outputs": [],
   "source": [
    "#Steps performed till now\n",
    "#1. Loaded the data\n",
    "#2. Checked shape(rows and columns), data types, count of unique values in each columns.\n",
    "#3. Features(Independent) and target(dependent) in the dataset\n",
    "#4. Explored non-null values and unique values in categorical variables.\n",
    "    #dropped column 'Loan_ID' as it is used just for identification purpose.\n",
    "#5. Checked for missing values\n",
    "#6. Imputed mean value for missing value in continuous variable and mode value in categorical variable\n",
    "#7. Data visualization\n",
    "    #Univariate analysis - Using histogramplot, countplot\n",
    "    #Bivariate analysis - lineplot, catplot, stripplot\n",
    "#8. Encoded the categorical data in variables.\n",
    "    #Label encoding - for target variable \n",
    "    #Ordinal Encoding for categorical features.  \n",
    "#Statistical Summary\n",
    "#9. Describe of the data\n",
    "#10.Correlation\n",
    "#11. Correlation with target variable\n",
    "#12. Checked distribution of data in columns(Checking skewness of data)\n",
    "#13. Checked skewness of data\n",
    "#14. Checked presense of outliers\n",
    "#Data Cleansing\n",
    "#15. Checked and removed imbalance of data\n",
    "#16. Removed the Skewness of data\n",
    "    #Dropped columns ['Credit_History'] as there was huge skewness present in the data of the variables\n",
    "#17. Removed outliers using Zscore and IQR method in which the Zscore method found to be best since it was incurring less data \n",
    "    #loss after revmoing outliers.\n",
    "#18. Checked for multicolinearity"
   ]
  },
  {
   "cell_type": "markdown",
   "id": "1fe22b51",
   "metadata": {},
   "source": [
    "### EDA Completed"
   ]
  },
  {
   "cell_type": "markdown",
   "id": "b9ac37dd",
   "metadata": {},
   "source": [
    "### Building the Model - Classification"
   ]
  },
  {
   "cell_type": "markdown",
   "id": "c927f879",
   "metadata": {},
   "source": [
    "#### Splitting the data into features and target"
   ]
  },
  {
   "cell_type": "code",
   "execution_count": 75,
   "id": "383b66c6",
   "metadata": {},
   "outputs": [
    {
     "name": "stdout",
     "output_type": "stream",
     "text": [
      "(806, 10)\n",
      "(806,)\n"
     ]
    }
   ],
   "source": [
    "features = x.copy()\n",
    "target = y.copy()\n",
    "print(features.shape)\n",
    "print(target.shape)"
   ]
  },
  {
   "cell_type": "code",
   "execution_count": 76,
   "id": "f43a4613",
   "metadata": {},
   "outputs": [],
   "source": [
    "from sklearn.linear_model import LogisticRegression\n",
    "from sklearn.neighbors import KNeighborsClassifier\n",
    "from sklearn.svm import SVC\n",
    "from sklearn.tree import DecisionTreeClassifier\n",
    "from sklearn.naive_bayes import GaussianNB\n",
    "from sklearn.ensemble import RandomForestClassifier\n",
    "from sklearn.ensemble import AdaBoostClassifier\n",
    "from sklearn.ensemble import GradientBoostingClassifier\n",
    "from sklearn.ensemble import VotingClassifier\n",
    "from sklearn.linear_model import SGDClassifier\n",
    "from sklearn.ensemble import ExtraTreesClassifier\n",
    "from xgboost import XGBClassifier\n",
    "\n",
    "from sklearn.model_selection import train_test_split\n",
    "from sklearn.metrics import accuracy_score, confusion_matrix, classification_report"
   ]
  },
  {
   "cell_type": "code",
   "execution_count": 77,
   "id": "5436c663",
   "metadata": {},
   "outputs": [],
   "source": [
    "lr = LogisticRegression()\n",
    "knn = KNeighborsClassifier()\n",
    "svc = SVC()\n",
    "dtc = DecisionTreeClassifier()\n",
    "gnb = GaussianNB()\n",
    "rfc = RandomForestClassifier()\n",
    "abc = AdaBoostClassifier()\n",
    "gbc = GradientBoostingClassifier()\n",
    "estimator = [('LR', LogisticRegression()),\n",
    "             ('KNN',KNeighborsClassifier()),\n",
    "             ('SVR', SVC(gamma='auto')),\n",
    "             ('DTC',DecisionTreeClassifier()),\n",
    "             ('RFC',RandomForestClassifier(n_estimators=100))]\n",
    "vtc = VotingClassifier(estimators = estimator)\n",
    "sgdc = SGDClassifier()\n",
    "etc = ExtraTreesClassifier()\n",
    "xgbc = XGBClassifier()"
   ]
  },
  {
   "cell_type": "markdown",
   "id": "58c87fe8",
   "metadata": {},
   "source": [
    "#### Finding the best random_state"
   ]
  },
  {
   "cell_type": "code",
   "execution_count": 78,
   "id": "b40ebbbc",
   "metadata": {},
   "outputs": [],
   "source": [
    "#User defined function for finding the best random state\n",
    "def best_ran(model):\n",
    "    maxAcc = 0\n",
    "    maxRs = 0\n",
    "    print(model)\n",
    "    for i in range(1,100):\n",
    "        features_train, features_test,target_train,target_test= train_test_split(features,target,test_size = 0.20, random_state = i)\n",
    "        model.fit(features_train,target_train)\n",
    "        pred_test = model.predict(features_test)\n",
    "        acc = accuracy_score(target_test,pred_test)\n",
    "        if acc>maxAcc:\n",
    "            maxAcc = acc\n",
    "            maxRs = i\n",
    "    print(\"At random state \",maxRs,\"the model is having accuracy score of \", maxAcc)"
   ]
  },
  {
   "cell_type": "code",
   "execution_count": 79,
   "id": "17f9fdd0",
   "metadata": {},
   "outputs": [],
   "source": [
    "#User defined Function for training and testing the model with best random state\n",
    "\n",
    "def mod_test(model, ran):\n",
    "    model\n",
    "    print(model)\n",
    "    features_train, features_test, target_train, target_test = train_test_split(features,target,test_size = 0.20, random_state = ran)\n",
    "    model.fit(features_train,target_train)\n",
    "    pred_test = model.predict(features_test)\n",
    "    print(\"Accuracy Score is \",accuracy_score(target_test,pred_test))\n",
    "    print(confusion_matrix(target_test,pred_test))\n",
    "    print(classification_report(target_test,pred_test))"
   ]
  },
  {
   "cell_type": "markdown",
   "id": "03f7bd10",
   "metadata": {},
   "source": [
    "#### LogisticRegression"
   ]
  },
  {
   "cell_type": "code",
   "execution_count": 80,
   "id": "30576cf6",
   "metadata": {},
   "outputs": [
    {
     "name": "stdout",
     "output_type": "stream",
     "text": [
      "LogisticRegression()\n",
      "At random state  13 the model is having accuracy score of  0.691358024691358\n"
     ]
    }
   ],
   "source": [
    "best_ran(lr)"
   ]
  },
  {
   "cell_type": "code",
   "execution_count": 81,
   "id": "f61004d8",
   "metadata": {},
   "outputs": [
    {
     "name": "stdout",
     "output_type": "stream",
     "text": [
      "LogisticRegression()\n",
      "Accuracy Score is  0.691358024691358\n",
      "[[58 21]\n",
      " [29 54]]\n",
      "              precision    recall  f1-score   support\n",
      "\n",
      "           0       0.67      0.73      0.70        79\n",
      "           1       0.72      0.65      0.68        83\n",
      "\n",
      "    accuracy                           0.69       162\n",
      "   macro avg       0.69      0.69      0.69       162\n",
      "weighted avg       0.69      0.69      0.69       162\n",
      "\n"
     ]
    }
   ],
   "source": [
    "mod_test(lr,13)"
   ]
  },
  {
   "cell_type": "markdown",
   "id": "036d62f3",
   "metadata": {},
   "source": [
    "#### KNeighborsClassifier"
   ]
  },
  {
   "cell_type": "code",
   "execution_count": 82,
   "id": "a0bee165",
   "metadata": {},
   "outputs": [
    {
     "name": "stdout",
     "output_type": "stream",
     "text": [
      "KNeighborsClassifier()\n",
      "At random state  15 the model is having accuracy score of  0.691358024691358\n"
     ]
    }
   ],
   "source": [
    "best_ran(knn)"
   ]
  },
  {
   "cell_type": "code",
   "execution_count": 83,
   "id": "28ffe6e6",
   "metadata": {},
   "outputs": [
    {
     "name": "stdout",
     "output_type": "stream",
     "text": [
      "KNeighborsClassifier()\n",
      "Accuracy Score is  0.691358024691358\n",
      "[[53 21]\n",
      " [29 59]]\n",
      "              precision    recall  f1-score   support\n",
      "\n",
      "           0       0.65      0.72      0.68        74\n",
      "           1       0.74      0.67      0.70        88\n",
      "\n",
      "    accuracy                           0.69       162\n",
      "   macro avg       0.69      0.69      0.69       162\n",
      "weighted avg       0.70      0.69      0.69       162\n",
      "\n"
     ]
    }
   ],
   "source": [
    "mod_test(knn,15)"
   ]
  },
  {
   "cell_type": "markdown",
   "id": "4f5af207",
   "metadata": {},
   "source": [
    "#### DecisionTreeClassifier"
   ]
  },
  {
   "cell_type": "code",
   "execution_count": 84,
   "id": "89d88db8",
   "metadata": {},
   "outputs": [
    {
     "name": "stdout",
     "output_type": "stream",
     "text": [
      "DecisionTreeClassifier()\n",
      "At random state  75 the model is having accuracy score of  0.7654320987654321\n"
     ]
    }
   ],
   "source": [
    "best_ran(dtc)"
   ]
  },
  {
   "cell_type": "code",
   "execution_count": 85,
   "id": "78015e2a",
   "metadata": {},
   "outputs": [
    {
     "name": "stdout",
     "output_type": "stream",
     "text": [
      "DecisionTreeClassifier()\n",
      "Accuracy Score is  0.7716049382716049\n",
      "[[62 19]\n",
      " [18 63]]\n",
      "              precision    recall  f1-score   support\n",
      "\n",
      "           0       0.78      0.77      0.77        81\n",
      "           1       0.77      0.78      0.77        81\n",
      "\n",
      "    accuracy                           0.77       162\n",
      "   macro avg       0.77      0.77      0.77       162\n",
      "weighted avg       0.77      0.77      0.77       162\n",
      "\n"
     ]
    }
   ],
   "source": [
    "mod_test(dtc,75)"
   ]
  },
  {
   "cell_type": "markdown",
   "id": "74a670be",
   "metadata": {},
   "source": [
    "#### GaussianNB"
   ]
  },
  {
   "cell_type": "code",
   "execution_count": 86,
   "id": "27fd6963",
   "metadata": {},
   "outputs": [
    {
     "name": "stdout",
     "output_type": "stream",
     "text": [
      "GaussianNB()\n",
      "At random state  15 the model is having accuracy score of  0.6851851851851852\n"
     ]
    }
   ],
   "source": [
    "best_ran(gnb)"
   ]
  },
  {
   "cell_type": "code",
   "execution_count": 87,
   "id": "fc505885",
   "metadata": {},
   "outputs": [
    {
     "name": "stdout",
     "output_type": "stream",
     "text": [
      "GaussianNB()\n",
      "Accuracy Score is  0.6851851851851852\n",
      "[[55 19]\n",
      " [32 56]]\n",
      "              precision    recall  f1-score   support\n",
      "\n",
      "           0       0.63      0.74      0.68        74\n",
      "           1       0.75      0.64      0.69        88\n",
      "\n",
      "    accuracy                           0.69       162\n",
      "   macro avg       0.69      0.69      0.69       162\n",
      "weighted avg       0.69      0.69      0.69       162\n",
      "\n"
     ]
    }
   ],
   "source": [
    "mod_test(gnb,15)"
   ]
  },
  {
   "cell_type": "markdown",
   "id": "b8274d33",
   "metadata": {},
   "source": [
    "#### RandomForestClassifier"
   ]
  },
  {
   "cell_type": "code",
   "execution_count": 88,
   "id": "53a45601",
   "metadata": {},
   "outputs": [
    {
     "name": "stdout",
     "output_type": "stream",
     "text": [
      "RandomForestClassifier()\n",
      "At random state  75 the model is having accuracy score of  0.8148148148148148\n"
     ]
    }
   ],
   "source": [
    "best_ran(rfc)"
   ]
  },
  {
   "cell_type": "code",
   "execution_count": 89,
   "id": "87894956",
   "metadata": {},
   "outputs": [
    {
     "name": "stdout",
     "output_type": "stream",
     "text": [
      "RandomForestClassifier()\n",
      "Accuracy Score is  0.7962962962962963\n",
      "[[66 15]\n",
      " [18 63]]\n",
      "              precision    recall  f1-score   support\n",
      "\n",
      "           0       0.79      0.81      0.80        81\n",
      "           1       0.81      0.78      0.79        81\n",
      "\n",
      "    accuracy                           0.80       162\n",
      "   macro avg       0.80      0.80      0.80       162\n",
      "weighted avg       0.80      0.80      0.80       162\n",
      "\n"
     ]
    }
   ],
   "source": [
    "mod_test(rfc,75)"
   ]
  },
  {
   "cell_type": "markdown",
   "id": "bd5fd359",
   "metadata": {},
   "source": [
    "#### AdaBoostClassifier"
   ]
  },
  {
   "cell_type": "code",
   "execution_count": 90,
   "id": "6ba3cb6a",
   "metadata": {},
   "outputs": [
    {
     "name": "stdout",
     "output_type": "stream",
     "text": [
      "AdaBoostClassifier()\n",
      "At random state  83 the model is having accuracy score of  0.7098765432098766\n"
     ]
    }
   ],
   "source": [
    "best_ran(abc)"
   ]
  },
  {
   "cell_type": "code",
   "execution_count": 91,
   "id": "205b35cb",
   "metadata": {},
   "outputs": [
    {
     "name": "stdout",
     "output_type": "stream",
     "text": [
      "AdaBoostClassifier()\n",
      "Accuracy Score is  0.7098765432098766\n",
      "[[64 26]\n",
      " [21 51]]\n",
      "              precision    recall  f1-score   support\n",
      "\n",
      "           0       0.75      0.71      0.73        90\n",
      "           1       0.66      0.71      0.68        72\n",
      "\n",
      "    accuracy                           0.71       162\n",
      "   macro avg       0.71      0.71      0.71       162\n",
      "weighted avg       0.71      0.71      0.71       162\n",
      "\n"
     ]
    }
   ],
   "source": [
    "mod_test(abc,83)"
   ]
  },
  {
   "cell_type": "markdown",
   "id": "09bc5b8a",
   "metadata": {},
   "source": [
    "#### GradientBoostingClassifier"
   ]
  },
  {
   "cell_type": "code",
   "execution_count": 92,
   "id": "956df3fa",
   "metadata": {},
   "outputs": [
    {
     "name": "stdout",
     "output_type": "stream",
     "text": [
      "GradientBoostingClassifier()\n",
      "At random state  72 the model is having accuracy score of  0.7407407407407407\n"
     ]
    }
   ],
   "source": [
    "best_ran(gbc)"
   ]
  },
  {
   "cell_type": "code",
   "execution_count": 93,
   "id": "fb688fc8",
   "metadata": {},
   "outputs": [
    {
     "name": "stdout",
     "output_type": "stream",
     "text": [
      "GradientBoostingClassifier()\n",
      "Accuracy Score is  0.7407407407407407\n",
      "[[63 21]\n",
      " [21 57]]\n",
      "              precision    recall  f1-score   support\n",
      "\n",
      "           0       0.75      0.75      0.75        84\n",
      "           1       0.73      0.73      0.73        78\n",
      "\n",
      "    accuracy                           0.74       162\n",
      "   macro avg       0.74      0.74      0.74       162\n",
      "weighted avg       0.74      0.74      0.74       162\n",
      "\n"
     ]
    }
   ],
   "source": [
    "mod_test(gbc,72)"
   ]
  },
  {
   "cell_type": "markdown",
   "id": "bc06f930",
   "metadata": {},
   "source": [
    "#### VotingClassifier"
   ]
  },
  {
   "cell_type": "code",
   "execution_count": 94,
   "id": "24232a3d",
   "metadata": {},
   "outputs": [
    {
     "name": "stdout",
     "output_type": "stream",
     "text": [
      "VotingClassifier(estimators=[('LR', LogisticRegression()),\n",
      "                             ('KNN', KNeighborsClassifier()),\n",
      "                             ('SVR', SVC(gamma='auto')),\n",
      "                             ('DTC', DecisionTreeClassifier()),\n",
      "                             ('RFC', RandomForestClassifier())])\n",
      "At random state  15 the model is having accuracy score of  0.7654320987654321\n"
     ]
    }
   ],
   "source": [
    "best_ran(vtc)"
   ]
  },
  {
   "cell_type": "code",
   "execution_count": 95,
   "id": "3a7a59a4",
   "metadata": {},
   "outputs": [
    {
     "name": "stdout",
     "output_type": "stream",
     "text": [
      "VotingClassifier(estimators=[('LR', LogisticRegression()),\n",
      "                             ('KNN', KNeighborsClassifier()),\n",
      "                             ('SVR', SVC(gamma='auto')),\n",
      "                             ('DTC', DecisionTreeClassifier()),\n",
      "                             ('RFC', RandomForestClassifier())])\n",
      "Accuracy Score is  0.7777777777777778\n",
      "[[61 13]\n",
      " [23 65]]\n",
      "              precision    recall  f1-score   support\n",
      "\n",
      "           0       0.73      0.82      0.77        74\n",
      "           1       0.83      0.74      0.78        88\n",
      "\n",
      "    accuracy                           0.78       162\n",
      "   macro avg       0.78      0.78      0.78       162\n",
      "weighted avg       0.78      0.78      0.78       162\n",
      "\n"
     ]
    }
   ],
   "source": [
    "mod_test(vtc,15)"
   ]
  },
  {
   "cell_type": "markdown",
   "id": "6682c10a",
   "metadata": {},
   "source": [
    "#### SGDClassifier"
   ]
  },
  {
   "cell_type": "code",
   "execution_count": 96,
   "id": "3e4307be",
   "metadata": {},
   "outputs": [
    {
     "name": "stdout",
     "output_type": "stream",
     "text": [
      "SGDClassifier()\n",
      "At random state  22 the model is having accuracy score of  0.6975308641975309\n"
     ]
    }
   ],
   "source": [
    "best_ran(sgdc)"
   ]
  },
  {
   "cell_type": "code",
   "execution_count": 97,
   "id": "78cb8acd",
   "metadata": {},
   "outputs": [
    {
     "name": "stdout",
     "output_type": "stream",
     "text": [
      "SGDClassifier()\n",
      "Accuracy Score is  0.4876543209876543\n",
      "[[31 53]\n",
      " [30 48]]\n",
      "              precision    recall  f1-score   support\n",
      "\n",
      "           0       0.51      0.37      0.43        84\n",
      "           1       0.48      0.62      0.54        78\n",
      "\n",
      "    accuracy                           0.49       162\n",
      "   macro avg       0.49      0.49      0.48       162\n",
      "weighted avg       0.49      0.49      0.48       162\n",
      "\n"
     ]
    }
   ],
   "source": [
    "mod_test(sgdc,22)"
   ]
  },
  {
   "cell_type": "markdown",
   "id": "b53756a8",
   "metadata": {},
   "source": [
    "#### ExtraTreesClassifier"
   ]
  },
  {
   "cell_type": "code",
   "execution_count": 98,
   "id": "bb8a7265",
   "metadata": {},
   "outputs": [
    {
     "name": "stdout",
     "output_type": "stream",
     "text": [
      "ExtraTreesClassifier()\n",
      "At random state  75 the model is having accuracy score of  0.7716049382716049\n"
     ]
    }
   ],
   "source": [
    "best_ran(etc)"
   ]
  },
  {
   "cell_type": "code",
   "execution_count": 99,
   "id": "8e0c0f42",
   "metadata": {},
   "outputs": [
    {
     "name": "stdout",
     "output_type": "stream",
     "text": [
      "ExtraTreesClassifier()\n",
      "Accuracy Score is  0.7716049382716049\n",
      "[[64 17]\n",
      " [20 61]]\n",
      "              precision    recall  f1-score   support\n",
      "\n",
      "           0       0.76      0.79      0.78        81\n",
      "           1       0.78      0.75      0.77        81\n",
      "\n",
      "    accuracy                           0.77       162\n",
      "   macro avg       0.77      0.77      0.77       162\n",
      "weighted avg       0.77      0.77      0.77       162\n",
      "\n"
     ]
    }
   ],
   "source": [
    "mod_test(etc,75)"
   ]
  },
  {
   "cell_type": "markdown",
   "id": "76df37a7",
   "metadata": {},
   "source": [
    "#### XGBClassifier"
   ]
  },
  {
   "cell_type": "code",
   "execution_count": 100,
   "id": "59f5fbfd",
   "metadata": {},
   "outputs": [
    {
     "name": "stdout",
     "output_type": "stream",
     "text": [
      "XGBClassifier(base_score=None, booster=None, callbacks=None,\n",
      "              colsample_bylevel=None, colsample_bynode=None,\n",
      "              colsample_bytree=None, early_stopping_rounds=None,\n",
      "              enable_categorical=False, eval_metric=None, gamma=None,\n",
      "              gpu_id=None, grow_policy=None, importance_type=None,\n",
      "              interaction_constraints=None, learning_rate=None, max_bin=None,\n",
      "              max_cat_to_onehot=None, max_delta_step=None, max_depth=None,\n",
      "              max_leaves=None, min_child_weight=None, missing=nan,\n",
      "              monotone_constraints=None, n_estimators=100, n_jobs=None,\n",
      "              num_parallel_tree=None, predictor=None, random_state=None,\n",
      "              reg_alpha=None, reg_lambda=None, ...)\n",
      "At random state  31 the model is having accuracy score of  0.8209876543209876\n"
     ]
    }
   ],
   "source": [
    "best_ran(xgbc)"
   ]
  },
  {
   "cell_type": "code",
   "execution_count": 101,
   "id": "755c6fa7",
   "metadata": {},
   "outputs": [
    {
     "name": "stdout",
     "output_type": "stream",
     "text": [
      "XGBClassifier(base_score=0.5, booster='gbtree', callbacks=None,\n",
      "              colsample_bylevel=1, colsample_bynode=1, colsample_bytree=1,\n",
      "              early_stopping_rounds=None, enable_categorical=False,\n",
      "              eval_metric=None, gamma=0, gpu_id=-1, grow_policy='depthwise',\n",
      "              importance_type=None, interaction_constraints='',\n",
      "              learning_rate=0.300000012, max_bin=256, max_cat_to_onehot=4,\n",
      "              max_delta_step=0, max_depth=6, max_leaves=0, min_child_weight=1,\n",
      "              missing=nan, monotone_constraints='()', n_estimators=100,\n",
      "              n_jobs=0, num_parallel_tree=1, predictor='auto', random_state=0,\n",
      "              reg_alpha=0, reg_lambda=1, ...)\n",
      "Accuracy Score is  0.8209876543209876\n",
      "[[63 13]\n",
      " [16 70]]\n",
      "              precision    recall  f1-score   support\n",
      "\n",
      "           0       0.80      0.83      0.81        76\n",
      "           1       0.84      0.81      0.83        86\n",
      "\n",
      "    accuracy                           0.82       162\n",
      "   macro avg       0.82      0.82      0.82       162\n",
      "weighted avg       0.82      0.82      0.82       162\n",
      "\n"
     ]
    }
   ],
   "source": [
    "mod_test(xgbc,31)"
   ]
  },
  {
   "cell_type": "markdown",
   "id": "b7fdb6be",
   "metadata": {},
   "source": [
    "#### SVC"
   ]
  },
  {
   "cell_type": "code",
   "execution_count": 102,
   "id": "a07428a1",
   "metadata": {},
   "outputs": [],
   "source": [
    "#User defined function for finding the best random state\n",
    "def best_ran_svc(model,ker):\n",
    "    svc = SVC(kernel = ker,probability=True)\n",
    "    maxAcc = 0\n",
    "    maxRs = 0\n",
    "    print(model)\n",
    "    for i in range(1,100):\n",
    "        features_train, features_test,target_train,target_test= train_test_split(features,target,test_size = 0.20, random_state = i)\n",
    "        model.fit(features_train,target_train)\n",
    "        pred_test = model.predict(features_test)\n",
    "        acc = accuracy_score(target_test,pred_test)\n",
    "        if acc>maxAcc:\n",
    "            maxAcc = acc\n",
    "            maxRs = i\n",
    "    print(\"At random state \",maxRs,\"the model is having accuracy score of \", maxAcc)"
   ]
  },
  {
   "cell_type": "code",
   "execution_count": 103,
   "id": "b2fd531c",
   "metadata": {},
   "outputs": [],
   "source": [
    "#User defined function for using different kernels for SVC model\n",
    "def svca(ker,ran):\n",
    "    svc = SVC(kernel = ker,probability=True)\n",
    "    print(SVC(),ker)\n",
    "    features_train, features_test, target_train, target_test = train_test_split(features,target,test_size = 0.20, random_state = ran)\n",
    "    svc.fit(features_train,target_train)\n",
    "    pred_svc = svc.predict(features_test)\n",
    "    print(accuracy_score(target_test,pred_svc))\n",
    "    print(confusion_matrix(target_test,pred_svc))\n",
    "    print(classification_report(target_test,pred_svc))"
   ]
  },
  {
   "cell_type": "markdown",
   "id": "1cc1ba60",
   "metadata": {},
   "source": [
    "##### 'rbf'"
   ]
  },
  {
   "cell_type": "code",
   "execution_count": 104,
   "id": "5b8f73ce",
   "metadata": {},
   "outputs": [
    {
     "name": "stdout",
     "output_type": "stream",
     "text": [
      "SVC()\n",
      "At random state  13 the model is having accuracy score of  0.7037037037037037\n"
     ]
    }
   ],
   "source": [
    "best_ran_svc(svc,'rbf')"
   ]
  },
  {
   "cell_type": "code",
   "execution_count": 105,
   "id": "da89db21",
   "metadata": {},
   "outputs": [
    {
     "name": "stdout",
     "output_type": "stream",
     "text": [
      "SVC() rbf\n",
      "0.7037037037037037\n",
      "[[54 25]\n",
      " [23 60]]\n",
      "              precision    recall  f1-score   support\n",
      "\n",
      "           0       0.70      0.68      0.69        79\n",
      "           1       0.71      0.72      0.71        83\n",
      "\n",
      "    accuracy                           0.70       162\n",
      "   macro avg       0.70      0.70      0.70       162\n",
      "weighted avg       0.70      0.70      0.70       162\n",
      "\n"
     ]
    }
   ],
   "source": [
    "svca('rbf',13)"
   ]
  },
  {
   "cell_type": "markdown",
   "id": "5d15232e",
   "metadata": {},
   "source": [
    "##### 'linear'"
   ]
  },
  {
   "cell_type": "code",
   "execution_count": 106,
   "id": "fec4c313",
   "metadata": {},
   "outputs": [
    {
     "name": "stdout",
     "output_type": "stream",
     "text": [
      "SVC()\n",
      "At random state  13 the model is having accuracy score of  0.7037037037037037\n"
     ]
    }
   ],
   "source": [
    "best_ran_svc(svc,'linear')"
   ]
  },
  {
   "cell_type": "code",
   "execution_count": 107,
   "id": "eb0ef1fb",
   "metadata": {},
   "outputs": [
    {
     "name": "stdout",
     "output_type": "stream",
     "text": [
      "SVC() linear\n",
      "0.6790123456790124\n",
      "[[51 28]\n",
      " [24 59]]\n",
      "              precision    recall  f1-score   support\n",
      "\n",
      "           0       0.68      0.65      0.66        79\n",
      "           1       0.68      0.71      0.69        83\n",
      "\n",
      "    accuracy                           0.68       162\n",
      "   macro avg       0.68      0.68      0.68       162\n",
      "weighted avg       0.68      0.68      0.68       162\n",
      "\n"
     ]
    }
   ],
   "source": [
    "svca('linear',13)"
   ]
  },
  {
   "cell_type": "markdown",
   "id": "7bf2612d",
   "metadata": {},
   "source": [
    "##### 'poly'"
   ]
  },
  {
   "cell_type": "code",
   "execution_count": 108,
   "id": "db0d65b1",
   "metadata": {},
   "outputs": [
    {
     "name": "stdout",
     "output_type": "stream",
     "text": [
      "SVC()\n",
      "At random state  13 the model is having accuracy score of  0.7037037037037037\n"
     ]
    }
   ],
   "source": [
    "best_ran_svc(svc,'poly')"
   ]
  },
  {
   "cell_type": "code",
   "execution_count": 109,
   "id": "222704c3",
   "metadata": {},
   "outputs": [
    {
     "name": "stdout",
     "output_type": "stream",
     "text": [
      "SVC() poly\n",
      "0.691358024691358\n",
      "[[54 25]\n",
      " [25 58]]\n",
      "              precision    recall  f1-score   support\n",
      "\n",
      "           0       0.68      0.68      0.68        79\n",
      "           1       0.70      0.70      0.70        83\n",
      "\n",
      "    accuracy                           0.69       162\n",
      "   macro avg       0.69      0.69      0.69       162\n",
      "weighted avg       0.69      0.69      0.69       162\n",
      "\n"
     ]
    }
   ],
   "source": [
    "svca('poly',13)"
   ]
  },
  {
   "cell_type": "markdown",
   "id": "0c51f8cc",
   "metadata": {},
   "source": [
    "After testing the all the above algorithms, the XGBClassifier is performing well by giving maximum accuracy score of 82.1%."
   ]
  },
  {
   "cell_type": "markdown",
   "id": "7b7625ff",
   "metadata": {},
   "source": [
    "Let's cross validate each models to find the best model giving maximum cross validation mean score and accuracy score."
   ]
  },
  {
   "cell_type": "markdown",
   "id": "61eeadd3",
   "metadata": {},
   "source": [
    "### Cross Validation"
   ]
  },
  {
   "cell_type": "code",
   "execution_count": 110,
   "id": "142b2f9d",
   "metadata": {},
   "outputs": [],
   "source": [
    "#User defined function for checking cross validation for each model\n",
    "from sklearn.model_selection import cross_val_score\n",
    "\n",
    "def cross_val(model,ran):    #ran = random_state\n",
    "    cv_mean = 0\n",
    "    cv_fold = 0\n",
    "    features_train, features_test, target_train, target_test = train_test_split(features,target,test_size = 0.20, random_state = ran)\n",
    "    model.fit(features_train,target_train)\n",
    "    pred_test = model.predict(features_test)\n",
    "    for j in range(2,10):\n",
    "        cv_score = cross_val_score(model,features, target, cv = j)\n",
    "        a =cv_score.mean()\n",
    "        if a>cv_mean:\n",
    "            cv_mean = a\n",
    "            cv_fold = j\n",
    "    print(model)\n",
    "    print(\"At cv fold\",cv_fold,\" the cv score is \", cv_mean, \"and the Accuracy Score  is \",accuracy_score(target_test,pred_test))"
   ]
  },
  {
   "cell_type": "markdown",
   "id": "c3eb5acc",
   "metadata": {},
   "source": [
    "#### LogisticRegression"
   ]
  },
  {
   "cell_type": "code",
   "execution_count": 111,
   "id": "a748c3a6",
   "metadata": {},
   "outputs": [
    {
     "name": "stdout",
     "output_type": "stream",
     "text": [
      "LogisticRegression()\n",
      "At cv fold 9  the cv score is  0.5994728811208212 and the Accuracy Score  is  0.691358024691358\n"
     ]
    }
   ],
   "source": [
    "cross_val(lr,13)"
   ]
  },
  {
   "cell_type": "markdown",
   "id": "559ec1a9",
   "metadata": {},
   "source": [
    "#### KNeighborsClassifier"
   ]
  },
  {
   "cell_type": "code",
   "execution_count": 112,
   "id": "73925b10",
   "metadata": {},
   "outputs": [
    {
     "name": "stdout",
     "output_type": "stream",
     "text": [
      "KNeighborsClassifier()\n",
      "At cv fold 5  the cv score is  0.6203895406793958 and the Accuracy Score  is  0.691358024691358\n"
     ]
    }
   ],
   "source": [
    "cross_val(knn,15)"
   ]
  },
  {
   "cell_type": "markdown",
   "id": "8dd9d189",
   "metadata": {},
   "source": [
    "#### DecisionTreeClassifier"
   ]
  },
  {
   "cell_type": "code",
   "execution_count": 113,
   "id": "aa52cd29",
   "metadata": {},
   "outputs": [
    {
     "name": "stdout",
     "output_type": "stream",
     "text": [
      "DecisionTreeClassifier()\n",
      "At cv fold 7  the cv score is  0.6972692225315912 and the Accuracy Score  is  0.7592592592592593\n"
     ]
    }
   ],
   "source": [
    "cross_val(dtc,75)"
   ]
  },
  {
   "cell_type": "markdown",
   "id": "4ed37cb9",
   "metadata": {},
   "source": [
    "#### GaussianNB"
   ]
  },
  {
   "cell_type": "code",
   "execution_count": 114,
   "id": "67f31e1b",
   "metadata": {},
   "outputs": [
    {
     "name": "stdout",
     "output_type": "stream",
     "text": [
      "GaussianNB()\n",
      "At cv fold 8  the cv score is  0.5907054455445544 and the Accuracy Score  is  0.6851851851851852\n"
     ]
    }
   ],
   "source": [
    "cross_val(gnb,15)"
   ]
  },
  {
   "cell_type": "markdown",
   "id": "05d38591",
   "metadata": {},
   "source": [
    "#### RandomForestClassifier"
   ]
  },
  {
   "cell_type": "code",
   "execution_count": 115,
   "id": "76a6c703",
   "metadata": {},
   "outputs": [
    {
     "name": "stdout",
     "output_type": "stream",
     "text": [
      "RandomForestClassifier()\n",
      "At cv fold 8  the cv score is  0.7284034653465347 and the Accuracy Score  is  0.7839506172839507\n"
     ]
    }
   ],
   "source": [
    "cross_val(rfc,75)"
   ]
  },
  {
   "cell_type": "markdown",
   "id": "3da5a3f6",
   "metadata": {},
   "source": [
    "#### AdaBoostClassifier"
   ]
  },
  {
   "cell_type": "code",
   "execution_count": 116,
   "id": "6dea2805",
   "metadata": {},
   "outputs": [
    {
     "name": "stdout",
     "output_type": "stream",
     "text": [
      "AdaBoostClassifier()\n",
      "At cv fold 6  the cv score is  0.6391837110742583 and the Accuracy Score  is  0.7098765432098766\n"
     ]
    }
   ],
   "source": [
    "cross_val(abc,83)"
   ]
  },
  {
   "cell_type": "markdown",
   "id": "9b2909d6",
   "metadata": {},
   "source": [
    "#### GradientBoostingClassifier"
   ]
  },
  {
   "cell_type": "code",
   "execution_count": 117,
   "id": "bd517f64",
   "metadata": {},
   "outputs": [
    {
     "name": "stdout",
     "output_type": "stream",
     "text": [
      "GradientBoostingClassifier()\n",
      "At cv fold 8  the cv score is  0.6775495049504952 and the Accuracy Score  is  0.7407407407407407\n"
     ]
    }
   ],
   "source": [
    "cross_val(gbc,72)"
   ]
  },
  {
   "cell_type": "markdown",
   "id": "bf7d39ac",
   "metadata": {},
   "source": [
    "#### VotingClassifier"
   ]
  },
  {
   "cell_type": "code",
   "execution_count": 118,
   "id": "8640e2b3",
   "metadata": {},
   "outputs": [
    {
     "name": "stdout",
     "output_type": "stream",
     "text": [
      "VotingClassifier(estimators=[('LR', LogisticRegression()),\n",
      "                             ('KNN', KNeighborsClassifier()),\n",
      "                             ('SVR', SVC(gamma='auto')),\n",
      "                             ('DTC', DecisionTreeClassifier()),\n",
      "                             ('RFC', RandomForestClassifier())])\n",
      "At cv fold 8  the cv score is  0.6862623762376238 and the Accuracy Score  is  0.7777777777777778\n"
     ]
    }
   ],
   "source": [
    "cross_val(vtc,15)"
   ]
  },
  {
   "cell_type": "markdown",
   "id": "b4cd3ab0",
   "metadata": {},
   "source": [
    "#### SGDClassifier"
   ]
  },
  {
   "cell_type": "code",
   "execution_count": 119,
   "id": "f26587c9",
   "metadata": {},
   "outputs": [
    {
     "name": "stdout",
     "output_type": "stream",
     "text": [
      "SGDClassifier()\n",
      "At cv fold 8  the cv score is  0.6056188118811882 and the Accuracy Score  is  0.5617283950617284\n"
     ]
    }
   ],
   "source": [
    "cross_val(sgdc,22)"
   ]
  },
  {
   "cell_type": "markdown",
   "id": "cc602f7e",
   "metadata": {},
   "source": [
    "#### ExtraTreesClassifier"
   ]
  },
  {
   "cell_type": "code",
   "execution_count": 120,
   "id": "c05561f2",
   "metadata": {},
   "outputs": [
    {
     "name": "stdout",
     "output_type": "stream",
     "text": [
      "ExtraTreesClassifier()\n",
      "At cv fold 7  the cv score is  0.6998179481687729 and the Accuracy Score  is  0.7716049382716049\n"
     ]
    }
   ],
   "source": [
    "cross_val(etc,75)"
   ]
  },
  {
   "cell_type": "markdown",
   "id": "c1054797",
   "metadata": {},
   "source": [
    "#### XGBClassifier"
   ]
  },
  {
   "cell_type": "code",
   "execution_count": 121,
   "id": "b1b11fb7",
   "metadata": {},
   "outputs": [
    {
     "name": "stdout",
     "output_type": "stream",
     "text": [
      "XGBClassifier(base_score=0.5, booster='gbtree', callbacks=None,\n",
      "              colsample_bylevel=1, colsample_bynode=1, colsample_bytree=1,\n",
      "              early_stopping_rounds=None, enable_categorical=False,\n",
      "              eval_metric=None, gamma=0, gpu_id=-1, grow_policy='depthwise',\n",
      "              importance_type=None, interaction_constraints='',\n",
      "              learning_rate=0.300000012, max_bin=256, max_cat_to_onehot=4,\n",
      "              max_delta_step=0, max_depth=6, max_leaves=0, min_child_weight=1,\n",
      "              missing=nan, monotone_constraints='()', n_estimators=100,\n",
      "              n_jobs=0, num_parallel_tree=1, predictor='auto', random_state=0,\n",
      "              reg_alpha=0, reg_lambda=1, ...)\n",
      "At cv fold 8  the cv score is  0.7259405940594059 and the Accuracy Score  is  0.8209876543209876\n"
     ]
    }
   ],
   "source": [
    "cross_val(xgbc,31)"
   ]
  },
  {
   "cell_type": "markdown",
   "id": "d7a7020b",
   "metadata": {},
   "source": [
    "#### SVC"
   ]
  },
  {
   "cell_type": "code",
   "execution_count": 122,
   "id": "763b0a3d",
   "metadata": {
    "scrolled": true
   },
   "outputs": [
    {
     "name": "stdout",
     "output_type": "stream",
     "text": [
      "SVC()\n",
      "At cv fold 8  the cv score is  0.6144183168316832 and the Accuracy Score  is  0.7037037037037037\n"
     ]
    }
   ],
   "source": [
    "cross_val(svc,13)"
   ]
  },
  {
   "cell_type": "markdown",
   "id": "4aa30ed4",
   "metadata": {},
   "source": [
    "After cross validation tests, the RandomForest Classifier is giving the maximum cross validation mean score of 72.84% for an accuracy score of 78.4%. But the XGB Classifier is providing the maximum accuracy score of 82.1% with a cross validation mean score of 72.59% for 8 cross validations."
   ]
  },
  {
   "cell_type": "markdown",
   "id": "ef1bf711",
   "metadata": {},
   "source": [
    "We can consider the XGBClassifier(xgbc) as the best model as it is providing the best accuracy score and maximum cross validation mean score."
   ]
  },
  {
   "cell_type": "code",
   "execution_count": 123,
   "id": "ad526f3b",
   "metadata": {},
   "outputs": [
    {
     "name": "stdout",
     "output_type": "stream",
     "text": [
      "Accuracy Score is  0.8209876543209876\n",
      "[[63 13]\n",
      " [16 70]]\n",
      "              precision    recall  f1-score   support\n",
      "\n",
      "           0       0.80      0.83      0.81        76\n",
      "           1       0.84      0.81      0.83        86\n",
      "\n",
      "    accuracy                           0.82       162\n",
      "   macro avg       0.82      0.82      0.82       162\n",
      "weighted avg       0.82      0.82      0.82       162\n",
      "\n",
      "CV score is  0.7259405940594059\n"
     ]
    }
   ],
   "source": [
    "xgbc = XGBClassifier()\n",
    "features_train, features_test,target_train,target_test= train_test_split(features,target,test_size = 0.20, random_state = 31)\n",
    "xgbc.fit(features_train, target_train)\n",
    "pred_test = xgbc.predict(features_test)\n",
    "print(\"Accuracy Score is \",accuracy_score(target_test,pred_test))\n",
    "print(confusion_matrix(target_test,pred_test))\n",
    "print(classification_report(target_test,pred_test))\n",
    "cv_score = cross_val_score(xgbc,features, target, cv = 8)\n",
    "cv_mean =cv_score.mean()\n",
    "print('CV score is ', cv_mean)"
   ]
  },
  {
   "cell_type": "markdown",
   "id": "475efc8d",
   "metadata": {},
   "source": [
    "### Hyperparameter Tuning"
   ]
  },
  {
   "cell_type": "code",
   "execution_count": 124,
   "id": "62f8a8cf",
   "metadata": {},
   "outputs": [],
   "source": [
    "from sklearn.model_selection import GridSearchCV\n",
    "parameters = {'booster':['gbtree','dart'],\n",
    "             'eta': [0.3,0.4,0.5],\n",
    "             'max_depth': [4,5,6],\n",
    "             'sampling_method':['uniform','subsample']}\n",
    "\n",
    "grid = GridSearchCV(estimator = XGBClassifier(),param_grid=parameters, cv = 8)"
   ]
  },
  {
   "cell_type": "code",
   "execution_count": 125,
   "id": "0819bd2f",
   "metadata": {},
   "outputs": [
    {
     "data": {
      "text/plain": [
       "GridSearchCV(cv=8,\n",
       "             estimator=XGBClassifier(base_score=None, booster=None,\n",
       "                                     callbacks=None, colsample_bylevel=None,\n",
       "                                     colsample_bynode=None,\n",
       "                                     colsample_bytree=None,\n",
       "                                     early_stopping_rounds=None,\n",
       "                                     enable_categorical=False, eval_metric=None,\n",
       "                                     gamma=None, gpu_id=None, grow_policy=None,\n",
       "                                     importance_type=None,\n",
       "                                     interaction_constraints=None,\n",
       "                                     learning_rate=None, max_bin=None,\n",
       "                                     max_ca...\n",
       "                                     max_delta_step=None, max_depth=None,\n",
       "                                     max_leaves=None, min_child_weight=None,\n",
       "                                     missing=nan, monotone_constraints=None,\n",
       "                                     n_estimators=100, n_jobs=None,\n",
       "                                     num_parallel_tree=None, predictor=None,\n",
       "                                     random_state=None, reg_alpha=None,\n",
       "                                     reg_lambda=None, ...),\n",
       "             param_grid={'booster': ['gbtree', 'dart'], 'eta': [0.3, 0.4, 0.5],\n",
       "                         'max_depth': [4, 5, 6],\n",
       "                         'sampling_method': ['uniform', 'subsample']})"
      ]
     },
     "execution_count": 125,
     "metadata": {},
     "output_type": "execute_result"
    }
   ],
   "source": [
    "grid.fit(features,target)"
   ]
  },
  {
   "cell_type": "code",
   "execution_count": 126,
   "id": "f006be22",
   "metadata": {},
   "outputs": [
    {
     "data": {
      "text/plain": [
       "0.7259405940594059"
      ]
     },
     "execution_count": 126,
     "metadata": {},
     "output_type": "execute_result"
    }
   ],
   "source": [
    "grid.best_score_"
   ]
  },
  {
   "cell_type": "code",
   "execution_count": 127,
   "id": "0f9792a6",
   "metadata": {},
   "outputs": [
    {
     "data": {
      "text/plain": [
       "{'booster': 'gbtree', 'eta': 0.3, 'max_depth': 6, 'sampling_method': 'uniform'}"
      ]
     },
     "execution_count": 127,
     "metadata": {},
     "output_type": "execute_result"
    }
   ],
   "source": [
    "grid.best_params_"
   ]
  },
  {
   "cell_type": "code",
   "execution_count": 130,
   "id": "825725a5",
   "metadata": {},
   "outputs": [
    {
     "name": "stdout",
     "output_type": "stream",
     "text": [
      "Accuracy Score is  0.8209876543209876\n",
      "[[63 13]\n",
      " [16 70]]\n",
      "              precision    recall  f1-score   support\n",
      "\n",
      "           0       0.80      0.83      0.81        76\n",
      "           1       0.84      0.81      0.83        86\n",
      "\n",
      "    accuracy                           0.82       162\n",
      "   macro avg       0.82      0.82      0.82       162\n",
      "weighted avg       0.82      0.82      0.82       162\n",
      "\n",
      "CV score is  0.7259405940594059\n"
     ]
    }
   ],
   "source": [
    "xgbc = XGBClassifier(booster='gbtree',eta=0.3,max_depth=6,sampling_method='uniform')\n",
    "features_train, features_test,target_train,target_test= train_test_split(features,target,test_size = 0.20, random_state = 31)\n",
    "xgbc.fit(features_train, target_train)\n",
    "pred_test = xgbc.predict(features_test)\n",
    "print(\"Accuracy Score is \",accuracy_score(target_test,pred_test))\n",
    "print(confusion_matrix(target_test,pred_test))\n",
    "print(classification_report(target_test,pred_test))\n",
    "cv_score = cross_val_score(xgbc,features, target, cv = 8)\n",
    "cv_mean =cv_score.mean()\n",
    "print('CV score is ', cv_mean)"
   ]
  },
  {
   "cell_type": "markdown",
   "id": "45d2d15c",
   "metadata": {},
   "source": [
    "The hyper parameter tuning didn't improve the score much."
   ]
  },
  {
   "cell_type": "markdown",
   "id": "40312a9a",
   "metadata": {},
   "source": [
    "### After all the tests, cross validations and tunings, the XGB classifier(xgbc) is performing well with maximum accuracy score of 82.1% with a cross validation mean score of 72.6% for 8 cross validations."
   ]
  },
  {
   "cell_type": "markdown",
   "id": "21f3f6b4",
   "metadata": {},
   "source": [
    "### AUC ROC Curve"
   ]
  },
  {
   "cell_type": "code",
   "execution_count": 131,
   "id": "2fb146f7",
   "metadata": {},
   "outputs": [],
   "source": [
    "from sklearn.metrics import roc_curve\n",
    "from sklearn.metrics import roc_auc_score"
   ]
  },
  {
   "cell_type": "code",
   "execution_count": 133,
   "id": "3ba7bb29",
   "metadata": {},
   "outputs": [],
   "source": [
    "#User defined function for plotting AUC ROC curve for different models\n",
    "\n",
    "def auc_roc(model):\n",
    "    target_pred_prob = model.predict_proba(features_test)[:,1]\n",
    "    fpr,tpr,thresholds = roc_curve(target_test,target_pred_prob)\n",
    "    auc_score = roc_auc_score(target_test, model.predict(features_test))\n",
    "    plt.plot([0,1],[0,1],'k--')\n",
    "    plt.plot(fpr, tpr, label = 'AUC ='+str(round(auc_score,2)))\n",
    "    plt.xlabel('False Positive Rate')\n",
    "    plt.ylabel('True Positive Rate')\n",
    "    plt.legend(loc = 'lower right')\n",
    "    plt.title(model)\n",
    "    plt.show()"
   ]
  },
  {
   "cell_type": "code",
   "execution_count": 134,
   "id": "731cbabc",
   "metadata": {
    "scrolled": false
   },
   "outputs": [
    {
     "data": {
      "image/png": "[encoded data removed]",
      "text/plain": [
       "<Figure size 432x288 with 1 Axes>"
      ]
     },
     "metadata": {
      "needs_background": "light"
     },
     "output_type": "display_data"
    }
   ],
   "source": [
    "auc_roc(lr)"
   ]
  },
  {
   "cell_type": "code",
   "execution_count": 135,
   "id": "fe9c128f",
   "metadata": {},
   "outputs": [
    {
     "data": {
      "image/png": "[encoded data removed]",
      "text/plain": [
       "<Figure size 432x288 with 1 Axes>"
      ]
     },
     "metadata": {
      "needs_background": "light"
     },
     "output_type": "display_data"
    }
   ],
   "source": [
    "auc_roc(knn)"
   ]
  },
  {
   "cell_type": "code",
   "execution_count": 136,
   "id": "be5a5cfa",
   "metadata": {},
   "outputs": [
    {
     "data": {
      "image/png": "[encoded data removed]",
      "text/plain": [
       "<Figure size 432x288 with 1 Axes>"
      ]
     },
     "metadata": {
      "needs_background": "light"
     },
     "output_type": "display_data"
    }
   ],
   "source": [
    "auc_roc(dtc)"
   ]
  },
  {
   "cell_type": "code",
   "execution_count": 137,
   "id": "2b58c6d0",
   "metadata": {},
   "outputs": [
    {
     "data": {
      "image/png": "[encoded data removed]",
      "text/plain": [
       "<Figure size 432x288 with 1 Axes>"
      ]
     },
     "metadata": {
      "needs_background": "light"
     },
     "output_type": "display_data"
    }
   ],
   "source": [
    "auc_roc(gnb)"
   ]
  },
  {
   "cell_type": "code",
   "execution_count": 138,
   "id": "6a702afb",
   "metadata": {},
   "outputs": [
    {
     "data": {
      "image/png": "[encoded data removed]",
      "text/plain": [
       "<Figure size 432x288 with 1 Axes>"
      ]
     },
     "metadata": {
      "needs_background": "light"
     },
     "output_type": "display_data"
    }
   ],
   "source": [
    "auc_roc(rfc)"
   ]
  },
  {
   "cell_type": "code",
   "execution_count": 139,
   "id": "bc6d0255",
   "metadata": {},
   "outputs": [
    {
     "data": {
      "image/png": "[encoded data removed]",
      "text/plain": [
       "<Figure size 432x288 with 1 Axes>"
      ]
     },
     "metadata": {
      "needs_background": "light"
     },
     "output_type": "display_data"
    }
   ],
   "source": [
    "auc_roc(abc)"
   ]
  },
  {
   "cell_type": "code",
   "execution_count": 140,
   "id": "6092de6a",
   "metadata": {
    "scrolled": true
   },
   "outputs": [
    {
     "data": {
      "image/png": "[encoded data removed]",
      "text/plain": [
       "<Figure size 432x288 with 1 Axes>"
      ]
     },
     "metadata": {
      "needs_background": "light"
     },
     "output_type": "display_data"
    }
   ],
   "source": [
    "auc_roc(gbc)"
   ]
  },
  {
   "cell_type": "code",
   "execution_count": 142,
   "id": "dfadb071",
   "metadata": {},
   "outputs": [
    {
     "data": {
      "image/png": "[encoded data removed]",
      "text/plain": [
       "<Figure size 432x288 with 1 Axes>"
      ]
     },
     "metadata": {
      "needs_background": "light"
     },
     "output_type": "display_data"
    }
   ],
   "source": [
    "auc_roc(xgbc)"
   ]
  },
  {
   "cell_type": "code",
   "execution_count": 143,
   "id": "cd3cd7ca",
   "metadata": {},
   "outputs": [
    {
     "data": {
      "image/png": "[encoded data removed]",
      "text/plain": [
       "<Figure size 432x288 with 1 Axes>"
      ]
     },
     "metadata": {
      "needs_background": "light"
     },
     "output_type": "display_data"
    }
   ],
   "source": [
    "auc_roc(etc)"
   ]
  },
  {
   "cell_type": "markdown",
   "id": "5a774fe2",
   "metadata": {},
   "source": [
    "The RandomForest Classifier and ExtraTree Classifier is providing the maximum auc_roc score. The XGBoost Classifier is providing a auc roc score of 82%. Since the XGBoost Classifier(xgbc) model is performing well with all other tests, cross validations and tuning, we can consier this model as the best model."
   ]
  },
  {
   "cell_type": "markdown",
   "id": "e2ac9aa5",
   "metadata": {},
   "source": [
    "### The XGBoost Classifier(xgbc) is providing the maximum accuracy score of 82.1%."
   ]
  },
  {
   "cell_type": "markdown",
   "id": "0403747b",
   "metadata": {},
   "source": [
    "### Saving the Best Model"
   ]
  },
  {
   "cell_type": "code",
   "execution_count": 145,
   "id": "012fe768",
   "metadata": {},
   "outputs": [],
   "source": [
    "import pickle\n",
    "\n",
    "filename = 'Loan application approval prediction model.pkl'\n",
    "pickle.dump(xgbc,open(filename,'wb'))"
   ]
  },
  {
   "cell_type": "markdown",
   "id": "dac022b0",
   "metadata": {},
   "source": [
    "### Conclusion"
   ]
  },
  {
   "cell_type": "code",
   "execution_count": 146,
   "id": "5cd1d180",
   "metadata": {},
   "outputs": [
    {
     "data": {
      "text/html": [
       "<div>\n",
       "<style scoped>\n",
       "    .dataframe tbody tr th:only-of-type {\n",
       "        vertical-align: middle;\n",
       "    }\n",
       "\n",
       "    .dataframe tbody tr th {\n",
       "        vertical-align: top;\n",
       "    }\n",
       "\n",
       "    .dataframe thead th {\n",
       "        text-align: right;\n",
       "    }\n",
       "</style>\n",
       "<table border=\"1\" class=\"dataframe\">\n",
       "  <thead>\n",
       "    <tr style=\"text-align: right;\">\n",
       "      <th></th>\n",
       "      <th>Original Loan_Status</th>\n",
       "      <th>Predicted Loan Status</th>\n",
       "    </tr>\n",
       "  </thead>\n",
       "  <tbody>\n",
       "    <tr>\n",
       "      <th>30</th>\n",
       "      <td>1</td>\n",
       "      <td>1</td>\n",
       "    </tr>\n",
       "    <tr>\n",
       "      <th>137</th>\n",
       "      <td>0</td>\n",
       "      <td>0</td>\n",
       "    </tr>\n",
       "    <tr>\n",
       "      <th>15</th>\n",
       "      <td>0</td>\n",
       "      <td>0</td>\n",
       "    </tr>\n",
       "    <tr>\n",
       "      <th>86</th>\n",
       "      <td>0</td>\n",
       "      <td>0</td>\n",
       "    </tr>\n",
       "    <tr>\n",
       "      <th>135</th>\n",
       "      <td>0</td>\n",
       "      <td>0</td>\n",
       "    </tr>\n",
       "    <tr>\n",
       "      <th>46</th>\n",
       "      <td>0</td>\n",
       "      <td>0</td>\n",
       "    </tr>\n",
       "    <tr>\n",
       "      <th>71</th>\n",
       "      <td>0</td>\n",
       "      <td>0</td>\n",
       "    </tr>\n",
       "    <tr>\n",
       "      <th>107</th>\n",
       "      <td>1</td>\n",
       "      <td>1</td>\n",
       "    </tr>\n",
       "    <tr>\n",
       "      <th>44</th>\n",
       "      <td>1</td>\n",
       "      <td>1</td>\n",
       "    </tr>\n",
       "    <tr>\n",
       "      <th>157</th>\n",
       "      <td>1</td>\n",
       "      <td>1</td>\n",
       "    </tr>\n",
       "  </tbody>\n",
       "</table>\n",
       "</div>"
      ],
      "text/plain": [
       "     Original Loan_Status  Predicted Loan Status\n",
       "30                      1                      1\n",
       "137                     0                      0\n",
       "15                      0                      0\n",
       "86                      0                      0\n",
       "135                     0                      0\n",
       "46                      0                      0\n",
       "71                      0                      0\n",
       "107                     1                      1\n",
       "44                      1                      1\n",
       "157                     1                      1"
      ]
     },
     "execution_count": 146,
     "metadata": {},
     "output_type": "execute_result"
    }
   ],
   "source": [
    "original = np.array(target_test)\n",
    "predicted = np.round(np.array(xgbc.predict(features_test)),0)\n",
    "df_prediction = pd.DataFrame({'Original Loan_Status':original,'Predicted Loan Status':predicted})\n",
    "df_prediction.sample(10)"
   ]
  },
  {
   "cell_type": "markdown",
   "id": "fdfa59cc",
   "metadata": {},
   "source": [
    "### Our xgbc model have is performing well with predictions without any errors. "
   ]
  },
  {
   "cell_type": "markdown",
   "id": "a9511982",
   "metadata": {},
   "source": [
    "Now we can use this model to predict whether the loan of the applicant will be approved or not on the basis of the details provided below:\n",
    "\n",
    "1. `Married`\n",
    "2. `ApplicantIncome`\n",
    "3. `CoapplicantIncome`\n",
    "4. `LoanAmount`\n",
    "5. `Loan_Amount_Term`\n",
    "6. `Property_Area`\n",
    "7. `Gender`\n",
    "8.`Dependents`\n",
    "9. `Education`\n",
    "10. `Self_Employed`"
   ]
  },
  {
   "cell_type": "markdown",
   "id": "5ce61533",
   "metadata": {},
   "source": [
    "### Predictive Model Created Successfully"
   ]
  }
 ],
 "metadata": {
  "kernelspec": {
   "display_name": "Python 3",
   "language": "python",
   "name": "python3"
  },
  "language_info": {
   "codemirror_mode": {
    "name": "ipython",
    "version": 3
   },
   "file_extension": ".py",
   "mimetype": "text/x-python",
   "name": "python",
   "nbconvert_exporter": "python",
   "pygments_lexer": "ipython3",
   "version": "3.8.8"
  }
 },
 "nbformat": 4,
 "nbformat_minor": 5
}
