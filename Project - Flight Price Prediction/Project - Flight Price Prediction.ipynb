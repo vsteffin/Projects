{
 "cells": [
  {
   "cell_type": "markdown",
   "id": "868d0ac3",
   "metadata": {},
   "source": [
    "### Problem Statement:\n",
    "\n",
    "**Flight ticket prices can be something hard to guess, today we might see a price, check out the price of the same flight tomorrow, it will be a different story. We might have often heard travellers saying that flight ticket prices are so unpredictable. Here you will be provided with prices of flight tickets for various airlines between the months of March and June of 2019 and between various cities.**"
   ]
  },
  {
   "cell_type": "markdown",
   "id": "90e50cf3",
   "metadata": {},
   "source": [
    "Aim : You have to use your skills as a data scientist and build a machine learning model to predict the price of the flight ticket. "
   ]
  },
  {
   "cell_type": "markdown",
   "id": "28793683",
   "metadata": {},
   "source": [
    "Dataset:\n",
    "\n",
    "Train dataset - `Flight_Data_Train.xlsx`\n",
    "Test Dataset - `Flight_Test_set.xlsx`    "
   ]
  },
  {
   "cell_type": "code",
   "execution_count": 70,
   "id": "e10bef90",
   "metadata": {},
   "outputs": [
    {
     "data": {
      "text/html": [
       "<div>\n",
       "<style scoped>\n",
       "    .dataframe tbody tr th:only-of-type {\n",
       "        vertical-align: middle;\n",
       "    }\n",
       "\n",
       "    .dataframe tbody tr th {\n",
       "        vertical-align: top;\n",
       "    }\n",
       "\n",
       "    .dataframe thead th {\n",
       "        text-align: right;\n",
       "    }\n",
       "</style>\n",
       "<table border=\"1\" class=\"dataframe\">\n",
       "  <thead>\n",
       "    <tr style=\"text-align: right;\">\n",
       "      <th></th>\n",
       "      <th>Airline</th>\n",
       "      <th>Date_of_Journey</th>\n",
       "      <th>Source</th>\n",
       "      <th>Destination</th>\n",
       "      <th>Route</th>\n",
       "      <th>Dep_Time</th>\n",
       "      <th>Arrival_Time</th>\n",
       "      <th>Duration</th>\n",
       "      <th>Total_Stops</th>\n",
       "      <th>Additional_Info</th>\n",
       "      <th>Price</th>\n",
       "    </tr>\n",
       "  </thead>\n",
       "  <tbody>\n",
       "    <tr>\n",
       "      <th>0</th>\n",
       "      <td>IndiGo</td>\n",
       "      <td>24/03/2019</td>\n",
       "      <td>Banglore</td>\n",
       "      <td>New Delhi</td>\n",
       "      <td>BLR → DEL</td>\n",
       "      <td>22:20</td>\n",
       "      <td>01:10 22 Mar</td>\n",
       "      <td>2h 50m</td>\n",
       "      <td>non-stop</td>\n",
       "      <td>No info</td>\n",
       "      <td>3897</td>\n",
       "    </tr>\n",
       "    <tr>\n",
       "      <th>1</th>\n",
       "      <td>Air India</td>\n",
       "      <td>1/05/2019</td>\n",
       "      <td>Kolkata</td>\n",
       "      <td>Banglore</td>\n",
       "      <td>CCU → IXR → BBI → BLR</td>\n",
       "      <td>05:50</td>\n",
       "      <td>13:15</td>\n",
       "      <td>7h 25m</td>\n",
       "      <td>2 stops</td>\n",
       "      <td>No info</td>\n",
       "      <td>7662</td>\n",
       "    </tr>\n",
       "    <tr>\n",
       "      <th>2</th>\n",
       "      <td>Jet Airways</td>\n",
       "      <td>9/06/2019</td>\n",
       "      <td>Delhi</td>\n",
       "      <td>Cochin</td>\n",
       "      <td>DEL → LKO → BOM → COK</td>\n",
       "      <td>09:25</td>\n",
       "      <td>04:25 10 Jun</td>\n",
       "      <td>19h</td>\n",
       "      <td>2 stops</td>\n",
       "      <td>No info</td>\n",
       "      <td>13882</td>\n",
       "    </tr>\n",
       "    <tr>\n",
       "      <th>3</th>\n",
       "      <td>IndiGo</td>\n",
       "      <td>12/05/2019</td>\n",
       "      <td>Kolkata</td>\n",
       "      <td>Banglore</td>\n",
       "      <td>CCU → NAG → BLR</td>\n",
       "      <td>18:05</td>\n",
       "      <td>23:30</td>\n",
       "      <td>5h 25m</td>\n",
       "      <td>1 stop</td>\n",
       "      <td>No info</td>\n",
       "      <td>6218</td>\n",
       "    </tr>\n",
       "    <tr>\n",
       "      <th>4</th>\n",
       "      <td>IndiGo</td>\n",
       "      <td>01/03/2019</td>\n",
       "      <td>Banglore</td>\n",
       "      <td>New Delhi</td>\n",
       "      <td>BLR → NAG → DEL</td>\n",
       "      <td>16:50</td>\n",
       "      <td>21:35</td>\n",
       "      <td>4h 45m</td>\n",
       "      <td>1 stop</td>\n",
       "      <td>No info</td>\n",
       "      <td>13302</td>\n",
       "    </tr>\n",
       "    <tr>\n",
       "      <th>5</th>\n",
       "      <td>SpiceJet</td>\n",
       "      <td>24/06/2019</td>\n",
       "      <td>Kolkata</td>\n",
       "      <td>Banglore</td>\n",
       "      <td>CCU → BLR</td>\n",
       "      <td>09:00</td>\n",
       "      <td>11:25</td>\n",
       "      <td>2h 25m</td>\n",
       "      <td>non-stop</td>\n",
       "      <td>No info</td>\n",
       "      <td>3873</td>\n",
       "    </tr>\n",
       "    <tr>\n",
       "      <th>6</th>\n",
       "      <td>Jet Airways</td>\n",
       "      <td>12/03/2019</td>\n",
       "      <td>Banglore</td>\n",
       "      <td>New Delhi</td>\n",
       "      <td>BLR → BOM → DEL</td>\n",
       "      <td>18:55</td>\n",
       "      <td>10:25 13 Mar</td>\n",
       "      <td>15h 30m</td>\n",
       "      <td>1 stop</td>\n",
       "      <td>In-flight meal not included</td>\n",
       "      <td>11087</td>\n",
       "    </tr>\n",
       "    <tr>\n",
       "      <th>7</th>\n",
       "      <td>Jet Airways</td>\n",
       "      <td>01/03/2019</td>\n",
       "      <td>Banglore</td>\n",
       "      <td>New Delhi</td>\n",
       "      <td>BLR → BOM → DEL</td>\n",
       "      <td>08:00</td>\n",
       "      <td>05:05 02 Mar</td>\n",
       "      <td>21h 5m</td>\n",
       "      <td>1 stop</td>\n",
       "      <td>No info</td>\n",
       "      <td>22270</td>\n",
       "    </tr>\n",
       "    <tr>\n",
       "      <th>8</th>\n",
       "      <td>Jet Airways</td>\n",
       "      <td>12/03/2019</td>\n",
       "      <td>Banglore</td>\n",
       "      <td>New Delhi</td>\n",
       "      <td>BLR → BOM → DEL</td>\n",
       "      <td>08:55</td>\n",
       "      <td>10:25 13 Mar</td>\n",
       "      <td>25h 30m</td>\n",
       "      <td>1 stop</td>\n",
       "      <td>In-flight meal not included</td>\n",
       "      <td>11087</td>\n",
       "    </tr>\n",
       "    <tr>\n",
       "      <th>9</th>\n",
       "      <td>Multiple carriers</td>\n",
       "      <td>27/05/2019</td>\n",
       "      <td>Delhi</td>\n",
       "      <td>Cochin</td>\n",
       "      <td>DEL → BOM → COK</td>\n",
       "      <td>11:25</td>\n",
       "      <td>19:15</td>\n",
       "      <td>7h 50m</td>\n",
       "      <td>1 stop</td>\n",
       "      <td>No info</td>\n",
       "      <td>8625</td>\n",
       "    </tr>\n",
       "  </tbody>\n",
       "</table>\n",
       "</div>"
      ],
      "text/plain": [
       "             Airline Date_of_Journey    Source Destination  \\\n",
       "0             IndiGo      24/03/2019  Banglore   New Delhi   \n",
       "1          Air India       1/05/2019   Kolkata    Banglore   \n",
       "2        Jet Airways       9/06/2019     Delhi      Cochin   \n",
       "3             IndiGo      12/05/2019   Kolkata    Banglore   \n",
       "4             IndiGo      01/03/2019  Banglore   New Delhi   \n",
       "5           SpiceJet      24/06/2019   Kolkata    Banglore   \n",
       "6        Jet Airways      12/03/2019  Banglore   New Delhi   \n",
       "7        Jet Airways      01/03/2019  Banglore   New Delhi   \n",
       "8        Jet Airways      12/03/2019  Banglore   New Delhi   \n",
       "9  Multiple carriers      27/05/2019     Delhi      Cochin   \n",
       "\n",
       "                   Route Dep_Time  Arrival_Time Duration Total_Stops  \\\n",
       "0              BLR → DEL    22:20  01:10 22 Mar   2h 50m    non-stop   \n",
       "1  CCU → IXR → BBI → BLR    05:50         13:15   7h 25m     2 stops   \n",
       "2  DEL → LKO → BOM → COK    09:25  04:25 10 Jun      19h     2 stops   \n",
       "3        CCU → NAG → BLR    18:05         23:30   5h 25m      1 stop   \n",
       "4        BLR → NAG → DEL    16:50         21:35   4h 45m      1 stop   \n",
       "5              CCU → BLR    09:00         11:25   2h 25m    non-stop   \n",
       "6        BLR → BOM → DEL    18:55  10:25 13 Mar  15h 30m      1 stop   \n",
       "7        BLR → BOM → DEL    08:00  05:05 02 Mar   21h 5m      1 stop   \n",
       "8        BLR → BOM → DEL    08:55  10:25 13 Mar  25h 30m      1 stop   \n",
       "9        DEL → BOM → COK    11:25         19:15   7h 50m      1 stop   \n",
       "\n",
       "               Additional_Info  Price  \n",
       "0                      No info   3897  \n",
       "1                      No info   7662  \n",
       "2                      No info  13882  \n",
       "3                      No info   6218  \n",
       "4                      No info  13302  \n",
       "5                      No info   3873  \n",
       "6  In-flight meal not included  11087  \n",
       "7                      No info  22270  \n",
       "8  In-flight meal not included  11087  \n",
       "9                      No info   8625  "
      ]
     },
     "execution_count": 70,
     "metadata": {},
     "output_type": "execute_result"
    }
   ],
   "source": [
    "#Importing Libraries\n",
    "import pandas as pd\n",
    "import warnings\n",
    "warnings.filterwarnings('ignore')\n",
    "\n",
    "#Loading the train dataset\n",
    "data = pd.read_excel('Flight_Data_Train.xlsx')\n",
    "data.head(10)"
   ]
  },
  {
   "cell_type": "code",
   "execution_count": 71,
   "id": "73106fc3",
   "metadata": {},
   "outputs": [
    {
     "data": {
      "text/html": [
       "<div>\n",
       "<style scoped>\n",
       "    .dataframe tbody tr th:only-of-type {\n",
       "        vertical-align: middle;\n",
       "    }\n",
       "\n",
       "    .dataframe tbody tr th {\n",
       "        vertical-align: top;\n",
       "    }\n",
       "\n",
       "    .dataframe thead th {\n",
       "        text-align: right;\n",
       "    }\n",
       "</style>\n",
       "<table border=\"1\" class=\"dataframe\">\n",
       "  <thead>\n",
       "    <tr style=\"text-align: right;\">\n",
       "      <th></th>\n",
       "      <th>Airline</th>\n",
       "      <th>Date_of_Journey</th>\n",
       "      <th>Source</th>\n",
       "      <th>Destination</th>\n",
       "      <th>Route</th>\n",
       "      <th>Dep_Time</th>\n",
       "      <th>Arrival_Time</th>\n",
       "      <th>Duration</th>\n",
       "      <th>Total_Stops</th>\n",
       "      <th>Additional_Info</th>\n",
       "    </tr>\n",
       "  </thead>\n",
       "  <tbody>\n",
       "    <tr>\n",
       "      <th>0</th>\n",
       "      <td>Jet Airways</td>\n",
       "      <td>6/06/2019</td>\n",
       "      <td>Delhi</td>\n",
       "      <td>Cochin</td>\n",
       "      <td>DEL → BOM → COK</td>\n",
       "      <td>17:30</td>\n",
       "      <td>04:25 07 Jun</td>\n",
       "      <td>10h 55m</td>\n",
       "      <td>1 stop</td>\n",
       "      <td>No info</td>\n",
       "    </tr>\n",
       "    <tr>\n",
       "      <th>1</th>\n",
       "      <td>IndiGo</td>\n",
       "      <td>12/05/2019</td>\n",
       "      <td>Kolkata</td>\n",
       "      <td>Banglore</td>\n",
       "      <td>CCU → MAA → BLR</td>\n",
       "      <td>06:20</td>\n",
       "      <td>10:20</td>\n",
       "      <td>4h</td>\n",
       "      <td>1 stop</td>\n",
       "      <td>No info</td>\n",
       "    </tr>\n",
       "    <tr>\n",
       "      <th>2</th>\n",
       "      <td>Jet Airways</td>\n",
       "      <td>21/05/2019</td>\n",
       "      <td>Delhi</td>\n",
       "      <td>Cochin</td>\n",
       "      <td>DEL → BOM → COK</td>\n",
       "      <td>19:15</td>\n",
       "      <td>19:00 22 May</td>\n",
       "      <td>23h 45m</td>\n",
       "      <td>1 stop</td>\n",
       "      <td>In-flight meal not included</td>\n",
       "    </tr>\n",
       "    <tr>\n",
       "      <th>3</th>\n",
       "      <td>Multiple carriers</td>\n",
       "      <td>21/05/2019</td>\n",
       "      <td>Delhi</td>\n",
       "      <td>Cochin</td>\n",
       "      <td>DEL → BOM → COK</td>\n",
       "      <td>08:00</td>\n",
       "      <td>21:00</td>\n",
       "      <td>13h</td>\n",
       "      <td>1 stop</td>\n",
       "      <td>No info</td>\n",
       "    </tr>\n",
       "    <tr>\n",
       "      <th>4</th>\n",
       "      <td>Air Asia</td>\n",
       "      <td>24/06/2019</td>\n",
       "      <td>Banglore</td>\n",
       "      <td>Delhi</td>\n",
       "      <td>BLR → DEL</td>\n",
       "      <td>23:55</td>\n",
       "      <td>02:45 25 Jun</td>\n",
       "      <td>2h 50m</td>\n",
       "      <td>non-stop</td>\n",
       "      <td>No info</td>\n",
       "    </tr>\n",
       "    <tr>\n",
       "      <th>5</th>\n",
       "      <td>Jet Airways</td>\n",
       "      <td>12/06/2019</td>\n",
       "      <td>Delhi</td>\n",
       "      <td>Cochin</td>\n",
       "      <td>DEL → BOM → COK</td>\n",
       "      <td>18:15</td>\n",
       "      <td>12:35 13 Jun</td>\n",
       "      <td>18h 20m</td>\n",
       "      <td>1 stop</td>\n",
       "      <td>In-flight meal not included</td>\n",
       "    </tr>\n",
       "    <tr>\n",
       "      <th>6</th>\n",
       "      <td>Air India</td>\n",
       "      <td>12/03/2019</td>\n",
       "      <td>Banglore</td>\n",
       "      <td>New Delhi</td>\n",
       "      <td>BLR → TRV → DEL</td>\n",
       "      <td>07:30</td>\n",
       "      <td>22:35</td>\n",
       "      <td>15h 5m</td>\n",
       "      <td>1 stop</td>\n",
       "      <td>No info</td>\n",
       "    </tr>\n",
       "    <tr>\n",
       "      <th>7</th>\n",
       "      <td>IndiGo</td>\n",
       "      <td>1/05/2019</td>\n",
       "      <td>Kolkata</td>\n",
       "      <td>Banglore</td>\n",
       "      <td>CCU → HYD → BLR</td>\n",
       "      <td>15:15</td>\n",
       "      <td>20:30</td>\n",
       "      <td>5h 15m</td>\n",
       "      <td>1 stop</td>\n",
       "      <td>No info</td>\n",
       "    </tr>\n",
       "    <tr>\n",
       "      <th>8</th>\n",
       "      <td>IndiGo</td>\n",
       "      <td>15/03/2019</td>\n",
       "      <td>Kolkata</td>\n",
       "      <td>Banglore</td>\n",
       "      <td>CCU → BLR</td>\n",
       "      <td>10:10</td>\n",
       "      <td>12:55</td>\n",
       "      <td>2h 45m</td>\n",
       "      <td>non-stop</td>\n",
       "      <td>No info</td>\n",
       "    </tr>\n",
       "    <tr>\n",
       "      <th>9</th>\n",
       "      <td>Jet Airways</td>\n",
       "      <td>18/05/2019</td>\n",
       "      <td>Kolkata</td>\n",
       "      <td>Banglore</td>\n",
       "      <td>CCU → BOM → BLR</td>\n",
       "      <td>16:30</td>\n",
       "      <td>22:35</td>\n",
       "      <td>6h 5m</td>\n",
       "      <td>1 stop</td>\n",
       "      <td>No info</td>\n",
       "    </tr>\n",
       "  </tbody>\n",
       "</table>\n",
       "</div>"
      ],
      "text/plain": [
       "             Airline Date_of_Journey    Source Destination            Route  \\\n",
       "0        Jet Airways       6/06/2019     Delhi      Cochin  DEL → BOM → COK   \n",
       "1             IndiGo      12/05/2019   Kolkata    Banglore  CCU → MAA → BLR   \n",
       "2        Jet Airways      21/05/2019     Delhi      Cochin  DEL → BOM → COK   \n",
       "3  Multiple carriers      21/05/2019     Delhi      Cochin  DEL → BOM → COK   \n",
       "4           Air Asia      24/06/2019  Banglore       Delhi        BLR → DEL   \n",
       "5        Jet Airways      12/06/2019     Delhi      Cochin  DEL → BOM → COK   \n",
       "6          Air India      12/03/2019  Banglore   New Delhi  BLR → TRV → DEL   \n",
       "7             IndiGo       1/05/2019   Kolkata    Banglore  CCU → HYD → BLR   \n",
       "8             IndiGo      15/03/2019   Kolkata    Banglore        CCU → BLR   \n",
       "9        Jet Airways      18/05/2019   Kolkata    Banglore  CCU → BOM → BLR   \n",
       "\n",
       "  Dep_Time  Arrival_Time Duration Total_Stops              Additional_Info  \n",
       "0    17:30  04:25 07 Jun  10h 55m      1 stop                      No info  \n",
       "1    06:20         10:20       4h      1 stop                      No info  \n",
       "2    19:15  19:00 22 May  23h 45m      1 stop  In-flight meal not included  \n",
       "3    08:00         21:00      13h      1 stop                      No info  \n",
       "4    23:55  02:45 25 Jun   2h 50m    non-stop                      No info  \n",
       "5    18:15  12:35 13 Jun  18h 20m      1 stop  In-flight meal not included  \n",
       "6    07:30         22:35   15h 5m      1 stop                      No info  \n",
       "7    15:15         20:30   5h 15m      1 stop                      No info  \n",
       "8    10:10         12:55   2h 45m    non-stop                      No info  \n",
       "9    16:30         22:35    6h 5m      1 stop                      No info  "
      ]
     },
     "execution_count": 71,
     "metadata": {},
     "output_type": "execute_result"
    }
   ],
   "source": [
    "#Loading the test dataset\n",
    "test_data = pd.read_excel('Flight_Test_set.xlsx')\n",
    "test_data.head(10)"
   ]
  },
  {
   "cell_type": "markdown",
   "id": "6a178450",
   "metadata": {},
   "source": [
    "### Exploratory Data Analysis"
   ]
  },
  {
   "cell_type": "code",
   "execution_count": 72,
   "id": "285bf005",
   "metadata": {},
   "outputs": [
    {
     "name": "stdout",
     "output_type": "stream",
     "text": [
      "Shape of Train data : (10683, 11)\n",
      "Shape of Test data : (2671, 10)\n"
     ]
    }
   ],
   "source": [
    "print('Shape of Train data :', data.shape)\n",
    "print(\"Shape of Test data :\", test_data.shape)"
   ]
  },
  {
   "cell_type": "markdown",
   "id": "6592d455",
   "metadata": {},
   "source": [
    "We have 10683 rows and 11 columns in training dataset. Also we have 2671 rows and 10 columns in test dataset."
   ]
  },
  {
   "cell_type": "code",
   "execution_count": 73,
   "id": "46dc7238",
   "metadata": {},
   "outputs": [
    {
     "data": {
      "text/plain": [
       "Airline            object\n",
       "Date_of_Journey    object\n",
       "Source             object\n",
       "Destination        object\n",
       "Route              object\n",
       "Dep_Time           object\n",
       "Arrival_Time       object\n",
       "Duration           object\n",
       "Total_Stops        object\n",
       "Additional_Info    object\n",
       "Price               int64\n",
       "dtype: object"
      ]
     },
     "execution_count": 73,
     "metadata": {},
     "output_type": "execute_result"
    }
   ],
   "source": [
    "data.dtypes"
   ]
  },
  {
   "cell_type": "markdown",
   "id": "bbaee773",
   "metadata": {},
   "source": [
    "We have integer and object type of data in the training data"
   ]
  },
  {
   "cell_type": "code",
   "execution_count": 74,
   "id": "5d561dba",
   "metadata": {},
   "outputs": [
    {
     "data": {
      "text/plain": [
       "Airline            object\n",
       "Date_of_Journey    object\n",
       "Source             object\n",
       "Destination        object\n",
       "Route              object\n",
       "Dep_Time           object\n",
       "Arrival_Time       object\n",
       "Duration           object\n",
       "Total_Stops        object\n",
       "Additional_Info    object\n",
       "dtype: object"
      ]
     },
     "execution_count": 74,
     "metadata": {},
     "output_type": "execute_result"
    }
   ],
   "source": [
    "test_data.dtypes"
   ]
  },
  {
   "cell_type": "markdown",
   "id": "1b71dbd7",
   "metadata": {},
   "source": [
    "We only have object type of data in test data."
   ]
  },
  {
   "cell_type": "code",
   "execution_count": 75,
   "id": "2beb5f7e",
   "metadata": {},
   "outputs": [
    {
     "name": "stdout",
     "output_type": "stream",
     "text": [
      "<class 'pandas.core.frame.DataFrame'>\n",
      "RangeIndex: 10683 entries, 0 to 10682\n",
      "Data columns (total 11 columns):\n",
      " #   Column           Non-Null Count  Dtype \n",
      "---  ------           --------------  ----- \n",
      " 0   Airline          10683 non-null  object\n",
      " 1   Date_of_Journey  10683 non-null  object\n",
      " 2   Source           10683 non-null  object\n",
      " 3   Destination      10683 non-null  object\n",
      " 4   Route            10682 non-null  object\n",
      " 5   Dep_Time         10683 non-null  object\n",
      " 6   Arrival_Time     10683 non-null  object\n",
      " 7   Duration         10683 non-null  object\n",
      " 8   Total_Stops      10682 non-null  object\n",
      " 9   Additional_Info  10683 non-null  object\n",
      " 10  Price            10683 non-null  int64 \n",
      "dtypes: int64(1), object(10)\n",
      "memory usage: 918.2+ KB\n"
     ]
    }
   ],
   "source": [
    "data.info()"
   ]
  },
  {
   "cell_type": "markdown",
   "id": "1af5f956",
   "metadata": {},
   "source": [
    "We have 10683 non null values in columns except the column ['Route', 'Total_Stops']"
   ]
  },
  {
   "cell_type": "code",
   "execution_count": 76,
   "id": "8b793c78",
   "metadata": {},
   "outputs": [
    {
     "name": "stdout",
     "output_type": "stream",
     "text": [
      "<class 'pandas.core.frame.DataFrame'>\n",
      "RangeIndex: 2671 entries, 0 to 2670\n",
      "Data columns (total 10 columns):\n",
      " #   Column           Non-Null Count  Dtype \n",
      "---  ------           --------------  ----- \n",
      " 0   Airline          2671 non-null   object\n",
      " 1   Date_of_Journey  2671 non-null   object\n",
      " 2   Source           2671 non-null   object\n",
      " 3   Destination      2671 non-null   object\n",
      " 4   Route            2671 non-null   object\n",
      " 5   Dep_Time         2671 non-null   object\n",
      " 6   Arrival_Time     2671 non-null   object\n",
      " 7   Duration         2671 non-null   object\n",
      " 8   Total_Stops      2671 non-null   object\n",
      " 9   Additional_Info  2671 non-null   object\n",
      "dtypes: object(10)\n",
      "memory usage: 208.8+ KB\n"
     ]
    }
   ],
   "source": [
    "test_data.info()"
   ]
  },
  {
   "cell_type": "markdown",
   "id": "0d0aeae3",
   "metadata": {},
   "source": [
    "We have 2671 non null values in all the columns"
   ]
  },
  {
   "cell_type": "code",
   "execution_count": 77,
   "id": "2bccf60f",
   "metadata": {},
   "outputs": [
    {
     "data": {
      "text/plain": [
       "Index(['Airline', 'Date_of_Journey', 'Source', 'Destination', 'Route',\n",
       "       'Dep_Time', 'Arrival_Time', 'Duration', 'Total_Stops',\n",
       "       'Additional_Info', 'Price'],\n",
       "      dtype='object')"
      ]
     },
     "execution_count": 77,
     "metadata": {},
     "output_type": "execute_result"
    }
   ],
   "source": [
    "data.columns"
   ]
  },
  {
   "cell_type": "code",
   "execution_count": 78,
   "id": "ea666c6b",
   "metadata": {},
   "outputs": [
    {
     "data": {
      "text/plain": [
       "Index(['Airline', 'Date_of_Journey', 'Source', 'Destination', 'Route',\n",
       "       'Dep_Time', 'Arrival_Time', 'Duration', 'Total_Stops',\n",
       "       'Additional_Info'],\n",
       "      dtype='object')"
      ]
     },
     "execution_count": 78,
     "metadata": {},
     "output_type": "execute_result"
    }
   ],
   "source": [
    "test_data.columns"
   ]
  },
  {
   "cell_type": "markdown",
   "id": "6dfa2654",
   "metadata": {},
   "source": [
    "### Features in Dataset(Independent Variable)"
   ]
  },
  {
   "cell_type": "markdown",
   "id": "506c434d",
   "metadata": {},
   "source": [
    "`Airline` : The name of the airline.\n",
    "\n",
    "`Date_of_Journey` : The date of the journey\n",
    "\n",
    "`Source` : The source from which the service begins.\n",
    "\n",
    "`Destination` : The destination where the service ends.\n",
    "\n",
    "`Route` : The route taken by the flight to reach the destination.\n",
    "\n",
    "`Dep_Time` : The time when the journey starts from the source.\n",
    "\n",
    "`Arrival_Time` : Time of arrival at the destination.\n",
    "\n",
    "`Duration` : Total duration of the flight.\n",
    "\n",
    "`Total_Stops` : Total stops between the source and destination.\n",
    "\n",
    "`Additional_Info` : Additional information about the flight"
   ]
  },
  {
   "cell_type": "markdown",
   "id": "9aa1d9e6",
   "metadata": {},
   "source": [
    "### Target in dataset(Dependent Variable)"
   ]
  },
  {
   "cell_type": "markdown",
   "id": "92d1838c",
   "metadata": {},
   "source": [
    "`Price` : The price of the ticket"
   ]
  },
  {
   "cell_type": "markdown",
   "id": "30f3ba11",
   "metadata": {},
   "source": [
    "### Feature Engineering"
   ]
  },
  {
   "cell_type": "markdown",
   "id": "b82eb60c",
   "metadata": {},
   "source": [
    "The columns ['Date_of_Journey', 'Dep_Time', 'Arrival_Time'] are not in date time format. We can convert the data in these columns to date time format."
   ]
  },
  {
   "cell_type": "code",
   "execution_count": 79,
   "id": "49dab0c9",
   "metadata": {},
   "outputs": [],
   "source": [
    "#Converting the datatype of date and time columns in train data.\n",
    "data['Date_of_Journey'] = pd.to_datetime(data['Date_of_Journey'],format='%d/%m/%Y')\n",
    "data['Dep_Time'] = pd.to_datetime(data['Dep_Time'])\n",
    "data['Arrival_Time'] = pd.to_datetime(data['Arrival_Time'])"
   ]
  },
  {
   "cell_type": "code",
   "execution_count": 80,
   "id": "024c6715",
   "metadata": {},
   "outputs": [],
   "source": [
    "#Converting the datatypes of date and time columns in test data.\n",
    "test_data['Date_of_Journey'] = pd.to_datetime(test_data['Date_of_Journey'],format='%d/%m/%Y')\n",
    "test_data['Dep_Time'] = pd.to_datetime(test_data['Dep_Time'])\n",
    "test_data['Arrival_Time'] = pd.to_datetime(test_data['Arrival_Time'])"
   ]
  },
  {
   "cell_type": "markdown",
   "id": "faa32e71",
   "metadata": {},
   "source": [
    "Since the data is only given for the year, 2019 we can split the date and month from the column 'Date_of_Journey' and add to the dataset."
   ]
  },
  {
   "cell_type": "code",
   "execution_count": 81,
   "id": "5a20e63b",
   "metadata": {},
   "outputs": [],
   "source": [
    "#Extracting the day and month from column 'Day_of_Journey' as new columns in the train dataset.\n",
    "data['Day_of_Journey'] = data['Date_of_Journey'].dt.day\n",
    "data['Month_of_Journey'] = data['Date_of_Journey'].dt.month\n",
    "\n",
    "#Extracting the hour and minutes from the columns ['Dep_Time', 'Arrival_Time'] as new columns in the train dataset.\n",
    "data['Dep_Time_Hour'] = data['Dep_Time'].dt.hour\n",
    "data['Dep_Time_Minute'] = data['Dep_Time'].dt.minute\n",
    "\n",
    "data['Arrival_Time_Hour'] = data['Arrival_Time'].dt.hour\n",
    "data['Arrival_Time_Minute'] = data['Arrival_Time'].dt.minute"
   ]
  },
  {
   "cell_type": "code",
   "execution_count": 82,
   "id": "b17784e2",
   "metadata": {},
   "outputs": [],
   "source": [
    "#Extracting the day and month from column 'Day_of_Journey' as new columns in the test dataset.\n",
    "test_data['Day_of_Journey'] = test_data['Date_of_Journey'].dt.day\n",
    "test_data['Month_of_Journey'] = test_data['Date_of_Journey'].dt.month\n",
    "\n",
    "#Extracting the hour and minutes from the columns ['Dep_Time', 'Arrival_Time'] as new columns in the test dataset.\n",
    "test_data['Dep_Time_Hour'] = test_data['Dep_Time'].dt.hour\n",
    "test_data['Dep_Time_Minute'] = test_data['Dep_Time'].dt.minute\n",
    "\n",
    "test_data['Arrival_Time_Hour'] = test_data['Arrival_Time'].dt.hour\n",
    "test_data['Arrival_Time_Minute'] = test_data['Arrival_Time'].dt.minute"
   ]
  },
  {
   "cell_type": "markdown",
   "id": "db7bcb4c",
   "metadata": {},
   "source": [
    "Since we have taken the month and day from the column 'Date_of_Journey' and hour and minutes from the columns ['Dep_Time', 'Arrival_Time'] we can drop these columns from the train and test data."
   ]
  },
  {
   "cell_type": "code",
   "execution_count": 83,
   "id": "f46ec8a1",
   "metadata": {},
   "outputs": [],
   "source": [
    "#Dropping columns from train data\n",
    "data.drop(['Date_of_Journey', 'Dep_Time', 'Arrival_Time'], axis = 1, inplace = True)\n",
    "\n",
    "#dropping columns from test data\n",
    "test_data.drop(['Date_of_Journey', 'Dep_Time', 'Arrival_Time'], axis = 1, inplace = True)"
   ]
  },
  {
   "cell_type": "markdown",
   "id": "21442ba8",
   "metadata": {},
   "source": [
    "Converting the values in column 'Duration' into minutes for easy calcuation"
   ]
  },
  {
   "cell_type": "code",
   "execution_count": 84,
   "id": "172dae51",
   "metadata": {},
   "outputs": [],
   "source": [
    "import numpy as np\n",
    "import datetime\n",
    "\n",
    "#Train Data\n",
    "\n",
    "#Changing the format of the values for timedelta\n",
    "for i in range(0,len(data.Duration)):\n",
    "    data.Duration[i] = data.Duration[i].replace('h',':').replace(' ','').replace('m',':00')\n",
    "\n",
    "#Changing the datatype to timedelta\n",
    "data['Duration'] = pd.to_timedelta(np.where(data['Duration'].str.count(':') ==1, data['Duration']+'00:00',data['Duration']))\n",
    "\n",
    "#Converting the value to minutes\n",
    "for i in range(0,len(data.Duration)):\n",
    "    data.Duration[i] = (data.Duration[i].total_seconds())/60\n",
    "    \n",
    "data['Duration'] = data['Duration'].astype('int64')"
   ]
  },
  {
   "cell_type": "code",
   "execution_count": 85,
   "id": "f32ee714",
   "metadata": {},
   "outputs": [],
   "source": [
    "#Test data\n",
    "\n",
    "#Changing the format of the values for timedelta\n",
    "for i in range(0,len(test_data.Duration)):\n",
    "    test_data.Duration[i] = test_data.Duration[i].replace('h',':').replace(' ','').replace('m',':00')\n",
    "\n",
    "#Changing the datatype to timedelta\n",
    "test_data['Duration'] = pd.to_timedelta(np.where(test_data['Duration'].str.count(':') ==1, test_data['Duration']+'00:00',test_data['Duration']))\n",
    "\n",
    "#Converting the value to minutes\n",
    "for i in range(0,len(test_data.Duration)):\n",
    "    test_data.Duration[i] = (test_data.Duration[i].total_seconds())/60\n",
    "    \n",
    "test_data['Duration'] = test_data['Duration'].astype('int64')"
   ]
  },
  {
   "cell_type": "code",
   "execution_count": 86,
   "id": "323340c6",
   "metadata": {},
   "outputs": [
    {
     "data": {
      "text/plain": [
       "Airline                object\n",
       "Source                 object\n",
       "Destination            object\n",
       "Route                  object\n",
       "Duration                int64\n",
       "Total_Stops            object\n",
       "Additional_Info        object\n",
       "Price                   int64\n",
       "Day_of_Journey          int64\n",
       "Month_of_Journey        int64\n",
       "Dep_Time_Hour           int64\n",
       "Dep_Time_Minute         int64\n",
       "Arrival_Time_Hour       int64\n",
       "Arrival_Time_Minute     int64\n",
       "dtype: object"
      ]
     },
     "execution_count": 86,
     "metadata": {},
     "output_type": "execute_result"
    }
   ],
   "source": [
    "data.dtypes"
   ]
  },
  {
   "cell_type": "code",
   "execution_count": 87,
   "id": "804c35ca",
   "metadata": {},
   "outputs": [
    {
     "data": {
      "text/plain": [
       "Airline                object\n",
       "Source                 object\n",
       "Destination            object\n",
       "Route                  object\n",
       "Duration                int64\n",
       "Total_Stops            object\n",
       "Additional_Info        object\n",
       "Day_of_Journey          int64\n",
       "Month_of_Journey        int64\n",
       "Dep_Time_Hour           int64\n",
       "Dep_Time_Minute         int64\n",
       "Arrival_Time_Hour       int64\n",
       "Arrival_Time_Minute     int64\n",
       "dtype: object"
      ]
     },
     "execution_count": 87,
     "metadata": {},
     "output_type": "execute_result"
    }
   ],
   "source": [
    "test_data.dtypes"
   ]
  },
  {
   "cell_type": "code",
   "execution_count": 88,
   "id": "55b342b3",
   "metadata": {},
   "outputs": [
    {
     "data": {
      "text/html": [
       "<div>\n",
       "<style scoped>\n",
       "    .dataframe tbody tr th:only-of-type {\n",
       "        vertical-align: middle;\n",
       "    }\n",
       "\n",
       "    .dataframe tbody tr th {\n",
       "        vertical-align: top;\n",
       "    }\n",
       "\n",
       "    .dataframe thead th {\n",
       "        text-align: right;\n",
       "    }\n",
       "</style>\n",
       "<table border=\"1\" class=\"dataframe\">\n",
       "  <thead>\n",
       "    <tr style=\"text-align: right;\">\n",
       "      <th></th>\n",
       "      <th>Airline</th>\n",
       "      <th>Source</th>\n",
       "      <th>Destination</th>\n",
       "      <th>Route</th>\n",
       "      <th>Duration</th>\n",
       "      <th>Total_Stops</th>\n",
       "      <th>Additional_Info</th>\n",
       "      <th>Price</th>\n",
       "      <th>Day_of_Journey</th>\n",
       "      <th>Month_of_Journey</th>\n",
       "      <th>Dep_Time_Hour</th>\n",
       "      <th>Dep_Time_Minute</th>\n",
       "      <th>Arrival_Time_Hour</th>\n",
       "      <th>Arrival_Time_Minute</th>\n",
       "    </tr>\n",
       "  </thead>\n",
       "  <tbody>\n",
       "    <tr>\n",
       "      <th>0</th>\n",
       "      <td>IndiGo</td>\n",
       "      <td>Banglore</td>\n",
       "      <td>New Delhi</td>\n",
       "      <td>BLR → DEL</td>\n",
       "      <td>170</td>\n",
       "      <td>non-stop</td>\n",
       "      <td>No info</td>\n",
       "      <td>3897</td>\n",
       "      <td>24</td>\n",
       "      <td>3</td>\n",
       "      <td>22</td>\n",
       "      <td>20</td>\n",
       "      <td>1</td>\n",
       "      <td>10</td>\n",
       "    </tr>\n",
       "    <tr>\n",
       "      <th>1</th>\n",
       "      <td>Air India</td>\n",
       "      <td>Kolkata</td>\n",
       "      <td>Banglore</td>\n",
       "      <td>CCU → IXR → BBI → BLR</td>\n",
       "      <td>445</td>\n",
       "      <td>2 stops</td>\n",
       "      <td>No info</td>\n",
       "      <td>7662</td>\n",
       "      <td>1</td>\n",
       "      <td>5</td>\n",
       "      <td>5</td>\n",
       "      <td>50</td>\n",
       "      <td>13</td>\n",
       "      <td>15</td>\n",
       "    </tr>\n",
       "    <tr>\n",
       "      <th>2</th>\n",
       "      <td>Jet Airways</td>\n",
       "      <td>Delhi</td>\n",
       "      <td>Cochin</td>\n",
       "      <td>DEL → LKO → BOM → COK</td>\n",
       "      <td>1140</td>\n",
       "      <td>2 stops</td>\n",
       "      <td>No info</td>\n",
       "      <td>13882</td>\n",
       "      <td>9</td>\n",
       "      <td>6</td>\n",
       "      <td>9</td>\n",
       "      <td>25</td>\n",
       "      <td>4</td>\n",
       "      <td>25</td>\n",
       "    </tr>\n",
       "    <tr>\n",
       "      <th>3</th>\n",
       "      <td>IndiGo</td>\n",
       "      <td>Kolkata</td>\n",
       "      <td>Banglore</td>\n",
       "      <td>CCU → NAG → BLR</td>\n",
       "      <td>325</td>\n",
       "      <td>1 stop</td>\n",
       "      <td>No info</td>\n",
       "      <td>6218</td>\n",
       "      <td>12</td>\n",
       "      <td>5</td>\n",
       "      <td>18</td>\n",
       "      <td>5</td>\n",
       "      <td>23</td>\n",
       "      <td>30</td>\n",
       "    </tr>\n",
       "    <tr>\n",
       "      <th>4</th>\n",
       "      <td>IndiGo</td>\n",
       "      <td>Banglore</td>\n",
       "      <td>New Delhi</td>\n",
       "      <td>BLR → NAG → DEL</td>\n",
       "      <td>285</td>\n",
       "      <td>1 stop</td>\n",
       "      <td>No info</td>\n",
       "      <td>13302</td>\n",
       "      <td>1</td>\n",
       "      <td>3</td>\n",
       "      <td>16</td>\n",
       "      <td>50</td>\n",
       "      <td>21</td>\n",
       "      <td>35</td>\n",
       "    </tr>\n",
       "  </tbody>\n",
       "</table>\n",
       "</div>"
      ],
      "text/plain": [
       "       Airline    Source Destination                  Route  Duration  \\\n",
       "0       IndiGo  Banglore   New Delhi              BLR → DEL       170   \n",
       "1    Air India   Kolkata    Banglore  CCU → IXR → BBI → BLR       445   \n",
       "2  Jet Airways     Delhi      Cochin  DEL → LKO → BOM → COK      1140   \n",
       "3       IndiGo   Kolkata    Banglore        CCU → NAG → BLR       325   \n",
       "4       IndiGo  Banglore   New Delhi        BLR → NAG → DEL       285   \n",
       "\n",
       "  Total_Stops Additional_Info  Price  Day_of_Journey  Month_of_Journey  \\\n",
       "0    non-stop         No info   3897              24                 3   \n",
       "1     2 stops         No info   7662               1                 5   \n",
       "2     2 stops         No info  13882               9                 6   \n",
       "3      1 stop         No info   6218              12                 5   \n",
       "4      1 stop         No info  13302               1                 3   \n",
       "\n",
       "   Dep_Time_Hour  Dep_Time_Minute  Arrival_Time_Hour  Arrival_Time_Minute  \n",
       "0             22               20                  1                   10  \n",
       "1              5               50                 13                   15  \n",
       "2              9               25                  4                   25  \n",
       "3             18                5                 23                   30  \n",
       "4             16               50                 21                   35  "
      ]
     },
     "execution_count": 88,
     "metadata": {},
     "output_type": "execute_result"
    }
   ],
   "source": [
    "data.head(5)"
   ]
  },
  {
   "cell_type": "code",
   "execution_count": 89,
   "id": "a49dce7d",
   "metadata": {},
   "outputs": [
    {
     "data": {
      "text/html": [
       "<div>\n",
       "<style scoped>\n",
       "    .dataframe tbody tr th:only-of-type {\n",
       "        vertical-align: middle;\n",
       "    }\n",
       "\n",
       "    .dataframe tbody tr th {\n",
       "        vertical-align: top;\n",
       "    }\n",
       "\n",
       "    .dataframe thead th {\n",
       "        text-align: right;\n",
       "    }\n",
       "</style>\n",
       "<table border=\"1\" class=\"dataframe\">\n",
       "  <thead>\n",
       "    <tr style=\"text-align: right;\">\n",
       "      <th></th>\n",
       "      <th>Airline</th>\n",
       "      <th>Source</th>\n",
       "      <th>Destination</th>\n",
       "      <th>Route</th>\n",
       "      <th>Duration</th>\n",
       "      <th>Total_Stops</th>\n",
       "      <th>Additional_Info</th>\n",
       "      <th>Day_of_Journey</th>\n",
       "      <th>Month_of_Journey</th>\n",
       "      <th>Dep_Time_Hour</th>\n",
       "      <th>Dep_Time_Minute</th>\n",
       "      <th>Arrival_Time_Hour</th>\n",
       "      <th>Arrival_Time_Minute</th>\n",
       "    </tr>\n",
       "  </thead>\n",
       "  <tbody>\n",
       "    <tr>\n",
       "      <th>0</th>\n",
       "      <td>Jet Airways</td>\n",
       "      <td>Delhi</td>\n",
       "      <td>Cochin</td>\n",
       "      <td>DEL → BOM → COK</td>\n",
       "      <td>655</td>\n",
       "      <td>1 stop</td>\n",
       "      <td>No info</td>\n",
       "      <td>6</td>\n",
       "      <td>6</td>\n",
       "      <td>17</td>\n",
       "      <td>30</td>\n",
       "      <td>4</td>\n",
       "      <td>25</td>\n",
       "    </tr>\n",
       "    <tr>\n",
       "      <th>1</th>\n",
       "      <td>IndiGo</td>\n",
       "      <td>Kolkata</td>\n",
       "      <td>Banglore</td>\n",
       "      <td>CCU → MAA → BLR</td>\n",
       "      <td>240</td>\n",
       "      <td>1 stop</td>\n",
       "      <td>No info</td>\n",
       "      <td>12</td>\n",
       "      <td>5</td>\n",
       "      <td>6</td>\n",
       "      <td>20</td>\n",
       "      <td>10</td>\n",
       "      <td>20</td>\n",
       "    </tr>\n",
       "    <tr>\n",
       "      <th>2</th>\n",
       "      <td>Jet Airways</td>\n",
       "      <td>Delhi</td>\n",
       "      <td>Cochin</td>\n",
       "      <td>DEL → BOM → COK</td>\n",
       "      <td>1425</td>\n",
       "      <td>1 stop</td>\n",
       "      <td>In-flight meal not included</td>\n",
       "      <td>21</td>\n",
       "      <td>5</td>\n",
       "      <td>19</td>\n",
       "      <td>15</td>\n",
       "      <td>19</td>\n",
       "      <td>0</td>\n",
       "    </tr>\n",
       "    <tr>\n",
       "      <th>3</th>\n",
       "      <td>Multiple carriers</td>\n",
       "      <td>Delhi</td>\n",
       "      <td>Cochin</td>\n",
       "      <td>DEL → BOM → COK</td>\n",
       "      <td>780</td>\n",
       "      <td>1 stop</td>\n",
       "      <td>No info</td>\n",
       "      <td>21</td>\n",
       "      <td>5</td>\n",
       "      <td>8</td>\n",
       "      <td>0</td>\n",
       "      <td>21</td>\n",
       "      <td>0</td>\n",
       "    </tr>\n",
       "    <tr>\n",
       "      <th>4</th>\n",
       "      <td>Air Asia</td>\n",
       "      <td>Banglore</td>\n",
       "      <td>Delhi</td>\n",
       "      <td>BLR → DEL</td>\n",
       "      <td>170</td>\n",
       "      <td>non-stop</td>\n",
       "      <td>No info</td>\n",
       "      <td>24</td>\n",
       "      <td>6</td>\n",
       "      <td>23</td>\n",
       "      <td>55</td>\n",
       "      <td>2</td>\n",
       "      <td>45</td>\n",
       "    </tr>\n",
       "  </tbody>\n",
       "</table>\n",
       "</div>"
      ],
      "text/plain": [
       "             Airline    Source Destination            Route  Duration  \\\n",
       "0        Jet Airways     Delhi      Cochin  DEL → BOM → COK       655   \n",
       "1             IndiGo   Kolkata    Banglore  CCU → MAA → BLR       240   \n",
       "2        Jet Airways     Delhi      Cochin  DEL → BOM → COK      1425   \n",
       "3  Multiple carriers     Delhi      Cochin  DEL → BOM → COK       780   \n",
       "4           Air Asia  Banglore       Delhi        BLR → DEL       170   \n",
       "\n",
       "  Total_Stops              Additional_Info  Day_of_Journey  Month_of_Journey  \\\n",
       "0      1 stop                      No info               6                 6   \n",
       "1      1 stop                      No info              12                 5   \n",
       "2      1 stop  In-flight meal not included              21                 5   \n",
       "3      1 stop                      No info              21                 5   \n",
       "4    non-stop                      No info              24                 6   \n",
       "\n",
       "   Dep_Time_Hour  Dep_Time_Minute  Arrival_Time_Hour  Arrival_Time_Minute  \n",
       "0             17               30                  4                   25  \n",
       "1              6               20                 10                   20  \n",
       "2             19               15                 19                    0  \n",
       "3              8                0                 21                    0  \n",
       "4             23               55                  2                   45  "
      ]
     },
     "execution_count": 89,
     "metadata": {},
     "output_type": "execute_result"
    }
   ],
   "source": [
    "test_data.head(5)"
   ]
  },
  {
   "cell_type": "markdown",
   "id": "828fffff",
   "metadata": {},
   "source": [
    "We have converted the datetime values in the dataset to integers"
   ]
  },
  {
   "cell_type": "code",
   "execution_count": 90,
   "id": "4c047c79",
   "metadata": {},
   "outputs": [
    {
     "data": {
      "text/plain": [
       "(10683, 14)"
      ]
     },
     "execution_count": 90,
     "metadata": {},
     "output_type": "execute_result"
    }
   ],
   "source": [
    "data.shape"
   ]
  },
  {
   "cell_type": "code",
   "execution_count": 91,
   "id": "9cb4f795",
   "metadata": {},
   "outputs": [
    {
     "data": {
      "text/plain": [
       "(2671, 13)"
      ]
     },
     "execution_count": 91,
     "metadata": {},
     "output_type": "execute_result"
    }
   ],
   "source": [
    "test_data.shape"
   ]
  },
  {
   "cell_type": "markdown",
   "id": "fc4507d9",
   "metadata": {},
   "source": [
    "### Exploring the categorical Variables in the dataset"
   ]
  },
  {
   "cell_type": "code",
   "execution_count": 92,
   "id": "7c851861",
   "metadata": {},
   "outputs": [],
   "source": [
    "#User defined function to print the count of each uniaue values in each columns in Train data.\n",
    "def val_c(col):\n",
    "    print(data[col].value_counts())"
   ]
  },
  {
   "cell_type": "code",
   "execution_count": 93,
   "id": "b7791832",
   "metadata": {},
   "outputs": [],
   "source": [
    "#User defined function to print the count of each uniaue values in each columns in Test data.\n",
    "def val_c_test(col):\n",
    "    print(test_data[col].value_counts())"
   ]
  },
  {
   "cell_type": "code",
   "execution_count": 94,
   "id": "4984890f",
   "metadata": {},
   "outputs": [
    {
     "name": "stdout",
     "output_type": "stream",
     "text": [
      "Jet Airways                          3849\n",
      "IndiGo                               2053\n",
      "Air India                            1752\n",
      "Multiple carriers                    1196\n",
      "SpiceJet                              818\n",
      "Vistara                               479\n",
      "Air Asia                              319\n",
      "GoAir                                 194\n",
      "Multiple carriers Premium economy      13\n",
      "Jet Airways Business                    6\n",
      "Vistara Premium economy                 3\n",
      "Trujet                                  1\n",
      "Name: Airline, dtype: int64\n"
     ]
    }
   ],
   "source": [
    "val_c('Airline')"
   ]
  },
  {
   "cell_type": "code",
   "execution_count": 95,
   "id": "4b75f963",
   "metadata": {},
   "outputs": [
    {
     "name": "stdout",
     "output_type": "stream",
     "text": [
      "Delhi       4537\n",
      "Kolkata     2871\n",
      "Banglore    2197\n",
      "Mumbai       697\n",
      "Chennai      381\n",
      "Name: Source, dtype: int64\n"
     ]
    }
   ],
   "source": [
    "val_c('Source')"
   ]
  },
  {
   "cell_type": "code",
   "execution_count": 96,
   "id": "419f82c3",
   "metadata": {},
   "outputs": [
    {
     "name": "stdout",
     "output_type": "stream",
     "text": [
      "Cochin       4537\n",
      "Banglore     2871\n",
      "Delhi        1265\n",
      "New Delhi     932\n",
      "Hyderabad     697\n",
      "Kolkata       381\n",
      "Name: Destination, dtype: int64\n"
     ]
    }
   ],
   "source": [
    "val_c('Destination')"
   ]
  },
  {
   "cell_type": "code",
   "execution_count": 97,
   "id": "32e30f23",
   "metadata": {},
   "outputs": [
    {
     "name": "stdout",
     "output_type": "stream",
     "text": [
      "DEL → BOM → COK                2376\n",
      "BLR → DEL                      1552\n",
      "CCU → BOM → BLR                 979\n",
      "CCU → BLR                       724\n",
      "BOM → HYD                       621\n",
      "                               ... \n",
      "BOM → COK → MAA → HYD             1\n",
      "BOM → BLR → CCU → BBI → HYD       1\n",
      "BOM → JAI → DEL → HYD             1\n",
      "BOM → CCU → HYD                   1\n",
      "BOM → JDH → JAI → DEL → HYD       1\n",
      "Name: Route, Length: 128, dtype: int64\n"
     ]
    }
   ],
   "source": [
    "val_c('Route')"
   ]
  },
  {
   "cell_type": "code",
   "execution_count": 98,
   "id": "fc4b5943",
   "metadata": {},
   "outputs": [
    {
     "name": "stdout",
     "output_type": "stream",
     "text": [
      "1 stop      5625\n",
      "non-stop    3491\n",
      "2 stops     1520\n",
      "3 stops       45\n",
      "4 stops        1\n",
      "Name: Total_Stops, dtype: int64\n"
     ]
    }
   ],
   "source": [
    "val_c('Total_Stops')"
   ]
  },
  {
   "cell_type": "code",
   "execution_count": 99,
   "id": "2af56f13",
   "metadata": {},
   "outputs": [
    {
     "name": "stdout",
     "output_type": "stream",
     "text": [
      "No info                         8345\n",
      "In-flight meal not included     1982\n",
      "No check-in baggage included     320\n",
      "1 Long layover                    19\n",
      "Change airports                    7\n",
      "Business class                     4\n",
      "No Info                            3\n",
      "2 Long layover                     1\n",
      "1 Short layover                    1\n",
      "Red-eye flight                     1\n",
      "Name: Additional_Info, dtype: int64\n"
     ]
    }
   ],
   "source": [
    "val_c('Additional_Info')"
   ]
  },
  {
   "cell_type": "code",
   "execution_count": 100,
   "id": "6008f25b",
   "metadata": {},
   "outputs": [
    {
     "name": "stdout",
     "output_type": "stream",
     "text": [
      "Jet Airways                          897\n",
      "IndiGo                               511\n",
      "Air India                            440\n",
      "Multiple carriers                    347\n",
      "SpiceJet                             208\n",
      "Vistara                              129\n",
      "Air Asia                              86\n",
      "GoAir                                 46\n",
      "Multiple carriers Premium economy      3\n",
      "Jet Airways Business                   2\n",
      "Vistara Premium economy                2\n",
      "Name: Airline, dtype: int64\n"
     ]
    }
   ],
   "source": [
    "#Test data\n",
    "val_c_test('Airline')"
   ]
  },
  {
   "cell_type": "code",
   "execution_count": 101,
   "id": "d78a5c0e",
   "metadata": {},
   "outputs": [
    {
     "name": "stdout",
     "output_type": "stream",
     "text": [
      "Delhi       1145\n",
      "Kolkata      710\n",
      "Banglore     555\n",
      "Mumbai       186\n",
      "Chennai       75\n",
      "Name: Source, dtype: int64\n"
     ]
    }
   ],
   "source": [
    "val_c_test('Source')"
   ]
  },
  {
   "cell_type": "code",
   "execution_count": 102,
   "id": "493a9fef",
   "metadata": {},
   "outputs": [
    {
     "name": "stdout",
     "output_type": "stream",
     "text": [
      "Cochin       1145\n",
      "Banglore      710\n",
      "Delhi         317\n",
      "New Delhi     238\n",
      "Hyderabad     186\n",
      "Kolkata        75\n",
      "Name: Destination, dtype: int64\n"
     ]
    }
   ],
   "source": [
    "val_c_test('Destination')"
   ]
  },
  {
   "cell_type": "code",
   "execution_count": 103,
   "id": "7a115fec",
   "metadata": {},
   "outputs": [
    {
     "name": "stdout",
     "output_type": "stream",
     "text": [
      "DEL → BOM → COK          624\n",
      "BLR → DEL                389\n",
      "CCU → BOM → BLR          253\n",
      "CCU → BLR                172\n",
      "BOM → HYD                164\n",
      "                        ... \n",
      "BLR → NAG → DEL            1\n",
      "CCU → PAT → BLR            1\n",
      "BLR → BOM → IDR → DEL      1\n",
      "CCU → BOM → TRV → BLR      1\n",
      "BOM → IXC → DEL → HYD      1\n",
      "Name: Route, Length: 100, dtype: int64\n"
     ]
    }
   ],
   "source": [
    "val_c_test('Route')"
   ]
  },
  {
   "cell_type": "code",
   "execution_count": 104,
   "id": "6d073386",
   "metadata": {},
   "outputs": [
    {
     "name": "stdout",
     "output_type": "stream",
     "text": [
      "1 stop      1431\n",
      "non-stop     849\n",
      "2 stops      379\n",
      "3 stops       11\n",
      "4 stops        1\n",
      "Name: Total_Stops, dtype: int64\n"
     ]
    }
   ],
   "source": [
    "val_c_test('Total_Stops')"
   ]
  },
  {
   "cell_type": "code",
   "execution_count": 105,
   "id": "ead8bf29",
   "metadata": {},
   "outputs": [
    {
     "name": "stdout",
     "output_type": "stream",
     "text": [
      "No info                         2148\n",
      "In-flight meal not included      444\n",
      "No check-in baggage included      76\n",
      "Business class                     1\n",
      "1 Long layover                     1\n",
      "Change airports                    1\n",
      "Name: Additional_Info, dtype: int64\n"
     ]
    }
   ],
   "source": [
    "val_c_test('Additional_Info')"
   ]
  },
  {
   "cell_type": "code",
   "execution_count": 106,
   "id": "648ad9c9",
   "metadata": {},
   "outputs": [],
   "source": [
    "#We can see that in column 'Destination', same city is mentioned in new and old name in train and test data\n",
    "\n",
    "data['Destination'] = data['Destination'].replace('Delhi','New Delhi')\n",
    "\n",
    "test_data['Destination'] = test_data['Destination'].replace('Delhi','New Delhi')\n",
    "\n",
    "#In train data the column 'Additional Info' is having the same category in two names.\n",
    "\n",
    "data['Additional_Info'] = data['Additional_Info'].replace('No Info','No info')"
   ]
  },
  {
   "cell_type": "code",
   "execution_count": 107,
   "id": "e1e91c97",
   "metadata": {},
   "outputs": [
    {
     "data": {
      "text/plain": [
       "Airline                  12\n",
       "Source                    5\n",
       "Destination               5\n",
       "Route                   128\n",
       "Duration                367\n",
       "Total_Stops               5\n",
       "Additional_Info           9\n",
       "Price                  1870\n",
       "Day_of_Journey           10\n",
       "Month_of_Journey          4\n",
       "Dep_Time_Hour            24\n",
       "Dep_Time_Minute          12\n",
       "Arrival_Time_Hour        24\n",
       "Arrival_Time_Minute      12\n",
       "dtype: int64"
      ]
     },
     "execution_count": 107,
     "metadata": {},
     "output_type": "execute_result"
    }
   ],
   "source": [
    "data.nunique()"
   ]
  },
  {
   "cell_type": "code",
   "execution_count": 108,
   "id": "55c70d51",
   "metadata": {},
   "outputs": [
    {
     "data": {
      "text/plain": [
       "Airline                 11\n",
       "Source                   5\n",
       "Destination              5\n",
       "Route                  100\n",
       "Duration               319\n",
       "Total_Stops              5\n",
       "Additional_Info          6\n",
       "Day_of_Journey          10\n",
       "Month_of_Journey         4\n",
       "Dep_Time_Hour           24\n",
       "Dep_Time_Minute         12\n",
       "Arrival_Time_Hour       24\n",
       "Arrival_Time_Minute     12\n",
       "dtype: int64"
      ]
     },
     "execution_count": 108,
     "metadata": {},
     "output_type": "execute_result"
    }
   ],
   "source": [
    "test_data.nunique()"
   ]
  },
  {
   "cell_type": "markdown",
   "id": "23fbc4a8",
   "metadata": {},
   "source": [
    "### Checking for Missing Values"
   ]
  },
  {
   "cell_type": "code",
   "execution_count": 109,
   "id": "d6ab8a69",
   "metadata": {},
   "outputs": [
    {
     "name": "stdout",
     "output_type": "stream",
     "text": [
      "Airline                0\n",
      "Source                 0\n",
      "Destination            0\n",
      "Route                  1\n",
      "Duration               0\n",
      "Total_Stops            1\n",
      "Additional_Info        0\n",
      "Price                  0\n",
      "Day_of_Journey         0\n",
      "Month_of_Journey       0\n",
      "Dep_Time_Hour          0\n",
      "Dep_Time_Minute        0\n",
      "Arrival_Time_Hour      0\n",
      "Arrival_Time_Minute    0\n",
      "dtype: int64\n"
     ]
    },
    {
     "data": {
      "image/png": "[encoded data removed]",
      "text/plain": [
       "<Figure size 864x576 with 2 Axes>"
      ]
     },
     "metadata": {
      "needs_background": "light"
     },
     "output_type": "display_data"
    }
   ],
   "source": [
    "#Train data\n",
    "import matplotlib.pyplot as plt\n",
    "import seaborn as sns\n",
    "\n",
    "plt.figure(figsize = [12,8])\n",
    "sns.heatmap(data.isnull())\n",
    "print(data.isnull().sum())"
   ]
  },
  {
   "cell_type": "code",
   "execution_count": 110,
   "id": "11057b5a",
   "metadata": {},
   "outputs": [
    {
     "name": "stdout",
     "output_type": "stream",
     "text": [
      "Airline                0\n",
      "Source                 0\n",
      "Destination            0\n",
      "Route                  0\n",
      "Duration               0\n",
      "Total_Stops            0\n",
      "Additional_Info        0\n",
      "Day_of_Journey         0\n",
      "Month_of_Journey       0\n",
      "Dep_Time_Hour          0\n",
      "Dep_Time_Minute        0\n",
      "Arrival_Time_Hour      0\n",
      "Arrival_Time_Minute    0\n",
      "dtype: int64\n"
     ]
    },
    {
     "data": {
      "image/png": "[encoded data removed]",
      "text/plain": [
       "<Figure size 864x576 with 2 Axes>"
      ]
     },
     "metadata": {
      "needs_background": "light"
     },
     "output_type": "display_data"
    }
   ],
   "source": [
    "#Test data\n",
    "plt.figure(figsize = [12,8])\n",
    "sns.heatmap(test_data.isnull())\n",
    "print(test_data.isnull().sum())"
   ]
  },
  {
   "cell_type": "markdown",
   "id": "7a48d845",
   "metadata": {},
   "source": [
    "We have missing values in column ['Route', 'Total_Stops'] in train data. We don't have any missing values in test data. Since ['Route, 'Total_Stops'] are having categorical values, we can replace the missing value with the mode of the columns."
   ]
  },
  {
   "cell_type": "code",
   "execution_count": 111,
   "id": "41ca8ac7",
   "metadata": {},
   "outputs": [],
   "source": [
    "data['Route'].fillna(data['Route'].mode()[0], inplace=True)\n",
    "data['Total_Stops'].fillna(data['Total_Stops'].mode()[0], inplace=True)"
   ]
  },
  {
   "cell_type": "code",
   "execution_count": 112,
   "id": "9fd0b18f",
   "metadata": {},
   "outputs": [
    {
     "name": "stdout",
     "output_type": "stream",
     "text": [
      "Airline                0\n",
      "Source                 0\n",
      "Destination            0\n",
      "Route                  0\n",
      "Duration               0\n",
      "Total_Stops            0\n",
      "Additional_Info        0\n",
      "Price                  0\n",
      "Day_of_Journey         0\n",
      "Month_of_Journey       0\n",
      "Dep_Time_Hour          0\n",
      "Dep_Time_Minute        0\n",
      "Arrival_Time_Hour      0\n",
      "Arrival_Time_Minute    0\n",
      "dtype: int64\n"
     ]
    },
    {
     "data": {
      "image/png": "[encoded data removed]",
      "text/plain": [
       "<Figure size 576x432 with 2 Axes>"
      ]
     },
     "metadata": {
      "needs_background": "light"
     },
     "output_type": "display_data"
    }
   ],
   "source": [
    "#Checking whether the null values are replaced with mean/mode or not.\n",
    "plt.figure(figsize = [8,6])\n",
    "sns.heatmap(data.isnull())\n",
    "print(data.isnull().sum())"
   ]
  },
  {
   "cell_type": "markdown",
   "id": "82afa96c",
   "metadata": {},
   "source": [
    "The null values from the train data has been replaced with mode value of the columns."
   ]
  },
  {
   "cell_type": "markdown",
   "id": "1c55a5d0",
   "metadata": {},
   "source": [
    "### Data Visualization"
   ]
  },
  {
   "cell_type": "markdown",
   "id": "33204c28",
   "metadata": {},
   "source": [
    "We can check the variable relations of train data."
   ]
  },
  {
   "cell_type": "code",
   "execution_count": 113,
   "id": "d9608f48",
   "metadata": {},
   "outputs": [
    {
     "name": "stdout",
     "output_type": "stream",
     "text": [
      "Jet Airways                          3849\n",
      "IndiGo                               2053\n",
      "Air India                            1752\n",
      "Multiple carriers                    1196\n",
      "SpiceJet                              818\n",
      "Vistara                               479\n",
      "Air Asia                              319\n",
      "GoAir                                 194\n",
      "Multiple carriers Premium economy      13\n",
      "Jet Airways Business                    6\n",
      "Vistara Premium economy                 3\n",
      "Trujet                                  1\n",
      "Name: Airline, dtype: int64\n"
     ]
    },
    {
     "data": {
      "image/png": "[encoded data removed]",
      "text/plain": [
       "<Figure size 504x360 with 1 Axes>"
      ]
     },
     "metadata": {
      "needs_background": "light"
     },
     "output_type": "display_data"
    }
   ],
   "source": [
    "plt.figure(figsize = [7,5])\n",
    "print(data['Airline'].value_counts(ascending = False))\n",
    "sns.countplot(data['Airline'])\n",
    "plt.xticks(rotation = 90)\n",
    "plt.show()"
   ]
  },
  {
   "cell_type": "markdown",
   "id": "303bedac",
   "metadata": {},
   "source": [
    "From the above observations, most of the passengers have travelled in Jet Airways airlines."
   ]
  },
  {
   "cell_type": "code",
   "execution_count": 114,
   "id": "fff2467b",
   "metadata": {},
   "outputs": [
    {
     "data": {
      "text/plain": [
       "<AxesSubplot:xlabel='Source', ylabel='count'>"
      ]
     },
     "execution_count": 114,
     "metadata": {},
     "output_type": "execute_result"
    },
    {
     "data": {
      "image/png": "[encoded data removed]",
      "text/plain": [
       "<Figure size 504x360 with 1 Axes>"
      ]
     },
     "metadata": {
      "needs_background": "light"
     },
     "output_type": "display_data"
    }
   ],
   "source": [
    "plt.figure(figsize = [7,5])\n",
    "sns.countplot(data['Source'])"
   ]
  },
  {
   "cell_type": "markdown",
   "id": "de182559",
   "metadata": {},
   "source": [
    "From the above observations, most of the passengers travelled from Delhi Airport."
   ]
  },
  {
   "cell_type": "code",
   "execution_count": 46,
   "id": "dcaaa5a3",
   "metadata": {},
   "outputs": [
    {
     "data": {
      "text/plain": [
       "<AxesSubplot:xlabel='Destination', ylabel='count'>"
      ]
     },
     "execution_count": 46,
     "metadata": {},
     "output_type": "execute_result"
    },
    {
     "data": {
      "image/png": "[encoded data removed]",
      "text/plain": [
       "<Figure size 504x360 with 1 Axes>"
      ]
     },
     "metadata": {
      "needs_background": "light"
     },
     "output_type": "display_data"
    }
   ],
   "source": [
    "plt.figure(figsize = [7,5])\n",
    "sns.countplot(data['Destination'])"
   ]
  },
  {
   "cell_type": "markdown",
   "id": "88d64f35",
   "metadata": {},
   "source": [
    "From the above observations, most of the passengers, travelled to Cochin Airport."
   ]
  },
  {
   "cell_type": "code",
   "execution_count": 117,
   "id": "f127a083",
   "metadata": {},
   "outputs": [
    {
     "name": "stdout",
     "output_type": "stream",
     "text": [
      "(array([1923, 2694,  957, 1816, 1111, 2182], dtype=int64), array([ 1.        ,  5.33333333,  9.66666667, 14.        , 18.33333333,\n",
      "       22.66666667, 27.        ]))\n"
     ]
    },
    {
     "data": {
      "image/png": "[encoded data removed]",
      "text/plain": [
       "<Figure size 432x432 with 1 Axes>"
      ]
     },
     "metadata": {
      "needs_background": "light"
     },
     "output_type": "display_data"
    }
   ],
   "source": [
    "plt.figure(figsize=[6,6])\n",
    "sns.histplot(data['Day_of_Journey'],bins =6,kde=True)\n",
    "print(np.histogram(data['Day_of_Journey'],bins=6))"
   ]
  },
  {
   "cell_type": "markdown",
   "id": "7fe49b70",
   "metadata": {},
   "source": [
    "From the above observations, most of the passengers traveled in flights between 5-10 and 27-30 of a month."
   ]
  },
  {
   "cell_type": "code",
   "execution_count": 119,
   "id": "f4cb8e2a",
   "metadata": {},
   "outputs": [
    {
     "name": "stdout",
     "output_type": "stream",
     "text": [
      "(array([2724, 1079, 3466, 3414], dtype=int64), array([3.  , 3.75, 4.5 , 5.25, 6.  ]))\n"
     ]
    },
    {
     "data": {
      "image/png": "[encoded data removed]",
      "text/plain": [
       "<Figure size 432x432 with 1 Axes>"
      ]
     },
     "metadata": {
      "needs_background": "light"
     },
     "output_type": "display_data"
    }
   ],
   "source": [
    "plt.figure(figsize=[6,6])\n",
    "sns.histplot(data['Month_of_Journey'],bins =4,kde=True)\n",
    "print(np.histogram(data['Month_of_Journey'],bins=4))"
   ]
  },
  {
   "cell_type": "markdown",
   "id": "2c25617e",
   "metadata": {},
   "source": [
    "From the above observations, most of the passengers traveled in flight during the month, June and July."
   ]
  },
  {
   "cell_type": "code",
   "execution_count": 122,
   "id": "9ba2ba13",
   "metadata": {},
   "outputs": [
    {
     "name": "stdout",
     "output_type": "stream",
     "text": [
      "(array([ 295, 2353, 2729, 1437, 2178, 1691], dtype=int64), array([ 0.        ,  3.83333333,  7.66666667, 11.5       , 15.33333333,\n",
      "       19.16666667, 23.        ]))\n"
     ]
    },
    {
     "data": {
      "image/png": "[encoded data removed]",
      "text/plain": [
       "<Figure size 432x432 with 1 Axes>"
      ]
     },
     "metadata": {
      "needs_background": "light"
     },
     "output_type": "display_data"
    }
   ],
   "source": [
    "plt.figure(figsize=[6,6])\n",
    "sns.histplot(data['Dep_Time_Hour'],bins =6,kde=True)\n",
    "print(np.histogram(data['Dep_Time_Hour'],bins=6))"
   ]
  },
  {
   "cell_type": "markdown",
   "id": "6381d4cf",
   "metadata": {},
   "source": [
    "From the above observations, most of the passengers, traveled in flight during the morning rather than at night."
   ]
  },
  {
   "cell_type": "code",
   "execution_count": 123,
   "id": "b030e747",
   "metadata": {},
   "outputs": [
    {
     "data": {
      "image/png": "[encoded data removed]",
      "text/plain": [
       "<Figure size 504x504 with 1 Axes>"
      ]
     },
     "metadata": {
      "needs_background": "light"
     },
     "output_type": "display_data"
    }
   ],
   "source": [
    "plt.figure(figsize = [7,7])\n",
    "sns.scatterplot('Duration','Airline', data = data)\n",
    "plt.show()"
   ]
  },
  {
   "cell_type": "markdown",
   "id": "32197876",
   "metadata": {},
   "source": [
    "From the above observations, the Jet Airways is having higher duration of journey."
   ]
  },
  {
   "cell_type": "code",
   "execution_count": 124,
   "id": "5b0ce627",
   "metadata": {},
   "outputs": [
    {
     "data": {
      "image/png": "[encoded data removed]",
      "text/plain": [
       "<Figure size 720x576 with 1 Axes>"
      ]
     },
     "metadata": {
      "needs_background": "light"
     },
     "output_type": "display_data"
    }
   ],
   "source": [
    "plt.figure(figsize = [10,8])\n",
    "sns.lineplot('Airline','Price', data = data, hue = 'Month_of_Journey')\n",
    "plt.xticks(rotation = 90)\n",
    "plt.show()"
   ]
  },
  {
   "cell_type": "markdown",
   "id": "d036d997",
   "metadata": {},
   "source": [
    "From the above observations, the highest flight travelling price is during the month of March and April for Jet Airways Business."
   ]
  },
  {
   "cell_type": "code",
   "execution_count": 125,
   "id": "a4859763",
   "metadata": {},
   "outputs": [
    {
     "data": {
      "text/plain": [
       "<AxesSubplot:xlabel='Price', ylabel='Month_of_Journey'>"
      ]
     },
     "execution_count": 125,
     "metadata": {},
     "output_type": "execute_result"
    },
    {
     "data": {
      "image/png": "[encoded data removed]",
      "text/plain": [
       "<Figure size 432x288 with 1 Axes>"
      ]
     },
     "metadata": {
      "needs_background": "light"
     },
     "output_type": "display_data"
    }
   ],
   "source": [
    "sns.regplot('Price','Month_of_Journey', data = data)"
   ]
  },
  {
   "cell_type": "markdown",
   "id": "d6beacb6",
   "metadata": {},
   "source": [
    "From the above observations, the price of flight ticket is high during March and April. The price of flight is low during the month May and June"
   ]
  },
  {
   "cell_type": "code",
   "execution_count": 126,
   "id": "c17325b4",
   "metadata": {
    "scrolled": false
   },
   "outputs": [
    {
     "data": {
      "text/plain": [
       "<AxesSubplot:xlabel='Price', ylabel='Day_of_Journey'>"
      ]
     },
     "execution_count": 126,
     "metadata": {},
     "output_type": "execute_result"
    },
    {
     "data": {
      "image/png": "[encoded data removed]",
      "text/plain": [
       "<Figure size 432x288 with 1 Axes>"
      ]
     },
     "metadata": {
      "needs_background": "light"
     },
     "output_type": "display_data"
    }
   ],
   "source": [
    "sns.regplot('Price','Day_of_Journey', data = data)"
   ]
  },
  {
   "cell_type": "markdown",
   "id": "640b9388",
   "metadata": {},
   "source": [
    "From the above observations, the price of flight is higher during the start of a month."
   ]
  },
  {
   "cell_type": "markdown",
   "id": "a4bd8ada",
   "metadata": {},
   "source": [
    "### Statistical Summary"
   ]
  },
  {
   "cell_type": "markdown",
   "id": "9d95d59f",
   "metadata": {},
   "source": [
    "### Describe of the data"
   ]
  },
  {
   "cell_type": "code",
   "execution_count": 127,
   "id": "d14d7d09",
   "metadata": {},
   "outputs": [
    {
     "data": {
      "text/html": [
       "<div>\n",
       "<style scoped>\n",
       "    .dataframe tbody tr th:only-of-type {\n",
       "        vertical-align: middle;\n",
       "    }\n",
       "\n",
       "    .dataframe tbody tr th {\n",
       "        vertical-align: top;\n",
       "    }\n",
       "\n",
       "    .dataframe thead th {\n",
       "        text-align: right;\n",
       "    }\n",
       "</style>\n",
       "<table border=\"1\" class=\"dataframe\">\n",
       "  <thead>\n",
       "    <tr style=\"text-align: right;\">\n",
       "      <th></th>\n",
       "      <th>Duration</th>\n",
       "      <th>Price</th>\n",
       "      <th>Day_of_Journey</th>\n",
       "      <th>Month_of_Journey</th>\n",
       "      <th>Dep_Time_Hour</th>\n",
       "      <th>Dep_Time_Minute</th>\n",
       "      <th>Arrival_Time_Hour</th>\n",
       "      <th>Arrival_Time_Minute</th>\n",
       "    </tr>\n",
       "  </thead>\n",
       "  <tbody>\n",
       "    <tr>\n",
       "      <th>count</th>\n",
       "      <td>10683.000000</td>\n",
       "      <td>10683.000000</td>\n",
       "      <td>10683.000000</td>\n",
       "      <td>10683.000000</td>\n",
       "      <td>10683.000000</td>\n",
       "      <td>10683.000000</td>\n",
       "      <td>10683.000000</td>\n",
       "      <td>10683.000000</td>\n",
       "    </tr>\n",
       "    <tr>\n",
       "      <th>mean</th>\n",
       "      <td>643.120846</td>\n",
       "      <td>9087.064121</td>\n",
       "      <td>13.508378</td>\n",
       "      <td>4.708602</td>\n",
       "      <td>12.490686</td>\n",
       "      <td>24.411214</td>\n",
       "      <td>13.348778</td>\n",
       "      <td>24.690630</td>\n",
       "    </tr>\n",
       "    <tr>\n",
       "      <th>std</th>\n",
       "      <td>507.835322</td>\n",
       "      <td>4611.359167</td>\n",
       "      <td>8.479277</td>\n",
       "      <td>1.164357</td>\n",
       "      <td>5.748650</td>\n",
       "      <td>18.767980</td>\n",
       "      <td>6.859125</td>\n",
       "      <td>16.506036</td>\n",
       "    </tr>\n",
       "    <tr>\n",
       "      <th>min</th>\n",
       "      <td>75.000000</td>\n",
       "      <td>1759.000000</td>\n",
       "      <td>1.000000</td>\n",
       "      <td>3.000000</td>\n",
       "      <td>0.000000</td>\n",
       "      <td>0.000000</td>\n",
       "      <td>0.000000</td>\n",
       "      <td>0.000000</td>\n",
       "    </tr>\n",
       "    <tr>\n",
       "      <th>25%</th>\n",
       "      <td>170.000000</td>\n",
       "      <td>5277.000000</td>\n",
       "      <td>6.000000</td>\n",
       "      <td>3.000000</td>\n",
       "      <td>8.000000</td>\n",
       "      <td>5.000000</td>\n",
       "      <td>8.000000</td>\n",
       "      <td>10.000000</td>\n",
       "    </tr>\n",
       "    <tr>\n",
       "      <th>50%</th>\n",
       "      <td>520.000000</td>\n",
       "      <td>8372.000000</td>\n",
       "      <td>12.000000</td>\n",
       "      <td>5.000000</td>\n",
       "      <td>11.000000</td>\n",
       "      <td>25.000000</td>\n",
       "      <td>14.000000</td>\n",
       "      <td>25.000000</td>\n",
       "    </tr>\n",
       "    <tr>\n",
       "      <th>75%</th>\n",
       "      <td>930.000000</td>\n",
       "      <td>12373.000000</td>\n",
       "      <td>21.000000</td>\n",
       "      <td>6.000000</td>\n",
       "      <td>18.000000</td>\n",
       "      <td>40.000000</td>\n",
       "      <td>19.000000</td>\n",
       "      <td>35.000000</td>\n",
       "    </tr>\n",
       "    <tr>\n",
       "      <th>max</th>\n",
       "      <td>2860.000000</td>\n",
       "      <td>79512.000000</td>\n",
       "      <td>27.000000</td>\n",
       "      <td>6.000000</td>\n",
       "      <td>23.000000</td>\n",
       "      <td>55.000000</td>\n",
       "      <td>23.000000</td>\n",
       "      <td>55.000000</td>\n",
       "    </tr>\n",
       "  </tbody>\n",
       "</table>\n",
       "</div>"
      ],
      "text/plain": [
       "           Duration         Price  Day_of_Journey  Month_of_Journey  \\\n",
       "count  10683.000000  10683.000000    10683.000000      10683.000000   \n",
       "mean     643.120846   9087.064121       13.508378          4.708602   \n",
       "std      507.835322   4611.359167        8.479277          1.164357   \n",
       "min       75.000000   1759.000000        1.000000          3.000000   \n",
       "25%      170.000000   5277.000000        6.000000          3.000000   \n",
       "50%      520.000000   8372.000000       12.000000          5.000000   \n",
       "75%      930.000000  12373.000000       21.000000          6.000000   \n",
       "max     2860.000000  79512.000000       27.000000          6.000000   \n",
       "\n",
       "       Dep_Time_Hour  Dep_Time_Minute  Arrival_Time_Hour  Arrival_Time_Minute  \n",
       "count   10683.000000     10683.000000       10683.000000         10683.000000  \n",
       "mean       12.490686        24.411214          13.348778            24.690630  \n",
       "std         5.748650        18.767980           6.859125            16.506036  \n",
       "min         0.000000         0.000000           0.000000             0.000000  \n",
       "25%         8.000000         5.000000           8.000000            10.000000  \n",
       "50%        11.000000        25.000000          14.000000            25.000000  \n",
       "75%        18.000000        40.000000          19.000000            35.000000  \n",
       "max        23.000000        55.000000          23.000000            55.000000  "
      ]
     },
     "execution_count": 127,
     "metadata": {},
     "output_type": "execute_result"
    }
   ],
   "source": [
    "data.describe()"
   ]
  },
  {
   "cell_type": "code",
   "execution_count": 128,
   "id": "a2aefc51",
   "metadata": {},
   "outputs": [
    {
     "data": {
      "text/plain": [
       "<AxesSubplot:>"
      ]
     },
     "execution_count": 128,
     "metadata": {},
     "output_type": "execute_result"
    },
    {
     "data": {
      "image/png": "[encoded data removed]",
      "text/plain": [
       "<Figure size 720x504 with 2 Axes>"
      ]
     },
     "metadata": {
      "needs_background": "light"
     },
     "output_type": "display_data"
    }
   ],
   "source": [
    "plt.figure(figsize=[10,7])\n",
    "sns.heatmap(data.describe()[1:],annot=True,fmt='0.2f')"
   ]
  },
  {
   "cell_type": "markdown",
   "id": "70e45aff",
   "metadata": {},
   "source": [
    "Observations:\n",
    "    \n",
    "1. The columns ['Duration', 'Price' ,'Day_of_Journey', Dep_Time_Hour'] are having higher mean value than the median value. That means skewness is present in the data of theese columns.\n",
    "2. There is huge difference between the 75% and the maximum value of columns ['Duration', 'Price']. That means possible outliers are present in the data of these columns."
   ]
  },
  {
   "cell_type": "markdown",
   "id": "06c29766",
   "metadata": {},
   "source": [
    "### Correlation"
   ]
  },
  {
   "cell_type": "code",
   "execution_count": 129,
   "id": "3aa48d68",
   "metadata": {},
   "outputs": [
    {
     "data": {
      "text/html": [
       "<div>\n",
       "<style scoped>\n",
       "    .dataframe tbody tr th:only-of-type {\n",
       "        vertical-align: middle;\n",
       "    }\n",
       "\n",
       "    .dataframe tbody tr th {\n",
       "        vertical-align: top;\n",
       "    }\n",
       "\n",
       "    .dataframe thead th {\n",
       "        text-align: right;\n",
       "    }\n",
       "</style>\n",
       "<table border=\"1\" class=\"dataframe\">\n",
       "  <thead>\n",
       "    <tr style=\"text-align: right;\">\n",
       "      <th></th>\n",
       "      <th>Duration</th>\n",
       "      <th>Price</th>\n",
       "      <th>Day_of_Journey</th>\n",
       "      <th>Month_of_Journey</th>\n",
       "      <th>Dep_Time_Hour</th>\n",
       "      <th>Dep_Time_Minute</th>\n",
       "      <th>Arrival_Time_Hour</th>\n",
       "      <th>Arrival_Time_Minute</th>\n",
       "    </tr>\n",
       "  </thead>\n",
       "  <tbody>\n",
       "    <tr>\n",
       "      <th>Duration</th>\n",
       "      <td>1.000000</td>\n",
       "      <td>0.506495</td>\n",
       "      <td>-0.022612</td>\n",
       "      <td>0.014791</td>\n",
       "      <td>0.002035</td>\n",
       "      <td>-0.018865</td>\n",
       "      <td>0.051458</td>\n",
       "      <td>-0.069557</td>\n",
       "    </tr>\n",
       "    <tr>\n",
       "      <th>Price</th>\n",
       "      <td>0.506495</td>\n",
       "      <td>1.000000</td>\n",
       "      <td>-0.153738</td>\n",
       "      <td>-0.103651</td>\n",
       "      <td>0.006819</td>\n",
       "      <td>-0.024492</td>\n",
       "      <td>0.024264</td>\n",
       "      <td>-0.086155</td>\n",
       "    </tr>\n",
       "    <tr>\n",
       "      <th>Day_of_Journey</th>\n",
       "      <td>-0.022612</td>\n",
       "      <td>-0.153738</td>\n",
       "      <td>1.000000</td>\n",
       "      <td>-0.038378</td>\n",
       "      <td>0.002220</td>\n",
       "      <td>-0.008261</td>\n",
       "      <td>-0.003192</td>\n",
       "      <td>-0.017511</td>\n",
       "    </tr>\n",
       "    <tr>\n",
       "      <th>Month_of_Journey</th>\n",
       "      <td>0.014791</td>\n",
       "      <td>-0.103651</td>\n",
       "      <td>-0.038378</td>\n",
       "      <td>1.000000</td>\n",
       "      <td>0.039112</td>\n",
       "      <td>-0.059238</td>\n",
       "      <td>-0.003941</td>\n",
       "      <td>-0.100626</td>\n",
       "    </tr>\n",
       "    <tr>\n",
       "      <th>Dep_Time_Hour</th>\n",
       "      <td>0.002035</td>\n",
       "      <td>0.006819</td>\n",
       "      <td>0.002220</td>\n",
       "      <td>0.039112</td>\n",
       "      <td>1.000000</td>\n",
       "      <td>-0.024806</td>\n",
       "      <td>0.005215</td>\n",
       "      <td>0.067909</td>\n",
       "    </tr>\n",
       "    <tr>\n",
       "      <th>Dep_Time_Minute</th>\n",
       "      <td>-0.018865</td>\n",
       "      <td>-0.024492</td>\n",
       "      <td>-0.008261</td>\n",
       "      <td>-0.059238</td>\n",
       "      <td>-0.024806</td>\n",
       "      <td>1.000000</td>\n",
       "      <td>0.043054</td>\n",
       "      <td>-0.017594</td>\n",
       "    </tr>\n",
       "    <tr>\n",
       "      <th>Arrival_Time_Hour</th>\n",
       "      <td>0.051458</td>\n",
       "      <td>0.024264</td>\n",
       "      <td>-0.003192</td>\n",
       "      <td>-0.003941</td>\n",
       "      <td>0.005215</td>\n",
       "      <td>0.043054</td>\n",
       "      <td>1.000000</td>\n",
       "      <td>-0.154362</td>\n",
       "    </tr>\n",
       "    <tr>\n",
       "      <th>Arrival_Time_Minute</th>\n",
       "      <td>-0.069557</td>\n",
       "      <td>-0.086155</td>\n",
       "      <td>-0.017511</td>\n",
       "      <td>-0.100626</td>\n",
       "      <td>0.067909</td>\n",
       "      <td>-0.017594</td>\n",
       "      <td>-0.154362</td>\n",
       "      <td>1.000000</td>\n",
       "    </tr>\n",
       "  </tbody>\n",
       "</table>\n",
       "</div>"
      ],
      "text/plain": [
       "                     Duration     Price  Day_of_Journey  Month_of_Journey  \\\n",
       "Duration             1.000000  0.506495       -0.022612          0.014791   \n",
       "Price                0.506495  1.000000       -0.153738         -0.103651   \n",
       "Day_of_Journey      -0.022612 -0.153738        1.000000         -0.038378   \n",
       "Month_of_Journey     0.014791 -0.103651       -0.038378          1.000000   \n",
       "Dep_Time_Hour        0.002035  0.006819        0.002220          0.039112   \n",
       "Dep_Time_Minute     -0.018865 -0.024492       -0.008261         -0.059238   \n",
       "Arrival_Time_Hour    0.051458  0.024264       -0.003192         -0.003941   \n",
       "Arrival_Time_Minute -0.069557 -0.086155       -0.017511         -0.100626   \n",
       "\n",
       "                     Dep_Time_Hour  Dep_Time_Minute  Arrival_Time_Hour  \\\n",
       "Duration                  0.002035        -0.018865           0.051458   \n",
       "Price                     0.006819        -0.024492           0.024264   \n",
       "Day_of_Journey            0.002220        -0.008261          -0.003192   \n",
       "Month_of_Journey          0.039112        -0.059238          -0.003941   \n",
       "Dep_Time_Hour             1.000000        -0.024806           0.005215   \n",
       "Dep_Time_Minute          -0.024806         1.000000           0.043054   \n",
       "Arrival_Time_Hour         0.005215         0.043054           1.000000   \n",
       "Arrival_Time_Minute       0.067909        -0.017594          -0.154362   \n",
       "\n",
       "                     Arrival_Time_Minute  \n",
       "Duration                       -0.069557  \n",
       "Price                          -0.086155  \n",
       "Day_of_Journey                 -0.017511  \n",
       "Month_of_Journey               -0.100626  \n",
       "Dep_Time_Hour                   0.067909  \n",
       "Dep_Time_Minute                -0.017594  \n",
       "Arrival_Time_Hour              -0.154362  \n",
       "Arrival_Time_Minute             1.000000  "
      ]
     },
     "execution_count": 129,
     "metadata": {},
     "output_type": "execute_result"
    }
   ],
   "source": [
    "Correlation = data.corr()\n",
    "Correlation"
   ]
  },
  {
   "cell_type": "code",
   "execution_count": 130,
   "id": "497a23bd",
   "metadata": {},
   "outputs": [
    {
     "data": {
      "image/png": "[encoded data removed]",
      "text/plain": [
       "<Figure size 720x576 with 2 Axes>"
      ]
     },
     "metadata": {
      "needs_background": "light"
     },
     "output_type": "display_data"
    }
   ],
   "source": [
    "#Plotting the correlation of columns\n",
    "plt.figure(figsize=[10,8])\n",
    "sns.heatmap(Correlation,annot = True, fmt = '0.2f',cmap='Greens')\n",
    "plt.show()"
   ]
  },
  {
   "cell_type": "markdown",
   "id": "7d495216",
   "metadata": {},
   "source": [
    "### Correlation with Target Variable"
   ]
  },
  {
   "cell_type": "code",
   "execution_count": 131,
   "id": "f5610cc4",
   "metadata": {},
   "outputs": [
    {
     "name": "stdout",
     "output_type": "stream",
     "text": [
      "Duration               0.506495\n",
      "Arrival_Time_Hour      0.024264\n",
      "Dep_Time_Hour          0.006819\n",
      "Dep_Time_Minute       -0.024492\n",
      "Arrival_Time_Minute   -0.086155\n",
      "Month_of_Journey      -0.103651\n",
      "Day_of_Journey        -0.153738\n",
      "Name: Price, dtype: float64\n"
     ]
    },
    {
     "data": {
      "image/png": "[encoded data removed]",
      "text/plain": [
       "<Figure size 720x360 with 1 Axes>"
      ]
     },
     "metadata": {
      "needs_background": "light"
     },
     "output_type": "display_data"
    }
   ],
   "source": [
    "print(Correlation['Price'].drop('Price').sort_values(ascending = False))\n",
    "plt.figure(figsize = [10,5])\n",
    "Correlation['Price'].sort_values(ascending= False).drop('Price').plot(kind = 'bar', color ='g')\n",
    "plt.xlabel('Column Names', fontsize = 12)\n",
    "plt.ylabel('Correlation', fontsize = 12)\n",
    "plt.title('Correlation with Target Column')\n",
    "plt.show()"
   ]
  },
  {
   "cell_type": "markdown",
   "id": "56f05594",
   "metadata": {},
   "source": [
    "Observations:\n",
    "\n",
    "1. Except the column ['Duration', 'Arrival_Time_Hour', 'Dep_Time_Hour'] rest of the columns are having negative correlation with the target variable.\n",
    "2. The column 'Duration is having highest positive correlation with the target variable 'Price'. The column 'Day_of_Journey' is having highest negative correlation with the target variable 'Price'.\n",
    "3. The column 'Dep_Time_Hour' is having the least positive correlation with the target variable 'Price'. The column 'Dep_Time_Minute' is having least negative correlation with the target variable."
   ]
  },
  {
   "cell_type": "markdown",
   "id": "2b25c4d3",
   "metadata": {},
   "source": [
    "### Distribution of data in columns"
   ]
  },
  {
   "cell_type": "markdown",
   "id": "08ba42a4",
   "metadata": {},
   "source": [
    "Skewness is only considered for continuous data. So we can group the columns containing continuous data."
   ]
  },
  {
   "cell_type": "code",
   "execution_count": 132,
   "id": "e19e7be0",
   "metadata": {},
   "outputs": [
    {
     "data": {
      "image/png": "[encoded data removed]",
      "text/plain": [
       "<Figure size 1008x576 with 8 Axes>"
      ]
     },
     "metadata": {
      "needs_background": "light"
     },
     "output_type": "display_data"
    }
   ],
   "source": [
    "cols = data.drop(['Airline', 'Source', 'Destination', 'Route', 'Total_Stops', 'Additional_Info'], axis = 1).copy()\n",
    "\n",
    "plt.figure(figsize = [14,8])\n",
    "for i in range(0,len(cols.columns.values)):\n",
    "    plt.subplot(2,6,i+1)\n",
    "    sns.distplot(cols[cols.columns.values[i]])\n",
    "    plt.tight_layout()"
   ]
  },
  {
   "cell_type": "markdown",
   "id": "1f4be189",
   "metadata": {},
   "source": [
    "We can see that none of the columns are having normally distributed data. Skewness is present in all the columns."
   ]
  },
  {
   "cell_type": "markdown",
   "id": "90a88a46",
   "metadata": {},
   "source": [
    "### Skewness"
   ]
  },
  {
   "cell_type": "code",
   "execution_count": 133,
   "id": "0cfc0944",
   "metadata": {},
   "outputs": [
    {
     "data": {
      "text/plain": [
       "Price                  1.812552\n",
       "Duration               0.861203\n",
       "Dep_Time_Minute        0.167029\n",
       "Day_of_Journey         0.118351\n",
       "Dep_Time_Hour          0.113073\n",
       "Arrival_Time_Minute    0.110945\n",
       "Arrival_Time_Hour     -0.369988\n",
       "Month_of_Journey      -0.387493\n",
       "dtype: float64"
      ]
     },
     "execution_count": 133,
     "metadata": {},
     "output_type": "execute_result"
    }
   ],
   "source": [
    "Skewness = data.skew()\n",
    "Skewness.sort_values(ascending = False)"
   ]
  },
  {
   "cell_type": "markdown",
   "id": "4618ce10",
   "metadata": {},
   "source": [
    "From the above observations, high skewness is present in columns ['Price','Duration']. But the column 'Price' is our target column."
   ]
  },
  {
   "cell_type": "markdown",
   "id": "1d186453",
   "metadata": {},
   "source": [
    "### Checking the presence of outliers"
   ]
  },
  {
   "cell_type": "code",
   "execution_count": 134,
   "id": "72c6e10f",
   "metadata": {},
   "outputs": [
    {
     "data": {
      "image/png": "[encoded data removed]",
      "text/plain": [
       "<Figure size 864x576 with 8 Axes>"
      ]
     },
     "metadata": {
      "needs_background": "light"
     },
     "output_type": "display_data"
    }
   ],
   "source": [
    "#Plotting the data of every columns with boxplot to check the outliers\n",
    "plt.figure(figsize = [12,8])\n",
    "for i in range(0,len(cols.columns.values)):\n",
    "    plt.subplot(2,6,i+1)\n",
    "    sns.boxplot(y = cols[cols.columns.values[i]])\n",
    "    plt.tight_layout()"
   ]
  },
  {
   "cell_type": "markdown",
   "id": "2b6e6db2",
   "metadata": {},
   "source": [
    "### Data Cleaning"
   ]
  },
  {
   "cell_type": "markdown",
   "id": "d3eeffa3",
   "metadata": {},
   "source": [
    "### Removing the Skewness"
   ]
  },
  {
   "cell_type": "code",
   "execution_count": 135,
   "id": "c1c9a88e",
   "metadata": {},
   "outputs": [
    {
     "name": "stdout",
     "output_type": "stream",
     "text": [
      "(10683, 13)\n",
      "(10683,)\n"
     ]
    }
   ],
   "source": [
    "#train data\n",
    "x = data.drop(['Price'],axis = 1)\n",
    "y = data['Price']\n",
    "print(x.shape)\n",
    "print(y.shape)"
   ]
  },
  {
   "cell_type": "code",
   "execution_count": 136,
   "id": "86bcd50d",
   "metadata": {},
   "outputs": [
    {
     "data": {
      "text/plain": [
       "Duration    0.861203\n",
       "dtype: float64"
      ]
     },
     "execution_count": 136,
     "metadata": {},
     "output_type": "execute_result"
    }
   ],
   "source": [
    "#We can set the skewness standard limit as +/-0.5.\n",
    "x.skew().sort_values(ascending=False)[np.abs(x.skew())>0.5]"
   ]
  },
  {
   "cell_type": "markdown",
   "id": "28bb8427",
   "metadata": {},
   "source": [
    "Here the column 'Duration' is only having skewness beyond the standard limit. Let's remove the skewness of this column."
   ]
  },
  {
   "cell_type": "code",
   "execution_count": 137,
   "id": "8e4c1cd7",
   "metadata": {},
   "outputs": [],
   "source": [
    "from sklearn.preprocessing import power_transform\n",
    "\n",
    "x['Duration'] = power_transform(x['Duration'].values.reshape(-1,1))"
   ]
  },
  {
   "cell_type": "code",
   "execution_count": 138,
   "id": "4679f4f8",
   "metadata": {},
   "outputs": [
    {
     "data": {
      "text/plain": [
       "Dep_Time_Minute        0.167029\n",
       "Day_of_Journey         0.118351\n",
       "Dep_Time_Hour          0.113073\n",
       "Arrival_Time_Minute    0.110945\n",
       "Duration              -0.044838\n",
       "Arrival_Time_Hour     -0.369988\n",
       "Month_of_Journey      -0.387493\n",
       "dtype: float64"
      ]
     },
     "execution_count": 138,
     "metadata": {},
     "output_type": "execute_result"
    }
   ],
   "source": [
    "x.skew().sort_values(ascending = False)"
   ]
  },
  {
   "cell_type": "markdown",
   "id": "49a44eb0",
   "metadata": {},
   "source": [
    "The skewness of the column 'Duration' is removed."
   ]
  },
  {
   "cell_type": "code",
   "execution_count": 139,
   "id": "0efd6b0c",
   "metadata": {},
   "outputs": [
    {
     "name": "stdout",
     "output_type": "stream",
     "text": [
      "(2671, 13)\n"
     ]
    }
   ],
   "source": [
    "#test data\n",
    "x1 = test_data.copy()\n",
    "print(x1.shape)"
   ]
  },
  {
   "cell_type": "code",
   "execution_count": 140,
   "id": "3584b34c",
   "metadata": {},
   "outputs": [
    {
     "data": {
      "text/plain": [
       "Duration    0.896658\n",
       "dtype: float64"
      ]
     },
     "execution_count": 140,
     "metadata": {},
     "output_type": "execute_result"
    }
   ],
   "source": [
    "#We can set the skewness standard limit as +/-0.5.\n",
    "x1.skew().sort_values(ascending=False)[np.abs(x1.skew())>0.5]"
   ]
  },
  {
   "cell_type": "markdown",
   "id": "72dee9a4",
   "metadata": {},
   "source": [
    "Here the columns 'Duration' is having skewness beyond the standard limit. Let's remove the skewness of data of the column."
   ]
  },
  {
   "cell_type": "code",
   "execution_count": 141,
   "id": "36720d46",
   "metadata": {},
   "outputs": [],
   "source": [
    "x1['Duration'] = power_transform(x1['Duration'].values.reshape(-1,1))"
   ]
  },
  {
   "cell_type": "code",
   "execution_count": 142,
   "id": "0a353e02",
   "metadata": {},
   "outputs": [
    {
     "data": {
      "text/plain": [
       "Day_of_Journey         0.199540\n",
       "Dep_Time_Minute        0.128515\n",
       "Arrival_Time_Minute    0.115267\n",
       "Dep_Time_Hour          0.093759\n",
       "Duration              -0.047793\n",
       "Month_of_Journey      -0.403700\n",
       "Arrival_Time_Hour     -0.443166\n",
       "dtype: float64"
      ]
     },
     "execution_count": 142,
     "metadata": {},
     "output_type": "execute_result"
    }
   ],
   "source": [
    "x1.skew().sort_values(ascending = False)"
   ]
  },
  {
   "cell_type": "markdown",
   "id": "f2654827",
   "metadata": {},
   "source": [
    "### Removing the Outliers"
   ]
  },
  {
   "cell_type": "markdown",
   "id": "48de8a30",
   "metadata": {},
   "source": [
    "#### Using ZScore method"
   ]
  },
  {
   "cell_type": "code",
   "execution_count": 145,
   "id": "31d89fc0",
   "metadata": {},
   "outputs": [
    {
     "data": {
      "text/plain": [
       "array([[1.06307688, 1.12554821],\n",
       "       [0.05745582, 0.30904789],\n",
       "       [1.04393124, 1.03985835],\n",
       "       ...,\n",
       "       [1.00656068, 0.40295085],\n",
       "       [1.1225895 , 0.77224576],\n",
       "       [0.07240063, 0.57815073]])"
      ]
     },
     "execution_count": 145,
     "metadata": {},
     "output_type": "execute_result"
    }
   ],
   "source": [
    "#Train data\n",
    "from scipy.stats import zscore\n",
    "df = pd.DataFrame({})\n",
    "df['Duration'] = x['Duration'].copy()   #Columns with outliers\n",
    "df['Price'] = y.copy()\n",
    "z = np.abs(zscore(df))\n",
    "z"
   ]
  },
  {
   "cell_type": "code",
   "execution_count": 146,
   "id": "4e7c5969",
   "metadata": {},
   "outputs": [
    {
     "data": {
      "text/html": [
       "<div>\n",
       "<style scoped>\n",
       "    .dataframe tbody tr th:only-of-type {\n",
       "        vertical-align: middle;\n",
       "    }\n",
       "\n",
       "    .dataframe tbody tr th {\n",
       "        vertical-align: top;\n",
       "    }\n",
       "\n",
       "    .dataframe thead th {\n",
       "        text-align: right;\n",
       "    }\n",
       "</style>\n",
       "<table border=\"1\" class=\"dataframe\">\n",
       "  <thead>\n",
       "    <tr style=\"text-align: right;\">\n",
       "      <th></th>\n",
       "      <th>Duration</th>\n",
       "      <th>Price</th>\n",
       "    </tr>\n",
       "  </thead>\n",
       "  <tbody>\n",
       "    <tr>\n",
       "      <th>0</th>\n",
       "      <td>-1.063077</td>\n",
       "      <td>3897</td>\n",
       "    </tr>\n",
       "    <tr>\n",
       "      <th>1</th>\n",
       "      <td>-0.057456</td>\n",
       "      <td>7662</td>\n",
       "    </tr>\n",
       "    <tr>\n",
       "      <th>2</th>\n",
       "      <td>1.043931</td>\n",
       "      <td>13882</td>\n",
       "    </tr>\n",
       "    <tr>\n",
       "      <th>3</th>\n",
       "      <td>-0.398754</td>\n",
       "      <td>6218</td>\n",
       "    </tr>\n",
       "    <tr>\n",
       "      <th>4</th>\n",
       "      <td>-0.537629</td>\n",
       "      <td>13302</td>\n",
       "    </tr>\n",
       "    <tr>\n",
       "      <th>...</th>\n",
       "      <td>...</td>\n",
       "      <td>...</td>\n",
       "    </tr>\n",
       "    <tr>\n",
       "      <th>10678</th>\n",
       "      <td>-1.185459</td>\n",
       "      <td>4107</td>\n",
       "    </tr>\n",
       "    <tr>\n",
       "      <th>10679</th>\n",
       "      <td>-1.153580</td>\n",
       "      <td>4145</td>\n",
       "    </tr>\n",
       "    <tr>\n",
       "      <th>10680</th>\n",
       "      <td>-1.006561</td>\n",
       "      <td>7229</td>\n",
       "    </tr>\n",
       "    <tr>\n",
       "      <th>10681</th>\n",
       "      <td>-1.122590</td>\n",
       "      <td>12648</td>\n",
       "    </tr>\n",
       "    <tr>\n",
       "      <th>10682</th>\n",
       "      <td>0.072401</td>\n",
       "      <td>11753</td>\n",
       "    </tr>\n",
       "  </tbody>\n",
       "</table>\n",
       "<p>10587 rows × 2 columns</p>\n",
       "</div>"
      ],
      "text/plain": [
       "       Duration  Price\n",
       "0     -1.063077   3897\n",
       "1     -0.057456   7662\n",
       "2      1.043931  13882\n",
       "3     -0.398754   6218\n",
       "4     -0.537629  13302\n",
       "...         ...    ...\n",
       "10678 -1.185459   4107\n",
       "10679 -1.153580   4145\n",
       "10680 -1.006561   7229\n",
       "10681 -1.122590  12648\n",
       "10682  0.072401  11753\n",
       "\n",
       "[10587 rows x 2 columns]"
      ]
     },
     "execution_count": 146,
     "metadata": {},
     "output_type": "execute_result"
    }
   ],
   "source": [
    "threshold = 3\n",
    "df_new = df[(z<3).all(axis=1)]\n",
    "df_new"
   ]
  },
  {
   "cell_type": "code",
   "execution_count": 147,
   "id": "b1d4f57e",
   "metadata": {},
   "outputs": [
    {
     "data": {
      "text/plain": [
       "(10683, 14)"
      ]
     },
     "execution_count": 147,
     "metadata": {},
     "output_type": "execute_result"
    }
   ],
   "source": [
    "df['Airline'] = x['Airline']\n",
    "df['Source'] = x['Source']\n",
    "df['Destination'] = x['Destination']\n",
    "df['Route'] = x['Route']\n",
    "df['Total_Stops'] = x['Total_Stops']\n",
    "df['Additional_Info'] = x['Additional_Info']\n",
    "df['Day_of_Journey'] = x['Day_of_Journey']\n",
    "df['Month_of_Journey'] = x['Month_of_Journey']\n",
    "df['Dep_Time_Hour'] = x['Dep_Time_Hour']\n",
    "df['Dep_Time_Minute'] = x['Dep_Time_Minute']\n",
    "df['Arrival_Time_Hour'] = x['Arrival_Time_Hour']\n",
    "df['Arrival_Time_Minute'] = x['Arrival_Time_Minute']\n",
    "\n",
    "df.shape"
   ]
  },
  {
   "cell_type": "code",
   "execution_count": 148,
   "id": "5bcf5e6e",
   "metadata": {},
   "outputs": [
    {
     "data": {
      "text/plain": [
       "(10587, 14)"
      ]
     },
     "execution_count": 148,
     "metadata": {},
     "output_type": "execute_result"
    }
   ],
   "source": [
    "df_new['Airline'] = x['Airline']\n",
    "df_new['Source'] = x['Source']\n",
    "df_new['Destination'] = x['Destination']\n",
    "df_new['Route'] = x['Route']\n",
    "df_new['Total_Stops'] = x['Total_Stops']\n",
    "df_new['Additional_Info'] = x['Additional_Info']\n",
    "df_new['Day_of_Journey'] = x['Day_of_Journey']\n",
    "df_new['Month_of_Journey'] = x['Month_of_Journey']\n",
    "df_new['Dep_Time_Hour'] = x['Dep_Time_Hour']\n",
    "df_new['Dep_Time_Minute'] = x['Dep_Time_Minute']\n",
    "df_new['Arrival_Time_Hour'] = x['Arrival_Time_Hour']\n",
    "df_new['Arrival_Time_Minute'] = x['Arrival_Time_Minute']\n",
    "\n",
    "\n",
    "df_new.shape"
   ]
  },
  {
   "cell_type": "code",
   "execution_count": 149,
   "id": "1c167a60",
   "metadata": {},
   "outputs": [
    {
     "data": {
      "text/plain": [
       "0.8986239820275204"
      ]
     },
     "execution_count": 149,
     "metadata": {},
     "output_type": "execute_result"
    }
   ],
   "source": [
    "data_loss = (df.shape[0]-df_new.shape[0])/df.shape[0]*100\n",
    "data_loss"
   ]
  },
  {
   "cell_type": "markdown",
   "id": "f8716170",
   "metadata": {},
   "source": [
    "We are losing only 0.90% of data after removing the outliers which is not much loss of data."
   ]
  },
  {
   "cell_type": "code",
   "execution_count": 150,
   "id": "d86ae77e",
   "metadata": {},
   "outputs": [
    {
     "data": {
      "text/plain": [
       "array([[0.37782487, 0.83733254, 1.09474457, ..., 0.26770357, 1.36170869,\n",
       "        0.02633999],\n",
       "       [0.72785618, 0.11087675, 0.2405048 , ..., 0.25632445, 0.50932437,\n",
       "        0.27177067],\n",
       "       [1.34068552, 0.97880692, 0.2405048 , ..., 0.51833847, 0.76925212,\n",
       "        1.46421332],\n",
       "       ...,\n",
       "       [0.1976063 , 0.83733254, 1.46797475, ..., 1.31575963, 1.36170869,\n",
       "        0.02633999],\n",
       "       [0.77986303, 0.83733254, 1.46797475, ..., 1.30438051, 0.76925212,\n",
       "        0.56988133],\n",
       "       [0.70396201, 0.25235114, 1.09474457, ..., 1.57777364, 0.76925212,\n",
       "        0.56988133]])"
      ]
     },
     "execution_count": 150,
     "metadata": {},
     "output_type": "execute_result"
    }
   ],
   "source": [
    "#test data\n",
    "df_test = x1.copy()\n",
    "df_test = df_test.drop(['Airline','Source','Destination','Route', 'Total_Stops','Additional_Info'], axis = 1)\n",
    "z1 = np.abs(zscore(df_test))\n",
    "z1"
   ]
  },
  {
   "cell_type": "code",
   "execution_count": 151,
   "id": "ac3c1c0d",
   "metadata": {},
   "outputs": [
    {
     "data": {
      "text/html": [
       "<div>\n",
       "<style scoped>\n",
       "    .dataframe tbody tr th:only-of-type {\n",
       "        vertical-align: middle;\n",
       "    }\n",
       "\n",
       "    .dataframe tbody tr th {\n",
       "        vertical-align: top;\n",
       "    }\n",
       "\n",
       "    .dataframe thead th {\n",
       "        text-align: right;\n",
       "    }\n",
       "</style>\n",
       "<table border=\"1\" class=\"dataframe\">\n",
       "  <thead>\n",
       "    <tr style=\"text-align: right;\">\n",
       "      <th></th>\n",
       "      <th>Duration</th>\n",
       "      <th>Day_of_Journey</th>\n",
       "      <th>Month_of_Journey</th>\n",
       "      <th>Dep_Time_Hour</th>\n",
       "      <th>Dep_Time_Minute</th>\n",
       "      <th>Arrival_Time_Hour</th>\n",
       "      <th>Arrival_Time_Minute</th>\n",
       "    </tr>\n",
       "  </thead>\n",
       "  <tbody>\n",
       "    <tr>\n",
       "      <th>0</th>\n",
       "      <td>0.377825</td>\n",
       "      <td>6</td>\n",
       "      <td>6</td>\n",
       "      <td>17</td>\n",
       "      <td>30</td>\n",
       "      <td>4</td>\n",
       "      <td>25</td>\n",
       "    </tr>\n",
       "    <tr>\n",
       "      <th>1</th>\n",
       "      <td>-0.727856</td>\n",
       "      <td>12</td>\n",
       "      <td>5</td>\n",
       "      <td>6</td>\n",
       "      <td>20</td>\n",
       "      <td>10</td>\n",
       "      <td>20</td>\n",
       "    </tr>\n",
       "    <tr>\n",
       "      <th>2</th>\n",
       "      <td>1.340686</td>\n",
       "      <td>21</td>\n",
       "      <td>5</td>\n",
       "      <td>19</td>\n",
       "      <td>15</td>\n",
       "      <td>19</td>\n",
       "      <td>0</td>\n",
       "    </tr>\n",
       "    <tr>\n",
       "      <th>3</th>\n",
       "      <td>0.585667</td>\n",
       "      <td>21</td>\n",
       "      <td>5</td>\n",
       "      <td>8</td>\n",
       "      <td>0</td>\n",
       "      <td>21</td>\n",
       "      <td>0</td>\n",
       "    </tr>\n",
       "    <tr>\n",
       "      <th>4</th>\n",
       "      <td>-1.074606</td>\n",
       "      <td>24</td>\n",
       "      <td>6</td>\n",
       "      <td>23</td>\n",
       "      <td>55</td>\n",
       "      <td>2</td>\n",
       "      <td>45</td>\n",
       "    </tr>\n",
       "    <tr>\n",
       "      <th>...</th>\n",
       "      <td>...</td>\n",
       "      <td>...</td>\n",
       "      <td>...</td>\n",
       "      <td>...</td>\n",
       "      <td>...</td>\n",
       "      <td>...</td>\n",
       "      <td>...</td>\n",
       "    </tr>\n",
       "    <tr>\n",
       "      <th>2666</th>\n",
       "      <td>1.349803</td>\n",
       "      <td>6</td>\n",
       "      <td>6</td>\n",
       "      <td>20</td>\n",
       "      <td>30</td>\n",
       "      <td>20</td>\n",
       "      <td>25</td>\n",
       "    </tr>\n",
       "    <tr>\n",
       "      <th>2667</th>\n",
       "      <td>-1.164771</td>\n",
       "      <td>27</td>\n",
       "      <td>3</td>\n",
       "      <td>14</td>\n",
       "      <td>20</td>\n",
       "      <td>16</td>\n",
       "      <td>55</td>\n",
       "    </tr>\n",
       "    <tr>\n",
       "      <th>2668</th>\n",
       "      <td>-0.197606</td>\n",
       "      <td>6</td>\n",
       "      <td>3</td>\n",
       "      <td>21</td>\n",
       "      <td>50</td>\n",
       "      <td>4</td>\n",
       "      <td>25</td>\n",
       "    </tr>\n",
       "    <tr>\n",
       "      <th>2669</th>\n",
       "      <td>0.779863</td>\n",
       "      <td>6</td>\n",
       "      <td>3</td>\n",
       "      <td>4</td>\n",
       "      <td>0</td>\n",
       "      <td>19</td>\n",
       "      <td>15</td>\n",
       "    </tr>\n",
       "    <tr>\n",
       "      <th>2670</th>\n",
       "      <td>0.703962</td>\n",
       "      <td>15</td>\n",
       "      <td>6</td>\n",
       "      <td>4</td>\n",
       "      <td>55</td>\n",
       "      <td>19</td>\n",
       "      <td>15</td>\n",
       "    </tr>\n",
       "  </tbody>\n",
       "</table>\n",
       "<p>2671 rows × 7 columns</p>\n",
       "</div>"
      ],
      "text/plain": [
       "      Duration  Day_of_Journey  Month_of_Journey  Dep_Time_Hour  \\\n",
       "0     0.377825               6                 6             17   \n",
       "1    -0.727856              12                 5              6   \n",
       "2     1.340686              21                 5             19   \n",
       "3     0.585667              21                 5              8   \n",
       "4    -1.074606              24                 6             23   \n",
       "...        ...             ...               ...            ...   \n",
       "2666  1.349803               6                 6             20   \n",
       "2667 -1.164771              27                 3             14   \n",
       "2668 -0.197606               6                 3             21   \n",
       "2669  0.779863               6                 3              4   \n",
       "2670  0.703962              15                 6              4   \n",
       "\n",
       "      Dep_Time_Minute  Arrival_Time_Hour  Arrival_Time_Minute  \n",
       "0                  30                  4                   25  \n",
       "1                  20                 10                   20  \n",
       "2                  15                 19                    0  \n",
       "3                   0                 21                    0  \n",
       "4                  55                  2                   45  \n",
       "...               ...                ...                  ...  \n",
       "2666               30                 20                   25  \n",
       "2667               20                 16                   55  \n",
       "2668               50                  4                   25  \n",
       "2669                0                 19                   15  \n",
       "2670               55                 19                   15  \n",
       "\n",
       "[2671 rows x 7 columns]"
      ]
     },
     "execution_count": 151,
     "metadata": {},
     "output_type": "execute_result"
    }
   ],
   "source": [
    "threshold = 3\n",
    "df_new_test = df_test[(z1<3).all(axis=1)]\n",
    "df_new_test"
   ]
  },
  {
   "cell_type": "code",
   "execution_count": 152,
   "id": "027901f7",
   "metadata": {},
   "outputs": [
    {
     "data": {
      "text/plain": [
       "(2671, 13)"
      ]
     },
     "execution_count": 152,
     "metadata": {},
     "output_type": "execute_result"
    }
   ],
   "source": [
    "df_test['Airline'] = x1['Airline']\n",
    "df_test['Source'] = x1['Source']\n",
    "df_test['Destination'] = x1['Destination']\n",
    "df_test['Route'] = x1['Route']\n",
    "df_test['Total_Stops'] = x1['Total_Stops']\n",
    "df_test['Additional_Info'] = x1['Additional_Info']\n",
    "\n",
    "df_test.shape"
   ]
  },
  {
   "cell_type": "code",
   "execution_count": 153,
   "id": "7fcfcb44",
   "metadata": {},
   "outputs": [
    {
     "data": {
      "text/plain": [
       "(2671, 13)"
      ]
     },
     "execution_count": 153,
     "metadata": {},
     "output_type": "execute_result"
    }
   ],
   "source": [
    "df_new_test['Airline'] = x1['Airline']\n",
    "df_new_test['Source'] = x1['Source']\n",
    "df_new_test['Destination'] = x1['Destination']\n",
    "df_new_test['Route'] = x1['Route']\n",
    "df_new_test['Total_Stops'] = x1['Total_Stops']\n",
    "df_new_test['Additional_Info'] = x1['Additional_Info']\n",
    "\n",
    "df_new_test.shape"
   ]
  },
  {
   "cell_type": "code",
   "execution_count": 154,
   "id": "2c149992",
   "metadata": {},
   "outputs": [
    {
     "data": {
      "text/plain": [
       "0.8986239820275204"
      ]
     },
     "execution_count": 154,
     "metadata": {},
     "output_type": "execute_result"
    }
   ],
   "source": [
    "data_loss_test = (df_test.shape[0]-df_new_test.shape[0])/df_test.shape[0]*100\n",
    "data_loss"
   ]
  },
  {
   "cell_type": "markdown",
   "id": "676c1765",
   "metadata": {},
   "source": [
    "Here also we are lossing only 0.90% of data after removing outliers from the test data."
   ]
  },
  {
   "cell_type": "markdown",
   "id": "9fbc05a5",
   "metadata": {},
   "source": [
    "### Using IQR (Inter Quantile Range) method"
   ]
  },
  {
   "cell_type": "code",
   "execution_count": 155,
   "id": "5f20149a",
   "metadata": {},
   "outputs": [],
   "source": [
    "#Train data\n",
    "Q1=x.quantile(0.25)\n",
    "\n",
    "# 3rd quantile\n",
    "Q3=x.quantile(0.75)\n",
    "\n",
    "# IQR\n",
    "IQR=Q3 - Q1\n",
    "df.drop(['Airline','Source','Destination','Route', 'Total_Stops','Additional_Info'], axis = 1,inplace = True)\n",
    "df_1=df[~((df < (Q1 - 1.5 * IQR)) |(df > (Q3 + 1.5 * IQR))).any(axis=1)]"
   ]
  },
  {
   "cell_type": "code",
   "execution_count": 156,
   "id": "b895082f",
   "metadata": {},
   "outputs": [
    {
     "data": {
      "text/plain": [
       "(10683, 14)"
      ]
     },
     "execution_count": 156,
     "metadata": {},
     "output_type": "execute_result"
    }
   ],
   "source": [
    "df_1['Airline'] = x['Airline']\n",
    "df_1['Source'] = x['Source']\n",
    "df_1['Destination'] = x['Destination']\n",
    "df_1['Route'] = x['Route']\n",
    "df_1['Total_Stops'] = x['Total_Stops']\n",
    "df_1['Additional_Info'] = x['Additional_Info']\n",
    "\n",
    "df_1.shape"
   ]
  },
  {
   "cell_type": "code",
   "execution_count": 157,
   "id": "541ddfb3",
   "metadata": {},
   "outputs": [
    {
     "data": {
      "text/plain": [
       "(10683, 14)"
      ]
     },
     "execution_count": 157,
     "metadata": {},
     "output_type": "execute_result"
    }
   ],
   "source": [
    "df['Airline'] = x['Airline']\n",
    "df['Source'] = x['Source']\n",
    "df['Destination'] = x['Destination']\n",
    "df['Route'] = x['Route']\n",
    "df['Total_Stops'] = x['Total_Stops']\n",
    "df['Additional_Info'] = x['Additional_Info']\n",
    "\n",
    "df.shape"
   ]
  },
  {
   "cell_type": "code",
   "execution_count": 158,
   "id": "0147a7aa",
   "metadata": {},
   "outputs": [
    {
     "data": {
      "text/plain": [
       "0.0"
      ]
     },
     "execution_count": 158,
     "metadata": {},
     "output_type": "execute_result"
    }
   ],
   "source": [
    "data_loss = (df.shape[0]-df_1.shape[0])/df.shape[0]*100\n",
    "data_loss"
   ]
  },
  {
   "cell_type": "markdown",
   "id": "ce887581",
   "metadata": {},
   "source": [
    "We are not losing any data after removing outliers. using IQR outlier removal method. So we can consider this model as it is not losing any data."
   ]
  },
  {
   "cell_type": "code",
   "execution_count": 159,
   "id": "4579d3c6",
   "metadata": {},
   "outputs": [],
   "source": [
    "#Test data\n",
    "Q_test1=x1.quantile(0.25)\n",
    "\n",
    "# 3rd quantile\n",
    "Q_test3=x1.quantile(0.75)\n",
    "\n",
    "# IQR\n",
    "IQR_test=Q_test3 - Q_test1\n",
    "df_test.drop(['Airline','Source','Destination','Route', 'Total_Stops','Additional_Info'], axis = 1,inplace = True)\n",
    "df_test_1=df_test[~((df_test < (Q_test1 - 1.5 * IQR_test)) |(df_test > (Q_test3 + 1.5 * IQR_test))).any(axis=1)]"
   ]
  },
  {
   "cell_type": "code",
   "execution_count": 160,
   "id": "ef60fc5d",
   "metadata": {},
   "outputs": [
    {
     "data": {
      "text/plain": [
       "(2671, 13)"
      ]
     },
     "execution_count": 160,
     "metadata": {},
     "output_type": "execute_result"
    }
   ],
   "source": [
    "df_test_1['Airline'] = x1['Airline']\n",
    "df_test_1['Source'] = x1['Source']\n",
    "df_test_1['Destination'] = x1['Destination']\n",
    "df_test_1['Route'] = x1['Route']\n",
    "df_test_1['Total_Stops'] = x1['Total_Stops']\n",
    "df_test_1['Additional_Info'] = x1['Additional_Info']\n",
    "\n",
    "df_test_1.shape"
   ]
  },
  {
   "cell_type": "code",
   "execution_count": 161,
   "id": "6bfa1725",
   "metadata": {},
   "outputs": [
    {
     "data": {
      "text/plain": [
       "(2671, 13)"
      ]
     },
     "execution_count": 161,
     "metadata": {},
     "output_type": "execute_result"
    }
   ],
   "source": [
    "df_test['Airline'] = x1['Airline']\n",
    "df_test['Source'] = x1['Source']\n",
    "df_test['Destination'] = x1['Destination']\n",
    "df_test['Route'] = x1['Route']\n",
    "df_test['Total_Stops'] = x1['Total_Stops']\n",
    "df_test['Additional_Info'] = x1['Additional_Info']\n",
    "\n",
    "df_test.shape"
   ]
  },
  {
   "cell_type": "code",
   "execution_count": 162,
   "id": "45aae878",
   "metadata": {},
   "outputs": [
    {
     "data": {
      "text/plain": [
       "0.0"
      ]
     },
     "execution_count": 162,
     "metadata": {},
     "output_type": "execute_result"
    }
   ],
   "source": [
    "data_loss = (df_test.shape[0]-df_test_1.shape[0])/df_test.shape[0]*100\n",
    "data_loss"
   ]
  },
  {
   "cell_type": "markdown",
   "id": "86468050",
   "metadata": {},
   "source": [
    "We are not losing any data after removing outliers. using IQR outlier removal method. So we can consider this model as it is not losing any data."
   ]
  },
  {
   "cell_type": "markdown",
   "id": "e9cba766",
   "metadata": {},
   "source": [
    "### Encoding the categorical columns in Train and Test data."
   ]
  },
  {
   "cell_type": "code",
   "execution_count": 163,
   "id": "65cd2f9c",
   "metadata": {},
   "outputs": [],
   "source": [
    "from sklearn.preprocessing import OrdinalEncoder\n",
    "enc = OrdinalEncoder()\n",
    "\n",
    "#Encoding columns with categorical values in train data.\n",
    "for i in df_1.loc[:,['Airline','Source','Destination','Route', 'Total_Stops','Additional_Info']].columns:\n",
    "    df_1[i] = enc.fit_transform(df_1[i].values.reshape(-1,1))\n",
    "    \n",
    "#Encoding columns with categorical values in test data.\n",
    "for i in df_test_1.loc[:,['Airline','Source','Destination','Route', 'Total_Stops','Additional_Info']].columns:\n",
    "    df_test_1[i] = enc.fit_transform(df_test_1[i].values.reshape(-1,1))"
   ]
  },
  {
   "cell_type": "markdown",
   "id": "b61394f8",
   "metadata": {},
   "source": [
    "### Checking the Multicolinearity of variables in the dataframe"
   ]
  },
  {
   "cell_type": "code",
   "execution_count": 164,
   "id": "d4928cad",
   "metadata": {},
   "outputs": [
    {
     "name": "stdout",
     "output_type": "stream",
     "text": [
      "(10683, 13)\n",
      "(10683,)\n"
     ]
    }
   ],
   "source": [
    "#train data\n",
    "x = df_1.drop('Price',axis = 1)\n",
    "y = df_1['Price']\n",
    "c = x.columns\n",
    "print(x.shape)\n",
    "print(y.shape)"
   ]
  },
  {
   "cell_type": "code",
   "execution_count": 165,
   "id": "9ddbf1f9",
   "metadata": {},
   "outputs": [
    {
     "data": {
      "text/html": [
       "<div>\n",
       "<style scoped>\n",
       "    .dataframe tbody tr th:only-of-type {\n",
       "        vertical-align: middle;\n",
       "    }\n",
       "\n",
       "    .dataframe tbody tr th {\n",
       "        vertical-align: top;\n",
       "    }\n",
       "\n",
       "    .dataframe thead th {\n",
       "        text-align: right;\n",
       "    }\n",
       "</style>\n",
       "<table border=\"1\" class=\"dataframe\">\n",
       "  <thead>\n",
       "    <tr style=\"text-align: right;\">\n",
       "      <th></th>\n",
       "      <th>Duration</th>\n",
       "      <th>Day_of_Journey</th>\n",
       "      <th>Month_of_Journey</th>\n",
       "      <th>Dep_Time_Hour</th>\n",
       "      <th>Dep_Time_Minute</th>\n",
       "      <th>Arrival_Time_Hour</th>\n",
       "      <th>Arrival_Time_Minute</th>\n",
       "      <th>Airline</th>\n",
       "      <th>Source</th>\n",
       "      <th>Destination</th>\n",
       "      <th>Route</th>\n",
       "      <th>Total_Stops</th>\n",
       "      <th>Additional_Info</th>\n",
       "    </tr>\n",
       "  </thead>\n",
       "  <tbody>\n",
       "    <tr>\n",
       "      <th>0</th>\n",
       "      <td>-1.063077</td>\n",
       "      <td>1.237383</td>\n",
       "      <td>-1.467490</td>\n",
       "      <td>1.654259</td>\n",
       "      <td>-0.235050</td>\n",
       "      <td>-1.800427</td>\n",
       "      <td>-0.890057</td>\n",
       "      <td>-0.410675</td>\n",
       "      <td>-1.658441</td>\n",
       "      <td>1.738764</td>\n",
       "      <td>-1.547183</td>\n",
       "      <td>1.407309</td>\n",
       "      <td>0.49862</td>\n",
       "    </tr>\n",
       "    <tr>\n",
       "      <th>1</th>\n",
       "      <td>-0.057456</td>\n",
       "      <td>-1.475239</td>\n",
       "      <td>0.250276</td>\n",
       "      <td>-1.303095</td>\n",
       "      <td>1.363492</td>\n",
       "      <td>-0.050851</td>\n",
       "      <td>-0.587124</td>\n",
       "      <td>-1.260999</td>\n",
       "      <td>0.890052</td>\n",
       "      <td>-1.026434</td>\n",
       "      <td>0.249876</td>\n",
       "      <td>-0.253632</td>\n",
       "      <td>0.49862</td>\n",
       "    </tr>\n",
       "    <tr>\n",
       "      <th>2</th>\n",
       "      <td>1.043931</td>\n",
       "      <td>-0.531719</td>\n",
       "      <td>1.109160</td>\n",
       "      <td>-0.607247</td>\n",
       "      <td>0.031373</td>\n",
       "      <td>-1.363033</td>\n",
       "      <td>0.018744</td>\n",
       "      <td>0.014486</td>\n",
       "      <td>0.040555</td>\n",
       "      <td>-0.335134</td>\n",
       "      <td>1.175633</td>\n",
       "      <td>-0.253632</td>\n",
       "      <td>0.49862</td>\n",
       "    </tr>\n",
       "    <tr>\n",
       "      <th>3</th>\n",
       "      <td>-0.398754</td>\n",
       "      <td>-0.177898</td>\n",
       "      <td>0.250276</td>\n",
       "      <td>0.958411</td>\n",
       "      <td>-1.034321</td>\n",
       "      <td>1.407129</td>\n",
       "      <td>0.321677</td>\n",
       "      <td>-0.410675</td>\n",
       "      <td>0.890052</td>\n",
       "      <td>-1.026434</td>\n",
       "      <td>0.440473</td>\n",
       "      <td>-0.807278</td>\n",
       "      <td>0.49862</td>\n",
       "    </tr>\n",
       "    <tr>\n",
       "      <th>4</th>\n",
       "      <td>-0.537629</td>\n",
       "      <td>-1.475239</td>\n",
       "      <td>-1.467490</td>\n",
       "      <td>0.610487</td>\n",
       "      <td>1.363492</td>\n",
       "      <td>1.115533</td>\n",
       "      <td>0.624611</td>\n",
       "      <td>-0.410675</td>\n",
       "      <td>-1.658441</td>\n",
       "      <td>1.738764</td>\n",
       "      <td>-1.247673</td>\n",
       "      <td>-0.807278</td>\n",
       "      <td>0.49862</td>\n",
       "    </tr>\n",
       "    <tr>\n",
       "      <th>...</th>\n",
       "      <td>...</td>\n",
       "      <td>...</td>\n",
       "      <td>...</td>\n",
       "      <td>...</td>\n",
       "      <td>...</td>\n",
       "      <td>...</td>\n",
       "      <td>...</td>\n",
       "      <td>...</td>\n",
       "      <td>...</td>\n",
       "      <td>...</td>\n",
       "      <td>...</td>\n",
       "      <td>...</td>\n",
       "      <td>...</td>\n",
       "    </tr>\n",
       "    <tr>\n",
       "      <th>10678</th>\n",
       "      <td>-1.185459</td>\n",
       "      <td>-0.531719</td>\n",
       "      <td>-0.608607</td>\n",
       "      <td>1.132373</td>\n",
       "      <td>1.629915</td>\n",
       "      <td>1.261331</td>\n",
       "      <td>0.018744</td>\n",
       "      <td>-1.686161</td>\n",
       "      <td>0.890052</td>\n",
       "      <td>-1.026434</td>\n",
       "      <td>-0.294688</td>\n",
       "      <td>1.407309</td>\n",
       "      <td>0.49862</td>\n",
       "    </tr>\n",
       "    <tr>\n",
       "      <th>10679</th>\n",
       "      <td>-1.153580</td>\n",
       "      <td>1.591203</td>\n",
       "      <td>-0.608607</td>\n",
       "      <td>1.306335</td>\n",
       "      <td>1.097068</td>\n",
       "      <td>1.407129</td>\n",
       "      <td>-0.284190</td>\n",
       "      <td>-1.260999</td>\n",
       "      <td>0.890052</td>\n",
       "      <td>-1.026434</td>\n",
       "      <td>-0.294688</td>\n",
       "      <td>1.407309</td>\n",
       "      <td>0.49862</td>\n",
       "    </tr>\n",
       "    <tr>\n",
       "      <th>10680</th>\n",
       "      <td>-1.006561</td>\n",
       "      <td>1.591203</td>\n",
       "      <td>-0.608607</td>\n",
       "      <td>-0.781209</td>\n",
       "      <td>-0.235050</td>\n",
       "      <td>-0.342447</td>\n",
       "      <td>-0.284190</td>\n",
       "      <td>0.014486</td>\n",
       "      <td>-1.658441</td>\n",
       "      <td>1.738764</td>\n",
       "      <td>-1.547183</td>\n",
       "      <td>1.407309</td>\n",
       "      <td>0.49862</td>\n",
       "    </tr>\n",
       "    <tr>\n",
       "      <th>10681</th>\n",
       "      <td>-1.122590</td>\n",
       "      <td>-1.475239</td>\n",
       "      <td>-1.467490</td>\n",
       "      <td>-0.259323</td>\n",
       "      <td>0.297797</td>\n",
       "      <td>0.094947</td>\n",
       "      <td>-0.890057</td>\n",
       "      <td>2.565458</td>\n",
       "      <td>-1.658441</td>\n",
       "      <td>1.738764</td>\n",
       "      <td>-1.547183</td>\n",
       "      <td>1.407309</td>\n",
       "      <td>0.49862</td>\n",
       "    </tr>\n",
       "    <tr>\n",
       "      <th>10682</th>\n",
       "      <td>0.072401</td>\n",
       "      <td>-0.531719</td>\n",
       "      <td>0.250276</td>\n",
       "      <td>-0.433285</td>\n",
       "      <td>1.629915</td>\n",
       "      <td>0.823937</td>\n",
       "      <td>-0.587124</td>\n",
       "      <td>-1.260999</td>\n",
       "      <td>0.040555</td>\n",
       "      <td>-0.335134</td>\n",
       "      <td>0.903351</td>\n",
       "      <td>-0.253632</td>\n",
       "      <td>0.49862</td>\n",
       "    </tr>\n",
       "  </tbody>\n",
       "</table>\n",
       "<p>10683 rows × 13 columns</p>\n",
       "</div>"
      ],
      "text/plain": [
       "       Duration  Day_of_Journey  Month_of_Journey  Dep_Time_Hour  \\\n",
       "0     -1.063077        1.237383         -1.467490       1.654259   \n",
       "1     -0.057456       -1.475239          0.250276      -1.303095   \n",
       "2      1.043931       -0.531719          1.109160      -0.607247   \n",
       "3     -0.398754       -0.177898          0.250276       0.958411   \n",
       "4     -0.537629       -1.475239         -1.467490       0.610487   \n",
       "...         ...             ...               ...            ...   \n",
       "10678 -1.185459       -0.531719         -0.608607       1.132373   \n",
       "10679 -1.153580        1.591203         -0.608607       1.306335   \n",
       "10680 -1.006561        1.591203         -0.608607      -0.781209   \n",
       "10681 -1.122590       -1.475239         -1.467490      -0.259323   \n",
       "10682  0.072401       -0.531719          0.250276      -0.433285   \n",
       "\n",
       "       Dep_Time_Minute  Arrival_Time_Hour  Arrival_Time_Minute   Airline  \\\n",
       "0            -0.235050          -1.800427            -0.890057 -0.410675   \n",
       "1             1.363492          -0.050851            -0.587124 -1.260999   \n",
       "2             0.031373          -1.363033             0.018744  0.014486   \n",
       "3            -1.034321           1.407129             0.321677 -0.410675   \n",
       "4             1.363492           1.115533             0.624611 -0.410675   \n",
       "...                ...                ...                  ...       ...   \n",
       "10678         1.629915           1.261331             0.018744 -1.686161   \n",
       "10679         1.097068           1.407129            -0.284190 -1.260999   \n",
       "10680        -0.235050          -0.342447            -0.284190  0.014486   \n",
       "10681         0.297797           0.094947            -0.890057  2.565458   \n",
       "10682         1.629915           0.823937            -0.587124 -1.260999   \n",
       "\n",
       "         Source  Destination     Route  Total_Stops  Additional_Info  \n",
       "0     -1.658441     1.738764 -1.547183     1.407309          0.49862  \n",
       "1      0.890052    -1.026434  0.249876    -0.253632          0.49862  \n",
       "2      0.040555    -0.335134  1.175633    -0.253632          0.49862  \n",
       "3      0.890052    -1.026434  0.440473    -0.807278          0.49862  \n",
       "4     -1.658441     1.738764 -1.247673    -0.807278          0.49862  \n",
       "...         ...          ...       ...          ...              ...  \n",
       "10678  0.890052    -1.026434 -0.294688     1.407309          0.49862  \n",
       "10679  0.890052    -1.026434 -0.294688     1.407309          0.49862  \n",
       "10680 -1.658441     1.738764 -1.547183     1.407309          0.49862  \n",
       "10681 -1.658441     1.738764 -1.547183     1.407309          0.49862  \n",
       "10682  0.040555    -0.335134  0.903351    -0.253632          0.49862  \n",
       "\n",
       "[10683 rows x 13 columns]"
      ]
     },
     "execution_count": 165,
     "metadata": {},
     "output_type": "execute_result"
    }
   ],
   "source": [
    "#Scaling the data using standardscaler\n",
    "from sklearn.preprocessing import StandardScaler\n",
    "sc = StandardScaler()\n",
    "x = sc.fit_transform(x)\n",
    "x = pd.DataFrame(x,columns = c)\n",
    "x"
   ]
  },
  {
   "cell_type": "code",
   "execution_count": 166,
   "id": "4861249c",
   "metadata": {},
   "outputs": [],
   "source": [
    "from statsmodels.stats.outliers_influence import variance_inflation_factor\n",
    "\n",
    "def calc_vif(x):\n",
    "    vif = pd.DataFrame()\n",
    "    vif['Column Name'] = x.columns\n",
    "    vif['VIF Factor'] = [variance_inflation_factor(x.values,i) for i in range(x.shape[1])]\n",
    "    return(vif)"
   ]
  },
  {
   "cell_type": "code",
   "execution_count": 167,
   "id": "3cefe52c",
   "metadata": {},
   "outputs": [
    {
     "data": {
      "text/html": [
       "<div>\n",
       "<style scoped>\n",
       "    .dataframe tbody tr th:only-of-type {\n",
       "        vertical-align: middle;\n",
       "    }\n",
       "\n",
       "    .dataframe tbody tr th {\n",
       "        vertical-align: top;\n",
       "    }\n",
       "\n",
       "    .dataframe thead th {\n",
       "        text-align: right;\n",
       "    }\n",
       "</style>\n",
       "<table border=\"1\" class=\"dataframe\">\n",
       "  <thead>\n",
       "    <tr style=\"text-align: right;\">\n",
       "      <th></th>\n",
       "      <th>Column Name</th>\n",
       "      <th>VIF Factor</th>\n",
       "    </tr>\n",
       "  </thead>\n",
       "  <tbody>\n",
       "    <tr>\n",
       "      <th>0</th>\n",
       "      <td>Duration</td>\n",
       "      <td>2.894710</td>\n",
       "    </tr>\n",
       "    <tr>\n",
       "      <th>1</th>\n",
       "      <td>Day_of_Journey</td>\n",
       "      <td>1.020101</td>\n",
       "    </tr>\n",
       "    <tr>\n",
       "      <th>2</th>\n",
       "      <td>Month_of_Journey</td>\n",
       "      <td>1.123424</td>\n",
       "    </tr>\n",
       "    <tr>\n",
       "      <th>3</th>\n",
       "      <td>Dep_Time_Hour</td>\n",
       "      <td>1.037301</td>\n",
       "    </tr>\n",
       "    <tr>\n",
       "      <th>4</th>\n",
       "      <td>Dep_Time_Minute</td>\n",
       "      <td>1.021628</td>\n",
       "    </tr>\n",
       "    <tr>\n",
       "      <th>5</th>\n",
       "      <td>Arrival_Time_Hour</td>\n",
       "      <td>1.039096</td>\n",
       "    </tr>\n",
       "    <tr>\n",
       "      <th>6</th>\n",
       "      <td>Arrival_Time_Minute</td>\n",
       "      <td>1.103153</td>\n",
       "    </tr>\n",
       "    <tr>\n",
       "      <th>7</th>\n",
       "      <td>Airline</td>\n",
       "      <td>1.058563</td>\n",
       "    </tr>\n",
       "    <tr>\n",
       "      <th>8</th>\n",
       "      <td>Source</td>\n",
       "      <td>4.308938</td>\n",
       "    </tr>\n",
       "    <tr>\n",
       "      <th>9</th>\n",
       "      <td>Destination</td>\n",
       "      <td>6.614967</td>\n",
       "    </tr>\n",
       "    <tr>\n",
       "      <th>10</th>\n",
       "      <td>Route</td>\n",
       "      <td>1.935687</td>\n",
       "    </tr>\n",
       "    <tr>\n",
       "      <th>11</th>\n",
       "      <td>Total_Stops</td>\n",
       "      <td>3.070833</td>\n",
       "    </tr>\n",
       "    <tr>\n",
       "      <th>12</th>\n",
       "      <td>Additional_Info</td>\n",
       "      <td>1.073507</td>\n",
       "    </tr>\n",
       "  </tbody>\n",
       "</table>\n",
       "</div>"
      ],
      "text/plain": [
       "            Column Name  VIF Factor\n",
       "0              Duration    2.894710\n",
       "1        Day_of_Journey    1.020101\n",
       "2      Month_of_Journey    1.123424\n",
       "3         Dep_Time_Hour    1.037301\n",
       "4       Dep_Time_Minute    1.021628\n",
       "5     Arrival_Time_Hour    1.039096\n",
       "6   Arrival_Time_Minute    1.103153\n",
       "7               Airline    1.058563\n",
       "8                Source    4.308938\n",
       "9           Destination    6.614967\n",
       "10                Route    1.935687\n",
       "11          Total_Stops    3.070833\n",
       "12      Additional_Info    1.073507"
      ]
     },
     "execution_count": 167,
     "metadata": {},
     "output_type": "execute_result"
    }
   ],
   "source": [
    "calc_vif(x)"
   ]
  },
  {
   "cell_type": "markdown",
   "id": "c21332bf",
   "metadata": {},
   "source": [
    "All the columns except the column 'Destination' is not having much variance of inflation. Since there is not much multicolinearity is present in the column 'Destination', we are not dropping this column from the train data."
   ]
  },
  {
   "cell_type": "code",
   "execution_count": 168,
   "id": "703777c2",
   "metadata": {},
   "outputs": [
    {
     "name": "stdout",
     "output_type": "stream",
     "text": [
      "(2671, 13)\n"
     ]
    }
   ],
   "source": [
    "#test data\n",
    "x1 = df_test_1\n",
    "c1 = x1.columns\n",
    "print(x1.shape)"
   ]
  },
  {
   "cell_type": "code",
   "execution_count": 169,
   "id": "b2cd26fd",
   "metadata": {},
   "outputs": [
    {
     "data": {
      "text/html": [
       "<div>\n",
       "<style scoped>\n",
       "    .dataframe tbody tr th:only-of-type {\n",
       "        vertical-align: middle;\n",
       "    }\n",
       "\n",
       "    .dataframe tbody tr th {\n",
       "        vertical-align: top;\n",
       "    }\n",
       "\n",
       "    .dataframe thead th {\n",
       "        text-align: right;\n",
       "    }\n",
       "</style>\n",
       "<table border=\"1\" class=\"dataframe\">\n",
       "  <thead>\n",
       "    <tr style=\"text-align: right;\">\n",
       "      <th></th>\n",
       "      <th>Duration</th>\n",
       "      <th>Day_of_Journey</th>\n",
       "      <th>Month_of_Journey</th>\n",
       "      <th>Dep_Time_Hour</th>\n",
       "      <th>Dep_Time_Minute</th>\n",
       "      <th>Arrival_Time_Hour</th>\n",
       "      <th>Arrival_Time_Minute</th>\n",
       "      <th>Airline</th>\n",
       "      <th>Source</th>\n",
       "      <th>Destination</th>\n",
       "      <th>Route</th>\n",
       "      <th>Total_Stops</th>\n",
       "      <th>Additional_Info</th>\n",
       "    </tr>\n",
       "  </thead>\n",
       "  <tbody>\n",
       "    <tr>\n",
       "      <th>0</th>\n",
       "      <td>0.377825</td>\n",
       "      <td>-0.837333</td>\n",
       "      <td>1.094745</td>\n",
       "      <td>0.773265</td>\n",
       "      <td>0.267704</td>\n",
       "      <td>-1.361709</td>\n",
       "      <td>0.026340</td>\n",
       "      <td>0.011908</td>\n",
       "      <td>0.032567</td>\n",
       "      <td>-0.334795</td>\n",
       "      <td>0.797952</td>\n",
       "      <td>-0.792411</td>\n",
       "      <td>0.480394</td>\n",
       "    </tr>\n",
       "    <tr>\n",
       "      <th>1</th>\n",
       "      <td>-0.727856</td>\n",
       "      <td>-0.110877</td>\n",
       "      <td>0.240505</td>\n",
       "      <td>-1.161445</td>\n",
       "      <td>-0.256324</td>\n",
       "      <td>-0.509324</td>\n",
       "      <td>-0.271771</td>\n",
       "      <td>-0.423779</td>\n",
       "      <td>0.877086</td>\n",
       "      <td>-1.027464</td>\n",
       "      <td>0.392406</td>\n",
       "      <td>-0.792411</td>\n",
       "      <td>0.480394</td>\n",
       "    </tr>\n",
       "    <tr>\n",
       "      <th>2</th>\n",
       "      <td>1.340686</td>\n",
       "      <td>0.978807</td>\n",
       "      <td>0.240505</td>\n",
       "      <td>1.125030</td>\n",
       "      <td>-0.518338</td>\n",
       "      <td>0.769252</td>\n",
       "      <td>-1.464213</td>\n",
       "      <td>0.011908</td>\n",
       "      <td>0.032567</td>\n",
       "      <td>-0.334795</td>\n",
       "      <td>0.797952</td>\n",
       "      <td>-0.792411</td>\n",
       "      <td>-2.148975</td>\n",
       "    </tr>\n",
       "    <tr>\n",
       "      <th>3</th>\n",
       "      <td>0.585667</td>\n",
       "      <td>0.978807</td>\n",
       "      <td>0.240505</td>\n",
       "      <td>-0.809679</td>\n",
       "      <td>-1.304381</td>\n",
       "      <td>1.053380</td>\n",
       "      <td>-1.464213</td>\n",
       "      <td>0.883281</td>\n",
       "      <td>0.032567</td>\n",
       "      <td>-0.334795</td>\n",
       "      <td>0.797952</td>\n",
       "      <td>-0.792411</td>\n",
       "      <td>0.480394</td>\n",
       "    </tr>\n",
       "    <tr>\n",
       "      <th>4</th>\n",
       "      <td>-1.074606</td>\n",
       "      <td>1.342035</td>\n",
       "      <td>1.094745</td>\n",
       "      <td>1.828561</td>\n",
       "      <td>1.577774</td>\n",
       "      <td>-1.645837</td>\n",
       "      <td>1.218783</td>\n",
       "      <td>-1.730840</td>\n",
       "      <td>-1.656471</td>\n",
       "      <td>1.743214</td>\n",
       "      <td>-1.414118</td>\n",
       "      <td>1.435515</td>\n",
       "      <td>0.480394</td>\n",
       "    </tr>\n",
       "    <tr>\n",
       "      <th>...</th>\n",
       "      <td>...</td>\n",
       "      <td>...</td>\n",
       "      <td>...</td>\n",
       "      <td>...</td>\n",
       "      <td>...</td>\n",
       "      <td>...</td>\n",
       "      <td>...</td>\n",
       "      <td>...</td>\n",
       "      <td>...</td>\n",
       "      <td>...</td>\n",
       "      <td>...</td>\n",
       "      <td>...</td>\n",
       "      <td>...</td>\n",
       "    </tr>\n",
       "    <tr>\n",
       "      <th>2666</th>\n",
       "      <td>1.349803</td>\n",
       "      <td>-0.837333</td>\n",
       "      <td>1.094745</td>\n",
       "      <td>1.300913</td>\n",
       "      <td>0.267704</td>\n",
       "      <td>0.911316</td>\n",
       "      <td>0.026340</td>\n",
       "      <td>-1.295153</td>\n",
       "      <td>0.877086</td>\n",
       "      <td>-1.027464</td>\n",
       "      <td>-0.123744</td>\n",
       "      <td>-0.792411</td>\n",
       "      <td>0.480394</td>\n",
       "    </tr>\n",
       "    <tr>\n",
       "      <th>2667</th>\n",
       "      <td>-1.164771</td>\n",
       "      <td>1.705263</td>\n",
       "      <td>-1.467975</td>\n",
       "      <td>0.245617</td>\n",
       "      <td>-0.256324</td>\n",
       "      <td>0.343060</td>\n",
       "      <td>1.815004</td>\n",
       "      <td>-0.423779</td>\n",
       "      <td>0.877086</td>\n",
       "      <td>-1.027464</td>\n",
       "      <td>-0.418687</td>\n",
       "      <td>1.435515</td>\n",
       "      <td>0.480394</td>\n",
       "    </tr>\n",
       "    <tr>\n",
       "      <th>2668</th>\n",
       "      <td>-0.197606</td>\n",
       "      <td>-0.837333</td>\n",
       "      <td>-1.467975</td>\n",
       "      <td>1.476795</td>\n",
       "      <td>1.315760</td>\n",
       "      <td>-1.361709</td>\n",
       "      <td>0.026340</td>\n",
       "      <td>0.011908</td>\n",
       "      <td>0.032567</td>\n",
       "      <td>-0.334795</td>\n",
       "      <td>0.797952</td>\n",
       "      <td>-0.792411</td>\n",
       "      <td>0.480394</td>\n",
       "    </tr>\n",
       "    <tr>\n",
       "      <th>2669</th>\n",
       "      <td>0.779863</td>\n",
       "      <td>-0.837333</td>\n",
       "      <td>-1.467975</td>\n",
       "      <td>-1.513210</td>\n",
       "      <td>-1.304381</td>\n",
       "      <td>0.769252</td>\n",
       "      <td>-0.569881</td>\n",
       "      <td>-1.295153</td>\n",
       "      <td>0.032567</td>\n",
       "      <td>-0.334795</td>\n",
       "      <td>0.797952</td>\n",
       "      <td>-0.792411</td>\n",
       "      <td>0.480394</td>\n",
       "    </tr>\n",
       "    <tr>\n",
       "      <th>2670</th>\n",
       "      <td>0.703962</td>\n",
       "      <td>0.252351</td>\n",
       "      <td>1.094745</td>\n",
       "      <td>-1.513210</td>\n",
       "      <td>1.577774</td>\n",
       "      <td>0.769252</td>\n",
       "      <td>-0.569881</td>\n",
       "      <td>0.883281</td>\n",
       "      <td>0.032567</td>\n",
       "      <td>-0.334795</td>\n",
       "      <td>0.797952</td>\n",
       "      <td>-0.792411</td>\n",
       "      <td>0.480394</td>\n",
       "    </tr>\n",
       "  </tbody>\n",
       "</table>\n",
       "<p>2671 rows × 13 columns</p>\n",
       "</div>"
      ],
      "text/plain": [
       "      Duration  Day_of_Journey  Month_of_Journey  Dep_Time_Hour  \\\n",
       "0     0.377825       -0.837333          1.094745       0.773265   \n",
       "1    -0.727856       -0.110877          0.240505      -1.161445   \n",
       "2     1.340686        0.978807          0.240505       1.125030   \n",
       "3     0.585667        0.978807          0.240505      -0.809679   \n",
       "4    -1.074606        1.342035          1.094745       1.828561   \n",
       "...        ...             ...               ...            ...   \n",
       "2666  1.349803       -0.837333          1.094745       1.300913   \n",
       "2667 -1.164771        1.705263         -1.467975       0.245617   \n",
       "2668 -0.197606       -0.837333         -1.467975       1.476795   \n",
       "2669  0.779863       -0.837333         -1.467975      -1.513210   \n",
       "2670  0.703962        0.252351          1.094745      -1.513210   \n",
       "\n",
       "      Dep_Time_Minute  Arrival_Time_Hour  Arrival_Time_Minute   Airline  \\\n",
       "0            0.267704          -1.361709             0.026340  0.011908   \n",
       "1           -0.256324          -0.509324            -0.271771 -0.423779   \n",
       "2           -0.518338           0.769252            -1.464213  0.011908   \n",
       "3           -1.304381           1.053380            -1.464213  0.883281   \n",
       "4            1.577774          -1.645837             1.218783 -1.730840   \n",
       "...               ...                ...                  ...       ...   \n",
       "2666         0.267704           0.911316             0.026340 -1.295153   \n",
       "2667        -0.256324           0.343060             1.815004 -0.423779   \n",
       "2668         1.315760          -1.361709             0.026340  0.011908   \n",
       "2669        -1.304381           0.769252            -0.569881 -1.295153   \n",
       "2670         1.577774           0.769252            -0.569881  0.883281   \n",
       "\n",
       "        Source  Destination     Route  Total_Stops  Additional_Info  \n",
       "0     0.032567    -0.334795  0.797952    -0.792411         0.480394  \n",
       "1     0.877086    -1.027464  0.392406    -0.792411         0.480394  \n",
       "2     0.032567    -0.334795  0.797952    -0.792411        -2.148975  \n",
       "3     0.032567    -0.334795  0.797952    -0.792411         0.480394  \n",
       "4    -1.656471     1.743214 -1.414118     1.435515         0.480394  \n",
       "...        ...          ...       ...          ...              ...  \n",
       "2666  0.877086    -1.027464 -0.123744    -0.792411         0.480394  \n",
       "2667  0.877086    -1.027464 -0.418687     1.435515         0.480394  \n",
       "2668  0.032567    -0.334795  0.797952    -0.792411         0.480394  \n",
       "2669  0.032567    -0.334795  0.797952    -0.792411         0.480394  \n",
       "2670  0.032567    -0.334795  0.797952    -0.792411         0.480394  \n",
       "\n",
       "[2671 rows x 13 columns]"
      ]
     },
     "execution_count": 169,
     "metadata": {},
     "output_type": "execute_result"
    }
   ],
   "source": [
    "#Scaling the data using standardscaler\n",
    "from sklearn.preprocessing import StandardScaler\n",
    "sc = StandardScaler()\n",
    "x1 = sc.fit_transform(x1)\n",
    "x1 = pd.DataFrame(x1,columns = c1)\n",
    "x1"
   ]
  },
  {
   "cell_type": "code",
   "execution_count": 170,
   "id": "b33606c3",
   "metadata": {},
   "outputs": [],
   "source": [
    "#User defined function to calculate variance of inflation in test data.\n",
    "def calc_vif_test(x1):\n",
    "    vif = pd.DataFrame()\n",
    "    vif['Column Name'] = x1.columns\n",
    "    vif['VIF Factor'] = [variance_inflation_factor(x1.values,i) for i in range(x1.shape[1])]\n",
    "    return(vif)"
   ]
  },
  {
   "cell_type": "code",
   "execution_count": 171,
   "id": "5caedcce",
   "metadata": {},
   "outputs": [
    {
     "data": {
      "text/html": [
       "<div>\n",
       "<style scoped>\n",
       "    .dataframe tbody tr th:only-of-type {\n",
       "        vertical-align: middle;\n",
       "    }\n",
       "\n",
       "    .dataframe tbody tr th {\n",
       "        vertical-align: top;\n",
       "    }\n",
       "\n",
       "    .dataframe thead th {\n",
       "        text-align: right;\n",
       "    }\n",
       "</style>\n",
       "<table border=\"1\" class=\"dataframe\">\n",
       "  <thead>\n",
       "    <tr style=\"text-align: right;\">\n",
       "      <th></th>\n",
       "      <th>Column Name</th>\n",
       "      <th>VIF Factor</th>\n",
       "    </tr>\n",
       "  </thead>\n",
       "  <tbody>\n",
       "    <tr>\n",
       "      <th>0</th>\n",
       "      <td>Duration</td>\n",
       "      <td>2.826503</td>\n",
       "    </tr>\n",
       "    <tr>\n",
       "      <th>1</th>\n",
       "      <td>Day_of_Journey</td>\n",
       "      <td>1.016839</td>\n",
       "    </tr>\n",
       "    <tr>\n",
       "      <th>2</th>\n",
       "      <td>Month_of_Journey</td>\n",
       "      <td>1.132740</td>\n",
       "    </tr>\n",
       "    <tr>\n",
       "      <th>3</th>\n",
       "      <td>Dep_Time_Hour</td>\n",
       "      <td>1.052618</td>\n",
       "    </tr>\n",
       "    <tr>\n",
       "      <th>4</th>\n",
       "      <td>Dep_Time_Minute</td>\n",
       "      <td>1.034311</td>\n",
       "    </tr>\n",
       "    <tr>\n",
       "      <th>5</th>\n",
       "      <td>Arrival_Time_Hour</td>\n",
       "      <td>1.034446</td>\n",
       "    </tr>\n",
       "    <tr>\n",
       "      <th>6</th>\n",
       "      <td>Arrival_Time_Minute</td>\n",
       "      <td>1.123838</td>\n",
       "    </tr>\n",
       "    <tr>\n",
       "      <th>7</th>\n",
       "      <td>Airline</td>\n",
       "      <td>1.076831</td>\n",
       "    </tr>\n",
       "    <tr>\n",
       "      <th>8</th>\n",
       "      <td>Source</td>\n",
       "      <td>4.167401</td>\n",
       "    </tr>\n",
       "    <tr>\n",
       "      <th>9</th>\n",
       "      <td>Destination</td>\n",
       "      <td>6.257361</td>\n",
       "    </tr>\n",
       "    <tr>\n",
       "      <th>10</th>\n",
       "      <td>Route</td>\n",
       "      <td>1.865238</td>\n",
       "    </tr>\n",
       "    <tr>\n",
       "      <th>11</th>\n",
       "      <td>Total_Stops</td>\n",
       "      <td>3.065159</td>\n",
       "    </tr>\n",
       "    <tr>\n",
       "      <th>12</th>\n",
       "      <td>Additional_Info</td>\n",
       "      <td>1.069233</td>\n",
       "    </tr>\n",
       "  </tbody>\n",
       "</table>\n",
       "</div>"
      ],
      "text/plain": [
       "            Column Name  VIF Factor\n",
       "0              Duration    2.826503\n",
       "1        Day_of_Journey    1.016839\n",
       "2      Month_of_Journey    1.132740\n",
       "3         Dep_Time_Hour    1.052618\n",
       "4       Dep_Time_Minute    1.034311\n",
       "5     Arrival_Time_Hour    1.034446\n",
       "6   Arrival_Time_Minute    1.123838\n",
       "7               Airline    1.076831\n",
       "8                Source    4.167401\n",
       "9           Destination    6.257361\n",
       "10                Route    1.865238\n",
       "11          Total_Stops    3.065159\n",
       "12      Additional_Info    1.069233"
      ]
     },
     "execution_count": 171,
     "metadata": {},
     "output_type": "execute_result"
    }
   ],
   "source": [
    "calc_vif_test(x1)"
   ]
  },
  {
   "cell_type": "markdown",
   "id": "db1047cc",
   "metadata": {},
   "source": [
    "All the columns except the column 'Destination' is not having much variance of inflation. Since there is not much multicolinearity is present in the column 'Destination', we are not dropping this column from the test data."
   ]
  },
  {
   "cell_type": "code",
   "execution_count": 172,
   "id": "356ca07a",
   "metadata": {},
   "outputs": [],
   "source": [
    "#Steps performed till now\n",
    "#1. Loaded the train and test data\n",
    "#2. Checked the shape of data(rows and columns).\n",
    "#3. Observed the type of data, non-null values in each variables, features and target of dataset.\n",
    "#Feature Engineering\n",
    "#4. Changed the format of datetime variables in the train and test data to datetime.\n",
    "\n",
    "    #Since the data was only given for the year 2019, new columns created as 'Day_of_Journey' and 'Month_of_Journey' \n",
    "    #from the column 'Date of Journey'.\n",
    "    \n",
    "    #The data in columns 'Dep_Time' and 'Arrival_Time' was divided and added to dataset as new columns with hours and minutes.\n",
    "    #Dep_Time = 'Dep_Time_Hour', 'Dep_Time_Minute'\n",
    "    #Arrival_Time = 'Arrival_Time_Hour', 'Arrival_Time_Minute'\n",
    "\n",
    "    #Dropping the columns ['Date_of_Journey', 'Dep_Time', 'Arrival_Time'] - Because we have created new columns with the required data.\n",
    "    \n",
    "#5. Converting the values in column 'Duration' from hh:mm to minutes.\n",
    "#6. Exploring the categorical variables in train and test dataset.\n",
    "    #Replacing the same categories in variables which are given in different names into one category for train and test data.\n",
    "#7. Checking for missing values\n",
    "    #Imputing the missing values in columns ['Route', 'Total_Stops'] with mode of the columns since the data is categorical.\n",
    "\n",
    "#8. Data_Visualization of variables using countplot, histplot, scatterplot, lineplot and regplot.\n",
    "#Statistical Summary\n",
    "#9. Describe of the data\n",
    "#10. Correlation of the data\n",
    "#11. Correlation with the target variable\n",
    "#12. Distribution of data in columns.\n",
    "#13. Skewness\n",
    "#14. Checked the presence of outliers\n",
    "#Data Cleaning\n",
    "#15. Removed skewness from train and test data\n",
    "#16. Removed outliers\n",
    "    #Performed both zscore and IQR method, in which the IQR method was performing well as we are not losing any data after\n",
    "    #removing outliers using IQR method.\n",
    "#17. Encoding the categorical columns\n",
    "    #Ordinal encoder - For independent variables.\n",
    "#18. Checked the multicolinearity of variables in train and test data."
   ]
  },
  {
   "cell_type": "markdown",
   "id": "cbe1c863",
   "metadata": {},
   "source": [
    "### EDA Completed"
   ]
  },
  {
   "cell_type": "markdown",
   "id": "f2c19ce2",
   "metadata": {},
   "source": [
    "### Building the Model"
   ]
  },
  {
   "cell_type": "code",
   "execution_count": 174,
   "id": "93f72b97",
   "metadata": {},
   "outputs": [
    {
     "name": "stdout",
     "output_type": "stream",
     "text": [
      "(10683, 13)\n",
      "(10683,)\n"
     ]
    }
   ],
   "source": [
    "features = x.copy()\n",
    "target = y.copy()\n",
    "print(features.shape)\n",
    "print(target.shape)"
   ]
  },
  {
   "cell_type": "code",
   "execution_count": 175,
   "id": "9d5c3560",
   "metadata": {},
   "outputs": [],
   "source": [
    "from sklearn.linear_model import LinearRegression\n",
    "from sklearn.neighbors import KNeighborsRegressor\n",
    "from sklearn.svm import SVR\n",
    "from sklearn.tree import DecisionTreeRegressor\n",
    "from sklearn.ensemble import RandomForestRegressor\n",
    "from sklearn.ensemble import AdaBoostRegressor\n",
    "from sklearn.ensemble import GradientBoostingRegressor\n",
    "from sklearn.ensemble import VotingRegressor\n",
    "from sklearn.linear_model import SGDRegressor\n",
    "from sklearn.ensemble import ExtraTreesRegressor\n",
    "from xgboost import XGBRegressor\n",
    "\n",
    "from sklearn.metrics import mean_squared_error,mean_absolute_error, r2_score\n",
    "\n",
    "from sklearn.linear_model import Lasso,Ridge,ElasticNet  #Reguralization technique\n",
    "\n",
    "from sklearn.model_selection import train_test_split"
   ]
  },
  {
   "cell_type": "code",
   "execution_count": 176,
   "id": "481629d5",
   "metadata": {},
   "outputs": [],
   "source": [
    "lr = LinearRegression()\n",
    "knn = KNeighborsRegressor()\n",
    "svr = SVR()\n",
    "dtr = DecisionTreeRegressor()\n",
    "rfr = RandomForestRegressor(n_estimators=100)\n",
    "abr = AdaBoostRegressor()\n",
    "gbr = GradientBoostingRegressor()\n",
    "estimator = [('LR', LinearRegression()),\n",
    "             ('KNN',KNeighborsRegressor()),\n",
    "             ('SVR', SVR(gamma='auto')),\n",
    "             ('DTR',DecisionTreeRegressor()),\n",
    "             ('RFR',RandomForestRegressor(n_estimators=100))]\n",
    "vtr = VotingRegressor(estimators=estimator)\n",
    "sgd = SGDRegressor()\n",
    "etr = ExtraTreesRegressor()\n",
    "xgb = XGBRegressor()"
   ]
  },
  {
   "cell_type": "markdown",
   "id": "fa789fd9",
   "metadata": {},
   "source": [
    "#### Finding the best random_state"
   ]
  },
  {
   "cell_type": "code",
   "execution_count": 177,
   "id": "44d9c0dc",
   "metadata": {},
   "outputs": [],
   "source": [
    "#User defined function for finding the best random state\n",
    "def best_ran(model):\n",
    "    maxacc = 0\n",
    "    maxrs = 0\n",
    "    print(model)\n",
    "    for i in range(1,100):\n",
    "        features_train, features_test,target_train,target_test= train_test_split(features,target,test_size = 0.20, random_state = i)\n",
    "        model.fit(features_train,target_train)\n",
    "        pred_test = model.predict(features_test)\n",
    "        acc = r2_score(target_test,pred_test)\n",
    "        if acc>maxacc:\n",
    "            maxacc = acc\n",
    "            maxrs = i\n",
    "    print(\"At random state \", maxrs, 'the model is having r2 score of ', maxacc)"
   ]
  },
  {
   "cell_type": "code",
   "execution_count": 178,
   "id": "f76ca04e",
   "metadata": {},
   "outputs": [],
   "source": [
    "#User defined Function for training and testing the model with best random state\n",
    "\n",
    "def mod_test(model, ran):\n",
    "    model\n",
    "    print(model)\n",
    "    features_train, features_test, target_train, target_test = train_test_split(features,target,test_size = 0.20, random_state = ran)\n",
    "    model.fit(features_train,target_train)\n",
    "    pred_test = model.predict(features_test)\n",
    "    acc = r2_score(target_test,pred_test)\n",
    "    mse = mean_squared_error(target_test,pred_test)\n",
    "    mae = mean_absolute_error(target_test,pred_test)\n",
    "    print(\"R2 score is \", acc)\n",
    "    print(\"_\"*50)\n",
    "    print(\"Mean Sqaured Error is \",mse)\n",
    "    print(\"_\"*50)\n",
    "    print(\"Mean Absolute Error is \",mae)\n",
    "    print(\"_\"*50)"
   ]
  },
  {
   "cell_type": "markdown",
   "id": "678a79f0",
   "metadata": {},
   "source": [
    "#### LinearRegression"
   ]
  },
  {
   "cell_type": "code",
   "execution_count": 179,
   "id": "db103a98",
   "metadata": {},
   "outputs": [
    {
     "name": "stdout",
     "output_type": "stream",
     "text": [
      "LinearRegression()\n",
      "At random state  77 the model is having r2 score of  0.48031426738522087\n"
     ]
    }
   ],
   "source": [
    "best_ran(lr)"
   ]
  },
  {
   "cell_type": "code",
   "execution_count": 180,
   "id": "2b80da93",
   "metadata": {},
   "outputs": [
    {
     "name": "stdout",
     "output_type": "stream",
     "text": [
      "LinearRegression()\n",
      "R2 score is  0.48031426738522087\n",
      "__________________________________________________\n",
      "Mean Sqaured Error is  9970492.192665117\n",
      "__________________________________________________\n",
      "Mean Absolute Error is  2397.4573381684386\n",
      "__________________________________________________\n",
      "Coefficent is  [ 1926.72073191  -632.74377795  -524.22622172   165.49026367\n",
      "   -37.08401641  -156.18168771   -60.03746717   174.16171124\n",
      "   -16.18686522   386.37244992  -165.0324042  -1403.56435743\n",
      "   173.57654428]\n",
      "__________________________________________________\n",
      "Intercept is  9067.036004270074\n",
      "__________________________________________________\n"
     ]
    }
   ],
   "source": [
    "mod_test(lr,77)\n",
    "print(\"Coefficent is \",lr.coef_)\n",
    "print(\"_\"*50)\n",
    "print(\"Intercept is \",lr.intercept_)\n",
    "print(\"_\"*50)"
   ]
  },
  {
   "cell_type": "markdown",
   "id": "add0a6e8",
   "metadata": {},
   "source": [
    "#### KNeighborsRegressor"
   ]
  },
  {
   "cell_type": "code",
   "execution_count": 181,
   "id": "1ae0b34a",
   "metadata": {},
   "outputs": [
    {
     "name": "stdout",
     "output_type": "stream",
     "text": [
      "KNeighborsRegressor()\n",
      "At random state  32 the model is having r2 score of  0.8142181792881935\n"
     ]
    }
   ],
   "source": [
    "best_ran(knn)"
   ]
  },
  {
   "cell_type": "code",
   "execution_count": 182,
   "id": "76608972",
   "metadata": {},
   "outputs": [
    {
     "name": "stdout",
     "output_type": "stream",
     "text": [
      "KNeighborsRegressor()\n",
      "R2 score is  0.8142181792881935\n",
      "__________________________________________________\n",
      "Mean Sqaured Error is  3705636.1552456715\n",
      "__________________________________________________\n",
      "Mean Absolute Error is  1160.3187646233039\n",
      "__________________________________________________\n"
     ]
    }
   ],
   "source": [
    "mod_test(knn,32)"
   ]
  },
  {
   "cell_type": "markdown",
   "id": "17eac635",
   "metadata": {},
   "source": [
    "#### SVR"
   ]
  },
  {
   "cell_type": "code",
   "execution_count": 183,
   "id": "2fc034a7",
   "metadata": {},
   "outputs": [
    {
     "name": "stdout",
     "output_type": "stream",
     "text": [
      "SVR()\n",
      "At random state  64 the model is having r2 score of  0.06214186242647024\n"
     ]
    }
   ],
   "source": [
    "best_ran(svr)"
   ]
  },
  {
   "cell_type": "code",
   "execution_count": 192,
   "id": "67f9a5cb",
   "metadata": {},
   "outputs": [
    {
     "name": "stdout",
     "output_type": "stream",
     "text": [
      "SVR()\n",
      "R2 score is  0.06214186242647024\n",
      "__________________________________________________\n",
      "Mean Sqaured Error is  17535900.916161425\n",
      "__________________________________________________\n",
      "Mean Absolute Error is  3363.488732108997\n",
      "__________________________________________________\n"
     ]
    }
   ],
   "source": [
    "mod_test(svr,64)"
   ]
  },
  {
   "cell_type": "markdown",
   "id": "7dcb807f",
   "metadata": {},
   "source": [
    "#### DecisionTreeRegressor"
   ]
  },
  {
   "cell_type": "code",
   "execution_count": 184,
   "id": "7e7aa16d",
   "metadata": {},
   "outputs": [
    {
     "name": "stdout",
     "output_type": "stream",
     "text": [
      "DecisionTreeRegressor()\n",
      "At random state  95 the model is having r2 score of  0.8752448788862166\n"
     ]
    }
   ],
   "source": [
    "best_ran(dtr)"
   ]
  },
  {
   "cell_type": "code",
   "execution_count": 193,
   "id": "9668408d",
   "metadata": {},
   "outputs": [
    {
     "name": "stdout",
     "output_type": "stream",
     "text": [
      "DecisionTreeRegressor()\n",
      "R2 score is  0.875546868736228\n",
      "__________________________________________________\n",
      "Mean Sqaured Error is  2550576.8505725833\n",
      "__________________________________________________\n",
      "Mean Absolute Error is  700.8834425206676\n",
      "__________________________________________________\n"
     ]
    }
   ],
   "source": [
    "mod_test(dtr,95)"
   ]
  },
  {
   "cell_type": "markdown",
   "id": "18c318f3",
   "metadata": {},
   "source": [
    "#### RandomForestRegressor"
   ]
  },
  {
   "cell_type": "code",
   "execution_count": 185,
   "id": "84097d9a",
   "metadata": {},
   "outputs": [
    {
     "name": "stdout",
     "output_type": "stream",
     "text": [
      "RandomForestRegressor()\n",
      "At random state  77 the model is having r2 score of  0.93103872541157\n"
     ]
    }
   ],
   "source": [
    "best_ran(rfr)"
   ]
  },
  {
   "cell_type": "code",
   "execution_count": 194,
   "id": "dd27c112",
   "metadata": {},
   "outputs": [
    {
     "name": "stdout",
     "output_type": "stream",
     "text": [
      "RandomForestRegressor()\n",
      "R2 score is  0.9287341455260194\n",
      "__________________________________________________\n",
      "Mean Sqaured Error is  1367279.4942075808\n",
      "__________________________________________________\n",
      "Mean Absolute Error is  600.7102964677526\n",
      "__________________________________________________\n"
     ]
    }
   ],
   "source": [
    "mod_test(rfr,77)"
   ]
  },
  {
   "cell_type": "markdown",
   "id": "a28eeed3",
   "metadata": {},
   "source": [
    "#### AdaBoostRegressor"
   ]
  },
  {
   "cell_type": "code",
   "execution_count": 186,
   "id": "87a60344",
   "metadata": {},
   "outputs": [
    {
     "name": "stdout",
     "output_type": "stream",
     "text": [
      "AdaBoostRegressor()\n",
      "At random state  58 the model is having r2 score of  0.5627485044514194\n"
     ]
    }
   ],
   "source": [
    "best_ran(abr)"
   ]
  },
  {
   "cell_type": "code",
   "execution_count": 195,
   "id": "7d533e94",
   "metadata": {},
   "outputs": [
    {
     "name": "stdout",
     "output_type": "stream",
     "text": [
      "AdaBoostRegressor()\n",
      "R2 score is  0.559032736884672\n",
      "__________________________________________________\n",
      "Mean Sqaured Error is  10128970.36124853\n",
      "__________________________________________________\n",
      "Mean Absolute Error is  2523.729867694426\n",
      "__________________________________________________\n"
     ]
    }
   ],
   "source": [
    "mod_test(abr,58)"
   ]
  },
  {
   "cell_type": "markdown",
   "id": "d32d4d2a",
   "metadata": {},
   "source": [
    "#### GradientBoostingRegressor"
   ]
  },
  {
   "cell_type": "code",
   "execution_count": 187,
   "id": "928b4b0e",
   "metadata": {},
   "outputs": [
    {
     "name": "stdout",
     "output_type": "stream",
     "text": [
      "GradientBoostingRegressor()\n",
      "At random state  77 the model is having r2 score of  0.8582018005646661\n"
     ]
    }
   ],
   "source": [
    "best_ran(gbr)"
   ]
  },
  {
   "cell_type": "code",
   "execution_count": 196,
   "id": "a1552fc8",
   "metadata": {},
   "outputs": [
    {
     "name": "stdout",
     "output_type": "stream",
     "text": [
      "GradientBoostingRegressor()\n",
      "R2 score is  0.8582018005646661\n",
      "__________________________________________________\n",
      "Mean Sqaured Error is  2720486.1547583714\n",
      "__________________________________________________\n",
      "Mean Absolute Error is  1204.9102404031446\n",
      "__________________________________________________\n"
     ]
    }
   ],
   "source": [
    "mod_test(gbr,77)"
   ]
  },
  {
   "cell_type": "markdown",
   "id": "ed4220d9",
   "metadata": {},
   "source": [
    "#### VotingRegressor"
   ]
  },
  {
   "cell_type": "code",
   "execution_count": 188,
   "id": "ef0d88b8",
   "metadata": {},
   "outputs": [
    {
     "name": "stdout",
     "output_type": "stream",
     "text": [
      "VotingRegressor(estimators=[('LR', LinearRegression()),\n",
      "                            ('KNN', KNeighborsRegressor()),\n",
      "                            ('SVR', SVR(gamma='auto')),\n",
      "                            ('DTR', DecisionTreeRegressor()),\n",
      "                            ('RFR', RandomForestRegressor())])\n",
      "At random state  77 the model is having r2 score of  0.8265844279538656\n"
     ]
    }
   ],
   "source": [
    "best_ran(vtr)"
   ]
  },
  {
   "cell_type": "code",
   "execution_count": 197,
   "id": "c1cbdbaa",
   "metadata": {},
   "outputs": [
    {
     "name": "stdout",
     "output_type": "stream",
     "text": [
      "VotingRegressor(estimators=[('LR', LinearRegression()),\n",
      "                            ('KNN', KNeighborsRegressor()),\n",
      "                            ('SVR', SVR(gamma='auto')),\n",
      "                            ('DTR', DecisionTreeRegressor()),\n",
      "                            ('RFR', RandomForestRegressor())])\n",
      "R2 score is  0.8276149965795538\n",
      "__________________________________________________\n",
      "Mean Sqaured Error is  3307312.9063755805\n",
      "__________________________________________________\n",
      "Mean Absolute Error is  1375.6016273531893\n",
      "__________________________________________________\n"
     ]
    }
   ],
   "source": [
    "mod_test(vtr,77)"
   ]
  },
  {
   "cell_type": "markdown",
   "id": "ce3b8521",
   "metadata": {},
   "source": [
    "#### SGDRegressor"
   ]
  },
  {
   "cell_type": "code",
   "execution_count": 189,
   "id": "0cbbdfb8",
   "metadata": {},
   "outputs": [
    {
     "name": "stdout",
     "output_type": "stream",
     "text": [
      "SGDRegressor()\n",
      "At random state  64 the model is having r2 score of  0.47743042514377876\n"
     ]
    }
   ],
   "source": [
    "best_ran(sgd)"
   ]
  },
  {
   "cell_type": "code",
   "execution_count": 198,
   "id": "7d97c91e",
   "metadata": {},
   "outputs": [
    {
     "name": "stdout",
     "output_type": "stream",
     "text": [
      "SGDRegressor()\n",
      "R2 score is  0.4846888288264869\n",
      "__________________________________________________\n",
      "Mean Sqaured Error is  9635194.574383434\n",
      "__________________________________________________\n",
      "Mean Absolute Error is  2356.6172449457126\n",
      "__________________________________________________\n"
     ]
    }
   ],
   "source": [
    "mod_test(sgd,64)"
   ]
  },
  {
   "cell_type": "markdown",
   "id": "8f3f5350",
   "metadata": {},
   "source": [
    "#### ExtraTreesRegressor"
   ]
  },
  {
   "cell_type": "code",
   "execution_count": 190,
   "id": "347fccaf",
   "metadata": {},
   "outputs": [
    {
     "name": "stdout",
     "output_type": "stream",
     "text": [
      "ExtraTreesRegressor()\n",
      "At random state  77 the model is having r2 score of  0.9358663659115265\n"
     ]
    }
   ],
   "source": [
    "best_ran(etr)"
   ]
  },
  {
   "cell_type": "code",
   "execution_count": 200,
   "id": "680dbb6d",
   "metadata": {},
   "outputs": [
    {
     "name": "stdout",
     "output_type": "stream",
     "text": [
      "ExtraTreesRegressor()\n",
      "R2 score is  0.93464168282411\n",
      "__________________________________________________\n",
      "Mean Sqaured Error is  1253939.737481663\n",
      "__________________________________________________\n",
      "Mean Absolute Error is  541.4313344252067\n",
      "__________________________________________________\n"
     ]
    }
   ],
   "source": [
    "mod_test(etr,77)"
   ]
  },
  {
   "cell_type": "markdown",
   "id": "3d8eeb1d",
   "metadata": {},
   "source": [
    "#### XGBRegressor"
   ]
  },
  {
   "cell_type": "code",
   "execution_count": 191,
   "id": "ce34f336",
   "metadata": {},
   "outputs": [
    {
     "name": "stdout",
     "output_type": "stream",
     "text": [
      "XGBRegressor(base_score=None, booster=None, callbacks=None,\n",
      "             colsample_bylevel=None, colsample_bynode=None,\n",
      "             colsample_bytree=None, early_stopping_rounds=None,\n",
      "             enable_categorical=False, eval_metric=None, gamma=None,\n",
      "             gpu_id=None, grow_policy=None, importance_type=None,\n",
      "             interaction_constraints=None, learning_rate=None, max_bin=None,\n",
      "             max_cat_to_onehot=None, max_delta_step=None, max_depth=None,\n",
      "             max_leaves=None, min_child_weight=None, missing=nan,\n",
      "             monotone_constraints=None, n_estimators=100, n_jobs=None,\n",
      "             num_parallel_tree=None, predictor=None, random_state=None,\n",
      "             reg_alpha=None, reg_lambda=None, ...)\n",
      "At random state  77 the model is having r2 score of  0.9391735850034963\n"
     ]
    }
   ],
   "source": [
    "best_ran(xgb)"
   ]
  },
  {
   "cell_type": "code",
   "execution_count": 199,
   "id": "66b84256",
   "metadata": {},
   "outputs": [
    {
     "name": "stdout",
     "output_type": "stream",
     "text": [
      "XGBRegressor(base_score=0.5, booster='gbtree', callbacks=None,\n",
      "             colsample_bylevel=1, colsample_bynode=1, colsample_bytree=1,\n",
      "             early_stopping_rounds=None, enable_categorical=False,\n",
      "             eval_metric=None, gamma=0, gpu_id=-1, grow_policy='depthwise',\n",
      "             importance_type=None, interaction_constraints='',\n",
      "             learning_rate=0.300000012, max_bin=256, max_cat_to_onehot=4,\n",
      "             max_delta_step=0, max_depth=6, max_leaves=0, min_child_weight=1,\n",
      "             missing=nan, monotone_constraints='()', n_estimators=100, n_jobs=0,\n",
      "             num_parallel_tree=1, predictor='auto', random_state=0, reg_alpha=0,\n",
      "             reg_lambda=1, ...)\n",
      "R2 score is  0.9391735850034963\n",
      "__________________________________________________\n",
      "Mean Sqaured Error is  1166992.3913035293\n",
      "__________________________________________________\n",
      "Mean Absolute Error is  685.8938574927066\n",
      "__________________________________________________\n"
     ]
    }
   ],
   "source": [
    "mod_test(xgb,77)"
   ]
  },
  {
   "cell_type": "markdown",
   "id": "b2e7e3d2",
   "metadata": {},
   "source": [
    "After testing the data with the regression algorithms, the ensemble methods are performing well and providing the best R2 Score. Out of that the XGB Regressor and Extra Tree Regressors are  providing the maximum accuracy score of 93.9% and 93.5%."
   ]
  },
  {
   "cell_type": "markdown",
   "id": "5e5676dd",
   "metadata": {},
   "source": [
    "Now let's check the cross validation for each model to find tbe best performing model."
   ]
  },
  {
   "cell_type": "markdown",
   "id": "c6c5f936",
   "metadata": {},
   "source": [
    "### Cross Validation"
   ]
  },
  {
   "cell_type": "code",
   "execution_count": 201,
   "id": "2750ee6a",
   "metadata": {},
   "outputs": [],
   "source": [
    "#User defined function for checking cross validation for each model\n",
    "from sklearn.model_selection import cross_val_score\n",
    "\n",
    "def cross_val(model,ran):    #ran = random_state\n",
    "    cv_mean = 0\n",
    "    cv_fold = 0\n",
    "    features_train, features_test, target_train, target_test = train_test_split(features,target,test_size = 0.20, random_state = ran)\n",
    "    model.fit(features_train,target_train)\n",
    "    pred_test = model.predict(features_test)\n",
    "    for j in range(2,10):\n",
    "        cv_score = cross_val_score(model,features, target, cv = j)\n",
    "        a =cv_score.mean()\n",
    "        if a>cv_mean:\n",
    "            cv_mean = a\n",
    "            cv_fold = j\n",
    "    print(model)\n",
    "    print(\"At cv fold\",cv_fold,\" the cv score is \", cv_mean, \"and the R2 score  is \",r2_score(target_test,pred_test))"
   ]
  },
  {
   "cell_type": "markdown",
   "id": "75a587ea",
   "metadata": {},
   "source": [
    "#### LinearRegression"
   ]
  },
  {
   "cell_type": "code",
   "execution_count": 202,
   "id": "0b566a55",
   "metadata": {},
   "outputs": [
    {
     "name": "stdout",
     "output_type": "stream",
     "text": [
      "LinearRegression()\n",
      "At cv fold 9  the cv score is  0.4334552904742093 and the R2 score  is  0.48031426738522087\n"
     ]
    }
   ],
   "source": [
    "cross_val(lr,77)"
   ]
  },
  {
   "cell_type": "markdown",
   "id": "fc14eaa6",
   "metadata": {},
   "source": [
    "#### KNeighborsRegressor"
   ]
  },
  {
   "cell_type": "code",
   "execution_count": 203,
   "id": "c50f0f73",
   "metadata": {},
   "outputs": [
    {
     "name": "stdout",
     "output_type": "stream",
     "text": [
      "KNeighborsRegressor()\n",
      "At cv fold 8  the cv score is  0.7787814216199507 and the R2 score  is  0.8142181792881935\n"
     ]
    }
   ],
   "source": [
    "cross_val(knn,32)"
   ]
  },
  {
   "cell_type": "markdown",
   "id": "079e64fd",
   "metadata": {},
   "source": [
    "#### SVR"
   ]
  },
  {
   "cell_type": "code",
   "execution_count": 204,
   "id": "aa82cfea",
   "metadata": {},
   "outputs": [
    {
     "name": "stdout",
     "output_type": "stream",
     "text": [
      "SVR()\n",
      "At cv fold 9  the cv score is  0.046280599895764274 and the R2 score  is  0.06214186242647024\n"
     ]
    }
   ],
   "source": [
    "cross_val(svr,64)"
   ]
  },
  {
   "cell_type": "markdown",
   "id": "9d8ac47e",
   "metadata": {},
   "source": [
    "#### DecisionTreeRegressor"
   ]
  },
  {
   "cell_type": "code",
   "execution_count": 205,
   "id": "01133d6f",
   "metadata": {},
   "outputs": [
    {
     "name": "stdout",
     "output_type": "stream",
     "text": [
      "DecisionTreeRegressor()\n",
      "At cv fold 7  the cv score is  0.8302285216824871 and the R2 score  is  0.8638648730618741\n"
     ]
    }
   ],
   "source": [
    "cross_val(dtr,95)"
   ]
  },
  {
   "cell_type": "markdown",
   "id": "d75ecbe1",
   "metadata": {},
   "source": [
    "#### RandomForestRegressor"
   ]
  },
  {
   "cell_type": "code",
   "execution_count": 206,
   "id": "b1d97c02",
   "metadata": {},
   "outputs": [
    {
     "name": "stdout",
     "output_type": "stream",
     "text": [
      "RandomForestRegressor()\n",
      "At cv fold 7  the cv score is  0.8886557571030185 and the R2 score  is  0.9304950187656525\n"
     ]
    }
   ],
   "source": [
    "cross_val(rfr,77)"
   ]
  },
  {
   "cell_type": "markdown",
   "id": "6b5820ca",
   "metadata": {},
   "source": [
    "#### AdaBoostRegressor"
   ]
  },
  {
   "cell_type": "code",
   "execution_count": 207,
   "id": "10ae3699",
   "metadata": {},
   "outputs": [
    {
     "name": "stdout",
     "output_type": "stream",
     "text": [
      "AdaBoostRegressor()\n",
      "At cv fold 2  the cv score is  0.43495726432327275 and the R2 score  is  0.5264757684195989\n"
     ]
    }
   ],
   "source": [
    "cross_val(abr,58)"
   ]
  },
  {
   "cell_type": "markdown",
   "id": "7b9ccd57",
   "metadata": {},
   "source": [
    "#### GradientBoostingRegressor"
   ]
  },
  {
   "cell_type": "code",
   "execution_count": 208,
   "id": "b58994ba",
   "metadata": {},
   "outputs": [
    {
     "name": "stdout",
     "output_type": "stream",
     "text": [
      "GradientBoostingRegressor()\n",
      "At cv fold 8  the cv score is  0.8232617274063517 and the R2 score  is  0.8582018005646661\n"
     ]
    }
   ],
   "source": [
    "cross_val(gbr,77)"
   ]
  },
  {
   "cell_type": "markdown",
   "id": "16b41d4b",
   "metadata": {},
   "source": [
    "#### VotingRegressor"
   ]
  },
  {
   "cell_type": "code",
   "execution_count": 209,
   "id": "e4c47aa5",
   "metadata": {},
   "outputs": [
    {
     "name": "stdout",
     "output_type": "stream",
     "text": [
      "VotingRegressor(estimators=[('LR', LinearRegression()),\n",
      "                            ('KNN', KNeighborsRegressor()),\n",
      "                            ('SVR', SVR(gamma='auto')),\n",
      "                            ('DTR', DecisionTreeRegressor()),\n",
      "                            ('RFR', RandomForestRegressor())])\n",
      "At cv fold 7  the cv score is  0.781745193164643 and the R2 score  is  0.8242186049705765\n"
     ]
    }
   ],
   "source": [
    "cross_val(vtr,77)"
   ]
  },
  {
   "cell_type": "markdown",
   "id": "031477a7",
   "metadata": {},
   "source": [
    "#### SGDRegressor"
   ]
  },
  {
   "cell_type": "code",
   "execution_count": 210,
   "id": "5a31cc75",
   "metadata": {},
   "outputs": [
    {
     "name": "stdout",
     "output_type": "stream",
     "text": [
      "SGDRegressor()\n",
      "At cv fold 7  the cv score is  0.4323873079596445 and the R2 score  is  0.4739776896642891\n"
     ]
    }
   ],
   "source": [
    "cross_val(sgd,64)"
   ]
  },
  {
   "cell_type": "markdown",
   "id": "f38b6ea9",
   "metadata": {},
   "source": [
    "#### ExtraTreesRegressor"
   ]
  },
  {
   "cell_type": "code",
   "execution_count": 211,
   "id": "728d8777",
   "metadata": {},
   "outputs": [
    {
     "name": "stdout",
     "output_type": "stream",
     "text": [
      "ExtraTreesRegressor()\n",
      "At cv fold 7  the cv score is  0.9069683357022769 and the R2 score  is  0.9347387794491063\n"
     ]
    }
   ],
   "source": [
    "cross_val(etr,77)"
   ]
  },
  {
   "cell_type": "markdown",
   "id": "d9b65eb1",
   "metadata": {},
   "source": [
    "#### XGBRegressor"
   ]
  },
  {
   "cell_type": "code",
   "execution_count": 212,
   "id": "838b2716",
   "metadata": {},
   "outputs": [
    {
     "name": "stdout",
     "output_type": "stream",
     "text": [
      "XGBRegressor(base_score=0.5, booster='gbtree', callbacks=None,\n",
      "             colsample_bylevel=1, colsample_bynode=1, colsample_bytree=1,\n",
      "             early_stopping_rounds=None, enable_categorical=False,\n",
      "             eval_metric=None, gamma=0, gpu_id=-1, grow_policy='depthwise',\n",
      "             importance_type=None, interaction_constraints='',\n",
      "             learning_rate=0.300000012, max_bin=256, max_cat_to_onehot=4,\n",
      "             max_delta_step=0, max_depth=6, max_leaves=0, min_child_weight=1,\n",
      "             missing=nan, monotone_constraints='()', n_estimators=100, n_jobs=0,\n",
      "             num_parallel_tree=1, predictor='auto', random_state=0, reg_alpha=0,\n",
      "             reg_lambda=1, ...)\n",
      "At cv fold 7  the cv score is  0.9005404528758026 and the R2 score  is  0.9391735850034963\n"
     ]
    }
   ],
   "source": [
    "cross_val(xgb,77)"
   ]
  },
  {
   "cell_type": "markdown",
   "id": "a6db6dac",
   "metadata": {},
   "source": [
    "After testing and cross validations the Extra Tree Regressor and XGB Regressor is performing well by providing maximum R2 score with best cross validation mean score.\n",
    "\n",
    "**The Extra Tree Regressor model is providing a R2 Score of 93.35% with a cross validation mean score of 90.7%.**\n",
    "\n",
    "**The XGB Regressor model is providing a R2 Score of 93.9% with a cross validation mean score of 90.1%.** \n",
    "\n",
    "So we can consider these two models as the best performing models."
   ]
  },
  {
   "cell_type": "markdown",
   "id": "2e7d3837",
   "metadata": {},
   "source": [
    "#### ExtraTree Regressor(etr)"
   ]
  },
  {
   "cell_type": "code",
   "execution_count": 219,
   "id": "5ce7bd97",
   "metadata": {},
   "outputs": [
    {
     "name": "stdout",
     "output_type": "stream",
     "text": [
      "At cv fold 7  the cv score is  0.908066356689363 and the R2 score  is  0.9346903067801614\n"
     ]
    }
   ],
   "source": [
    "etr = ExtraTreesRegressor()\n",
    "features_train, features_test,target_train,target_test= train_test_split(features,target,test_size = 0.20, random_state = 77)\n",
    "etr.fit(features_train, target_train)\n",
    "pred_test_etr = etr.predict(features_test)\n",
    "\n",
    "cv_score = cross_val_score(etr,features, target, cv = 7)\n",
    "cv_mean =cv_score.mean()\n",
    "print(\"At cv fold\",7,\" the cv score is \", cv_mean, \"and the R2 score  is \",r2_score(target_test,pred_test_etr))"
   ]
  },
  {
   "cell_type": "markdown",
   "id": "94e5b9bb",
   "metadata": {},
   "source": [
    "#### XGB Regressor(xgb)"
   ]
  },
  {
   "cell_type": "code",
   "execution_count": 222,
   "id": "af1813a9",
   "metadata": {},
   "outputs": [
    {
     "name": "stdout",
     "output_type": "stream",
     "text": [
      "At cv fold 7  the cv score is  0.9005404528758026 and the R2 score  is  0.9391735850034963\n"
     ]
    }
   ],
   "source": [
    "xgb = XGBRegressor()\n",
    "features_train, features_test,target_train,target_test= train_test_split(features,target,test_size = 0.20, random_state = 77)\n",
    "xgb.fit(features_train, target_train)\n",
    "pred_test_xgb = xgb.predict(features_test)\n",
    "\n",
    "cv_score = cross_val_score(xgb,features, target, cv = 7)\n",
    "cv_mean =cv_score.mean()\n",
    "print(\"At cv fold\",7,\" the cv score is \", cv_mean, \"and the R2 score  is \",r2_score(target_test,pred_test_xgb))"
   ]
  },
  {
   "cell_type": "markdown",
   "id": "b9742e8d",
   "metadata": {},
   "source": [
    "### Regularization"
   ]
  },
  {
   "cell_type": "code",
   "execution_count": 223,
   "id": "43334853",
   "metadata": {},
   "outputs": [],
   "source": [
    "from sklearn.model_selection import GridSearchCV\n",
    "parameters = {'alpha':[0.0001,0.001,0.01,0.1,1],'random_state':list(range(0,10))}"
   ]
  },
  {
   "cell_type": "markdown",
   "id": "403bd82a",
   "metadata": {},
   "source": [
    "#### Lasso(L1)"
   ]
  },
  {
   "cell_type": "code",
   "execution_count": 224,
   "id": "e3291687",
   "metadata": {},
   "outputs": [
    {
     "name": "stdout",
     "output_type": "stream",
     "text": [
      "{'alpha': 1, 'random_state': 0}\n"
     ]
    }
   ],
   "source": [
    "ls = Lasso()\n",
    "clf = GridSearchCV(ls,parameters)\n",
    "clf.fit(features_train,target_train)\n",
    "\n",
    "print(clf.best_params_)"
   ]
  },
  {
   "cell_type": "code",
   "execution_count": 225,
   "id": "409afc15",
   "metadata": {},
   "outputs": [
    {
     "data": {
      "text/plain": [
       "0.48032619425813006"
      ]
     },
     "execution_count": 225,
     "metadata": {},
     "output_type": "execute_result"
    }
   ],
   "source": [
    "ls = Lasso(alpha = 1, random_state = 0)\n",
    "ls.fit(features_train,target_train)\n",
    "pred_ls = ls.predict(features_test)\n",
    "\n",
    "lss = r2_score(target_test,pred_ls)\n",
    "lss"
   ]
  },
  {
   "cell_type": "code",
   "execution_count": 226,
   "id": "57cddfee",
   "metadata": {},
   "outputs": [
    {
     "name": "stdout",
     "output_type": "stream",
     "text": [
      "Lasso(alpha=1, random_state=0)\n",
      "At cv fold 9  the cv score is  0.4334580455164456 and the R2 score  is  0.43511601874787953\n"
     ]
    }
   ],
   "source": [
    "cross_val(ls,0)"
   ]
  },
  {
   "cell_type": "markdown",
   "id": "25b72fd7",
   "metadata": {},
   "source": [
    "### Ridge(L2)"
   ]
  },
  {
   "cell_type": "code",
   "execution_count": 227,
   "id": "4383a8c4",
   "metadata": {},
   "outputs": [
    {
     "name": "stdout",
     "output_type": "stream",
     "text": [
      "{'alpha': 1, 'random_state': 0}\n"
     ]
    }
   ],
   "source": [
    "rd = Ridge()\n",
    "clf = GridSearchCV(rd,parameters)\n",
    "clf.fit(features_train,target_train)\n",
    "\n",
    "print(clf.best_params_)"
   ]
  },
  {
   "cell_type": "code",
   "execution_count": 228,
   "id": "b96d238b",
   "metadata": {},
   "outputs": [
    {
     "data": {
      "text/plain": [
       "0.4803153991637624"
      ]
     },
     "execution_count": 228,
     "metadata": {},
     "output_type": "execute_result"
    }
   ],
   "source": [
    "rd = Ridge(alpha = 1,random_state=0)\n",
    "rd.fit(features_train,target_train)\n",
    "pred_rd = rd.predict(features_test)\n",
    "\n",
    "rds = r2_score(target_test,pred_rd)\n",
    "rds"
   ]
  },
  {
   "cell_type": "code",
   "execution_count": 229,
   "id": "cc8fd1a8",
   "metadata": {},
   "outputs": [
    {
     "name": "stdout",
     "output_type": "stream",
     "text": [
      "Ridge(alpha=1, random_state=0)\n",
      "At cv fold 9  the cv score is  0.433455807439483 and the R2 score  is  0.4351018374300004\n"
     ]
    }
   ],
   "source": [
    "cross_val(rd,0)"
   ]
  },
  {
   "cell_type": "markdown",
   "id": "9e983586",
   "metadata": {},
   "source": [
    "### ElasticNet"
   ]
  },
  {
   "cell_type": "code",
   "execution_count": 230,
   "id": "572cf6a0",
   "metadata": {},
   "outputs": [
    {
     "name": "stdout",
     "output_type": "stream",
     "text": [
      "{'alpha': 0.01, 'random_state': 0}\n"
     ]
    }
   ],
   "source": [
    "en = ElasticNet()\n",
    "clf = GridSearchCV(en,parameters)\n",
    "clf.fit(features_train, target_train)\n",
    "\n",
    "print(clf.best_params_)"
   ]
  },
  {
   "cell_type": "code",
   "execution_count": 231,
   "id": "66ea22cc",
   "metadata": {},
   "outputs": [
    {
     "data": {
      "text/plain": [
       "0.48034806552846154"
      ]
     },
     "execution_count": 231,
     "metadata": {},
     "output_type": "execute_result"
    }
   ],
   "source": [
    "en = ElasticNet(alpha = 0.01, random_state = 0)\n",
    "en.fit(features_train,target_train)\n",
    "pred_en = en.predict(features_test)\n",
    "\n",
    "ens = r2_score(target_test,pred_en)\n",
    "ens"
   ]
  },
  {
   "cell_type": "code",
   "execution_count": 232,
   "id": "d6eae944",
   "metadata": {
    "scrolled": true
   },
   "outputs": [
    {
     "name": "stdout",
     "output_type": "stream",
     "text": [
      "ElasticNet(alpha=0.01, random_state=0)\n",
      "At cv fold 9  the cv score is  0.4334693465079912 and the R2 score  is  0.43506749070842565\n"
     ]
    }
   ],
   "source": [
    "cross_val(en,0)"
   ]
  },
  {
   "cell_type": "markdown",
   "id": "f6ac564e",
   "metadata": {},
   "source": [
    "The regularization techniques didn't provide better resuls. So we can stick with our XGB Regressor(xgb) and ExtraTree Regressor(etr) as it is performing well with all the tests and validations."
   ]
  },
  {
   "cell_type": "markdown",
   "id": "b2859a05",
   "metadata": {},
   "source": [
    "### Hyperparameter Tuning"
   ]
  },
  {
   "cell_type": "markdown",
   "id": "890b1d74",
   "metadata": {},
   "source": [
    "#### ExtraTree Regressor(etr)"
   ]
  },
  {
   "cell_type": "code",
   "execution_count": 235,
   "id": "0fe970a0",
   "metadata": {},
   "outputs": [],
   "source": [
    "from sklearn.experimental import enable_halving_search_cv\n",
    "from sklearn.model_selection import HalvingGridSearchCV\n",
    "parameters = {'n_estimators':[100,125,150,200],\n",
    "             'criterion': ['squared_error','absolute_error'],\n",
    "             'max_features': [None,'sqrt','log2'],\n",
    "             'max_depth':[10,20,30,None]}\n",
    "\n",
    "grid = HalvingGridSearchCV(estimator = ExtraTreesRegressor(),param_grid=parameters, cv = 7)"
   ]
  },
  {
   "cell_type": "code",
   "execution_count": 236,
   "id": "47e57fc5",
   "metadata": {},
   "outputs": [
    {
     "data": {
      "text/plain": [
       "HalvingGridSearchCV(cv=7, estimator=ExtraTreesRegressor(),\n",
       "                    param_grid={'criterion': ['squared_error',\n",
       "                                              'absolute_error'],\n",
       "                                'max_depth': [10, 20, 30, None],\n",
       "                                'max_features': [None, 'sqrt', 'log2'],\n",
       "                                'n_estimators': [100, 125, 150, 200]})"
      ]
     },
     "execution_count": 236,
     "metadata": {},
     "output_type": "execute_result"
    }
   ],
   "source": [
    "grid.fit(features,target)"
   ]
  },
  {
   "cell_type": "code",
   "execution_count": 237,
   "id": "8f70f1f4",
   "metadata": {},
   "outputs": [
    {
     "data": {
      "text/plain": [
       "0.913124225727195"
      ]
     },
     "execution_count": 237,
     "metadata": {},
     "output_type": "execute_result"
    }
   ],
   "source": [
    "grid.best_score_"
   ]
  },
  {
   "cell_type": "code",
   "execution_count": 238,
   "id": "b4622806",
   "metadata": {},
   "outputs": [
    {
     "data": {
      "text/plain": [
       "{'criterion': 'squared_error',\n",
       " 'max_depth': 20,\n",
       " 'max_features': None,\n",
       " 'n_estimators': 150}"
      ]
     },
     "execution_count": 238,
     "metadata": {},
     "output_type": "execute_result"
    }
   ],
   "source": [
    "grid.best_params_"
   ]
  },
  {
   "cell_type": "code",
   "execution_count": 250,
   "id": "7dfaf4ee",
   "metadata": {},
   "outputs": [
    {
     "name": "stdout",
     "output_type": "stream",
     "text": [
      "At cv fold 7  the cv score is  0.913939526637215 and the R2 score  is  0.9414273706023771\n",
      "R2 Score 0.9414273706023771\n",
      "Mean Squared Error 1123752.1206797473\n",
      "Mean Absolute Error 536.4482561481618\n"
     ]
    }
   ],
   "source": [
    "etr = ExtraTreesRegressor(n_estimators=150,max_depth=20,max_features=None,criterion='squared_error')\n",
    "features_train, features_test,target_train,target_test= train_test_split(features,target,test_size = 0.20, random_state = 77)\n",
    "etr.fit(features_train, target_train)\n",
    "pred_test_etr = etr.predict(features_test)\n",
    "\n",
    "cv_score = cross_val_score(etr,features, target, cv = 7)\n",
    "cv_mean =cv_score.mean()\n",
    "print(\"At cv fold\",7,\" the cv score is \", cv_mean, \"and the R2 score  is \",r2_score(target_test,pred_test_etr))\n",
    "\n",
    "print('R2 Score',r2_score(target_test,pred_test_etr))\n",
    "print('Mean Squared Error',mean_squared_error(target_test,pred_test_etr))\n",
    "print('Mean Absolute Error',mean_absolute_error(target_test,pred_test_etr))"
   ]
  },
  {
   "cell_type": "markdown",
   "id": "923be5d1",
   "metadata": {},
   "source": [
    "The hyper parameter tuning improved the R2 Score and the cross validation mean score."
   ]
  },
  {
   "cell_type": "markdown",
   "id": "f15eb6cb",
   "metadata": {},
   "source": [
    "#### XGB Regressor(xgb)"
   ]
  },
  {
   "cell_type": "code",
   "execution_count": 241,
   "id": "01230ecb",
   "metadata": {},
   "outputs": [],
   "source": [
    "parameters = {'objective':['reg:squarederror','reg:squaredlogerror'],\n",
    "             'base_score':[0.5,1,2],\n",
    "             'eval_metric':['rmse','rmsle','mae'],\n",
    "             'seed':[0,1,2],\n",
    "             'seed_per_iteration':[True, False]}\n",
    "\n",
    "grid = HalvingGridSearchCV(estimator = XGBRegressor(),param_grid=parameters, cv = 7)"
   ]
  },
  {
   "cell_type": "code",
   "execution_count": 242,
   "id": "03adfc4c",
   "metadata": {},
   "outputs": [
    {
     "data": {
      "text/plain": [
       "HalvingGridSearchCV(cv=7,\n",
       "                    estimator=XGBRegressor(base_score=None, booster=None,\n",
       "                                           callbacks=None,\n",
       "                                           colsample_bylevel=None,\n",
       "                                           colsample_bynode=None,\n",
       "                                           colsample_bytree=None,\n",
       "                                           early_stopping_rounds=None,\n",
       "                                           enable_categorical=False,\n",
       "                                           eval_metric=None, gamma=None,\n",
       "                                           gpu_id=None, grow_policy=None,\n",
       "                                           importance_type=None,\n",
       "                                           interaction_constraints=None,\n",
       "                                           learning_rate=None, max_bin=None,...\n",
       "                                           min_child_weight=None, missing=nan,\n",
       "                                           monotone_constraints=None,\n",
       "                                           n_estimators=100, n_jobs=None,\n",
       "                                           num_parallel_tree=None,\n",
       "                                           predictor=None, random_state=None,\n",
       "                                           reg_alpha=None, reg_lambda=None, ...),\n",
       "                    param_grid={'base_score': [0.5, 1, 2],\n",
       "                                'eval_metric': ['rmse', 'rmsle', 'mae'],\n",
       "                                'objective': ['reg:squarederror',\n",
       "                                              'reg:squaredlogerror'],\n",
       "                                'seed': [0, 1, 2],\n",
       "                                'seed_per_iteration': [True, False]})"
      ]
     },
     "execution_count": 242,
     "metadata": {},
     "output_type": "execute_result"
    }
   ],
   "source": [
    "grid.fit(features,target)"
   ]
  },
  {
   "cell_type": "code",
   "execution_count": 243,
   "id": "327e06fa",
   "metadata": {},
   "outputs": [
    {
     "data": {
      "text/plain": [
       "0.9028089254260274"
      ]
     },
     "execution_count": 243,
     "metadata": {},
     "output_type": "execute_result"
    }
   ],
   "source": [
    "grid.best_score_"
   ]
  },
  {
   "cell_type": "code",
   "execution_count": 244,
   "id": "d857200e",
   "metadata": {},
   "outputs": [
    {
     "data": {
      "text/plain": [
       "{'base_score': 0.5,\n",
       " 'eval_metric': 'rmsle',\n",
       " 'objective': 'reg:squarederror',\n",
       " 'seed': 1,\n",
       " 'seed_per_iteration': True}"
      ]
     },
     "execution_count": 244,
     "metadata": {},
     "output_type": "execute_result"
    }
   ],
   "source": [
    "grid.best_params_"
   ]
  },
  {
   "cell_type": "code",
   "execution_count": 247,
   "id": "63bb3e98",
   "metadata": {},
   "outputs": [
    {
     "name": "stdout",
     "output_type": "stream",
     "text": [
      "At cv fold 7  the cv score is  0.9005404528758026 and the R2 score  is  0.9391735850034963\n",
      "R2 Score 0.9391735850034963\n",
      "Mean Squared Error 1166992.3913035293\n",
      "Mean Absolute Error 685.8938574927066\n"
     ]
    }
   ],
   "source": [
    "xgb = XGBRegressor(base_score = 0.5,eval_metric = 'rmsle',objective = 'reg:squarederror',seed = 1,seed_per_iteration = True)\n",
    "features_train, features_test,target_train,target_test= train_test_split(features,target,test_size = 0.20, random_state = 77)\n",
    "xgb.fit(features_train, target_train)\n",
    "pred_test_xgb = xgb.predict(features_test)\n",
    "\n",
    "cv_score = cross_val_score(xgb,features, target, cv = 7)\n",
    "cv_mean =cv_score.mean()\n",
    "print(\"At cv fold\",7,\" the cv score is \", cv_mean, \"and the R2 score  is \",r2_score(target_test,pred_test_xgb))\n",
    "\n",
    "print('R2 Score',r2_score(target_test,pred_test_xgb))\n",
    "print('Mean Squared Error',mean_squared_error(target_test,pred_test_xgb))\n",
    "print('Mean Absolute Error',mean_absolute_error(target_test,pred_test_xgb))"
   ]
  },
  {
   "cell_type": "markdown",
   "id": "e3a1fb0d",
   "metadata": {},
   "source": [
    "The hyper parameter tuning didn't improve the score. "
   ]
  },
  {
   "cell_type": "markdown",
   "id": "37bbddfb",
   "metadata": {},
   "source": [
    "#### After all the tests, cross validations and tunings, the Extra Tree Regressor is performing well among all other algorithms."
   ]
  },
  {
   "cell_type": "markdown",
   "id": "110b8c39",
   "metadata": {},
   "source": [
    "### The ExtraTreeRegressor is providing a R2 Score of 94.1% with a cross validation mean score of 91.4% for 7 cross validations."
   ]
  },
  {
   "cell_type": "markdown",
   "id": "a455e603",
   "metadata": {},
   "source": [
    "### Predicting the target for test data"
   ]
  },
  {
   "cell_type": "code",
   "execution_count": 249,
   "id": "d7d27aa1",
   "metadata": {},
   "outputs": [
    {
     "data": {
      "text/plain": [
       "array([14636.4444958 ,  4602.71333333, 13429.18451852, ...,\n",
       "       15970.84102317, 13208.55      ,  8132.21023184])"
      ]
     },
     "execution_count": 249,
     "metadata": {},
     "output_type": "execute_result"
    }
   ],
   "source": [
    "#Predicting the Flight ticket price with the test data\n",
    "output = etr.predict(x1)   #x1 is the test data which was cleansed for testing purpose.\n",
    "output"
   ]
  },
  {
   "cell_type": "code",
   "execution_count": 252,
   "id": "3fa217cf",
   "metadata": {},
   "outputs": [
    {
     "data": {
      "text/html": [
       "<div>\n",
       "<style scoped>\n",
       "    .dataframe tbody tr th:only-of-type {\n",
       "        vertical-align: middle;\n",
       "    }\n",
       "\n",
       "    .dataframe tbody tr th {\n",
       "        vertical-align: top;\n",
       "    }\n",
       "\n",
       "    .dataframe thead th {\n",
       "        text-align: right;\n",
       "    }\n",
       "</style>\n",
       "<table border=\"1\" class=\"dataframe\">\n",
       "  <thead>\n",
       "    <tr style=\"text-align: right;\">\n",
       "      <th></th>\n",
       "      <th>Duration</th>\n",
       "      <th>Day_of_Journey</th>\n",
       "      <th>Month_of_Journey</th>\n",
       "      <th>Dep_Time_Hour</th>\n",
       "      <th>Dep_Time_Minute</th>\n",
       "      <th>Arrival_Time_Hour</th>\n",
       "      <th>Arrival_Time_Minute</th>\n",
       "      <th>Airline</th>\n",
       "      <th>Source</th>\n",
       "      <th>Destination</th>\n",
       "      <th>Route</th>\n",
       "      <th>Total_Stops</th>\n",
       "      <th>Additional_Info</th>\n",
       "      <th>Price</th>\n",
       "    </tr>\n",
       "  </thead>\n",
       "  <tbody>\n",
       "    <tr>\n",
       "      <th>0</th>\n",
       "      <td>0.377825</td>\n",
       "      <td>-0.837333</td>\n",
       "      <td>1.094745</td>\n",
       "      <td>0.773265</td>\n",
       "      <td>0.267704</td>\n",
       "      <td>-1.361709</td>\n",
       "      <td>0.026340</td>\n",
       "      <td>0.011908</td>\n",
       "      <td>0.032567</td>\n",
       "      <td>-0.334795</td>\n",
       "      <td>0.797952</td>\n",
       "      <td>-0.792411</td>\n",
       "      <td>0.480394</td>\n",
       "      <td>14636.444496</td>\n",
       "    </tr>\n",
       "    <tr>\n",
       "      <th>1</th>\n",
       "      <td>-0.727856</td>\n",
       "      <td>-0.110877</td>\n",
       "      <td>0.240505</td>\n",
       "      <td>-1.161445</td>\n",
       "      <td>-0.256324</td>\n",
       "      <td>-0.509324</td>\n",
       "      <td>-0.271771</td>\n",
       "      <td>-0.423779</td>\n",
       "      <td>0.877086</td>\n",
       "      <td>-1.027464</td>\n",
       "      <td>0.392406</td>\n",
       "      <td>-0.792411</td>\n",
       "      <td>0.480394</td>\n",
       "      <td>4602.713333</td>\n",
       "    </tr>\n",
       "    <tr>\n",
       "      <th>2</th>\n",
       "      <td>1.340686</td>\n",
       "      <td>0.978807</td>\n",
       "      <td>0.240505</td>\n",
       "      <td>1.125030</td>\n",
       "      <td>-0.518338</td>\n",
       "      <td>0.769252</td>\n",
       "      <td>-1.464213</td>\n",
       "      <td>0.011908</td>\n",
       "      <td>0.032567</td>\n",
       "      <td>-0.334795</td>\n",
       "      <td>0.797952</td>\n",
       "      <td>-0.792411</td>\n",
       "      <td>-2.148975</td>\n",
       "      <td>13429.184519</td>\n",
       "    </tr>\n",
       "    <tr>\n",
       "      <th>3</th>\n",
       "      <td>0.585667</td>\n",
       "      <td>0.978807</td>\n",
       "      <td>0.240505</td>\n",
       "      <td>-0.809679</td>\n",
       "      <td>-1.304381</td>\n",
       "      <td>1.053380</td>\n",
       "      <td>-1.464213</td>\n",
       "      <td>0.883281</td>\n",
       "      <td>0.032567</td>\n",
       "      <td>-0.334795</td>\n",
       "      <td>0.797952</td>\n",
       "      <td>-0.792411</td>\n",
       "      <td>0.480394</td>\n",
       "      <td>10896.444358</td>\n",
       "    </tr>\n",
       "    <tr>\n",
       "      <th>4</th>\n",
       "      <td>-1.074606</td>\n",
       "      <td>1.342035</td>\n",
       "      <td>1.094745</td>\n",
       "      <td>1.828561</td>\n",
       "      <td>1.577774</td>\n",
       "      <td>-1.645837</td>\n",
       "      <td>1.218783</td>\n",
       "      <td>-1.730840</td>\n",
       "      <td>-1.656471</td>\n",
       "      <td>1.743214</td>\n",
       "      <td>-1.414118</td>\n",
       "      <td>1.435515</td>\n",
       "      <td>0.480394</td>\n",
       "      <td>3753.096667</td>\n",
       "    </tr>\n",
       "    <tr>\n",
       "      <th>...</th>\n",
       "      <td>...</td>\n",
       "      <td>...</td>\n",
       "      <td>...</td>\n",
       "      <td>...</td>\n",
       "      <td>...</td>\n",
       "      <td>...</td>\n",
       "      <td>...</td>\n",
       "      <td>...</td>\n",
       "      <td>...</td>\n",
       "      <td>...</td>\n",
       "      <td>...</td>\n",
       "      <td>...</td>\n",
       "      <td>...</td>\n",
       "      <td>...</td>\n",
       "    </tr>\n",
       "    <tr>\n",
       "      <th>2666</th>\n",
       "      <td>1.349803</td>\n",
       "      <td>-0.837333</td>\n",
       "      <td>1.094745</td>\n",
       "      <td>1.300913</td>\n",
       "      <td>0.267704</td>\n",
       "      <td>0.911316</td>\n",
       "      <td>0.026340</td>\n",
       "      <td>-1.295153</td>\n",
       "      <td>0.877086</td>\n",
       "      <td>-1.027464</td>\n",
       "      <td>-0.123744</td>\n",
       "      <td>-0.792411</td>\n",
       "      <td>0.480394</td>\n",
       "      <td>10012.116667</td>\n",
       "    </tr>\n",
       "    <tr>\n",
       "      <th>2667</th>\n",
       "      <td>-1.164771</td>\n",
       "      <td>1.705263</td>\n",
       "      <td>-1.467975</td>\n",
       "      <td>0.245617</td>\n",
       "      <td>-0.256324</td>\n",
       "      <td>0.343060</td>\n",
       "      <td>1.815004</td>\n",
       "      <td>-0.423779</td>\n",
       "      <td>0.877086</td>\n",
       "      <td>-1.027464</td>\n",
       "      <td>-0.418687</td>\n",
       "      <td>1.435515</td>\n",
       "      <td>0.480394</td>\n",
       "      <td>5073.823333</td>\n",
       "    </tr>\n",
       "    <tr>\n",
       "      <th>2668</th>\n",
       "      <td>-0.197606</td>\n",
       "      <td>-0.837333</td>\n",
       "      <td>-1.467975</td>\n",
       "      <td>1.476795</td>\n",
       "      <td>1.315760</td>\n",
       "      <td>-1.361709</td>\n",
       "      <td>0.026340</td>\n",
       "      <td>0.011908</td>\n",
       "      <td>0.032567</td>\n",
       "      <td>-0.334795</td>\n",
       "      <td>0.797952</td>\n",
       "      <td>-0.792411</td>\n",
       "      <td>0.480394</td>\n",
       "      <td>15970.841023</td>\n",
       "    </tr>\n",
       "    <tr>\n",
       "      <th>2669</th>\n",
       "      <td>0.779863</td>\n",
       "      <td>-0.837333</td>\n",
       "      <td>-1.467975</td>\n",
       "      <td>-1.513210</td>\n",
       "      <td>-1.304381</td>\n",
       "      <td>0.769252</td>\n",
       "      <td>-0.569881</td>\n",
       "      <td>-1.295153</td>\n",
       "      <td>0.032567</td>\n",
       "      <td>-0.334795</td>\n",
       "      <td>0.797952</td>\n",
       "      <td>-0.792411</td>\n",
       "      <td>0.480394</td>\n",
       "      <td>13208.550000</td>\n",
       "    </tr>\n",
       "    <tr>\n",
       "      <th>2670</th>\n",
       "      <td>0.703962</td>\n",
       "      <td>0.252351</td>\n",
       "      <td>1.094745</td>\n",
       "      <td>-1.513210</td>\n",
       "      <td>1.577774</td>\n",
       "      <td>0.769252</td>\n",
       "      <td>-0.569881</td>\n",
       "      <td>0.883281</td>\n",
       "      <td>0.032567</td>\n",
       "      <td>-0.334795</td>\n",
       "      <td>0.797952</td>\n",
       "      <td>-0.792411</td>\n",
       "      <td>0.480394</td>\n",
       "      <td>8132.210232</td>\n",
       "    </tr>\n",
       "  </tbody>\n",
       "</table>\n",
       "<p>2671 rows × 14 columns</p>\n",
       "</div>"
      ],
      "text/plain": [
       "      Duration  Day_of_Journey  Month_of_Journey  Dep_Time_Hour  \\\n",
       "0     0.377825       -0.837333          1.094745       0.773265   \n",
       "1    -0.727856       -0.110877          0.240505      -1.161445   \n",
       "2     1.340686        0.978807          0.240505       1.125030   \n",
       "3     0.585667        0.978807          0.240505      -0.809679   \n",
       "4    -1.074606        1.342035          1.094745       1.828561   \n",
       "...        ...             ...               ...            ...   \n",
       "2666  1.349803       -0.837333          1.094745       1.300913   \n",
       "2667 -1.164771        1.705263         -1.467975       0.245617   \n",
       "2668 -0.197606       -0.837333         -1.467975       1.476795   \n",
       "2669  0.779863       -0.837333         -1.467975      -1.513210   \n",
       "2670  0.703962        0.252351          1.094745      -1.513210   \n",
       "\n",
       "      Dep_Time_Minute  Arrival_Time_Hour  Arrival_Time_Minute   Airline  \\\n",
       "0            0.267704          -1.361709             0.026340  0.011908   \n",
       "1           -0.256324          -0.509324            -0.271771 -0.423779   \n",
       "2           -0.518338           0.769252            -1.464213  0.011908   \n",
       "3           -1.304381           1.053380            -1.464213  0.883281   \n",
       "4            1.577774          -1.645837             1.218783 -1.730840   \n",
       "...               ...                ...                  ...       ...   \n",
       "2666         0.267704           0.911316             0.026340 -1.295153   \n",
       "2667        -0.256324           0.343060             1.815004 -0.423779   \n",
       "2668         1.315760          -1.361709             0.026340  0.011908   \n",
       "2669        -1.304381           0.769252            -0.569881 -1.295153   \n",
       "2670         1.577774           0.769252            -0.569881  0.883281   \n",
       "\n",
       "        Source  Destination     Route  Total_Stops  Additional_Info  \\\n",
       "0     0.032567    -0.334795  0.797952    -0.792411         0.480394   \n",
       "1     0.877086    -1.027464  0.392406    -0.792411         0.480394   \n",
       "2     0.032567    -0.334795  0.797952    -0.792411        -2.148975   \n",
       "3     0.032567    -0.334795  0.797952    -0.792411         0.480394   \n",
       "4    -1.656471     1.743214 -1.414118     1.435515         0.480394   \n",
       "...        ...          ...       ...          ...              ...   \n",
       "2666  0.877086    -1.027464 -0.123744    -0.792411         0.480394   \n",
       "2667  0.877086    -1.027464 -0.418687     1.435515         0.480394   \n",
       "2668  0.032567    -0.334795  0.797952    -0.792411         0.480394   \n",
       "2669  0.032567    -0.334795  0.797952    -0.792411         0.480394   \n",
       "2670  0.032567    -0.334795  0.797952    -0.792411         0.480394   \n",
       "\n",
       "             Price  \n",
       "0     14636.444496  \n",
       "1      4602.713333  \n",
       "2     13429.184519  \n",
       "3     10896.444358  \n",
       "4      3753.096667  \n",
       "...            ...  \n",
       "2666  10012.116667  \n",
       "2667   5073.823333  \n",
       "2668  15970.841023  \n",
       "2669  13208.550000  \n",
       "2670   8132.210232  \n",
       "\n",
       "[2671 rows x 14 columns]"
      ]
     },
     "execution_count": 252,
     "metadata": {},
     "output_type": "execute_result"
    }
   ],
   "source": [
    "test_data_new = x1.copy()\n",
    "test_data_new['Price'] = output\n",
    "\n",
    "test_data_new"
   ]
  },
  {
   "cell_type": "markdown",
   "id": "28d520c7",
   "metadata": {},
   "source": [
    "### Saving the predicted result with test data"
   ]
  },
  {
   "cell_type": "code",
   "execution_count": 253,
   "id": "542fda7b",
   "metadata": {},
   "outputs": [],
   "source": [
    "test_data_new.to_csv('Flight price predicted with test data.csv')"
   ]
  },
  {
   "cell_type": "markdown",
   "id": "738d80fd",
   "metadata": {},
   "source": [
    "### Saving the Best Model"
   ]
  },
  {
   "cell_type": "code",
   "execution_count": 254,
   "id": "be827a6b",
   "metadata": {},
   "outputs": [],
   "source": [
    "import pickle\n",
    "filename = 'Flight ticket price prediction model.pkl'\n",
    "pickle.dump(etr,open(filename,'wb'))"
   ]
  },
  {
   "cell_type": "markdown",
   "id": "9a4a5de9",
   "metadata": {},
   "source": [
    "### Conclusion"
   ]
  },
  {
   "cell_type": "code",
   "execution_count": 255,
   "id": "98465927",
   "metadata": {},
   "outputs": [
    {
     "data": {
      "text/html": [
       "<div>\n",
       "<style scoped>\n",
       "    .dataframe tbody tr th:only-of-type {\n",
       "        vertical-align: middle;\n",
       "    }\n",
       "\n",
       "    .dataframe tbody tr th {\n",
       "        vertical-align: top;\n",
       "    }\n",
       "\n",
       "    .dataframe thead th {\n",
       "        text-align: right;\n",
       "    }\n",
       "</style>\n",
       "<table border=\"1\" class=\"dataframe\">\n",
       "  <thead>\n",
       "    <tr style=\"text-align: right;\">\n",
       "      <th></th>\n",
       "      <th>Original Price</th>\n",
       "      <th>Predicted Price</th>\n",
       "    </tr>\n",
       "  </thead>\n",
       "  <tbody>\n",
       "    <tr>\n",
       "      <th>257</th>\n",
       "      <td>7480</td>\n",
       "      <td>7510.0</td>\n",
       "    </tr>\n",
       "    <tr>\n",
       "      <th>1091</th>\n",
       "      <td>5510</td>\n",
       "      <td>5735.0</td>\n",
       "    </tr>\n",
       "    <tr>\n",
       "      <th>1180</th>\n",
       "      <td>3311</td>\n",
       "      <td>3514.0</td>\n",
       "    </tr>\n",
       "    <tr>\n",
       "      <th>1477</th>\n",
       "      <td>13587</td>\n",
       "      <td>13280.0</td>\n",
       "    </tr>\n",
       "    <tr>\n",
       "      <th>1639</th>\n",
       "      <td>6681</td>\n",
       "      <td>6878.0</td>\n",
       "    </tr>\n",
       "    <tr>\n",
       "      <th>1370</th>\n",
       "      <td>4423</td>\n",
       "      <td>4329.0</td>\n",
       "    </tr>\n",
       "    <tr>\n",
       "      <th>2025</th>\n",
       "      <td>4804</td>\n",
       "      <td>4806.0</td>\n",
       "    </tr>\n",
       "    <tr>\n",
       "      <th>1923</th>\n",
       "      <td>5201</td>\n",
       "      <td>5829.0</td>\n",
       "    </tr>\n",
       "    <tr>\n",
       "      <th>2091</th>\n",
       "      <td>10178</td>\n",
       "      <td>9579.0</td>\n",
       "    </tr>\n",
       "    <tr>\n",
       "      <th>1757</th>\n",
       "      <td>12898</td>\n",
       "      <td>12881.0</td>\n",
       "    </tr>\n",
       "    <tr>\n",
       "      <th>1709</th>\n",
       "      <td>10262</td>\n",
       "      <td>10331.0</td>\n",
       "    </tr>\n",
       "    <tr>\n",
       "      <th>1121</th>\n",
       "      <td>11467</td>\n",
       "      <td>11547.0</td>\n",
       "    </tr>\n",
       "    <tr>\n",
       "      <th>604</th>\n",
       "      <td>19329</td>\n",
       "      <td>20642.0</td>\n",
       "    </tr>\n",
       "    <tr>\n",
       "      <th>1628</th>\n",
       "      <td>13062</td>\n",
       "      <td>10203.0</td>\n",
       "    </tr>\n",
       "    <tr>\n",
       "      <th>1034</th>\n",
       "      <td>8603</td>\n",
       "      <td>8903.0</td>\n",
       "    </tr>\n",
       "    <tr>\n",
       "      <th>2109</th>\n",
       "      <td>15318</td>\n",
       "      <td>15289.0</td>\n",
       "    </tr>\n",
       "    <tr>\n",
       "      <th>990</th>\n",
       "      <td>13843</td>\n",
       "      <td>12576.0</td>\n",
       "    </tr>\n",
       "    <tr>\n",
       "      <th>135</th>\n",
       "      <td>5830</td>\n",
       "      <td>5650.0</td>\n",
       "    </tr>\n",
       "    <tr>\n",
       "      <th>106</th>\n",
       "      <td>8266</td>\n",
       "      <td>8709.0</td>\n",
       "    </tr>\n",
       "    <tr>\n",
       "      <th>1958</th>\n",
       "      <td>13376</td>\n",
       "      <td>13375.0</td>\n",
       "    </tr>\n",
       "  </tbody>\n",
       "</table>\n",
       "</div>"
      ],
      "text/plain": [
       "      Original Price  Predicted Price\n",
       "257             7480           7510.0\n",
       "1091            5510           5735.0\n",
       "1180            3311           3514.0\n",
       "1477           13587          13280.0\n",
       "1639            6681           6878.0\n",
       "1370            4423           4329.0\n",
       "2025            4804           4806.0\n",
       "1923            5201           5829.0\n",
       "2091           10178           9579.0\n",
       "1757           12898          12881.0\n",
       "1709           10262          10331.0\n",
       "1121           11467          11547.0\n",
       "604            19329          20642.0\n",
       "1628           13062          10203.0\n",
       "1034            8603           8903.0\n",
       "2109           15318          15289.0\n",
       "990            13843          12576.0\n",
       "135             5830           5650.0\n",
       "106             8266           8709.0\n",
       "1958           13376          13375.0"
      ]
     },
     "execution_count": 255,
     "metadata": {},
     "output_type": "execute_result"
    }
   ],
   "source": [
    "original = np.array(target_test)\n",
    "predicted = np.round(np.array(etr.predict(features_test)),0)\n",
    "\n",
    "prediction_test = pd.DataFrame({'Original Price':original,'Predicted Price':predicted})\n",
    "prediction_test.sample(20)"
   ]
  },
  {
   "cell_type": "markdown",
   "id": "2d701896",
   "metadata": {},
   "source": [
    "#### Our model is performing well with predictions and providing almost accurate value for all the prices with minimal or slight difference.\n",
    "**The Extra tree regressor is performing well with a R2 Score of 94.1%.**"
   ]
  },
  {
   "cell_type": "markdown",
   "id": "bdd54bcd",
   "metadata": {},
   "source": [
    "Now we can predict the Flight ticket prices for any airlines with the following information.\n",
    "\n",
    "`Duration`\n",
    "`Day_of_Journey`\n",
    "`Month_of_Journey`\n",
    "`Dep_Time_Hour`\n",
    "`Dep_Time_Minute`\n",
    "`Arrival_Time_Hour`\n",
    "`Arrival_Time_Minute`\n",
    "`Airline`\n",
    "`Source`\n",
    "`Destination`\n",
    "`Route`\n",
    "`Total_Stops`\n",
    "`Additional_Info`"
   ]
  },
  {
   "cell_type": "markdown",
   "id": "665ff5e0",
   "metadata": {},
   "source": [
    "### Machine learning model to predict the price of the flight ticket created successfully."
   ]
  }
 ],
 "metadata": {
  "kernelspec": {
   "display_name": "Python 3",
   "language": "python",
   "name": "python3"
  },
  "language_info": {
   "codemirror_mode": {
    "name": "ipython",
    "version": 3
   },
   "file_extension": ".py",
   "mimetype": "text/x-python",
   "name": "python",
   "nbconvert_exporter": "python",
   "pygments_lexer": "ipython3",
   "version": "3.8.8"
  }
 },
 "nbformat": 4,
 "nbformat_minor": 5
}
