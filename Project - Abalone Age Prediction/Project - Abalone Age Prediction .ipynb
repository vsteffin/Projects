{
 "cells": [
  {
   "cell_type": "markdown",
   "id": "9968ca98",
   "metadata": {},
   "source": [
    "### Abalone Case Study"
   ]
  },
  {
   "cell_type": "markdown",
   "id": "2b332dfb",
   "metadata": {},
   "source": [
    "#### Problem Statement:\n",
    "The age of abalone is determined by cutting the shell through the cone, staining it, and counting the number of rings through a microscope -- a boring and time-consuming task. Other measurements, which are easier to obtain, are used to predict the age. Further information, such as weather patterns and location (hence food availability) may be required to solve the problem."
   ]
  },
  {
   "cell_type": "markdown",
   "id": "a824d863",
   "metadata": {},
   "source": [
    "### Attribute Information"
   ]
  },
  {
   "cell_type": "markdown",
   "id": "bd3a558a",
   "metadata": {},
   "source": [
    "Given is the attribute name, attribute type, the measurement unit and a brief description."
   ]
  },
  {
   "cell_type": "markdown",
   "id": "8cdd5aa2",
   "metadata": {},
   "source": [
    "### Features"
   ]
  },
  {
   "cell_type": "markdown",
   "id": "d9067394",
   "metadata": {},
   "source": [
    "    Name / Data Type / Measurement Unit / Description\n",
    "\n",
    "1. Sex / nominal / -- / M, F, and I (infant)\n",
    "2. Length / continuous / mm / Longest shell measurement\n",
    "3. Diameter / continuous / mm / perpendicular to length\n",
    "4. Height / continuous / mm / with meat in shell\n",
    "5. Whole weight / continuous / grams / whole abalone\n",
    "6. Shucked weight / continuous / grams / weight of meat\n",
    "7. Viscera weight / continuous / grams / gut weight (after bleeding)\n",
    "8. Shell weight / continuous / grams / after being dried"
   ]
  },
  {
   "cell_type": "markdown",
   "id": "7b7f468d",
   "metadata": {},
   "source": [
    "### Target"
   ]
  },
  {
   "cell_type": "markdown",
   "id": "4abb94f5",
   "metadata": {},
   "source": [
    "     Name / Data Type / Measurement Unit / Description\n",
    "    \n",
    "    Rings / integer / -- / +1.5 gives the age in years. "
   ]
  },
  {
   "cell_type": "markdown",
   "id": "b373a885",
   "metadata": {},
   "source": [
    "#### We have to predict the rings of each abalone which will lead us to the age of that abalone. "
   ]
  },
  {
   "cell_type": "code",
   "execution_count": 126,
   "id": "6ebc5341",
   "metadata": {},
   "outputs": [
    {
     "data": {
      "text/html": [
       "<div>\n",
       "<style scoped>\n",
       "    .dataframe tbody tr th:only-of-type {\n",
       "        vertical-align: middle;\n",
       "    }\n",
       "\n",
       "    .dataframe tbody tr th {\n",
       "        vertical-align: top;\n",
       "    }\n",
       "\n",
       "    .dataframe thead th {\n",
       "        text-align: right;\n",
       "    }\n",
       "</style>\n",
       "<table border=\"1\" class=\"dataframe\">\n",
       "  <thead>\n",
       "    <tr style=\"text-align: right;\">\n",
       "      <th></th>\n",
       "      <th>Sex</th>\n",
       "      <th>Length</th>\n",
       "      <th>Diameter</th>\n",
       "      <th>Height</th>\n",
       "      <th>Whole weight</th>\n",
       "      <th>Shucked weight</th>\n",
       "      <th>Viscera weight</th>\n",
       "      <th>Shell weight</th>\n",
       "      <th>Rings</th>\n",
       "    </tr>\n",
       "  </thead>\n",
       "  <tbody>\n",
       "    <tr>\n",
       "      <th>0</th>\n",
       "      <td>M</td>\n",
       "      <td>0.455</td>\n",
       "      <td>0.365</td>\n",
       "      <td>0.095</td>\n",
       "      <td>0.5140</td>\n",
       "      <td>0.2245</td>\n",
       "      <td>0.1010</td>\n",
       "      <td>0.1500</td>\n",
       "      <td>15</td>\n",
       "    </tr>\n",
       "    <tr>\n",
       "      <th>1</th>\n",
       "      <td>M</td>\n",
       "      <td>0.350</td>\n",
       "      <td>0.265</td>\n",
       "      <td>0.090</td>\n",
       "      <td>0.2255</td>\n",
       "      <td>0.0995</td>\n",
       "      <td>0.0485</td>\n",
       "      <td>0.0700</td>\n",
       "      <td>7</td>\n",
       "    </tr>\n",
       "    <tr>\n",
       "      <th>2</th>\n",
       "      <td>F</td>\n",
       "      <td>0.530</td>\n",
       "      <td>0.420</td>\n",
       "      <td>0.135</td>\n",
       "      <td>0.6770</td>\n",
       "      <td>0.2565</td>\n",
       "      <td>0.1415</td>\n",
       "      <td>0.2100</td>\n",
       "      <td>9</td>\n",
       "    </tr>\n",
       "    <tr>\n",
       "      <th>3</th>\n",
       "      <td>M</td>\n",
       "      <td>0.440</td>\n",
       "      <td>0.365</td>\n",
       "      <td>0.125</td>\n",
       "      <td>0.5160</td>\n",
       "      <td>0.2155</td>\n",
       "      <td>0.1140</td>\n",
       "      <td>0.1550</td>\n",
       "      <td>10</td>\n",
       "    </tr>\n",
       "    <tr>\n",
       "      <th>4</th>\n",
       "      <td>I</td>\n",
       "      <td>0.330</td>\n",
       "      <td>0.255</td>\n",
       "      <td>0.080</td>\n",
       "      <td>0.2050</td>\n",
       "      <td>0.0895</td>\n",
       "      <td>0.0395</td>\n",
       "      <td>0.0550</td>\n",
       "      <td>7</td>\n",
       "    </tr>\n",
       "    <tr>\n",
       "      <th>...</th>\n",
       "      <td>...</td>\n",
       "      <td>...</td>\n",
       "      <td>...</td>\n",
       "      <td>...</td>\n",
       "      <td>...</td>\n",
       "      <td>...</td>\n",
       "      <td>...</td>\n",
       "      <td>...</td>\n",
       "      <td>...</td>\n",
       "    </tr>\n",
       "    <tr>\n",
       "      <th>4172</th>\n",
       "      <td>F</td>\n",
       "      <td>0.565</td>\n",
       "      <td>0.450</td>\n",
       "      <td>0.165</td>\n",
       "      <td>0.8870</td>\n",
       "      <td>0.3700</td>\n",
       "      <td>0.2390</td>\n",
       "      <td>0.2490</td>\n",
       "      <td>11</td>\n",
       "    </tr>\n",
       "    <tr>\n",
       "      <th>4173</th>\n",
       "      <td>M</td>\n",
       "      <td>0.590</td>\n",
       "      <td>0.440</td>\n",
       "      <td>0.135</td>\n",
       "      <td>0.9660</td>\n",
       "      <td>0.4390</td>\n",
       "      <td>0.2145</td>\n",
       "      <td>0.2605</td>\n",
       "      <td>10</td>\n",
       "    </tr>\n",
       "    <tr>\n",
       "      <th>4174</th>\n",
       "      <td>M</td>\n",
       "      <td>0.600</td>\n",
       "      <td>0.475</td>\n",
       "      <td>0.205</td>\n",
       "      <td>1.1760</td>\n",
       "      <td>0.5255</td>\n",
       "      <td>0.2875</td>\n",
       "      <td>0.3080</td>\n",
       "      <td>9</td>\n",
       "    </tr>\n",
       "    <tr>\n",
       "      <th>4175</th>\n",
       "      <td>F</td>\n",
       "      <td>0.625</td>\n",
       "      <td>0.485</td>\n",
       "      <td>0.150</td>\n",
       "      <td>1.0945</td>\n",
       "      <td>0.5310</td>\n",
       "      <td>0.2610</td>\n",
       "      <td>0.2960</td>\n",
       "      <td>10</td>\n",
       "    </tr>\n",
       "    <tr>\n",
       "      <th>4176</th>\n",
       "      <td>M</td>\n",
       "      <td>0.710</td>\n",
       "      <td>0.555</td>\n",
       "      <td>0.195</td>\n",
       "      <td>1.9485</td>\n",
       "      <td>0.9455</td>\n",
       "      <td>0.3765</td>\n",
       "      <td>0.4950</td>\n",
       "      <td>12</td>\n",
       "    </tr>\n",
       "  </tbody>\n",
       "</table>\n",
       "<p>4177 rows × 9 columns</p>\n",
       "</div>"
      ],
      "text/plain": [
       "     Sex  Length  Diameter  Height  Whole weight  Shucked weight  \\\n",
       "0      M   0.455     0.365   0.095        0.5140          0.2245   \n",
       "1      M   0.350     0.265   0.090        0.2255          0.0995   \n",
       "2      F   0.530     0.420   0.135        0.6770          0.2565   \n",
       "3      M   0.440     0.365   0.125        0.5160          0.2155   \n",
       "4      I   0.330     0.255   0.080        0.2050          0.0895   \n",
       "...   ..     ...       ...     ...           ...             ...   \n",
       "4172   F   0.565     0.450   0.165        0.8870          0.3700   \n",
       "4173   M   0.590     0.440   0.135        0.9660          0.4390   \n",
       "4174   M   0.600     0.475   0.205        1.1760          0.5255   \n",
       "4175   F   0.625     0.485   0.150        1.0945          0.5310   \n",
       "4176   M   0.710     0.555   0.195        1.9485          0.9455   \n",
       "\n",
       "      Viscera weight  Shell weight  Rings  \n",
       "0             0.1010        0.1500     15  \n",
       "1             0.0485        0.0700      7  \n",
       "2             0.1415        0.2100      9  \n",
       "3             0.1140        0.1550     10  \n",
       "4             0.0395        0.0550      7  \n",
       "...              ...           ...    ...  \n",
       "4172          0.2390        0.2490     11  \n",
       "4173          0.2145        0.2605     10  \n",
       "4174          0.2875        0.3080      9  \n",
       "4175          0.2610        0.2960     10  \n",
       "4176          0.3765        0.4950     12  \n",
       "\n",
       "[4177 rows x 9 columns]"
      ]
     },
     "execution_count": 126,
     "metadata": {},
     "output_type": "execute_result"
    }
   ],
   "source": [
    "#Loading the dataset\n",
    "import pandas as pd\n",
    "\n",
    "import warnings\n",
    "warnings.filterwarnings('ignore')\n",
    "\n",
    "data = pd.read_csv('abalone.csv')\n",
    "data"
   ]
  },
  {
   "cell_type": "code",
   "execution_count": 3,
   "id": "c0086863",
   "metadata": {},
   "outputs": [
    {
     "data": {
      "text/plain": [
       "(4177, 9)"
      ]
     },
     "execution_count": 3,
     "metadata": {},
     "output_type": "execute_result"
    }
   ],
   "source": [
    "data.shape"
   ]
  },
  {
   "cell_type": "markdown",
   "id": "bf3df92e",
   "metadata": {},
   "source": [
    "The dataset has 9 columns and 4177 rows."
   ]
  },
  {
   "cell_type": "markdown",
   "id": "329bf4ab",
   "metadata": {},
   "source": [
    "### Type of data in each columns"
   ]
  },
  {
   "cell_type": "code",
   "execution_count": 5,
   "id": "7526ab50",
   "metadata": {},
   "outputs": [
    {
     "data": {
      "text/plain": [
       "Sex                object\n",
       "Length            float64\n",
       "Diameter          float64\n",
       "Height            float64\n",
       "Whole weight      float64\n",
       "Shucked weight    float64\n",
       "Viscera weight    float64\n",
       "Shell weight      float64\n",
       "Rings               int64\n",
       "dtype: object"
      ]
     },
     "execution_count": 5,
     "metadata": {},
     "output_type": "execute_result"
    }
   ],
   "source": [
    "data.dtypes"
   ]
  },
  {
   "cell_type": "markdown",
   "id": "41ff45f2",
   "metadata": {},
   "source": [
    "1. In the column 'Sex' there are three categories. \"Male\", \"Female\" and \"Infant\".\n",
    "2. The columns ['Length','Diameter','Height','Whole weight','Shucked weight','Viscera weight','Shell weight'] are continuous variables. \n",
    "3. The column 'Rings' is having integer values."
   ]
  },
  {
   "cell_type": "code",
   "execution_count": 6,
   "id": "52e0b7dc",
   "metadata": {},
   "outputs": [
    {
     "data": {
      "text/plain": [
       "array([ 1,  2,  3,  4,  5,  6,  7,  8,  9, 10, 11, 12, 13, 14, 15, 16, 17,\n",
       "       18, 19, 20, 21, 22, 23, 24, 25, 26, 27, 29], dtype=int64)"
      ]
     },
     "execution_count": 6,
     "metadata": {},
     "output_type": "execute_result"
    }
   ],
   "source": [
    "data['Rings'].sort_values().unique()"
   ]
  },
  {
   "cell_type": "code",
   "execution_count": 7,
   "id": "1621cafd",
   "metadata": {},
   "outputs": [
    {
     "data": {
      "text/plain": [
       "28"
      ]
     },
     "execution_count": 7,
     "metadata": {},
     "output_type": "execute_result"
    }
   ],
   "source": [
    "len(data['Rings'].unique())"
   ]
  },
  {
   "cell_type": "markdown",
   "id": "1903ba80",
   "metadata": {},
   "source": [
    "We have 28 unique values in the target column. This is a regression type of model."
   ]
  },
  {
   "cell_type": "markdown",
   "id": "119c4cdf",
   "metadata": {},
   "source": [
    "### Checking for missing values."
   ]
  },
  {
   "cell_type": "code",
   "execution_count": 8,
   "id": "2fb31905",
   "metadata": {},
   "outputs": [
    {
     "name": "stdout",
     "output_type": "stream",
     "text": [
      "Sex               0\n",
      "Length            0\n",
      "Diameter          0\n",
      "Height            0\n",
      "Whole weight      0\n",
      "Shucked weight    0\n",
      "Viscera weight    0\n",
      "Shell weight      0\n",
      "Rings             0\n",
      "dtype: int64\n"
     ]
    },
    {
     "data": {
      "image/png": "[encoded data removed]",
      "text/plain": [
       "<Figure size 432x288 with 2 Axes>"
      ]
     },
     "metadata": {
      "needs_background": "light"
     },
     "output_type": "display_data"
    }
   ],
   "source": [
    "import seaborn as sns\n",
    "import matplotlib.pyplot as plt\n",
    "\n",
    "sns.heatmap(data.isnull())\n",
    "print(data.isnull().sum())"
   ]
  },
  {
   "cell_type": "markdown",
   "id": "91aaa052",
   "metadata": {},
   "source": [
    "We don't have any null values in the dataset."
   ]
  },
  {
   "cell_type": "markdown",
   "id": "118867ef",
   "metadata": {},
   "source": [
    "### Data Visualization"
   ]
  },
  {
   "cell_type": "code",
   "execution_count": 10,
   "id": "5b5d1ee1",
   "metadata": {},
   "outputs": [
    {
     "name": "stdout",
     "output_type": "stream",
     "text": [
      "M    1528\n",
      "I    1342\n",
      "F    1307\n",
      "Name: Sex, dtype: int64\n"
     ]
    },
    {
     "data": {
      "image/png": "[encoded data removed]",
      "text/plain": [
       "<Figure size 432x288 with 1 Axes>"
      ]
     },
     "metadata": {
      "needs_background": "light"
     },
     "output_type": "display_data"
    }
   ],
   "source": [
    "sns.countplot(data['Sex'])\n",
    "print(data['Sex'].value_counts())"
   ]
  },
  {
   "cell_type": "markdown",
   "id": "ed1c21da",
   "metadata": {},
   "source": [
    "From the above observations, the number of data given for male abalone shells is 1528, feamale abalone shells is 1307 and infant abalone shells is 1342. The data is not having much imbalance. So we don't have to go for balancing techniques."
   ]
  },
  {
   "cell_type": "code",
   "execution_count": 37,
   "id": "3a64fa00",
   "metadata": {},
   "outputs": [],
   "source": [
    "import numpy as np"
   ]
  },
  {
   "cell_type": "markdown",
   "id": "3e826444",
   "metadata": {},
   "source": [
    "Visualization of continuous data"
   ]
  },
  {
   "cell_type": "code",
   "execution_count": 40,
   "id": "5f291d42",
   "metadata": {},
   "outputs": [],
   "source": [
    "#User defined function to plot the columns in histogram plot.\n",
    "def histogramplot(col):\n",
    "    plt.figure(figsize=[4,4])\n",
    "    sns.histplot(x =col,data = data,bins =6,kde=True)\n",
    "    print(np.histogram(data[col],bins=6))"
   ]
  },
  {
   "cell_type": "code",
   "execution_count": 41,
   "id": "51ce44b8",
   "metadata": {},
   "outputs": [
    {
     "name": "stdout",
     "output_type": "stream",
     "text": [
      "(array([  43,  241,  694, 1431, 1561,  207], dtype=int64), array([0.075     , 0.19833333, 0.32166667, 0.445     , 0.56833333,\n",
      "       0.69166667, 0.815     ]))\n"
     ]
    },
    {
     "data": {
      "image/png": "[encoded data removed]",
      "text/plain": [
       "<Figure size 288x288 with 1 Axes>"
      ]
     },
     "metadata": {
      "needs_background": "light"
     },
     "output_type": "display_data"
    }
   ],
   "source": [
    "histogramplot('Length')"
   ]
  },
  {
   "cell_type": "markdown",
   "id": "78716200",
   "metadata": {},
   "source": [
    "From the above observation, the data in the column 'Length' is almost normally distributed. Most of the data are within the rage from 0.4 to 0.7."
   ]
  },
  {
   "cell_type": "code",
   "execution_count": 46,
   "id": "2b526e75",
   "metadata": {},
   "outputs": [
    {
     "name": "stdout",
     "output_type": "stream",
     "text": [
      "(array([  59,  278,  779, 1469, 1434,  158], dtype=int64), array([0.055     , 0.15416667, 0.25333333, 0.3525    , 0.45166667,\n",
      "       0.55083333, 0.65      ]))\n"
     ]
    },
    {
     "data": {
      "image/png": "[encoded data removed]",
      "text/plain": [
       "<Figure size 288x288 with 1 Axes>"
      ]
     },
     "metadata": {
      "needs_background": "light"
     },
     "output_type": "display_data"
    }
   ],
   "source": [
    "histogramplot('Diameter')"
   ]
  },
  {
   "cell_type": "markdown",
   "id": "fd687e4f",
   "metadata": {},
   "source": [
    "From the above observation, most of the data in the column are lying in the range from 0.3 to 0.55."
   ]
  },
  {
   "cell_type": "code",
   "execution_count": 47,
   "id": "7c68a9ca",
   "metadata": {},
   "outputs": [
    {
     "name": "stdout",
     "output_type": "stream",
     "text": [
      "(array([3774,  401,    1,    0,    0,    1], dtype=int64), array([0.        , 0.18833333, 0.37666667, 0.565     , 0.75333333,\n",
      "       0.94166667, 1.13      ]))\n"
     ]
    },
    {
     "data": {
      "image/png": "[encoded data removed]",
      "text/plain": [
       "<Figure size 288x288 with 1 Axes>"
      ]
     },
     "metadata": {
      "needs_background": "light"
     },
     "output_type": "display_data"
    }
   ],
   "source": [
    "histogramplot('Height')"
   ]
  },
  {
   "cell_type": "markdown",
   "id": "87a40574",
   "metadata": {},
   "source": [
    "From the above observation, most of the data in the column 'height' are lying in range from 0.0 to 0.2."
   ]
  },
  {
   "cell_type": "code",
   "execution_count": 48,
   "id": "23a105f8",
   "metadata": {},
   "outputs": [
    {
     "name": "stdout",
     "output_type": "stream",
     "text": [
      "(array([1150, 1388, 1144,  389,   91,   15], dtype=int64), array([2.00000000e-03, 4.72583333e-01, 9.43166667e-01, 1.41375000e+00,\n",
      "       1.88433333e+00, 2.35491667e+00, 2.82550000e+00]))\n"
     ]
    },
    {
     "data": {
      "image/png": "[encoded data removed]",
      "text/plain": [
       "<Figure size 288x288 with 1 Axes>"
      ]
     },
     "metadata": {
      "needs_background": "light"
     },
     "output_type": "display_data"
    }
   ],
   "source": [
    "histogramplot('Whole weight')"
   ]
  },
  {
   "cell_type": "markdown",
   "id": "5d3419fa",
   "metadata": {},
   "source": [
    "From the above observation most of the data in the column 'Whole weight' are lying in range from 0.0 to 1.5."
   ]
  },
  {
   "cell_type": "code",
   "execution_count": 52,
   "id": "cd0e9693",
   "metadata": {},
   "outputs": [
    {
     "name": "stdout",
     "output_type": "stream",
     "text": [
      "(array([1496, 1605,  873,  159,   39,    5], dtype=int64), array([1.00000000e-03, 2.48833333e-01, 4.96666667e-01, 7.44500000e-01,\n",
      "       9.92333333e-01, 1.24016667e+00, 1.48800000e+00]))\n"
     ]
    },
    {
     "data": {
      "image/png": "[encoded data removed]",
      "text/plain": [
       "<Figure size 288x288 with 1 Axes>"
      ]
     },
     "metadata": {
      "needs_background": "light"
     },
     "output_type": "display_data"
    }
   ],
   "source": [
    "histogramplot('Shucked weight')"
   ]
  },
  {
   "cell_type": "markdown",
   "id": "9e771b74",
   "metadata": {},
   "source": [
    "From the above observations, most the data in the column 'Shucked weight' are lying in range from 0.00 to 0.5."
   ]
  },
  {
   "cell_type": "code",
   "execution_count": 54,
   "id": "09f16ced",
   "metadata": {},
   "outputs": [
    {
     "name": "stdout",
     "output_type": "stream",
     "text": [
      "(array([1493, 1646,  832,  183,   21,    2], dtype=int64), array([5.00000000e-04, 1.27083333e-01, 2.53666667e-01, 3.80250000e-01,\n",
      "       5.06833333e-01, 6.33416667e-01, 7.60000000e-01]))\n"
     ]
    },
    {
     "data": {
      "image/png": "[encoded data removed]",
      "text/plain": [
       "<Figure size 288x288 with 1 Axes>"
      ]
     },
     "metadata": {
      "needs_background": "light"
     },
     "output_type": "display_data"
    }
   ],
   "source": [
    "histogramplot('Viscera weight')"
   ]
  },
  {
   "cell_type": "markdown",
   "id": "e70714b6",
   "metadata": {},
   "source": [
    "From the above observations, the data in the column 'Viscera weight' are lying in range from 0.0 to 0.3."
   ]
  },
  {
   "cell_type": "code",
   "execution_count": 51,
   "id": "fec0517c",
   "metadata": {},
   "outputs": [
    {
     "name": "stdout",
     "output_type": "stream",
     "text": [
      "(array([1435, 1778,  812,  130,   17,    5], dtype=int64), array([0.0015 , 0.16875, 0.336  , 0.50325, 0.6705 , 0.83775, 1.005  ]))\n"
     ]
    },
    {
     "data": {
      "image/png": "[encoded data removed]",
      "text/plain": [
       "<Figure size 288x288 with 1 Axes>"
      ]
     },
     "metadata": {
      "needs_background": "light"
     },
     "output_type": "display_data"
    }
   ],
   "source": [
    "histogramplot('Shell weight')"
   ]
  },
  {
   "cell_type": "markdown",
   "id": "fea12767",
   "metadata": {},
   "source": [
    "From the above observation, the data in the column 'Shell weight' are lying in range from 0.0 to 0.34."
   ]
  },
  {
   "cell_type": "code",
   "execution_count": 60,
   "id": "684c0d7b",
   "metadata": {},
   "outputs": [
    {
     "name": "stdout",
     "output_type": "stream",
     "text": [
      "(array([ 189, 2541, 1083,  302,   57,    5], dtype=int64), array([ 1.        ,  5.66666667, 10.33333333, 15.        , 19.66666667,\n",
      "       24.33333333, 29.        ]))\n"
     ]
    },
    {
     "data": {
      "image/png": "[encoded data removed]",
      "text/plain": [
       "<Figure size 288x288 with 1 Axes>"
      ]
     },
     "metadata": {
      "needs_background": "light"
     },
     "output_type": "display_data"
    }
   ],
   "source": [
    "#Plotting the target column\n",
    "\n",
    "histogramplot('Rings')"
   ]
  },
  {
   "cell_type": "markdown",
   "id": "3b9b846a",
   "metadata": {},
   "source": [
    "From the above observations, the data in the column 'Rings' are lying in the range from 5 to 12."
   ]
  },
  {
   "cell_type": "markdown",
   "id": "17e01a4f",
   "metadata": {},
   "source": [
    "### Encoding the column 'Sex'"
   ]
  },
  {
   "cell_type": "code",
   "execution_count": 127,
   "id": "28bc70fb",
   "metadata": {},
   "outputs": [
    {
     "data": {
      "text/html": [
       "<div>\n",
       "<style scoped>\n",
       "    .dataframe tbody tr th:only-of-type {\n",
       "        vertical-align: middle;\n",
       "    }\n",
       "\n",
       "    .dataframe tbody tr th {\n",
       "        vertical-align: top;\n",
       "    }\n",
       "\n",
       "    .dataframe thead th {\n",
       "        text-align: right;\n",
       "    }\n",
       "</style>\n",
       "<table border=\"1\" class=\"dataframe\">\n",
       "  <thead>\n",
       "    <tr style=\"text-align: right;\">\n",
       "      <th></th>\n",
       "      <th>Sex</th>\n",
       "      <th>Length</th>\n",
       "      <th>Diameter</th>\n",
       "      <th>Height</th>\n",
       "      <th>Whole weight</th>\n",
       "      <th>Shucked weight</th>\n",
       "      <th>Viscera weight</th>\n",
       "      <th>Shell weight</th>\n",
       "      <th>Rings</th>\n",
       "    </tr>\n",
       "  </thead>\n",
       "  <tbody>\n",
       "    <tr>\n",
       "      <th>0</th>\n",
       "      <td>2</td>\n",
       "      <td>0.455</td>\n",
       "      <td>0.365</td>\n",
       "      <td>0.095</td>\n",
       "      <td>0.5140</td>\n",
       "      <td>0.2245</td>\n",
       "      <td>0.1010</td>\n",
       "      <td>0.1500</td>\n",
       "      <td>15</td>\n",
       "    </tr>\n",
       "    <tr>\n",
       "      <th>1</th>\n",
       "      <td>2</td>\n",
       "      <td>0.350</td>\n",
       "      <td>0.265</td>\n",
       "      <td>0.090</td>\n",
       "      <td>0.2255</td>\n",
       "      <td>0.0995</td>\n",
       "      <td>0.0485</td>\n",
       "      <td>0.0700</td>\n",
       "      <td>7</td>\n",
       "    </tr>\n",
       "    <tr>\n",
       "      <th>2</th>\n",
       "      <td>1</td>\n",
       "      <td>0.530</td>\n",
       "      <td>0.420</td>\n",
       "      <td>0.135</td>\n",
       "      <td>0.6770</td>\n",
       "      <td>0.2565</td>\n",
       "      <td>0.1415</td>\n",
       "      <td>0.2100</td>\n",
       "      <td>9</td>\n",
       "    </tr>\n",
       "    <tr>\n",
       "      <th>3</th>\n",
       "      <td>2</td>\n",
       "      <td>0.440</td>\n",
       "      <td>0.365</td>\n",
       "      <td>0.125</td>\n",
       "      <td>0.5160</td>\n",
       "      <td>0.2155</td>\n",
       "      <td>0.1140</td>\n",
       "      <td>0.1550</td>\n",
       "      <td>10</td>\n",
       "    </tr>\n",
       "    <tr>\n",
       "      <th>4</th>\n",
       "      <td>0</td>\n",
       "      <td>0.330</td>\n",
       "      <td>0.255</td>\n",
       "      <td>0.080</td>\n",
       "      <td>0.2050</td>\n",
       "      <td>0.0895</td>\n",
       "      <td>0.0395</td>\n",
       "      <td>0.0550</td>\n",
       "      <td>7</td>\n",
       "    </tr>\n",
       "    <tr>\n",
       "      <th>...</th>\n",
       "      <td>...</td>\n",
       "      <td>...</td>\n",
       "      <td>...</td>\n",
       "      <td>...</td>\n",
       "      <td>...</td>\n",
       "      <td>...</td>\n",
       "      <td>...</td>\n",
       "      <td>...</td>\n",
       "      <td>...</td>\n",
       "    </tr>\n",
       "    <tr>\n",
       "      <th>4172</th>\n",
       "      <td>1</td>\n",
       "      <td>0.565</td>\n",
       "      <td>0.450</td>\n",
       "      <td>0.165</td>\n",
       "      <td>0.8870</td>\n",
       "      <td>0.3700</td>\n",
       "      <td>0.2390</td>\n",
       "      <td>0.2490</td>\n",
       "      <td>11</td>\n",
       "    </tr>\n",
       "    <tr>\n",
       "      <th>4173</th>\n",
       "      <td>2</td>\n",
       "      <td>0.590</td>\n",
       "      <td>0.440</td>\n",
       "      <td>0.135</td>\n",
       "      <td>0.9660</td>\n",
       "      <td>0.4390</td>\n",
       "      <td>0.2145</td>\n",
       "      <td>0.2605</td>\n",
       "      <td>10</td>\n",
       "    </tr>\n",
       "    <tr>\n",
       "      <th>4174</th>\n",
       "      <td>2</td>\n",
       "      <td>0.600</td>\n",
       "      <td>0.475</td>\n",
       "      <td>0.205</td>\n",
       "      <td>1.1760</td>\n",
       "      <td>0.5255</td>\n",
       "      <td>0.2875</td>\n",
       "      <td>0.3080</td>\n",
       "      <td>9</td>\n",
       "    </tr>\n",
       "    <tr>\n",
       "      <th>4175</th>\n",
       "      <td>1</td>\n",
       "      <td>0.625</td>\n",
       "      <td>0.485</td>\n",
       "      <td>0.150</td>\n",
       "      <td>1.0945</td>\n",
       "      <td>0.5310</td>\n",
       "      <td>0.2610</td>\n",
       "      <td>0.2960</td>\n",
       "      <td>10</td>\n",
       "    </tr>\n",
       "    <tr>\n",
       "      <th>4176</th>\n",
       "      <td>2</td>\n",
       "      <td>0.710</td>\n",
       "      <td>0.555</td>\n",
       "      <td>0.195</td>\n",
       "      <td>1.9485</td>\n",
       "      <td>0.9455</td>\n",
       "      <td>0.3765</td>\n",
       "      <td>0.4950</td>\n",
       "      <td>12</td>\n",
       "    </tr>\n",
       "  </tbody>\n",
       "</table>\n",
       "<p>4177 rows × 9 columns</p>\n",
       "</div>"
      ],
      "text/plain": [
       "      Sex  Length  Diameter  Height  Whole weight  Shucked weight  \\\n",
       "0       2   0.455     0.365   0.095        0.5140          0.2245   \n",
       "1       2   0.350     0.265   0.090        0.2255          0.0995   \n",
       "2       1   0.530     0.420   0.135        0.6770          0.2565   \n",
       "3       2   0.440     0.365   0.125        0.5160          0.2155   \n",
       "4       0   0.330     0.255   0.080        0.2050          0.0895   \n",
       "...   ...     ...       ...     ...           ...             ...   \n",
       "4172    1   0.565     0.450   0.165        0.8870          0.3700   \n",
       "4173    2   0.590     0.440   0.135        0.9660          0.4390   \n",
       "4174    2   0.600     0.475   0.205        1.1760          0.5255   \n",
       "4175    1   0.625     0.485   0.150        1.0945          0.5310   \n",
       "4176    2   0.710     0.555   0.195        1.9485          0.9455   \n",
       "\n",
       "      Viscera weight  Shell weight  Rings  \n",
       "0             0.1010        0.1500     15  \n",
       "1             0.0485        0.0700      7  \n",
       "2             0.1415        0.2100      9  \n",
       "3             0.1140        0.1550     10  \n",
       "4             0.0395        0.0550      7  \n",
       "...              ...           ...    ...  \n",
       "4172          0.2390        0.2490     11  \n",
       "4173          0.2145        0.2605     10  \n",
       "4174          0.2875        0.3080      9  \n",
       "4175          0.2610        0.2960     10  \n",
       "4176          0.3765        0.4950     12  \n",
       "\n",
       "[4177 rows x 9 columns]"
      ]
     },
     "execution_count": 127,
     "metadata": {},
     "output_type": "execute_result"
    }
   ],
   "source": [
    "from sklearn.preprocessing import OrdinalEncoder\n",
    "oec = OrdinalEncoder(categories = [['I','F','M']])\n",
    "data['Sex'] = oec.fit_transform(data['Sex'].values.reshape(-1,1))\n",
    "data['Sex'] = data['Sex'].astype(int)\n",
    "data"
   ]
  },
  {
   "cell_type": "code",
   "execution_count": 128,
   "id": "b20cd391",
   "metadata": {},
   "outputs": [
    {
     "data": {
      "text/plain": [
       "[array(['I', 'F', 'M'], dtype=object)]"
      ]
     },
     "execution_count": 128,
     "metadata": {},
     "output_type": "execute_result"
    }
   ],
   "source": [
    "oec.categories_"
   ]
  },
  {
   "cell_type": "markdown",
   "id": "b16e7bb6",
   "metadata": {},
   "source": [
    "## Statistical Summary"
   ]
  },
  {
   "cell_type": "markdown",
   "id": "29268700",
   "metadata": {},
   "source": [
    "### Describe of columns"
   ]
  },
  {
   "cell_type": "code",
   "execution_count": 129,
   "id": "863affc3",
   "metadata": {},
   "outputs": [
    {
     "data": {
      "text/html": [
       "<div>\n",
       "<style scoped>\n",
       "    .dataframe tbody tr th:only-of-type {\n",
       "        vertical-align: middle;\n",
       "    }\n",
       "\n",
       "    .dataframe tbody tr th {\n",
       "        vertical-align: top;\n",
       "    }\n",
       "\n",
       "    .dataframe thead th {\n",
       "        text-align: right;\n",
       "    }\n",
       "</style>\n",
       "<table border=\"1\" class=\"dataframe\">\n",
       "  <thead>\n",
       "    <tr style=\"text-align: right;\">\n",
       "      <th></th>\n",
       "      <th>Sex</th>\n",
       "      <th>Length</th>\n",
       "      <th>Diameter</th>\n",
       "      <th>Height</th>\n",
       "      <th>Whole weight</th>\n",
       "      <th>Shucked weight</th>\n",
       "      <th>Viscera weight</th>\n",
       "      <th>Shell weight</th>\n",
       "      <th>Rings</th>\n",
       "    </tr>\n",
       "  </thead>\n",
       "  <tbody>\n",
       "    <tr>\n",
       "      <th>count</th>\n",
       "      <td>4177.000000</td>\n",
       "      <td>4177.000000</td>\n",
       "      <td>4177.000000</td>\n",
       "      <td>4177.000000</td>\n",
       "      <td>4177.000000</td>\n",
       "      <td>4177.000000</td>\n",
       "      <td>4177.000000</td>\n",
       "      <td>4177.000000</td>\n",
       "      <td>4177.000000</td>\n",
       "    </tr>\n",
       "    <tr>\n",
       "      <th>mean</th>\n",
       "      <td>1.044530</td>\n",
       "      <td>0.523992</td>\n",
       "      <td>0.407881</td>\n",
       "      <td>0.139516</td>\n",
       "      <td>0.828742</td>\n",
       "      <td>0.359367</td>\n",
       "      <td>0.180594</td>\n",
       "      <td>0.238831</td>\n",
       "      <td>9.933684</td>\n",
       "    </tr>\n",
       "    <tr>\n",
       "      <th>std</th>\n",
       "      <td>0.827815</td>\n",
       "      <td>0.120093</td>\n",
       "      <td>0.099240</td>\n",
       "      <td>0.041827</td>\n",
       "      <td>0.490389</td>\n",
       "      <td>0.221963</td>\n",
       "      <td>0.109614</td>\n",
       "      <td>0.139203</td>\n",
       "      <td>3.224169</td>\n",
       "    </tr>\n",
       "    <tr>\n",
       "      <th>min</th>\n",
       "      <td>0.000000</td>\n",
       "      <td>0.075000</td>\n",
       "      <td>0.055000</td>\n",
       "      <td>0.000000</td>\n",
       "      <td>0.002000</td>\n",
       "      <td>0.001000</td>\n",
       "      <td>0.000500</td>\n",
       "      <td>0.001500</td>\n",
       "      <td>1.000000</td>\n",
       "    </tr>\n",
       "    <tr>\n",
       "      <th>25%</th>\n",
       "      <td>0.000000</td>\n",
       "      <td>0.450000</td>\n",
       "      <td>0.350000</td>\n",
       "      <td>0.115000</td>\n",
       "      <td>0.441500</td>\n",
       "      <td>0.186000</td>\n",
       "      <td>0.093500</td>\n",
       "      <td>0.130000</td>\n",
       "      <td>8.000000</td>\n",
       "    </tr>\n",
       "    <tr>\n",
       "      <th>50%</th>\n",
       "      <td>1.000000</td>\n",
       "      <td>0.545000</td>\n",
       "      <td>0.425000</td>\n",
       "      <td>0.140000</td>\n",
       "      <td>0.799500</td>\n",
       "      <td>0.336000</td>\n",
       "      <td>0.171000</td>\n",
       "      <td>0.234000</td>\n",
       "      <td>9.000000</td>\n",
       "    </tr>\n",
       "    <tr>\n",
       "      <th>75%</th>\n",
       "      <td>2.000000</td>\n",
       "      <td>0.615000</td>\n",
       "      <td>0.480000</td>\n",
       "      <td>0.165000</td>\n",
       "      <td>1.153000</td>\n",
       "      <td>0.502000</td>\n",
       "      <td>0.253000</td>\n",
       "      <td>0.329000</td>\n",
       "      <td>11.000000</td>\n",
       "    </tr>\n",
       "    <tr>\n",
       "      <th>max</th>\n",
       "      <td>2.000000</td>\n",
       "      <td>0.815000</td>\n",
       "      <td>0.650000</td>\n",
       "      <td>1.130000</td>\n",
       "      <td>2.825500</td>\n",
       "      <td>1.488000</td>\n",
       "      <td>0.760000</td>\n",
       "      <td>1.005000</td>\n",
       "      <td>29.000000</td>\n",
       "    </tr>\n",
       "  </tbody>\n",
       "</table>\n",
       "</div>"
      ],
      "text/plain": [
       "               Sex       Length     Diameter       Height  Whole weight  \\\n",
       "count  4177.000000  4177.000000  4177.000000  4177.000000   4177.000000   \n",
       "mean      1.044530     0.523992     0.407881     0.139516      0.828742   \n",
       "std       0.827815     0.120093     0.099240     0.041827      0.490389   \n",
       "min       0.000000     0.075000     0.055000     0.000000      0.002000   \n",
       "25%       0.000000     0.450000     0.350000     0.115000      0.441500   \n",
       "50%       1.000000     0.545000     0.425000     0.140000      0.799500   \n",
       "75%       2.000000     0.615000     0.480000     0.165000      1.153000   \n",
       "max       2.000000     0.815000     0.650000     1.130000      2.825500   \n",
       "\n",
       "       Shucked weight  Viscera weight  Shell weight        Rings  \n",
       "count     4177.000000     4177.000000   4177.000000  4177.000000  \n",
       "mean         0.359367        0.180594      0.238831     9.933684  \n",
       "std          0.221963        0.109614      0.139203     3.224169  \n",
       "min          0.001000        0.000500      0.001500     1.000000  \n",
       "25%          0.186000        0.093500      0.130000     8.000000  \n",
       "50%          0.336000        0.171000      0.234000     9.000000  \n",
       "75%          0.502000        0.253000      0.329000    11.000000  \n",
       "max          1.488000        0.760000      1.005000    29.000000  "
      ]
     },
     "execution_count": 129,
     "metadata": {},
     "output_type": "execute_result"
    }
   ],
   "source": [
    "data.describe()"
   ]
  },
  {
   "cell_type": "code",
   "execution_count": 130,
   "id": "ba382af6",
   "metadata": {},
   "outputs": [
    {
     "data": {
      "text/plain": [
       "<AxesSubplot:>"
      ]
     },
     "execution_count": 130,
     "metadata": {},
     "output_type": "execute_result"
    },
    {
     "data": {
      "image/png": "[encoded data removed]",
      "text/plain": [
       "<Figure size 720x576 with 2 Axes>"
      ]
     },
     "metadata": {
      "needs_background": "light"
     },
     "output_type": "display_data"
    }
   ],
   "source": [
    "#Plotting the describe of the columns on heatmap.\n",
    "plt.figure(figsize=[10,8])\n",
    "sns.heatmap(data.describe()[1:],annot=True,fmt='0.2f')"
   ]
  },
  {
   "cell_type": "markdown",
   "id": "083c9b67",
   "metadata": {},
   "source": [
    "There are 4177 data in each columns in the dataset. The describe data of the target column is different from the feature columns."
   ]
  },
  {
   "cell_type": "markdown",
   "id": "0b76f1bd",
   "metadata": {},
   "source": [
    "### Correlation"
   ]
  },
  {
   "cell_type": "code",
   "execution_count": 131,
   "id": "c5c7f268",
   "metadata": {},
   "outputs": [
    {
     "data": {
      "text/html": [
       "<div>\n",
       "<style scoped>\n",
       "    .dataframe tbody tr th:only-of-type {\n",
       "        vertical-align: middle;\n",
       "    }\n",
       "\n",
       "    .dataframe tbody tr th {\n",
       "        vertical-align: top;\n",
       "    }\n",
       "\n",
       "    .dataframe thead th {\n",
       "        text-align: right;\n",
       "    }\n",
       "</style>\n",
       "<table border=\"1\" class=\"dataframe\">\n",
       "  <thead>\n",
       "    <tr style=\"text-align: right;\">\n",
       "      <th></th>\n",
       "      <th>Sex</th>\n",
       "      <th>Length</th>\n",
       "      <th>Diameter</th>\n",
       "      <th>Height</th>\n",
       "      <th>Whole weight</th>\n",
       "      <th>Shucked weight</th>\n",
       "      <th>Viscera weight</th>\n",
       "      <th>Shell weight</th>\n",
       "      <th>Rings</th>\n",
       "    </tr>\n",
       "  </thead>\n",
       "  <tbody>\n",
       "    <tr>\n",
       "      <th>Sex</th>\n",
       "      <td>1.000000</td>\n",
       "      <td>0.448765</td>\n",
       "      <td>0.458245</td>\n",
       "      <td>0.417928</td>\n",
       "      <td>0.461238</td>\n",
       "      <td>0.440927</td>\n",
       "      <td>0.454658</td>\n",
       "      <td>0.445549</td>\n",
       "      <td>0.351822</td>\n",
       "    </tr>\n",
       "    <tr>\n",
       "      <th>Length</th>\n",
       "      <td>0.448765</td>\n",
       "      <td>1.000000</td>\n",
       "      <td>0.986812</td>\n",
       "      <td>0.827554</td>\n",
       "      <td>0.925261</td>\n",
       "      <td>0.897914</td>\n",
       "      <td>0.903018</td>\n",
       "      <td>0.897706</td>\n",
       "      <td>0.556720</td>\n",
       "    </tr>\n",
       "    <tr>\n",
       "      <th>Diameter</th>\n",
       "      <td>0.458245</td>\n",
       "      <td>0.986812</td>\n",
       "      <td>1.000000</td>\n",
       "      <td>0.833684</td>\n",
       "      <td>0.925452</td>\n",
       "      <td>0.893162</td>\n",
       "      <td>0.899724</td>\n",
       "      <td>0.905330</td>\n",
       "      <td>0.574660</td>\n",
       "    </tr>\n",
       "    <tr>\n",
       "      <th>Height</th>\n",
       "      <td>0.417928</td>\n",
       "      <td>0.827554</td>\n",
       "      <td>0.833684</td>\n",
       "      <td>1.000000</td>\n",
       "      <td>0.819221</td>\n",
       "      <td>0.774972</td>\n",
       "      <td>0.798319</td>\n",
       "      <td>0.817338</td>\n",
       "      <td>0.557467</td>\n",
       "    </tr>\n",
       "    <tr>\n",
       "      <th>Whole weight</th>\n",
       "      <td>0.461238</td>\n",
       "      <td>0.925261</td>\n",
       "      <td>0.925452</td>\n",
       "      <td>0.819221</td>\n",
       "      <td>1.000000</td>\n",
       "      <td>0.969405</td>\n",
       "      <td>0.966375</td>\n",
       "      <td>0.955355</td>\n",
       "      <td>0.540390</td>\n",
       "    </tr>\n",
       "    <tr>\n",
       "      <th>Shucked weight</th>\n",
       "      <td>0.440927</td>\n",
       "      <td>0.897914</td>\n",
       "      <td>0.893162</td>\n",
       "      <td>0.774972</td>\n",
       "      <td>0.969405</td>\n",
       "      <td>1.000000</td>\n",
       "      <td>0.931961</td>\n",
       "      <td>0.882617</td>\n",
       "      <td>0.420884</td>\n",
       "    </tr>\n",
       "    <tr>\n",
       "      <th>Viscera weight</th>\n",
       "      <td>0.454658</td>\n",
       "      <td>0.903018</td>\n",
       "      <td>0.899724</td>\n",
       "      <td>0.798319</td>\n",
       "      <td>0.966375</td>\n",
       "      <td>0.931961</td>\n",
       "      <td>1.000000</td>\n",
       "      <td>0.907656</td>\n",
       "      <td>0.503819</td>\n",
       "    </tr>\n",
       "    <tr>\n",
       "      <th>Shell weight</th>\n",
       "      <td>0.445549</td>\n",
       "      <td>0.897706</td>\n",
       "      <td>0.905330</td>\n",
       "      <td>0.817338</td>\n",
       "      <td>0.955355</td>\n",
       "      <td>0.882617</td>\n",
       "      <td>0.907656</td>\n",
       "      <td>1.000000</td>\n",
       "      <td>0.627574</td>\n",
       "    </tr>\n",
       "    <tr>\n",
       "      <th>Rings</th>\n",
       "      <td>0.351822</td>\n",
       "      <td>0.556720</td>\n",
       "      <td>0.574660</td>\n",
       "      <td>0.557467</td>\n",
       "      <td>0.540390</td>\n",
       "      <td>0.420884</td>\n",
       "      <td>0.503819</td>\n",
       "      <td>0.627574</td>\n",
       "      <td>1.000000</td>\n",
       "    </tr>\n",
       "  </tbody>\n",
       "</table>\n",
       "</div>"
      ],
      "text/plain": [
       "                     Sex    Length  Diameter    Height  Whole weight  \\\n",
       "Sex             1.000000  0.448765  0.458245  0.417928      0.461238   \n",
       "Length          0.448765  1.000000  0.986812  0.827554      0.925261   \n",
       "Diameter        0.458245  0.986812  1.000000  0.833684      0.925452   \n",
       "Height          0.417928  0.827554  0.833684  1.000000      0.819221   \n",
       "Whole weight    0.461238  0.925261  0.925452  0.819221      1.000000   \n",
       "Shucked weight  0.440927  0.897914  0.893162  0.774972      0.969405   \n",
       "Viscera weight  0.454658  0.903018  0.899724  0.798319      0.966375   \n",
       "Shell weight    0.445549  0.897706  0.905330  0.817338      0.955355   \n",
       "Rings           0.351822  0.556720  0.574660  0.557467      0.540390   \n",
       "\n",
       "                Shucked weight  Viscera weight  Shell weight     Rings  \n",
       "Sex                   0.440927        0.454658      0.445549  0.351822  \n",
       "Length                0.897914        0.903018      0.897706  0.556720  \n",
       "Diameter              0.893162        0.899724      0.905330  0.574660  \n",
       "Height                0.774972        0.798319      0.817338  0.557467  \n",
       "Whole weight          0.969405        0.966375      0.955355  0.540390  \n",
       "Shucked weight        1.000000        0.931961      0.882617  0.420884  \n",
       "Viscera weight        0.931961        1.000000      0.907656  0.503819  \n",
       "Shell weight          0.882617        0.907656      1.000000  0.627574  \n",
       "Rings                 0.420884        0.503819      0.627574  1.000000  "
      ]
     },
     "execution_count": 131,
     "metadata": {},
     "output_type": "execute_result"
    }
   ],
   "source": [
    "Correlation = data.corr()\n",
    "Correlation"
   ]
  },
  {
   "cell_type": "code",
   "execution_count": 132,
   "id": "77a2c817",
   "metadata": {},
   "outputs": [
    {
     "data": {
      "text/plain": [
       "<AxesSubplot:>"
      ]
     },
     "execution_count": 132,
     "metadata": {},
     "output_type": "execute_result"
    },
    {
     "data": {
      "image/png": "[encoded data removed]",
      "text/plain": [
       "<Figure size 720x576 with 2 Axes>"
      ]
     },
     "metadata": {
      "needs_background": "light"
     },
     "output_type": "display_data"
    }
   ],
   "source": [
    "#Plotting the correlation of columns\n",
    "plt.figure(figsize=[10,8])\n",
    "sns.heatmap(Correlation,annot = True, fmt = '0.2f',cmap='PuBu')"
   ]
  },
  {
   "cell_type": "markdown",
   "id": "fbe00a73",
   "metadata": {},
   "source": [
    "All the columns except the column ['Sex','Rings'] are having strong correlation bond to each other."
   ]
  },
  {
   "cell_type": "markdown",
   "id": "8def4b86",
   "metadata": {},
   "source": [
    "### Correlation with Target Column(Rings)"
   ]
  },
  {
   "cell_type": "code",
   "execution_count": 133,
   "id": "a81e4d11",
   "metadata": {},
   "outputs": [
    {
     "data": {
      "image/png": "[encoded data removed]",
      "text/plain": [
       "<Figure size 432x432 with 1 Axes>"
      ]
     },
     "metadata": {
      "needs_background": "light"
     },
     "output_type": "display_data"
    }
   ],
   "source": [
    "plt.figure(figsize = [6,6])\n",
    "Correlation['Rings'].sort_values(ascending= False).drop('Rings').plot(kind = 'bar', color ='g')\n",
    "plt.xlabel('Column Names', fontsize = 12)\n",
    "plt.ylabel('Correlation', fontsize = 12)\n",
    "plt.title('Correlation with Target Column')\n",
    "plt.show()"
   ]
  },
  {
   "cell_type": "markdown",
   "id": "dfb3942f",
   "metadata": {},
   "source": [
    "From the above observations, all the columns are positively correlated with the Target variable. The column with highest correlation with the target variable is 'Shell weight'. The column with lowest correlation with the target variable is 'Sex'."
   ]
  },
  {
   "cell_type": "markdown",
   "id": "bb50783b",
   "metadata": {},
   "source": [
    "### Distribution of data in columns"
   ]
  },
  {
   "cell_type": "code",
   "execution_count": 134,
   "id": "5b15d43d",
   "metadata": {},
   "outputs": [
    {
     "data": {
      "image/png": "[encoded data removed]",
      "text/plain": [
       "<Figure size 1008x432 with 9 Axes>"
      ]
     },
     "metadata": {
      "needs_background": "light"
     },
     "output_type": "display_data"
    }
   ],
   "source": [
    "plt.figure(figsize = [14,6])\n",
    "for i in range(0,len(data.columns.values)):\n",
    "    plt.subplot(2,5,i+1)\n",
    "    sns.distplot(data[data.columns.values[i]])\n",
    "    plt.tight_layout()"
   ]
  },
  {
   "cell_type": "markdown",
   "id": "a5bfb17d",
   "metadata": {},
   "source": [
    "From the above observations, the distribution of data of columns are not normalized. Skewness is present in most of the columns."
   ]
  },
  {
   "cell_type": "markdown",
   "id": "393831af",
   "metadata": {},
   "source": [
    "### Skewness"
   ]
  },
  {
   "cell_type": "code",
   "execution_count": 135,
   "id": "03288ad8",
   "metadata": {},
   "outputs": [
    {
     "data": {
      "text/plain": [
       "Height            3.128817\n",
       "Shucked weight    0.719098\n",
       "Shell weight      0.620927\n",
       "Viscera weight    0.591852\n",
       "Whole weight      0.530959\n",
       "Diameter         -0.609198\n",
       "Length           -0.639873\n",
       "dtype: float64"
      ]
     },
     "execution_count": 135,
     "metadata": {},
     "output_type": "execute_result"
    }
   ],
   "source": [
    "Skewness = data.drop(['Sex','Rings'],axis=1).skew()\n",
    "Skewness.sort_values(ascending=False)"
   ]
  },
  {
   "cell_type": "markdown",
   "id": "129d2fd3",
   "metadata": {},
   "source": [
    "The column height is having high skewness."
   ]
  },
  {
   "cell_type": "markdown",
   "id": "1abd1287",
   "metadata": {},
   "source": [
    "### Checking Outliers"
   ]
  },
  {
   "cell_type": "code",
   "execution_count": 137,
   "id": "aa397855",
   "metadata": {},
   "outputs": [
    {
     "data": {
      "text/plain": [
       "Sex                 int32\n",
       "Length            float64\n",
       "Diameter          float64\n",
       "Height            float64\n",
       "Whole weight      float64\n",
       "Shucked weight    float64\n",
       "Viscera weight    float64\n",
       "Shell weight      float64\n",
       "Rings               int64\n",
       "dtype: object"
      ]
     },
     "execution_count": 137,
     "metadata": {},
     "output_type": "execute_result"
    }
   ],
   "source": [
    "data.dtypes"
   ]
  },
  {
   "cell_type": "code",
   "execution_count": 140,
   "id": "d0bbeb39",
   "metadata": {},
   "outputs": [
    {
     "data": {
      "image/png": "[encoded data removed]",
      "text/plain": [
       "<Figure size 576x576 with 9 Axes>"
      ]
     },
     "metadata": {
      "needs_background": "light"
     },
     "output_type": "display_data"
    }
   ],
   "source": [
    "#Plotting each columns in boxplot to identify the outliers.\n",
    "plt.figure(figsize = [8,8])\n",
    "for i in range(0,len(data.columns.values)):\n",
    "    plt.subplot(2,6,i+1)\n",
    "    sns.boxplot(y = data[data.columns.values[i]])\n",
    "    plt.tight_layout()"
   ]
  },
  {
   "cell_type": "markdown",
   "id": "1055f968",
   "metadata": {},
   "source": [
    "From the above observations, outliers are present in all columns except the column 'Sex'(nominal). Extreme outliers are present in column 'Height'."
   ]
  },
  {
   "cell_type": "markdown",
   "id": "382cd1c9",
   "metadata": {},
   "source": [
    "### Splitting the data before removing skewness"
   ]
  },
  {
   "cell_type": "code",
   "execution_count": 258,
   "id": "1ca98621",
   "metadata": {},
   "outputs": [],
   "source": [
    "x = data.drop(['Rings'],axis=1)\n",
    "y = data['Rings']"
   ]
  },
  {
   "cell_type": "code",
   "execution_count": 259,
   "id": "45cbc2ee",
   "metadata": {},
   "outputs": [
    {
     "name": "stdout",
     "output_type": "stream",
     "text": [
      "(4177, 8)\n",
      "(4177,)\n"
     ]
    }
   ],
   "source": [
    "print(x.shape)\n",
    "print(y.shape)"
   ]
  },
  {
   "cell_type": "code",
   "execution_count": 260,
   "id": "81f68a7a",
   "metadata": {},
   "outputs": [
    {
     "data": {
      "text/plain": [
       "Height            3.128817\n",
       "Shucked weight    0.719098\n",
       "Shell weight      0.620927\n",
       "Viscera weight    0.591852\n",
       "Whole weight      0.530959\n",
       "Diameter         -0.609198\n",
       "Length           -0.639873\n",
       "dtype: float64"
      ]
     },
     "execution_count": 260,
     "metadata": {},
     "output_type": "execute_result"
    }
   ],
   "source": [
    "x.skew().sort_values(ascending=False)[np.abs(x.skew())>0.5]"
   ]
  },
  {
   "cell_type": "markdown",
   "id": "92f786d7",
   "metadata": {},
   "source": [
    "Skewness is present in most of the columns if we set the standard range as +/-0.5."
   ]
  },
  {
   "cell_type": "markdown",
   "id": "063fd584",
   "metadata": {},
   "source": [
    "Removing Skewness"
   ]
  },
  {
   "cell_type": "code",
   "execution_count": 261,
   "id": "fe6f1bf8",
   "metadata": {},
   "outputs": [],
   "source": [
    "from sklearn.preprocessing import power_transform\n",
    "#user defined function for removing skewness for columns which are beyond standard range\n",
    "def rskew(col):\n",
    "    x[col]=power_transform((x[col].values.reshape(-1,1)))"
   ]
  },
  {
   "cell_type": "code",
   "execution_count": 262,
   "id": "d0ff96ac",
   "metadata": {},
   "outputs": [],
   "source": [
    "rskew('Height')\n",
    "rskew('Shucked weight')\n",
    "rskew('Shell weight')\n",
    "rskew('Viscera weight')\n",
    "rskew('Whole weight')\n",
    "rskew('Diameter')\n",
    "rskew('Length')"
   ]
  },
  {
   "cell_type": "code",
   "execution_count": 263,
   "id": "72dcb4ee",
   "metadata": {
    "scrolled": true
   },
   "outputs": [
    {
     "data": {
      "text/plain": [
       "Sex              -0.083056\n",
       "Length           -0.066669\n",
       "Diameter         -0.065977\n",
       "Height           -0.115483\n",
       "Whole weight     -0.003980\n",
       "Shucked weight    0.027351\n",
       "Viscera weight    0.039780\n",
       "Shell weight      0.023390\n",
       "dtype: float64"
      ]
     },
     "execution_count": 263,
     "metadata": {},
     "output_type": "execute_result"
    }
   ],
   "source": [
    "x.skew()"
   ]
  },
  {
   "cell_type": "markdown",
   "id": "860f352c",
   "metadata": {},
   "source": [
    "Now we have removed the skewness of the data."
   ]
  },
  {
   "cell_type": "markdown",
   "id": "b79cfd36",
   "metadata": {},
   "source": [
    "### Removing Outliers"
   ]
  },
  {
   "cell_type": "code",
   "execution_count": 264,
   "id": "3b64e682",
   "metadata": {},
   "outputs": [
    {
     "data": {
      "text/plain": [
       "array([[1.15434629, 0.68550213, 0.54986033, ..., 0.69328289, 0.587809  ,\n",
       "        1.57154357],\n",
       "       [1.15434629, 1.39634403, 1.38733299, ..., 1.33295268, 1.33241968,\n",
       "        0.91001299],\n",
       "       [0.05379815, 0.07077438, 0.00853714, ..., 0.25513514, 0.09826193,\n",
       "        0.28962385],\n",
       "       ...,\n",
       "       [1.15434629, 0.59336612, 0.64519089, ..., 1.01560749, 0.59839786,\n",
       "        0.28962385],\n",
       "       [0.05379815, 0.85337516, 0.76992788, ..., 0.81518436, 0.51914542,\n",
       "        0.02057072],\n",
       "       [1.15434629, 1.83447784, 1.72628889, ..., 1.61134422, 1.65848824,\n",
       "        0.64095986]])"
      ]
     },
     "execution_count": 264,
     "metadata": {},
     "output_type": "execute_result"
    }
   ],
   "source": [
    "from scipy.stats import zscore\n",
    "df = x.copy()\n",
    "df['Rings'] = y.copy()\n",
    "z = np.abs(zscore(df))\n",
    "z"
   ]
  },
  {
   "cell_type": "code",
   "execution_count": 265,
   "id": "d02fa741",
   "metadata": {},
   "outputs": [
    {
     "data": {
      "text/html": [
       "<div>\n",
       "<style scoped>\n",
       "    .dataframe tbody tr th:only-of-type {\n",
       "        vertical-align: middle;\n",
       "    }\n",
       "\n",
       "    .dataframe tbody tr th {\n",
       "        vertical-align: top;\n",
       "    }\n",
       "\n",
       "    .dataframe thead th {\n",
       "        text-align: right;\n",
       "    }\n",
       "</style>\n",
       "<table border=\"1\" class=\"dataframe\">\n",
       "  <thead>\n",
       "    <tr style=\"text-align: right;\">\n",
       "      <th></th>\n",
       "      <th>Sex</th>\n",
       "      <th>Length</th>\n",
       "      <th>Diameter</th>\n",
       "      <th>Height</th>\n",
       "      <th>Whole weight</th>\n",
       "      <th>Shucked weight</th>\n",
       "      <th>Viscera weight</th>\n",
       "      <th>Shell weight</th>\n",
       "      <th>Rings</th>\n",
       "    </tr>\n",
       "  </thead>\n",
       "  <tbody>\n",
       "    <tr>\n",
       "      <th>0</th>\n",
       "      <td>2</td>\n",
       "      <td>-0.685502</td>\n",
       "      <td>-0.549860</td>\n",
       "      <td>-1.124512</td>\n",
       "      <td>-0.576766</td>\n",
       "      <td>-0.540989</td>\n",
       "      <td>-0.693283</td>\n",
       "      <td>-0.587809</td>\n",
       "      <td>15</td>\n",
       "    </tr>\n",
       "    <tr>\n",
       "      <th>1</th>\n",
       "      <td>2</td>\n",
       "      <td>-1.396344</td>\n",
       "      <td>-1.387333</td>\n",
       "      <td>-1.264396</td>\n",
       "      <td>-1.351761</td>\n",
       "      <td>-1.311662</td>\n",
       "      <td>-1.332953</td>\n",
       "      <td>-1.332420</td>\n",
       "      <td>7</td>\n",
       "    </tr>\n",
       "    <tr>\n",
       "      <th>2</th>\n",
       "      <td>1</td>\n",
       "      <td>-0.070774</td>\n",
       "      <td>0.008537</td>\n",
       "      <td>-0.064823</td>\n",
       "      <td>-0.198099</td>\n",
       "      <td>-0.366116</td>\n",
       "      <td>-0.255135</td>\n",
       "      <td>-0.098262</td>\n",
       "      <td>9</td>\n",
       "    </tr>\n",
       "    <tr>\n",
       "      <th>3</th>\n",
       "      <td>2</td>\n",
       "      <td>-0.797286</td>\n",
       "      <td>-0.549860</td>\n",
       "      <td>-0.320227</td>\n",
       "      <td>-0.571893</td>\n",
       "      <td>-0.591672</td>\n",
       "      <td>-0.547782</td>\n",
       "      <td>-0.544931</td>\n",
       "      <td>10</td>\n",
       "    </tr>\n",
       "    <tr>\n",
       "      <th>4</th>\n",
       "      <td>0</td>\n",
       "      <td>-1.513796</td>\n",
       "      <td>-1.459659</td>\n",
       "      <td>-1.549424</td>\n",
       "      <td>-1.413146</td>\n",
       "      <td>-1.380201</td>\n",
       "      <td>-1.451759</td>\n",
       "      <td>-1.485528</td>\n",
       "      <td>7</td>\n",
       "    </tr>\n",
       "    <tr>\n",
       "      <th>...</th>\n",
       "      <td>...</td>\n",
       "      <td>...</td>\n",
       "      <td>...</td>\n",
       "      <td>...</td>\n",
       "      <td>...</td>\n",
       "      <td>...</td>\n",
       "      <td>...</td>\n",
       "      <td>...</td>\n",
       "      <td>...</td>\n",
       "    </tr>\n",
       "    <tr>\n",
       "      <th>4172</th>\n",
       "      <td>1</td>\n",
       "      <td>0.249836</td>\n",
       "      <td>0.345636</td>\n",
       "      <td>0.666117</td>\n",
       "      <td>0.241948</td>\n",
       "      <td>0.194158</td>\n",
       "      <td>0.639623</td>\n",
       "      <td>0.193008</td>\n",
       "      <td>11</td>\n",
       "    </tr>\n",
       "    <tr>\n",
       "      <th>4173</th>\n",
       "      <td>2</td>\n",
       "      <td>0.492813</td>\n",
       "      <td>0.230611</td>\n",
       "      <td>-0.064823</td>\n",
       "      <td>0.395706</td>\n",
       "      <td>0.495450</td>\n",
       "      <td>0.433568</td>\n",
       "      <td>0.275215</td>\n",
       "      <td>10</td>\n",
       "    </tr>\n",
       "    <tr>\n",
       "      <th>4174</th>\n",
       "      <td>2</td>\n",
       "      <td>0.593366</td>\n",
       "      <td>0.645191</td>\n",
       "      <td>1.565082</td>\n",
       "      <td>0.777944</td>\n",
       "      <td>0.838137</td>\n",
       "      <td>1.015607</td>\n",
       "      <td>0.598398</td>\n",
       "      <td>9</td>\n",
       "    </tr>\n",
       "    <tr>\n",
       "      <th>4175</th>\n",
       "      <td>1</td>\n",
       "      <td>0.853375</td>\n",
       "      <td>0.769928</td>\n",
       "      <td>0.307083</td>\n",
       "      <td>0.633874</td>\n",
       "      <td>0.858739</td>\n",
       "      <td>0.815184</td>\n",
       "      <td>0.519145</td>\n",
       "      <td>10</td>\n",
       "    </tr>\n",
       "    <tr>\n",
       "      <th>4176</th>\n",
       "      <td>2</td>\n",
       "      <td>1.834478</td>\n",
       "      <td>1.726289</td>\n",
       "      <td>1.347943</td>\n",
       "      <td>1.937323</td>\n",
       "      <td>2.103648</td>\n",
       "      <td>1.611344</td>\n",
       "      <td>1.658488</td>\n",
       "      <td>12</td>\n",
       "    </tr>\n",
       "  </tbody>\n",
       "</table>\n",
       "<p>4089 rows × 9 columns</p>\n",
       "</div>"
      ],
      "text/plain": [
       "      Sex    Length  Diameter    Height  Whole weight  Shucked weight  \\\n",
       "0       2 -0.685502 -0.549860 -1.124512     -0.576766       -0.540989   \n",
       "1       2 -1.396344 -1.387333 -1.264396     -1.351761       -1.311662   \n",
       "2       1 -0.070774  0.008537 -0.064823     -0.198099       -0.366116   \n",
       "3       2 -0.797286 -0.549860 -0.320227     -0.571893       -0.591672   \n",
       "4       0 -1.513796 -1.459659 -1.549424     -1.413146       -1.380201   \n",
       "...   ...       ...       ...       ...           ...             ...   \n",
       "4172    1  0.249836  0.345636  0.666117      0.241948        0.194158   \n",
       "4173    2  0.492813  0.230611 -0.064823      0.395706        0.495450   \n",
       "4174    2  0.593366  0.645191  1.565082      0.777944        0.838137   \n",
       "4175    1  0.853375  0.769928  0.307083      0.633874        0.858739   \n",
       "4176    2  1.834478  1.726289  1.347943      1.937323        2.103648   \n",
       "\n",
       "      Viscera weight  Shell weight  Rings  \n",
       "0          -0.693283     -0.587809     15  \n",
       "1          -1.332953     -1.332420      7  \n",
       "2          -0.255135     -0.098262      9  \n",
       "3          -0.547782     -0.544931     10  \n",
       "4          -1.451759     -1.485528      7  \n",
       "...              ...           ...    ...  \n",
       "4172        0.639623      0.193008     11  \n",
       "4173        0.433568      0.275215     10  \n",
       "4174        1.015607      0.598398      9  \n",
       "4175        0.815184      0.519145     10  \n",
       "4176        1.611344      1.658488     12  \n",
       "\n",
       "[4089 rows x 9 columns]"
      ]
     },
     "execution_count": 265,
     "metadata": {},
     "output_type": "execute_result"
    }
   ],
   "source": [
    "threshold = 3\n",
    "df_new = df[(z<3).all(axis=1)]\n",
    "df_new"
   ]
  },
  {
   "cell_type": "code",
   "execution_count": 266,
   "id": "128fe220",
   "metadata": {},
   "outputs": [
    {
     "data": {
      "text/plain": [
       "(4177, 9)"
      ]
     },
     "execution_count": 266,
     "metadata": {},
     "output_type": "execute_result"
    }
   ],
   "source": [
    "df.shape"
   ]
  },
  {
   "cell_type": "code",
   "execution_count": 267,
   "id": "4b029032",
   "metadata": {},
   "outputs": [
    {
     "data": {
      "text/plain": [
       "(4089, 9)"
      ]
     },
     "execution_count": 267,
     "metadata": {},
     "output_type": "execute_result"
    }
   ],
   "source": [
    "df_new.shape"
   ]
  },
  {
   "cell_type": "code",
   "execution_count": 268,
   "id": "d59c5f6d",
   "metadata": {},
   "outputs": [
    {
     "data": {
      "text/plain": [
       "2.1067751975101747"
      ]
     },
     "execution_count": 268,
     "metadata": {},
     "output_type": "execute_result"
    }
   ],
   "source": [
    "data_loss = (df.shape[0]-df_new.shape[0])/df.shape[0]*100\n",
    "data_loss"
   ]
  },
  {
   "cell_type": "markdown",
   "id": "c870d1dc",
   "metadata": {},
   "source": [
    "We are losing only 2.1% of the total data after removing outliers"
   ]
  },
  {
   "cell_type": "markdown",
   "id": "d1e862ff",
   "metadata": {},
   "source": [
    "### Checking the Multicolinearity of variables in the dataframe"
   ]
  },
  {
   "cell_type": "code",
   "execution_count": 269,
   "id": "be021a80",
   "metadata": {
    "scrolled": true
   },
   "outputs": [
    {
     "name": "stdout",
     "output_type": "stream",
     "text": [
      "(4089, 8)\n",
      "(4089,)\n"
     ]
    }
   ],
   "source": [
    "x = df_new.drop('Rings',axis = 1)\n",
    "y = df_new['Rings']\n",
    "\n",
    "print(x.shape)\n",
    "print(y.shape)"
   ]
  },
  {
   "cell_type": "code",
   "execution_count": 270,
   "id": "138a2ca4",
   "metadata": {},
   "outputs": [],
   "source": [
    "from statsmodels.stats.outliers_influence import variance_inflation_factor\n",
    "\n",
    "def calc_vif(x):\n",
    "    vif = pd.DataFrame()\n",
    "    vif['Column Name'] = x.columns\n",
    "    vif['VIF Factor'] = [variance_inflation_factor(x.values,i) for i in range(x.shape[1])]\n",
    "    return(vif)"
   ]
  },
  {
   "cell_type": "code",
   "execution_count": 271,
   "id": "5c7473ce",
   "metadata": {},
   "outputs": [
    {
     "data": {
      "text/html": [
       "<div>\n",
       "<style scoped>\n",
       "    .dataframe tbody tr th:only-of-type {\n",
       "        vertical-align: middle;\n",
       "    }\n",
       "\n",
       "    .dataframe tbody tr th {\n",
       "        vertical-align: top;\n",
       "    }\n",
       "\n",
       "    .dataframe thead th {\n",
       "        text-align: right;\n",
       "    }\n",
       "</style>\n",
       "<table border=\"1\" class=\"dataframe\">\n",
       "  <thead>\n",
       "    <tr style=\"text-align: right;\">\n",
       "      <th></th>\n",
       "      <th>Column Name</th>\n",
       "      <th>VIF Factor</th>\n",
       "    </tr>\n",
       "  </thead>\n",
       "  <tbody>\n",
       "    <tr>\n",
       "      <th>0</th>\n",
       "      <td>Sex</td>\n",
       "      <td>1.098571</td>\n",
       "    </tr>\n",
       "    <tr>\n",
       "      <th>1</th>\n",
       "      <td>Length</td>\n",
       "      <td>36.543799</td>\n",
       "    </tr>\n",
       "    <tr>\n",
       "      <th>2</th>\n",
       "      <td>Diameter</td>\n",
       "      <td>35.346147</td>\n",
       "    </tr>\n",
       "    <tr>\n",
       "      <th>3</th>\n",
       "      <td>Height</td>\n",
       "      <td>7.043973</td>\n",
       "    </tr>\n",
       "    <tr>\n",
       "      <th>4</th>\n",
       "      <td>Whole weight</td>\n",
       "      <td>145.787511</td>\n",
       "    </tr>\n",
       "    <tr>\n",
       "      <th>5</th>\n",
       "      <td>Shucked weight</td>\n",
       "      <td>38.565306</td>\n",
       "    </tr>\n",
       "    <tr>\n",
       "      <th>6</th>\n",
       "      <td>Viscera weight</td>\n",
       "      <td>23.162297</td>\n",
       "    </tr>\n",
       "    <tr>\n",
       "      <th>7</th>\n",
       "      <td>Shell weight</td>\n",
       "      <td>31.791930</td>\n",
       "    </tr>\n",
       "  </tbody>\n",
       "</table>\n",
       "</div>"
      ],
      "text/plain": [
       "      Column Name  VIF Factor\n",
       "0             Sex    1.098571\n",
       "1          Length   36.543799\n",
       "2        Diameter   35.346147\n",
       "3          Height    7.043973\n",
       "4    Whole weight  145.787511\n",
       "5  Shucked weight   38.565306\n",
       "6  Viscera weight   23.162297\n",
       "7    Shell weight   31.791930"
      ]
     },
     "execution_count": 271,
     "metadata": {},
     "output_type": "execute_result"
    }
   ],
   "source": [
    "calc_vif(x)"
   ]
  },
  {
   "cell_type": "markdown",
   "id": "ce4e38cb",
   "metadata": {},
   "source": [
    "Since the column 'Whole weight' is showing high variance of inflationk, we can drop that column and calculate the vif again. "
   ]
  },
  {
   "cell_type": "code",
   "execution_count": 299,
   "id": "a3109ac6",
   "metadata": {
    "scrolled": true
   },
   "outputs": [
    {
     "data": {
      "text/html": [
       "<div>\n",
       "<style scoped>\n",
       "    .dataframe tbody tr th:only-of-type {\n",
       "        vertical-align: middle;\n",
       "    }\n",
       "\n",
       "    .dataframe tbody tr th {\n",
       "        vertical-align: top;\n",
       "    }\n",
       "\n",
       "    .dataframe thead th {\n",
       "        text-align: right;\n",
       "    }\n",
       "</style>\n",
       "<table border=\"1\" class=\"dataframe\">\n",
       "  <thead>\n",
       "    <tr style=\"text-align: right;\">\n",
       "      <th></th>\n",
       "      <th>Column Name</th>\n",
       "      <th>VIF Factor</th>\n",
       "    </tr>\n",
       "  </thead>\n",
       "  <tbody>\n",
       "    <tr>\n",
       "      <th>0</th>\n",
       "      <td>Sex</td>\n",
       "      <td>1.098262</td>\n",
       "    </tr>\n",
       "    <tr>\n",
       "      <th>1</th>\n",
       "      <td>Length</td>\n",
       "      <td>36.472623</td>\n",
       "    </tr>\n",
       "    <tr>\n",
       "      <th>2</th>\n",
       "      <td>Diameter</td>\n",
       "      <td>35.293526</td>\n",
       "    </tr>\n",
       "    <tr>\n",
       "      <th>3</th>\n",
       "      <td>Height</td>\n",
       "      <td>7.040403</td>\n",
       "    </tr>\n",
       "    <tr>\n",
       "      <th>4</th>\n",
       "      <td>Shucked weight</td>\n",
       "      <td>14.430732</td>\n",
       "    </tr>\n",
       "    <tr>\n",
       "      <th>5</th>\n",
       "      <td>Viscera weight</td>\n",
       "      <td>15.123110</td>\n",
       "    </tr>\n",
       "    <tr>\n",
       "      <th>6</th>\n",
       "      <td>Shell weight</td>\n",
       "      <td>15.822258</td>\n",
       "    </tr>\n",
       "  </tbody>\n",
       "</table>\n",
       "</div>"
      ],
      "text/plain": [
       "      Column Name  VIF Factor\n",
       "0             Sex    1.098262\n",
       "1          Length   36.472623\n",
       "2        Diameter   35.293526\n",
       "3          Height    7.040403\n",
       "4  Shucked weight   14.430732\n",
       "5  Viscera weight   15.123110\n",
       "6    Shell weight   15.822258"
      ]
     },
     "execution_count": 299,
     "metadata": {},
     "output_type": "execute_result"
    }
   ],
   "source": [
    "x1 = x.drop(['Whole weight'],axis = 1)\n",
    "calc_vif(x1)"
   ]
  },
  {
   "cell_type": "markdown",
   "id": "e538d5c7",
   "metadata": {},
   "source": [
    "Now the vif have been reduced and we can proceed with further steps."
   ]
  },
  {
   "cell_type": "markdown",
   "id": "22f38a69",
   "metadata": {},
   "source": [
    "### End of EDA"
   ]
  },
  {
   "cell_type": "markdown",
   "id": "7ba6ecee",
   "metadata": {},
   "source": [
    "### Machine learning modeling"
   ]
  },
  {
   "cell_type": "markdown",
   "id": "e787e573",
   "metadata": {},
   "source": [
    "#### Splitting the data into features and target"
   ]
  },
  {
   "cell_type": "code",
   "execution_count": 300,
   "id": "77f9942b",
   "metadata": {},
   "outputs": [
    {
     "name": "stdout",
     "output_type": "stream",
     "text": [
      "(4089, 7)\n",
      "(4089,)\n"
     ]
    }
   ],
   "source": [
    "features = x1.copy()\n",
    "target = y.copy()\n",
    "print(features.shape)\n",
    "print(target.shape)"
   ]
  },
  {
   "cell_type": "code",
   "execution_count": 463,
   "id": "3d90ae89",
   "metadata": {},
   "outputs": [],
   "source": [
    "from sklearn.linear_model import LinearRegression\n",
    "from sklearn.neighbors import KNeighborsRegressor\n",
    "from sklearn.svm import SVR\n",
    "from sklearn.tree import DecisionTreeRegressor\n",
    "from sklearn.ensemble import RandomForestRegressor\n",
    "from sklearn.ensemble import AdaBoostRegressor\n",
    "from sklearn.ensemble import GradientBoostingRegressor\n",
    "from sklearn.ensemble import VotingRegressor\n",
    "from sklearn.metrics import mean_squared_error,mean_absolute_error, r2_score\n",
    "\n",
    "from sklearn.linear_model import Lasso,Ridge,ElasticNet  #Reguralization technique\n",
    "\n",
    "from sklearn.model_selection import train_test_split\n"
   ]
  },
  {
   "cell_type": "code",
   "execution_count": 365,
   "id": "babce935",
   "metadata": {},
   "outputs": [],
   "source": [
    "lr = LinearRegression()\n",
    "knn = KNeighborsRegressor()\n",
    "svr = SVR()\n",
    "dtr = DecisionTreeRegressor()\n",
    "rfr = RandomForestRegressor(n_estimators=100)\n",
    "abr = AdaBoostRegressor()\n",
    "gbr = GradientBoostingRegressor()\n",
    "estimator = [('LR', LinearRegression()),\n",
    "             ('KNN',KNeighborsRegressor()),\n",
    "             ('SVR', SVR(gamma='auto')),\n",
    "             ('DTR',DecisionTreeRegressor()),\n",
    "             ('RFR',RandomForestRegressor(n_estimators=100))]\n",
    "vtr = VotingRegressor(estimators=estimator)"
   ]
  },
  {
   "cell_type": "markdown",
   "id": "9a361c84",
   "metadata": {},
   "source": [
    "#### Finding the best random_state"
   ]
  },
  {
   "cell_type": "code",
   "execution_count": 430,
   "id": "6abefb1f",
   "metadata": {},
   "outputs": [],
   "source": [
    "#User defined function for finding the best random state\n",
    "def best_ran(model):\n",
    "    maxacc = 0\n",
    "    maxrs = 0\n",
    "    print(model)\n",
    "    for i in range(1,100):\n",
    "        features_train, features_test,target_train,target_test= train_test_split(features,target,test_size = 0.20, random_state = i)\n",
    "        model.fit(features_train,target_train)\n",
    "        pred_test = model.predict(features_test)\n",
    "        acc = r2_score(target_test,pred_test)\n",
    "        if acc>maxacc:\n",
    "            maxacc = acc\n",
    "            maxrs = i\n",
    "    print(\"At random state \", maxrs, 'the model is having r2 score of ', maxacc)"
   ]
  },
  {
   "cell_type": "code",
   "execution_count": 436,
   "id": "81b7414f",
   "metadata": {},
   "outputs": [],
   "source": [
    "#User defined Function for training and testing the model with best random state\n",
    "\n",
    "def mod_test(model, ran):\n",
    "    model\n",
    "    print(model)\n",
    "    features_train, features_test, target_train, target_test = train_test_split(features,target,test_size = 0.20, random_state = ran)\n",
    "    model.fit(features_train,target_train)\n",
    "    pred_test = model.predict(features_test)\n",
    "    acc = r2_score(target_test,pred_test)\n",
    "    mse = mean_squared_error(target_test,pred_test)\n",
    "    mae = mean_absolute_error(target_test,pred_test)\n",
    "    print(\"R2 score is \", acc)\n",
    "    print(\"_\"*50)\n",
    "    print(\"Mean Sqaured Error is \",mse)\n",
    "    print(\"_\"*50)\n",
    "    print(\"Mean Absolute Error is \",mae)\n",
    "    print(\"_\"*50)"
   ]
  },
  {
   "cell_type": "markdown",
   "id": "18c4dfdb",
   "metadata": {},
   "source": [
    "#### LinearRegression"
   ]
  },
  {
   "cell_type": "code",
   "execution_count": 437,
   "id": "8a9e91b0",
   "metadata": {},
   "outputs": [
    {
     "name": "stdout",
     "output_type": "stream",
     "text": [
      "LinearRegression()\n",
      "At random state  83 the model is having r2 score of  0.572685381635617\n"
     ]
    }
   ],
   "source": [
    "best_ran(lr)"
   ]
  },
  {
   "cell_type": "code",
   "execution_count": 438,
   "id": "81cb954d",
   "metadata": {
    "scrolled": true
   },
   "outputs": [
    {
     "name": "stdout",
     "output_type": "stream",
     "text": [
      "LinearRegression()\n",
      "R2 score is  0.572685381635617\n",
      "__________________________________________________\n",
      "Mean Sqaured Error is  3.4358036970607864\n",
      "__________________________________________________\n",
      "Mean Absolute Error is  1.3912816978572267\n",
      "__________________________________________________\n",
      "Coefficent is  [ 0.34918584 -0.34909312  0.36748936  1.02836025 -2.41476476  0.15447924\n",
      "  2.9102077 ]\n",
      "__________________________________________________\n",
      "Intercept is  9.481009448180288\n",
      "__________________________________________________\n"
     ]
    }
   ],
   "source": [
    "mod_test(lr,83)\n",
    "print(\"Coefficent is \",lr.coef_)\n",
    "print(\"_\"*50)\n",
    "print(\"Intercept is \",lr.intercept_)\n",
    "print(\"_\"*50)"
   ]
  },
  {
   "cell_type": "markdown",
   "id": "4f632625",
   "metadata": {},
   "source": [
    "#### KNeighborsRegressor"
   ]
  },
  {
   "cell_type": "code",
   "execution_count": 439,
   "id": "62cd2e2b",
   "metadata": {},
   "outputs": [
    {
     "name": "stdout",
     "output_type": "stream",
     "text": [
      "KNeighborsRegressor()\n",
      "At random state  42 the model is having r2 score of  0.5312306496015506\n"
     ]
    }
   ],
   "source": [
    "best_ran(knn)"
   ]
  },
  {
   "cell_type": "code",
   "execution_count": 440,
   "id": "db026274",
   "metadata": {},
   "outputs": [
    {
     "name": "stdout",
     "output_type": "stream",
     "text": [
      "KNeighborsRegressor()\n",
      "R2 score is  0.5312306496015506\n",
      "__________________________________________________\n",
      "Mean Sqaured Error is  3.871393643031785\n",
      "__________________________________________________\n",
      "Mean Absolute Error is  1.406356968215159\n",
      "__________________________________________________\n"
     ]
    }
   ],
   "source": [
    "mod_test(knn,42)"
   ]
  },
  {
   "cell_type": "markdown",
   "id": "2c84c04e",
   "metadata": {},
   "source": [
    "#### SVR"
   ]
  },
  {
   "cell_type": "code",
   "execution_count": 339,
   "id": "87b50539",
   "metadata": {},
   "outputs": [
    {
     "name": "stdout",
     "output_type": "stream",
     "text": [
      "SVR()\n",
      "At random state  58 the model is having r2 score of  0.5872614904939892\n"
     ]
    }
   ],
   "source": [
    "best_ran(svr)"
   ]
  },
  {
   "cell_type": "code",
   "execution_count": 340,
   "id": "e06826b2",
   "metadata": {},
   "outputs": [
    {
     "name": "stdout",
     "output_type": "stream",
     "text": [
      "SVR()\n",
      "R2 score is  0.5872614904939892\n",
      "__________________________________________________\n",
      "Mean Sqaured Error is  3.375696856901347\n",
      "__________________________________________________\n",
      "Mean Absolute Error is  1.3091431634069048\n",
      "__________________________________________________\n"
     ]
    }
   ],
   "source": [
    "mod_test(svr,58)"
   ]
  },
  {
   "cell_type": "markdown",
   "id": "846f5cd6",
   "metadata": {},
   "source": [
    "#### DecisionTreeRegressor"
   ]
  },
  {
   "cell_type": "code",
   "execution_count": 344,
   "id": "e748a4f5",
   "metadata": {},
   "outputs": [
    {
     "name": "stdout",
     "output_type": "stream",
     "text": [
      "DecisionTreeRegressor()\n",
      "At random state  7 the model is having r2 score of  0.23121091860780207\n"
     ]
    }
   ],
   "source": [
    "best_ran(dtr)"
   ]
  },
  {
   "cell_type": "code",
   "execution_count": 354,
   "id": "13d303a9",
   "metadata": {},
   "outputs": [
    {
     "name": "stdout",
     "output_type": "stream",
     "text": [
      "DecisionTreeRegressor()\n",
      "R2 score is  0.24435387447486046\n",
      "__________________________________________________\n",
      "Mean Sqaured Error is  6.255501222493888\n",
      "__________________________________________________\n",
      "Mean Absolute Error is  1.837408312958435\n",
      "__________________________________________________\n"
     ]
    }
   ],
   "source": [
    "mod_test(dtr,7)"
   ]
  },
  {
   "cell_type": "markdown",
   "id": "6085bb63",
   "metadata": {},
   "source": [
    "#### RandomForestRegressor"
   ]
  },
  {
   "cell_type": "code",
   "execution_count": 357,
   "id": "9c050c68",
   "metadata": {},
   "outputs": [
    {
     "name": "stdout",
     "output_type": "stream",
     "text": [
      "RandomForestRegressor()\n",
      "At random state  15 the model is having r2 score of  0.5824725346432924\n"
     ]
    }
   ],
   "source": [
    "best_ran(rfr)"
   ]
  },
  {
   "cell_type": "code",
   "execution_count": 358,
   "id": "8420d7e3",
   "metadata": {},
   "outputs": [
    {
     "name": "stdout",
     "output_type": "stream",
     "text": [
      "RandomForestRegressor()\n",
      "R2 score is  0.5913276233406937\n",
      "__________________________________________________\n",
      "Mean Sqaured Error is  3.604606601466993\n",
      "__________________________________________________\n",
      "Mean Absolute Error is  1.448337408312958\n",
      "__________________________________________________\n"
     ]
    }
   ],
   "source": [
    "mod_test(rfr,15)"
   ]
  },
  {
   "cell_type": "markdown",
   "id": "b7b024a5",
   "metadata": {},
   "source": [
    "#### AdaBoostRegressor"
   ]
  },
  {
   "cell_type": "code",
   "execution_count": 360,
   "id": "283172d6",
   "metadata": {},
   "outputs": [
    {
     "name": "stdout",
     "output_type": "stream",
     "text": [
      "AdaBoostRegressor()\n",
      "At random state  95 the model is having r2 score of  0.4734836612330958\n"
     ]
    }
   ],
   "source": [
    "best_ran(abr)"
   ]
  },
  {
   "cell_type": "code",
   "execution_count": 361,
   "id": "01489d7e",
   "metadata": {},
   "outputs": [
    {
     "name": "stdout",
     "output_type": "stream",
     "text": [
      "AdaBoostRegressor()\n",
      "R2 score is  0.4189760396901794\n",
      "__________________________________________________\n",
      "Mean Sqaured Error is  5.42877992482616\n",
      "__________________________________________________\n",
      "Mean Absolute Error is  1.9171767025667712\n",
      "__________________________________________________\n"
     ]
    }
   ],
   "source": [
    "mod_test(abr,95)"
   ]
  },
  {
   "cell_type": "markdown",
   "id": "07ae382b",
   "metadata": {},
   "source": [
    "#### GradientBoostingRegressor"
   ]
  },
  {
   "cell_type": "code",
   "execution_count": 362,
   "id": "d1fe58d0",
   "metadata": {},
   "outputs": [
    {
     "name": "stdout",
     "output_type": "stream",
     "text": [
      "GradientBoostingRegressor()\n",
      "At random state  15 the model is having r2 score of  0.5854277955296985\n"
     ]
    }
   ],
   "source": [
    "best_ran(gbr)"
   ]
  },
  {
   "cell_type": "code",
   "execution_count": 363,
   "id": "46c7d9fd",
   "metadata": {},
   "outputs": [
    {
     "name": "stdout",
     "output_type": "stream",
     "text": [
      "GradientBoostingRegressor()\n",
      "R2 score is  0.5850694144758444\n",
      "__________________________________________________\n",
      "Mean Sqaured Error is  3.6598057836872324\n",
      "__________________________________________________\n",
      "Mean Absolute Error is  1.4504491852987675\n",
      "__________________________________________________\n"
     ]
    }
   ],
   "source": [
    "mod_test(gbr,15)"
   ]
  },
  {
   "cell_type": "markdown",
   "id": "74ca7f1a",
   "metadata": {},
   "source": [
    "#### VotingRegressor"
   ]
  },
  {
   "cell_type": "code",
   "execution_count": 369,
   "id": "408045d0",
   "metadata": {},
   "outputs": [
    {
     "name": "stdout",
     "output_type": "stream",
     "text": [
      "VotingRegressor(estimators=[('LR', LinearRegression()),\n",
      "                            ('KNN', KNeighborsRegressor()),\n",
      "                            ('SVR', SVR(gamma='auto')),\n",
      "                            ('DTR', DecisionTreeRegressor()),\n",
      "                            ('RFR', RandomForestRegressor())])\n",
      "At random state  83 the model is having r2 score of  0.5893071572572777\n"
     ]
    }
   ],
   "source": [
    "best_ran(vtr)"
   ]
  },
  {
   "cell_type": "code",
   "execution_count": 370,
   "id": "61427b9e",
   "metadata": {},
   "outputs": [
    {
     "name": "stdout",
     "output_type": "stream",
     "text": [
      "VotingRegressor(estimators=[('LR', LinearRegression()),\n",
      "                            ('KNN', KNeighborsRegressor()),\n",
      "                            ('SVR', SVR(gamma='auto')),\n",
      "                            ('DTR', DecisionTreeRegressor()),\n",
      "                            ('RFR', RandomForestRegressor())])\n",
      "R2 score is  0.5076492869622644\n",
      "__________________________________________________\n",
      "Mean Sqaured Error is  3.788699676929233\n",
      "__________________________________________________\n",
      "Mean Absolute Error is  1.4088103894275013\n",
      "__________________________________________________\n"
     ]
    }
   ],
   "source": [
    "mod_test(vtr,89)"
   ]
  },
  {
   "cell_type": "markdown",
   "id": "7db6326a",
   "metadata": {},
   "source": [
    "From the above algorithms, the ensemble methods are providing the maximum r2 score. The RandomForest model have provided R2 score of 59.13%(Accuracy). But the SVR model have given an R2 of 58.72% with the least mean sqaured error of 3.38 and least mean absolute error of 1.31."
   ]
  },
  {
   "cell_type": "markdown",
   "id": "6c4c2897",
   "metadata": {},
   "source": [
    "### Cross Validation"
   ]
  },
  {
   "cell_type": "code",
   "execution_count": 453,
   "id": "d7a1cfb0",
   "metadata": {},
   "outputs": [],
   "source": [
    "#User defined function for checking cross validation for each model\n",
    "from sklearn.model_selection import cross_val_score\n",
    "\n",
    "def cross_val(model,ran):    #ran = random_state\n",
    "    cv_mean = 0\n",
    "    cv_fold = 0\n",
    "    features_train, features_test, target_train, target_test = train_test_split(features,target,test_size = 0.20, random_state = ran)\n",
    "    model.fit(features_train,target_train)\n",
    "    pred_test = model.predict(features_test)\n",
    "    for j in range(2,10):\n",
    "        cv_score = cross_val_score(model,features, target, cv = j)\n",
    "        a =cv_score.mean()\n",
    "        if a>cv_mean:\n",
    "            cv_mean = a\n",
    "            cv_fold = j\n",
    "    print(model)\n",
    "    print(\"At cv fold\",cv_fold,\" the cv score is \", cv_mean, \"and the R2 score  is \",r2_score(target_test,pred_test))"
   ]
  },
  {
   "cell_type": "markdown",
   "id": "713c8069",
   "metadata": {},
   "source": [
    "#### LinearRegression"
   ]
  },
  {
   "cell_type": "code",
   "execution_count": 454,
   "id": "72e1b0b6",
   "metadata": {},
   "outputs": [
    {
     "name": "stdout",
     "output_type": "stream",
     "text": [
      "LinearRegression()\n",
      "At cv fold 2  the cv score is  0.5192721135239916 and the R2 score  is  0.572685381635617\n"
     ]
    }
   ],
   "source": [
    "cross_val(lr,83)"
   ]
  },
  {
   "cell_type": "markdown",
   "id": "ef52e455",
   "metadata": {},
   "source": [
    "#### KNeighborsRegressor"
   ]
  },
  {
   "cell_type": "code",
   "execution_count": 455,
   "id": "4855490f",
   "metadata": {},
   "outputs": [
    {
     "name": "stdout",
     "output_type": "stream",
     "text": [
      "KNeighborsRegressor()\n",
      "At cv fold 2  the cv score is  0.45869764183030276 and the R2 score  is  0.5312306496015506\n"
     ]
    }
   ],
   "source": [
    "cross_val(knn,42)"
   ]
  },
  {
   "cell_type": "markdown",
   "id": "4a270058",
   "metadata": {},
   "source": [
    "#### SVR"
   ]
  },
  {
   "cell_type": "code",
   "execution_count": 456,
   "id": "90313e97",
   "metadata": {},
   "outputs": [
    {
     "name": "stdout",
     "output_type": "stream",
     "text": [
      "SVR()\n",
      "At cv fold 3  the cv score is  0.5254926905991342 and the R2 score  is  0.5872614904939892\n"
     ]
    }
   ],
   "source": [
    "cross_val(svr,58)"
   ]
  },
  {
   "cell_type": "markdown",
   "id": "2221fb30",
   "metadata": {},
   "source": [
    "#### DecisionTreeRegressor"
   ]
  },
  {
   "cell_type": "code",
   "execution_count": 457,
   "id": "c674fcc7",
   "metadata": {},
   "outputs": [
    {
     "name": "stdout",
     "output_type": "stream",
     "text": [
      "DecisionTreeRegressor()\n",
      "At cv fold 2  the cv score is  0.09789195929559419 and the R2 score  is  0.21467146852790842\n"
     ]
    }
   ],
   "source": [
    "cross_val(dtr,7)"
   ]
  },
  {
   "cell_type": "markdown",
   "id": "ead98fdb",
   "metadata": {},
   "source": [
    "#### RandomForestRegressor"
   ]
  },
  {
   "cell_type": "code",
   "execution_count": 458,
   "id": "f880fab9",
   "metadata": {},
   "outputs": [
    {
     "name": "stdout",
     "output_type": "stream",
     "text": [
      "RandomForestRegressor()\n",
      "At cv fold 2  the cv score is  0.5169435030718712 and the R2 score  is  0.5904033812368432\n"
     ]
    }
   ],
   "source": [
    "cross_val(rfr,15)"
   ]
  },
  {
   "cell_type": "markdown",
   "id": "964d2a20",
   "metadata": {},
   "source": [
    "#### AdaBoostRegressor"
   ]
  },
  {
   "cell_type": "code",
   "execution_count": 459,
   "id": "45d09b6e",
   "metadata": {},
   "outputs": [
    {
     "name": "stdout",
     "output_type": "stream",
     "text": [
      "AdaBoostRegressor()\n",
      "At cv fold 3  the cv score is  0.4000683380725185 and the R2 score  is  0.4316020589171473\n"
     ]
    }
   ],
   "source": [
    "cross_val(abr,95)"
   ]
  },
  {
   "cell_type": "markdown",
   "id": "241f0741",
   "metadata": {},
   "source": [
    "#### GradientBoostingRegressor"
   ]
  },
  {
   "cell_type": "code",
   "execution_count": 460,
   "id": "1e753b91",
   "metadata": {},
   "outputs": [
    {
     "name": "stdout",
     "output_type": "stream",
     "text": [
      "GradientBoostingRegressor()\n",
      "At cv fold 2  the cv score is  0.5346841661049253 and the R2 score  is  0.5853636321367841\n"
     ]
    }
   ],
   "source": [
    "cross_val(gbr,15)"
   ]
  },
  {
   "cell_type": "markdown",
   "id": "2c49d81e",
   "metadata": {},
   "source": [
    "#### VotingRegressor"
   ]
  },
  {
   "cell_type": "code",
   "execution_count": 461,
   "id": "768dd367",
   "metadata": {},
   "outputs": [
    {
     "name": "stdout",
     "output_type": "stream",
     "text": [
      "VotingRegressor(estimators=[('LR', LinearRegression()),\n",
      "                            ('KNN', KNeighborsRegressor()),\n",
      "                            ('SVR', SVR(gamma='auto')),\n",
      "                            ('DTR', DecisionTreeRegressor()),\n",
      "                            ('RFR', RandomForestRegressor())])\n",
      "At cv fold 2  the cv score is  0.5249142587007687 and the R2 score  is  0.5846619023230084\n"
     ]
    }
   ],
   "source": [
    "cross_val(vtr,83)"
   ]
  },
  {
   "cell_type": "markdown",
   "id": "e5ae2f35",
   "metadata": {},
   "source": [
    "#### After cross validating the models, the Gradient Boosting Regresssor is performing well with a cross validation score of 53.47% and R2 score of 58.54%.The SVR model have a cross validation score of 52.55% with R2 score of 58.73%. Since the svr model is having the least mean squared error and least mean absolute error, we can consider the SVR model as the best model. "
   ]
  },
  {
   "cell_type": "markdown",
   "id": "5cf1e1a9",
   "metadata": {},
   "source": [
    "### Regularization"
   ]
  },
  {
   "cell_type": "code",
   "execution_count": 468,
   "id": "d2b9e7dc",
   "metadata": {},
   "outputs": [],
   "source": [
    "from sklearn.model_selection import GridSearchCV\n",
    "from sklearn.linear_model import Lasso\n",
    "parameters = {'alpha':[0.0001,0.001,0.01,0.1,1],'random_state':list(range(0,10))}\n"
   ]
  },
  {
   "cell_type": "markdown",
   "id": "f424dc37",
   "metadata": {},
   "source": [
    "#### Lasso(L1)"
   ]
  },
  {
   "cell_type": "code",
   "execution_count": 467,
   "id": "8bd35e70",
   "metadata": {},
   "outputs": [
    {
     "name": "stdout",
     "output_type": "stream",
     "text": [
      "{'alpha': 0.01, 'random_state': 0}\n"
     ]
    }
   ],
   "source": [
    "ls = Lasso()\n",
    "clf = GridSearchCV(ls,parameters)\n",
    "clf.fit(features_train,target_train)\n",
    "\n",
    "print(clf.best_params_)"
   ]
  },
  {
   "cell_type": "code",
   "execution_count": 465,
   "id": "5013eaa8",
   "metadata": {},
   "outputs": [
    {
     "data": {
      "text/plain": [
       "0.5341026530639325"
      ]
     },
     "execution_count": 465,
     "metadata": {},
     "output_type": "execute_result"
    }
   ],
   "source": [
    "ls = Lasso(alpha = 0.01, random_state = 0)\n",
    "ls.fit(features_train,target_train)\n",
    "pred_ls = ls.predict(features_test)\n",
    "\n",
    "lss = r2_score(target_test,pred_ls)\n",
    "lss"
   ]
  },
  {
   "cell_type": "code",
   "execution_count": 466,
   "id": "8c341469",
   "metadata": {},
   "outputs": [
    {
     "name": "stdout",
     "output_type": "stream",
     "text": [
      "Lasso(alpha=0.01, random_state=0)\n",
      "At cv fold 2  the cv score is  0.5183249468826837 and the R2 score  is  0.5536356993581566\n"
     ]
    }
   ],
   "source": [
    "cross_val(ls,0)"
   ]
  },
  {
   "cell_type": "markdown",
   "id": "40b845da",
   "metadata": {},
   "source": [
    "#### Ridge(L2)"
   ]
  },
  {
   "cell_type": "code",
   "execution_count": 469,
   "id": "f22fb607",
   "metadata": {},
   "outputs": [
    {
     "name": "stdout",
     "output_type": "stream",
     "text": [
      "{'alpha': 1, 'random_state': 0}\n"
     ]
    }
   ],
   "source": [
    "rd = Ridge()\n",
    "clf = GridSearchCV(rd,parameters)\n",
    "clf.fit(features_train,target_train)\n",
    "\n",
    "print(clf.best_params_)"
   ]
  },
  {
   "cell_type": "code",
   "execution_count": 470,
   "id": "7207985b",
   "metadata": {},
   "outputs": [
    {
     "data": {
      "text/plain": [
       "0.5370154990766209"
      ]
     },
     "execution_count": 470,
     "metadata": {},
     "output_type": "execute_result"
    }
   ],
   "source": [
    "rd = Ridge(alpha = 1,random_state=0)\n",
    "rd.fit(features_train,target_train)\n",
    "pred_rd = rd.predict(features_test)\n",
    "\n",
    "rds = r2_score(target_test,pred_rd)\n",
    "rds"
   ]
  },
  {
   "cell_type": "code",
   "execution_count": 471,
   "id": "2a98d884",
   "metadata": {},
   "outputs": [
    {
     "name": "stdout",
     "output_type": "stream",
     "text": [
      "Ridge(alpha=1, random_state=0)\n",
      "At cv fold 2  the cv score is  0.519276257386323 and the R2 score  is  0.5554091103742922\n"
     ]
    }
   ],
   "source": [
    "cross_val(rd,0)"
   ]
  },
  {
   "cell_type": "markdown",
   "id": "fff4092e",
   "metadata": {},
   "source": [
    "#### ElasticNet"
   ]
  },
  {
   "cell_type": "code",
   "execution_count": 473,
   "id": "5b1dc25a",
   "metadata": {},
   "outputs": [
    {
     "name": "stdout",
     "output_type": "stream",
     "text": [
      "{'alpha': 0.001, 'random_state': 0}\n"
     ]
    }
   ],
   "source": [
    "en = ElasticNet()\n",
    "clf = GridSearchCV(en,parameters)\n",
    "clf.fit(features_train, target_train)\n",
    "\n",
    "print(clf.best_params_)"
   ]
  },
  {
   "cell_type": "code",
   "execution_count": 474,
   "id": "69a044c3",
   "metadata": {},
   "outputs": [
    {
     "data": {
      "text/plain": [
       "0.5365804190105417"
      ]
     },
     "execution_count": 474,
     "metadata": {},
     "output_type": "execute_result"
    }
   ],
   "source": [
    "en = ElasticNet(alpha = 0.001, random_state = 0)\n",
    "en.fit(features_train,target_train)\n",
    "pred_en = en.predict(features_test)\n",
    "\n",
    "ens = r2_score(target_test,pred_en)\n",
    "ens"
   ]
  },
  {
   "cell_type": "code",
   "execution_count": 475,
   "id": "2adbb9a5",
   "metadata": {},
   "outputs": [
    {
     "name": "stdout",
     "output_type": "stream",
     "text": [
      "ElasticNet(alpha=0.001, random_state=0)\n",
      "At cv fold 2  the cv score is  0.5192579120246164 and the R2 score  is  0.5552990563765026\n"
     ]
    }
   ],
   "source": [
    "cross_val(en,0)"
   ]
  },
  {
   "cell_type": "markdown",
   "id": "2e443562",
   "metadata": {},
   "source": [
    "#### The regularization techniques didn't provide much better results. So we can stick to the svr model since it is performing well with all the tests."
   ]
  },
  {
   "cell_type": "markdown",
   "id": "149fc1f4",
   "metadata": {},
   "source": [
    "### Hyper Parameter Tuning"
   ]
  },
  {
   "cell_type": "code",
   "execution_count": 479,
   "id": "ef31a203",
   "metadata": {},
   "outputs": [],
   "source": [
    "parameters = {'kernel':['rbf','linear','poly','sigmoid'],\n",
    "             'gamma':['scale','auto']}\n",
    "grid = GridSearchCV(estimator=SVR(),param_grid=parameters,cv = 3)"
   ]
  },
  {
   "cell_type": "code",
   "execution_count": 480,
   "id": "5ae9c623",
   "metadata": {},
   "outputs": [
    {
     "data": {
      "text/plain": [
       "0.5262180237379405"
      ]
     },
     "execution_count": 480,
     "metadata": {},
     "output_type": "execute_result"
    }
   ],
   "source": [
    "grid.fit(features,target)\n",
    "grid.best_score_"
   ]
  },
  {
   "cell_type": "code",
   "execution_count": 482,
   "id": "3e707464",
   "metadata": {},
   "outputs": [
    {
     "data": {
      "text/plain": [
       "{'gamma': 'auto', 'kernel': 'rbf'}"
      ]
     },
     "execution_count": 482,
     "metadata": {},
     "output_type": "execute_result"
    }
   ],
   "source": [
    "grid.best_params_"
   ]
  },
  {
   "cell_type": "code",
   "execution_count": 484,
   "id": "1a6978b9",
   "metadata": {},
   "outputs": [
    {
     "name": "stdout",
     "output_type": "stream",
     "text": [
      "R2 Score 0.5879534382436791\n",
      "Mean Squared Error 3.3700375695075833\n",
      "Mean Absolute Error 1.3077278459535806\n"
     ]
    }
   ],
   "source": [
    "svr = SVR(gamma = 'auto',kernel='rbf')\n",
    "features_train, features_test,target_train,target_test = train_test_split(features, target,test_size = 0.20, random_state = 58)\n",
    "svr.fit(features_train,target_train)\n",
    "pred_svr = svr.predict(features_test)\n",
    "print('R2 Score',r2_score(target_test,pred_svr))\n",
    "print('Mean Squared Error',mean_squared_error(target_test,pred_svr))\n",
    "print('Mean Absolute Error',mean_absolute_error(target_test,pred_svr))"
   ]
  },
  {
   "cell_type": "code",
   "execution_count": 485,
   "id": "8169f0e4",
   "metadata": {},
   "outputs": [
    {
     "name": "stdout",
     "output_type": "stream",
     "text": [
      "SVR(gamma='auto')\n",
      "At cv fold 3  the cv score is  0.5262180237379405 and the R2 score  is  0.5879534382436791\n"
     ]
    }
   ],
   "source": [
    "cross_val(svr,58)"
   ]
  },
  {
   "cell_type": "markdown",
   "id": "5204f5ab",
   "metadata": {},
   "source": [
    "### We are getting model accuracy(R2 Score) of 58.80% and cross validation score of 52.62% which shows our model is performing well than all other models with least mean squared error(3.37) and least mean absolute error(1.31)."
   ]
  },
  {
   "cell_type": "markdown",
   "id": "c324bd81",
   "metadata": {},
   "source": [
    "### Saving the best model"
   ]
  },
  {
   "cell_type": "code",
   "execution_count": 487,
   "id": "f8eea61b",
   "metadata": {},
   "outputs": [],
   "source": [
    "import pickle\n",
    "filename = 'abalone_age_prediction_model.pkl'\n",
    "pickle.dump(svr,open(filename,'wb'))"
   ]
  },
  {
   "cell_type": "markdown",
   "id": "c1a56470",
   "metadata": {},
   "source": [
    "### Conclusion"
   ]
  },
  {
   "cell_type": "code",
   "execution_count": 493,
   "id": "8b6d4ad9",
   "metadata": {},
   "outputs": [
    {
     "data": {
      "text/html": [
       "<div>\n",
       "<style scoped>\n",
       "    .dataframe tbody tr th:only-of-type {\n",
       "        vertical-align: middle;\n",
       "    }\n",
       "\n",
       "    .dataframe tbody tr th {\n",
       "        vertical-align: top;\n",
       "    }\n",
       "\n",
       "    .dataframe thead th {\n",
       "        text-align: right;\n",
       "    }\n",
       "</style>\n",
       "<table border=\"1\" class=\"dataframe\">\n",
       "  <thead>\n",
       "    <tr style=\"text-align: right;\">\n",
       "      <th></th>\n",
       "      <th>Original Value</th>\n",
       "      <th>Predicted Value</th>\n",
       "    </tr>\n",
       "  </thead>\n",
       "  <tbody>\n",
       "    <tr>\n",
       "      <th>0</th>\n",
       "      <td>8</td>\n",
       "      <td>8.0</td>\n",
       "    </tr>\n",
       "    <tr>\n",
       "      <th>1</th>\n",
       "      <td>8</td>\n",
       "      <td>9.0</td>\n",
       "    </tr>\n",
       "    <tr>\n",
       "      <th>2</th>\n",
       "      <td>15</td>\n",
       "      <td>11.0</td>\n",
       "    </tr>\n",
       "    <tr>\n",
       "      <th>3</th>\n",
       "      <td>11</td>\n",
       "      <td>10.0</td>\n",
       "    </tr>\n",
       "    <tr>\n",
       "      <th>4</th>\n",
       "      <td>12</td>\n",
       "      <td>11.0</td>\n",
       "    </tr>\n",
       "    <tr>\n",
       "      <th>...</th>\n",
       "      <td>...</td>\n",
       "      <td>...</td>\n",
       "    </tr>\n",
       "    <tr>\n",
       "      <th>813</th>\n",
       "      <td>9</td>\n",
       "      <td>9.0</td>\n",
       "    </tr>\n",
       "    <tr>\n",
       "      <th>814</th>\n",
       "      <td>15</td>\n",
       "      <td>11.0</td>\n",
       "    </tr>\n",
       "    <tr>\n",
       "      <th>815</th>\n",
       "      <td>9</td>\n",
       "      <td>9.0</td>\n",
       "    </tr>\n",
       "    <tr>\n",
       "      <th>816</th>\n",
       "      <td>8</td>\n",
       "      <td>9.0</td>\n",
       "    </tr>\n",
       "    <tr>\n",
       "      <th>817</th>\n",
       "      <td>5</td>\n",
       "      <td>5.0</td>\n",
       "    </tr>\n",
       "  </tbody>\n",
       "</table>\n",
       "<p>818 rows × 2 columns</p>\n",
       "</div>"
      ],
      "text/plain": [
       "     Original Value  Predicted Value\n",
       "0                 8              8.0\n",
       "1                 8              9.0\n",
       "2                15             11.0\n",
       "3                11             10.0\n",
       "4                12             11.0\n",
       "..              ...              ...\n",
       "813               9              9.0\n",
       "814              15             11.0\n",
       "815               9              9.0\n",
       "816               8              9.0\n",
       "817               5              5.0\n",
       "\n",
       "[818 rows x 2 columns]"
      ]
     },
     "execution_count": 493,
     "metadata": {},
     "output_type": "execute_result"
    }
   ],
   "source": [
    "original = np.array(target_test)\n",
    "predicted = np.round(np.array(svr.predict(features_test)),0)\n",
    "\n",
    "prediction_test = pd.DataFrame({'Original Value':original,'Predicted Value':predicted})\n",
    "prediction_test"
   ]
  },
  {
   "cell_type": "markdown",
   "id": "a66507b2",
   "metadata": {},
   "source": [
    "#### The model is performing well with prediction of data with an accuracy of 58.80% with the following given data.\n",
    "\n",
    "1. Sex\n",
    "2. Length\n",
    "3. Diameter\n",
    "4. Height\n",
    "5. Shucked weight\n",
    "6. Viscera weight\n",
    "7. Shell weight\n",
    "\n",
    "These measurements were easy to obtain which helped us to make the model for prediction. urther information, such as weather patterns and location (hence food availability) could help us to improve the accuracy of the model to make predictions with least errors."
   ]
  }
 ],
 "metadata": {
  "kernelspec": {
   "display_name": "Python 3",
   "language": "python",
   "name": "python3"
  },
  "language_info": {
   "codemirror_mode": {
    "name": "ipython",
    "version": 3
   },
   "file_extension": ".py",
   "mimetype": "text/x-python",
   "name": "python",
   "nbconvert_exporter": "python",
   "pygments_lexer": "ipython3",
   "version": "3.8.8"
  }
 },
 "nbformat": 4,
 "nbformat_minor": 5
}
