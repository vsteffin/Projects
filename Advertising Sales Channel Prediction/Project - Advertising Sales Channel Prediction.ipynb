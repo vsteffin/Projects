{
 "cells": [
  {
   "cell_type": "markdown",
   "id": "0033c484",
   "metadata": {},
   "source": [
    "## Sales Channel Prediction Case Study  "
   ]
  },
  {
   "cell_type": "markdown",
   "id": "a68434fc",
   "metadata": {},
   "source": [
    "#### Problem Statement:"
   ]
  },
  {
   "cell_type": "markdown",
   "id": "672f3708",
   "metadata": {},
   "source": [
    "#### When a company enters a market, the distribution strategy and channel it uses are keys to its success in the market, as well as market know-how and customer knowledge and understanding. Because an effective distribution strategy under efficient supply-chain management opens doors for attaining competitive advantage and strong brand equity in the market, it is a component of the marketing mix that cannot be ignored . The distribution strategy and the channel design have to be right the first time."
   ]
  },
  {
   "cell_type": "markdown",
   "id": "af5c4467",
   "metadata": {},
   "source": [
    "#### The case study of Sales channel includes the detailed study of TV, radio and newspaper channel. The predict the total sales generated from all the sales channel.  "
   ]
  },
  {
   "cell_type": "markdown",
   "id": "3e407975",
   "metadata": {},
   "source": [
    "#### We have to predict the total sales generated from advertising channels : TV, radio and newspaper"
   ]
  },
  {
   "cell_type": "markdown",
   "id": "8fd18f39",
   "metadata": {},
   "source": [
    "The dataset is 'Advertising.csv'\n"
   ]
  },
  {
   "cell_type": "code",
   "execution_count": 1,
   "id": "5ef96fb0",
   "metadata": {},
   "outputs": [
    {
     "data": {
      "text/html": [
       "<div>\n",
       "<style scoped>\n",
       "    .dataframe tbody tr th:only-of-type {\n",
       "        vertical-align: middle;\n",
       "    }\n",
       "\n",
       "    .dataframe tbody tr th {\n",
       "        vertical-align: top;\n",
       "    }\n",
       "\n",
       "    .dataframe thead th {\n",
       "        text-align: right;\n",
       "    }\n",
       "</style>\n",
       "<table border=\"1\" class=\"dataframe\">\n",
       "  <thead>\n",
       "    <tr style=\"text-align: right;\">\n",
       "      <th></th>\n",
       "      <th>TV</th>\n",
       "      <th>radio</th>\n",
       "      <th>newspaper</th>\n",
       "      <th>sales</th>\n",
       "    </tr>\n",
       "    <tr>\n",
       "      <th>Sl.No.</th>\n",
       "      <th></th>\n",
       "      <th></th>\n",
       "      <th></th>\n",
       "      <th></th>\n",
       "    </tr>\n",
       "  </thead>\n",
       "  <tbody>\n",
       "    <tr>\n",
       "      <th>1</th>\n",
       "      <td>230.1</td>\n",
       "      <td>37.8</td>\n",
       "      <td>69.2</td>\n",
       "      <td>22.1</td>\n",
       "    </tr>\n",
       "    <tr>\n",
       "      <th>2</th>\n",
       "      <td>44.5</td>\n",
       "      <td>39.3</td>\n",
       "      <td>45.1</td>\n",
       "      <td>10.4</td>\n",
       "    </tr>\n",
       "    <tr>\n",
       "      <th>3</th>\n",
       "      <td>17.2</td>\n",
       "      <td>45.9</td>\n",
       "      <td>69.3</td>\n",
       "      <td>9.3</td>\n",
       "    </tr>\n",
       "    <tr>\n",
       "      <th>4</th>\n",
       "      <td>151.5</td>\n",
       "      <td>41.3</td>\n",
       "      <td>58.5</td>\n",
       "      <td>18.5</td>\n",
       "    </tr>\n",
       "    <tr>\n",
       "      <th>5</th>\n",
       "      <td>180.8</td>\n",
       "      <td>10.8</td>\n",
       "      <td>58.4</td>\n",
       "      <td>12.9</td>\n",
       "    </tr>\n",
       "    <tr>\n",
       "      <th>6</th>\n",
       "      <td>8.7</td>\n",
       "      <td>48.9</td>\n",
       "      <td>75.0</td>\n",
       "      <td>7.2</td>\n",
       "    </tr>\n",
       "    <tr>\n",
       "      <th>7</th>\n",
       "      <td>57.5</td>\n",
       "      <td>32.8</td>\n",
       "      <td>23.5</td>\n",
       "      <td>11.8</td>\n",
       "    </tr>\n",
       "    <tr>\n",
       "      <th>8</th>\n",
       "      <td>120.2</td>\n",
       "      <td>19.6</td>\n",
       "      <td>11.6</td>\n",
       "      <td>13.2</td>\n",
       "    </tr>\n",
       "    <tr>\n",
       "      <th>9</th>\n",
       "      <td>8.6</td>\n",
       "      <td>2.1</td>\n",
       "      <td>1.0</td>\n",
       "      <td>4.8</td>\n",
       "    </tr>\n",
       "    <tr>\n",
       "      <th>10</th>\n",
       "      <td>199.8</td>\n",
       "      <td>2.6</td>\n",
       "      <td>21.2</td>\n",
       "      <td>10.6</td>\n",
       "    </tr>\n",
       "  </tbody>\n",
       "</table>\n",
       "</div>"
      ],
      "text/plain": [
       "           TV  radio  newspaper  sales\n",
       "Sl.No.                                \n",
       "1       230.1   37.8       69.2   22.1\n",
       "2        44.5   39.3       45.1   10.4\n",
       "3        17.2   45.9       69.3    9.3\n",
       "4       151.5   41.3       58.5   18.5\n",
       "5       180.8   10.8       58.4   12.9\n",
       "6         8.7   48.9       75.0    7.2\n",
       "7        57.5   32.8       23.5   11.8\n",
       "8       120.2   19.6       11.6   13.2\n",
       "9         8.6    2.1        1.0    4.8\n",
       "10      199.8    2.6       21.2   10.6"
      ]
     },
     "execution_count": 1,
     "metadata": {},
     "output_type": "execute_result"
    }
   ],
   "source": [
    "#Loading the dataset\n",
    "import pandas as pd\n",
    "import warnings\n",
    "warnings.filterwarnings('ignore')\n",
    "\n",
    "data = pd.read_csv('Advertising.csv')\n",
    "#Since the index number is provided as column, we are changing the default index with the first column and renaming it as 'Sl.No.'\n",
    "data.columns.values[0] = 'Sl.No.'     \n",
    "data.set_index(data.columns[0],inplace = True)\n",
    "data.head(10)"
   ]
  },
  {
   "cell_type": "code",
   "execution_count": 2,
   "id": "089a2fd2",
   "metadata": {},
   "outputs": [
    {
     "data": {
      "text/plain": [
       "(200, 4)"
      ]
     },
     "execution_count": 2,
     "metadata": {},
     "output_type": "execute_result"
    }
   ],
   "source": [
    "data.shape"
   ]
  },
  {
   "cell_type": "markdown",
   "id": "1cd906a6",
   "metadata": {},
   "source": [
    "There are 200 rows and 5 columns(including the index column) in the dataset. We can ignore the index column since it is just to  indicating place in rows and used as a means of identification. "
   ]
  },
  {
   "cell_type": "code",
   "execution_count": 3,
   "id": "b5303dd3",
   "metadata": {},
   "outputs": [
    {
     "data": {
      "text/plain": [
       "Index(['TV', 'radio', 'newspaper', 'sales'], dtype='object')"
      ]
     },
     "execution_count": 3,
     "metadata": {},
     "output_type": "execute_result"
    }
   ],
   "source": [
    "data.columns"
   ]
  },
  {
   "cell_type": "markdown",
   "id": "9d54cfda",
   "metadata": {},
   "source": [
    "Type of data in each columns"
   ]
  },
  {
   "cell_type": "code",
   "execution_count": 4,
   "id": "76c95b3f",
   "metadata": {},
   "outputs": [
    {
     "data": {
      "text/plain": [
       "TV           float64\n",
       "radio        float64\n",
       "newspaper    float64\n",
       "sales        float64\n",
       "dtype: object"
      ]
     },
     "execution_count": 4,
     "metadata": {},
     "output_type": "execute_result"
    }
   ],
   "source": [
    "data.dtypes"
   ]
  },
  {
   "cell_type": "markdown",
   "id": "cf631121",
   "metadata": {},
   "source": [
    "All the columns including the target column is in float type. So we will consider this as a regression type of problem and use regression methods to attain our output."
   ]
  },
  {
   "cell_type": "markdown",
   "id": "f69a3cf1",
   "metadata": {},
   "source": [
    "### Features in Dataset(Independent Variable)"
   ]
  },
  {
   "cell_type": "markdown",
   "id": "39349ee9",
   "metadata": {},
   "source": [
    "1. TV - This includes the data of sales generated from advertisement on TV as a channel.\n",
    "2. radio - This includes the data of sale generated from advertisements through radio.\n",
    "3. newspaper - This includes the data of sales generated from advertisements on Newspapers as a channel."
   ]
  },
  {
   "cell_type": "markdown",
   "id": "5e809b68",
   "metadata": {},
   "source": [
    "### Target in Dataset(Dependent Variable)"
   ]
  },
  {
   "cell_type": "markdown",
   "id": "6bfae286",
   "metadata": {},
   "source": [
    "sales - This column included the total sales generated from advertisements through TV, radio and newspaper. The data is continuous type."
   ]
  },
  {
   "cell_type": "code",
   "execution_count": 5,
   "id": "dc28fbc8",
   "metadata": {},
   "outputs": [
    {
     "name": "stdout",
     "output_type": "stream",
     "text": [
      "<class 'pandas.core.frame.DataFrame'>\n",
      "Int64Index: 200 entries, 1 to 200\n",
      "Data columns (total 4 columns):\n",
      " #   Column     Non-Null Count  Dtype  \n",
      "---  ------     --------------  -----  \n",
      " 0   TV         200 non-null    float64\n",
      " 1   radio      200 non-null    float64\n",
      " 2   newspaper  200 non-null    float64\n",
      " 3   sales      200 non-null    float64\n",
      "dtypes: float64(4)\n",
      "memory usage: 7.8 KB\n"
     ]
    }
   ],
   "source": [
    "data.info()"
   ]
  },
  {
   "cell_type": "markdown",
   "id": "dfa7008c",
   "metadata": {},
   "source": [
    "We are only having float type of data in all columns. There is 200 non null values in all four columns."
   ]
  },
  {
   "cell_type": "markdown",
   "id": "46287084",
   "metadata": {},
   "source": [
    "### Checking for Missing Values"
   ]
  },
  {
   "cell_type": "code",
   "execution_count": 6,
   "id": "459ccae0",
   "metadata": {},
   "outputs": [
    {
     "name": "stdout",
     "output_type": "stream",
     "text": [
      "TV           0\n",
      "radio        0\n",
      "newspaper    0\n",
      "sales        0\n",
      "dtype: int64\n"
     ]
    },
    {
     "data": {
      "image/png": "[encoded data removed]",
      "text/plain": [
       "<Figure size 432x432 with 2 Axes>"
      ]
     },
     "metadata": {
      "needs_background": "light"
     },
     "output_type": "display_data"
    }
   ],
   "source": [
    "import matplotlib.pyplot as plt\n",
    "import seaborn as sns\n",
    "\n",
    "plt.figure(figsize=[6,6])\n",
    "sns.heatmap(data.isnull())\n",
    "print(data.isnull().sum())"
   ]
  },
  {
   "cell_type": "markdown",
   "id": "04d0eaea",
   "metadata": {},
   "source": [
    "We are not having any null values in the dataset."
   ]
  },
  {
   "cell_type": "markdown",
   "id": "dcbd8990",
   "metadata": {},
   "source": [
    "### Data Visualization"
   ]
  },
  {
   "cell_type": "code",
   "execution_count": 7,
   "id": "4813c33a",
   "metadata": {},
   "outputs": [],
   "source": [
    "#User defined function to plot the columns in histogram plot.\n",
    "import numpy as np\n",
    "\n",
    "def histogramplot(col):\n",
    "    plt.figure(figsize=[4,4])\n",
    "    sns.histplot(x =col,data = data,bins =6,kde=True)\n",
    "    print(np.histogram(data[col],bins=6))"
   ]
  },
  {
   "cell_type": "code",
   "execution_count": 8,
   "id": "3fb4154a",
   "metadata": {
    "scrolled": true
   },
   "outputs": [
    {
     "name": "stdout",
     "output_type": "stream",
     "text": [
      "(array([36, 34, 29, 30, 45, 26], dtype=int64), array([  0.7       ,  49.98333333,  99.26666667, 148.55      ,\n",
      "       197.83333333, 247.11666667, 296.4       ]))\n"
     ]
    },
    {
     "data": {
      "image/png": "[encoded data removed]",
      "text/plain": [
       "<Figure size 288x288 with 1 Axes>"
      ]
     },
     "metadata": {
      "needs_background": "light"
     },
     "output_type": "display_data"
    }
   ],
   "source": [
    "histogramplot('TV')"
   ]
  },
  {
   "cell_type": "markdown",
   "id": "93fe6434",
   "metadata": {},
   "source": [
    "From the above observation the data in column 'TV' is not normally distributed. Most of the data is lying between the range of 200 and 250."
   ]
  },
  {
   "cell_type": "code",
   "execution_count": 9,
   "id": "7fb2635c",
   "metadata": {},
   "outputs": [
    {
     "name": "stdout",
     "output_type": "stream",
     "text": [
      "(array([43, 34, 29, 31, 32, 31], dtype=int64), array([ 0.        ,  8.26666667, 16.53333333, 24.8       , 33.06666667,\n",
      "       41.33333333, 49.6       ]))\n"
     ]
    },
    {
     "data": {
      "image/png": "[encoded data removed]",
      "text/plain": [
       "<Figure size 288x288 with 1 Axes>"
      ]
     },
     "metadata": {
      "needs_background": "light"
     },
     "output_type": "display_data"
    }
   ],
   "source": [
    "histogramplot('radio')"
   ]
  },
  {
   "cell_type": "markdown",
   "id": "c8b41f3c",
   "metadata": {},
   "source": [
    "From the above observation, the data in column 'radio' is not normally distributed. Most of the data is lying betweeen 0 and 20. "
   ]
  },
  {
   "cell_type": "code",
   "execution_count": 10,
   "id": "016ef9ef",
   "metadata": {},
   "outputs": [
    {
     "name": "stdout",
     "output_type": "stream",
     "text": [
      "(array([71, 65, 38, 21,  3,  2], dtype=int64), array([  0.3 ,  19.25,  38.2 ,  57.15,  76.1 ,  95.05, 114.  ]))\n"
     ]
    },
    {
     "data": {
      "image/png": "[encoded data removed]",
      "text/plain": [
       "<Figure size 288x288 with 1 Axes>"
      ]
     },
     "metadata": {
      "needs_background": "light"
     },
     "output_type": "display_data"
    }
   ],
   "source": [
    "histogramplot('newspaper')"
   ]
  },
  {
   "cell_type": "markdown",
   "id": "bb0fbf60",
   "metadata": {},
   "source": [
    "The data in the column 'newspaper' is high between 0 and 40. "
   ]
  },
  {
   "cell_type": "code",
   "execution_count": 11,
   "id": "bbd4ffed",
   "metadata": {},
   "outputs": [
    {
     "name": "stdout",
     "output_type": "stream",
     "text": [
      "(array([ 8, 37, 68, 45, 29, 13], dtype=int64), array([ 1.6       ,  5.83333333, 10.06666667, 14.3       , 18.53333333,\n",
      "       22.76666667, 27.        ]))\n"
     ]
    },
    {
     "data": {
      "image/png": "[encoded data removed]",
      "text/plain": [
       "<Figure size 288x288 with 1 Axes>"
      ]
     },
     "metadata": {
      "needs_background": "light"
     },
     "output_type": "display_data"
    }
   ],
   "source": [
    "histogramplot('sales')"
   ]
  },
  {
   "cell_type": "markdown",
   "id": "06f044fa",
   "metadata": {},
   "source": [
    "The data in the target column 'sales' is almost normally distributed. The highest distribution of data is between the range 5-20."
   ]
  },
  {
   "cell_type": "markdown",
   "id": "e4d75416",
   "metadata": {},
   "source": [
    "#### Bivariate Analysis"
   ]
  },
  {
   "cell_type": "markdown",
   "id": "97b38d6e",
   "metadata": {},
   "source": [
    "Now we can check the relationship of each dependent column with the target column."
   ]
  },
  {
   "cell_type": "code",
   "execution_count": 12,
   "id": "7371ef3f",
   "metadata": {},
   "outputs": [
    {
     "data": {
      "text/plain": [
       "<AxesSubplot:xlabel='TV', ylabel='sales'>"
      ]
     },
     "execution_count": 12,
     "metadata": {},
     "output_type": "execute_result"
    },
    {
     "data": {
      "image/png": "[encoded data removed]",
      "text/plain": [
       "<Figure size 432x288 with 1 Axes>"
      ]
     },
     "metadata": {
      "needs_background": "light"
     },
     "output_type": "display_data"
    }
   ],
   "source": [
    "sns.scatterplot('TV','sales',data = data)"
   ]
  },
  {
   "cell_type": "markdown",
   "id": "618410c4",
   "metadata": {},
   "source": [
    "The column 'TV' is having a positve relation with the target column. "
   ]
  },
  {
   "cell_type": "code",
   "execution_count": 13,
   "id": "a6ea99ae",
   "metadata": {},
   "outputs": [
    {
     "data": {
      "text/plain": [
       "<AxesSubplot:xlabel='radio', ylabel='sales'>"
      ]
     },
     "execution_count": 13,
     "metadata": {},
     "output_type": "execute_result"
    },
    {
     "data": {
      "image/png": "[encoded data removed]",
      "text/plain": [
       "<Figure size 432x288 with 1 Axes>"
      ]
     },
     "metadata": {
      "needs_background": "light"
     },
     "output_type": "display_data"
    }
   ],
   "source": [
    "sns.scatterplot('radio','sales',data = data)"
   ]
  },
  {
   "cell_type": "markdown",
   "id": "f91f34f7",
   "metadata": {},
   "source": [
    "The column 'radio' is having positive relation with the target variable, but the data is scattered and not equally distributed."
   ]
  },
  {
   "cell_type": "code",
   "execution_count": 15,
   "id": "b3b00f60",
   "metadata": {},
   "outputs": [
    {
     "data": {
      "text/plain": [
       "<AxesSubplot:xlabel='newspaper', ylabel='sales'>"
      ]
     },
     "execution_count": 15,
     "metadata": {},
     "output_type": "execute_result"
    },
    {
     "data": {
      "image/png": "[encoded data removed]",
      "text/plain": [
       "<Figure size 432x288 with 1 Axes>"
      ]
     },
     "metadata": {
      "needs_background": "light"
     },
     "output_type": "display_data"
    }
   ],
   "source": [
    "sns.scatterplot('newspaper','sales',data = data)"
   ]
  },
  {
   "cell_type": "markdown",
   "id": "ba97dadc",
   "metadata": {},
   "source": [
    "The data in column 'newspaper' is not equally distributed and are scattered. The relation with target variable is not strongly positive. "
   ]
  },
  {
   "cell_type": "markdown",
   "id": "00e73dae",
   "metadata": {},
   "source": [
    "### Statistical Summary"
   ]
  },
  {
   "cell_type": "markdown",
   "id": "ee778777",
   "metadata": {},
   "source": [
    "#### Describe of the data"
   ]
  },
  {
   "cell_type": "code",
   "execution_count": 16,
   "id": "399576d4",
   "metadata": {},
   "outputs": [
    {
     "data": {
      "text/html": [
       "<div>\n",
       "<style scoped>\n",
       "    .dataframe tbody tr th:only-of-type {\n",
       "        vertical-align: middle;\n",
       "    }\n",
       "\n",
       "    .dataframe tbody tr th {\n",
       "        vertical-align: top;\n",
       "    }\n",
       "\n",
       "    .dataframe thead th {\n",
       "        text-align: right;\n",
       "    }\n",
       "</style>\n",
       "<table border=\"1\" class=\"dataframe\">\n",
       "  <thead>\n",
       "    <tr style=\"text-align: right;\">\n",
       "      <th></th>\n",
       "      <th>TV</th>\n",
       "      <th>radio</th>\n",
       "      <th>newspaper</th>\n",
       "      <th>sales</th>\n",
       "    </tr>\n",
       "  </thead>\n",
       "  <tbody>\n",
       "    <tr>\n",
       "      <th>count</th>\n",
       "      <td>200.000000</td>\n",
       "      <td>200.000000</td>\n",
       "      <td>200.000000</td>\n",
       "      <td>200.000000</td>\n",
       "    </tr>\n",
       "    <tr>\n",
       "      <th>mean</th>\n",
       "      <td>147.042500</td>\n",
       "      <td>23.264000</td>\n",
       "      <td>30.554000</td>\n",
       "      <td>14.022500</td>\n",
       "    </tr>\n",
       "    <tr>\n",
       "      <th>std</th>\n",
       "      <td>85.854236</td>\n",
       "      <td>14.846809</td>\n",
       "      <td>21.778621</td>\n",
       "      <td>5.217457</td>\n",
       "    </tr>\n",
       "    <tr>\n",
       "      <th>min</th>\n",
       "      <td>0.700000</td>\n",
       "      <td>0.000000</td>\n",
       "      <td>0.300000</td>\n",
       "      <td>1.600000</td>\n",
       "    </tr>\n",
       "    <tr>\n",
       "      <th>25%</th>\n",
       "      <td>74.375000</td>\n",
       "      <td>9.975000</td>\n",
       "      <td>12.750000</td>\n",
       "      <td>10.375000</td>\n",
       "    </tr>\n",
       "    <tr>\n",
       "      <th>50%</th>\n",
       "      <td>149.750000</td>\n",
       "      <td>22.900000</td>\n",
       "      <td>25.750000</td>\n",
       "      <td>12.900000</td>\n",
       "    </tr>\n",
       "    <tr>\n",
       "      <th>75%</th>\n",
       "      <td>218.825000</td>\n",
       "      <td>36.525000</td>\n",
       "      <td>45.100000</td>\n",
       "      <td>17.400000</td>\n",
       "    </tr>\n",
       "    <tr>\n",
       "      <th>max</th>\n",
       "      <td>296.400000</td>\n",
       "      <td>49.600000</td>\n",
       "      <td>114.000000</td>\n",
       "      <td>27.000000</td>\n",
       "    </tr>\n",
       "  </tbody>\n",
       "</table>\n",
       "</div>"
      ],
      "text/plain": [
       "               TV       radio   newspaper       sales\n",
       "count  200.000000  200.000000  200.000000  200.000000\n",
       "mean   147.042500   23.264000   30.554000   14.022500\n",
       "std     85.854236   14.846809   21.778621    5.217457\n",
       "min      0.700000    0.000000    0.300000    1.600000\n",
       "25%     74.375000    9.975000   12.750000   10.375000\n",
       "50%    149.750000   22.900000   25.750000   12.900000\n",
       "75%    218.825000   36.525000   45.100000   17.400000\n",
       "max    296.400000   49.600000  114.000000   27.000000"
      ]
     },
     "execution_count": 16,
     "metadata": {},
     "output_type": "execute_result"
    }
   ],
   "source": [
    "data.describe()"
   ]
  },
  {
   "cell_type": "code",
   "execution_count": 19,
   "id": "62a2822f",
   "metadata": {},
   "outputs": [
    {
     "data": {
      "text/plain": [
       "<AxesSubplot:>"
      ]
     },
     "execution_count": 19,
     "metadata": {},
     "output_type": "execute_result"
    },
    {
     "data": {
      "image/png": "[encoded data removed]",
      "text/plain": [
       "<Figure size 360x504 with 2 Axes>"
      ]
     },
     "metadata": {
      "needs_background": "light"
     },
     "output_type": "display_data"
    }
   ],
   "source": [
    "plt.figure(figsize=[5,7])\n",
    "sns.heatmap(data.describe()[1:],annot=True,fmt='0.2f')"
   ]
  },
  {
   "cell_type": "markdown",
   "id": "19bd2a75",
   "metadata": {},
   "source": [
    "The mean of the data is higher than the median for the columns ['radio','newspaper','sales']. That means skewness is present in these columns. Also the 75% and the maximum value of column 'newspaper' is having a much higher difference. That means there is possible outliers in the data."
   ]
  },
  {
   "cell_type": "markdown",
   "id": "0c0b1747",
   "metadata": {},
   "source": [
    "### Correlation"
   ]
  },
  {
   "cell_type": "code",
   "execution_count": 21,
   "id": "933d4a4d",
   "metadata": {},
   "outputs": [
    {
     "data": {
      "text/html": [
       "<div>\n",
       "<style scoped>\n",
       "    .dataframe tbody tr th:only-of-type {\n",
       "        vertical-align: middle;\n",
       "    }\n",
       "\n",
       "    .dataframe tbody tr th {\n",
       "        vertical-align: top;\n",
       "    }\n",
       "\n",
       "    .dataframe thead th {\n",
       "        text-align: right;\n",
       "    }\n",
       "</style>\n",
       "<table border=\"1\" class=\"dataframe\">\n",
       "  <thead>\n",
       "    <tr style=\"text-align: right;\">\n",
       "      <th></th>\n",
       "      <th>TV</th>\n",
       "      <th>radio</th>\n",
       "      <th>newspaper</th>\n",
       "      <th>sales</th>\n",
       "    </tr>\n",
       "  </thead>\n",
       "  <tbody>\n",
       "    <tr>\n",
       "      <th>TV</th>\n",
       "      <td>1.000000</td>\n",
       "      <td>0.054809</td>\n",
       "      <td>0.056648</td>\n",
       "      <td>0.782224</td>\n",
       "    </tr>\n",
       "    <tr>\n",
       "      <th>radio</th>\n",
       "      <td>0.054809</td>\n",
       "      <td>1.000000</td>\n",
       "      <td>0.354104</td>\n",
       "      <td>0.576223</td>\n",
       "    </tr>\n",
       "    <tr>\n",
       "      <th>newspaper</th>\n",
       "      <td>0.056648</td>\n",
       "      <td>0.354104</td>\n",
       "      <td>1.000000</td>\n",
       "      <td>0.228299</td>\n",
       "    </tr>\n",
       "    <tr>\n",
       "      <th>sales</th>\n",
       "      <td>0.782224</td>\n",
       "      <td>0.576223</td>\n",
       "      <td>0.228299</td>\n",
       "      <td>1.000000</td>\n",
       "    </tr>\n",
       "  </tbody>\n",
       "</table>\n",
       "</div>"
      ],
      "text/plain": [
       "                 TV     radio  newspaper     sales\n",
       "TV         1.000000  0.054809   0.056648  0.782224\n",
       "radio      0.054809  1.000000   0.354104  0.576223\n",
       "newspaper  0.056648  0.354104   1.000000  0.228299\n",
       "sales      0.782224  0.576223   0.228299  1.000000"
      ]
     },
     "execution_count": 21,
     "metadata": {},
     "output_type": "execute_result"
    }
   ],
   "source": [
    "Correlation = data.corr()\n",
    "Correlation"
   ]
  },
  {
   "cell_type": "code",
   "execution_count": 23,
   "id": "d7f4a41a",
   "metadata": {},
   "outputs": [
    {
     "data": {
      "text/plain": [
       "<AxesSubplot:>"
      ]
     },
     "execution_count": 23,
     "metadata": {},
     "output_type": "execute_result"
    },
    {
     "data": {
      "image/png": "[encoded data removed]",
      "text/plain": [
       "<Figure size 432x360 with 2 Axes>"
      ]
     },
     "metadata": {
      "needs_background": "light"
     },
     "output_type": "display_data"
    }
   ],
   "source": [
    "#Plotting the correlation of columns\n",
    "plt.figure(figsize=[6,5])\n",
    "sns.heatmap(Correlation,annot = True, fmt = '0.2f',cmap='RdPu')"
   ]
  },
  {
   "cell_type": "markdown",
   "id": "de0d59e7",
   "metadata": {},
   "source": [
    "All the columns have having positive correlation to each other. "
   ]
  },
  {
   "cell_type": "markdown",
   "id": "6b8e2f39",
   "metadata": {},
   "source": [
    "### Correlation with Target Column(sales)"
   ]
  },
  {
   "cell_type": "code",
   "execution_count": 33,
   "id": "831e586f",
   "metadata": {},
   "outputs": [
    {
     "name": "stdout",
     "output_type": "stream",
     "text": [
      "TV           0.782224\n",
      "radio        0.576223\n",
      "newspaper    0.228299\n",
      "Name: sales, dtype: float64\n"
     ]
    },
    {
     "data": {
      "image/png": "[encoded data removed]",
      "text/plain": [
       "<Figure size 288x360 with 1 Axes>"
      ]
     },
     "metadata": {
      "needs_background": "light"
     },
     "output_type": "display_data"
    }
   ],
   "source": [
    "print(Correlation['sales'][:-1])\n",
    "plt.figure(figsize = [4,5])\n",
    "Correlation['sales'].sort_values(ascending=False).drop('sales').plot(kind='bar',color = 'm')\n",
    "plt.xlabel('Column Names', fontsize = 12)\n",
    "plt.ylabel('Correlation', fontsize = 12)\n",
    "plt.title('Correlation with Target Column')\n",
    "plt.show()\n"
   ]
  },
  {
   "cell_type": "markdown",
   "id": "68872893",
   "metadata": {},
   "source": [
    "1. The column 'TV' is having highest correlation with the target variable - 78%.\n",
    "2. The column 'newspaper' is having the lowest correlation with the target variable - 22.8%.\n",
    "3. The column 'radio' is having a strong correlation bond with the target variable - 57.6%."
   ]
  },
  {
   "cell_type": "markdown",
   "id": "4269ef29",
   "metadata": {},
   "source": [
    "### Distribution of data in columns(Checking skewness of data)"
   ]
  },
  {
   "cell_type": "code",
   "execution_count": 36,
   "id": "b804c148",
   "metadata": {},
   "outputs": [
    {
     "data": {
      "image/png": "[encoded data removed]",
      "text/plain": [
       "<Figure size 1008x360 with 4 Axes>"
      ]
     },
     "metadata": {
      "needs_background": "light"
     },
     "output_type": "display_data"
    }
   ],
   "source": [
    "plt.figure(figsize = [14,5])\n",
    "for i in range(0,len(data.columns.values)):\n",
    "    plt.subplot(1,4,i+1)\n",
    "    sns.distplot(data[data.columns.values[i]])\n",
    "    plt.tight_layout()"
   ]
  },
  {
   "cell_type": "markdown",
   "id": "924c9da9",
   "metadata": {},
   "source": [
    "The columns in the dataset are not normally distributed. There is skewness present in all the columns as per the above observations. High skewness is present in column 'newspaper'."
   ]
  },
  {
   "cell_type": "markdown",
   "id": "90ea237a",
   "metadata": {},
   "source": [
    "### Skewness"
   ]
  },
  {
   "cell_type": "code",
   "execution_count": 38,
   "id": "91017d64",
   "metadata": {},
   "outputs": [
    {
     "data": {
      "text/plain": [
       "TV          -0.069853\n",
       "radio        0.094175\n",
       "newspaper    0.894720\n",
       "sales        0.407571\n",
       "dtype: float64"
      ]
     },
     "execution_count": 38,
     "metadata": {},
     "output_type": "execute_result"
    }
   ],
   "source": [
    "data.skew()"
   ]
  },
  {
   "cell_type": "markdown",
   "id": "1c73accb",
   "metadata": {},
   "source": [
    "In the column ['TV','radio'] least skewness is present. High skewness is present in column 'newspaper'. Skewness is also present in the column 'sales', but we can ignore this column as it is the target column."
   ]
  },
  {
   "cell_type": "markdown",
   "id": "1ea2b07c",
   "metadata": {},
   "source": [
    "### Checking the presence of outliers"
   ]
  },
  {
   "cell_type": "code",
   "execution_count": 39,
   "id": "f64e73b5",
   "metadata": {},
   "outputs": [],
   "source": [
    "#User defined function to plot the outlers of each columns using boxplot\n",
    "def box(col):\n",
    "    plt.figure(figsize =[3,6])\n",
    "    sns.boxplot(y = data[col])\n",
    "    plt.show()"
   ]
  },
  {
   "cell_type": "code",
   "execution_count": 40,
   "id": "b59a8947",
   "metadata": {},
   "outputs": [
    {
     "data": {
      "image/png": "[encoded data removed]",
      "text/plain": [
       "<Figure size 216x432 with 1 Axes>"
      ]
     },
     "metadata": {
      "needs_background": "light"
     },
     "output_type": "display_data"
    }
   ],
   "source": [
    "box('TV')"
   ]
  },
  {
   "cell_type": "markdown",
   "id": "f33d0b29",
   "metadata": {},
   "source": [
    "There is no outliers present in the data of column 'TV'."
   ]
  },
  {
   "cell_type": "code",
   "execution_count": 41,
   "id": "1b3d6912",
   "metadata": {},
   "outputs": [
    {
     "data": {
      "image/png": "[encoded data removed]",
      "text/plain": [
       "<Figure size 216x432 with 1 Axes>"
      ]
     },
     "metadata": {
      "needs_background": "light"
     },
     "output_type": "display_data"
    }
   ],
   "source": [
    "box('radio')"
   ]
  },
  {
   "cell_type": "markdown",
   "id": "bde57ffd",
   "metadata": {},
   "source": [
    "There is no outliers present in the data of column 'radio'."
   ]
  },
  {
   "cell_type": "code",
   "execution_count": 42,
   "id": "d20c6229",
   "metadata": {},
   "outputs": [
    {
     "data": {
      "image/png": "[encoded data removed]",
      "text/plain": [
       "<Figure size 216x432 with 1 Axes>"
      ]
     },
     "metadata": {
      "needs_background": "light"
     },
     "output_type": "display_data"
    }
   ],
   "source": [
    "box('newspaper')"
   ]
  },
  {
   "cell_type": "markdown",
   "id": "b1e97891",
   "metadata": {},
   "source": [
    "There are outliers present in the data of column 'newspaper'."
   ]
  },
  {
   "cell_type": "code",
   "execution_count": 44,
   "id": "dc1428fd",
   "metadata": {},
   "outputs": [
    {
     "data": {
      "image/png": "[encoded data removed]",
      "text/plain": [
       "<Figure size 216x432 with 1 Axes>"
      ]
     },
     "metadata": {
      "needs_background": "light"
     },
     "output_type": "display_data"
    }
   ],
   "source": [
    "box('sales')"
   ]
  },
  {
   "cell_type": "markdown",
   "id": "2c186f59",
   "metadata": {},
   "source": [
    "There are no outliers present in the data of target column 'sales'."
   ]
  },
  {
   "cell_type": "code",
   "execution_count": 46,
   "id": "8560f00e",
   "metadata": {},
   "outputs": [
    {
     "data": {
      "image/png": "[encoded data removed]",
      "text/plain": [
       "<Figure size 432x432 with 4 Axes>"
      ]
     },
     "metadata": {
      "needs_background": "light"
     },
     "output_type": "display_data"
    }
   ],
   "source": [
    "#Plotting the data of every columns with boxplot to check the outliers\n",
    "plt.figure(figsize = [6,6])\n",
    "for i in range(0,len(data.columns.values)):\n",
    "    plt.subplot(1,4,i+1)\n",
    "    sns.boxplot(y = data[data.columns.values[i]])\n",
    "    plt.tight_layout()"
   ]
  },
  {
   "cell_type": "markdown",
   "id": "ffdca718",
   "metadata": {},
   "source": [
    "Outliers are only present in the data of column 'newspaper' in the dataset."
   ]
  },
  {
   "cell_type": "markdown",
   "id": "cd8e1835",
   "metadata": {},
   "source": [
    "### Splitting the data before removing skewness"
   ]
  },
  {
   "cell_type": "code",
   "execution_count": 47,
   "id": "da8970fd",
   "metadata": {},
   "outputs": [],
   "source": [
    "x = data.drop(['sales'],axis = 1)\n",
    "y = data.sales"
   ]
  },
  {
   "cell_type": "code",
   "execution_count": 48,
   "id": "d0097261",
   "metadata": {},
   "outputs": [
    {
     "name": "stdout",
     "output_type": "stream",
     "text": [
      "(200, 3)\n",
      "(200,)\n"
     ]
    }
   ],
   "source": [
    "print(x.shape)\n",
    "print(y.shape)"
   ]
  },
  {
   "cell_type": "code",
   "execution_count": 58,
   "id": "27b71a88",
   "metadata": {},
   "outputs": [
    {
     "data": {
      "text/plain": [
       "newspaper    0.89472\n",
       "dtype: float64"
      ]
     },
     "execution_count": 58,
     "metadata": {},
     "output_type": "execute_result"
    }
   ],
   "source": [
    "#We are setting the standard limit for skewness as +/-0.4.\n",
    "x.skew().sort_values(ascending=False)[np.abs(x.skew())>0.4]"
   ]
  },
  {
   "cell_type": "markdown",
   "id": "549b1826",
   "metadata": {},
   "source": [
    "Only the column newspaper is having higher skewness than the standard limit. Let's transform the column data to remove the skewness in column 'newspaper'."
   ]
  },
  {
   "cell_type": "code",
   "execution_count": 59,
   "id": "38257f67",
   "metadata": {},
   "outputs": [],
   "source": [
    "from sklearn.preprocessing import power_transform\n",
    "x['newspaper'] = power_transform(x['newspaper'].values.reshape(-1,1))"
   ]
  },
  {
   "cell_type": "code",
   "execution_count": 60,
   "id": "34a0884b",
   "metadata": {},
   "outputs": [
    {
     "data": {
      "text/plain": [
       "TV          -0.069853\n",
       "radio        0.094175\n",
       "newspaper   -0.077942\n",
       "dtype: float64"
      ]
     },
     "execution_count": 60,
     "metadata": {},
     "output_type": "execute_result"
    }
   ],
   "source": [
    "#Now we can validate whether the skewness is removed for the column\n",
    "x.skew()"
   ]
  },
  {
   "cell_type": "markdown",
   "id": "550683b7",
   "metadata": {},
   "source": [
    "The skewness of the column 'newspaper' is now removed."
   ]
  },
  {
   "cell_type": "markdown",
   "id": "7cf05a07",
   "metadata": {},
   "source": [
    "### Removing Outliers"
   ]
  },
  {
   "cell_type": "code",
   "execution_count": 61,
   "id": "0c8b4704",
   "metadata": {},
   "outputs": [
    {
     "data": {
      "text/plain": [
       "array([[9.69852266e-01, 9.81522472e-01, 1.51433531e+00, 1.55205313e+00],\n",
       "       [1.19737623e+00, 1.08280781e+00, 7.87682518e-01, 6.96046111e-01],\n",
       "       [1.51615499e+00, 1.52846331e+00, 1.51699753e+00, 9.07405869e-01],\n",
       "       [5.20496822e-02, 1.21785493e+00, 1.21465643e+00, 8.60330287e-01],\n",
       "       [3.94182198e-01, 8.41613655e-01, 1.21170398e+00, 2.15683025e-01],\n",
       "       [1.61540845e+00, 1.73103399e+00, 1.66502354e+00, 1.31091086e+00],\n",
       "       [1.04557682e+00, 6.43904671e-01, 1.07753498e-01, 4.27042783e-01],\n",
       "       [3.13436589e-01, 2.47406325e-01, 8.44093412e-01, 1.58039455e-01],\n",
       "       [1.61657614e+00, 1.42906863e+00, 2.13259669e+00, 1.77205942e+00],\n",
       "       [6.16042873e-01, 1.39530685e+00, 2.29003949e-01, 6.57617064e-01],\n",
       "       [9.45155670e-01, 1.17923146e+00, 7.22615630e-02, 1.04190753e+00],\n",
       "       [7.90028350e-01, 4.96973404e-02, 1.60261898e+00, 6.48970529e-01],\n",
       "       [1.43908760e+00, 7.99208859e-01, 1.42512925e+00, 9.26620392e-01],\n",
       "       [5.78501712e-01, 1.05768905e+00, 1.22982506e+00, 8.30547775e-01],\n",
       "       [6.66253447e-01, 6.50657027e-01, 8.18605793e-01, 9.56402904e-01],\n",
       "       [5.64664612e-01, 1.65000572e+00, 1.04432344e+00, 1.60969670e+00],\n",
       "       [9.25304978e-01, 9.00494200e-01, 2.52943514e+00, 2.92541119e-01],\n",
       "       [1.56887609e+00, 1.10306488e+00, 1.13383286e+00, 1.99398717e+00],\n",
       "       [9.08957349e-01, 1.86635121e-01, 3.93560155e-01, 5.23115400e-01],\n",
       "       [3.00679600e-03, 4.29449843e-02, 3.46715444e-01, 1.10963873e-01],\n",
       "       [8.33232798e-01, 2.99534513e-01, 1.05996548e+00, 7.64257669e-01],\n",
       "       [1.05509347e+00, 1.22649795e+00, 1.07753498e-01, 2.92541119e-01],\n",
       "       [1.56286250e+00, 4.97243498e-01, 9.38757391e-01, 1.61834324e+00],\n",
       "       [9.48833887e-01, 4.29719938e-01, 2.58931103e-02, 2.83894584e-01],\n",
       "       [9.89527805e-01, 7.20071247e-01, 3.93560155e-01, 8.30547775e-01],\n",
       "       [1.35285385e+00, 1.33453565e+00, 3.23725895e-01, 3.88613736e-01],\n",
       "       [4.83714657e-02, 4.07572210e-01, 7.68672812e-01, 1.87821967e-01],\n",
       "       [1.08662104e+00, 4.43224650e-01, 1.38678899e-01, 3.60752677e-01],\n",
       "       [1.18820988e+00, 2.59020377e-01, 1.38678899e-01, 9.37188380e-01],\n",
       "       [8.92609721e-01, 4.90491142e-01, 6.34520181e-01, 6.76831588e-01],\n",
       "       [1.70316018e+00, 3.40048650e-01, 7.21148606e-01, 1.41755147e+00],\n",
       "       [3.98677796e-01, 3.95958157e-01, 5.52358766e-01, 4.07828260e-01],\n",
       "       [5.82004775e-01, 1.46958277e+00, 2.00719361e-01, 8.49762299e-01],\n",
       "       [1.38438142e+00, 2.20396901e-01, 2.32472495e+00, 6.48970529e-01],\n",
       "       [5.99520091e-01, 1.47633512e+00, 1.20981332e+00, 8.68976822e-01],\n",
       "       [1.67747105e+00, 1.29402151e+00, 1.10471076e+00, 2.34897549e-01],\n",
       "       [1.39956136e+00, 1.38666383e+00, 1.47330873e+00, 2.18613240e+00],\n",
       "       [8.44734522e-01, 1.76479577e+00, 8.08339144e-01, 1.30178396e-01],\n",
       "       [1.21372386e+00, 2.32010953e-01, 4.15598401e-01, 7.53689682e-01],\n",
       "       [9.45330823e-01, 9.74770116e-01, 2.87423214e-01, 1.43676599e+00],\n",
       "       [6.47570443e-01, 6.50927121e-02, 2.70348543e-01, 4.95254341e-01],\n",
       "       [3.49810063e-01, 6.84418807e-01, 5.56153916e-01, 5.91326959e-01],\n",
       "       [1.71133400e+00, 2.99534513e-01, 1.95904851e+00, 1.28304980e+00],\n",
       "       [6.98948705e-01, 1.00367020e+00, 3.54591841e-02, 2.15683025e-01],\n",
       "       [1.42390765e+00, 1.64487393e-01, 7.24694111e-01, 1.06112206e+00],\n",
       "       [3.27623995e-01, 5.15880000e-02, 2.66059606e-01, 1.68607443e-01],\n",
       "       [6.69581357e-01, 9.02384859e-01, 4.39609343e-01, 6.57617064e-01],\n",
       "       [1.08428567e+00, 1.23135965e+00, 3.81737803e-01, 1.76341289e+00],\n",
       "       [9.35989321e-01, 5.03995854e-01, 9.48527550e-01, 1.49392920e-01],\n",
       "       [9.35814168e-01, 7.80842451e-01, 4.83005084e-01, 8.30547775e-01],\n",
       "       [6.16042873e-01, 1.36154507e+00, 3.95399604e-01, 5.03900877e-01],\n",
       "       [5.44638766e-01, 9.22641928e-01, 1.65883577e+00, 6.38402541e-01],\n",
       "       [8.09879042e-01, 1.24486436e+00, 5.90046655e-01, 1.64812575e+00],\n",
       "       [4.15200577e-01, 1.54872038e+00, 1.22055211e+00, 1.37912242e+00],\n",
       "       [1.35051848e+00, 3.73810430e-01, 5.41769847e-01, 1.18697718e+00],\n",
       "       [6.05533683e-01, 1.76479577e+00, 1.25857888e+00, 1.85948550e+00],\n",
       "       [1.63175608e+00, 3.26543937e-01, 6.56460459e-01, 1.63755776e+00],\n",
       "       [1.26606546e-01, 2.74415749e-01, 4.97263421e-01, 1.58039455e-01],\n",
       "       [7.44488528e-01, 1.77830048e+00, 5.17931907e-01, 1.87870003e+00],\n",
       "       [7.43320840e-01, 4.21076922e-01, 1.03293213e+00, 8.41115763e-01],\n",
       "       [1.09228433e+00, 1.43582099e+00, 2.18159752e-01, 1.13798015e+00],\n",
       "       [1.33417085e+00, 1.31238792e+00, 1.10022212e+00, 1.95555812e+00],\n",
       "       [1.07727954e+00, 5.24252922e-01, 7.79792875e-02, 3.22323631e-01],\n",
       "       [5.17781948e-01, 4.27829278e-01, 1.11394312e+00, 4.32326777e-03],\n",
       "       [1.86158622e-01, 1.31914027e+00, 1.51547059e-01, 7.64257669e-01],\n",
       "       [9.11292725e-01, 9.42898996e-01, 2.15715720e+00, 9.07405869e-01],\n",
       "       [1.34917564e+00, 9.02114765e-02, 1.88378271e+00, 8.68976822e-01],\n",
       "       [9.04082253e-02, 5.91776482e-01, 9.56199424e-01, 1.19610408e-01],\n",
       "       [1.05509347e+00, 2.86029801e-01, 8.91141598e-01, 9.37188380e-01],\n",
       "       [8.14549794e-01, 1.39341619e+00, 7.32966144e-02, 1.59048218e+00],\n",
       "       [6.07869059e-01, 4.95352838e-01, 5.56153916e-01, 8.21901240e-01],\n",
       "       [4.34876116e-01, 6.05281194e-01, 2.74629332e-01, 3.11755643e-01],\n",
       "       [1.40405696e+00, 6.57409383e-01, 3.35185568e-01, 1.00347849e+00],\n",
       "       [2.06009314e-01, 1.18598381e+00, 2.57457125e-01, 5.80758971e-01],\n",
       "       [7.74848409e-01, 9.02114765e-02, 7.32248660e-01, 5.72112435e-01],\n",
       "       [1.51965805e+00, 1.37991148e+00, 2.01064695e+00, 1.02269301e+00],\n",
       "       [1.39588315e+00, 1.46283041e+00, 2.56382112e-01, 1.36855443e+00],\n",
       "       [3.09933525e-01, 3.53553362e-01, 6.54842972e-01, 3.41057791e-02],\n",
       "       [1.65394214e+00, 4.48086346e-01, 1.02420602e+00, 1.67598681e+00],\n",
       "       [3.62479475e-01, 1.05093669e+00, 1.28317501e-01, 5.80758971e-01],\n",
       "       [8.24883830e-01, 2.32010953e-01, 1.70089405e-01, 4.27042783e-01],\n",
       "       [1.08311798e+00, 1.29402151e+00, 4.86911126e-01, 3.30970166e-01],\n",
       "       [8.37728396e-01, 2.00139833e-01, 3.08587095e-01, 5.23115400e-01],\n",
       "       [9.18298852e-01, 1.43393033e+00, 4.35624508e-01, 8.11813615e-02],\n",
       "       [7.76016097e-01, 1.33264499e+00, 3.62712431e-01, 1.47519504e+00],\n",
       "       [5.38975481e-01, 3.28434597e-01, 1.41963599e+00, 2.26251013e-01],\n",
       "       [8.26051518e-01, 2.86029801e-01, 5.35342694e-01, 3.88613736e-01],\n",
       "       [4.24366926e-01, 1.17058844e+00, 1.35009138e+00, 3.79967201e-01],\n",
       "       [6.85928986e-01, 1.50982681e-01, 1.62418784e+00, 2.15683025e-01],\n",
       "       [4.34876116e-01, 1.65675807e+00, 9.96850541e-01, 5.14468865e-01],\n",
       "       [1.48792614e-01, 1.24000266e+00, 1.03293213e+00, 5.42329924e-01],\n",
       "       [1.38303858e+00, 1.46958277e+00, 3.29556055e-01, 1.29169634e+00],\n",
       "       [8.25058983e-01, 6.91171163e-01, 1.22937273e+00, 1.03326100e+00],\n",
       "       [1.21273132e+00, 8.93741844e-01, 1.59579653e+00, 1.57126765e+00],\n",
       "       [4.62900623e-01, 6.25538262e-01, 8.99123777e-01, 4.84686354e-01],\n",
       "       [1.89836839e-01, 5.62876398e-01, 1.04432344e+00, 5.52897912e-01],\n",
       "       [5.90353742e-01, 1.33453565e+00, 1.36793510e+00, 4.46257307e-01],\n",
       "       [4.42057396e-01, 1.52873340e-01, 1.85982894e-01, 2.83894584e-01],\n",
       "       [1.66579418e+00, 1.28537849e+00, 9.90457455e-01, 2.18613240e+00],\n",
       "       [1.38283424e-01, 1.24486436e+00, 8.15188102e-01, 6.10541482e-01],\n",
       "       [8.79940308e-01, 1.28051680e+00, 9.45274806e-01, 4.46257307e-01],\n",
       "       [1.74402926e+00, 8.80237132e-01, 2.26282480e+00, 1.87870003e+00],\n",
       "       [1.55486384e+00, 8.88880147e-01, 2.18159752e-01, 1.49392920e-01],\n",
       "       [4.77088029e-01, 4.09462869e-01, 4.17434728e-01, 1.30178396e-01],\n",
       "       [1.06443498e+00, 7.45190011e-01, 1.43715760e+00, 1.28304980e+00],\n",
       "       [1.06755854e-01, 1.56222509e+00, 1.22937273e+00, 9.94831951e-01],\n",
       "       [1.42507534e+00, 8.28108943e-01, 1.87417464e-01, 1.31091086e+00],\n",
       "       [6.61407543e-01, 1.55061104e+00, 1.23156783e-01, 1.02269301e+00],\n",
       "       [1.56403019e+00, 1.54385868e+00, 3.06944277e-03, 1.67598681e+00],\n",
       "       [1.26527727e+00, 2.45515665e-01, 1.41364623e+00, 1.11011909e+00],\n",
       "       [9.19641692e-01, 1.01717491e+00, 1.15501188e+00, 1.19610408e-01],\n",
       "       [1.10530405e+00, 9.95027184e-01, 1.23156783e-01, 1.49440956e+00],\n",
       "       [3.34630122e-01, 5.31005278e-01, 1.84832983e+00, 1.48912557e-02],\n",
       "       [7.30476274e-01, 1.79882765e-01, 9.15213781e-01, 3.60752677e-01],\n",
       "       [8.03865450e-01, 1.58923451e+00, 3.91338778e-01, 1.10963873e-01],\n",
       "       [8.40063771e-01, 7.92456503e-01, 1.03804144e+00, 2.73326596e-01],\n",
       "       [9.15759131e-02, 6.05281194e-01, 3.06944277e-03, 3.50184689e-01],\n",
       "       [8.24883830e-01, 1.51684926e+00, 6.14079398e-01, 8.88191346e-01],\n",
       "       [2.49213762e-01, 9.20751268e-01, 1.76974284e+00, 3.60752677e-01],\n",
       "       [1.49046586e+00, 4.90491142e-01, 1.70089405e-01, 1.42619800e+00],\n",
       "       [6.70544700e-02, 2.38763309e-01, 8.25427675e-01, 2.83894584e-01],\n",
       "       [1.49747198e+00, 1.05606848e-01, 9.64732133e-01, 1.34933991e+00],\n",
       "       [8.98623313e-01, 1.40881156e+00, 5.61193935e-01, 4.65471830e-01],\n",
       "       [2.79573643e-01, 7.65447079e-01, 7.83474818e-01, 2.26251013e-01],\n",
       "       [9.62846140e-01, 6.10142891e-01, 1.64467302e+00, 1.09090457e+00],\n",
       "       [6.98773552e-01, 7.74090095e-01, 1.14618924e-02, 6.57617064e-01],\n",
       "       [1.62591764e+00, 1.05579839e+00, 9.71186601e-01, 1.42619800e+00],\n",
       "       [7.80511695e-01, 1.57086811e+00, 1.04171092e+00, 1.00347849e+00],\n",
       "       [8.55418865e-01, 1.73778635e+00, 1.71817136e+00, 2.05163074e+00],\n",
       "       [1.02105537e+00, 7.60585383e-01, 7.17598125e-01, 8.30547775e-01],\n",
       "       [1.70882347e+00, 1.10306488e+00, 1.08642518e+00, 2.38692417e+00],\n",
       "       [1.37971067e+00, 1.37504978e+00, 7.14042650e-01, 2.54112072e-01],\n",
       "       [1.61891151e+00, 2.65772733e-01, 1.90202575e+00, 1.59912871e+00],\n",
       "       [8.49580427e-01, 6.91171163e-01, 7.87682518e-01, 1.07169004e+00],\n",
       "       [1.28612050e+00, 1.03554132e+00, 1.41688552e+00, 6.19188018e-01],\n",
       "       [1.15300409e+00, 1.60273923e+00, 1.10471076e+00, 4.65471830e-01],\n",
       "       [1.41806922e+00, 1.06255074e+00, 1.03293213e+00, 8.68976822e-01],\n",
       "       [1.47896413e+00, 3.80562786e-01, 1.24984840e+00, 1.30226433e+00],\n",
       "       [1.21489154e+00, 1.77992105e-01, 2.67442843e-01, 8.49762299e-01],\n",
       "       [4.42057396e-01, 1.39341619e+00, 1.97889407e+00, 1.28304980e+00],\n",
       "       [8.59914463e-01, 4.22967582e-01, 7.46720688e-01, 5.99973494e-01],\n",
       "       [5.44813920e-01, 8.19465927e-01, 1.68019945e+00, 9.94831951e-01],\n",
       "       [8.57754241e-01, 6.70914095e-01, 5.25624866e-01, 1.16776266e+00],\n",
       "       [4.95595880e-01, 1.18598381e+00, 3.87270854e-01, 6.96046111e-01],\n",
       "       [5.93681653e-01, 5.71519414e-01, 5.63726474e-01, 5.03900877e-01],\n",
       "       [7.87313476e-02, 1.44257334e+00, 1.05942991e+00, 7.15260635e-01],\n",
       "       [1.08662104e+00, 1.07794612e+00, 1.08642518e+00, 1.58039455e-01],\n",
       "       [1.12281936e+00, 1.73778635e+00, 7.59879425e-01, 2.18613240e+00],\n",
       "       [1.27327593e+00, 1.15033137e+00, 8.21089268e-01, 5.99973494e-01],\n",
       "       [1.19504085e+00, 1.71239749e-01, 2.61904542e-01, 7.53689682e-01],\n",
       "       [1.56070228e+00, 6.32290618e-01, 4.90810783e-01, 3.99181724e-01],\n",
       "       [3.04095087e-01, 1.00367020e+00, 9.09229669e-01, 4.65471830e-01],\n",
       "       [5.90353742e-01, 2.43084817e-03, 6.54842972e-01, 4.95254341e-01],\n",
       "       [2.83251860e-01, 1.10981724e+00, 5.17931907e-01, 9.56402904e-01],\n",
       "       [4.75920341e-01, 1.46120984e-01, 1.01553176e+00, 3.03109107e-01],\n",
       "       [1.66912209e+00, 7.87594807e-01, 1.39057916e+00, 2.07949180e+00],\n",
       "       [6.20538471e-01, 1.36640677e+00, 9.67961309e-01, 2.45465537e-01],\n",
       "       [3.21989902e-02, 1.48308748e+00, 6.72413922e-02, 7.53689682e-01],\n",
       "       [1.58037782e+00, 9.20751268e-01, 7.91136815e-01, 1.29169634e+00],\n",
       "       [1.79152496e-01, 3.28434597e-01, 3.95399604e-01, 2.15683025e-01],\n",
       "       [2.97264113e-01, 3.48691665e-01, 2.31449840e-01, 7.25348259e-02],\n",
       "       [7.16288868e-01, 8.46475352e-01, 9.28951258e-01, 1.38824932e-01],\n",
       "       [4.82926468e-01, 3.48691665e-01, 3.06944277e-03, 1.68607443e-01],\n",
       "       [1.92172214e-01, 9.13998912e-01, 1.20981332e+00, 7.64257669e-01],\n",
       "       [3.48467222e-01, 5.78271770e-01, 1.42534498e+00, 4.07828260e-01],\n",
       "       [1.02123053e+00, 1.34128800e+00, 1.90420913e+00, 4.07828260e-01],\n",
       "       [1.50798117e+00, 9.68017760e-01, 2.07375411e-01, 1.15719467e+00],\n",
       "       [6.97781017e-01, 1.21974559e+00, 3.29447026e-01, 3.50184689e-01],\n",
       "       [7.98202165e-01, 2.26879163e-02, 1.18797267e+00, 5.91326959e-01],\n",
       "       [1.60273904e+00, 8.55118367e-01, 1.31304986e+00, 1.87821967e-01],\n",
       "       [1.13315340e+00, 7.87594807e-01, 3.87639535e-01, 1.08033658e+00],\n",
       "       [2.03849092e-01, 1.59625696e-01, 8.65987393e-01, 9.17493494e-02],\n",
       "       [1.48813048e+00, 2.13644545e-01, 4.72322408e-01, 1.23405277e+00],\n",
       "       [2.49388915e-01, 1.09145083e+00, 7.54005137e-01, 4.46257307e-01],\n",
       "       [8.79940308e-01, 1.34128800e+00, 7.32248660e-01, 4.84686354e-01],\n",
       "       [1.51633014e+00, 1.73103399e+00, 6.70980580e-01, 2.49356478e+00],\n",
       "       [1.18353913e+00, 4.68343414e-01, 2.78567541e-01, 1.18697718e+00],\n",
       "       [2.70407294e-01, 1.04418434e+00, 4.19617314e-01, 4.46257307e-01],\n",
       "       [1.51399477e+00, 1.41556392e+00, 9.75494949e-02, 4.27042783e-01],\n",
       "       [2.16693657e-01, 8.95632503e-01, 4.35546989e-01, 2.73326596e-01],\n",
       "       [1.11601758e-01, 1.39530685e+00, 1.12323656e+00, 6.76831588e-01],\n",
       "       [8.34400486e-01, 1.20624088e+00, 8.26517146e-02, 3.50184689e-01],\n",
       "       [1.06075676e+00, 1.18598381e+00, 1.87417464e-01, 1.02269301e+00],\n",
       "       [1.64127273e+00, 1.33264499e+00, 1.58280405e+00, 2.33984859e+00],\n",
       "       [1.24659427e+00, 1.32616272e-01, 2.00719361e-01, 6.87399576e-01],\n",
       "       [6.76762637e-01, 1.47444446e+00, 3.18022039e-01, 1.64812575e+00],\n",
       "       [8.80728498e-02, 1.42906863e+00, 4.49820703e-02, 7.15260635e-01],\n",
       "       [5.14454038e-01, 3.67058074e-01, 3.99499822e-01, 6.29756005e-01],\n",
       "       [1.62258973e+00, 6.32290618e-01, 1.64450612e+00, 3.60752677e-01],\n",
       "       [1.49863967e+00, 7.53833027e-01, 1.12874870e-01, 1.40698348e+00],\n",
       "       [1.25576062e+00, 1.20435022e+00, 1.37920552e+00, 6.19188018e-01],\n",
       "       [8.35393020e-01, 8.41613655e-01, 1.35676548e+00, 7.92118728e-01],\n",
       "       [1.51615499e+00, 1.29402151e+00, 2.70348543e-01, 1.56069967e+00],\n",
       "       [2.30705910e-01, 1.26512143e+00, 1.65883577e+00, 1.07169004e+00],\n",
       "       [3.10313024e-02, 8.32970639e-01, 1.35676548e+00, 6.29756005e-01],\n",
       "       [1.27094056e+00, 1.32103093e+00, 6.82575813e-01, 1.23405277e+00],\n",
       "       [6.17035408e-01, 1.24000266e+00, 1.14201102e+00, 8.30547775e-01],\n",
       "       [3.49810063e-01, 9.42898996e-01, 1.31304986e+00, 2.34897549e-01],\n",
       "       [1.59456522e+00, 1.26512143e+00, 1.43335009e+00, 2.20534693e+00],\n",
       "       [9.93206022e-01, 9.90165488e-01, 1.08642518e+00, 1.19610408e-01]])"
      ]
     },
     "execution_count": 61,
     "metadata": {},
     "output_type": "execute_result"
    }
   ],
   "source": [
    "from scipy.stats import zscore\n",
    "df = x.copy()\n",
    "df['sales'] = y.copy()\n",
    "z = np.abs(zscore(df))\n",
    "z"
   ]
  },
  {
   "cell_type": "code",
   "execution_count": 62,
   "id": "444c7988",
   "metadata": {},
   "outputs": [
    {
     "data": {
      "text/html": [
       "<div>\n",
       "<style scoped>\n",
       "    .dataframe tbody tr th:only-of-type {\n",
       "        vertical-align: middle;\n",
       "    }\n",
       "\n",
       "    .dataframe tbody tr th {\n",
       "        vertical-align: top;\n",
       "    }\n",
       "\n",
       "    .dataframe thead th {\n",
       "        text-align: right;\n",
       "    }\n",
       "</style>\n",
       "<table border=\"1\" class=\"dataframe\">\n",
       "  <thead>\n",
       "    <tr style=\"text-align: right;\">\n",
       "      <th></th>\n",
       "      <th>TV</th>\n",
       "      <th>radio</th>\n",
       "      <th>newspaper</th>\n",
       "      <th>sales</th>\n",
       "    </tr>\n",
       "    <tr>\n",
       "      <th>Sl.No.</th>\n",
       "      <th></th>\n",
       "      <th></th>\n",
       "      <th></th>\n",
       "      <th></th>\n",
       "    </tr>\n",
       "  </thead>\n",
       "  <tbody>\n",
       "    <tr>\n",
       "      <th>1</th>\n",
       "      <td>230.1</td>\n",
       "      <td>37.8</td>\n",
       "      <td>1.514335</td>\n",
       "      <td>22.1</td>\n",
       "    </tr>\n",
       "    <tr>\n",
       "      <th>2</th>\n",
       "      <td>44.5</td>\n",
       "      <td>39.3</td>\n",
       "      <td>0.787683</td>\n",
       "      <td>10.4</td>\n",
       "    </tr>\n",
       "    <tr>\n",
       "      <th>3</th>\n",
       "      <td>17.2</td>\n",
       "      <td>45.9</td>\n",
       "      <td>1.516998</td>\n",
       "      <td>9.3</td>\n",
       "    </tr>\n",
       "    <tr>\n",
       "      <th>4</th>\n",
       "      <td>151.5</td>\n",
       "      <td>41.3</td>\n",
       "      <td>1.214656</td>\n",
       "      <td>18.5</td>\n",
       "    </tr>\n",
       "    <tr>\n",
       "      <th>5</th>\n",
       "      <td>180.8</td>\n",
       "      <td>10.8</td>\n",
       "      <td>1.211704</td>\n",
       "      <td>12.9</td>\n",
       "    </tr>\n",
       "    <tr>\n",
       "      <th>...</th>\n",
       "      <td>...</td>\n",
       "      <td>...</td>\n",
       "      <td>...</td>\n",
       "      <td>...</td>\n",
       "    </tr>\n",
       "    <tr>\n",
       "      <th>196</th>\n",
       "      <td>38.2</td>\n",
       "      <td>3.7</td>\n",
       "      <td>-0.682576</td>\n",
       "      <td>7.6</td>\n",
       "    </tr>\n",
       "    <tr>\n",
       "      <th>197</th>\n",
       "      <td>94.2</td>\n",
       "      <td>4.9</td>\n",
       "      <td>-1.142011</td>\n",
       "      <td>9.7</td>\n",
       "    </tr>\n",
       "    <tr>\n",
       "      <th>198</th>\n",
       "      <td>177.0</td>\n",
       "      <td>9.3</td>\n",
       "      <td>-1.313050</td>\n",
       "      <td>12.8</td>\n",
       "    </tr>\n",
       "    <tr>\n",
       "      <th>199</th>\n",
       "      <td>283.6</td>\n",
       "      <td>42.0</td>\n",
       "      <td>1.433350</td>\n",
       "      <td>25.5</td>\n",
       "    </tr>\n",
       "    <tr>\n",
       "      <th>200</th>\n",
       "      <td>232.1</td>\n",
       "      <td>8.6</td>\n",
       "      <td>-1.086425</td>\n",
       "      <td>13.4</td>\n",
       "    </tr>\n",
       "  </tbody>\n",
       "</table>\n",
       "<p>200 rows × 4 columns</p>\n",
       "</div>"
      ],
      "text/plain": [
       "           TV  radio  newspaper  sales\n",
       "Sl.No.                                \n",
       "1       230.1   37.8   1.514335   22.1\n",
       "2        44.5   39.3   0.787683   10.4\n",
       "3        17.2   45.9   1.516998    9.3\n",
       "4       151.5   41.3   1.214656   18.5\n",
       "5       180.8   10.8   1.211704   12.9\n",
       "...       ...    ...        ...    ...\n",
       "196      38.2    3.7  -0.682576    7.6\n",
       "197      94.2    4.9  -1.142011    9.7\n",
       "198     177.0    9.3  -1.313050   12.8\n",
       "199     283.6   42.0   1.433350   25.5\n",
       "200     232.1    8.6  -1.086425   13.4\n",
       "\n",
       "[200 rows x 4 columns]"
      ]
     },
     "execution_count": 62,
     "metadata": {},
     "output_type": "execute_result"
    }
   ],
   "source": [
    "threshold = 3\n",
    "df_new = df[(z<3).all(axis=1)]\n",
    "df_new"
   ]
  },
  {
   "cell_type": "code",
   "execution_count": 63,
   "id": "57062db8",
   "metadata": {},
   "outputs": [
    {
     "data": {
      "text/plain": [
       "(200, 4)"
      ]
     },
     "execution_count": 63,
     "metadata": {},
     "output_type": "execute_result"
    }
   ],
   "source": [
    "df.shape"
   ]
  },
  {
   "cell_type": "code",
   "execution_count": 65,
   "id": "77ab2771",
   "metadata": {},
   "outputs": [
    {
     "data": {
      "text/plain": [
       "(200, 4)"
      ]
     },
     "execution_count": 65,
     "metadata": {},
     "output_type": "execute_result"
    }
   ],
   "source": [
    "df_new.shape"
   ]
  },
  {
   "cell_type": "markdown",
   "id": "42b47738",
   "metadata": {},
   "source": [
    "After adjusting the skewness of the data in column newspaper, there are no outliers to be removed from the data. So we are not losing any data"
   ]
  },
  {
   "cell_type": "markdown",
   "id": "83f8cddb",
   "metadata": {},
   "source": [
    "### Checking the Multicolinearity of variables in the dataframe"
   ]
  },
  {
   "cell_type": "code",
   "execution_count": 66,
   "id": "0da68b54",
   "metadata": {},
   "outputs": [
    {
     "name": "stdout",
     "output_type": "stream",
     "text": [
      "(200, 3)\n",
      "(200,)\n"
     ]
    }
   ],
   "source": [
    "x = df.drop('sales',axis = 1)\n",
    "y = df.sales\n",
    "\n",
    "print(x.shape)\n",
    "print(y.shape)"
   ]
  },
  {
   "cell_type": "code",
   "execution_count": 67,
   "id": "202d47ea",
   "metadata": {},
   "outputs": [],
   "source": [
    "from statsmodels.stats.outliers_influence import variance_inflation_factor\n",
    "\n",
    "def calc_vif(x):\n",
    "    vif = pd.DataFrame()\n",
    "    vif['Column Name'] = x.columns\n",
    "    vif['VIF Factor'] = [variance_inflation_factor(x.values,i) for i in range(x.shape[1])]\n",
    "    return(vif)"
   ]
  },
  {
   "cell_type": "code",
   "execution_count": 68,
   "id": "dc972229",
   "metadata": {},
   "outputs": [
    {
     "data": {
      "text/html": [
       "<div>\n",
       "<style scoped>\n",
       "    .dataframe tbody tr th:only-of-type {\n",
       "        vertical-align: middle;\n",
       "    }\n",
       "\n",
       "    .dataframe tbody tr th {\n",
       "        vertical-align: top;\n",
       "    }\n",
       "\n",
       "    .dataframe thead th {\n",
       "        text-align: right;\n",
       "    }\n",
       "</style>\n",
       "<table border=\"1\" class=\"dataframe\">\n",
       "  <thead>\n",
       "    <tr style=\"text-align: right;\">\n",
       "      <th></th>\n",
       "      <th>Column Name</th>\n",
       "      <th>VIF Factor</th>\n",
       "    </tr>\n",
       "  </thead>\n",
       "  <tbody>\n",
       "    <tr>\n",
       "      <th>0</th>\n",
       "      <td>TV</td>\n",
       "      <td>2.289921</td>\n",
       "    </tr>\n",
       "    <tr>\n",
       "      <th>1</th>\n",
       "      <td>radio</td>\n",
       "      <td>2.351347</td>\n",
       "    </tr>\n",
       "    <tr>\n",
       "      <th>2</th>\n",
       "      <td>newspaper</td>\n",
       "      <td>1.051119</td>\n",
       "    </tr>\n",
       "  </tbody>\n",
       "</table>\n",
       "</div>"
      ],
      "text/plain": [
       "  Column Name  VIF Factor\n",
       "0          TV    2.289921\n",
       "1       radio    2.351347\n",
       "2   newspaper    1.051119"
      ]
     },
     "execution_count": 68,
     "metadata": {},
     "output_type": "execute_result"
    }
   ],
   "source": [
    "calc_vif(x)"
   ]
  },
  {
   "cell_type": "markdown",
   "id": "039f90c9",
   "metadata": {},
   "source": [
    "There is no much variance of inflation present in the columns in dataset. So our data is ready to proceed with further steps to build the model."
   ]
  },
  {
   "cell_type": "code",
   "execution_count": 69,
   "id": "afb6d8fd",
   "metadata": {},
   "outputs": [],
   "source": [
    "#Steps performed till now\n",
    "#1.Loaded data\n",
    "#2. Observed the type of data, features and target of dataset, shape of the dataset(rows and columns).\n",
    "#3. Checked for missing values\n",
    "#4. Data visualization \n",
    "    #Univariate analysis - Using histogram plot\n",
    "    #Bivariate analysis(with target column) - Using scatter plot\n",
    "\n",
    "# Statistical Summary\n",
    "#5. Describe of the data\n",
    "#6. Correlation of the data\n",
    "#7. Correlation of columns with target variable\n",
    "#8. Distribution of data in columns - Skewess\n",
    "#9. Checking for outliers in data\n",
    "#10. Removed skewness in columns after setting the standard limit as +/-0.4.\n",
    "#11. Removed outliers(None was present after skewness was removed).\n",
    "#12. Checked the Multicolinearity of variables"
   ]
  },
  {
   "cell_type": "markdown",
   "id": "c733b600",
   "metadata": {},
   "source": [
    "### EDA Completed"
   ]
  },
  {
   "cell_type": "markdown",
   "id": "e5256cf7",
   "metadata": {},
   "source": [
    "### Building the Model"
   ]
  },
  {
   "cell_type": "markdown",
   "id": "eaaa3edf",
   "metadata": {},
   "source": [
    "### Splitting the data into features and target"
   ]
  },
  {
   "cell_type": "code",
   "execution_count": 70,
   "id": "c6e09d95",
   "metadata": {},
   "outputs": [],
   "source": [
    "features = x.copy()\n",
    "target = y.copy()"
   ]
  },
  {
   "cell_type": "code",
   "execution_count": 71,
   "id": "8e4d8827",
   "metadata": {},
   "outputs": [
    {
     "name": "stdout",
     "output_type": "stream",
     "text": [
      "(200, 3)\n",
      "(200,)\n"
     ]
    }
   ],
   "source": [
    "print(x.shape)\n",
    "print(y.shape)"
   ]
  },
  {
   "cell_type": "code",
   "execution_count": 72,
   "id": "5d948cbb",
   "metadata": {},
   "outputs": [],
   "source": [
    "from sklearn.linear_model import LinearRegression\n",
    "from sklearn.neighbors import KNeighborsRegressor\n",
    "from sklearn.svm import SVR\n",
    "from sklearn.tree import DecisionTreeRegressor\n",
    "from sklearn.ensemble import RandomForestRegressor\n",
    "from sklearn.ensemble import AdaBoostRegressor\n",
    "from sklearn.ensemble import GradientBoostingRegressor\n",
    "from sklearn.ensemble import VotingRegressor\n",
    "from sklearn.metrics import mean_squared_error,mean_absolute_error, r2_score\n",
    "\n",
    "from sklearn.linear_model import Lasso,Ridge,ElasticNet  #Reguralization technique\n",
    "\n",
    "from sklearn.model_selection import train_test_split\n"
   ]
  },
  {
   "cell_type": "code",
   "execution_count": 73,
   "id": "1314bc57",
   "metadata": {},
   "outputs": [],
   "source": [
    "lr = LinearRegression()\n",
    "knn = KNeighborsRegressor()\n",
    "svr = SVR()\n",
    "dtr = DecisionTreeRegressor()\n",
    "rfr = RandomForestRegressor(n_estimators=100)\n",
    "abr = AdaBoostRegressor()\n",
    "gbr = GradientBoostingRegressor()\n",
    "estimator = [('LR', LinearRegression()),\n",
    "             ('KNN',KNeighborsRegressor()),\n",
    "             ('SVR', SVR(gamma='auto')),\n",
    "             ('DTR',DecisionTreeRegressor()),\n",
    "             ('RFR',RandomForestRegressor(n_estimators=100))]\n",
    "vtr = VotingRegressor(estimators=estimator)"
   ]
  },
  {
   "cell_type": "markdown",
   "id": "abdfae1c",
   "metadata": {},
   "source": [
    "#### Finding the best random_state"
   ]
  },
  {
   "cell_type": "code",
   "execution_count": 74,
   "id": "d5f9d403",
   "metadata": {},
   "outputs": [],
   "source": [
    "#User defined function for finding the best random state\n",
    "def best_ran(model):\n",
    "    maxacc = 0\n",
    "    maxrs = 0\n",
    "    print(model)\n",
    "    for i in range(1,100):\n",
    "        features_train, features_test,target_train,target_test= train_test_split(features,target,test_size = 0.20, random_state = i)\n",
    "        model.fit(features_train,target_train)\n",
    "        pred_test = model.predict(features_test)\n",
    "        acc = r2_score(target_test,pred_test)\n",
    "        if acc>maxacc:\n",
    "            maxacc = acc\n",
    "            maxrs = i\n",
    "    print(\"At random state \", maxrs, 'the model is having r2 score of ', maxacc)"
   ]
  },
  {
   "cell_type": "code",
   "execution_count": 75,
   "id": "0b96f65e",
   "metadata": {},
   "outputs": [],
   "source": [
    "#User defined Function for training and testing the model with best random state\n",
    "\n",
    "def mod_test(model, ran):\n",
    "    model\n",
    "    print(model)\n",
    "    features_train, features_test, target_train, target_test = train_test_split(features,target,test_size = 0.20, random_state = ran)\n",
    "    model.fit(features_train,target_train)\n",
    "    pred_test = model.predict(features_test)\n",
    "    acc = r2_score(target_test,pred_test)\n",
    "    mse = mean_squared_error(target_test,pred_test)\n",
    "    mae = mean_absolute_error(target_test,pred_test)\n",
    "    print(\"R2 score is \", acc)\n",
    "    print(\"_\"*50)\n",
    "    print(\"Mean Sqaured Error is \",mse)\n",
    "    print(\"_\"*50)\n",
    "    print(\"Mean Absolute Error is \",mae)\n",
    "    print(\"_\"*50)"
   ]
  },
  {
   "cell_type": "markdown",
   "id": "6c7ebea0",
   "metadata": {},
   "source": [
    "#### LinearRegression"
   ]
  },
  {
   "cell_type": "code",
   "execution_count": 76,
   "id": "02f92f70",
   "metadata": {},
   "outputs": [
    {
     "name": "stdout",
     "output_type": "stream",
     "text": [
      "LinearRegression()\n",
      "At random state  92 the model is having r2 score of  0.9513210747921346\n"
     ]
    }
   ],
   "source": [
    "best_ran(lr)"
   ]
  },
  {
   "cell_type": "code",
   "execution_count": 77,
   "id": "c08638f4",
   "metadata": {},
   "outputs": [
    {
     "name": "stdout",
     "output_type": "stream",
     "text": [
      "LinearRegression()\n",
      "R2 score is  0.9513210747921346\n",
      "__________________________________________________\n",
      "Mean Sqaured Error is  1.5035091494581527\n",
      "__________________________________________________\n",
      "Mean Absolute Error is  0.9442191134082922\n",
      "__________________________________________________\n",
      "Coefficent is  [0.04574448 0.18462495 0.07182418]\n",
      "__________________________________________________\n",
      "Intercept is  2.870859923041168\n",
      "__________________________________________________\n"
     ]
    }
   ],
   "source": [
    "mod_test(lr,92)\n",
    "print(\"Coefficent is \",lr.coef_)\n",
    "print(\"_\"*50)\n",
    "print(\"Intercept is \",lr.intercept_)\n",
    "print(\"_\"*50)"
   ]
  },
  {
   "cell_type": "markdown",
   "id": "74ba6e62",
   "metadata": {},
   "source": [
    "#### KNeighborsRegressor"
   ]
  },
  {
   "cell_type": "code",
   "execution_count": 78,
   "id": "94b2f017",
   "metadata": {},
   "outputs": [
    {
     "name": "stdout",
     "output_type": "stream",
     "text": [
      "KNeighborsRegressor()\n",
      "At random state  59 the model is having r2 score of  0.9819359552588437\n"
     ]
    }
   ],
   "source": [
    "best_ran(knn)"
   ]
  },
  {
   "cell_type": "code",
   "execution_count": 79,
   "id": "3bc24147",
   "metadata": {},
   "outputs": [
    {
     "name": "stdout",
     "output_type": "stream",
     "text": [
      "KNeighborsRegressor()\n",
      "R2 score is  0.9819359552588437\n",
      "__________________________________________________\n",
      "Mean Sqaured Error is  0.4926100000000001\n",
      "__________________________________________________\n",
      "Mean Absolute Error is  0.49350000000000005\n",
      "__________________________________________________\n"
     ]
    }
   ],
   "source": [
    "mod_test(knn,59)"
   ]
  },
  {
   "cell_type": "markdown",
   "id": "e27f596f",
   "metadata": {},
   "source": [
    "#### SVR"
   ]
  },
  {
   "cell_type": "code",
   "execution_count": 80,
   "id": "9c781b75",
   "metadata": {},
   "outputs": [
    {
     "name": "stdout",
     "output_type": "stream",
     "text": [
      "SVR()\n",
      "At random state  65 the model is having r2 score of  0.8947314810980579\n"
     ]
    }
   ],
   "source": [
    "best_ran(svr)"
   ]
  },
  {
   "cell_type": "code",
   "execution_count": 84,
   "id": "592487ea",
   "metadata": {},
   "outputs": [
    {
     "name": "stdout",
     "output_type": "stream",
     "text": [
      "SVR()\n",
      "R2 score is  0.8947314810980579\n",
      "__________________________________________________\n",
      "Mean Sqaured Error is  2.550169346094137\n",
      "__________________________________________________\n",
      "Mean Absolute Error is  1.1804076854457946\n",
      "__________________________________________________\n"
     ]
    }
   ],
   "source": [
    "mod_test(svr,65)"
   ]
  },
  {
   "cell_type": "markdown",
   "id": "5cd00c96",
   "metadata": {},
   "source": [
    "#### DecisionTreeRegressor"
   ]
  },
  {
   "cell_type": "code",
   "execution_count": 82,
   "id": "e5ac8556",
   "metadata": {},
   "outputs": [
    {
     "name": "stdout",
     "output_type": "stream",
     "text": [
      "DecisionTreeRegressor()\n",
      "At random state  20 the model is having r2 score of  0.9782263902781385\n"
     ]
    }
   ],
   "source": [
    "best_ran(dtr)"
   ]
  },
  {
   "cell_type": "code",
   "execution_count": 83,
   "id": "a8362780",
   "metadata": {},
   "outputs": [
    {
     "name": "stdout",
     "output_type": "stream",
     "text": [
      "DecisionTreeRegressor()\n",
      "R2 score is  0.9740056810331965\n",
      "__________________________________________________\n",
      "Mean Sqaured Error is  0.9407499999999998\n",
      "__________________________________________________\n",
      "Mean Absolute Error is  0.7575\n",
      "__________________________________________________\n"
     ]
    }
   ],
   "source": [
    "mod_test(dtr,20)"
   ]
  },
  {
   "cell_type": "markdown",
   "id": "2e0c800e",
   "metadata": {},
   "source": [
    "#### RandomForestRegressor"
   ]
  },
  {
   "cell_type": "code",
   "execution_count": 85,
   "id": "02906286",
   "metadata": {},
   "outputs": [
    {
     "name": "stdout",
     "output_type": "stream",
     "text": [
      "RandomForestRegressor()\n",
      "At random state  47 the model is having r2 score of  0.9897446688771164\n"
     ]
    }
   ],
   "source": [
    "best_ran(rfr)"
   ]
  },
  {
   "cell_type": "code",
   "execution_count": 86,
   "id": "ac16c980",
   "metadata": {},
   "outputs": [
    {
     "name": "stdout",
     "output_type": "stream",
     "text": [
      "RandomForestRegressor()\n",
      "R2 score is  0.9897188805423577\n",
      "__________________________________________________\n",
      "Mean Sqaured Error is  0.28978562500000227\n",
      "__________________________________________________\n",
      "Mean Absolute Error is  0.43462500000000065\n",
      "__________________________________________________\n"
     ]
    }
   ],
   "source": [
    "mod_test(rfr,47)"
   ]
  },
  {
   "cell_type": "markdown",
   "id": "ed451e66",
   "metadata": {},
   "source": [
    "#### AdaBoostRegressor"
   ]
  },
  {
   "cell_type": "code",
   "execution_count": 87,
   "id": "31dcaf7e",
   "metadata": {},
   "outputs": [
    {
     "name": "stdout",
     "output_type": "stream",
     "text": [
      "AdaBoostRegressor()\n",
      "At random state  69 the model is having r2 score of  0.9747558512757389\n"
     ]
    }
   ],
   "source": [
    "best_ran(abr)"
   ]
  },
  {
   "cell_type": "code",
   "execution_count": 89,
   "id": "21028c18",
   "metadata": {},
   "outputs": [
    {
     "name": "stdout",
     "output_type": "stream",
     "text": [
      "AdaBoostRegressor()\n",
      "R2 score is  0.9688087472905447\n",
      "__________________________________________________\n",
      "Mean Sqaured Error is  0.865041827236363\n",
      "__________________________________________________\n",
      "Mean Absolute Error is  0.7792919934987061\n",
      "__________________________________________________\n"
     ]
    }
   ],
   "source": [
    "mod_test(abr,69)"
   ]
  },
  {
   "cell_type": "markdown",
   "id": "14ee7825",
   "metadata": {},
   "source": [
    "#### GradientBoostingRegressor"
   ]
  },
  {
   "cell_type": "code",
   "execution_count": 88,
   "id": "a964bfb8",
   "metadata": {},
   "outputs": [
    {
     "name": "stdout",
     "output_type": "stream",
     "text": [
      "GradientBoostingRegressor()\n",
      "At random state  69 the model is having r2 score of  0.9910086578557963\n"
     ]
    }
   ],
   "source": [
    "best_ran(gbr)"
   ]
  },
  {
   "cell_type": "code",
   "execution_count": 90,
   "id": "32dd2d10",
   "metadata": {},
   "outputs": [
    {
     "name": "stdout",
     "output_type": "stream",
     "text": [
      "GradientBoostingRegressor()\n",
      "R2 score is  0.9910040237664303\n",
      "__________________________________________________\n",
      "Mean Sqaured Error is  0.2494896819743005\n",
      "__________________________________________________\n",
      "Mean Absolute Error is  0.38640922413830203\n",
      "__________________________________________________\n"
     ]
    }
   ],
   "source": [
    "mod_test(gbr,69)"
   ]
  },
  {
   "cell_type": "markdown",
   "id": "665c3219",
   "metadata": {},
   "source": [
    "#### VotingRegressor"
   ]
  },
  {
   "cell_type": "code",
   "execution_count": 91,
   "id": "e5bc8034",
   "metadata": {},
   "outputs": [
    {
     "name": "stdout",
     "output_type": "stream",
     "text": [
      "VotingRegressor(estimators=[('LR', LinearRegression()),\n",
      "                            ('KNN', KNeighborsRegressor()),\n",
      "                            ('SVR', SVR(gamma='auto')),\n",
      "                            ('DTR', DecisionTreeRegressor()),\n",
      "                            ('RFR', RandomForestRegressor())])\n",
      "At random state  38 the model is having r2 score of  0.9499122846003326\n"
     ]
    }
   ],
   "source": [
    "best_ran(vtr)"
   ]
  },
  {
   "cell_type": "code",
   "execution_count": 92,
   "id": "8a759edd",
   "metadata": {},
   "outputs": [
    {
     "name": "stdout",
     "output_type": "stream",
     "text": [
      "VotingRegressor(estimators=[('LR', LinearRegression()),\n",
      "                            ('KNN', KNeighborsRegressor()),\n",
      "                            ('SVR', SVR(gamma='auto')),\n",
      "                            ('DTR', DecisionTreeRegressor()),\n",
      "                            ('RFR', RandomForestRegressor())])\n",
      "R2 score is  0.9501569107293886\n",
      "__________________________________________________\n",
      "Mean Sqaured Error is  0.8844207603266565\n",
      "__________________________________________________\n",
      "Mean Absolute Error is  0.7507077483562066\n",
      "__________________________________________________\n"
     ]
    }
   ],
   "source": [
    "mod_test(vtr,38)"
   ]
  },
  {
   "cell_type": "markdown",
   "id": "b4dc887d",
   "metadata": {},
   "source": [
    "From the above observations, the ensemble method GradientBoosting Regressor(gbr) is performing well with R2 Score of 99.1% and mean squared error of 0.25 and mean absolute error of 0.39. Now we can cross validate the models to identify the model that performs well with cross validation.`"
   ]
  },
  {
   "cell_type": "markdown",
   "id": "e246dd33",
   "metadata": {},
   "source": [
    "### Cross Validation"
   ]
  },
  {
   "cell_type": "code",
   "execution_count": 93,
   "id": "c9c28403",
   "metadata": {},
   "outputs": [],
   "source": [
    "#User defined function for checking cross validation for each model\n",
    "from sklearn.model_selection import cross_val_score\n",
    "\n",
    "def cross_val(model,ran):    #ran = random_state\n",
    "    cv_mean = 0\n",
    "    cv_fold = 0\n",
    "    features_train, features_test, target_train, target_test = train_test_split(features,target,test_size = 0.20, random_state = ran)\n",
    "    model.fit(features_train,target_train)\n",
    "    pred_test = model.predict(features_test)\n",
    "    for j in range(2,10):\n",
    "        cv_score = cross_val_score(model,features, target, cv = j)\n",
    "        a =cv_score.mean()\n",
    "        if a>cv_mean:\n",
    "            cv_mean = a\n",
    "            cv_fold = j\n",
    "    print(model)\n",
    "    print(\"At cv fold\",cv_fold,\" the cv score is \", cv_mean, \"and the R2 score  is \",r2_score(target_test,pred_test))"
   ]
  },
  {
   "cell_type": "markdown",
   "id": "2c8277c9",
   "metadata": {},
   "source": [
    "#### LinearRegression"
   ]
  },
  {
   "cell_type": "code",
   "execution_count": 94,
   "id": "e26590c7",
   "metadata": {},
   "outputs": [
    {
     "name": "stdout",
     "output_type": "stream",
     "text": [
      "LinearRegression()\n",
      "At cv fold 2  the cv score is  0.8917673193313229 and the R2 score  is  0.9513210747921346\n"
     ]
    }
   ],
   "source": [
    "cross_val(lr,92)"
   ]
  },
  {
   "cell_type": "markdown",
   "id": "d73eae16",
   "metadata": {},
   "source": [
    "#### KNeighborsRegressor"
   ]
  },
  {
   "cell_type": "code",
   "execution_count": 95,
   "id": "b97eca1d",
   "metadata": {},
   "outputs": [
    {
     "name": "stdout",
     "output_type": "stream",
     "text": [
      "KNeighborsRegressor()\n",
      "At cv fold 9  the cv score is  0.9574638757447064 and the R2 score  is  0.9819359552588437\n"
     ]
    }
   ],
   "source": [
    "cross_val(knn,59)"
   ]
  },
  {
   "cell_type": "markdown",
   "id": "d6ec7ef4",
   "metadata": {},
   "source": [
    "#### SVR"
   ]
  },
  {
   "cell_type": "code",
   "execution_count": 96,
   "id": "20302b18",
   "metadata": {},
   "outputs": [
    {
     "name": "stdout",
     "output_type": "stream",
     "text": [
      "SVR()\n",
      "At cv fold 9  the cv score is  0.8479967537301291 and the R2 score  is  0.8947314810980579\n"
     ]
    }
   ],
   "source": [
    "cross_val(svr,65)"
   ]
  },
  {
   "cell_type": "markdown",
   "id": "b1f784bb",
   "metadata": {},
   "source": [
    "#### DecisionTreeRegressor"
   ]
  },
  {
   "cell_type": "code",
   "execution_count": 97,
   "id": "86707842",
   "metadata": {},
   "outputs": [
    {
     "name": "stdout",
     "output_type": "stream",
     "text": [
      "DecisionTreeRegressor()\n",
      "At cv fold 5  the cv score is  0.9567644784716574 and the R2 score  is  0.9759122534580803\n"
     ]
    }
   ],
   "source": [
    "cross_val(dtr,20)"
   ]
  },
  {
   "cell_type": "markdown",
   "id": "a0a7102e",
   "metadata": {},
   "source": [
    "#### RandomForestRegressor"
   ]
  },
  {
   "cell_type": "code",
   "execution_count": 98,
   "id": "ff1ac56f",
   "metadata": {},
   "outputs": [
    {
     "name": "stdout",
     "output_type": "stream",
     "text": [
      "RandomForestRegressor()\n",
      "At cv fold 4  the cv score is  0.9782323455289749 and the R2 score  is  0.9899962486066427\n"
     ]
    }
   ],
   "source": [
    "cross_val(rfr,47)"
   ]
  },
  {
   "cell_type": "markdown",
   "id": "6249b879",
   "metadata": {},
   "source": [
    "#### AdaBoostRegressor"
   ]
  },
  {
   "cell_type": "code",
   "execution_count": 99,
   "id": "6339e5a4",
   "metadata": {},
   "outputs": [
    {
     "name": "stdout",
     "output_type": "stream",
     "text": [
      "AdaBoostRegressor()\n",
      "At cv fold 6  the cv score is  0.9585603392028753 and the R2 score  is  0.9702546842287997\n"
     ]
    }
   ],
   "source": [
    "cross_val(abr,69)"
   ]
  },
  {
   "cell_type": "markdown",
   "id": "ddb0d696",
   "metadata": {},
   "source": [
    "#### GradientBoostingRegressor"
   ]
  },
  {
   "cell_type": "code",
   "execution_count": 100,
   "id": "fc91f3e0",
   "metadata": {},
   "outputs": [
    {
     "name": "stdout",
     "output_type": "stream",
     "text": [
      "GradientBoostingRegressor()\n",
      "At cv fold 8  the cv score is  0.9793482400496488 and the R2 score  is  0.9910060025909112\n"
     ]
    }
   ],
   "source": [
    "cross_val(gbr,69)"
   ]
  },
  {
   "cell_type": "markdown",
   "id": "da7d74fe",
   "metadata": {},
   "source": [
    "#### VotingRegressor"
   ]
  },
  {
   "cell_type": "code",
   "execution_count": 101,
   "id": "8f98d3c2",
   "metadata": {},
   "outputs": [
    {
     "name": "stdout",
     "output_type": "stream",
     "text": [
      "VotingRegressor(estimators=[('LR', LinearRegression()),\n",
      "                            ('KNN', KNeighborsRegressor()),\n",
      "                            ('SVR', SVR(gamma='auto')),\n",
      "                            ('DTR', DecisionTreeRegressor()),\n",
      "                            ('RFR', RandomForestRegressor())])\n",
      "At cv fold 9  the cv score is  0.9185098684523731 and the R2 score  is  0.94775124606532\n"
     ]
    }
   ],
   "source": [
    "cross_val(vtr,38)"
   ]
  },
  {
   "cell_type": "markdown",
   "id": "5223baf8",
   "metadata": {},
   "source": [
    "### After the cross validation of models, the Gradient Bossting Regressor is performing well with cross validation and providing the maximum R2 Score of 99.1% and cross validation mean score of 97.9%. So we can select this model as the best model and proceed with the further steps."
   ]
  },
  {
   "cell_type": "code",
   "execution_count": 104,
   "id": "7b16aa36",
   "metadata": {},
   "outputs": [
    {
     "name": "stdout",
     "output_type": "stream",
     "text": [
      "At cv fold 7  the cv score is  0.9792964074639121 and the R2 score  is  0.9910049002416129\n"
     ]
    }
   ],
   "source": [
    "gbr = GradientBoostingRegressor()\n",
    "features_train, features_test,target_train,target_test= train_test_split(features,target,test_size = 0.20, random_state = 69)\n",
    "gbr.fit(features_train, target_train)\n",
    "pred_test = gbr.predict(features_test)\n",
    "\n",
    "cv_score = cross_val_score(gbr,features, target, cv = 8)\n",
    "cv_mean =cv_score.mean()\n",
    "print(\"At cv fold\",7,\" the cv score is \", cv_mean, \"and the R2 score  is \",r2_score(target_test,pred_test))"
   ]
  },
  {
   "cell_type": "markdown",
   "id": "3941a6e4",
   "metadata": {},
   "source": [
    "### Regularization"
   ]
  },
  {
   "cell_type": "code",
   "execution_count": 102,
   "id": "6fc36237",
   "metadata": {},
   "outputs": [],
   "source": [
    "from sklearn.model_selection import GridSearchCV\n",
    "from sklearn.linear_model import Lasso\n",
    "parameters = {'alpha':[0.0001,0.001,0.01,0.1,1],'random_state':list(range(0,10))}"
   ]
  },
  {
   "cell_type": "markdown",
   "id": "ae078295",
   "metadata": {},
   "source": [
    "### Lasso(L1)"
   ]
  },
  {
   "cell_type": "code",
   "execution_count": 105,
   "id": "b9ccb723",
   "metadata": {},
   "outputs": [
    {
     "name": "stdout",
     "output_type": "stream",
     "text": [
      "{'alpha': 1, 'random_state': 0}\n"
     ]
    }
   ],
   "source": [
    "ls = Lasso()\n",
    "clf = GridSearchCV(ls,parameters)\n",
    "clf.fit(features_train,target_train)\n",
    "\n",
    "print(clf.best_params_)"
   ]
  },
  {
   "cell_type": "code",
   "execution_count": 106,
   "id": "5e581c79",
   "metadata": {},
   "outputs": [
    {
     "data": {
      "text/plain": [
       "0.9210594589378784"
      ]
     },
     "execution_count": 106,
     "metadata": {},
     "output_type": "execute_result"
    }
   ],
   "source": [
    "ls = Lasso(alpha = 1, random_state = 0)\n",
    "ls.fit(features_train,target_train)\n",
    "pred_ls = ls.predict(features_test)\n",
    "\n",
    "lss = r2_score(target_test,pred_ls)\n",
    "lss"
   ]
  },
  {
   "cell_type": "code",
   "execution_count": 107,
   "id": "b7a917d1",
   "metadata": {},
   "outputs": [
    {
     "name": "stdout",
     "output_type": "stream",
     "text": [
      "Lasso(alpha=1, random_state=0)\n",
      "At cv fold 2  the cv score is  0.8937014317149475 and the R2 score  is  0.8621911853715882\n"
     ]
    }
   ],
   "source": [
    "cross_val(ls,0)"
   ]
  },
  {
   "cell_type": "markdown",
   "id": "ab273c62",
   "metadata": {},
   "source": [
    "### Ridge(L2)"
   ]
  },
  {
   "cell_type": "code",
   "execution_count": 108,
   "id": "87712660",
   "metadata": {},
   "outputs": [
    {
     "name": "stdout",
     "output_type": "stream",
     "text": [
      "{'alpha': 1, 'random_state': 0}\n"
     ]
    }
   ],
   "source": [
    "rd = Ridge()\n",
    "clf = GridSearchCV(rd,parameters)\n",
    "clf.fit(features_train,target_train)\n",
    "\n",
    "print(clf.best_params_)"
   ]
  },
  {
   "cell_type": "code",
   "execution_count": 109,
   "id": "045cb4e2",
   "metadata": {},
   "outputs": [
    {
     "data": {
      "text/plain": [
       "0.9225616210233731"
      ]
     },
     "execution_count": 109,
     "metadata": {},
     "output_type": "execute_result"
    }
   ],
   "source": [
    "rd = Ridge(alpha = 1,random_state=0)\n",
    "rd.fit(features_train,target_train)\n",
    "pred_rd = rd.predict(features_test)\n",
    "\n",
    "rds = r2_score(target_test,pred_rd)\n",
    "rds"
   ]
  },
  {
   "cell_type": "code",
   "execution_count": 110,
   "id": "52590c92",
   "metadata": {},
   "outputs": [
    {
     "name": "stdout",
     "output_type": "stream",
     "text": [
      "Ridge(alpha=1, random_state=0)\n",
      "At cv fold 2  the cv score is  0.8918076973756942 and the R2 score  is  0.8598421388582057\n"
     ]
    }
   ],
   "source": [
    "cross_val(rd,0)"
   ]
  },
  {
   "cell_type": "markdown",
   "id": "73e4e372",
   "metadata": {},
   "source": [
    "### ElasticNet"
   ]
  },
  {
   "cell_type": "code",
   "execution_count": 111,
   "id": "d9379a99",
   "metadata": {},
   "outputs": [
    {
     "name": "stdout",
     "output_type": "stream",
     "text": [
      "{'alpha': 1, 'random_state': 0}\n"
     ]
    }
   ],
   "source": [
    "en = ElasticNet()\n",
    "clf = GridSearchCV(en,parameters)\n",
    "clf.fit(features_train, target_train)\n",
    "\n",
    "print(clf.best_params_)"
   ]
  },
  {
   "cell_type": "code",
   "execution_count": 112,
   "id": "f2f45542",
   "metadata": {},
   "outputs": [
    {
     "data": {
      "text/plain": [
       "0.9223924610201923"
      ]
     },
     "execution_count": 112,
     "metadata": {},
     "output_type": "execute_result"
    }
   ],
   "source": [
    "en = ElasticNet(alpha = 1, random_state = 0)\n",
    "en.fit(features_train,target_train)\n",
    "pred_en = en.predict(features_test)\n",
    "\n",
    "ens = r2_score(target_test,pred_en)\n",
    "ens"
   ]
  },
  {
   "cell_type": "code",
   "execution_count": 113,
   "id": "97b6bc6d",
   "metadata": {},
   "outputs": [
    {
     "name": "stdout",
     "output_type": "stream",
     "text": [
      "ElasticNet(alpha=1, random_state=0)\n",
      "At cv fold 2  the cv score is  0.8939560799403214 and the R2 score  is  0.861559425785135\n"
     ]
    }
   ],
   "source": [
    "cross_val(en,0)"
   ]
  },
  {
   "cell_type": "markdown",
   "id": "fab94f69",
   "metadata": {},
   "source": [
    "The regularization techniques didn't provide much better results. So we can stick to the Gradient Boosting Regressor(gbr) model since it is performing well with all the tests."
   ]
  },
  {
   "cell_type": "markdown",
   "id": "9bc4e580",
   "metadata": {},
   "source": [
    "### Hyper Parameter Tuning"
   ]
  },
  {
   "cell_type": "code",
   "execution_count": 117,
   "id": "92b7d3c7",
   "metadata": {},
   "outputs": [],
   "source": [
    "parameters = {'loss':['squared_error', 'absolute_error','huber','quantile'],\n",
    "             'learning_rate':[0.1,0.2,0.3],\n",
    "             'n_estimators' : [100,200],\n",
    "             'criterion':['friedman_mse', 'squared_error','mae']}\n",
    "grid = GridSearchCV(estimator=GradientBoostingRegressor(),param_grid=parameters,cv = 8)"
   ]
  },
  {
   "cell_type": "code",
   "execution_count": 118,
   "id": "b20fa860",
   "metadata": {},
   "outputs": [
    {
     "data": {
      "text/plain": [
       "0.9799382455690824"
      ]
     },
     "execution_count": 118,
     "metadata": {},
     "output_type": "execute_result"
    }
   ],
   "source": [
    "grid.fit(features,target)\n",
    "grid.best_score_"
   ]
  },
  {
   "cell_type": "code",
   "execution_count": 116,
   "id": "86b737a4",
   "metadata": {},
   "outputs": [
    {
     "data": {
      "text/plain": [
       "{'criterion': 'squared_error',\n",
       " 'learning_rate': 0.1,\n",
       " 'loss': 'huber',\n",
       " 'n_estimators': 200}"
      ]
     },
     "execution_count": 116,
     "metadata": {},
     "output_type": "execute_result"
    }
   ],
   "source": [
    "grid.best_params_"
   ]
  },
  {
   "cell_type": "code",
   "execution_count": 119,
   "id": "0b4e6325",
   "metadata": {},
   "outputs": [
    {
     "name": "stdout",
     "output_type": "stream",
     "text": [
      "R2 Score 0.9913110743789312\n",
      "Mean Squared Error 0.24097410148877296\n",
      "Mean Absolute Error 0.387654315089219\n"
     ]
    }
   ],
   "source": [
    "gbr = GradientBoostingRegressor(criterion = 'squared_error',learning_rate= 0.1,loss= 'huber',n_estimators=200)\n",
    "features_train, features_test,target_train,target_test= train_test_split(features,target,test_size = 0.20, random_state = 69)\n",
    "gbr.fit(features_train, target_train)\n",
    "pred_test = gbr.predict(features_test)\n",
    "\n",
    "print('R2 Score',r2_score(target_test,pred_test))\n",
    "print('Mean Squared Error',mean_squared_error(target_test,pred_test))\n",
    "print('Mean Absolute Error',mean_absolute_error(target_test,pred_test))"
   ]
  },
  {
   "cell_type": "code",
   "execution_count": 120,
   "id": "f02c6723",
   "metadata": {},
   "outputs": [
    {
     "name": "stdout",
     "output_type": "stream",
     "text": [
      "GradientBoostingRegressor(criterion='squared_error', loss='huber',\n",
      "                          n_estimators=200)\n",
      "At cv fold 6  the cv score is  0.9786908107709338 and the R2 score  is  0.9912868678465299\n"
     ]
    }
   ],
   "source": [
    "cross_val(gbr,69)"
   ]
  },
  {
   "cell_type": "markdown",
   "id": "112d08f2",
   "metadata": {},
   "source": [
    "The R2 Score have been slightly improved with hyper parameter tuning."
   ]
  },
  {
   "cell_type": "markdown",
   "id": "ba85d25c",
   "metadata": {},
   "source": [
    "### After all the tests and tunings, our model gbr() is performing good with R2 Score of 99.13% with a mean squared error of 0.24 and mean absolute error of 0.39 with GradientBoostingRegressor Algorithm."
   ]
  },
  {
   "cell_type": "markdown",
   "id": "5bd39146",
   "metadata": {},
   "source": [
    "### Conclusion"
   ]
  },
  {
   "cell_type": "code",
   "execution_count": 121,
   "id": "fc84849b",
   "metadata": {},
   "outputs": [],
   "source": [
    "import pickle\n",
    "filename = 'Advertising Sales Channel Prediction Model.pkl'\n",
    "pickle.dump(gbr,open(filename,'wb'))"
   ]
  },
  {
   "cell_type": "code",
   "execution_count": 127,
   "id": "80d3c32a",
   "metadata": {},
   "outputs": [
    {
     "data": {
      "text/html": [
       "<div>\n",
       "<style scoped>\n",
       "    .dataframe tbody tr th:only-of-type {\n",
       "        vertical-align: middle;\n",
       "    }\n",
       "\n",
       "    .dataframe tbody tr th {\n",
       "        vertical-align: top;\n",
       "    }\n",
       "\n",
       "    .dataframe thead th {\n",
       "        text-align: right;\n",
       "    }\n",
       "</style>\n",
       "<table border=\"1\" class=\"dataframe\">\n",
       "  <thead>\n",
       "    <tr style=\"text-align: right;\">\n",
       "      <th></th>\n",
       "      <th>Original Value (sales)</th>\n",
       "      <th>Predicted Value (sales)</th>\n",
       "    </tr>\n",
       "  </thead>\n",
       "  <tbody>\n",
       "    <tr>\n",
       "      <th>2</th>\n",
       "      <td>11.8</td>\n",
       "      <td>12.04</td>\n",
       "    </tr>\n",
       "    <tr>\n",
       "      <th>25</th>\n",
       "      <td>19.4</td>\n",
       "      <td>19.53</td>\n",
       "    </tr>\n",
       "    <tr>\n",
       "      <th>28</th>\n",
       "      <td>23.8</td>\n",
       "      <td>22.98</td>\n",
       "    </tr>\n",
       "    <tr>\n",
       "      <th>20</th>\n",
       "      <td>12.3</td>\n",
       "      <td>12.57</td>\n",
       "    </tr>\n",
       "    <tr>\n",
       "      <th>30</th>\n",
       "      <td>18.4</td>\n",
       "      <td>19.02</td>\n",
       "    </tr>\n",
       "    <tr>\n",
       "      <th>6</th>\n",
       "      <td>10.6</td>\n",
       "      <td>10.32</td>\n",
       "    </tr>\n",
       "    <tr>\n",
       "      <th>11</th>\n",
       "      <td>15.7</td>\n",
       "      <td>15.24</td>\n",
       "    </tr>\n",
       "    <tr>\n",
       "      <th>36</th>\n",
       "      <td>12.5</td>\n",
       "      <td>12.53</td>\n",
       "    </tr>\n",
       "    <tr>\n",
       "      <th>14</th>\n",
       "      <td>15.5</td>\n",
       "      <td>15.53</td>\n",
       "    </tr>\n",
       "    <tr>\n",
       "      <th>4</th>\n",
       "      <td>12.0</td>\n",
       "      <td>11.88</td>\n",
       "    </tr>\n",
       "    <tr>\n",
       "      <th>24</th>\n",
       "      <td>19.0</td>\n",
       "      <td>19.08</td>\n",
       "    </tr>\n",
       "    <tr>\n",
       "      <th>39</th>\n",
       "      <td>21.7</td>\n",
       "      <td>21.96</td>\n",
       "    </tr>\n",
       "    <tr>\n",
       "      <th>29</th>\n",
       "      <td>15.0</td>\n",
       "      <td>16.03</td>\n",
       "    </tr>\n",
       "    <tr>\n",
       "      <th>33</th>\n",
       "      <td>11.0</td>\n",
       "      <td>11.17</td>\n",
       "    </tr>\n",
       "    <tr>\n",
       "      <th>9</th>\n",
       "      <td>23.8</td>\n",
       "      <td>23.25</td>\n",
       "    </tr>\n",
       "    <tr>\n",
       "      <th>19</th>\n",
       "      <td>20.8</td>\n",
       "      <td>21.38</td>\n",
       "    </tr>\n",
       "    <tr>\n",
       "      <th>5</th>\n",
       "      <td>15.9</td>\n",
       "      <td>16.41</td>\n",
       "    </tr>\n",
       "    <tr>\n",
       "      <th>22</th>\n",
       "      <td>12.9</td>\n",
       "      <td>13.30</td>\n",
       "    </tr>\n",
       "    <tr>\n",
       "      <th>10</th>\n",
       "      <td>11.9</td>\n",
       "      <td>12.63</td>\n",
       "    </tr>\n",
       "    <tr>\n",
       "      <th>18</th>\n",
       "      <td>18.9</td>\n",
       "      <td>19.63</td>\n",
       "    </tr>\n",
       "  </tbody>\n",
       "</table>\n",
       "</div>"
      ],
      "text/plain": [
       "    Original Value (sales)  Predicted Value (sales)\n",
       "2                     11.8                    12.04\n",
       "25                    19.4                    19.53\n",
       "28                    23.8                    22.98\n",
       "20                    12.3                    12.57\n",
       "30                    18.4                    19.02\n",
       "6                     10.6                    10.32\n",
       "11                    15.7                    15.24\n",
       "36                    12.5                    12.53\n",
       "14                    15.5                    15.53\n",
       "4                     12.0                    11.88\n",
       "24                    19.0                    19.08\n",
       "39                    21.7                    21.96\n",
       "29                    15.0                    16.03\n",
       "33                    11.0                    11.17\n",
       "9                     23.8                    23.25\n",
       "19                    20.8                    21.38\n",
       "5                     15.9                    16.41\n",
       "22                    12.9                    13.30\n",
       "10                    11.9                    12.63\n",
       "18                    18.9                    19.63"
      ]
     },
     "execution_count": 127,
     "metadata": {},
     "output_type": "execute_result"
    }
   ],
   "source": [
    "original = np.array(target_test)\n",
    "predicted = np.round(np.array(gbr.predict(features_test)),2)\n",
    "\n",
    "prediction_test = pd.DataFrame({'Original Value (sales)':original,'Predicted Value (sales)':predicted})\n",
    "prediction_test.sample(20)"
   ]
  },
  {
   "cell_type": "markdown",
   "id": "239fce4c",
   "metadata": {},
   "source": [
    "### We were able to predict the total sales generated from advertising through channels such as 'TV','radio' and 'newspaper' with an accuracy(R2 score) of 99.13%. Our model is performing well with the predictions. "
   ]
  },
  {
   "cell_type": "code",
   "execution_count": null,
   "id": "5b3ebff2",
   "metadata": {},
   "outputs": [],
   "source": []
  }
 ],
 "metadata": {
  "kernelspec": {
   "display_name": "Python 3",
   "language": "python",
   "name": "python3"
  },
  "language_info": {
   "codemirror_mode": {
    "name": "ipython",
    "version": 3
   },
   "file_extension": ".py",
   "mimetype": "text/x-python",
   "name": "python",
   "nbconvert_exporter": "python",
   "pygments_lexer": "ipython3",
   "version": "3.8.8"
  }
 },
 "nbformat": 4,
 "nbformat_minor": 5
}
