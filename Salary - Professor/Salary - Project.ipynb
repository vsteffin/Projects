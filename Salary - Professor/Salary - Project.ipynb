{
 "cells": [
  {
   "cell_type": "markdown",
   "id": "eb5547bb",
   "metadata": {},
   "source": [
    "### Salary - Project"
   ]
  },
  {
   "cell_type": "markdown",
   "id": "a1b0392c",
   "metadata": {},
   "source": [
    "### Predict the salary if the employee using the features provided in the data. "
   ]
  },
  {
   "cell_type": "markdown",
   "id": "ec4ce150",
   "metadata": {},
   "source": [
    "#### Loading the dataset"
   ]
  },
  {
   "cell_type": "code",
   "execution_count": 1,
   "id": "c82ab7ba",
   "metadata": {},
   "outputs": [
    {
     "data": {
      "text/html": [
       "<div>\n",
       "<style scoped>\n",
       "    .dataframe tbody tr th:only-of-type {\n",
       "        vertical-align: middle;\n",
       "    }\n",
       "\n",
       "    .dataframe tbody tr th {\n",
       "        vertical-align: top;\n",
       "    }\n",
       "\n",
       "    .dataframe thead th {\n",
       "        text-align: right;\n",
       "    }\n",
       "</style>\n",
       "<table border=\"1\" class=\"dataframe\">\n",
       "  <thead>\n",
       "    <tr style=\"text-align: right;\">\n",
       "      <th></th>\n",
       "      <th>rank</th>\n",
       "      <th>discipline</th>\n",
       "      <th>yrs.since.phd</th>\n",
       "      <th>yrs.service</th>\n",
       "      <th>sex</th>\n",
       "      <th>salary</th>\n",
       "    </tr>\n",
       "  </thead>\n",
       "  <tbody>\n",
       "    <tr>\n",
       "      <th>0</th>\n",
       "      <td>Prof</td>\n",
       "      <td>B</td>\n",
       "      <td>19</td>\n",
       "      <td>18</td>\n",
       "      <td>Male</td>\n",
       "      <td>139750</td>\n",
       "    </tr>\n",
       "    <tr>\n",
       "      <th>1</th>\n",
       "      <td>Prof</td>\n",
       "      <td>B</td>\n",
       "      <td>20</td>\n",
       "      <td>16</td>\n",
       "      <td>Male</td>\n",
       "      <td>173200</td>\n",
       "    </tr>\n",
       "    <tr>\n",
       "      <th>2</th>\n",
       "      <td>AsstProf</td>\n",
       "      <td>B</td>\n",
       "      <td>4</td>\n",
       "      <td>3</td>\n",
       "      <td>Male</td>\n",
       "      <td>79750</td>\n",
       "    </tr>\n",
       "    <tr>\n",
       "      <th>3</th>\n",
       "      <td>Prof</td>\n",
       "      <td>B</td>\n",
       "      <td>45</td>\n",
       "      <td>39</td>\n",
       "      <td>Male</td>\n",
       "      <td>115000</td>\n",
       "    </tr>\n",
       "    <tr>\n",
       "      <th>4</th>\n",
       "      <td>Prof</td>\n",
       "      <td>B</td>\n",
       "      <td>40</td>\n",
       "      <td>41</td>\n",
       "      <td>Male</td>\n",
       "      <td>141500</td>\n",
       "    </tr>\n",
       "    <tr>\n",
       "      <th>...</th>\n",
       "      <td>...</td>\n",
       "      <td>...</td>\n",
       "      <td>...</td>\n",
       "      <td>...</td>\n",
       "      <td>...</td>\n",
       "      <td>...</td>\n",
       "    </tr>\n",
       "    <tr>\n",
       "      <th>392</th>\n",
       "      <td>Prof</td>\n",
       "      <td>A</td>\n",
       "      <td>33</td>\n",
       "      <td>30</td>\n",
       "      <td>Male</td>\n",
       "      <td>103106</td>\n",
       "    </tr>\n",
       "    <tr>\n",
       "      <th>393</th>\n",
       "      <td>Prof</td>\n",
       "      <td>A</td>\n",
       "      <td>31</td>\n",
       "      <td>19</td>\n",
       "      <td>Male</td>\n",
       "      <td>150564</td>\n",
       "    </tr>\n",
       "    <tr>\n",
       "      <th>394</th>\n",
       "      <td>Prof</td>\n",
       "      <td>A</td>\n",
       "      <td>42</td>\n",
       "      <td>25</td>\n",
       "      <td>Male</td>\n",
       "      <td>101738</td>\n",
       "    </tr>\n",
       "    <tr>\n",
       "      <th>395</th>\n",
       "      <td>Prof</td>\n",
       "      <td>A</td>\n",
       "      <td>25</td>\n",
       "      <td>15</td>\n",
       "      <td>Male</td>\n",
       "      <td>95329</td>\n",
       "    </tr>\n",
       "    <tr>\n",
       "      <th>396</th>\n",
       "      <td>AsstProf</td>\n",
       "      <td>A</td>\n",
       "      <td>8</td>\n",
       "      <td>4</td>\n",
       "      <td>Male</td>\n",
       "      <td>81035</td>\n",
       "    </tr>\n",
       "  </tbody>\n",
       "</table>\n",
       "<p>397 rows × 6 columns</p>\n",
       "</div>"
      ],
      "text/plain": [
       "         rank discipline  yrs.since.phd  yrs.service   sex  salary\n",
       "0        Prof          B             19           18  Male  139750\n",
       "1        Prof          B             20           16  Male  173200\n",
       "2    AsstProf          B              4            3  Male   79750\n",
       "3        Prof          B             45           39  Male  115000\n",
       "4        Prof          B             40           41  Male  141500\n",
       "..        ...        ...            ...          ...   ...     ...\n",
       "392      Prof          A             33           30  Male  103106\n",
       "393      Prof          A             31           19  Male  150564\n",
       "394      Prof          A             42           25  Male  101738\n",
       "395      Prof          A             25           15  Male   95329\n",
       "396  AsstProf          A              8            4  Male   81035\n",
       "\n",
       "[397 rows x 6 columns]"
      ]
     },
     "execution_count": 1,
     "metadata": {},
     "output_type": "execute_result"
    }
   ],
   "source": [
    "import pandas as pd\n",
    "import warnings\n",
    "warnings.filterwarnings('ignore')\n",
    "\n",
    "df = pd.read_csv('Salaries.csv')\n",
    "df"
   ]
  },
  {
   "cell_type": "code",
   "execution_count": 2,
   "id": "da090f03",
   "metadata": {},
   "outputs": [
    {
     "data": {
      "text/plain": [
       "Index(['rank', 'discipline', 'yrs.since.phd', 'yrs.service', 'sex', 'salary'], dtype='object')"
      ]
     },
     "execution_count": 2,
     "metadata": {},
     "output_type": "execute_result"
    }
   ],
   "source": [
    "df.columns"
   ]
  },
  {
   "cell_type": "markdown",
   "id": "3eca6f9d",
   "metadata": {},
   "source": [
    "### About the Columns"
   ]
  },
  {
   "cell_type": "markdown",
   "id": "733c8a5c",
   "metadata": {},
   "source": [
    "1. rank\n",
    "\n",
    "It shows the position or designation of the employee.\n",
    "\n",
    "2. discipline\n",
    "\n",
    "It show the decipline to which the employee belongs to.\n",
    "\n",
    "3. yrs.since.phd\n",
    "\n",
    "It shows the number of years since the employee completed PHD.\n",
    "\n",
    "4. yrs.service\n",
    "\n",
    "It shows the number of years of experience of employee in the service.\n",
    "\n",
    "5. sex\n",
    "\n",
    "It says about the gender of the employee\n",
    "\n",
    "6. salary\n",
    "\n",
    "It shows the salary of the employee. It is calculated from the factors of rest of the columns. It is the Target column."
   ]
  },
  {
   "cell_type": "markdown",
   "id": "58f77362",
   "metadata": {},
   "source": [
    "### Checking whether there are any null values"
   ]
  },
  {
   "cell_type": "code",
   "execution_count": 3,
   "id": "3a33ed15",
   "metadata": {},
   "outputs": [
    {
     "data": {
      "text/plain": [
       "rank             0\n",
       "discipline       0\n",
       "yrs.since.phd    0\n",
       "yrs.service      0\n",
       "sex              0\n",
       "salary           0\n",
       "dtype: int64"
      ]
     },
     "execution_count": 3,
     "metadata": {},
     "output_type": "execute_result"
    }
   ],
   "source": [
    "df.isnull().sum()"
   ]
  },
  {
   "cell_type": "code",
   "execution_count": 4,
   "id": "4ce698af",
   "metadata": {},
   "outputs": [
    {
     "data": {
      "text/plain": [
       "<AxesSubplot:>"
      ]
     },
     "execution_count": 4,
     "metadata": {},
     "output_type": "execute_result"
    },
    {
     "data": {
      "image/png": "[encoded data removed]",
      "text/plain": [
       "<Figure size 432x288 with 2 Axes>"
      ]
     },
     "metadata": {
      "needs_background": "light"
     },
     "output_type": "display_data"
    }
   ],
   "source": [
    "import matplotlib.pyplot as plt\n",
    "import seaborn as sns\n",
    "\n",
    "sns.heatmap(df.isnull())"
   ]
  },
  {
   "cell_type": "markdown",
   "id": "5199f5b4",
   "metadata": {},
   "source": [
    "There is no null values in the dataset"
   ]
  },
  {
   "cell_type": "markdown",
   "id": "755c856c",
   "metadata": {},
   "source": [
    "### Analysing the Type of values in dataset"
   ]
  },
  {
   "cell_type": "code",
   "execution_count": 5,
   "id": "ebae991f",
   "metadata": {},
   "outputs": [
    {
     "data": {
      "text/plain": [
       "rank             object\n",
       "discipline       object\n",
       "yrs.since.phd     int64\n",
       "yrs.service       int64\n",
       "sex              object\n",
       "salary            int64\n",
       "dtype: object"
      ]
     },
     "execution_count": 5,
     "metadata": {},
     "output_type": "execute_result"
    }
   ],
   "source": [
    "df.dtypes"
   ]
  },
  {
   "cell_type": "markdown",
   "id": "efc3ba70",
   "metadata": {},
   "source": [
    "The columns ['rank','discipline','sex'] are having categorical data and columns ['yrs.since.phd','yrs.service','salary'] are having numerical values."
   ]
  },
  {
   "cell_type": "markdown",
   "id": "86ef8364",
   "metadata": {},
   "source": [
    "### EDA"
   ]
  },
  {
   "cell_type": "markdown",
   "id": "5e3c1bc3",
   "metadata": {},
   "source": [
    "#### Countplot"
   ]
  },
  {
   "cell_type": "code",
   "execution_count": 6,
   "id": "b5f80548",
   "metadata": {},
   "outputs": [
    {
     "name": "stdout",
     "output_type": "stream",
     "text": [
      "Prof         266\n",
      "AsstProf      67\n",
      "AssocProf     64\n",
      "Name: rank, dtype: int64\n"
     ]
    },
    {
     "data": {
      "image/png": "[encoded data removed]",
      "text/plain": [
       "<Figure size 432x288 with 1 Axes>"
      ]
     },
     "metadata": {
      "needs_background": "light"
     },
     "output_type": "display_data"
    }
   ],
   "source": [
    "import matplotlib.pyplot as plt\n",
    "import seaborn as sns\n",
    "\n",
    "sns.countplot('rank',data = df)\n",
    "print(df['rank'].value_counts())"
   ]
  },
  {
   "cell_type": "markdown",
   "id": "f5ded9c2",
   "metadata": {},
   "source": [
    "Majority of the employees are having the rank 'Prof' in the dataset. The least number of employess are having the rank 'AssocProf' in the dataset.\n",
    "\n",
    "The number of employees with rank 'Prof' is 266.\n",
    "The number of employees with rank 'AsstProf' is 67.\n",
    "The number of employees with rank 'AssocProf' is 64."
   ]
  },
  {
   "cell_type": "code",
   "execution_count": 7,
   "id": "4c32c8e0",
   "metadata": {},
   "outputs": [
    {
     "name": "stdout",
     "output_type": "stream",
     "text": [
      "B    216\n",
      "A    181\n",
      "Name: discipline, dtype: int64\n"
     ]
    },
    {
     "data": {
      "image/png": "[encoded data removed]",
      "text/plain": [
       "<Figure size 432x288 with 1 Axes>"
      ]
     },
     "metadata": {
      "needs_background": "light"
     },
     "output_type": "display_data"
    }
   ],
   "source": [
    "sns.countplot('discipline',data =df)\n",
    "print(df['discipline'].value_counts())"
   ]
  },
  {
   "cell_type": "markdown",
   "id": "c98e5a56",
   "metadata": {},
   "source": [
    "The employees belonging to discipline 'B' is higher than employees belonging to discpline 'A' in this dataset.\n",
    "\n",
    "Number of employees belonging to discipline 'A' is 181.\n",
    "Number of employees belonging to discipline 'B' is 216."
   ]
  },
  {
   "cell_type": "markdown",
   "id": "4c3bc338",
   "metadata": {},
   "source": [
    "#### Histogram"
   ]
  },
  {
   "cell_type": "code",
   "execution_count": 8,
   "id": "68b73d8e",
   "metadata": {},
   "outputs": [
    {
     "data": {
      "text/plain": [
       "yrs.since.phd\n",
       "(0, 10]      87\n",
       "(10, 20]    106\n",
       "(20, 30]     93\n",
       "(30, 40]     76\n",
       "(40, 50]     30\n",
       "(50, 60]      5\n",
       "Name: yrs.since.phd, dtype: int64"
      ]
     },
     "execution_count": 8,
     "metadata": {},
     "output_type": "execute_result"
    },
    {
     "data": {
      "image/png": "[encoded data removed]",
      "text/plain": [
       "<Figure size 432x288 with 1 Axes>"
      ]
     },
     "metadata": {
      "needs_background": "light"
     },
     "output_type": "display_data"
    }
   ],
   "source": [
    "import numpy as np\n",
    "\n",
    "sns.histplot(df['yrs.since.phd'],bins=6)\n",
    "a = list(range(0,61,10))\n",
    "df['yrs.since.phd'].groupby(pd.cut(df['yrs.since.phd'],a)).count()"
   ]
  },
  {
   "cell_type": "markdown",
   "id": "bc8c2c9d",
   "metadata": {},
   "source": [
    "Employess who have done PhD 10 to 20 years ago are highest in the dataset. Few number of employees have completed PhD 50-60 years ago.\n",
    "\n",
    "    87 employees have completed PhD within last 10 years. \n",
    "    The number of employess who have completed PhD 10-20 years ago is 106.\n",
    "    The number of employess who have completed PhD 20-30 years ago is 93.\n",
    "    The number of employees who have completed PhD 30-40 years ago is 76.\n",
    "    The number of employess who have completed PhD 40-50 years ago is 30.\n",
    "    The number of empoyess who have completed PhD over 50 years ago is 5.\n",
    "    "
   ]
  },
  {
   "cell_type": "code",
   "execution_count": 9,
   "id": "80b7ecd2",
   "metadata": {},
   "outputs": [
    {
     "data": {
      "text/plain": [
       "(array([144,  96,  78,  53,  22,   4], dtype=int64),\n",
       " array([ 0., 10., 20., 30., 40., 50., 60.]))"
      ]
     },
     "execution_count": 9,
     "metadata": {},
     "output_type": "execute_result"
    },
    {
     "data": {
      "image/png": "[encoded data removed]",
      "text/plain": [
       "<Figure size 432x288 with 1 Axes>"
      ]
     },
     "metadata": {
      "needs_background": "light"
     },
     "output_type": "display_data"
    }
   ],
   "source": [
    "sns.histplot(df['yrs.service'],bins=6)\n",
    "np.histogram(df['yrs.service'],bins=6)"
   ]
  },
  {
   "cell_type": "markdown",
   "id": "db93f5e9",
   "metadata": {},
   "source": [
    "The most number of employees in the dataset are having less than 10 years service. Only few number of employees are having service more than 50 years.\n",
    "\n",
    "    The number of employees with less than 10 year service is 144. \n",
    "    The number of employees with 11 to 20 year service is 96.\n",
    "    The number of employees with 21 to 30 year service is 78.\n",
    "    The number of employees with 31 to 40 years service is 53.\n",
    "    The number of employees with 41 to 50 years service is 22.\n",
    "    The number of employees with more than 50 years services is 4."
   ]
  },
  {
   "cell_type": "code",
   "execution_count": 10,
   "id": "0927cd4f",
   "metadata": {},
   "outputs": [
    {
     "data": {
      "text/plain": [
       "<AxesSubplot:xlabel='sex', ylabel='count'>"
      ]
     },
     "execution_count": 10,
     "metadata": {},
     "output_type": "execute_result"
    },
    {
     "data": {
      "image/png": "[encoded data removed]",
      "text/plain": [
       "<Figure size 432x288 with 1 Axes>"
      ]
     },
     "metadata": {
      "needs_background": "light"
     },
     "output_type": "display_data"
    }
   ],
   "source": [
    "sns.countplot(df['sex'])"
   ]
  },
  {
   "cell_type": "markdown",
   "id": "6330ff47",
   "metadata": {},
   "source": [
    "The number of male employess is more compared to number of female employees."
   ]
  },
  {
   "cell_type": "code",
   "execution_count": 11,
   "id": "c4c95060",
   "metadata": {},
   "outputs": [
    {
     "data": {
      "text/plain": [
       "<AxesSubplot:xlabel='sex', ylabel='salary'>"
      ]
     },
     "execution_count": 11,
     "metadata": {},
     "output_type": "execute_result"
    },
    {
     "data": {
      "image/png": "[encoded data removed]",
      "text/plain": [
       "<Figure size 432x288 with 1 Axes>"
      ]
     },
     "metadata": {
      "needs_background": "light"
     },
     "output_type": "display_data"
    }
   ],
   "source": [
    "sns.scatterplot('sex','salary',data =df)"
   ]
  },
  {
   "cell_type": "markdown",
   "id": "42c42523",
   "metadata": {},
   "source": [
    "The salary of male employees are equally distributed between range of 50,000 and 200,000. The salary of female employees is equally distributed between range of 60,000 and 165,000."
   ]
  },
  {
   "cell_type": "markdown",
   "id": "2d38d062",
   "metadata": {},
   "source": [
    "### Encoding DataFrame"
   ]
  },
  {
   "cell_type": "code",
   "execution_count": 12,
   "id": "a836f5b2",
   "metadata": {},
   "outputs": [],
   "source": [
    "from sklearn.preprocessing import OrdinalEncoder\n",
    "enc = OrdinalEncoder()"
   ]
  },
  {
   "cell_type": "code",
   "execution_count": 13,
   "id": "9bc72929",
   "metadata": {},
   "outputs": [],
   "source": [
    "for i in df.columns:\n",
    "    if df[i].dtypes==\"object\":\n",
    "        df[i] = enc.fit_transform(df[i].values.reshape(-1,1))"
   ]
  },
  {
   "cell_type": "markdown",
   "id": "2abc93d0",
   "metadata": {},
   "source": [
    "### Correlation"
   ]
  },
  {
   "cell_type": "code",
   "execution_count": 14,
   "id": "ccdec174",
   "metadata": {},
   "outputs": [
    {
     "data": {
      "text/html": [
       "<div>\n",
       "<style scoped>\n",
       "    .dataframe tbody tr th:only-of-type {\n",
       "        vertical-align: middle;\n",
       "    }\n",
       "\n",
       "    .dataframe tbody tr th {\n",
       "        vertical-align: top;\n",
       "    }\n",
       "\n",
       "    .dataframe thead th {\n",
       "        text-align: right;\n",
       "    }\n",
       "</style>\n",
       "<table border=\"1\" class=\"dataframe\">\n",
       "  <thead>\n",
       "    <tr style=\"text-align: right;\">\n",
       "      <th></th>\n",
       "      <th>rank</th>\n",
       "      <th>discipline</th>\n",
       "      <th>yrs.since.phd</th>\n",
       "      <th>yrs.service</th>\n",
       "      <th>sex</th>\n",
       "      <th>salary</th>\n",
       "    </tr>\n",
       "  </thead>\n",
       "  <tbody>\n",
       "    <tr>\n",
       "      <th>rank</th>\n",
       "      <td>1.000000</td>\n",
       "      <td>-0.086266</td>\n",
       "      <td>0.525500</td>\n",
       "      <td>0.447499</td>\n",
       "      <td>0.132492</td>\n",
       "      <td>0.522207</td>\n",
       "    </tr>\n",
       "    <tr>\n",
       "      <th>discipline</th>\n",
       "      <td>-0.086266</td>\n",
       "      <td>1.000000</td>\n",
       "      <td>-0.218087</td>\n",
       "      <td>-0.164599</td>\n",
       "      <td>0.003724</td>\n",
       "      <td>0.156084</td>\n",
       "    </tr>\n",
       "    <tr>\n",
       "      <th>yrs.since.phd</th>\n",
       "      <td>0.525500</td>\n",
       "      <td>-0.218087</td>\n",
       "      <td>1.000000</td>\n",
       "      <td>0.909649</td>\n",
       "      <td>0.148788</td>\n",
       "      <td>0.419231</td>\n",
       "    </tr>\n",
       "    <tr>\n",
       "      <th>yrs.service</th>\n",
       "      <td>0.447499</td>\n",
       "      <td>-0.164599</td>\n",
       "      <td>0.909649</td>\n",
       "      <td>1.000000</td>\n",
       "      <td>0.153740</td>\n",
       "      <td>0.334745</td>\n",
       "    </tr>\n",
       "    <tr>\n",
       "      <th>sex</th>\n",
       "      <td>0.132492</td>\n",
       "      <td>0.003724</td>\n",
       "      <td>0.148788</td>\n",
       "      <td>0.153740</td>\n",
       "      <td>1.000000</td>\n",
       "      <td>0.138610</td>\n",
       "    </tr>\n",
       "    <tr>\n",
       "      <th>salary</th>\n",
       "      <td>0.522207</td>\n",
       "      <td>0.156084</td>\n",
       "      <td>0.419231</td>\n",
       "      <td>0.334745</td>\n",
       "      <td>0.138610</td>\n",
       "      <td>1.000000</td>\n",
       "    </tr>\n",
       "  </tbody>\n",
       "</table>\n",
       "</div>"
      ],
      "text/plain": [
       "                   rank  discipline  yrs.since.phd  yrs.service       sex  \\\n",
       "rank           1.000000   -0.086266       0.525500     0.447499  0.132492   \n",
       "discipline    -0.086266    1.000000      -0.218087    -0.164599  0.003724   \n",
       "yrs.since.phd  0.525500   -0.218087       1.000000     0.909649  0.148788   \n",
       "yrs.service    0.447499   -0.164599       0.909649     1.000000  0.153740   \n",
       "sex            0.132492    0.003724       0.148788     0.153740  1.000000   \n",
       "salary         0.522207    0.156084       0.419231     0.334745  0.138610   \n",
       "\n",
       "                 salary  \n",
       "rank           0.522207  \n",
       "discipline     0.156084  \n",
       "yrs.since.phd  0.419231  \n",
       "yrs.service    0.334745  \n",
       "sex            0.138610  \n",
       "salary         1.000000  "
      ]
     },
     "execution_count": 14,
     "metadata": {},
     "output_type": "execute_result"
    }
   ],
   "source": [
    "df.corr()"
   ]
  },
  {
   "cell_type": "code",
   "execution_count": 15,
   "id": "5d4a8462",
   "metadata": {},
   "outputs": [
    {
     "data": {
      "text/plain": [
       "<AxesSubplot:>"
      ]
     },
     "execution_count": 15,
     "metadata": {},
     "output_type": "execute_result"
    },
    {
     "data": {
      "image/png": "[encoded data removed]",
      "text/plain": [
       "<Figure size 432x288 with 2 Axes>"
      ]
     },
     "metadata": {
      "needs_background": "light"
     },
     "output_type": "display_data"
    }
   ],
   "source": [
    "sns.heatmap(df.corr(), annot=True, fmt='0.2f')"
   ]
  },
  {
   "cell_type": "markdown",
   "id": "ef1439df",
   "metadata": {},
   "source": [
    "All the columns are showing positive correlation with the Target column(Salary).\n",
    "\n",
    "rank has 52% correlation with target column which is considered as strong bond.\n",
    "discipline has 16% correlation with target column which is conisered as good bond.\n",
    "yrs.since.phd has 42% correlation with target column which is considered as strong bond.\n",
    "yrs.service has 33% correlation with target column which is considered as good bond.\n",
    "sex has 14% correlation with target column which is considered as good bond.\n",
    "\n",
    "max_correlation = rank\n",
    "\n",
    "min_correlation = sex"
   ]
  },
  {
   "cell_type": "markdown",
   "id": "99f4ee4d",
   "metadata": {},
   "source": [
    "### Describing Dataset"
   ]
  },
  {
   "cell_type": "code",
   "execution_count": 16,
   "id": "1213d96e",
   "metadata": {},
   "outputs": [
    {
     "data": {
      "text/html": [
       "<div>\n",
       "<style scoped>\n",
       "    .dataframe tbody tr th:only-of-type {\n",
       "        vertical-align: middle;\n",
       "    }\n",
       "\n",
       "    .dataframe tbody tr th {\n",
       "        vertical-align: top;\n",
       "    }\n",
       "\n",
       "    .dataframe thead th {\n",
       "        text-align: right;\n",
       "    }\n",
       "</style>\n",
       "<table border=\"1\" class=\"dataframe\">\n",
       "  <thead>\n",
       "    <tr style=\"text-align: right;\">\n",
       "      <th></th>\n",
       "      <th>rank</th>\n",
       "      <th>discipline</th>\n",
       "      <th>yrs.since.phd</th>\n",
       "      <th>yrs.service</th>\n",
       "      <th>sex</th>\n",
       "      <th>salary</th>\n",
       "    </tr>\n",
       "  </thead>\n",
       "  <tbody>\n",
       "    <tr>\n",
       "      <th>count</th>\n",
       "      <td>397.000000</td>\n",
       "      <td>397.000000</td>\n",
       "      <td>397.000000</td>\n",
       "      <td>397.000000</td>\n",
       "      <td>397.000000</td>\n",
       "      <td>397.000000</td>\n",
       "    </tr>\n",
       "    <tr>\n",
       "      <th>mean</th>\n",
       "      <td>1.508816</td>\n",
       "      <td>0.544081</td>\n",
       "      <td>22.314861</td>\n",
       "      <td>17.614610</td>\n",
       "      <td>0.901763</td>\n",
       "      <td>113706.458438</td>\n",
       "    </tr>\n",
       "    <tr>\n",
       "      <th>std</th>\n",
       "      <td>0.757486</td>\n",
       "      <td>0.498682</td>\n",
       "      <td>12.887003</td>\n",
       "      <td>13.006024</td>\n",
       "      <td>0.298010</td>\n",
       "      <td>30289.038695</td>\n",
       "    </tr>\n",
       "    <tr>\n",
       "      <th>min</th>\n",
       "      <td>0.000000</td>\n",
       "      <td>0.000000</td>\n",
       "      <td>1.000000</td>\n",
       "      <td>0.000000</td>\n",
       "      <td>0.000000</td>\n",
       "      <td>57800.000000</td>\n",
       "    </tr>\n",
       "    <tr>\n",
       "      <th>25%</th>\n",
       "      <td>1.000000</td>\n",
       "      <td>0.000000</td>\n",
       "      <td>12.000000</td>\n",
       "      <td>7.000000</td>\n",
       "      <td>1.000000</td>\n",
       "      <td>91000.000000</td>\n",
       "    </tr>\n",
       "    <tr>\n",
       "      <th>50%</th>\n",
       "      <td>2.000000</td>\n",
       "      <td>1.000000</td>\n",
       "      <td>21.000000</td>\n",
       "      <td>16.000000</td>\n",
       "      <td>1.000000</td>\n",
       "      <td>107300.000000</td>\n",
       "    </tr>\n",
       "    <tr>\n",
       "      <th>75%</th>\n",
       "      <td>2.000000</td>\n",
       "      <td>1.000000</td>\n",
       "      <td>32.000000</td>\n",
       "      <td>27.000000</td>\n",
       "      <td>1.000000</td>\n",
       "      <td>134185.000000</td>\n",
       "    </tr>\n",
       "    <tr>\n",
       "      <th>max</th>\n",
       "      <td>2.000000</td>\n",
       "      <td>1.000000</td>\n",
       "      <td>56.000000</td>\n",
       "      <td>60.000000</td>\n",
       "      <td>1.000000</td>\n",
       "      <td>231545.000000</td>\n",
       "    </tr>\n",
       "  </tbody>\n",
       "</table>\n",
       "</div>"
      ],
      "text/plain": [
       "             rank  discipline  yrs.since.phd  yrs.service         sex  \\\n",
       "count  397.000000  397.000000     397.000000   397.000000  397.000000   \n",
       "mean     1.508816    0.544081      22.314861    17.614610    0.901763   \n",
       "std      0.757486    0.498682      12.887003    13.006024    0.298010   \n",
       "min      0.000000    0.000000       1.000000     0.000000    0.000000   \n",
       "25%      1.000000    0.000000      12.000000     7.000000    1.000000   \n",
       "50%      2.000000    1.000000      21.000000    16.000000    1.000000   \n",
       "75%      2.000000    1.000000      32.000000    27.000000    1.000000   \n",
       "max      2.000000    1.000000      56.000000    60.000000    1.000000   \n",
       "\n",
       "              salary  \n",
       "count     397.000000  \n",
       "mean   113706.458438  \n",
       "std     30289.038695  \n",
       "min     57800.000000  \n",
       "25%     91000.000000  \n",
       "50%    107300.000000  \n",
       "75%    134185.000000  \n",
       "max    231545.000000  "
      ]
     },
     "execution_count": 16,
     "metadata": {},
     "output_type": "execute_result"
    }
   ],
   "source": [
    "df.describe()"
   ]
  },
  {
   "cell_type": "code",
   "execution_count": 17,
   "id": "60d18d8b",
   "metadata": {},
   "outputs": [
    {
     "data": {
      "text/plain": [
       "<AxesSubplot:>"
      ]
     },
     "execution_count": 17,
     "metadata": {},
     "output_type": "execute_result"
    },
    {
     "data": {
      "image/png": "[encoded data removed]",
      "text/plain": [
       "<Figure size 720x504 with 2 Axes>"
      ]
     },
     "metadata": {
      "needs_background": "light"
     },
     "output_type": "display_data"
    }
   ],
   "source": [
    "plt.figure(figsize=(10,7))\n",
    "sns.heatmap(df.describe(),annot=True,fmt='0.2f')"
   ]
  },
  {
   "cell_type": "markdown",
   "id": "2442d14f",
   "metadata": {},
   "source": [
    "Describing the columns ['yrs.since.phd','yrs.service','salary'].(Rest of the columns are having categorical data)."
   ]
  },
  {
   "cell_type": "markdown",
   "id": "3fd5661f",
   "metadata": {},
   "source": [
    "yrs.since.phd\n",
    "\n",
    "1. mean = 22.314861\n",
    "2. std = 12.887003\n",
    "3. min_value = 1\n",
    "4. max_value = 56\n",
    "\n",
    "yrs.service\n",
    "\n",
    "1. mean = 17.614610\n",
    "2. std = 13.006024\n",
    "3. min_value = 0.00\n",
    "4. max_value = 60\n",
    "\n",
    "salary\n",
    "\n",
    "1. mean = 113706.458438\n",
    "2. std = 30289.038695\n",
    "3. min_value = 57800\n",
    "4. max_value = 231545\n"
   ]
  },
  {
   "cell_type": "code",
   "execution_count": 18,
   "id": "d2251d3c",
   "metadata": {},
   "outputs": [
    {
     "name": "stdout",
     "output_type": "stream",
     "text": [
      "<class 'pandas.core.frame.DataFrame'>\n",
      "RangeIndex: 397 entries, 0 to 396\n",
      "Data columns (total 6 columns):\n",
      " #   Column         Non-Null Count  Dtype  \n",
      "---  ------         --------------  -----  \n",
      " 0   rank           397 non-null    float64\n",
      " 1   discipline     397 non-null    float64\n",
      " 2   yrs.since.phd  397 non-null    int64  \n",
      " 3   yrs.service    397 non-null    int64  \n",
      " 4   sex            397 non-null    float64\n",
      " 5   salary         397 non-null    int64  \n",
      "dtypes: float64(3), int64(3)\n",
      "memory usage: 18.7 KB\n"
     ]
    }
   ],
   "source": [
    "df.info()"
   ]
  },
  {
   "cell_type": "markdown",
   "id": "c97947f7",
   "metadata": {},
   "source": [
    "### Skewness"
   ]
  },
  {
   "cell_type": "code",
   "execution_count": 19,
   "id": "d59ebb20",
   "metadata": {},
   "outputs": [
    {
     "data": {
      "text/plain": [
       "rank            -1.151164\n",
       "discipline      -0.177684\n",
       "yrs.since.phd    0.300880\n",
       "yrs.service      0.650569\n",
       "sex             -2.709958\n",
       "salary           0.714568\n",
       "dtype: float64"
      ]
     },
     "execution_count": 19,
     "metadata": {},
     "output_type": "execute_result"
    }
   ],
   "source": [
    "df.skew()"
   ]
  },
  {
   "cell_type": "markdown",
   "id": "31657045",
   "metadata": {},
   "source": [
    "Keeping +/-0.5 as the range for skewness, here are the columns which does not lie within this range.\n",
    "\n",
    "    rank - categorical\n",
    "    yrs.service - categorical\n",
    "    sex - categorical\n",
    "    salary - target variable\n",
    "    \n",
    "Since no column has skewness, we are not considering it"
   ]
  },
  {
   "cell_type": "markdown",
   "id": "ee3f4052",
   "metadata": {},
   "source": [
    "### Checking for outliers"
   ]
  },
  {
   "cell_type": "code",
   "execution_count": 20,
   "id": "1438cbac",
   "metadata": {},
   "outputs": [
    {
     "data": {
      "image/png": "[encoded data removed]",
      "text/plain": [
       "<Figure size 4320x6480 with 6 Axes>"
      ]
     },
     "metadata": {
      "needs_background": "light"
     },
     "output_type": "display_data"
    }
   ],
   "source": [
    "collist = df.columns.values\n",
    "ncol = 30\n",
    "nrows = 14\n",
    "plt.figure(figsize=(2*ncol,3*ncol))\n",
    "for i in range (0,len(collist)):\n",
    "    plt.subplot(nrows,ncol,i+1)\n",
    "    sns.boxplot(y = df[collist[i]], color='green')\n",
    "    plt.tight_layout()"
   ]
  },
  {
   "cell_type": "markdown",
   "id": "ab1492bf",
   "metadata": {},
   "source": [
    "There are outliers in column ['yrs.service','sex','salary']. But since column 'sex' is having nominal value, we can't consider it as outlier. Also yrs.service is having categorical values. So it cannot be also considered as outliers. "
   ]
  },
  {
   "cell_type": "markdown",
   "id": "2e7f0912",
   "metadata": {},
   "source": [
    "### Separating features and target"
   ]
  },
  {
   "cell_type": "code",
   "execution_count": 21,
   "id": "5a7c8567",
   "metadata": {},
   "outputs": [],
   "source": [
    "x = df.iloc[:,:-1]\n",
    "y = df.iloc[:,-1]\n"
   ]
  },
  {
   "cell_type": "code",
   "execution_count": 22,
   "id": "4e241b59",
   "metadata": {},
   "outputs": [
    {
     "name": "stdout",
     "output_type": "stream",
     "text": [
      "(397, 5)\n",
      "(397,)\n"
     ]
    }
   ],
   "source": [
    "print(x.shape)\n",
    "print(y.shape)"
   ]
  },
  {
   "cell_type": "markdown",
   "id": "28e0826c",
   "metadata": {},
   "source": [
    "### Scaling the data using Min-Max Scaler"
   ]
  },
  {
   "cell_type": "code",
   "execution_count": 23,
   "id": "fdee6b96",
   "metadata": {},
   "outputs": [],
   "source": [
    "from sklearn.preprocessing import MinMaxScaler\n",
    "mms = MinMaxScaler()\n",
    "from sklearn.linear_model import LinearRegression\n",
    "\n",
    "\n",
    "from sklearn.metrics import r2_score\n",
    "from sklearn.model_selection import train_test_split\n",
    "from sklearn.metrics import mean_squared_error"
   ]
  },
  {
   "cell_type": "code",
   "execution_count": 24,
   "id": "531941da",
   "metadata": {},
   "outputs": [],
   "source": [
    "x = mms.fit_transform(x)"
   ]
  },
  {
   "cell_type": "markdown",
   "id": "bfc6f796",
   "metadata": {},
   "source": [
    "#### LinearRegression"
   ]
  },
  {
   "cell_type": "code",
   "execution_count": 25,
   "id": "e59a3cf4",
   "metadata": {},
   "outputs": [],
   "source": [
    "lr = LinearRegression()"
   ]
  },
  {
   "cell_type": "code",
   "execution_count": 26,
   "id": "a208de5a",
   "metadata": {},
   "outputs": [
    {
     "name": "stdout",
     "output_type": "stream",
     "text": [
      "At random state 0 the training score is 0.3611999954853077\n",
      "At random state 0 the testing score is 0.4079258314975234\n",
      "At random state 1 the training score is 0.3604245854198438\n",
      "At random state 1 the testing score is 0.41633641876629446\n",
      "At random state 2 the training score is 0.37547390964955596\n",
      "At random state 2 the testing score is 0.36001895545266904\n",
      "At random state 3 the training score is 0.3847313825130594\n",
      "At random state 3 the testing score is 0.32935298750108644\n",
      "At random state 4 the training score is 0.38517450334380454\n",
      "At random state 4 the testing score is 0.3044008133315612\n",
      "At random state 5 the training score is 0.3950033630150771\n",
      "At random state 5 the testing score is 0.2752907752774735\n",
      "At random state 6 the training score is 0.3650308031752798\n",
      "At random state 6 the testing score is 0.4018987080607569\n",
      "At random state 7 the training score is 0.3575963886324032\n",
      "At random state 7 the testing score is 0.43603149833368415\n",
      "At random state 8 the training score is 0.37078641617615615\n",
      "At random state 8 the testing score is 0.3520895860059552\n",
      "At random state 9 the training score is 0.3689988332195655\n",
      "At random state 9 the testing score is 0.3880754485440504\n",
      "At random state 10 the training score is 0.3833769683025209\n",
      "At random state 10 the testing score is 0.32376690601790736\n",
      "At random state 11 the training score is 0.3847188415624321\n",
      "At random state 11 the testing score is 0.2808308392930564\n",
      "At random state 12 the training score is 0.37676668231129506\n",
      "At random state 12 the testing score is 0.34397033297856505\n",
      "At random state 13 the training score is 0.37914531495889015\n",
      "At random state 13 the testing score is 0.303721393026666\n",
      "At random state 14 the training score is 0.4158978369713757\n",
      "At random state 14 the testing score is 0.15184410537740567\n",
      "At random state 15 the training score is 0.37127624600584874\n",
      "At random state 15 the testing score is 0.3535193426206279\n",
      "At random state 16 the training score is 0.3878621443484205\n",
      "At random state 16 the testing score is 0.29241393404970406\n",
      "At random state 17 the training score is 0.3897546182765136\n",
      "At random state 17 the testing score is 0.26101811962187105\n",
      "At random state 18 the training score is 0.3650413646278945\n",
      "At random state 18 the testing score is 0.3698468335200641\n",
      "At random state 19 the training score is 0.36478587974538956\n",
      "At random state 19 the testing score is 0.39429266046792033\n",
      "At random state 20 the training score is 0.3622414400227314\n",
      "At random state 20 the testing score is 0.40106505357197053\n",
      "At random state 21 the training score is 0.3935643702731856\n",
      "At random state 21 the testing score is 0.284848640221694\n",
      "At random state 22 the training score is 0.3848789411044249\n",
      "At random state 22 the testing score is 0.31050655119078285\n",
      "At random state 23 the training score is 0.388340130912739\n",
      "At random state 23 the testing score is 0.30908323002197435\n",
      "At random state 24 the training score is 0.4009695516201146\n",
      "At random state 24 the testing score is 0.23700622039991381\n",
      "At random state 25 the training score is 0.38728521642251956\n",
      "At random state 25 the testing score is 0.2857545713280297\n",
      "At random state 26 the training score is 0.373492521722562\n",
      "At random state 26 the testing score is 0.3570465945472765\n",
      "At random state 27 the training score is 0.3853612529960597\n",
      "At random state 27 the testing score is 0.3200883336422755\n",
      "At random state 28 the training score is 0.4053914345039713\n",
      "At random state 28 the testing score is 0.2296970348301599\n",
      "At random state 29 the training score is 0.40451288485532433\n",
      "At random state 29 the testing score is 0.1976502739688485\n",
      "At random state 30 the training score is 0.3669357218130499\n",
      "At random state 30 the testing score is 0.37835712516351505\n",
      "At random state 31 the training score is 0.37953137501705136\n",
      "At random state 31 the testing score is 0.3229513807282972\n",
      "At random state 32 the training score is 0.3685576596306932\n",
      "At random state 32 the testing score is 0.3671499580137664\n",
      "At random state 33 the training score is 0.3746333242328249\n",
      "At random state 33 the testing score is 0.35032495883995485\n",
      "At random state 34 the training score is 0.3670604216412361\n",
      "At random state 34 the testing score is 0.39241458503623816\n",
      "At random state 35 the training score is 0.3849378452508391\n",
      "At random state 35 the testing score is 0.331479874175737\n",
      "At random state 36 the training score is 0.3847552137593607\n",
      "At random state 36 the testing score is 0.2703900592740791\n",
      "At random state 37 the training score is 0.34899945766206086\n",
      "At random state 37 the testing score is 0.4128426546458115\n",
      "At random state 38 the training score is 0.38650707960273367\n",
      "At random state 38 the testing score is 0.2833985042820407\n",
      "At random state 39 the training score is 0.3706020285098687\n",
      "At random state 39 the testing score is 0.37188334134849876\n",
      "At random state 40 the training score is 0.3642294289210505\n",
      "At random state 40 the testing score is 0.3925435827595458\n",
      "At random state 41 the training score is 0.3609173288430392\n",
      "At random state 41 the testing score is 0.4018359148946383\n",
      "At random state 42 the training score is 0.42005586583340226\n",
      "At random state 42 the testing score is 0.10796880791419583\n",
      "At random state 43 the training score is 0.4041459448446312\n",
      "At random state 43 the testing score is 0.25754093508042986\n",
      "At random state 44 the training score is 0.3725463631852005\n",
      "At random state 44 the testing score is 0.3671356850817833\n",
      "At random state 45 the training score is 0.4137230485402983\n",
      "At random state 45 the testing score is 0.22445225846745342\n",
      "At random state 46 the training score is 0.34372562408831253\n",
      "At random state 46 the testing score is 0.389660609450698\n",
      "At random state 47 the training score is 0.37188114106913284\n",
      "At random state 47 the testing score is 0.35395872265988126\n",
      "At random state 48 the training score is 0.36429183378263275\n",
      "At random state 48 the testing score is 0.3979596000732689\n",
      "At random state 49 the training score is 0.377539855714624\n",
      "At random state 49 the testing score is 0.33197433115663066\n",
      "At random state 50 the training score is 0.37893923298505605\n",
      "At random state 50 the testing score is 0.34563177771023346\n",
      "At random state 51 the training score is 0.3748812535527185\n",
      "At random state 51 the testing score is 0.3462230124770891\n",
      "At random state 52 the training score is 0.3690443454685478\n",
      "At random state 52 the testing score is 0.3682296312128145\n",
      "At random state 53 the training score is 0.3646780402149977\n",
      "At random state 53 the testing score is 0.3864862432119227\n",
      "At random state 54 the training score is 0.38120976962990694\n",
      "At random state 54 the testing score is 0.32307953267625444\n",
      "At random state 55 the training score is 0.38042405508404853\n",
      "At random state 55 the testing score is 0.32729199394177744\n",
      "At random state 56 the training score is 0.38888132640425854\n",
      "At random state 56 the testing score is 0.26192128625287003\n",
      "At random state 57 the training score is 0.36282545034634306\n",
      "At random state 57 the testing score is 0.4099319211959537\n",
      "At random state 58 the training score is 0.3904276399883323\n",
      "At random state 58 the testing score is 0.2808757033228061\n",
      "At random state 59 the training score is 0.36918999968594834\n",
      "At random state 59 the testing score is 0.36721675911308405\n",
      "At random state 60 the training score is 0.36276157486159943\n",
      "At random state 60 the testing score is 0.4342158637805852\n",
      "At random state 61 the training score is 0.3596569629577454\n",
      "At random state 61 the testing score is 0.4243091206283228\n",
      "At random state 62 the training score is 0.36218820814339436\n",
      "At random state 62 the testing score is 0.34026795351750394\n",
      "At random state 63 the training score is 0.36020153914715225\n",
      "At random state 63 the testing score is 0.40925944052697116\n",
      "At random state 64 the training score is 0.34487518402780026\n",
      "At random state 64 the testing score is 0.45685137910944595\n",
      "At random state 65 the training score is 0.3966493366743805\n",
      "At random state 65 the testing score is 0.2710391184410539\n",
      "At random state 66 the training score is 0.36941312653397496\n",
      "At random state 66 the testing score is 0.3717151960421117\n",
      "At random state 67 the training score is 0.3577974392746197\n",
      "At random state 67 the testing score is 0.4089321958973776\n",
      "At random state 68 the training score is 0.4112434481572016\n",
      "At random state 68 the testing score is 0.18760305905186514\n",
      "At random state 69 the training score is 0.3583537425297255\n",
      "At random state 69 the testing score is 0.4055461597734451\n",
      "At random state 70 the training score is 0.40782071088368554\n",
      "At random state 70 the testing score is 0.12457420628140325\n",
      "At random state 71 the training score is 0.3798566422299211\n",
      "At random state 71 the testing score is 0.33100777406508364\n",
      "At random state 72 the training score is 0.37306545398657154\n",
      "At random state 72 the testing score is 0.3328257670522521\n",
      "At random state 73 the training score is 0.3684736133822437\n",
      "At random state 73 the testing score is 0.37565170848673957\n",
      "At random state 74 the training score is 0.36328541761317845\n",
      "At random state 74 the testing score is 0.414540570310433\n"
     ]
    },
    {
     "name": "stdout",
     "output_type": "stream",
     "text": [
      "At random state 75 the training score is 0.3699093187667537\n",
      "At random state 75 the testing score is 0.37665450836382297\n",
      "At random state 76 the training score is 0.3893765947869846\n",
      "At random state 76 the testing score is 0.2446996775975483\n",
      "At random state 77 the training score is 0.36208736257404006\n",
      "At random state 77 the testing score is 0.3868924101156723\n",
      "At random state 78 the training score is 0.3936404592790972\n",
      "At random state 78 the testing score is 0.2786653093015006\n",
      "At random state 79 the training score is 0.3400734467804928\n",
      "At random state 79 the testing score is 0.5084908819694652\n",
      "At random state 80 the training score is 0.34891747740210666\n",
      "At random state 80 the testing score is 0.5086207408821508\n",
      "At random state 81 the training score is 0.35513373474139565\n",
      "At random state 81 the testing score is 0.4149346606972967\n",
      "At random state 82 the training score is 0.37417707170637116\n",
      "At random state 82 the testing score is 0.35099796023730967\n",
      "At random state 83 the training score is 0.3777269477125591\n",
      "At random state 83 the testing score is 0.3236720737678678\n",
      "At random state 84 the training score is 0.38401378181768175\n",
      "At random state 84 the testing score is 0.31278415401686677\n",
      "At random state 85 the training score is 0.376142718876315\n",
      "At random state 85 the testing score is 0.35006127408867427\n",
      "At random state 86 the training score is 0.3767878645972712\n",
      "At random state 86 the testing score is 0.3444389459787981\n",
      "At random state 87 the training score is 0.3866068341160771\n",
      "At random state 87 the testing score is 0.2295416451299278\n",
      "At random state 88 the training score is 0.3555900942301574\n",
      "At random state 88 the testing score is 0.4462737924208705\n",
      "At random state 89 the training score is 0.3776188229055102\n",
      "At random state 89 the testing score is 0.33821112710879897\n",
      "At random state 90 the training score is 0.35598740233084825\n",
      "At random state 90 the testing score is 0.4188943675786001\n",
      "At random state 91 the training score is 0.37189951588468795\n",
      "At random state 91 the testing score is 0.3601565810059806\n",
      "At random state 92 the training score is 0.3745960641807283\n",
      "At random state 92 the testing score is 0.35415422545527975\n",
      "At random state 93 the training score is 0.4045365985584488\n",
      "At random state 93 the testing score is 0.22737572896847535\n",
      "At random state 94 the training score is 0.39372739145675395\n",
      "At random state 94 the testing score is 0.2720604116480446\n",
      "At random state 95 the training score is 0.3862133774021912\n",
      "At random state 95 the testing score is 0.3010575834925824\n",
      "At random state 96 the training score is 0.3544193864212418\n",
      "At random state 96 the testing score is 0.42532454061313263\n",
      "At random state 97 the training score is 0.36415109406161483\n",
      "At random state 97 the testing score is 0.41014984649060604\n",
      "At random state 98 the training score is 0.34983395760007263\n",
      "At random state 98 the testing score is 0.4322690928833406\n",
      "At random state 99 the training score is 0.364087261201975\n",
      "At random state 99 the testing score is 0.41102180904046093\n"
     ]
    }
   ],
   "source": [
    "#Selecting the best random state\n",
    "\n",
    "for i in range(0,100):\n",
    "    x_train, x_test,y_train,y_test = train_test_split(x,y,random_state=i,test_size=0.20)\n",
    "    lr.fit(x_train,y_train)\n",
    "    pred_train = lr.predict(x_train)\n",
    "    pred_test = lr.predict(x_test)\n",
    "    print('At random state',i,'the training score is',r2_score(y_train,pred_train))\n",
    "    print('At random state',i,'the testing score is',r2_score(y_test,pred_test))"
   ]
  },
  {
   "cell_type": "code",
   "execution_count": 27,
   "id": "c73afd68",
   "metadata": {},
   "outputs": [],
   "source": [
    "x_train,x_test,y_train,y_test = train_test_split(x,y,test_size=0.20,random_state = 80)\n",
    "lr.fit(x_train,y_train)\n",
    "pred_lr_test = lr.predict(x_test)"
   ]
  },
  {
   "cell_type": "code",
   "execution_count": 28,
   "id": "c5d24c79",
   "metadata": {},
   "outputs": [
    {
     "data": {
      "text/plain": [
       "array([ 32261.27584568,  14693.63290454,  63486.63334679, -34373.64007618,\n",
       "         4363.13215255])"
      ]
     },
     "execution_count": 28,
     "metadata": {},
     "output_type": "execute_result"
    }
   ],
   "source": [
    "lr.coef_"
   ]
  },
  {
   "cell_type": "code",
   "execution_count": 29,
   "id": "576de593",
   "metadata": {},
   "outputs": [
    {
     "data": {
      "text/plain": [
       "62799.54490712097"
      ]
     },
     "execution_count": 29,
     "metadata": {},
     "output_type": "execute_result"
    }
   ],
   "source": [
    "lr.intercept_"
   ]
  },
  {
   "cell_type": "code",
   "execution_count": 30,
   "id": "d43a290a",
   "metadata": {},
   "outputs": [
    {
     "data": {
      "text/plain": [
       "0.34891747740210666"
      ]
     },
     "execution_count": 30,
     "metadata": {},
     "output_type": "execute_result"
    }
   ],
   "source": [
    "lr.score(x_train,y_train)"
   ]
  },
  {
   "cell_type": "code",
   "execution_count": 31,
   "id": "ffbb6b5f",
   "metadata": {
    "scrolled": true
   },
   "outputs": [
    {
     "name": "stdout",
     "output_type": "stream",
     "text": [
      "0.5086207408821508\n"
     ]
    }
   ],
   "source": [
    "print(r2_score(y_test,pred_lr_test))"
   ]
  },
  {
   "cell_type": "code",
   "execution_count": 32,
   "id": "5a0b62cd",
   "metadata": {},
   "outputs": [
    {
     "name": "stdout",
     "output_type": "stream",
     "text": [
      "325411779.5782903\n"
     ]
    }
   ],
   "source": [
    "print(mean_squared_error(y_test,pred_lr_test))"
   ]
  },
  {
   "cell_type": "markdown",
   "id": "8c69461a",
   "metadata": {},
   "source": [
    "#### DecisionTree Regressor"
   ]
  },
  {
   "cell_type": "code",
   "execution_count": 33,
   "id": "900aec5c",
   "metadata": {},
   "outputs": [],
   "source": [
    "from sklearn.tree import DecisionTreeRegressor\n",
    "dtr = DecisionTreeRegressor()\n"
   ]
  },
  {
   "cell_type": "code",
   "execution_count": 34,
   "id": "155df180",
   "metadata": {},
   "outputs": [
    {
     "name": "stdout",
     "output_type": "stream",
     "text": [
      "At random_state 0 the training score is  0.9245597788776638\n",
      "At random_state 0 the test score is  -0.21402798543480173\n",
      "At random_state 1 the training score is  0.9289724031454331\n",
      "At random_state 1 the test score is  -0.23348935777373914\n",
      "At random_state 2 the training score is  0.9267519949673648\n",
      "At random_state 2 the test score is  0.13332160941422488\n",
      "At random_state 3 the training score is  0.9273525209168837\n",
      "At random_state 3 the test score is  -0.14046919334663177\n",
      "At random_state 4 the training score is  0.9293718977375937\n",
      "At random_state 4 the test score is  -0.004873362198916764\n",
      "At random_state 5 the training score is  0.9615977804419087\n",
      "At random_state 5 the test score is  0.12263282773248185\n",
      "At random_state 6 the training score is  0.9235994371564924\n",
      "At random_state 6 the test score is  0.008977248462351817\n",
      "At random_state 7 the training score is  0.9294319620999688\n",
      "At random_state 7 the test score is  -0.4245294982826624\n",
      "At random_state 8 the training score is  0.9348101078916642\n",
      "At random_state 8 the test score is  0.06509274226343487\n",
      "At random_state 9 the training score is  0.9274378822079915\n",
      "At random_state 9 the test score is  -0.03738824564215126\n",
      "At random_state 10 the training score is  0.9479754903111294\n",
      "At random_state 10 the test score is  -0.08756623813557618\n",
      "At random_state 11 the training score is  0.9280649908534998\n",
      "At random_state 11 the test score is  0.23155015469827622\n",
      "At random_state 12 the training score is  0.931186163962566\n",
      "At random_state 12 the test score is  -0.05506859538341646\n",
      "At random_state 13 the training score is  0.9205865569612014\n",
      "At random_state 13 the test score is  -0.07867244762515413\n",
      "At random_state 14 the training score is  0.9413192781782733\n",
      "At random_state 14 the test score is  -0.2571466134041178\n",
      "At random_state 15 the training score is  0.933463881882015\n",
      "At random_state 15 the test score is  -0.009066031948709918\n",
      "At random_state 16 the training score is  0.9199132783908763\n",
      "At random_state 16 the test score is  0.2861541843346339\n",
      "At random_state 17 the training score is  0.932383936848602\n",
      "At random_state 17 the test score is  -0.378700478236762\n",
      "At random_state 18 the training score is  0.9264401463691851\n",
      "At random_state 18 the test score is  0.00023975993020475261\n",
      "At random_state 19 the training score is  0.9169135824164\n",
      "At random_state 19 the test score is  -0.14241572136212732\n",
      "At random_state 20 the training score is  0.9160011349849438\n",
      "At random_state 20 the test score is  -0.17991611045897238\n",
      "At random_state 21 the training score is  0.9273170035375727\n",
      "At random_state 21 the test score is  0.15529869773994265\n",
      "At random_state 22 the training score is  0.9211538792038645\n",
      "At random_state 22 the test score is  -0.04749598071752992\n",
      "At random_state 23 the training score is  0.9607541856871518\n",
      "At random_state 23 the test score is  -0.018059678881337193\n",
      "At random_state 24 the training score is  0.9449572188480884\n",
      "At random_state 24 the test score is  -0.12439188971725756\n",
      "At random_state 25 the training score is  0.9289178565741807\n",
      "At random_state 25 the test score is  -0.37752172801112627\n",
      "At random_state 26 the training score is  0.9541045743584899\n",
      "At random_state 26 the test score is  -0.19410216661465296\n",
      "At random_state 27 the training score is  0.9374230152591526\n",
      "At random_state 27 the test score is  -0.44910606799165675\n",
      "At random_state 28 the training score is  0.923232263773203\n",
      "At random_state 28 the test score is  -0.0063245280072032894\n",
      "At random_state 29 the training score is  0.928683747110397\n",
      "At random_state 29 the test score is  -0.08828790098388684\n",
      "At random_state 30 the training score is  0.9374251391488688\n",
      "At random_state 30 the test score is  -0.036741167054302304\n",
      "At random_state 31 the training score is  0.94159436354908\n",
      "At random_state 31 the test score is  -0.1266990059088322\n",
      "At random_state 32 the training score is  0.9300983225335419\n",
      "At random_state 32 the test score is  -0.03434502026647457\n",
      "At random_state 33 the training score is  0.9459025056040935\n",
      "At random_state 33 the test score is  -0.4911695381650565\n",
      "At random_state 34 the training score is  0.9184503917089677\n",
      "At random_state 34 the test score is  0.23719008310689105\n",
      "At random_state 35 the training score is  0.9644311612363897\n",
      "At random_state 35 the test score is  0.18132926506141833\n",
      "At random_state 36 the training score is  0.9370938616719819\n",
      "At random_state 36 the test score is  -0.13762162074218276\n",
      "At random_state 37 the training score is  0.9533347908270262\n",
      "At random_state 37 the test score is  -0.24253897051414008\n",
      "At random_state 38 the training score is  0.9186344675229914\n",
      "At random_state 38 the test score is  -0.14520071943372703\n",
      "At random_state 39 the training score is  0.9481742901748882\n",
      "At random_state 39 the test score is  -0.3952147845274021\n",
      "At random_state 40 the training score is  0.9594081528280366\n",
      "At random_state 40 the test score is  0.14204063132851585\n",
      "At random_state 41 the training score is  0.927175599278648\n",
      "At random_state 41 the test score is  0.03304540207428641\n",
      "At random_state 42 the training score is  0.9249473261915258\n",
      "At random_state 42 the test score is  0.15943911969199054\n",
      "At random_state 43 the training score is  0.936635514896166\n",
      "At random_state 43 the test score is  0.141473346532779\n",
      "At random_state 44 the training score is  0.9525054477088232\n",
      "At random_state 44 the test score is  -0.3001928702600589\n",
      "At random_state 45 the training score is  0.9242400634800582\n",
      "At random_state 45 the test score is  0.1686222024445\n",
      "At random_state 46 the training score is  0.9435951026504652\n",
      "At random_state 46 the test score is  0.06615710339115177\n",
      "At random_state 47 the training score is  0.9464000869301685\n",
      "At random_state 47 the test score is  -0.09510384758106571\n",
      "At random_state 48 the training score is  0.9385568848574499\n",
      "At random_state 48 the test score is  -0.2629217294262163\n",
      "At random_state 49 the training score is  0.9305235590129094\n",
      "At random_state 49 the test score is  -0.0044515554760296006\n",
      "At random_state 50 the training score is  0.9474174206934546\n",
      "At random_state 50 the test score is  0.11068749644461595\n",
      "At random_state 51 the training score is  0.9440213219592093\n",
      "At random_state 51 the test score is  -0.15514249890047593\n",
      "At random_state 52 the training score is  0.94462444479232\n",
      "At random_state 52 the test score is  0.10520136245405243\n",
      "At random_state 53 the training score is  0.9432350455806393\n",
      "At random_state 53 the test score is  -0.06272416574408157\n",
      "At random_state 54 the training score is  0.9327967431778379\n",
      "At random_state 54 the test score is  0.07285745183506198\n",
      "At random_state 55 the training score is  0.9255847555959273\n",
      "At random_state 55 the test score is  -0.06212095577588461\n",
      "At random_state 56 the training score is  0.9400927051495365\n",
      "At random_state 56 the test score is  0.08812679577806182\n",
      "At random_state 57 the training score is  0.9333871861229827\n",
      "At random_state 57 the test score is  0.21284729143740466\n",
      "At random_state 58 the training score is  0.9234485075990607\n",
      "At random_state 58 the test score is  0.04533849264200329\n",
      "At random_state 59 the training score is  0.9289876854921317\n",
      "At random_state 59 the test score is  -0.14532234752694095\n",
      "At random_state 60 the training score is  0.9364615088074477\n",
      "At random_state 60 the test score is  -0.1796507827354894\n",
      "At random_state 61 the training score is  0.9321220100625219\n",
      "At random_state 61 the test score is  0.391141106524865\n",
      "At random_state 62 the training score is  0.946139139697693\n",
      "At random_state 62 the test score is  0.36398126153289634\n",
      "At random_state 63 the training score is  0.9226254007089573\n",
      "At random_state 63 the test score is  0.23305638102388193\n",
      "At random_state 64 the training score is  0.9101352005044006\n",
      "At random_state 64 the test score is  -0.07314755974801379\n",
      "At random_state 65 the training score is  0.9572599988932526\n",
      "At random_state 65 the test score is  -0.16807782859865994\n",
      "At random_state 66 the training score is  0.918241724383289\n",
      "At random_state 66 the test score is  0.3690017694032236\n",
      "At random_state 67 the training score is  0.9430745118014017\n",
      "At random_state 67 the test score is  -0.20772238513818864\n",
      "At random_state 68 the training score is  0.9352813073266815\n",
      "At random_state 68 the test score is  0.2054487851094936\n",
      "At random_state 69 the training score is  0.9261661948484085\n",
      "At random_state 69 the test score is  0.2539489172655698\n"
     ]
    },
    {
     "name": "stdout",
     "output_type": "stream",
     "text": [
      "At random_state 70 the training score is  0.9364476226126106\n",
      "At random_state 70 the test score is  -0.25578464250999033\n",
      "At random_state 71 the training score is  0.9370523740203301\n",
      "At random_state 71 the test score is  -0.003561120827829889\n",
      "At random_state 72 the training score is  0.9530909224352898\n",
      "At random_state 72 the test score is  0.274301599869452\n",
      "At random_state 73 the training score is  0.9229975344578641\n",
      "At random_state 73 the test score is  0.23856745280529956\n",
      "At random_state 74 the training score is  0.9295952838201117\n",
      "At random_state 74 the test score is  0.043218605419775735\n",
      "At random_state 75 the training score is  0.9598823408773397\n",
      "At random_state 75 the test score is  0.16108590574232506\n",
      "At random_state 76 the training score is  0.9352746570832631\n",
      "At random_state 76 the test score is  -0.12095494658557238\n",
      "At random_state 77 the training score is  0.9294954289483245\n",
      "At random_state 77 the test score is  0.09046665400285459\n",
      "At random_state 78 the training score is  0.9241327488914541\n",
      "At random_state 78 the test score is  -0.250541986964377\n",
      "At random_state 79 the training score is  0.9268417872171144\n",
      "At random_state 79 the test score is  -0.14148299293114142\n",
      "At random_state 80 the training score is  0.9349249765786706\n",
      "At random_state 80 the test score is  -0.13724868318343675\n",
      "At random_state 81 the training score is  0.9278257321143882\n",
      "At random_state 81 the test score is  -0.1897222785147512\n",
      "At random_state 82 the training score is  0.9266580995846754\n",
      "At random_state 82 the test score is  -0.4568664369686033\n",
      "At random_state 83 the training score is  0.9527760808089363\n",
      "At random_state 83 the test score is  -0.353725257945833\n",
      "At random_state 84 the training score is  0.9623866861237471\n",
      "At random_state 84 the test score is  0.14863969154586354\n",
      "At random_state 85 the training score is  0.9464828411184756\n",
      "At random_state 85 the test score is  -0.03045053683175003\n",
      "At random_state 86 the training score is  0.9463819447855205\n",
      "At random_state 86 the test score is  -0.2588368830042065\n",
      "At random_state 87 the training score is  0.9402235951298161\n",
      "At random_state 87 the test score is  -0.3204838214566268\n",
      "At random_state 88 the training score is  0.9242300529720064\n",
      "At random_state 88 the test score is  0.07475435916954198\n",
      "At random_state 89 the training score is  0.9270507471595193\n",
      "At random_state 89 the test score is  0.06815188234974823\n",
      "At random_state 90 the training score is  0.9601067618862431\n",
      "At random_state 90 the test score is  -0.11893482541011169\n",
      "At random_state 91 the training score is  0.9591054892510931\n",
      "At random_state 91 the test score is  0.05097556732318409\n",
      "At random_state 92 the training score is  0.929265981834106\n",
      "At random_state 92 the test score is  -0.25244023065554\n",
      "At random_state 93 the training score is  0.936366396431325\n",
      "At random_state 93 the test score is  -0.018752229562669642\n",
      "At random_state 94 the training score is  0.9202168922887479\n",
      "At random_state 94 the test score is  -0.24879464277848373\n",
      "At random_state 95 the training score is  0.9421509415004109\n",
      "At random_state 95 the test score is  -0.2175610084887789\n",
      "At random_state 96 the training score is  0.924483451792443\n",
      "At random_state 96 the test score is  0.4330215638417574\n",
      "At random_state 97 the training score is  0.9247512615747121\n",
      "At random_state 97 the test score is  -0.14705845500482928\n",
      "At random_state 98 the training score is  0.925013811684739\n",
      "At random_state 98 the test score is  -0.27006520400370837\n",
      "At random_state 99 the training score is  0.9309084329348869\n",
      "At random_state 99 the test score is  0.353591816988883\n"
     ]
    }
   ],
   "source": [
    "#selecting the best random_state\n",
    "\n",
    "for i in range(0,100):\n",
    "    x_train,x_test,y_train,y_test = train_test_split(x,y,test_size=0.20,random_state=i)\n",
    "    dtr.fit(x_train,y_train)\n",
    "    pred_dtr_train = dtr.predict(x_train)\n",
    "    pred_dtr_test = dtr.predict(x_test)\n",
    "    print(\"At random_state\",i,\"the training score is \",r2_score(y_train,pred_dtr_train))\n",
    "    print(\"At random_state\",i,\"the test score is \",r2_score(y_test,pred_dtr_test))"
   ]
  },
  {
   "cell_type": "code",
   "execution_count": 35,
   "id": "87f6025c",
   "metadata": {},
   "outputs": [],
   "source": [
    "x_train, x_test, y_train, y_test = train_test_split(x,y,test_size = 0.20,random_state =96)\n",
    "dtr.fit(x_train, y_train)\n",
    "pred_dtr_test = dtr.predict(x_test)"
   ]
  },
  {
   "cell_type": "code",
   "execution_count": 36,
   "id": "2c0f5abe",
   "metadata": {},
   "outputs": [
    {
     "name": "stdout",
     "output_type": "stream",
     "text": [
      "0.4530016517948414\n"
     ]
    }
   ],
   "source": [
    "print(r2_score(y_test,pred_dtr_test))"
   ]
  },
  {
   "cell_type": "code",
   "execution_count": 37,
   "id": "6ed299e4",
   "metadata": {},
   "outputs": [
    {
     "name": "stdout",
     "output_type": "stream",
     "text": [
      "597571136.34375\n"
     ]
    }
   ],
   "source": [
    "print(mean_squared_error(y_test,pred_dtr_test))"
   ]
  },
  {
   "cell_type": "markdown",
   "id": "8628f198",
   "metadata": {},
   "source": [
    "#### SVR"
   ]
  },
  {
   "cell_type": "code",
   "execution_count": 38,
   "id": "89ce5413",
   "metadata": {},
   "outputs": [],
   "source": [
    "from sklearn.svm import SVR\n",
    "svr = SVR('rbf')"
   ]
  },
  {
   "cell_type": "code",
   "execution_count": 39,
   "id": "d9f7dc51",
   "metadata": {},
   "outputs": [
    {
     "name": "stdout",
     "output_type": "stream",
     "text": [
      "At random state 0 the training score is  -0.043941393527427985\n",
      "At random state 0 the testing score is  0.0001399100651099383\n",
      "At random state 1 the training score is  -0.040415847658240134\n",
      "At random state 1 the testing score is  -0.0867199384647448\n",
      "At random state 2 the training score is  -0.03137498970378383\n",
      "At random state 2 the testing score is  -0.03223532434171794\n",
      "At random state 3 the training score is  -0.04687269069114963\n",
      "At random state 3 the testing score is  -0.0466670874044377\n",
      "At random state 4 the training score is  -0.03563980633395336\n",
      "At random state 4 the testing score is  -0.09543995677426231\n",
      "At random state 5 the training score is  -0.0484217756119798\n",
      "At random state 5 the testing score is  4.4055891791683344e-05\n",
      "At random state 6 the training score is  -0.04050409115768128\n",
      "At random state 6 the testing score is  -0.08111280072284432\n",
      "At random state 7 the training score is  -0.04225207391409458\n",
      "At random state 7 the testing score is  -0.05169635294817154\n",
      "At random state 8 the training score is  -0.042359259120713366\n",
      "At random state 8 the testing score is  -0.0029209617149152933\n",
      "At random state 9 the training score is  -0.043432028487209395\n",
      "At random state 9 the testing score is  -0.05337877574566008\n",
      "At random state 10 the training score is  -0.04578278158360294\n",
      "At random state 10 the testing score is  -0.04406835179254642\n",
      "At random state 11 the training score is  -0.03460784022354124\n",
      "At random state 11 the testing score is  -0.16148546303733347\n",
      "At random state 12 the training score is  -0.04674802225050212\n",
      "At random state 12 the testing score is  -0.04023560780808588\n",
      "At random state 13 the training score is  -0.03867164866884942\n",
      "At random state 13 the testing score is  0.00057355972778661\n",
      "At random state 14 the training score is  -0.03953991126410705\n",
      "At random state 14 the testing score is  -0.0026400642045047995\n",
      "At random state 15 the training score is  -0.038522770423147\n",
      "At random state 15 the testing score is  -0.010065634821435188\n",
      "At random state 16 the training score is  -0.043676164176368104\n",
      "At random state 16 the testing score is  -0.10072286889055326\n",
      "At random state 17 the training score is  -0.052282479061871\n",
      "At random state 17 the testing score is  -0.021028066089893827\n",
      "At random state 18 the training score is  -0.03612237375609251\n",
      "At random state 18 the testing score is  -0.10366979930248155\n",
      "At random state 19 the training score is  -0.053837553399117555\n",
      "At random state 19 the testing score is  -0.01347577019234758\n",
      "At random state 20 the training score is  -0.04605976367508702\n",
      "At random state 20 the testing score is  -0.08668883048762677\n",
      "At random state 21 the training score is  -0.049896972109656046\n",
      "At random state 21 the testing score is  -0.035427759881296206\n",
      "At random state 22 the training score is  -0.04108231111140026\n",
      "At random state 22 the testing score is  -0.01579252079908966\n",
      "At random state 23 the training score is  -0.047773921339053116\n",
      "At random state 23 the testing score is  -0.04310857823532421\n",
      "At random state 24 the training score is  -0.03499222433967564\n",
      "At random state 24 the testing score is  -0.16033930711911437\n",
      "At random state 25 the training score is  -0.048381077407796846\n",
      "At random state 25 the testing score is  -0.08406635469068813\n",
      "At random state 26 the training score is  -0.0470024261153823\n",
      "At random state 26 the testing score is  -0.09010948088935278\n",
      "At random state 27 the training score is  -0.04013265213068329\n",
      "At random state 27 the testing score is  -0.07734008301345163\n",
      "At random state 28 the training score is  -0.03857234362545525\n",
      "At random state 28 the testing score is  -0.05377778374333597\n",
      "At random state 29 the training score is  -0.03968283055864874\n",
      "At random state 29 the testing score is  -0.14532283065908813\n",
      "At random state 30 the training score is  -0.04402086055715215\n",
      "At random state 30 the testing score is  -0.00900430920503581\n",
      "At random state 31 the training score is  -0.047520848484429834\n",
      "At random state 31 the testing score is  -0.04415328564356091\n",
      "At random state 32 the training score is  -0.04669761315502674\n",
      "At random state 32 the testing score is  -0.0863470225854952\n",
      "At random state 33 the training score is  -0.05336128547368979\n",
      "At random state 33 the testing score is  -0.055018605320936054\n",
      "At random state 34 the training score is  -0.047839641922751586\n",
      "At random state 34 the testing score is  -0.017616239773234232\n",
      "At random state 35 the training score is  -0.04067326629156254\n",
      "At random state 35 the testing score is  -0.06417449876010917\n",
      "At random state 36 the training score is  -0.050681523829780195\n",
      "At random state 36 the testing score is  -0.03164130138889143\n",
      "At random state 37 the training score is  -0.051350835732909994\n",
      "At random state 37 the testing score is  -0.1589497726779221\n",
      "At random state 38 the training score is  -0.043302480372355845\n",
      "At random state 38 the testing score is  -0.055050530269251885\n",
      "At random state 39 the training score is  -0.04620757211646609\n",
      "At random state 39 the testing score is  -0.09280314224656894\n",
      "At random state 40 the training score is  -0.040886924479056175\n",
      "At random state 40 the testing score is  -0.07237025363826155\n",
      "At random state 41 the training score is  -0.04549595232979042\n",
      "At random state 41 the testing score is  0.0009298564276394305\n",
      "At random state 42 the training score is  -0.04539039359941954\n",
      "At random state 42 the testing score is  -0.026373747869809838\n",
      "At random state 43 the training score is  -0.048530259194663694\n",
      "At random state 43 the testing score is  -0.028537360380014087\n",
      "At random state 44 the training score is  -0.03416945998639864\n",
      "At random state 44 the testing score is  -0.0692428066664117\n",
      "At random state 45 the training score is  -0.04931527706034067\n",
      "At random state 45 the testing score is  -0.02685199228527857\n",
      "At random state 46 the training score is  -0.03522412421574628\n",
      "At random state 46 the testing score is  -0.1403648673509279\n",
      "At random state 47 the training score is  -0.04864552886379081\n",
      "At random state 47 the testing score is  -0.0008054380711814968\n",
      "At random state 48 the training score is  -0.04181976547726074\n",
      "At random state 48 the testing score is  -0.12292706802372355\n",
      "At random state 49 the training score is  -0.03311984231631948\n",
      "At random state 49 the testing score is  -0.13122651777832517\n",
      "At random state 50 the training score is  -0.04199552735711731\n",
      "At random state 50 the testing score is  -0.06989160755515345\n",
      "At random state 51 the training score is  -0.04639660696800041\n",
      "At random state 51 the testing score is  -0.019582709622494532\n",
      "At random state 52 the training score is  -0.04704432241640122\n",
      "At random state 52 the testing score is  -0.03960698328529033\n",
      "At random state 53 the training score is  -0.052391759789763626\n",
      "At random state 53 the testing score is  -0.00866906149880764\n",
      "At random state 54 the training score is  -0.039331680450237494\n",
      "At random state 54 the testing score is  -0.12461147891877311\n",
      "At random state 55 the training score is  -0.040926852915595724\n",
      "At random state 55 the testing score is  -0.04313683203669383\n",
      "At random state 56 the training score is  -0.03228670773473019\n",
      "At random state 56 the testing score is  -0.004354508688730219\n",
      "At random state 57 the training score is  -0.047571372007024326\n",
      "At random state 57 the testing score is  -0.03742788340324266\n",
      "At random state 58 the training score is  -0.0325805156145369\n",
      "At random state 58 the testing score is  -0.04564587415276544\n",
      "At random state 59 the training score is  -0.04757713082753168\n",
      "At random state 59 the testing score is  -0.03755749189203739\n",
      "At random state 60 the training score is  -0.059990883920065574\n",
      "At random state 60 the testing score is  -0.05469183419019363\n",
      "At random state 61 the training score is  -0.0383107382875032\n",
      "At random state 61 the testing score is  -0.022989170902557587\n",
      "At random state 62 the training score is  -0.03939196422831359\n",
      "At random state 62 the testing score is  -0.16506727692616896\n",
      "At random state 63 the training score is  -0.055407653090190356\n",
      "At random state 63 the testing score is  -0.013077448688068483\n",
      "At random state 64 the training score is  -0.042281400296881655\n",
      "At random state 64 the testing score is  -0.0511282665679047\n",
      "At random state 65 the training score is  -0.036678407599255\n",
      "At random state 65 the testing score is  -0.028997634385405258\n",
      "At random state 66 the training score is  -0.05748522499591924\n",
      "At random state 66 the testing score is  -0.008003116864262028\n",
      "At random state 67 the training score is  -0.03879492835125853\n",
      "At random state 67 the testing score is  -0.05231811069568959\n"
     ]
    },
    {
     "name": "stdout",
     "output_type": "stream",
     "text": [
      "At random state 68 the training score is  -0.032329090325830645\n",
      "At random state 68 the testing score is  -0.11744013848150403\n",
      "At random state 69 the training score is  -0.054562006990143797\n",
      "At random state 69 the testing score is  0.0010771746551390127\n",
      "At random state 70 the training score is  -0.05685277960322832\n",
      "At random state 70 the testing score is  -0.006356336952609398\n",
      "At random state 71 the training score is  -0.037267944096481376\n",
      "At random state 71 the testing score is  -0.09955238846727932\n",
      "At random state 72 the training score is  -0.033045490904429764\n",
      "At random state 72 the testing score is  -0.108509407800508\n",
      "At random state 73 the training score is  -0.03995468616604181\n",
      "At random state 73 the testing score is  -0.07685125021415007\n",
      "At random state 74 the training score is  -0.045157866140054015\n",
      "At random state 74 the testing score is  -0.024037970940882447\n",
      "At random state 75 the training score is  -0.036761861054726674\n",
      "At random state 75 the testing score is  -0.07641021291707095\n",
      "At random state 76 the training score is  -0.035082123340177906\n",
      "At random state 76 the testing score is  -0.19241955795367494\n",
      "At random state 77 the training score is  -0.040459052511989\n",
      "At random state 77 the testing score is  0.0007904822924003074\n",
      "At random state 78 the training score is  -0.04212401218861528\n",
      "At random state 78 the testing score is  -0.10736506351858832\n",
      "At random state 79 the training score is  -0.05257600223926184\n",
      "At random state 79 the testing score is  -0.0599377798418641\n",
      "At random state 80 the training score is  -0.048560580065715175\n",
      "At random state 80 the testing score is  -0.03280802436298935\n",
      "At random state 81 the training score is  -0.038809095938532545\n",
      "At random state 81 the testing score is  -0.07635859576343829\n",
      "At random state 82 the training score is  -0.04105555766991209\n",
      "At random state 82 the testing score is  -0.14263161919846823\n",
      "At random state 83 the training score is  -0.04699566709379388\n",
      "At random state 83 the testing score is  -0.03210527552881404\n",
      "At random state 84 the training score is  -0.0421254869559784\n",
      "At random state 84 the testing score is  -0.06973149122817768\n",
      "At random state 85 the training score is  -0.042554653809618204\n",
      "At random state 85 the testing score is  -0.006159939668297865\n",
      "At random state 86 the training score is  -0.039051469608770484\n",
      "At random state 86 the testing score is  -0.06697012991511953\n",
      "At random state 87 the training score is  -0.043233117118401276\n",
      "At random state 87 the testing score is  -0.0068132551348842885\n",
      "At random state 88 the training score is  -0.03949199111701529\n",
      "At random state 88 the testing score is  -0.05059550151082948\n",
      "At random state 89 the training score is  -0.0403317672576915\n",
      "At random state 89 the testing score is  -0.04151058258019069\n",
      "At random state 90 the training score is  -0.045242035198149066\n",
      "At random state 90 the testing score is  -0.03985355268937396\n",
      "At random state 91 the training score is  -0.05524195968541967\n",
      "At random state 91 the testing score is  -0.007612475504748861\n",
      "At random state 92 the training score is  -0.044828011312600724\n",
      "At random state 92 the testing score is  -0.024015665982600964\n",
      "At random state 93 the training score is  -0.034325718930517723\n",
      "At random state 93 the testing score is  -0.03792086047816556\n",
      "At random state 94 the training score is  -0.0464463492924756\n",
      "At random state 94 the testing score is  -0.024007219287619952\n",
      "At random state 95 the training score is  -0.0335469656928562\n",
      "At random state 95 the testing score is  -0.12852149502429788\n",
      "At random state 96 the training score is  -0.044287360656651176\n",
      "At random state 96 the testing score is  -0.05734608403567987\n",
      "At random state 97 the training score is  -0.05208225181530013\n",
      "At random state 97 the testing score is  -0.015478929598840008\n",
      "At random state 98 the training score is  -0.03921200078360565\n",
      "At random state 98 the testing score is  -0.08534647230259229\n",
      "At random state 99 the training score is  -0.050555157001423545\n",
      "At random state 99 the testing score is  -0.020867430078463034\n"
     ]
    }
   ],
   "source": [
    "for i in range(0,100):\n",
    "    x_train, x_test, y_train,y_test = train_test_split(x,y,test_size = 0.20,random_state =i)\n",
    "    svr.fit(x_train, y_train)\n",
    "    pred_svr_train = svr.predict(x_train)\n",
    "    pred_svr_test = svr.predict(x_test)\n",
    "    print(\"At random state\",i,'the training score is ',r2_score(y_train,pred_svr_train))\n",
    "    print(\"At random state\",i,'the testing score is ',r2_score(y_test,pred_svr_test))"
   ]
  },
  {
   "cell_type": "code",
   "execution_count": 40,
   "id": "61121821",
   "metadata": {},
   "outputs": [],
   "source": [
    "x_train, x_test, y_train,y_test = train_test_split(x,y,test_size = 0.20,random_state =69)\n",
    "svr.fit(x_train, y_train)\n",
    "pred_svr_test = svr.predict(x_test)"
   ]
  },
  {
   "cell_type": "code",
   "execution_count": 41,
   "id": "90a0df2f",
   "metadata": {},
   "outputs": [
    {
     "name": "stdout",
     "output_type": "stream",
     "text": [
      "0.0010771746551390127\n"
     ]
    }
   ],
   "source": [
    "print(r2_score(y_test,pred_svr_test))"
   ]
  },
  {
   "cell_type": "code",
   "execution_count": 42,
   "id": "af4a8ab8",
   "metadata": {},
   "outputs": [
    {
     "name": "stdout",
     "output_type": "stream",
     "text": [
      "807838087.8765962\n"
     ]
    }
   ],
   "source": [
    "print(mean_squared_error(y_test,pred_svr_test))"
   ]
  },
  {
   "cell_type": "markdown",
   "id": "40dbfd51",
   "metadata": {},
   "source": [
    "#### From the above models, the DecisionTreeModel is performing better."
   ]
  },
  {
   "cell_type": "code",
   "execution_count": 43,
   "id": "cd72137d",
   "metadata": {},
   "outputs": [
    {
     "name": "stdout",
     "output_type": "stream",
     "text": [
      "At cv 2\n",
      "Cross Validation score is 1.6727793757245313\n",
      "r2_score is  90.73075314231076\n",
      "\n",
      "\n",
      "At cv 3\n",
      "Cross Validation score is -13.07420083614865\n",
      "r2_score is  90.73075314231076\n",
      "\n",
      "\n",
      "At cv 4\n",
      "Cross Validation score is -3.06895314176609\n",
      "r2_score is  90.73075314231076\n",
      "\n",
      "\n",
      "At cv 5\n",
      "Cross Validation score is -11.45303816948285\n",
      "r2_score is  90.73075314231076\n",
      "\n",
      "\n",
      "At cv 6\n",
      "Cross Validation score is 4.857558637010062\n",
      "r2_score is  90.73075314231076\n",
      "\n",
      "\n",
      "At cv 7\n",
      "Cross Validation score is -11.232977107582254\n",
      "r2_score is  90.73075314231076\n",
      "\n",
      "\n",
      "At cv 8\n",
      "Cross Validation score is -3.782538071648277\n",
      "r2_score is  90.73075314231076\n",
      "\n",
      "\n",
      "At cv 9\n",
      "Cross Validation score is -9.342452073595004\n",
      "r2_score is  90.73075314231076\n",
      "\n",
      "\n"
     ]
    }
   ],
   "source": [
    "pred_dtr_test = dtr.predict(x_test)\n",
    "from sklearn.model_selection import cross_val_score\n",
    "score = r2_score(y_test,pred_dtr_test)\n",
    "for a in range(2,10):\n",
    "    cvs = cross_val_score(dtr,x,y,cv=a)\n",
    "    cvsm = cvs.mean()\n",
    "    print(\"At cv\",a)\n",
    "    print(\"Cross Validation score is\",cvsm*100)\n",
    "    print(\"r2_score is \",score*100)\n",
    "    print('\\n')\n",
    "    "
   ]
  },
  {
   "cell_type": "code",
   "execution_count": 44,
   "id": "791ce1d1",
   "metadata": {},
   "outputs": [
    {
     "name": "stdout",
     "output_type": "stream",
     "text": [
      "CV score is  -0.010642668400399569 \n",
      "r2_score is  0.9073075314231076\n"
     ]
    }
   ],
   "source": [
    "cvscore_selected = cross_val_score(dtr,x,y,cv=2).mean()\n",
    "print('CV score is ',cvscore_selected,'\\nr2_score is ',score)\n"
   ]
  },
  {
   "cell_type": "markdown",
   "id": "48df5945",
   "metadata": {},
   "source": [
    "### Model Saving"
   ]
  },
  {
   "cell_type": "code",
   "execution_count": 45,
   "id": "b876f4e5",
   "metadata": {},
   "outputs": [],
   "source": [
    "import pickle\n",
    "filename = open('Salary-model.pkl','wb')\n",
    "pickle.dump(dtr,filename)"
   ]
  },
  {
   "cell_type": "markdown",
   "id": "dae18768",
   "metadata": {},
   "source": [
    "### Conclusion"
   ]
  },
  {
   "cell_type": "code",
   "execution_count": 46,
   "id": "daeff4da",
   "metadata": {},
   "outputs": [
    {
     "data": {
      "text/html": [
       "<div>\n",
       "<style scoped>\n",
       "    .dataframe tbody tr th:only-of-type {\n",
       "        vertical-align: middle;\n",
       "    }\n",
       "\n",
       "    .dataframe tbody tr th {\n",
       "        vertical-align: top;\n",
       "    }\n",
       "\n",
       "    .dataframe thead th {\n",
       "        text-align: right;\n",
       "    }\n",
       "</style>\n",
       "<table border=\"1\" class=\"dataframe\">\n",
       "  <thead>\n",
       "    <tr style=\"text-align: right;\">\n",
       "      <th></th>\n",
       "      <th>Original</th>\n",
       "      <th>Predicted</th>\n",
       "    </tr>\n",
       "  </thead>\n",
       "  <tbody>\n",
       "    <tr>\n",
       "      <th>0</th>\n",
       "      <td>186023</td>\n",
       "      <td>186023.0</td>\n",
       "    </tr>\n",
       "    <tr>\n",
       "      <th>1</th>\n",
       "      <td>84000</td>\n",
       "      <td>84000.0</td>\n",
       "    </tr>\n",
       "    <tr>\n",
       "      <th>2</th>\n",
       "      <td>90215</td>\n",
       "      <td>90259.5</td>\n",
       "    </tr>\n",
       "    <tr>\n",
       "      <th>3</th>\n",
       "      <td>140300</td>\n",
       "      <td>140300.0</td>\n",
       "    </tr>\n",
       "    <tr>\n",
       "      <th>4</th>\n",
       "      <td>73300</td>\n",
       "      <td>73300.0</td>\n",
       "    </tr>\n",
       "    <tr>\n",
       "      <th>...</th>\n",
       "      <td>...</td>\n",
       "      <td>...</td>\n",
       "    </tr>\n",
       "    <tr>\n",
       "      <th>75</th>\n",
       "      <td>103275</td>\n",
       "      <td>103275.0</td>\n",
       "    </tr>\n",
       "    <tr>\n",
       "      <th>76</th>\n",
       "      <td>119500</td>\n",
       "      <td>112865.5</td>\n",
       "    </tr>\n",
       "    <tr>\n",
       "      <th>77</th>\n",
       "      <td>108262</td>\n",
       "      <td>108262.0</td>\n",
       "    </tr>\n",
       "    <tr>\n",
       "      <th>78</th>\n",
       "      <td>95436</td>\n",
       "      <td>102065.0</td>\n",
       "    </tr>\n",
       "    <tr>\n",
       "      <th>79</th>\n",
       "      <td>141500</td>\n",
       "      <td>119700.0</td>\n",
       "    </tr>\n",
       "  </tbody>\n",
       "</table>\n",
       "<p>80 rows × 2 columns</p>\n",
       "</div>"
      ],
      "text/plain": [
       "    Original  Predicted\n",
       "0     186023   186023.0\n",
       "1      84000    84000.0\n",
       "2      90215    90259.5\n",
       "3     140300   140300.0\n",
       "4      73300    73300.0\n",
       "..       ...        ...\n",
       "75    103275   103275.0\n",
       "76    119500   112865.5\n",
       "77    108262   108262.0\n",
       "78     95436   102065.0\n",
       "79    141500   119700.0\n",
       "\n",
       "[80 rows x 2 columns]"
      ]
     },
     "execution_count": 46,
     "metadata": {},
     "output_type": "execute_result"
    }
   ],
   "source": [
    "a = np.array(y_test)\n",
    "predicted = np.array(dtr.predict(x_test))\n",
    "df_com = pd.DataFrame({'Original':a,'Predicted':predicted})\n",
    "df_com"
   ]
  },
  {
   "cell_type": "code",
   "execution_count": null,
   "id": "810d92e8",
   "metadata": {},
   "outputs": [],
   "source": []
  }
 ],
 "metadata": {
  "kernelspec": {
   "display_name": "Python 3",
   "language": "python",
   "name": "python3"
  },
  "language_info": {
   "codemirror_mode": {
    "name": "ipython",
    "version": 3
   },
   "file_extension": ".py",
   "mimetype": "text/x-python",
   "name": "python",
   "nbconvert_exporter": "python",
   "pygments_lexer": "ipython3",
   "version": "3.8.8"
  }
 },
 "nbformat": 4,
 "nbformat_minor": 5
}
