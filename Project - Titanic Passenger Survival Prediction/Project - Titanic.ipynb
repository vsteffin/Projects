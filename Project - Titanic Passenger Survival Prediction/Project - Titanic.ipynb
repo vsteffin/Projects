{
 "cells": [
  {
   "cell_type": "markdown",
   "id": "cb14d43c",
   "metadata": {},
   "source": [
    "## Titanic - Case Study"
   ]
  },
  {
   "cell_type": "markdown",
   "id": "5045154d",
   "metadata": {},
   "source": [
    "### Problem Statement:"
   ]
  },
  {
   "cell_type": "markdown",
   "id": "1cde82fa",
   "metadata": {},
   "source": [
    "#### The Titanic Problem is based on the sinking of the ‘Unsinkable’ ship Titanic in early 1912. It gives you information about multiple people like their ages, sexes, sibling counts, embarkment points, and whether or not they survived the disaster. "
   ]
  },
  {
   "cell_type": "code",
   "execution_count": 24,
   "id": "7213ffcf",
   "metadata": {},
   "outputs": [
    {
     "data": {
      "text/html": [
       "<div>\n",
       "<style scoped>\n",
       "    .dataframe tbody tr th:only-of-type {\n",
       "        vertical-align: middle;\n",
       "    }\n",
       "\n",
       "    .dataframe tbody tr th {\n",
       "        vertical-align: top;\n",
       "    }\n",
       "\n",
       "    .dataframe thead th {\n",
       "        text-align: right;\n",
       "    }\n",
       "</style>\n",
       "<table border=\"1\" class=\"dataframe\">\n",
       "  <thead>\n",
       "    <tr style=\"text-align: right;\">\n",
       "      <th></th>\n",
       "      <th>PassengerId</th>\n",
       "      <th>Survived</th>\n",
       "      <th>Pclass</th>\n",
       "      <th>Name</th>\n",
       "      <th>Sex</th>\n",
       "      <th>Age</th>\n",
       "      <th>SibSp</th>\n",
       "      <th>Parch</th>\n",
       "      <th>Ticket</th>\n",
       "      <th>Fare</th>\n",
       "      <th>Cabin</th>\n",
       "      <th>Embarked</th>\n",
       "    </tr>\n",
       "  </thead>\n",
       "  <tbody>\n",
       "    <tr>\n",
       "      <th>0</th>\n",
       "      <td>1</td>\n",
       "      <td>0</td>\n",
       "      <td>3</td>\n",
       "      <td>Braund, Mr. Owen Harris</td>\n",
       "      <td>male</td>\n",
       "      <td>22.0</td>\n",
       "      <td>1</td>\n",
       "      <td>0</td>\n",
       "      <td>A/5 21171</td>\n",
       "      <td>7.2500</td>\n",
       "      <td>NaN</td>\n",
       "      <td>S</td>\n",
       "    </tr>\n",
       "    <tr>\n",
       "      <th>1</th>\n",
       "      <td>2</td>\n",
       "      <td>1</td>\n",
       "      <td>1</td>\n",
       "      <td>Cumings, Mrs. John Bradley (Florence Briggs Th...</td>\n",
       "      <td>female</td>\n",
       "      <td>38.0</td>\n",
       "      <td>1</td>\n",
       "      <td>0</td>\n",
       "      <td>PC 17599</td>\n",
       "      <td>71.2833</td>\n",
       "      <td>C85</td>\n",
       "      <td>C</td>\n",
       "    </tr>\n",
       "    <tr>\n",
       "      <th>2</th>\n",
       "      <td>3</td>\n",
       "      <td>1</td>\n",
       "      <td>3</td>\n",
       "      <td>Heikkinen, Miss. Laina</td>\n",
       "      <td>female</td>\n",
       "      <td>26.0</td>\n",
       "      <td>0</td>\n",
       "      <td>0</td>\n",
       "      <td>STON/O2. 3101282</td>\n",
       "      <td>7.9250</td>\n",
       "      <td>NaN</td>\n",
       "      <td>S</td>\n",
       "    </tr>\n",
       "    <tr>\n",
       "      <th>3</th>\n",
       "      <td>4</td>\n",
       "      <td>1</td>\n",
       "      <td>1</td>\n",
       "      <td>Futrelle, Mrs. Jacques Heath (Lily May Peel)</td>\n",
       "      <td>female</td>\n",
       "      <td>35.0</td>\n",
       "      <td>1</td>\n",
       "      <td>0</td>\n",
       "      <td>113803</td>\n",
       "      <td>53.1000</td>\n",
       "      <td>C123</td>\n",
       "      <td>S</td>\n",
       "    </tr>\n",
       "    <tr>\n",
       "      <th>4</th>\n",
       "      <td>5</td>\n",
       "      <td>0</td>\n",
       "      <td>3</td>\n",
       "      <td>Allen, Mr. William Henry</td>\n",
       "      <td>male</td>\n",
       "      <td>35.0</td>\n",
       "      <td>0</td>\n",
       "      <td>0</td>\n",
       "      <td>373450</td>\n",
       "      <td>8.0500</td>\n",
       "      <td>NaN</td>\n",
       "      <td>S</td>\n",
       "    </tr>\n",
       "    <tr>\n",
       "      <th>5</th>\n",
       "      <td>6</td>\n",
       "      <td>0</td>\n",
       "      <td>3</td>\n",
       "      <td>Moran, Mr. James</td>\n",
       "      <td>male</td>\n",
       "      <td>NaN</td>\n",
       "      <td>0</td>\n",
       "      <td>0</td>\n",
       "      <td>330877</td>\n",
       "      <td>8.4583</td>\n",
       "      <td>NaN</td>\n",
       "      <td>Q</td>\n",
       "    </tr>\n",
       "    <tr>\n",
       "      <th>6</th>\n",
       "      <td>7</td>\n",
       "      <td>0</td>\n",
       "      <td>1</td>\n",
       "      <td>McCarthy, Mr. Timothy J</td>\n",
       "      <td>male</td>\n",
       "      <td>54.0</td>\n",
       "      <td>0</td>\n",
       "      <td>0</td>\n",
       "      <td>17463</td>\n",
       "      <td>51.8625</td>\n",
       "      <td>E46</td>\n",
       "      <td>S</td>\n",
       "    </tr>\n",
       "    <tr>\n",
       "      <th>7</th>\n",
       "      <td>8</td>\n",
       "      <td>0</td>\n",
       "      <td>3</td>\n",
       "      <td>Palsson, Master. Gosta Leonard</td>\n",
       "      <td>male</td>\n",
       "      <td>2.0</td>\n",
       "      <td>3</td>\n",
       "      <td>1</td>\n",
       "      <td>349909</td>\n",
       "      <td>21.0750</td>\n",
       "      <td>NaN</td>\n",
       "      <td>S</td>\n",
       "    </tr>\n",
       "    <tr>\n",
       "      <th>8</th>\n",
       "      <td>9</td>\n",
       "      <td>1</td>\n",
       "      <td>3</td>\n",
       "      <td>Johnson, Mrs. Oscar W (Elisabeth Vilhelmina Berg)</td>\n",
       "      <td>female</td>\n",
       "      <td>27.0</td>\n",
       "      <td>0</td>\n",
       "      <td>2</td>\n",
       "      <td>347742</td>\n",
       "      <td>11.1333</td>\n",
       "      <td>NaN</td>\n",
       "      <td>S</td>\n",
       "    </tr>\n",
       "    <tr>\n",
       "      <th>9</th>\n",
       "      <td>10</td>\n",
       "      <td>1</td>\n",
       "      <td>2</td>\n",
       "      <td>Nasser, Mrs. Nicholas (Adele Achem)</td>\n",
       "      <td>female</td>\n",
       "      <td>14.0</td>\n",
       "      <td>1</td>\n",
       "      <td>0</td>\n",
       "      <td>237736</td>\n",
       "      <td>30.0708</td>\n",
       "      <td>NaN</td>\n",
       "      <td>C</td>\n",
       "    </tr>\n",
       "  </tbody>\n",
       "</table>\n",
       "</div>"
      ],
      "text/plain": [
       "   PassengerId  Survived  Pclass  \\\n",
       "0            1         0       3   \n",
       "1            2         1       1   \n",
       "2            3         1       3   \n",
       "3            4         1       1   \n",
       "4            5         0       3   \n",
       "5            6         0       3   \n",
       "6            7         0       1   \n",
       "7            8         0       3   \n",
       "8            9         1       3   \n",
       "9           10         1       2   \n",
       "\n",
       "                                                Name     Sex   Age  SibSp  \\\n",
       "0                            Braund, Mr. Owen Harris    male  22.0      1   \n",
       "1  Cumings, Mrs. John Bradley (Florence Briggs Th...  female  38.0      1   \n",
       "2                             Heikkinen, Miss. Laina  female  26.0      0   \n",
       "3       Futrelle, Mrs. Jacques Heath (Lily May Peel)  female  35.0      1   \n",
       "4                           Allen, Mr. William Henry    male  35.0      0   \n",
       "5                                   Moran, Mr. James    male   NaN      0   \n",
       "6                            McCarthy, Mr. Timothy J    male  54.0      0   \n",
       "7                     Palsson, Master. Gosta Leonard    male   2.0      3   \n",
       "8  Johnson, Mrs. Oscar W (Elisabeth Vilhelmina Berg)  female  27.0      0   \n",
       "9                Nasser, Mrs. Nicholas (Adele Achem)  female  14.0      1   \n",
       "\n",
       "   Parch            Ticket     Fare Cabin Embarked  \n",
       "0      0         A/5 21171   7.2500   NaN        S  \n",
       "1      0          PC 17599  71.2833   C85        C  \n",
       "2      0  STON/O2. 3101282   7.9250   NaN        S  \n",
       "3      0            113803  53.1000  C123        S  \n",
       "4      0            373450   8.0500   NaN        S  \n",
       "5      0            330877   8.4583   NaN        Q  \n",
       "6      0             17463  51.8625   E46        S  \n",
       "7      1            349909  21.0750   NaN        S  \n",
       "8      2            347742  11.1333   NaN        S  \n",
       "9      0            237736  30.0708   NaN        C  "
      ]
     },
     "execution_count": 24,
     "metadata": {},
     "output_type": "execute_result"
    }
   ],
   "source": [
    "#Loading the dataset\n",
    "import pandas as pd\n",
    "\n",
    "import warnings\n",
    "warnings.filterwarnings('ignore')\n",
    "\n",
    "data = pd.read_csv('titanic_train.csv')\n",
    "\n",
    "\n",
    "data.head(10)"
   ]
  },
  {
   "cell_type": "code",
   "execution_count": 25,
   "id": "181a24d4",
   "metadata": {},
   "outputs": [
    {
     "data": {
      "text/plain": [
       "(891, 12)"
      ]
     },
     "execution_count": 25,
     "metadata": {},
     "output_type": "execute_result"
    }
   ],
   "source": [
    "data.shape"
   ]
  },
  {
   "cell_type": "markdown",
   "id": "1e36eb12",
   "metadata": {},
   "source": [
    "We have 891 rows and 12 columns in the dataset."
   ]
  },
  {
   "cell_type": "code",
   "execution_count": 26,
   "id": "6ab1a698",
   "metadata": {},
   "outputs": [
    {
     "data": {
      "text/plain": [
       "Index(['PassengerId', 'Survived', 'Pclass', 'Name', 'Sex', 'Age', 'SibSp',\n",
       "       'Parch', 'Ticket', 'Fare', 'Cabin', 'Embarked'],\n",
       "      dtype='object')"
      ]
     },
     "execution_count": 26,
     "metadata": {},
     "output_type": "execute_result"
    }
   ],
   "source": [
    "data.columns"
   ]
  },
  {
   "cell_type": "code",
   "execution_count": 27,
   "id": "c6c937cd",
   "metadata": {},
   "outputs": [
    {
     "data": {
      "text/plain": [
       "PassengerId      int64\n",
       "Survived         int64\n",
       "Pclass           int64\n",
       "Name            object\n",
       "Sex             object\n",
       "Age            float64\n",
       "SibSp            int64\n",
       "Parch            int64\n",
       "Ticket          object\n",
       "Fare           float64\n",
       "Cabin           object\n",
       "Embarked        object\n",
       "dtype: object"
      ]
     },
     "execution_count": 27,
     "metadata": {},
     "output_type": "execute_result"
    }
   ],
   "source": [
    "data.dtypes"
   ]
  },
  {
   "cell_type": "markdown",
   "id": "bb8bd459",
   "metadata": {},
   "source": [
    "We have continuous and categorical data in the dataset."
   ]
  },
  {
   "cell_type": "markdown",
   "id": "2805a17e",
   "metadata": {},
   "source": [
    "### Features"
   ]
  },
  {
   "cell_type": "markdown",
   "id": "6149763d",
   "metadata": {},
   "source": [
    "1. PassengerID - to indicating place of data in rows and used as a means of identification.\n",
    "2. Pclass - Passenger Class (1 = 1st; 2 = 2nd; 3 = 3rd)\n",
    "3. Name - Name of the passenger\n",
    "4. Sex - Gender of the passenger\n",
    "5. Age - Age of the passenger\n",
    "6. SibSp - Number of Siblings/Spouses Aboard\n",
    "7. Parch - Number of Parents/Children Aboard\n",
    "8. Ticket - Ticket Number\n",
    "9. Fare - Passenger Fare (British pound)\n",
    "10. Cabin - Cabin\n",
    "11. Embarked - Port of Embarkation (C = Cherbourg; Q = Queenstown; S = Southampton)"
   ]
  },
  {
   "cell_type": "markdown",
   "id": "e059746c",
   "metadata": {},
   "source": [
    "### Target"
   ]
  },
  {
   "cell_type": "markdown",
   "id": "b14bd985",
   "metadata": {},
   "source": [
    "survival - Survival (0 = No; 1 = Yes)"
   ]
  },
  {
   "cell_type": "markdown",
   "id": "9a30ee95",
   "metadata": {},
   "source": [
    "### We have to predict the survival of an arbitrary passenger on Titanic would survive the sinking or not based on above features."
   ]
  },
  {
   "cell_type": "markdown",
   "id": "6547c74b",
   "metadata": {},
   "source": [
    "### Checking for Missing Values"
   ]
  },
  {
   "cell_type": "code",
   "execution_count": 28,
   "id": "cddeb2bb",
   "metadata": {},
   "outputs": [
    {
     "name": "stdout",
     "output_type": "stream",
     "text": [
      "PassengerId      0\n",
      "Survived         0\n",
      "Pclass           0\n",
      "Name             0\n",
      "Sex              0\n",
      "Age            177\n",
      "SibSp            0\n",
      "Parch            0\n",
      "Ticket           0\n",
      "Fare             0\n",
      "Cabin          687\n",
      "Embarked         2\n",
      "dtype: int64\n"
     ]
    },
    {
     "data": {
      "image/png": "[encoded data removed]",
      "text/plain": [
       "<Figure size 432x432 with 2 Axes>"
      ]
     },
     "metadata": {
      "needs_background": "light"
     },
     "output_type": "display_data"
    }
   ],
   "source": [
    "import matplotlib.pyplot as plt\n",
    "import seaborn as sns\n",
    "\n",
    "plt.figure(figsize=[6,6])\n",
    "sns.heatmap(data.isnull())\n",
    "print(data.isnull().sum())"
   ]
  },
  {
   "cell_type": "markdown",
   "id": "0c2c26ba",
   "metadata": {},
   "source": [
    "There are missing values in the column ['Age','Cabin','Embarked']\n",
    "\n",
    "- NaN Values\n",
    "1. Age - 177\n",
    "2. Cabin - 687\n",
    "3. Embarked - 2\n",
    "\n",
    "Here the column 'Age' is having integer data and columns ['Cabin','Embarked'] are having object type data. We can ignore the missing values in column 'Cabin' as it just an identification number for cabin of each passenger."
   ]
  },
  {
   "cell_type": "code",
   "execution_count": 29,
   "id": "b46a9688",
   "metadata": {},
   "outputs": [],
   "source": [
    "#Replacing the missing values\n",
    "import numpy as np\n",
    "\n",
    "data['Age'].fillna(np.mean(data['Age']),inplace = True)\n",
    "data['Age'] = data['Age'].astype('int64')\n",
    "data['Embarked'].fillna(data['Embarked'].mode()[0], inplace=True)"
   ]
  },
  {
   "cell_type": "code",
   "execution_count": 30,
   "id": "b65dabb7",
   "metadata": {},
   "outputs": [
    {
     "name": "stdout",
     "output_type": "stream",
     "text": [
      "PassengerId      0\n",
      "Survived         0\n",
      "Pclass           0\n",
      "Name             0\n",
      "Sex              0\n",
      "Age              0\n",
      "SibSp            0\n",
      "Parch            0\n",
      "Ticket           0\n",
      "Fare             0\n",
      "Cabin          687\n",
      "Embarked         0\n",
      "dtype: int64\n"
     ]
    },
    {
     "data": {
      "image/png": "[encoded data removed]",
      "text/plain": [
       "<Figure size 432x432 with 2 Axes>"
      ]
     },
     "metadata": {
      "needs_background": "light"
     },
     "output_type": "display_data"
    }
   ],
   "source": [
    "plt.figure(figsize=[6,6])\n",
    "sns.heatmap(data.isnull())\n",
    "print(data.isnull().sum())"
   ]
  },
  {
   "cell_type": "markdown",
   "id": "4b183642",
   "metadata": {},
   "source": [
    "We have replaced the missing values in column 'Age' with the mean value of the column and replaced missing values in column 'Embarked' with the mode value of the column."
   ]
  },
  {
   "cell_type": "code",
   "execution_count": 34,
   "id": "b14f0640",
   "metadata": {},
   "outputs": [
    {
     "data": {
      "text/html": [
       "<div>\n",
       "<style scoped>\n",
       "    .dataframe tbody tr th:only-of-type {\n",
       "        vertical-align: middle;\n",
       "    }\n",
       "\n",
       "    .dataframe tbody tr th {\n",
       "        vertical-align: top;\n",
       "    }\n",
       "\n",
       "    .dataframe thead th {\n",
       "        text-align: right;\n",
       "    }\n",
       "</style>\n",
       "<table border=\"1\" class=\"dataframe\">\n",
       "  <thead>\n",
       "    <tr style=\"text-align: right;\">\n",
       "      <th></th>\n",
       "      <th>Survived</th>\n",
       "      <th>Pclass</th>\n",
       "      <th>Name</th>\n",
       "      <th>Sex</th>\n",
       "      <th>Age</th>\n",
       "      <th>SibSp</th>\n",
       "      <th>Parch</th>\n",
       "      <th>Ticket</th>\n",
       "      <th>Fare</th>\n",
       "      <th>Cabin</th>\n",
       "      <th>Embarked</th>\n",
       "    </tr>\n",
       "    <tr>\n",
       "      <th>PassengerId</th>\n",
       "      <th></th>\n",
       "      <th></th>\n",
       "      <th></th>\n",
       "      <th></th>\n",
       "      <th></th>\n",
       "      <th></th>\n",
       "      <th></th>\n",
       "      <th></th>\n",
       "      <th></th>\n",
       "      <th></th>\n",
       "      <th></th>\n",
       "    </tr>\n",
       "  </thead>\n",
       "  <tbody>\n",
       "    <tr>\n",
       "      <th>1</th>\n",
       "      <td>0</td>\n",
       "      <td>3</td>\n",
       "      <td>Braund, Mr. Owen Harris</td>\n",
       "      <td>male</td>\n",
       "      <td>22</td>\n",
       "      <td>1</td>\n",
       "      <td>0</td>\n",
       "      <td>A/5 21171</td>\n",
       "      <td>7.2500</td>\n",
       "      <td>NaN</td>\n",
       "      <td>S</td>\n",
       "    </tr>\n",
       "    <tr>\n",
       "      <th>2</th>\n",
       "      <td>1</td>\n",
       "      <td>1</td>\n",
       "      <td>Cumings, Mrs. John Bradley (Florence Briggs Th...</td>\n",
       "      <td>female</td>\n",
       "      <td>38</td>\n",
       "      <td>1</td>\n",
       "      <td>0</td>\n",
       "      <td>PC 17599</td>\n",
       "      <td>71.2833</td>\n",
       "      <td>C85</td>\n",
       "      <td>C</td>\n",
       "    </tr>\n",
       "    <tr>\n",
       "      <th>3</th>\n",
       "      <td>1</td>\n",
       "      <td>3</td>\n",
       "      <td>Heikkinen, Miss. Laina</td>\n",
       "      <td>female</td>\n",
       "      <td>26</td>\n",
       "      <td>0</td>\n",
       "      <td>0</td>\n",
       "      <td>STON/O2. 3101282</td>\n",
       "      <td>7.9250</td>\n",
       "      <td>NaN</td>\n",
       "      <td>S</td>\n",
       "    </tr>\n",
       "    <tr>\n",
       "      <th>4</th>\n",
       "      <td>1</td>\n",
       "      <td>1</td>\n",
       "      <td>Futrelle, Mrs. Jacques Heath (Lily May Peel)</td>\n",
       "      <td>female</td>\n",
       "      <td>35</td>\n",
       "      <td>1</td>\n",
       "      <td>0</td>\n",
       "      <td>113803</td>\n",
       "      <td>53.1000</td>\n",
       "      <td>C123</td>\n",
       "      <td>S</td>\n",
       "    </tr>\n",
       "    <tr>\n",
       "      <th>5</th>\n",
       "      <td>0</td>\n",
       "      <td>3</td>\n",
       "      <td>Allen, Mr. William Henry</td>\n",
       "      <td>male</td>\n",
       "      <td>35</td>\n",
       "      <td>0</td>\n",
       "      <td>0</td>\n",
       "      <td>373450</td>\n",
       "      <td>8.0500</td>\n",
       "      <td>NaN</td>\n",
       "      <td>S</td>\n",
       "    </tr>\n",
       "    <tr>\n",
       "      <th>...</th>\n",
       "      <td>...</td>\n",
       "      <td>...</td>\n",
       "      <td>...</td>\n",
       "      <td>...</td>\n",
       "      <td>...</td>\n",
       "      <td>...</td>\n",
       "      <td>...</td>\n",
       "      <td>...</td>\n",
       "      <td>...</td>\n",
       "      <td>...</td>\n",
       "      <td>...</td>\n",
       "    </tr>\n",
       "    <tr>\n",
       "      <th>887</th>\n",
       "      <td>0</td>\n",
       "      <td>2</td>\n",
       "      <td>Montvila, Rev. Juozas</td>\n",
       "      <td>male</td>\n",
       "      <td>27</td>\n",
       "      <td>0</td>\n",
       "      <td>0</td>\n",
       "      <td>211536</td>\n",
       "      <td>13.0000</td>\n",
       "      <td>NaN</td>\n",
       "      <td>S</td>\n",
       "    </tr>\n",
       "    <tr>\n",
       "      <th>888</th>\n",
       "      <td>1</td>\n",
       "      <td>1</td>\n",
       "      <td>Graham, Miss. Margaret Edith</td>\n",
       "      <td>female</td>\n",
       "      <td>19</td>\n",
       "      <td>0</td>\n",
       "      <td>0</td>\n",
       "      <td>112053</td>\n",
       "      <td>30.0000</td>\n",
       "      <td>B42</td>\n",
       "      <td>S</td>\n",
       "    </tr>\n",
       "    <tr>\n",
       "      <th>889</th>\n",
       "      <td>0</td>\n",
       "      <td>3</td>\n",
       "      <td>Johnston, Miss. Catherine Helen \"Carrie\"</td>\n",
       "      <td>female</td>\n",
       "      <td>29</td>\n",
       "      <td>1</td>\n",
       "      <td>2</td>\n",
       "      <td>W./C. 6607</td>\n",
       "      <td>23.4500</td>\n",
       "      <td>NaN</td>\n",
       "      <td>S</td>\n",
       "    </tr>\n",
       "    <tr>\n",
       "      <th>890</th>\n",
       "      <td>1</td>\n",
       "      <td>1</td>\n",
       "      <td>Behr, Mr. Karl Howell</td>\n",
       "      <td>male</td>\n",
       "      <td>26</td>\n",
       "      <td>0</td>\n",
       "      <td>0</td>\n",
       "      <td>111369</td>\n",
       "      <td>30.0000</td>\n",
       "      <td>C148</td>\n",
       "      <td>C</td>\n",
       "    </tr>\n",
       "    <tr>\n",
       "      <th>891</th>\n",
       "      <td>0</td>\n",
       "      <td>3</td>\n",
       "      <td>Dooley, Mr. Patrick</td>\n",
       "      <td>male</td>\n",
       "      <td>32</td>\n",
       "      <td>0</td>\n",
       "      <td>0</td>\n",
       "      <td>370376</td>\n",
       "      <td>7.7500</td>\n",
       "      <td>NaN</td>\n",
       "      <td>Q</td>\n",
       "    </tr>\n",
       "  </tbody>\n",
       "</table>\n",
       "<p>891 rows × 11 columns</p>\n",
       "</div>"
      ],
      "text/plain": [
       "             Survived  Pclass  \\\n",
       "PassengerId                     \n",
       "1                   0       3   \n",
       "2                   1       1   \n",
       "3                   1       3   \n",
       "4                   1       1   \n",
       "5                   0       3   \n",
       "...               ...     ...   \n",
       "887                 0       2   \n",
       "888                 1       1   \n",
       "889                 0       3   \n",
       "890                 1       1   \n",
       "891                 0       3   \n",
       "\n",
       "                                                          Name     Sex  Age  \\\n",
       "PassengerId                                                                   \n",
       "1                                      Braund, Mr. Owen Harris    male   22   \n",
       "2            Cumings, Mrs. John Bradley (Florence Briggs Th...  female   38   \n",
       "3                                       Heikkinen, Miss. Laina  female   26   \n",
       "4                 Futrelle, Mrs. Jacques Heath (Lily May Peel)  female   35   \n",
       "5                                     Allen, Mr. William Henry    male   35   \n",
       "...                                                        ...     ...  ...   \n",
       "887                                      Montvila, Rev. Juozas    male   27   \n",
       "888                               Graham, Miss. Margaret Edith  female   19   \n",
       "889                   Johnston, Miss. Catherine Helen \"Carrie\"  female   29   \n",
       "890                                      Behr, Mr. Karl Howell    male   26   \n",
       "891                                        Dooley, Mr. Patrick    male   32   \n",
       "\n",
       "             SibSp  Parch            Ticket     Fare Cabin Embarked  \n",
       "PassengerId                                                          \n",
       "1                1      0         A/5 21171   7.2500   NaN        S  \n",
       "2                1      0          PC 17599  71.2833   C85        C  \n",
       "3                0      0  STON/O2. 3101282   7.9250   NaN        S  \n",
       "4                1      0            113803  53.1000  C123        S  \n",
       "5                0      0            373450   8.0500   NaN        S  \n",
       "...            ...    ...               ...      ...   ...      ...  \n",
       "887              0      0            211536  13.0000   NaN        S  \n",
       "888              0      0            112053  30.0000   B42        S  \n",
       "889              1      2        W./C. 6607  23.4500   NaN        S  \n",
       "890              0      0            111369  30.0000  C148        C  \n",
       "891              0      0            370376   7.7500   NaN        Q  \n",
       "\n",
       "[891 rows x 11 columns]"
      ]
     },
     "execution_count": 34,
     "metadata": {},
     "output_type": "execute_result"
    }
   ],
   "source": [
    "#Since the data is having the passengerID, we can change the default index to PassengerID.\n",
    "data.set_index(data.columns[0],inplace = True) \n",
    "data"
   ]
  },
  {
   "cell_type": "markdown",
   "id": "ab8bf9b1",
   "metadata": {},
   "source": [
    "### Encoding the categorical data"
   ]
  },
  {
   "cell_type": "code",
   "execution_count": 31,
   "id": "a4983d8a",
   "metadata": {},
   "outputs": [
    {
     "data": {
      "text/plain": [
       "PassengerId      int64\n",
       "Survived         int64\n",
       "Pclass           int64\n",
       "Name            object\n",
       "Sex             object\n",
       "Age              int64\n",
       "SibSp            int64\n",
       "Parch            int64\n",
       "Ticket          object\n",
       "Fare           float64\n",
       "Cabin           object\n",
       "Embarked        object\n",
       "dtype: object"
      ]
     },
     "execution_count": 31,
     "metadata": {},
     "output_type": "execute_result"
    }
   ],
   "source": [
    "data.dtypes"
   ]
  },
  {
   "cell_type": "markdown",
   "id": "13573783",
   "metadata": {},
   "source": [
    "By observing the dataset, the columns ['PassengerId','Name','Ticket','Cabin'] are for identification of passengers which is not influencing the target column 'Survived'. "
   ]
  },
  {
   "cell_type": "code",
   "execution_count": 35,
   "id": "3188b7ef",
   "metadata": {},
   "outputs": [],
   "source": [
    "from sklearn.preprocessing import OrdinalEncoder\n",
    "enc = OrdinalEncoder()"
   ]
  },
  {
   "cell_type": "markdown",
   "id": "9f6b9e63",
   "metadata": {},
   "source": [
    "We can encode the data in columns 'Sex' and 'Embarked' as they are influencing the target column."
   ]
  },
  {
   "cell_type": "code",
   "execution_count": 37,
   "id": "ae9f99b9",
   "metadata": {},
   "outputs": [
    {
     "data": {
      "text/html": [
       "<div>\n",
       "<style scoped>\n",
       "    .dataframe tbody tr th:only-of-type {\n",
       "        vertical-align: middle;\n",
       "    }\n",
       "\n",
       "    .dataframe tbody tr th {\n",
       "        vertical-align: top;\n",
       "    }\n",
       "\n",
       "    .dataframe thead th {\n",
       "        text-align: right;\n",
       "    }\n",
       "</style>\n",
       "<table border=\"1\" class=\"dataframe\">\n",
       "  <thead>\n",
       "    <tr style=\"text-align: right;\">\n",
       "      <th></th>\n",
       "      <th>Survived</th>\n",
       "      <th>Pclass</th>\n",
       "      <th>Name</th>\n",
       "      <th>Sex</th>\n",
       "      <th>Age</th>\n",
       "      <th>SibSp</th>\n",
       "      <th>Parch</th>\n",
       "      <th>Ticket</th>\n",
       "      <th>Fare</th>\n",
       "      <th>Cabin</th>\n",
       "      <th>Embarked</th>\n",
       "    </tr>\n",
       "    <tr>\n",
       "      <th>PassengerId</th>\n",
       "      <th></th>\n",
       "      <th></th>\n",
       "      <th></th>\n",
       "      <th></th>\n",
       "      <th></th>\n",
       "      <th></th>\n",
       "      <th></th>\n",
       "      <th></th>\n",
       "      <th></th>\n",
       "      <th></th>\n",
       "      <th></th>\n",
       "    </tr>\n",
       "  </thead>\n",
       "  <tbody>\n",
       "    <tr>\n",
       "      <th>1</th>\n",
       "      <td>0</td>\n",
       "      <td>3</td>\n",
       "      <td>Braund, Mr. Owen Harris</td>\n",
       "      <td>1.0</td>\n",
       "      <td>22</td>\n",
       "      <td>1</td>\n",
       "      <td>0</td>\n",
       "      <td>A/5 21171</td>\n",
       "      <td>7.2500</td>\n",
       "      <td>NaN</td>\n",
       "      <td>2.0</td>\n",
       "    </tr>\n",
       "    <tr>\n",
       "      <th>2</th>\n",
       "      <td>1</td>\n",
       "      <td>1</td>\n",
       "      <td>Cumings, Mrs. John Bradley (Florence Briggs Th...</td>\n",
       "      <td>0.0</td>\n",
       "      <td>38</td>\n",
       "      <td>1</td>\n",
       "      <td>0</td>\n",
       "      <td>PC 17599</td>\n",
       "      <td>71.2833</td>\n",
       "      <td>C85</td>\n",
       "      <td>0.0</td>\n",
       "    </tr>\n",
       "    <tr>\n",
       "      <th>3</th>\n",
       "      <td>1</td>\n",
       "      <td>3</td>\n",
       "      <td>Heikkinen, Miss. Laina</td>\n",
       "      <td>0.0</td>\n",
       "      <td>26</td>\n",
       "      <td>0</td>\n",
       "      <td>0</td>\n",
       "      <td>STON/O2. 3101282</td>\n",
       "      <td>7.9250</td>\n",
       "      <td>NaN</td>\n",
       "      <td>2.0</td>\n",
       "    </tr>\n",
       "    <tr>\n",
       "      <th>4</th>\n",
       "      <td>1</td>\n",
       "      <td>1</td>\n",
       "      <td>Futrelle, Mrs. Jacques Heath (Lily May Peel)</td>\n",
       "      <td>0.0</td>\n",
       "      <td>35</td>\n",
       "      <td>1</td>\n",
       "      <td>0</td>\n",
       "      <td>113803</td>\n",
       "      <td>53.1000</td>\n",
       "      <td>C123</td>\n",
       "      <td>2.0</td>\n",
       "    </tr>\n",
       "    <tr>\n",
       "      <th>5</th>\n",
       "      <td>0</td>\n",
       "      <td>3</td>\n",
       "      <td>Allen, Mr. William Henry</td>\n",
       "      <td>1.0</td>\n",
       "      <td>35</td>\n",
       "      <td>0</td>\n",
       "      <td>0</td>\n",
       "      <td>373450</td>\n",
       "      <td>8.0500</td>\n",
       "      <td>NaN</td>\n",
       "      <td>2.0</td>\n",
       "    </tr>\n",
       "    <tr>\n",
       "      <th>...</th>\n",
       "      <td>...</td>\n",
       "      <td>...</td>\n",
       "      <td>...</td>\n",
       "      <td>...</td>\n",
       "      <td>...</td>\n",
       "      <td>...</td>\n",
       "      <td>...</td>\n",
       "      <td>...</td>\n",
       "      <td>...</td>\n",
       "      <td>...</td>\n",
       "      <td>...</td>\n",
       "    </tr>\n",
       "    <tr>\n",
       "      <th>887</th>\n",
       "      <td>0</td>\n",
       "      <td>2</td>\n",
       "      <td>Montvila, Rev. Juozas</td>\n",
       "      <td>1.0</td>\n",
       "      <td>27</td>\n",
       "      <td>0</td>\n",
       "      <td>0</td>\n",
       "      <td>211536</td>\n",
       "      <td>13.0000</td>\n",
       "      <td>NaN</td>\n",
       "      <td>2.0</td>\n",
       "    </tr>\n",
       "    <tr>\n",
       "      <th>888</th>\n",
       "      <td>1</td>\n",
       "      <td>1</td>\n",
       "      <td>Graham, Miss. Margaret Edith</td>\n",
       "      <td>0.0</td>\n",
       "      <td>19</td>\n",
       "      <td>0</td>\n",
       "      <td>0</td>\n",
       "      <td>112053</td>\n",
       "      <td>30.0000</td>\n",
       "      <td>B42</td>\n",
       "      <td>2.0</td>\n",
       "    </tr>\n",
       "    <tr>\n",
       "      <th>889</th>\n",
       "      <td>0</td>\n",
       "      <td>3</td>\n",
       "      <td>Johnston, Miss. Catherine Helen \"Carrie\"</td>\n",
       "      <td>0.0</td>\n",
       "      <td>29</td>\n",
       "      <td>1</td>\n",
       "      <td>2</td>\n",
       "      <td>W./C. 6607</td>\n",
       "      <td>23.4500</td>\n",
       "      <td>NaN</td>\n",
       "      <td>2.0</td>\n",
       "    </tr>\n",
       "    <tr>\n",
       "      <th>890</th>\n",
       "      <td>1</td>\n",
       "      <td>1</td>\n",
       "      <td>Behr, Mr. Karl Howell</td>\n",
       "      <td>1.0</td>\n",
       "      <td>26</td>\n",
       "      <td>0</td>\n",
       "      <td>0</td>\n",
       "      <td>111369</td>\n",
       "      <td>30.0000</td>\n",
       "      <td>C148</td>\n",
       "      <td>0.0</td>\n",
       "    </tr>\n",
       "    <tr>\n",
       "      <th>891</th>\n",
       "      <td>0</td>\n",
       "      <td>3</td>\n",
       "      <td>Dooley, Mr. Patrick</td>\n",
       "      <td>1.0</td>\n",
       "      <td>32</td>\n",
       "      <td>0</td>\n",
       "      <td>0</td>\n",
       "      <td>370376</td>\n",
       "      <td>7.7500</td>\n",
       "      <td>NaN</td>\n",
       "      <td>1.0</td>\n",
       "    </tr>\n",
       "  </tbody>\n",
       "</table>\n",
       "<p>891 rows × 11 columns</p>\n",
       "</div>"
      ],
      "text/plain": [
       "             Survived  Pclass  \\\n",
       "PassengerId                     \n",
       "1                   0       3   \n",
       "2                   1       1   \n",
       "3                   1       3   \n",
       "4                   1       1   \n",
       "5                   0       3   \n",
       "...               ...     ...   \n",
       "887                 0       2   \n",
       "888                 1       1   \n",
       "889                 0       3   \n",
       "890                 1       1   \n",
       "891                 0       3   \n",
       "\n",
       "                                                          Name  Sex  Age  \\\n",
       "PassengerId                                                                \n",
       "1                                      Braund, Mr. Owen Harris  1.0   22   \n",
       "2            Cumings, Mrs. John Bradley (Florence Briggs Th...  0.0   38   \n",
       "3                                       Heikkinen, Miss. Laina  0.0   26   \n",
       "4                 Futrelle, Mrs. Jacques Heath (Lily May Peel)  0.0   35   \n",
       "5                                     Allen, Mr. William Henry  1.0   35   \n",
       "...                                                        ...  ...  ...   \n",
       "887                                      Montvila, Rev. Juozas  1.0   27   \n",
       "888                               Graham, Miss. Margaret Edith  0.0   19   \n",
       "889                   Johnston, Miss. Catherine Helen \"Carrie\"  0.0   29   \n",
       "890                                      Behr, Mr. Karl Howell  1.0   26   \n",
       "891                                        Dooley, Mr. Patrick  1.0   32   \n",
       "\n",
       "             SibSp  Parch            Ticket     Fare Cabin  Embarked  \n",
       "PassengerId                                                           \n",
       "1                1      0         A/5 21171   7.2500   NaN       2.0  \n",
       "2                1      0          PC 17599  71.2833   C85       0.0  \n",
       "3                0      0  STON/O2. 3101282   7.9250   NaN       2.0  \n",
       "4                1      0            113803  53.1000  C123       2.0  \n",
       "5                0      0            373450   8.0500   NaN       2.0  \n",
       "...            ...    ...               ...      ...   ...       ...  \n",
       "887              0      0            211536  13.0000   NaN       2.0  \n",
       "888              0      0            112053  30.0000   B42       2.0  \n",
       "889              1      2        W./C. 6607  23.4500   NaN       2.0  \n",
       "890              0      0            111369  30.0000  C148       0.0  \n",
       "891              0      0            370376   7.7500   NaN       1.0  \n",
       "\n",
       "[891 rows x 11 columns]"
      ]
     },
     "execution_count": 37,
     "metadata": {},
     "output_type": "execute_result"
    }
   ],
   "source": [
    "data['Sex'] = enc.fit_transform(data['Sex'].values.reshape(-1,1))\n",
    "data['Embarked'] = enc.fit_transform(data['Embarked'].values.reshape(-1,1))\n",
    "\n",
    "data"
   ]
  },
  {
   "cell_type": "code",
   "execution_count": 39,
   "id": "0e10511e",
   "metadata": {},
   "outputs": [
    {
     "data": {
      "text/plain": [
       "Survived      int64\n",
       "Pclass        int64\n",
       "Name         object\n",
       "Sex         float64\n",
       "Age           int64\n",
       "SibSp         int64\n",
       "Parch         int64\n",
       "Ticket       object\n",
       "Fare        float64\n",
       "Cabin        object\n",
       "Embarked    float64\n",
       "dtype: object"
      ]
     },
     "execution_count": 39,
     "metadata": {},
     "output_type": "execute_result"
    }
   ],
   "source": [
    "data.dtypes"
   ]
  },
  {
   "cell_type": "markdown",
   "id": "195b270c",
   "metadata": {},
   "source": [
    "Now we have encoded the necessary columns for building model."
   ]
  },
  {
   "cell_type": "markdown",
   "id": "dd6b74c9",
   "metadata": {},
   "source": [
    "### Visualization of Data"
   ]
  },
  {
   "cell_type": "markdown",
   "id": "d48fdf53",
   "metadata": {},
   "source": [
    "#### Univariate Analysis"
   ]
  },
  {
   "cell_type": "code",
   "execution_count": 43,
   "id": "7281fd06",
   "metadata": {},
   "outputs": [],
   "source": [
    "#We can group the columns with categorical values with low cardinality for visualization purpose.\n",
    "data_visualization = data[['Survived','Pclass','Sex','SibSp','Parch','Embarked']]"
   ]
  },
  {
   "cell_type": "markdown",
   "id": "30b17df4",
   "metadata": {},
   "source": [
    "#### Countplot"
   ]
  },
  {
   "cell_type": "code",
   "execution_count": 48,
   "id": "e6128899",
   "metadata": {},
   "outputs": [
    {
     "data": {
      "text/plain": [
       "0    549\n",
       "1    342\n",
       "Name: Survived, dtype: int64"
      ]
     },
     "execution_count": 48,
     "metadata": {},
     "output_type": "execute_result"
    },
    {
     "data": {
      "image/png": "[encoded data removed]",
      "text/plain": [
       "<Figure size 432x288 with 1 Axes>"
      ]
     },
     "metadata": {
      "needs_background": "light"
     },
     "output_type": "display_data"
    }
   ],
   "source": [
    "sns.countplot(data_visualization['Survived'])\n",
    "data_visualization['Survived'].value_counts()"
   ]
  },
  {
   "cell_type": "markdown",
   "id": "6f49c4c1",
   "metadata": {},
   "source": [
    "The data provided in the dataset is for passangers in which 549 didn't survive and 342 got survived after the ship got sank. "
   ]
  },
  {
   "cell_type": "code",
   "execution_count": 49,
   "id": "1f372fcb",
   "metadata": {},
   "outputs": [
    {
     "data": {
      "text/plain": [
       "3    491\n",
       "1    216\n",
       "2    184\n",
       "Name: Pclass, dtype: int64"
      ]
     },
     "execution_count": 49,
     "metadata": {},
     "output_type": "execute_result"
    },
    {
     "data": {
      "image/png": "[encoded data removed]",
      "text/plain": [
       "<Figure size 432x288 with 1 Axes>"
      ]
     },
     "metadata": {
      "needs_background": "light"
     },
     "output_type": "display_data"
    }
   ],
   "source": [
    "sns.countplot(data_visualization['Pclass'])\n",
    "data_visualization['Pclass'].value_counts()"
   ]
  },
  {
   "cell_type": "markdown",
   "id": "37bcd288",
   "metadata": {},
   "source": [
    "From the above observations, the data for passengers from class 3 is provided most - 491, number of passangers from class 1 is 216 and number of passengers from class 2 is 184."
   ]
  },
  {
   "cell_type": "code",
   "execution_count": 50,
   "id": "62f45318",
   "metadata": {},
   "outputs": [
    {
     "data": {
      "text/plain": [
       "1.0    577\n",
       "0.0    314\n",
       "Name: Sex, dtype: int64"
      ]
     },
     "execution_count": 50,
     "metadata": {},
     "output_type": "execute_result"
    },
    {
     "data": {
      "image/png": "[encoded data removed]",
      "text/plain": [
       "<Figure size 432x288 with 1 Axes>"
      ]
     },
     "metadata": {
      "needs_background": "light"
     },
     "output_type": "display_data"
    }
   ],
   "source": [
    "sns.countplot(data_visualization['Sex'])\n",
    "data_visualization['Sex'].value_counts()"
   ]
  },
  {
   "cell_type": "markdown",
   "id": "d72bc973",
   "metadata": {},
   "source": [
    "From the above observation, most of the passengers were males - 577. The number of female passangers in the ship was 314."
   ]
  },
  {
   "cell_type": "code",
   "execution_count": 51,
   "id": "0f65626a",
   "metadata": {},
   "outputs": [
    {
     "data": {
      "text/plain": [
       "0    608\n",
       "1    209\n",
       "2     28\n",
       "4     18\n",
       "3     16\n",
       "8      7\n",
       "5      5\n",
       "Name: SibSp, dtype: int64"
      ]
     },
     "execution_count": 51,
     "metadata": {},
     "output_type": "execute_result"
    },
    {
     "data": {
      "image/png": "[encoded data removed]",
      "text/plain": [
       "<Figure size 432x288 with 1 Axes>"
      ]
     },
     "metadata": {
      "needs_background": "light"
     },
     "output_type": "display_data"
    }
   ],
   "source": [
    "sns.countplot(data_visualization['SibSp'])\n",
    "data_visualization['SibSp'].value_counts()"
   ]
  },
  {
   "cell_type": "markdown",
   "id": "14ea0b0e",
   "metadata": {},
   "source": [
    "1. From the above observations, most of the passengers were travelling without their siblings or spouse - 608.\n",
    "2. Passengers who were travelling with 5 siblings and/or spouse were least in the ship."
   ]
  },
  {
   "cell_type": "code",
   "execution_count": 54,
   "id": "0faa6995",
   "metadata": {},
   "outputs": [
    {
     "data": {
      "text/plain": [
       "0    678\n",
       "1    118\n",
       "2     80\n",
       "3      5\n",
       "5      5\n",
       "4      4\n",
       "6      1\n",
       "Name: Parch, dtype: int64"
      ]
     },
     "execution_count": 54,
     "metadata": {},
     "output_type": "execute_result"
    },
    {
     "data": {
      "image/png": "[encoded data removed]",
      "text/plain": [
       "<Figure size 432x288 with 1 Axes>"
      ]
     },
     "metadata": {
      "needs_background": "light"
     },
     "output_type": "display_data"
    }
   ],
   "source": [
    "sns.countplot(data_visualization['Parch'])\n",
    "data_visualization['Parch'].value_counts()"
   ]
  },
  {
   "cell_type": "markdown",
   "id": "a62e812f",
   "metadata": {},
   "source": [
    "1. Most of the passengers were travelling without their parents or children on ship.\n",
    "2. Only one passenger was travelling with 6 children and/or parents on ship."
   ]
  },
  {
   "cell_type": "code",
   "execution_count": 53,
   "id": "9695844b",
   "metadata": {},
   "outputs": [
    {
     "data": {
      "text/plain": [
       "2.0    646\n",
       "0.0    168\n",
       "1.0     77\n",
       "Name: Embarked, dtype: int64"
      ]
     },
     "execution_count": 53,
     "metadata": {},
     "output_type": "execute_result"
    },
    {
     "data": {
      "image/png": "[encoded data removed]",
      "text/plain": [
       "<Figure size 432x288 with 1 Axes>"
      ]
     },
     "metadata": {
      "needs_background": "light"
     },
     "output_type": "display_data"
    }
   ],
   "source": [
    "sns.countplot(data_visualization['Embarked'])\n",
    "data_visualization['Embarked'].value_counts()"
   ]
  },
  {
   "cell_type": "markdown",
   "id": "44289e17",
   "metadata": {},
   "source": [
    "1. Most of the passengers on ship were embarked from Southampton. - 646.\n",
    "2. Least number of passengers were onboarded from Queenstown. - 77."
   ]
  },
  {
   "cell_type": "code",
   "execution_count": 58,
   "id": "03d80456",
   "metadata": {},
   "outputs": [
    {
     "data": {
      "text/plain": [
       "<AxesSubplot:xlabel='Age', ylabel='Count'>"
      ]
     },
     "execution_count": 58,
     "metadata": {},
     "output_type": "execute_result"
    },
    {
     "data": {
      "image/png": "[encoded data removed]",
      "text/plain": [
       "<Figure size 432x288 with 1 Axes>"
      ]
     },
     "metadata": {
      "needs_background": "light"
     },
     "output_type": "display_data"
    }
   ],
   "source": [
    "#Visualization of categorical data with high cardinality with histogram plot\n",
    "sns.histplot(data['Age'], bins = 6, kde = True)"
   ]
  },
  {
   "cell_type": "markdown",
   "id": "68ea3693",
   "metadata": {},
   "source": [
    "From the above observations, most of the passengers on ship were between the age 20 and 40."
   ]
  },
  {
   "cell_type": "code",
   "execution_count": 76,
   "id": "c4cb1c2a",
   "metadata": {},
   "outputs": [
    {
     "data": {
      "text/plain": [
       "<AxesSubplot:xlabel='Fare', ylabel='Count'>"
      ]
     },
     "execution_count": 76,
     "metadata": {},
     "output_type": "execute_result"
    },
    {
     "data": {
      "image/png": "[encoded data removed]",
      "text/plain": [
       "<Figure size 432x288 with 1 Axes>"
      ]
     },
     "metadata": {
      "needs_background": "light"
     },
     "output_type": "display_data"
    }
   ],
   "source": [
    "#Visualization of column with continuous data - Fare\n",
    "sns.histplot(data['Fare'], bins = 6, kde = True)"
   ]
  },
  {
   "cell_type": "markdown",
   "id": "77806a44",
   "metadata": {},
   "source": [
    "Most of the passengers were travelling with tickets of less than 100 pounds."
   ]
  },
  {
   "cell_type": "markdown",
   "id": "be32fe9a",
   "metadata": {},
   "source": [
    "#### Bivariate analysis"
   ]
  },
  {
   "cell_type": "code",
   "execution_count": 60,
   "id": "dbe0b466",
   "metadata": {},
   "outputs": [],
   "source": [
    "#Now we can check the relation of independent variables with the target column(dependent variable)"
   ]
  },
  {
   "cell_type": "code",
   "execution_count": 63,
   "id": "062e9d59",
   "metadata": {},
   "outputs": [
    {
     "data": {
      "text/plain": [
       "<AxesSubplot:xlabel='Pclass', ylabel='Survived'>"
      ]
     },
     "execution_count": 63,
     "metadata": {},
     "output_type": "execute_result"
    },
    {
     "data": {
      "image/png": "[encoded data removed]",
      "text/plain": [
       "<Figure size 432x288 with 1 Axes>"
      ]
     },
     "metadata": {
      "needs_background": "light"
     },
     "output_type": "display_data"
    }
   ],
   "source": [
    "sns.regplot(data_visualization['Pclass'],data_visualization['Survived'])"
   ]
  },
  {
   "cell_type": "markdown",
   "id": "89fe44e6",
   "metadata": {},
   "source": [
    "From the above observation, the relation wtih the column 'Pclass' and the target column is negative. That means the passengers belonging to the class 2 and 3 are having low survival rate compared to passengers who travelled in class 1."
   ]
  },
  {
   "cell_type": "code",
   "execution_count": 66,
   "id": "9f8f6e31",
   "metadata": {},
   "outputs": [
    {
     "data": {
      "text/plain": [
       "<AxesSubplot:xlabel='Sex', ylabel='Survived'>"
      ]
     },
     "execution_count": 66,
     "metadata": {},
     "output_type": "execute_result"
    },
    {
     "data": {
      "image/png": "[encoded data removed]",
      "text/plain": [
       "<Figure size 432x288 with 1 Axes>"
      ]
     },
     "metadata": {
      "needs_background": "light"
     },
     "output_type": "display_data"
    }
   ],
   "source": [
    "sns.regplot(data_visualization['Sex'],data_visualization['Survived'])"
   ]
  },
  {
   "cell_type": "markdown",
   "id": "52e163b9",
   "metadata": {},
   "source": [
    "From the above observations, the number of female survivers is higher than the number of male survivers. "
   ]
  },
  {
   "cell_type": "code",
   "execution_count": 68,
   "id": "49e625ce",
   "metadata": {},
   "outputs": [
    {
     "data": {
      "text/plain": [
       "<AxesSubplot:xlabel='SibSp', ylabel='Survived'>"
      ]
     },
     "execution_count": 68,
     "metadata": {},
     "output_type": "execute_result"
    },
    {
     "data": {
      "image/png": "[encoded data removed]",
      "text/plain": [
       "<Figure size 432x288 with 1 Axes>"
      ]
     },
     "metadata": {
      "needs_background": "light"
     },
     "output_type": "display_data"
    }
   ],
   "source": [
    "sns.regplot(data_visualization['SibSp'],data_visualization['Survived'])"
   ]
  },
  {
   "cell_type": "markdown",
   "id": "0b863979",
   "metadata": {},
   "source": [
    "From the above observations, the relationship with the column 'SibSp' is negative to the target column. That means the passengers with more siblings and/or spouse onboard the ship were having low survival rate than the passengers who were travelling without spouses or siblings."
   ]
  },
  {
   "cell_type": "code",
   "execution_count": 69,
   "id": "5bc939ad",
   "metadata": {},
   "outputs": [
    {
     "data": {
      "text/plain": [
       "<AxesSubplot:xlabel='Parch', ylabel='Survived'>"
      ]
     },
     "execution_count": 69,
     "metadata": {},
     "output_type": "execute_result"
    },
    {
     "data": {
      "image/png": "[encoded data removed]",
      "text/plain": [
       "<Figure size 432x288 with 1 Axes>"
      ]
     },
     "metadata": {
      "needs_background": "light"
     },
     "output_type": "display_data"
    }
   ],
   "source": [
    "sns.regplot(data_visualization['Parch'],data_visualization['Survived'])"
   ]
  },
  {
   "cell_type": "markdown",
   "id": "506d686f",
   "metadata": {},
   "source": [
    "From the above observations, the column 'Parch' is showing a positive relation with the target column. That means the passengers who travelled with parents and/or children were more likely survived."
   ]
  },
  {
   "cell_type": "code",
   "execution_count": 70,
   "id": "16279c55",
   "metadata": {},
   "outputs": [
    {
     "data": {
      "text/plain": [
       "<AxesSubplot:xlabel='Embarked', ylabel='Survived'>"
      ]
     },
     "execution_count": 70,
     "metadata": {},
     "output_type": "execute_result"
    },
    {
     "data": {
      "image/png": "[encoded data removed]",
      "text/plain": [
       "<Figure size 432x288 with 1 Axes>"
      ]
     },
     "metadata": {
      "needs_background": "light"
     },
     "output_type": "display_data"
    }
   ],
   "source": [
    "sns.regplot(data_visualization['Embarked'],data_visualization['Survived'])"
   ]
  },
  {
   "cell_type": "markdown",
   "id": "77691aff",
   "metadata": {},
   "source": [
    "From the above observation, the column 'Embarked' is having a negative relation with the target column."
   ]
  },
  {
   "cell_type": "code",
   "execution_count": 71,
   "id": "c7396732",
   "metadata": {},
   "outputs": [
    {
     "data": {
      "text/plain": [
       "<AxesSubplot:xlabel='Age', ylabel='Survived'>"
      ]
     },
     "execution_count": 71,
     "metadata": {},
     "output_type": "execute_result"
    },
    {
     "data": {
      "image/png": "[encoded data removed]",
      "text/plain": [
       "<Figure size 432x288 with 1 Axes>"
      ]
     },
     "metadata": {
      "needs_background": "light"
     },
     "output_type": "display_data"
    }
   ],
   "source": [
    "sns.regplot(data['Age'],data_visualization['Survived'])"
   ]
  },
  {
   "cell_type": "markdown",
   "id": "566a3ace",
   "metadata": {},
   "source": [
    "From the above observation, the column 'Age' is having a negative relation with the target variable. That means as age of the passenger increases the survival rate is decreasing."
   ]
  },
  {
   "cell_type": "code",
   "execution_count": 77,
   "id": "b8800661",
   "metadata": {},
   "outputs": [
    {
     "data": {
      "text/plain": [
       "<AxesSubplot:xlabel='Fare', ylabel='Survived'>"
      ]
     },
     "execution_count": 77,
     "metadata": {},
     "output_type": "execute_result"
    },
    {
     "data": {
      "image/png": "[encoded data removed]",
      "text/plain": [
       "<Figure size 432x288 with 1 Axes>"
      ]
     },
     "metadata": {
      "needs_background": "light"
     },
     "output_type": "display_data"
    }
   ],
   "source": [
    "sns.regplot(data['Fare'],data['Survived'])"
   ]
  },
  {
   "cell_type": "markdown",
   "id": "61c11dce",
   "metadata": {},
   "source": [
    "From the above observations, the column 'Fare' is positvely correlated with the Target variable. That means the passengers who bought the higher priced tickets are more likely to be in survived list."
   ]
  },
  {
   "cell_type": "markdown",
   "id": "6a80911a",
   "metadata": {},
   "source": [
    "### Statistical Summary"
   ]
  },
  {
   "cell_type": "markdown",
   "id": "309a79b7",
   "metadata": {},
   "source": [
    "#### Describe of the data"
   ]
  },
  {
   "cell_type": "code",
   "execution_count": 78,
   "id": "ed06fc2d",
   "metadata": {},
   "outputs": [
    {
     "data": {
      "text/html": [
       "<div>\n",
       "<style scoped>\n",
       "    .dataframe tbody tr th:only-of-type {\n",
       "        vertical-align: middle;\n",
       "    }\n",
       "\n",
       "    .dataframe tbody tr th {\n",
       "        vertical-align: top;\n",
       "    }\n",
       "\n",
       "    .dataframe thead th {\n",
       "        text-align: right;\n",
       "    }\n",
       "</style>\n",
       "<table border=\"1\" class=\"dataframe\">\n",
       "  <thead>\n",
       "    <tr style=\"text-align: right;\">\n",
       "      <th></th>\n",
       "      <th>Survived</th>\n",
       "      <th>Pclass</th>\n",
       "      <th>Sex</th>\n",
       "      <th>Age</th>\n",
       "      <th>SibSp</th>\n",
       "      <th>Parch</th>\n",
       "      <th>Fare</th>\n",
       "      <th>Embarked</th>\n",
       "    </tr>\n",
       "  </thead>\n",
       "  <tbody>\n",
       "    <tr>\n",
       "      <th>count</th>\n",
       "      <td>891.000000</td>\n",
       "      <td>891.000000</td>\n",
       "      <td>891.000000</td>\n",
       "      <td>891.000000</td>\n",
       "      <td>891.000000</td>\n",
       "      <td>891.000000</td>\n",
       "      <td>891.000000</td>\n",
       "      <td>891.000000</td>\n",
       "    </tr>\n",
       "    <tr>\n",
       "      <th>mean</th>\n",
       "      <td>0.383838</td>\n",
       "      <td>2.308642</td>\n",
       "      <td>0.647587</td>\n",
       "      <td>29.544332</td>\n",
       "      <td>0.523008</td>\n",
       "      <td>0.381594</td>\n",
       "      <td>32.204208</td>\n",
       "      <td>1.536476</td>\n",
       "    </tr>\n",
       "    <tr>\n",
       "      <th>std</th>\n",
       "      <td>0.486592</td>\n",
       "      <td>0.836071</td>\n",
       "      <td>0.477990</td>\n",
       "      <td>13.013778</td>\n",
       "      <td>1.102743</td>\n",
       "      <td>0.806057</td>\n",
       "      <td>49.693429</td>\n",
       "      <td>0.791503</td>\n",
       "    </tr>\n",
       "    <tr>\n",
       "      <th>min</th>\n",
       "      <td>0.000000</td>\n",
       "      <td>1.000000</td>\n",
       "      <td>0.000000</td>\n",
       "      <td>0.000000</td>\n",
       "      <td>0.000000</td>\n",
       "      <td>0.000000</td>\n",
       "      <td>0.000000</td>\n",
       "      <td>0.000000</td>\n",
       "    </tr>\n",
       "    <tr>\n",
       "      <th>25%</th>\n",
       "      <td>0.000000</td>\n",
       "      <td>2.000000</td>\n",
       "      <td>0.000000</td>\n",
       "      <td>22.000000</td>\n",
       "      <td>0.000000</td>\n",
       "      <td>0.000000</td>\n",
       "      <td>7.910400</td>\n",
       "      <td>1.000000</td>\n",
       "    </tr>\n",
       "    <tr>\n",
       "      <th>50%</th>\n",
       "      <td>0.000000</td>\n",
       "      <td>3.000000</td>\n",
       "      <td>1.000000</td>\n",
       "      <td>29.000000</td>\n",
       "      <td>0.000000</td>\n",
       "      <td>0.000000</td>\n",
       "      <td>14.454200</td>\n",
       "      <td>2.000000</td>\n",
       "    </tr>\n",
       "    <tr>\n",
       "      <th>75%</th>\n",
       "      <td>1.000000</td>\n",
       "      <td>3.000000</td>\n",
       "      <td>1.000000</td>\n",
       "      <td>35.000000</td>\n",
       "      <td>1.000000</td>\n",
       "      <td>0.000000</td>\n",
       "      <td>31.000000</td>\n",
       "      <td>2.000000</td>\n",
       "    </tr>\n",
       "    <tr>\n",
       "      <th>max</th>\n",
       "      <td>1.000000</td>\n",
       "      <td>3.000000</td>\n",
       "      <td>1.000000</td>\n",
       "      <td>80.000000</td>\n",
       "      <td>8.000000</td>\n",
       "      <td>6.000000</td>\n",
       "      <td>512.329200</td>\n",
       "      <td>2.000000</td>\n",
       "    </tr>\n",
       "  </tbody>\n",
       "</table>\n",
       "</div>"
      ],
      "text/plain": [
       "         Survived      Pclass         Sex         Age       SibSp       Parch  \\\n",
       "count  891.000000  891.000000  891.000000  891.000000  891.000000  891.000000   \n",
       "mean     0.383838    2.308642    0.647587   29.544332    0.523008    0.381594   \n",
       "std      0.486592    0.836071    0.477990   13.013778    1.102743    0.806057   \n",
       "min      0.000000    1.000000    0.000000    0.000000    0.000000    0.000000   \n",
       "25%      0.000000    2.000000    0.000000   22.000000    0.000000    0.000000   \n",
       "50%      0.000000    3.000000    1.000000   29.000000    0.000000    0.000000   \n",
       "75%      1.000000    3.000000    1.000000   35.000000    1.000000    0.000000   \n",
       "max      1.000000    3.000000    1.000000   80.000000    8.000000    6.000000   \n",
       "\n",
       "             Fare    Embarked  \n",
       "count  891.000000  891.000000  \n",
       "mean    32.204208    1.536476  \n",
       "std     49.693429    0.791503  \n",
       "min      0.000000    0.000000  \n",
       "25%      7.910400    1.000000  \n",
       "50%     14.454200    2.000000  \n",
       "75%     31.000000    2.000000  \n",
       "max    512.329200    2.000000  "
      ]
     },
     "execution_count": 78,
     "metadata": {},
     "output_type": "execute_result"
    }
   ],
   "source": [
    "data.describe()"
   ]
  },
  {
   "cell_type": "code",
   "execution_count": 79,
   "id": "2c134305",
   "metadata": {},
   "outputs": [
    {
     "data": {
      "text/plain": [
       "<AxesSubplot:>"
      ]
     },
     "execution_count": 79,
     "metadata": {},
     "output_type": "execute_result"
    },
    {
     "data": {
      "image/png": "[encoded data removed]",
      "text/plain": [
       "<Figure size 720x576 with 2 Axes>"
      ]
     },
     "metadata": {
      "needs_background": "light"
     },
     "output_type": "display_data"
    }
   ],
   "source": [
    "plt.figure(figsize=[10,8])\n",
    "sns.heatmap(data.describe()[1:],annot=True,fmt='0.2f')"
   ]
  },
  {
   "cell_type": "markdown",
   "id": "dc6ef1be",
   "metadata": {},
   "source": [
    "Observations\n",
    "1. The mean of data is higher than median for the columns ['Survived','Age','SibSp','Parch','Fare']. That means skewness is present in the distribution of data in these columns.\n",
    "2. The difference between 75% and the Maximum value in column ['Age','Fare'] is higher. That means possible outliers are present in the data of these columns."
   ]
  },
  {
   "cell_type": "markdown",
   "id": "c6e630a5",
   "metadata": {},
   "source": [
    "### Correlation"
   ]
  },
  {
   "cell_type": "code",
   "execution_count": 83,
   "id": "9696bb12",
   "metadata": {},
   "outputs": [
    {
     "data": {
      "text/html": [
       "<div>\n",
       "<style scoped>\n",
       "    .dataframe tbody tr th:only-of-type {\n",
       "        vertical-align: middle;\n",
       "    }\n",
       "\n",
       "    .dataframe tbody tr th {\n",
       "        vertical-align: top;\n",
       "    }\n",
       "\n",
       "    .dataframe thead th {\n",
       "        text-align: right;\n",
       "    }\n",
       "</style>\n",
       "<table border=\"1\" class=\"dataframe\">\n",
       "  <thead>\n",
       "    <tr style=\"text-align: right;\">\n",
       "      <th></th>\n",
       "      <th>Survived</th>\n",
       "      <th>Pclass</th>\n",
       "      <th>Sex</th>\n",
       "      <th>Age</th>\n",
       "      <th>SibSp</th>\n",
       "      <th>Parch</th>\n",
       "      <th>Fare</th>\n",
       "      <th>Embarked</th>\n",
       "    </tr>\n",
       "  </thead>\n",
       "  <tbody>\n",
       "    <tr>\n",
       "      <th>Survived</th>\n",
       "      <td>1.000000</td>\n",
       "      <td>-0.338481</td>\n",
       "      <td>-0.543351</td>\n",
       "      <td>-0.067809</td>\n",
       "      <td>-0.035322</td>\n",
       "      <td>0.081629</td>\n",
       "      <td>0.257307</td>\n",
       "      <td>-0.167675</td>\n",
       "    </tr>\n",
       "    <tr>\n",
       "      <th>Pclass</th>\n",
       "      <td>-0.338481</td>\n",
       "      <td>1.000000</td>\n",
       "      <td>0.131900</td>\n",
       "      <td>-0.335071</td>\n",
       "      <td>0.083081</td>\n",
       "      <td>0.018443</td>\n",
       "      <td>-0.549500</td>\n",
       "      <td>0.162098</td>\n",
       "    </tr>\n",
       "    <tr>\n",
       "      <th>Sex</th>\n",
       "      <td>-0.543351</td>\n",
       "      <td>0.131900</td>\n",
       "      <td>1.000000</td>\n",
       "      <td>0.082533</td>\n",
       "      <td>-0.114631</td>\n",
       "      <td>-0.245489</td>\n",
       "      <td>-0.182333</td>\n",
       "      <td>0.108262</td>\n",
       "    </tr>\n",
       "    <tr>\n",
       "      <th>Age</th>\n",
       "      <td>-0.067809</td>\n",
       "      <td>-0.335071</td>\n",
       "      <td>0.082533</td>\n",
       "      <td>1.000000</td>\n",
       "      <td>-0.232743</td>\n",
       "      <td>-0.176744</td>\n",
       "      <td>0.093856</td>\n",
       "      <td>-0.022928</td>\n",
       "    </tr>\n",
       "    <tr>\n",
       "      <th>SibSp</th>\n",
       "      <td>-0.035322</td>\n",
       "      <td>0.083081</td>\n",
       "      <td>-0.114631</td>\n",
       "      <td>-0.232743</td>\n",
       "      <td>1.000000</td>\n",
       "      <td>0.414838</td>\n",
       "      <td>0.159651</td>\n",
       "      <td>0.068230</td>\n",
       "    </tr>\n",
       "    <tr>\n",
       "      <th>Parch</th>\n",
       "      <td>0.081629</td>\n",
       "      <td>0.018443</td>\n",
       "      <td>-0.245489</td>\n",
       "      <td>-0.176744</td>\n",
       "      <td>0.414838</td>\n",
       "      <td>1.000000</td>\n",
       "      <td>0.216225</td>\n",
       "      <td>0.039798</td>\n",
       "    </tr>\n",
       "    <tr>\n",
       "      <th>Fare</th>\n",
       "      <td>0.257307</td>\n",
       "      <td>-0.549500</td>\n",
       "      <td>-0.182333</td>\n",
       "      <td>0.093856</td>\n",
       "      <td>0.159651</td>\n",
       "      <td>0.216225</td>\n",
       "      <td>1.000000</td>\n",
       "      <td>-0.224719</td>\n",
       "    </tr>\n",
       "    <tr>\n",
       "      <th>Embarked</th>\n",
       "      <td>-0.167675</td>\n",
       "      <td>0.162098</td>\n",
       "      <td>0.108262</td>\n",
       "      <td>-0.022928</td>\n",
       "      <td>0.068230</td>\n",
       "      <td>0.039798</td>\n",
       "      <td>-0.224719</td>\n",
       "      <td>1.000000</td>\n",
       "    </tr>\n",
       "  </tbody>\n",
       "</table>\n",
       "</div>"
      ],
      "text/plain": [
       "          Survived    Pclass       Sex       Age     SibSp     Parch  \\\n",
       "Survived  1.000000 -0.338481 -0.543351 -0.067809 -0.035322  0.081629   \n",
       "Pclass   -0.338481  1.000000  0.131900 -0.335071  0.083081  0.018443   \n",
       "Sex      -0.543351  0.131900  1.000000  0.082533 -0.114631 -0.245489   \n",
       "Age      -0.067809 -0.335071  0.082533  1.000000 -0.232743 -0.176744   \n",
       "SibSp    -0.035322  0.083081 -0.114631 -0.232743  1.000000  0.414838   \n",
       "Parch     0.081629  0.018443 -0.245489 -0.176744  0.414838  1.000000   \n",
       "Fare      0.257307 -0.549500 -0.182333  0.093856  0.159651  0.216225   \n",
       "Embarked -0.167675  0.162098  0.108262 -0.022928  0.068230  0.039798   \n",
       "\n",
       "              Fare  Embarked  \n",
       "Survived  0.257307 -0.167675  \n",
       "Pclass   -0.549500  0.162098  \n",
       "Sex      -0.182333  0.108262  \n",
       "Age       0.093856 -0.022928  \n",
       "SibSp     0.159651  0.068230  \n",
       "Parch     0.216225  0.039798  \n",
       "Fare      1.000000 -0.224719  \n",
       "Embarked -0.224719  1.000000  "
      ]
     },
     "execution_count": 83,
     "metadata": {},
     "output_type": "execute_result"
    }
   ],
   "source": [
    "Correlation = data.corr()\n",
    "Correlation"
   ]
  },
  {
   "cell_type": "code",
   "execution_count": 85,
   "id": "af80eb0d",
   "metadata": {},
   "outputs": [
    {
     "data": {
      "text/plain": [
       "<AxesSubplot:>"
      ]
     },
     "execution_count": 85,
     "metadata": {},
     "output_type": "execute_result"
    },
    {
     "data": {
      "image/png": "[encoded data removed]",
      "text/plain": [
       "<Figure size 720x576 with 2 Axes>"
      ]
     },
     "metadata": {
      "needs_background": "light"
     },
     "output_type": "display_data"
    }
   ],
   "source": [
    "#Plotting the correlation of columns\n",
    "plt.figure(figsize=[10,8])\n",
    "sns.heatmap(Correlation,annot = True, fmt = '0.2f',cmap='PuBu')"
   ]
  },
  {
   "cell_type": "code",
   "execution_count": 87,
   "id": "62788710",
   "metadata": {},
   "outputs": [
    {
     "data": {
      "image/png": "[encoded data removed]",
      "text/plain": [
       "<Figure size 720x720 with 1 Axes>"
      ]
     },
     "metadata": {
      "needs_background": "light"
     },
     "output_type": "display_data"
    }
   ],
   "source": [
    "plt.figure(figsize = [10,10])\n",
    "Correlation['Survived'].sort_values(ascending= False).drop('Survived').plot(kind = 'bar', color ='b')\n",
    "plt.xlabel('Column Names', fontsize = 12)\n",
    "plt.ylabel('Correlation', fontsize = 12)\n",
    "plt.title('Correlation with Target Column')\n",
    "plt.show()"
   ]
  },
  {
   "cell_type": "markdown",
   "id": "5b99bbf8",
   "metadata": {},
   "source": [
    "The columns ['SibSp','Age','Embarked','Pclass','Sex'] are having negative correlation with the Target variable. Only the columns ['Fare','Parch'] are having positive correlation with the target variable.\n",
    "\n",
    "1. The column 'Fare' is having a good positive correlation bond with the Target variable - 25.7%.\n",
    "2. The column 'Parch' is having a weak positive correlation bond with the Target variable - 8%.\n",
    "3. The column 'SibSp' is having a weak negative correlation bond with the Target variable - -3.5%.\n",
    "4. The column 'Age' is having a weak negative correlation bond with the Target variable - -7.7%.\n",
    "5. The column 'Embarked' is having a good negative correlation bond with the Target variable - -16.8%.\n",
    "6. The column 'Pclass' is having a strong negative correlation bond with the Target variable - -33.8%.\n",
    "7. The column 'Sex' is having a strong negative correlation bond with the Target variable - -54.3%."
   ]
  },
  {
   "cell_type": "markdown",
   "id": "70019a8f",
   "metadata": {},
   "source": [
    "### Checking the data distribution among all the columns(Skewness)"
   ]
  },
  {
   "cell_type": "code",
   "execution_count": 96,
   "id": "e8307364",
   "metadata": {},
   "outputs": [],
   "source": [
    "cols = data[['Age','Fare','Survived','Pclass','Sex','SibSp','Parch','Embarked']]"
   ]
  },
  {
   "cell_type": "code",
   "execution_count": 98,
   "id": "2b9fcf43",
   "metadata": {},
   "outputs": [
    {
     "data": {
      "image/png": "[encoded data removed]",
      "text/plain": [
       "<Figure size 864x576 with 8 Axes>"
      ]
     },
     "metadata": {
      "needs_background": "light"
     },
     "output_type": "display_data"
    }
   ],
   "source": [
    "plt.figure(figsize = [12,8])\n",
    "for i in range(0,len(cols.columns.values)):\n",
    "    plt.subplot(2,4,i+1)\n",
    "    sns.distplot(cols[cols.columns.values[i]])\n",
    "    plt.tight_layout()"
   ]
  },
  {
   "cell_type": "markdown",
   "id": "a0f59a36",
   "metadata": {},
   "source": [
    "Skewness is considered for continuous data. Rest of the columns are encoded but categorical data."
   ]
  },
  {
   "cell_type": "code",
   "execution_count": 88,
   "id": "6e027b97",
   "metadata": {},
   "outputs": [
    {
     "data": {
      "text/plain": [
       "Survived    0.478523\n",
       "Pclass     -0.630548\n",
       "Sex        -0.618921\n",
       "Age         0.459563\n",
       "SibSp       3.695352\n",
       "Parch       2.749117\n",
       "Fare        4.787317\n",
       "Embarked   -1.264823\n",
       "dtype: float64"
      ]
     },
     "execution_count": 88,
     "metadata": {},
     "output_type": "execute_result"
    }
   ],
   "source": [
    "Skewness = data.skew()\n",
    "Skewness"
   ]
  },
  {
   "cell_type": "markdown",
   "id": "22a56cdd",
   "metadata": {},
   "source": [
    "Here, the skewness is considered only for the columns 'Age' and 'Fare'. There is a large amount of skewness present in the distribution of column 'Fare'"
   ]
  },
  {
   "cell_type": "markdown",
   "id": "817e9921",
   "metadata": {},
   "source": [
    "##### Since the columns ['Name','Ticket','Cabin'] are only for identification purpose of the passenger, we can drop these columns from our dataset for further processing."
   ]
  },
  {
   "cell_type": "code",
   "execution_count": 100,
   "id": "b1494377",
   "metadata": {},
   "outputs": [],
   "source": [
    "data.drop(['Name','Ticket','Cabin'],axis = 1, inplace = True)"
   ]
  },
  {
   "cell_type": "code",
   "execution_count": 101,
   "id": "cda070c8",
   "metadata": {},
   "outputs": [
    {
     "data": {
      "text/html": [
       "<div>\n",
       "<style scoped>\n",
       "    .dataframe tbody tr th:only-of-type {\n",
       "        vertical-align: middle;\n",
       "    }\n",
       "\n",
       "    .dataframe tbody tr th {\n",
       "        vertical-align: top;\n",
       "    }\n",
       "\n",
       "    .dataframe thead th {\n",
       "        text-align: right;\n",
       "    }\n",
       "</style>\n",
       "<table border=\"1\" class=\"dataframe\">\n",
       "  <thead>\n",
       "    <tr style=\"text-align: right;\">\n",
       "      <th></th>\n",
       "      <th>Survived</th>\n",
       "      <th>Pclass</th>\n",
       "      <th>Sex</th>\n",
       "      <th>Age</th>\n",
       "      <th>SibSp</th>\n",
       "      <th>Parch</th>\n",
       "      <th>Fare</th>\n",
       "      <th>Embarked</th>\n",
       "    </tr>\n",
       "    <tr>\n",
       "      <th>PassengerId</th>\n",
       "      <th></th>\n",
       "      <th></th>\n",
       "      <th></th>\n",
       "      <th></th>\n",
       "      <th></th>\n",
       "      <th></th>\n",
       "      <th></th>\n",
       "      <th></th>\n",
       "    </tr>\n",
       "  </thead>\n",
       "  <tbody>\n",
       "    <tr>\n",
       "      <th>1</th>\n",
       "      <td>0</td>\n",
       "      <td>3</td>\n",
       "      <td>1.0</td>\n",
       "      <td>22</td>\n",
       "      <td>1</td>\n",
       "      <td>0</td>\n",
       "      <td>7.2500</td>\n",
       "      <td>2.0</td>\n",
       "    </tr>\n",
       "    <tr>\n",
       "      <th>2</th>\n",
       "      <td>1</td>\n",
       "      <td>1</td>\n",
       "      <td>0.0</td>\n",
       "      <td>38</td>\n",
       "      <td>1</td>\n",
       "      <td>0</td>\n",
       "      <td>71.2833</td>\n",
       "      <td>0.0</td>\n",
       "    </tr>\n",
       "    <tr>\n",
       "      <th>3</th>\n",
       "      <td>1</td>\n",
       "      <td>3</td>\n",
       "      <td>0.0</td>\n",
       "      <td>26</td>\n",
       "      <td>0</td>\n",
       "      <td>0</td>\n",
       "      <td>7.9250</td>\n",
       "      <td>2.0</td>\n",
       "    </tr>\n",
       "    <tr>\n",
       "      <th>4</th>\n",
       "      <td>1</td>\n",
       "      <td>1</td>\n",
       "      <td>0.0</td>\n",
       "      <td>35</td>\n",
       "      <td>1</td>\n",
       "      <td>0</td>\n",
       "      <td>53.1000</td>\n",
       "      <td>2.0</td>\n",
       "    </tr>\n",
       "    <tr>\n",
       "      <th>5</th>\n",
       "      <td>0</td>\n",
       "      <td>3</td>\n",
       "      <td>1.0</td>\n",
       "      <td>35</td>\n",
       "      <td>0</td>\n",
       "      <td>0</td>\n",
       "      <td>8.0500</td>\n",
       "      <td>2.0</td>\n",
       "    </tr>\n",
       "    <tr>\n",
       "      <th>...</th>\n",
       "      <td>...</td>\n",
       "      <td>...</td>\n",
       "      <td>...</td>\n",
       "      <td>...</td>\n",
       "      <td>...</td>\n",
       "      <td>...</td>\n",
       "      <td>...</td>\n",
       "      <td>...</td>\n",
       "    </tr>\n",
       "    <tr>\n",
       "      <th>887</th>\n",
       "      <td>0</td>\n",
       "      <td>2</td>\n",
       "      <td>1.0</td>\n",
       "      <td>27</td>\n",
       "      <td>0</td>\n",
       "      <td>0</td>\n",
       "      <td>13.0000</td>\n",
       "      <td>2.0</td>\n",
       "    </tr>\n",
       "    <tr>\n",
       "      <th>888</th>\n",
       "      <td>1</td>\n",
       "      <td>1</td>\n",
       "      <td>0.0</td>\n",
       "      <td>19</td>\n",
       "      <td>0</td>\n",
       "      <td>0</td>\n",
       "      <td>30.0000</td>\n",
       "      <td>2.0</td>\n",
       "    </tr>\n",
       "    <tr>\n",
       "      <th>889</th>\n",
       "      <td>0</td>\n",
       "      <td>3</td>\n",
       "      <td>0.0</td>\n",
       "      <td>29</td>\n",
       "      <td>1</td>\n",
       "      <td>2</td>\n",
       "      <td>23.4500</td>\n",
       "      <td>2.0</td>\n",
       "    </tr>\n",
       "    <tr>\n",
       "      <th>890</th>\n",
       "      <td>1</td>\n",
       "      <td>1</td>\n",
       "      <td>1.0</td>\n",
       "      <td>26</td>\n",
       "      <td>0</td>\n",
       "      <td>0</td>\n",
       "      <td>30.0000</td>\n",
       "      <td>0.0</td>\n",
       "    </tr>\n",
       "    <tr>\n",
       "      <th>891</th>\n",
       "      <td>0</td>\n",
       "      <td>3</td>\n",
       "      <td>1.0</td>\n",
       "      <td>32</td>\n",
       "      <td>0</td>\n",
       "      <td>0</td>\n",
       "      <td>7.7500</td>\n",
       "      <td>1.0</td>\n",
       "    </tr>\n",
       "  </tbody>\n",
       "</table>\n",
       "<p>891 rows × 8 columns</p>\n",
       "</div>"
      ],
      "text/plain": [
       "             Survived  Pclass  Sex  Age  SibSp  Parch     Fare  Embarked\n",
       "PassengerId                                                             \n",
       "1                   0       3  1.0   22      1      0   7.2500       2.0\n",
       "2                   1       1  0.0   38      1      0  71.2833       0.0\n",
       "3                   1       3  0.0   26      0      0   7.9250       2.0\n",
       "4                   1       1  0.0   35      1      0  53.1000       2.0\n",
       "5                   0       3  1.0   35      0      0   8.0500       2.0\n",
       "...               ...     ...  ...  ...    ...    ...      ...       ...\n",
       "887                 0       2  1.0   27      0      0  13.0000       2.0\n",
       "888                 1       1  0.0   19      0      0  30.0000       2.0\n",
       "889                 0       3  0.0   29      1      2  23.4500       2.0\n",
       "890                 1       1  1.0   26      0      0  30.0000       0.0\n",
       "891                 0       3  1.0   32      0      0   7.7500       1.0\n",
       "\n",
       "[891 rows x 8 columns]"
      ]
     },
     "execution_count": 101,
     "metadata": {},
     "output_type": "execute_result"
    }
   ],
   "source": [
    "data"
   ]
  },
  {
   "cell_type": "markdown",
   "id": "48e0e7a5",
   "metadata": {},
   "source": [
    "### Checking the presence of outliers"
   ]
  },
  {
   "cell_type": "code",
   "execution_count": 102,
   "id": "d8bf2539",
   "metadata": {},
   "outputs": [],
   "source": [
    "#User defined function to plot the outlers of each columns using boxplot\n",
    "def box(col):\n",
    "    plt.figure(figsize =[3,6])\n",
    "    sns.boxplot(y = data[col])\n",
    "    plt.show()"
   ]
  },
  {
   "cell_type": "code",
   "execution_count": 103,
   "id": "7275d2b6",
   "metadata": {},
   "outputs": [
    {
     "data": {
      "image/png": "[encoded data removed]",
      "text/plain": [
       "<Figure size 216x432 with 1 Axes>"
      ]
     },
     "metadata": {
      "needs_background": "light"
     },
     "output_type": "display_data"
    }
   ],
   "source": [
    "box('Survived')"
   ]
  },
  {
   "cell_type": "markdown",
   "id": "2591834f",
   "metadata": {},
   "source": [
    "There is no outliers present in column 'Survived'"
   ]
  },
  {
   "cell_type": "code",
   "execution_count": 104,
   "id": "1a66c839",
   "metadata": {},
   "outputs": [
    {
     "data": {
      "image/png": "[encoded data removed]",
      "text/plain": [
       "<Figure size 216x432 with 1 Axes>"
      ]
     },
     "metadata": {
      "needs_background": "light"
     },
     "output_type": "display_data"
    }
   ],
   "source": [
    "box('Pclass')"
   ]
  },
  {
   "cell_type": "markdown",
   "id": "0b3c0039",
   "metadata": {},
   "source": [
    "There are no outliers present in the data of column 'Pclass'."
   ]
  },
  {
   "cell_type": "code",
   "execution_count": 105,
   "id": "18caa73f",
   "metadata": {},
   "outputs": [
    {
     "data": {
      "image/png": "[encoded data removed]",
      "text/plain": [
       "<Figure size 216x432 with 1 Axes>"
      ]
     },
     "metadata": {
      "needs_background": "light"
     },
     "output_type": "display_data"
    }
   ],
   "source": [
    "box('Sex')"
   ]
  },
  {
   "cell_type": "markdown",
   "id": "100ddb20",
   "metadata": {},
   "source": [
    "There are no outliers in data of column 'Sex'."
   ]
  },
  {
   "cell_type": "code",
   "execution_count": 106,
   "id": "b10b2080",
   "metadata": {},
   "outputs": [
    {
     "data": {
      "image/png": "[encoded data removed]",
      "text/plain": [
       "<Figure size 216x432 with 1 Axes>"
      ]
     },
     "metadata": {
      "needs_background": "light"
     },
     "output_type": "display_data"
    }
   ],
   "source": [
    "box('Age')"
   ]
  },
  {
   "cell_type": "markdown",
   "id": "0ebd4e02",
   "metadata": {},
   "source": [
    "There are outliers present in the data of column 'Age'."
   ]
  },
  {
   "cell_type": "code",
   "execution_count": 107,
   "id": "5d5c2512",
   "metadata": {},
   "outputs": [
    {
     "data": {
      "image/png": "[encoded data removed]",
      "text/plain": [
       "<Figure size 216x432 with 1 Axes>"
      ]
     },
     "metadata": {
      "needs_background": "light"
     },
     "output_type": "display_data"
    }
   ],
   "source": [
    "box('SibSp')"
   ]
  },
  {
   "cell_type": "markdown",
   "id": "b2041bdd",
   "metadata": {},
   "source": [
    "There are outliers present in the data of column 'SibSp'."
   ]
  },
  {
   "cell_type": "code",
   "execution_count": 108,
   "id": "d977efe1",
   "metadata": {},
   "outputs": [
    {
     "data": {
      "image/png": "[encoded data removed]",
      "text/plain": [
       "<Figure size 216x432 with 1 Axes>"
      ]
     },
     "metadata": {
      "needs_background": "light"
     },
     "output_type": "display_data"
    }
   ],
   "source": [
    "box('Parch')"
   ]
  },
  {
   "cell_type": "markdown",
   "id": "f21bb13a",
   "metadata": {},
   "source": [
    "Extreme outliers are present in data of column 'Parch'."
   ]
  },
  {
   "cell_type": "code",
   "execution_count": 109,
   "id": "26009aa0",
   "metadata": {},
   "outputs": [
    {
     "data": {
      "image/png": "[encoded data removed]",
      "text/plain": [
       "<Figure size 216x432 with 1 Axes>"
      ]
     },
     "metadata": {
      "needs_background": "light"
     },
     "output_type": "display_data"
    }
   ],
   "source": [
    "box('Fare')"
   ]
  },
  {
   "cell_type": "markdown",
   "id": "db9496ea",
   "metadata": {},
   "source": [
    "Extreme outliers are present in data of column 'Fare'."
   ]
  },
  {
   "cell_type": "code",
   "execution_count": 110,
   "id": "6b10ba2b",
   "metadata": {},
   "outputs": [
    {
     "data": {
      "image/png": "[encoded data removed]",
      "text/plain": [
       "<Figure size 216x432 with 1 Axes>"
      ]
     },
     "metadata": {
      "needs_background": "light"
     },
     "output_type": "display_data"
    }
   ],
   "source": [
    "box('Embarked')"
   ]
  },
  {
   "cell_type": "markdown",
   "id": "84869e11",
   "metadata": {},
   "source": [
    "There are no outliers present in the data of column 'Embarked'."
   ]
  },
  {
   "cell_type": "code",
   "execution_count": 111,
   "id": "b090a60f",
   "metadata": {},
   "outputs": [
    {
     "data": {
      "image/png": "[encoded data removed]",
      "text/plain": [
       "<Figure size 576x576 with 8 Axes>"
      ]
     },
     "metadata": {
      "needs_background": "light"
     },
     "output_type": "display_data"
    }
   ],
   "source": [
    "#Plotting the data of every columns with boxplot to check the outliers\n",
    "plt.figure(figsize = [8,8])\n",
    "for i in range(0,len(data.columns.values)):\n",
    "    plt.subplot(2,4,i+1)\n",
    "    sns.boxplot(y = data[data.columns.values[i]])\n",
    "    plt.tight_layout()"
   ]
  },
  {
   "cell_type": "markdown",
   "id": "f014d228",
   "metadata": {},
   "source": [
    "Outliers are present in data of columns ['Age','SibSp','Parch','Fare']."
   ]
  },
  {
   "cell_type": "markdown",
   "id": "0e64aaf3",
   "metadata": {},
   "source": [
    "### Data Cleaning"
   ]
  },
  {
   "cell_type": "markdown",
   "id": "3cdc935d",
   "metadata": {},
   "source": [
    "### Checking whether the data is balanced or not"
   ]
  },
  {
   "cell_type": "code",
   "execution_count": 112,
   "id": "fac27bb9",
   "metadata": {},
   "outputs": [],
   "source": [
    "x = data.drop('Survived',axis = 1)\n",
    "y = data.Survived"
   ]
  },
  {
   "cell_type": "code",
   "execution_count": 113,
   "id": "a66bf001",
   "metadata": {},
   "outputs": [
    {
     "name": "stdout",
     "output_type": "stream",
     "text": [
      "(891, 7)\n",
      "(891,)\n"
     ]
    }
   ],
   "source": [
    "print(x.shape)\n",
    "print(y.shape)"
   ]
  },
  {
   "cell_type": "code",
   "execution_count": 114,
   "id": "5c1b9386",
   "metadata": {},
   "outputs": [
    {
     "name": "stdout",
     "output_type": "stream",
     "text": [
      "0    549\n",
      "1    342\n",
      "Name: Survived, dtype: int64\n"
     ]
    },
    {
     "data": {
      "image/png": "[encoded data removed]",
      "text/plain": [
       "<Figure size 432x288 with 1 Axes>"
      ]
     },
     "metadata": {
      "needs_background": "light"
     },
     "output_type": "display_data"
    }
   ],
   "source": [
    "sns.countplot(y)\n",
    "print(y.value_counts())"
   ]
  },
  {
   "cell_type": "markdown",
   "id": "b567c5da",
   "metadata": {},
   "source": [
    "We can see that there is imbalance in the data where the data of people survived is less in the dataset. We can handle the imbalance of this dataset"
   ]
  },
  {
   "cell_type": "code",
   "execution_count": 115,
   "id": "cde8a9c6",
   "metadata": {},
   "outputs": [
    {
     "data": {
      "text/plain": [
       "0       0\n",
       "1       1\n",
       "2       1\n",
       "3       1\n",
       "4       0\n",
       "       ..\n",
       "1093    1\n",
       "1094    1\n",
       "1095    1\n",
       "1096    1\n",
       "1097    1\n",
       "Name: Survived, Length: 1098, dtype: int64"
      ]
     },
     "execution_count": 115,
     "metadata": {},
     "output_type": "execute_result"
    }
   ],
   "source": [
    "from imblearn.over_sampling import SMOTE\n",
    "sm = SMOTE()\n",
    "xtrainw, ytrainw = sm.fit_resample(x,y)\n",
    "ytrainw"
   ]
  },
  {
   "cell_type": "code",
   "execution_count": 116,
   "id": "66309b65",
   "metadata": {},
   "outputs": [
    {
     "name": "stdout",
     "output_type": "stream",
     "text": [
      "0    549\n",
      "1    549\n",
      "Name: Survived, dtype: int64\n"
     ]
    },
    {
     "data": {
      "image/png": "[encoded data removed]",
      "text/plain": [
       "<Figure size 432x288 with 1 Axes>"
      ]
     },
     "metadata": {
      "needs_background": "light"
     },
     "output_type": "display_data"
    }
   ],
   "source": [
    "sns.countplot(ytrainw)\n",
    "print(ytrainw.value_counts())"
   ]
  },
  {
   "cell_type": "code",
   "execution_count": 117,
   "id": "85ee5e29",
   "metadata": {},
   "outputs": [
    {
     "name": "stdout",
     "output_type": "stream",
     "text": [
      "(1098, 7)\n",
      "(1098,)\n"
     ]
    }
   ],
   "source": [
    "print(xtrainw.shape)\n",
    "print(ytrainw.shape)"
   ]
  },
  {
   "cell_type": "markdown",
   "id": "e6d5799e",
   "metadata": {},
   "source": [
    "Now the data is balanced with equal distribution of data for Survived and passengers didn't survive."
   ]
  },
  {
   "cell_type": "markdown",
   "id": "be3db392",
   "metadata": {},
   "source": [
    "### Removing the Skewness"
   ]
  },
  {
   "cell_type": "markdown",
   "id": "344bc981",
   "metadata": {},
   "source": [
    "#### Splitting the data before removing skewness"
   ]
  },
  {
   "cell_type": "code",
   "execution_count": 118,
   "id": "9d42630a",
   "metadata": {},
   "outputs": [],
   "source": [
    "x = xtrainw.copy()\n",
    "y = ytrainw.copy()"
   ]
  },
  {
   "cell_type": "code",
   "execution_count": 119,
   "id": "0f772b58",
   "metadata": {},
   "outputs": [
    {
     "name": "stdout",
     "output_type": "stream",
     "text": [
      "(1098, 7)\n",
      "(1098,)\n"
     ]
    }
   ],
   "source": [
    "print(x.shape)\n",
    "print(y.shape)"
   ]
  },
  {
   "cell_type": "code",
   "execution_count": 120,
   "id": "64fed858",
   "metadata": {},
   "outputs": [
    {
     "data": {
      "text/plain": [
       "Fare        4.632361\n",
       "SibSp       3.918962\n",
       "Parch       2.845407\n",
       "Pclass     -0.447159\n",
       "Embarked   -1.159991\n",
       "dtype: float64"
      ]
     },
     "execution_count": 120,
     "metadata": {},
     "output_type": "execute_result"
    }
   ],
   "source": [
    "#We can set the skewness standard limit as +/-0.4.\n",
    "x.skew().sort_values(ascending=False)[np.abs(x.skew())>0.4]"
   ]
  },
  {
   "cell_type": "markdown",
   "id": "69c77e4c",
   "metadata": {},
   "source": [
    "Here the skewness of categorical columns are ignored as it is irrelevant. The columns except 'Fare' are having categorical data. The column 'Fare' is continuous type of data and is having higher skewness. Lets remove the skewness of this column."
   ]
  },
  {
   "cell_type": "code",
   "execution_count": 121,
   "id": "31d180c9",
   "metadata": {},
   "outputs": [],
   "source": [
    "from sklearn.preprocessing import power_transform\n",
    "x['Fare'] = power_transform(x['Fare'].values.reshape(-1,1))"
   ]
  },
  {
   "cell_type": "code",
   "execution_count": 122,
   "id": "8b365f42",
   "metadata": {},
   "outputs": [
    {
     "data": {
      "text/plain": [
       "Pclass     -0.447159\n",
       "Sex        -0.364231\n",
       "Age         0.356897\n",
       "SibSp       3.918962\n",
       "Parch       2.845407\n",
       "Fare       -0.040555\n",
       "Embarked   -1.159991\n",
       "dtype: float64"
      ]
     },
     "execution_count": 122,
     "metadata": {},
     "output_type": "execute_result"
    }
   ],
   "source": [
    "x.skew()"
   ]
  },
  {
   "cell_type": "markdown",
   "id": "cf6581f2",
   "metadata": {},
   "source": [
    "The skewness of the columns with continuous type of data have been removed. "
   ]
  },
  {
   "cell_type": "markdown",
   "id": "5e8b5094",
   "metadata": {},
   "source": [
    "### Removing the Outliers"
   ]
  },
  {
   "cell_type": "code",
   "execution_count": 123,
   "id": "e93c9989",
   "metadata": {},
   "outputs": [
    {
     "data": {
      "text/plain": [
       "array([[0.90405524, 0.85341933, 0.57167909, ..., 0.95377813, 0.62940775,\n",
       "        1.        ],\n",
       "       [1.42611531, 1.22939219, 0.65715466, ..., 1.25557447, 1.91225164,\n",
       "        1.        ],\n",
       "       [0.90405524, 1.22939219, 0.26447065, ..., 0.86394531, 0.62940775,\n",
       "        1.        ],\n",
       "       ...,\n",
       "       [1.42611531, 1.22939219, 1.80918631, ..., 1.00118664, 0.08456042,\n",
       "        1.        ],\n",
       "       [0.90405524, 1.22939219, 0.03406432, ..., 0.88710404, 0.64142195,\n",
       "        1.        ],\n",
       "       [0.90405524, 1.22939219, 0.03406432, ..., 0.18872835, 0.64142195,\n",
       "        1.        ]])"
      ]
     },
     "execution_count": 123,
     "metadata": {},
     "output_type": "execute_result"
    }
   ],
   "source": [
    "from scipy.stats import zscore\n",
    "df = x.copy()\n",
    "df['Survived'] = y.copy()\n",
    "z = np.abs(zscore(df))\n",
    "z"
   ]
  },
  {
   "cell_type": "code",
   "execution_count": 124,
   "id": "182b4763",
   "metadata": {},
   "outputs": [
    {
     "data": {
      "text/html": [
       "<div>\n",
       "<style scoped>\n",
       "    .dataframe tbody tr th:only-of-type {\n",
       "        vertical-align: middle;\n",
       "    }\n",
       "\n",
       "    .dataframe tbody tr th {\n",
       "        vertical-align: top;\n",
       "    }\n",
       "\n",
       "    .dataframe thead th {\n",
       "        text-align: right;\n",
       "    }\n",
       "</style>\n",
       "<table border=\"1\" class=\"dataframe\">\n",
       "  <thead>\n",
       "    <tr style=\"text-align: right;\">\n",
       "      <th></th>\n",
       "      <th>Pclass</th>\n",
       "      <th>Sex</th>\n",
       "      <th>Age</th>\n",
       "      <th>SibSp</th>\n",
       "      <th>Parch</th>\n",
       "      <th>Fare</th>\n",
       "      <th>Embarked</th>\n",
       "      <th>Survived</th>\n",
       "    </tr>\n",
       "  </thead>\n",
       "  <tbody>\n",
       "    <tr>\n",
       "      <th>0</th>\n",
       "      <td>3</td>\n",
       "      <td>1.000000</td>\n",
       "      <td>22</td>\n",
       "      <td>1</td>\n",
       "      <td>0</td>\n",
       "      <td>-0.953778</td>\n",
       "      <td>2.000000</td>\n",
       "      <td>0</td>\n",
       "    </tr>\n",
       "    <tr>\n",
       "      <th>1</th>\n",
       "      <td>1</td>\n",
       "      <td>0.000000</td>\n",
       "      <td>38</td>\n",
       "      <td>1</td>\n",
       "      <td>0</td>\n",
       "      <td>1.255574</td>\n",
       "      <td>0.000000</td>\n",
       "      <td>1</td>\n",
       "    </tr>\n",
       "    <tr>\n",
       "      <th>2</th>\n",
       "      <td>3</td>\n",
       "      <td>0.000000</td>\n",
       "      <td>26</td>\n",
       "      <td>0</td>\n",
       "      <td>0</td>\n",
       "      <td>-0.863945</td>\n",
       "      <td>2.000000</td>\n",
       "      <td>1</td>\n",
       "    </tr>\n",
       "    <tr>\n",
       "      <th>3</th>\n",
       "      <td>1</td>\n",
       "      <td>0.000000</td>\n",
       "      <td>35</td>\n",
       "      <td>1</td>\n",
       "      <td>0</td>\n",
       "      <td>0.990881</td>\n",
       "      <td>2.000000</td>\n",
       "      <td>1</td>\n",
       "    </tr>\n",
       "    <tr>\n",
       "      <th>4</th>\n",
       "      <td>3</td>\n",
       "      <td>1.000000</td>\n",
       "      <td>35</td>\n",
       "      <td>0</td>\n",
       "      <td>0</td>\n",
       "      <td>-0.848141</td>\n",
       "      <td>2.000000</td>\n",
       "      <td>0</td>\n",
       "    </tr>\n",
       "    <tr>\n",
       "      <th>...</th>\n",
       "      <td>...</td>\n",
       "      <td>...</td>\n",
       "      <td>...</td>\n",
       "      <td>...</td>\n",
       "      <td>...</td>\n",
       "      <td>...</td>\n",
       "      <td>...</td>\n",
       "      <td>...</td>\n",
       "    </tr>\n",
       "    <tr>\n",
       "      <th>1093</th>\n",
       "      <td>1</td>\n",
       "      <td>0.804718</td>\n",
       "      <td>48</td>\n",
       "      <td>1</td>\n",
       "      <td>0</td>\n",
       "      <td>1.040432</td>\n",
       "      <td>0.390565</td>\n",
       "      <td>1</td>\n",
       "    </tr>\n",
       "    <tr>\n",
       "      <th>1094</th>\n",
       "      <td>1</td>\n",
       "      <td>1.000000</td>\n",
       "      <td>25</td>\n",
       "      <td>1</td>\n",
       "      <td>0</td>\n",
       "      <td>1.020865</td>\n",
       "      <td>0.480687</td>\n",
       "      <td>1</td>\n",
       "    </tr>\n",
       "    <tr>\n",
       "      <th>1095</th>\n",
       "      <td>1</td>\n",
       "      <td>0.000000</td>\n",
       "      <td>53</td>\n",
       "      <td>1</td>\n",
       "      <td>0</td>\n",
       "      <td>1.001187</td>\n",
       "      <td>1.438187</td>\n",
       "      <td>1</td>\n",
       "    </tr>\n",
       "    <tr>\n",
       "      <th>1096</th>\n",
       "      <td>3</td>\n",
       "      <td>0.000000</td>\n",
       "      <td>29</td>\n",
       "      <td>0</td>\n",
       "      <td>0</td>\n",
       "      <td>-0.887104</td>\n",
       "      <td>1.000000</td>\n",
       "      <td>1</td>\n",
       "    </tr>\n",
       "    <tr>\n",
       "      <th>1097</th>\n",
       "      <td>3</td>\n",
       "      <td>0.000000</td>\n",
       "      <td>29</td>\n",
       "      <td>1</td>\n",
       "      <td>0</td>\n",
       "      <td>-0.188728</td>\n",
       "      <td>1.000000</td>\n",
       "      <td>1</td>\n",
       "    </tr>\n",
       "  </tbody>\n",
       "</table>\n",
       "<p>1031 rows × 8 columns</p>\n",
       "</div>"
      ],
      "text/plain": [
       "      Pclass       Sex  Age  SibSp  Parch      Fare  Embarked  Survived\n",
       "0          3  1.000000   22      1      0 -0.953778  2.000000         0\n",
       "1          1  0.000000   38      1      0  1.255574  0.000000         1\n",
       "2          3  0.000000   26      0      0 -0.863945  2.000000         1\n",
       "3          1  0.000000   35      1      0  0.990881  2.000000         1\n",
       "4          3  1.000000   35      0      0 -0.848141  2.000000         0\n",
       "...      ...       ...  ...    ...    ...       ...       ...       ...\n",
       "1093       1  0.804718   48      1      0  1.040432  0.390565         1\n",
       "1094       1  1.000000   25      1      0  1.020865  0.480687         1\n",
       "1095       1  0.000000   53      1      0  1.001187  1.438187         1\n",
       "1096       3  0.000000   29      0      0 -0.887104  1.000000         1\n",
       "1097       3  0.000000   29      1      0 -0.188728  1.000000         1\n",
       "\n",
       "[1031 rows x 8 columns]"
      ]
     },
     "execution_count": 124,
     "metadata": {},
     "output_type": "execute_result"
    }
   ],
   "source": [
    "threshold = 3\n",
    "df_new = df[(z<3).all(axis=1)]\n",
    "df_new"
   ]
  },
  {
   "cell_type": "code",
   "execution_count": 125,
   "id": "fdc4229f",
   "metadata": {},
   "outputs": [
    {
     "data": {
      "text/plain": [
       "(1098, 8)"
      ]
     },
     "execution_count": 125,
     "metadata": {},
     "output_type": "execute_result"
    }
   ],
   "source": [
    "df.shape"
   ]
  },
  {
   "cell_type": "code",
   "execution_count": 126,
   "id": "d68ec485",
   "metadata": {},
   "outputs": [
    {
     "data": {
      "text/plain": [
       "(1031, 8)"
      ]
     },
     "execution_count": 126,
     "metadata": {},
     "output_type": "execute_result"
    }
   ],
   "source": [
    "df_new.shape"
   ]
  },
  {
   "cell_type": "code",
   "execution_count": 127,
   "id": "8ad38010",
   "metadata": {},
   "outputs": [
    {
     "data": {
      "text/plain": [
       "6.10200364298725"
      ]
     },
     "execution_count": 127,
     "metadata": {},
     "output_type": "execute_result"
    }
   ],
   "source": [
    "data_loss = (df.shape[0]-df_new.shape[0])/df.shape[0]*100\n",
    "data_loss"
   ]
  },
  {
   "cell_type": "markdown",
   "id": "3639b112",
   "metadata": {},
   "source": [
    "We are losing only 6.1% of data after removing the outliers. "
   ]
  },
  {
   "cell_type": "markdown",
   "id": "5b19888b",
   "metadata": {},
   "source": [
    "### Checking the Multicolinearity of variables in the dataframe"
   ]
  },
  {
   "cell_type": "code",
   "execution_count": 128,
   "id": "3785032a",
   "metadata": {},
   "outputs": [
    {
     "name": "stdout",
     "output_type": "stream",
     "text": [
      "(1031, 7)\n",
      "(1031,)\n"
     ]
    }
   ],
   "source": [
    "x = df_new.drop('Survived',axis = 1)\n",
    "y = df_new['Survived']\n",
    "\n",
    "print(x.shape)\n",
    "print(y.shape)"
   ]
  },
  {
   "cell_type": "code",
   "execution_count": 129,
   "id": "86361611",
   "metadata": {},
   "outputs": [],
   "source": [
    "from statsmodels.stats.outliers_influence import variance_inflation_factor\n",
    "\n",
    "def calc_vif(x):\n",
    "    vif = pd.DataFrame()\n",
    "    vif['Column Name'] = x.columns\n",
    "    vif['VIF Factor'] = [variance_inflation_factor(x.values,i) for i in range(x.shape[1])]\n",
    "    return(vif)"
   ]
  },
  {
   "cell_type": "code",
   "execution_count": 130,
   "id": "0c480f78",
   "metadata": {},
   "outputs": [
    {
     "data": {
      "text/html": [
       "<div>\n",
       "<style scoped>\n",
       "    .dataframe tbody tr th:only-of-type {\n",
       "        vertical-align: middle;\n",
       "    }\n",
       "\n",
       "    .dataframe tbody tr th {\n",
       "        vertical-align: top;\n",
       "    }\n",
       "\n",
       "    .dataframe thead th {\n",
       "        text-align: right;\n",
       "    }\n",
       "</style>\n",
       "<table border=\"1\" class=\"dataframe\">\n",
       "  <thead>\n",
       "    <tr style=\"text-align: right;\">\n",
       "      <th></th>\n",
       "      <th>Column Name</th>\n",
       "      <th>VIF Factor</th>\n",
       "    </tr>\n",
       "  </thead>\n",
       "  <tbody>\n",
       "    <tr>\n",
       "      <th>0</th>\n",
       "      <td>Pclass</td>\n",
       "      <td>9.119083</td>\n",
       "    </tr>\n",
       "    <tr>\n",
       "      <th>1</th>\n",
       "      <td>Sex</td>\n",
       "      <td>2.680905</td>\n",
       "    </tr>\n",
       "    <tr>\n",
       "      <th>2</th>\n",
       "      <td>Age</td>\n",
       "      <td>5.604772</td>\n",
       "    </tr>\n",
       "    <tr>\n",
       "      <th>3</th>\n",
       "      <td>SibSp</td>\n",
       "      <td>1.709716</td>\n",
       "    </tr>\n",
       "    <tr>\n",
       "      <th>4</th>\n",
       "      <td>Parch</td>\n",
       "      <td>1.648939</td>\n",
       "    </tr>\n",
       "    <tr>\n",
       "      <th>5</th>\n",
       "      <td>Fare</td>\n",
       "      <td>2.575164</td>\n",
       "    </tr>\n",
       "    <tr>\n",
       "      <th>6</th>\n",
       "      <td>Embarked</td>\n",
       "      <td>4.334962</td>\n",
       "    </tr>\n",
       "  </tbody>\n",
       "</table>\n",
       "</div>"
      ],
      "text/plain": [
       "  Column Name  VIF Factor\n",
       "0      Pclass    9.119083\n",
       "1         Sex    2.680905\n",
       "2         Age    5.604772\n",
       "3       SibSp    1.709716\n",
       "4       Parch    1.648939\n",
       "5        Fare    2.575164\n",
       "6    Embarked    4.334962"
      ]
     },
     "execution_count": 130,
     "metadata": {},
     "output_type": "execute_result"
    }
   ],
   "source": [
    "calc_vif(x)"
   ]
  },
  {
   "cell_type": "markdown",
   "id": "15592b28",
   "metadata": {},
   "source": [
    "The variance of inflation for all the columns are comparatively low. So the multicolinearity is low for all the columns in the data."
   ]
  },
  {
   "cell_type": "code",
   "execution_count": 131,
   "id": "04a88b0a",
   "metadata": {},
   "outputs": [],
   "source": [
    "#Steps performed till now.\n",
    "#1.Loaded data\n",
    "#2. Observed the type of data, features and target of dataset, shape of the dataset(rows and columns).\n",
    "#3. Checked for missing values\n",
    "#4. Set the first column 'PassengerId' as index of the dataset.\n",
    "#5. Encoded the categorical columns which are relevant for model building.\n",
    "#6 Visualization of data\n",
    "    #Univariate analysis - Using countplot and histogram plot\n",
    "    #Bivariate analysis(with target column) - Using regression plot.\n",
    "#Statistical Summary\n",
    "#7. Describe of the data\n",
    "#8. Correlation of the data\n",
    "#9. Checked the data distribution among all the columns(Skewness).\n",
    "#10. Dropped columns which are used only for identification purpose of the passengers. Columns = ['Name','Ticket','Cabin'].\n",
    "#11. Checked the presence of outliers.\n",
    "#Data Cleansing\n",
    "#12. Checked and removed imbalance of data.\n",
    "#13. Removed skewness present in data.\n",
    "#14. Removed outliers present in the data.\n",
    "#15. Checked for multicolinearity of the columns."
   ]
  },
  {
   "cell_type": "markdown",
   "id": "4bc56069",
   "metadata": {},
   "source": [
    "### EDA Completed"
   ]
  },
  {
   "cell_type": "markdown",
   "id": "1c83b4d8",
   "metadata": {},
   "source": [
    "### Model Building"
   ]
  },
  {
   "cell_type": "markdown",
   "id": "3378d223",
   "metadata": {},
   "source": [
    "### Splitting the data into features and target"
   ]
  },
  {
   "cell_type": "code",
   "execution_count": 132,
   "id": "f4b19559",
   "metadata": {},
   "outputs": [
    {
     "name": "stdout",
     "output_type": "stream",
     "text": [
      "(1031, 7)\n",
      "(1031,)\n"
     ]
    }
   ],
   "source": [
    "features = x.copy()\n",
    "target = y.copy()\n",
    "print(features.shape)\n",
    "print(target.shape)"
   ]
  },
  {
   "cell_type": "code",
   "execution_count": 133,
   "id": "c291718d",
   "metadata": {},
   "outputs": [],
   "source": [
    "from sklearn.linear_model import LogisticRegression\n",
    "from sklearn.neighbors import KNeighborsClassifier\n",
    "from sklearn.svm import SVC\n",
    "from sklearn.tree import DecisionTreeClassifier\n",
    "from sklearn.naive_bayes import GaussianNB\n",
    "from sklearn.ensemble import RandomForestClassifier\n",
    "from sklearn.ensemble import AdaBoostClassifier\n",
    "from sklearn.ensemble import GradientBoostingClassifier\n",
    "from sklearn.ensemble import VotingClassifier\n",
    "\n",
    "from sklearn.model_selection import train_test_split\n",
    "from sklearn.metrics import accuracy_score, confusion_matrix, classification_report"
   ]
  },
  {
   "cell_type": "code",
   "execution_count": 359,
   "id": "bdcad4f0",
   "metadata": {},
   "outputs": [],
   "source": [
    "lr = LogisticRegression()\n",
    "knn = KNeighborsClassifier()\n",
    "svc = SVC()\n",
    "dtc = DecisionTreeClassifier()\n",
    "gnb = GaussianNB()\n",
    "rfc = RandomForestClassifier()\n",
    "abc = AdaBoostClassifier()\n",
    "gbc = GradientBoostingClassifier()\n",
    "estimator = [('LR', LogisticRegression()),\n",
    "             ('KNN',KNeighborsClassifier()),\n",
    "             ('SVR', SVC(gamma='auto')),\n",
    "             ('DTC',DecisionTreeClassifier()),\n",
    "             ('RFC',RandomForestClassifier(n_estimators=100))]\n",
    "vtc = VotingClassifier(estimators = estimator)"
   ]
  },
  {
   "cell_type": "markdown",
   "id": "1ac8a1c5",
   "metadata": {},
   "source": [
    "#### Finding the best random_state"
   ]
  },
  {
   "cell_type": "code",
   "execution_count": 139,
   "id": "5348bc26",
   "metadata": {},
   "outputs": [],
   "source": [
    "#User defined function for finding the best random state\n",
    "def best_ran(model):\n",
    "    maxAcc = 0\n",
    "    maxRs = 0\n",
    "    print(model)\n",
    "    for i in range(1,100):\n",
    "        features_train, features_test,target_train,target_test= train_test_split(features,target,test_size = 0.20, random_state = i)\n",
    "        model.fit(features_train,target_train)\n",
    "        pred_test = model.predict(features_test)\n",
    "        acc = accuracy_score(target_test,pred_test)\n",
    "        if acc>maxAcc:\n",
    "            maxAcc = acc\n",
    "            maxRs = i\n",
    "    print(\"At random state \",maxRs,\"the model is having accuracy score of \", maxAcc)"
   ]
  },
  {
   "cell_type": "markdown",
   "id": "50353f9a",
   "metadata": {},
   "source": [
    "#### Testing the model with best random state"
   ]
  },
  {
   "cell_type": "code",
   "execution_count": 357,
   "id": "246c600c",
   "metadata": {},
   "outputs": [],
   "source": [
    "#User defined Function for training and testing the model with best random state\n",
    "\n",
    "def mod_test(model, ran):\n",
    "    model\n",
    "    print(model)\n",
    "    features_train, features_test, target_train, target_test = train_test_split(features,target,test_size = 0.20, random_state = ran)\n",
    "    model.fit(features_train,target_train)\n",
    "    pred_test = model.predict(features_test)\n",
    "    print(\"Accuracy Score is \",accuracy_score(target_test,pred_test))\n",
    "    print(confusion_matrix(target_test,pred_test))\n",
    "    print(classification_report(target_test,pred_test))"
   ]
  },
  {
   "cell_type": "markdown",
   "id": "b83671a2",
   "metadata": {},
   "source": [
    "#### LogisticRegression"
   ]
  },
  {
   "cell_type": "code",
   "execution_count": 322,
   "id": "30576cf6",
   "metadata": {},
   "outputs": [
    {
     "name": "stdout",
     "output_type": "stream",
     "text": [
      "LogisticRegression()\n",
      "At random state  57 the model is having accuracy score of  0.8454106280193237\n"
     ]
    }
   ],
   "source": [
    "best_ran(lr)"
   ]
  },
  {
   "cell_type": "code",
   "execution_count": 323,
   "id": "f61004d8",
   "metadata": {},
   "outputs": [
    {
     "name": "stdout",
     "output_type": "stream",
     "text": [
      "LogisticRegression()\n",
      "Accuracy Score is  0.8454106280193237\n",
      "[[84 20]\n",
      " [12 91]]\n",
      "              precision    recall  f1-score   support\n",
      "\n",
      "           0       0.88      0.81      0.84       104\n",
      "           1       0.82      0.88      0.85       103\n",
      "\n",
      "    accuracy                           0.85       207\n",
      "   macro avg       0.85      0.85      0.85       207\n",
      "weighted avg       0.85      0.85      0.85       207\n",
      "\n"
     ]
    }
   ],
   "source": [
    "mod_test(lr,57)"
   ]
  },
  {
   "cell_type": "markdown",
   "id": "036d62f3",
   "metadata": {},
   "source": [
    "#### KNeighborsClassifier"
   ]
  },
  {
   "cell_type": "code",
   "execution_count": 143,
   "id": "a0bee165",
   "metadata": {},
   "outputs": [
    {
     "name": "stdout",
     "output_type": "stream",
     "text": [
      "KNeighborsClassifier()\n",
      "At random state  31 the model is having accuracy score of  0.8405797101449275\n"
     ]
    }
   ],
   "source": [
    "best_ran(knn)"
   ]
  },
  {
   "cell_type": "code",
   "execution_count": 325,
   "id": "28ffe6e6",
   "metadata": {},
   "outputs": [
    {
     "name": "stdout",
     "output_type": "stream",
     "text": [
      "KNeighborsClassifier()\n",
      "Accuracy Score is  0.8405797101449275\n",
      "[[80 19]\n",
      " [14 94]]\n",
      "              precision    recall  f1-score   support\n",
      "\n",
      "           0       0.85      0.81      0.83        99\n",
      "           1       0.83      0.87      0.85       108\n",
      "\n",
      "    accuracy                           0.84       207\n",
      "   macro avg       0.84      0.84      0.84       207\n",
      "weighted avg       0.84      0.84      0.84       207\n",
      "\n"
     ]
    }
   ],
   "source": [
    "mod_test(knn,31)"
   ]
  },
  {
   "cell_type": "markdown",
   "id": "4f5af207",
   "metadata": {},
   "source": [
    "#### DecisionTreeClassifier"
   ]
  },
  {
   "cell_type": "code",
   "execution_count": 145,
   "id": "89d88db8",
   "metadata": {},
   "outputs": [
    {
     "name": "stdout",
     "output_type": "stream",
     "text": [
      "DecisionTreeClassifier()\n",
      "At random state  94 the model is having accuracy score of  0.8647342995169082\n"
     ]
    }
   ],
   "source": [
    "best_ran(dtc)"
   ]
  },
  {
   "cell_type": "code",
   "execution_count": 366,
   "id": "78015e2a",
   "metadata": {},
   "outputs": [
    {
     "name": "stdout",
     "output_type": "stream",
     "text": [
      "DecisionTreeClassifier()\n",
      "Accuracy Score is  0.8502415458937198\n",
      "[[92 14]\n",
      " [17 84]]\n",
      "              precision    recall  f1-score   support\n",
      "\n",
      "           0       0.84      0.87      0.86       106\n",
      "           1       0.86      0.83      0.84       101\n",
      "\n",
      "    accuracy                           0.85       207\n",
      "   macro avg       0.85      0.85      0.85       207\n",
      "weighted avg       0.85      0.85      0.85       207\n",
      "\n"
     ]
    }
   ],
   "source": [
    "mod_test(dtc,94)"
   ]
  },
  {
   "cell_type": "markdown",
   "id": "74a670be",
   "metadata": {},
   "source": [
    "#### GaussianNB"
   ]
  },
  {
   "cell_type": "code",
   "execution_count": 147,
   "id": "27fd6963",
   "metadata": {},
   "outputs": [
    {
     "name": "stdout",
     "output_type": "stream",
     "text": [
      "GaussianNB()\n",
      "At random state  72 the model is having accuracy score of  0.8260869565217391\n"
     ]
    }
   ],
   "source": [
    "best_ran(gnb)"
   ]
  },
  {
   "cell_type": "code",
   "execution_count": 339,
   "id": "fc505885",
   "metadata": {},
   "outputs": [
    {
     "name": "stdout",
     "output_type": "stream",
     "text": [
      "GaussianNB()\n",
      "Accuracy Score is  0.8260869565217391\n",
      "[[ 68  24]\n",
      " [ 12 103]]\n",
      "              precision    recall  f1-score   support\n",
      "\n",
      "           0       0.85      0.74      0.79        92\n",
      "           1       0.81      0.90      0.85       115\n",
      "\n",
      "    accuracy                           0.83       207\n",
      "   macro avg       0.83      0.82      0.82       207\n",
      "weighted avg       0.83      0.83      0.82       207\n",
      "\n"
     ]
    }
   ],
   "source": [
    "mod_test(gnb,72)"
   ]
  },
  {
   "cell_type": "markdown",
   "id": "b8274d33",
   "metadata": {},
   "source": [
    "#### RandomForestClassifier"
   ]
  },
  {
   "cell_type": "code",
   "execution_count": 149,
   "id": "53a45601",
   "metadata": {},
   "outputs": [
    {
     "name": "stdout",
     "output_type": "stream",
     "text": [
      "RandomForestClassifier()\n",
      "At random state  57 the model is having accuracy score of  0.893719806763285\n"
     ]
    }
   ],
   "source": [
    "best_ran(rfc)"
   ]
  },
  {
   "cell_type": "code",
   "execution_count": 361,
   "id": "87894956",
   "metadata": {},
   "outputs": [
    {
     "name": "stdout",
     "output_type": "stream",
     "text": [
      "RandomForestClassifier()\n",
      "Accuracy Score is  0.893719806763285\n",
      "[[90 14]\n",
      " [ 8 95]]\n",
      "              precision    recall  f1-score   support\n",
      "\n",
      "           0       0.92      0.87      0.89       104\n",
      "           1       0.87      0.92      0.90       103\n",
      "\n",
      "    accuracy                           0.89       207\n",
      "   macro avg       0.89      0.89      0.89       207\n",
      "weighted avg       0.90      0.89      0.89       207\n",
      "\n"
     ]
    }
   ],
   "source": [
    "mod_test(rfc,57)"
   ]
  },
  {
   "cell_type": "markdown",
   "id": "bd5fd359",
   "metadata": {},
   "source": [
    "#### AdaBoostClassifier"
   ]
  },
  {
   "cell_type": "code",
   "execution_count": 150,
   "id": "6ba3cb6a",
   "metadata": {},
   "outputs": [
    {
     "name": "stdout",
     "output_type": "stream",
     "text": [
      "AdaBoostClassifier()\n",
      "At random state  72 the model is having accuracy score of  0.855072463768116\n"
     ]
    }
   ],
   "source": [
    "best_ran(abc)"
   ]
  },
  {
   "cell_type": "code",
   "execution_count": 345,
   "id": "205b35cb",
   "metadata": {},
   "outputs": [
    {
     "name": "stdout",
     "output_type": "stream",
     "text": [
      "AdaBoostClassifier()\n",
      "Accuracy Score is  0.855072463768116\n",
      "[[ 73  19]\n",
      " [ 11 104]]\n",
      "              precision    recall  f1-score   support\n",
      "\n",
      "           0       0.87      0.79      0.83        92\n",
      "           1       0.85      0.90      0.87       115\n",
      "\n",
      "    accuracy                           0.86       207\n",
      "   macro avg       0.86      0.85      0.85       207\n",
      "weighted avg       0.86      0.86      0.85       207\n",
      "\n"
     ]
    }
   ],
   "source": [
    "mod_test(abc,72)"
   ]
  },
  {
   "cell_type": "markdown",
   "id": "09bc5b8a",
   "metadata": {},
   "source": [
    "#### GradientBoostingClassifier"
   ]
  },
  {
   "cell_type": "code",
   "execution_count": 272,
   "id": "956df3fa",
   "metadata": {},
   "outputs": [
    {
     "name": "stdout",
     "output_type": "stream",
     "text": [
      "GradientBoostingClassifier()\n",
      "At random state  96 the model is having accuracy score of  0.8840579710144928\n"
     ]
    }
   ],
   "source": [
    "best_ran(gbc)"
   ]
  },
  {
   "cell_type": "code",
   "execution_count": 347,
   "id": "fb688fc8",
   "metadata": {},
   "outputs": [
    {
     "name": "stdout",
     "output_type": "stream",
     "text": [
      "GradientBoostingClassifier()\n",
      "Accuracy Score is  0.8840579710144928\n",
      "[[91  8]\n",
      " [16 92]]\n",
      "              precision    recall  f1-score   support\n",
      "\n",
      "           0       0.85      0.92      0.88        99\n",
      "           1       0.92      0.85      0.88       108\n",
      "\n",
      "    accuracy                           0.88       207\n",
      "   macro avg       0.89      0.89      0.88       207\n",
      "weighted avg       0.89      0.88      0.88       207\n",
      "\n"
     ]
    }
   ],
   "source": [
    "mod_test(gbc,96)"
   ]
  },
  {
   "cell_type": "markdown",
   "id": "bc06f930",
   "metadata": {},
   "source": [
    "#### VotingClassifier"
   ]
  },
  {
   "cell_type": "code",
   "execution_count": 281,
   "id": "24232a3d",
   "metadata": {},
   "outputs": [
    {
     "name": "stdout",
     "output_type": "stream",
     "text": [
      "VotingClassifier(estimators=[('LR', LogisticRegression()),\n",
      "                             ('KNN', KNeighborsClassifier()),\n",
      "                             ('SVR', SVC(gamma='auto')),\n",
      "                             ('DTC', DecisionTreeClassifier()),\n",
      "                             ('RFC', RandomForestClassifier())])\n",
      "At random state  57 the model is having accuracy score of  0.8985507246376812\n"
     ]
    }
   ],
   "source": [
    "best_ran(vtc)"
   ]
  },
  {
   "cell_type": "code",
   "execution_count": 360,
   "id": "3a7a59a4",
   "metadata": {},
   "outputs": [
    {
     "name": "stdout",
     "output_type": "stream",
     "text": [
      "VotingClassifier(estimators=[('LR', LogisticRegression()),\n",
      "                             ('KNN', KNeighborsClassifier()),\n",
      "                             ('SVR', SVC(gamma='auto')),\n",
      "                             ('DTC', DecisionTreeClassifier()),\n",
      "                             ('RFC', RandomForestClassifier())])\n",
      "Accuracy Score is  0.8888888888888888\n",
      "[[89 15]\n",
      " [ 8 95]]\n",
      "              precision    recall  f1-score   support\n",
      "\n",
      "           0       0.92      0.86      0.89       104\n",
      "           1       0.86      0.92      0.89       103\n",
      "\n",
      "    accuracy                           0.89       207\n",
      "   macro avg       0.89      0.89      0.89       207\n",
      "weighted avg       0.89      0.89      0.89       207\n",
      "\n"
     ]
    }
   ],
   "source": [
    "mod_test(vtc,57)"
   ]
  },
  {
   "cell_type": "markdown",
   "id": "b7fdb6be",
   "metadata": {},
   "source": [
    "#### SVC"
   ]
  },
  {
   "cell_type": "code",
   "execution_count": 332,
   "id": "a07428a1",
   "metadata": {},
   "outputs": [],
   "source": [
    "#User defined function for finding the best random state\n",
    "def best_ran_svc(model,ker):\n",
    "    svc = SVC(kernel = ker,probability=True)\n",
    "    maxAcc = 0\n",
    "    maxRs = 0\n",
    "    print(model)\n",
    "    for i in range(1,100):\n",
    "        features_train, features_test,target_train,target_test= train_test_split(features,target,test_size = 0.20, random_state = i)\n",
    "        model.fit(features_train,target_train)\n",
    "        pred_test = model.predict(features_test)\n",
    "        acc = accuracy_score(target_test,pred_test)\n",
    "        if acc>maxAcc:\n",
    "            maxAcc = acc\n",
    "            maxRs = i\n",
    "    print(\"At random state \",maxRs,\"the model is having accuracy score of \", maxAcc)"
   ]
  },
  {
   "cell_type": "code",
   "execution_count": 333,
   "id": "b2fd531c",
   "metadata": {},
   "outputs": [],
   "source": [
    "#User defined function for using different kernels for SVC model\n",
    "def svca(ker,ran):\n",
    "    svc = SVC(kernel = ker,probability=True)\n",
    "    print(SVC(),ker)\n",
    "    features_train, features_test, target_train, target_test = train_test_split(features,target,test_size = 0.20, random_state = ran)\n",
    "    svc.fit(features_train,target_train)\n",
    "    pred_svc = svc.predict(features_test)\n",
    "    print(accuracy_score(target_test,pred_svc))\n",
    "    print(confusion_matrix(target_test,pred_svc))\n",
    "    print(classification_report(target_test,pred_svc))"
   ]
  },
  {
   "cell_type": "markdown",
   "id": "1cc1ba60",
   "metadata": {},
   "source": [
    "##### 'rbf'"
   ]
  },
  {
   "cell_type": "code",
   "execution_count": 168,
   "id": "5b8f73ce",
   "metadata": {},
   "outputs": [
    {
     "name": "stdout",
     "output_type": "stream",
     "text": [
      "SVC()\n",
      "At random state  72 the model is having accuracy score of  0.7971014492753623\n"
     ]
    }
   ],
   "source": [
    "best_ran_svc(svc,'rbf')"
   ]
  },
  {
   "cell_type": "code",
   "execution_count": 334,
   "id": "da89db21",
   "metadata": {},
   "outputs": [
    {
     "name": "stdout",
     "output_type": "stream",
     "text": [
      "SVC() rbf\n",
      "0.7971014492753623\n",
      "[[79 13]\n",
      " [29 86]]\n",
      "              precision    recall  f1-score   support\n",
      "\n",
      "           0       0.73      0.86      0.79        92\n",
      "           1       0.87      0.75      0.80       115\n",
      "\n",
      "    accuracy                           0.80       207\n",
      "   macro avg       0.80      0.80      0.80       207\n",
      "weighted avg       0.81      0.80      0.80       207\n",
      "\n"
     ]
    }
   ],
   "source": [
    "svca('rbf',72)"
   ]
  },
  {
   "cell_type": "markdown",
   "id": "5d15232e",
   "metadata": {},
   "source": [
    "##### 'linear'"
   ]
  },
  {
   "cell_type": "code",
   "execution_count": 175,
   "id": "fec4c313",
   "metadata": {},
   "outputs": [
    {
     "name": "stdout",
     "output_type": "stream",
     "text": [
      "SVC()\n",
      "At random state  72 the model is having accuracy score of  0.7971014492753623\n"
     ]
    }
   ],
   "source": [
    "best_ran_svc(svc,'linear')"
   ]
  },
  {
   "cell_type": "code",
   "execution_count": 176,
   "id": "eb0ef1fb",
   "metadata": {},
   "outputs": [
    {
     "name": "stdout",
     "output_type": "stream",
     "text": [
      "SVC() linear\n",
      "0.7874396135265701\n",
      "[[78 14]\n",
      " [30 85]]\n",
      "              precision    recall  f1-score   support\n",
      "\n",
      "           0       0.72      0.85      0.78        92\n",
      "           1       0.86      0.74      0.79       115\n",
      "\n",
      "    accuracy                           0.79       207\n",
      "   macro avg       0.79      0.79      0.79       207\n",
      "weighted avg       0.80      0.79      0.79       207\n",
      "\n"
     ]
    }
   ],
   "source": [
    "svca('linear',72)"
   ]
  },
  {
   "cell_type": "markdown",
   "id": "7bf2612d",
   "metadata": {},
   "source": [
    "##### 'poly'"
   ]
  },
  {
   "cell_type": "code",
   "execution_count": 177,
   "id": "db0d65b1",
   "metadata": {},
   "outputs": [
    {
     "name": "stdout",
     "output_type": "stream",
     "text": [
      "SVC()\n",
      "At random state  72 the model is having accuracy score of  0.7971014492753623\n"
     ]
    }
   ],
   "source": [
    "best_ran_svc(svc,'poly')"
   ]
  },
  {
   "cell_type": "code",
   "execution_count": 178,
   "id": "222704c3",
   "metadata": {},
   "outputs": [
    {
     "name": "stdout",
     "output_type": "stream",
     "text": [
      "SVC() poly\n",
      "0.7584541062801933\n",
      "[[61 31]\n",
      " [19 96]]\n",
      "              precision    recall  f1-score   support\n",
      "\n",
      "           0       0.76      0.66      0.71        92\n",
      "           1       0.76      0.83      0.79       115\n",
      "\n",
      "    accuracy                           0.76       207\n",
      "   macro avg       0.76      0.75      0.75       207\n",
      "weighted avg       0.76      0.76      0.76       207\n",
      "\n"
     ]
    }
   ],
   "source": [
    "svca('poly',72)"
   ]
  },
  {
   "cell_type": "markdown",
   "id": "bf95074c",
   "metadata": {},
   "source": [
    "After testing the data with all the algorithms, the ensemble method RandomForestClassifer(rfc) is performing well with the prediction with an accuracy score of 89.4%. "
   ]
  },
  {
   "cell_type": "markdown",
   "id": "73b6278d",
   "metadata": {},
   "source": [
    "Now let's check the cross validation of all the models."
   ]
  },
  {
   "cell_type": "markdown",
   "id": "e517d53b",
   "metadata": {},
   "source": [
    "### Cross Validation"
   ]
  },
  {
   "cell_type": "code",
   "execution_count": 179,
   "id": "142b2f9d",
   "metadata": {},
   "outputs": [],
   "source": [
    "#User defined function for checking cross validation for each model\n",
    "from sklearn.model_selection import cross_val_score\n",
    "\n",
    "def cross_val(model,ran):    #ran = random_state\n",
    "    cv_mean = 0\n",
    "    cv_fold = 0\n",
    "    features_train, features_test, target_train, target_test = train_test_split(features,target,test_size = 0.20, random_state = ran)\n",
    "    model.fit(features_train,target_train)\n",
    "    pred_test = model.predict(features_test)\n",
    "    for j in range(2,10):\n",
    "        cv_score = cross_val_score(model,features, target, cv = j)\n",
    "        a =cv_score.mean()\n",
    "        if a>cv_mean:\n",
    "            cv_mean = a\n",
    "            cv_fold = j\n",
    "    print(model)\n",
    "    print(\"At cv fold\",cv_fold,\" the cv score is \", cv_mean, \"and the Accuracy Score  is \",accuracy_score(target_test,pred_test))"
   ]
  },
  {
   "cell_type": "markdown",
   "id": "c3eb5acc",
   "metadata": {},
   "source": [
    "#### LogisticRegression"
   ]
  },
  {
   "cell_type": "code",
   "execution_count": 180,
   "id": "a748c3a6",
   "metadata": {},
   "outputs": [
    {
     "name": "stdout",
     "output_type": "stream",
     "text": [
      "LogisticRegression()\n",
      "At cv fold 2  the cv score is  0.7943911341913148 and the Accuracy Score  is  0.8454106280193237\n"
     ]
    }
   ],
   "source": [
    "cross_val(lr, 57)"
   ]
  },
  {
   "cell_type": "markdown",
   "id": "559ec1a9",
   "metadata": {},
   "source": [
    "#### KNeighborsClassifier"
   ]
  },
  {
   "cell_type": "code",
   "execution_count": 181,
   "id": "73925b10",
   "metadata": {},
   "outputs": [
    {
     "name": "stdout",
     "output_type": "stream",
     "text": [
      "KNeighborsClassifier()\n",
      "At cv fold 9  the cv score is  0.7982964658021866 and the Accuracy Score  is  0.8405797101449275\n"
     ]
    }
   ],
   "source": [
    "cross_val(knn,31)"
   ]
  },
  {
   "cell_type": "markdown",
   "id": "8dd9d189",
   "metadata": {},
   "source": [
    "#### DecisionTreeClassifier"
   ]
  },
  {
   "cell_type": "code",
   "execution_count": 182,
   "id": "aa52cd29",
   "metadata": {},
   "outputs": [
    {
     "name": "stdout",
     "output_type": "stream",
     "text": [
      "DecisionTreeClassifier()\n",
      "At cv fold 8  the cv score is  0.8264519743217055 and the Accuracy Score  is  0.8405797101449275\n"
     ]
    }
   ],
   "source": [
    "cross_val(dtc,94)"
   ]
  },
  {
   "cell_type": "markdown",
   "id": "4ed37cb9",
   "metadata": {},
   "source": [
    "#### GaussianNB"
   ]
  },
  {
   "cell_type": "code",
   "execution_count": 183,
   "id": "67f31e1b",
   "metadata": {},
   "outputs": [
    {
     "name": "stdout",
     "output_type": "stream",
     "text": [
      "GaussianNB()\n",
      "At cv fold 8  the cv score is  0.7594476744186047 and the Accuracy Score  is  0.8260869565217391\n"
     ]
    }
   ],
   "source": [
    "cross_val(gnb,72)"
   ]
  },
  {
   "cell_type": "markdown",
   "id": "05d38591",
   "metadata": {},
   "source": [
    "#### RandomForestClassifier"
   ]
  },
  {
   "cell_type": "code",
   "execution_count": 284,
   "id": "76a6c703",
   "metadata": {},
   "outputs": [
    {
     "name": "stdout",
     "output_type": "stream",
     "text": [
      "RandomForestClassifier()\n",
      "At cv fold 7  the cv score is  0.8381136238279094 and the Accuracy Score  is  0.893719806763285\n"
     ]
    }
   ],
   "source": [
    "cross_val(rfc,57)"
   ]
  },
  {
   "cell_type": "markdown",
   "id": "3da5a3f6",
   "metadata": {},
   "source": [
    "#### AdaBoostClassifier"
   ]
  },
  {
   "cell_type": "code",
   "execution_count": 185,
   "id": "6dea2805",
   "metadata": {},
   "outputs": [
    {
     "name": "stdout",
     "output_type": "stream",
     "text": [
      "AdaBoostClassifier()\n",
      "At cv fold 6  the cv score is  0.8176707919669975 and the Accuracy Score  is  0.855072463768116\n"
     ]
    }
   ],
   "source": [
    "cross_val(abc,72)"
   ]
  },
  {
   "cell_type": "markdown",
   "id": "9b2909d6",
   "metadata": {},
   "source": [
    "#### GradientBoostingClassifier"
   ]
  },
  {
   "cell_type": "code",
   "execution_count": 209,
   "id": "bd517f64",
   "metadata": {},
   "outputs": [
    {
     "name": "stdout",
     "output_type": "stream",
     "text": [
      "GradientBoostingClassifier()\n",
      "At cv fold 4  the cv score is  0.845805809429011 and the Accuracy Score  is  0.8840579710144928\n"
     ]
    }
   ],
   "source": [
    "cross_val(gbc,96)"
   ]
  },
  {
   "cell_type": "markdown",
   "id": "bf7d39ac",
   "metadata": {},
   "source": [
    "#### VotingClassifier"
   ]
  },
  {
   "cell_type": "code",
   "execution_count": 286,
   "id": "8640e2b3",
   "metadata": {},
   "outputs": [
    {
     "name": "stdout",
     "output_type": "stream",
     "text": [
      "VotingClassifier(estimators=[('LR', LogisticRegression()),\n",
      "                             ('KNN', KNeighborsClassifier()),\n",
      "                             ('SVR', SVC(gamma='auto')),\n",
      "                             ('DTC', DecisionTreeClassifier()),\n",
      "                             ('RFC', RandomForestClassifier())])\n",
      "At cv fold 7  the cv score is  0.8400112940929267 and the Accuracy Score  is  0.8502415458937198\n"
     ]
    }
   ],
   "source": [
    "cross_val(vtc,55)"
   ]
  },
  {
   "cell_type": "markdown",
   "id": "d7a7020b",
   "metadata": {},
   "source": [
    "#### SVC"
   ]
  },
  {
   "cell_type": "code",
   "execution_count": 188,
   "id": "763b0a3d",
   "metadata": {},
   "outputs": [
    {
     "name": "stdout",
     "output_type": "stream",
     "text": [
      "SVC()\n",
      "At cv fold 9  the cv score is  0.7227137893041783 and the Accuracy Score  is  0.7971014492753623\n"
     ]
    }
   ],
   "source": [
    "cross_val(svc,72)"
   ]
  },
  {
   "cell_type": "markdown",
   "id": "d1d03c73",
   "metadata": {},
   "source": [
    "#### After cross validation of the models, the Random Forest Classifier (rfc) is performing well with cross validation and providing maximum accuracy score of 89.37% for a cross validation mean score of 83.8% at 7 cross validations. So we can consider the RandomForestClassifier model as best model."
   ]
  },
  {
   "cell_type": "code",
   "execution_count": 290,
   "id": "feb06a0f",
   "metadata": {},
   "outputs": [
    {
     "name": "stdout",
     "output_type": "stream",
     "text": [
      "Accuracy Score is  0.9033816425120773\n",
      "[[92 12]\n",
      " [ 8 95]]\n",
      "              precision    recall  f1-score   support\n",
      "\n",
      "           0       0.92      0.88      0.90       104\n",
      "           1       0.89      0.92      0.90       103\n",
      "\n",
      "    accuracy                           0.90       207\n",
      "   macro avg       0.90      0.90      0.90       207\n",
      "weighted avg       0.90      0.90      0.90       207\n",
      "\n",
      "CV score is  0.833261103669267\n"
     ]
    }
   ],
   "source": [
    "rfc = RandomForestClassifier(n_estimators=100)\n",
    "features_train, features_test,target_train,target_test= train_test_split(features,target,test_size = 0.20, random_state = 57)\n",
    "rfc.fit(features_train, target_train)\n",
    "pred_test = rfc.predict(features_test)\n",
    "print(\"Accuracy Score is \",accuracy_score(target_test,pred_test))\n",
    "print(confusion_matrix(target_test,pred_test))\n",
    "print(classification_report(target_test,pred_test))\n",
    "cv_score = cross_val_score(rfc,features, target, cv = 7)\n",
    "cv_mean =cv_score.mean()\n",
    "print('CV score is ', cv_mean)"
   ]
  },
  {
   "cell_type": "markdown",
   "id": "27dd88ed",
   "metadata": {},
   "source": [
    "### Hyperparameter Tuning"
   ]
  },
  {
   "cell_type": "code",
   "execution_count": 305,
   "id": "85c42140",
   "metadata": {},
   "outputs": [],
   "source": [
    "from sklearn.model_selection import GridSearchCV\n",
    "parameters = {'n_estimators':[100,125,150],\n",
    "             'criterion': ['gini','entropy'],\n",
    "             'max_features': ['auto','sqrt','log2'],\n",
    "             'class_weight':['balanced','balanced_subsample']}\n",
    "\n",
    "grid = GridSearchCV(estimator = RandomForestClassifier(),param_grid=parameters, cv = 7)"
   ]
  },
  {
   "cell_type": "code",
   "execution_count": 306,
   "id": "dce30e6f",
   "metadata": {},
   "outputs": [
    {
     "data": {
      "text/plain": [
       "GridSearchCV(cv=7, estimator=RandomForestClassifier(),\n",
       "             param_grid={'class_weight': ['balanced', 'balanced_subsample'],\n",
       "                         'criterion': ['gini', 'entropy'],\n",
       "                         'max_features': ['auto', 'sqrt', 'log2'],\n",
       "                         'n_estimators': [100, 125, 150]})"
      ]
     },
     "execution_count": 306,
     "metadata": {},
     "output_type": "execute_result"
    }
   ],
   "source": [
    "grid.fit(features,target)"
   ]
  },
  {
   "cell_type": "code",
   "execution_count": 307,
   "id": "46ac7e6c",
   "metadata": {},
   "outputs": [
    {
     "data": {
      "text/plain": [
       "0.8419943266882042"
      ]
     },
     "execution_count": 307,
     "metadata": {},
     "output_type": "execute_result"
    }
   ],
   "source": [
    "grid.best_score_"
   ]
  },
  {
   "cell_type": "code",
   "execution_count": 308,
   "id": "e8ae2aae",
   "metadata": {},
   "outputs": [
    {
     "data": {
      "text/plain": [
       "{'class_weight': 'balanced_subsample',\n",
       " 'criterion': 'gini',\n",
       " 'max_features': 'sqrt',\n",
       " 'n_estimators': 150}"
      ]
     },
     "execution_count": 308,
     "metadata": {},
     "output_type": "execute_result"
    }
   ],
   "source": [
    "grid.best_params_"
   ]
  },
  {
   "cell_type": "code",
   "execution_count": 368,
   "id": "069af27b",
   "metadata": {},
   "outputs": [
    {
     "name": "stdout",
     "output_type": "stream",
     "text": [
      "Accuracy Score is  0.9033816425120773\n",
      "[[92 12]\n",
      " [ 8 95]]\n",
      "              precision    recall  f1-score   support\n",
      "\n",
      "           0       0.92      0.88      0.90       104\n",
      "           1       0.89      0.92      0.90       103\n",
      "\n",
      "    accuracy                           0.90       207\n",
      "   macro avg       0.90      0.90      0.90       207\n",
      "weighted avg       0.90      0.90      0.90       207\n",
      "\n"
     ]
    }
   ],
   "source": [
    "rfc = RandomForestClassifier(n_estimators=100,criterion='entropy',max_features='auto',class_weight='balanced_subsample')\n",
    "features_train, features_test, target_train, target_test = train_test_split(features,target,test_size = 0.20, random_state = 57)\n",
    "rfc.fit(features_train,target_train)\n",
    "pred_rfc = rfc.predict(features_test)\n",
    "print(\"Accuracy Score is \",accuracy_score(target_test,pred_rfc))\n",
    "print(confusion_matrix(target_test,pred_rfc))\n",
    "print(classification_report(target_test,pred_rfc))"
   ]
  },
  {
   "cell_type": "markdown",
   "id": "853ddfdc",
   "metadata": {},
   "source": [
    "After hyperparameter tuning, the model is performing slightly better and providing better accuracy score."
   ]
  },
  {
   "cell_type": "markdown",
   "id": "9b60e289",
   "metadata": {},
   "source": [
    "### AUC ROC Curve"
   ]
  },
  {
   "cell_type": "code",
   "execution_count": 318,
   "id": "b80723d7",
   "metadata": {},
   "outputs": [],
   "source": [
    "from sklearn.metrics import roc_curve\n",
    "from sklearn.metrics import roc_auc_score"
   ]
  },
  {
   "cell_type": "code",
   "execution_count": 319,
   "id": "9d3ea1d6",
   "metadata": {},
   "outputs": [],
   "source": [
    "#User defined function for plotting AUC ROC curve for different models\n",
    "\n",
    "def auc_roc(model):\n",
    "    target_pred_prob = model.predict_proba(features_test)[:,1]\n",
    "    fpr,tpr,thresholds = roc_curve(target_test,target_pred_prob)\n",
    "    auc_score = roc_auc_score(target_test, model.predict(features_test))\n",
    "    plt.plot([0,1],[0,1],'k--')\n",
    "    plt.plot(fpr, tpr, label = 'AUC ='+str(round(auc_score,2)))\n",
    "    plt.xlabel('False Positive Rate')\n",
    "    plt.ylabel('True Positive Rate')\n",
    "    plt.legend(loc = 'lower right')\n",
    "    plt.title(model)\n",
    "    plt.show()"
   ]
  },
  {
   "cell_type": "code",
   "execution_count": 324,
   "id": "731cbabc",
   "metadata": {},
   "outputs": [
    {
     "data": {
      "image/png": "[encoded data removed]",
      "text/plain": [
       "<Figure size 432x288 with 1 Axes>"
      ]
     },
     "metadata": {
      "needs_background": "light"
     },
     "output_type": "display_data"
    }
   ],
   "source": [
    "auc_roc(lr)"
   ]
  },
  {
   "cell_type": "code",
   "execution_count": 326,
   "id": "fe9c128f",
   "metadata": {},
   "outputs": [
    {
     "data": {
      "image/png": "[encoded data removed]",
      "text/plain": [
       "<Figure size 432x288 with 1 Axes>"
      ]
     },
     "metadata": {
      "needs_background": "light"
     },
     "output_type": "display_data"
    }
   ],
   "source": [
    "auc_roc(knn)"
   ]
  },
  {
   "cell_type": "code",
   "execution_count": 367,
   "id": "be5a5cfa",
   "metadata": {},
   "outputs": [
    {
     "data": {
      "image/png": "[encoded data removed]",
      "text/plain": [
       "<Figure size 432x288 with 1 Axes>"
      ]
     },
     "metadata": {
      "needs_background": "light"
     },
     "output_type": "display_data"
    }
   ],
   "source": [
    "auc_roc(dtc)"
   ]
  },
  {
   "cell_type": "code",
   "execution_count": 340,
   "id": "2b58c6d0",
   "metadata": {},
   "outputs": [
    {
     "data": {
      "image/png": "[encoded data removed]",
      "text/plain": [
       "<Figure size 432x288 with 1 Axes>"
      ]
     },
     "metadata": {
      "needs_background": "light"
     },
     "output_type": "display_data"
    }
   ],
   "source": [
    "auc_roc(gnb)"
   ]
  },
  {
   "cell_type": "code",
   "execution_count": 369,
   "id": "6a702afb",
   "metadata": {},
   "outputs": [
    {
     "data": {
      "image/png": "[encoded data removed]",
      "text/plain": [
       "<Figure size 432x288 with 1 Axes>"
      ]
     },
     "metadata": {
      "needs_background": "light"
     },
     "output_type": "display_data"
    }
   ],
   "source": [
    "auc_roc(rfc)"
   ]
  },
  {
   "cell_type": "code",
   "execution_count": 346,
   "id": "bc6d0255",
   "metadata": {},
   "outputs": [
    {
     "data": {
      "image/png": "[encoded data removed]",
      "text/plain": [
       "<Figure size 432x288 with 1 Axes>"
      ]
     },
     "metadata": {
      "needs_background": "light"
     },
     "output_type": "display_data"
    }
   ],
   "source": [
    "auc_roc(abc)"
   ]
  },
  {
   "cell_type": "code",
   "execution_count": 348,
   "id": "6092de6a",
   "metadata": {},
   "outputs": [
    {
     "data": {
      "image/png": "[encoded data removed]",
      "text/plain": [
       "<Figure size 432x288 with 1 Axes>"
      ]
     },
     "metadata": {
      "needs_background": "light"
     },
     "output_type": "display_data"
    }
   ],
   "source": [
    "auc_roc(gbc)"
   ]
  },
  {
   "cell_type": "markdown",
   "id": "7220685c",
   "metadata": {},
   "source": [
    "Here, most of the models are performing good with the AUC score. For RandomForestClassifier model, the model is performing well with AUC score and with accuracy score. So we can consider it as the best mode after all these tests."
   ]
  },
  {
   "cell_type": "markdown",
   "id": "0720684d",
   "metadata": {},
   "source": [
    "### The RandomForestClassifier(rfc) provided an accuracy score of 90.33%."
   ]
  },
  {
   "cell_type": "markdown",
   "id": "5e5db854",
   "metadata": {},
   "source": [
    "### Saving the Best Model"
   ]
  },
  {
   "cell_type": "code",
   "execution_count": 370,
   "id": "22fbcd98",
   "metadata": {},
   "outputs": [],
   "source": [
    "import pickle\n",
    "\n",
    "filename = 'Survival of an aribitrary passenger on titanic prediction.pkl'\n",
    "pickle.dump(rfc,open(filename,'wb'))"
   ]
  },
  {
   "cell_type": "markdown",
   "id": "19c4c966",
   "metadata": {},
   "source": [
    "### Conclusion"
   ]
  },
  {
   "cell_type": "code",
   "execution_count": 373,
   "id": "3dcd2354",
   "metadata": {},
   "outputs": [
    {
     "data": {
      "text/html": [
       "<div>\n",
       "<style scoped>\n",
       "    .dataframe tbody tr th:only-of-type {\n",
       "        vertical-align: middle;\n",
       "    }\n",
       "\n",
       "    .dataframe tbody tr th {\n",
       "        vertical-align: top;\n",
       "    }\n",
       "\n",
       "    .dataframe thead th {\n",
       "        text-align: right;\n",
       "    }\n",
       "</style>\n",
       "<table border=\"1\" class=\"dataframe\">\n",
       "  <thead>\n",
       "    <tr style=\"text-align: right;\">\n",
       "      <th></th>\n",
       "      <th>Original</th>\n",
       "      <th>Predicted</th>\n",
       "    </tr>\n",
       "  </thead>\n",
       "  <tbody>\n",
       "    <tr>\n",
       "      <th>152</th>\n",
       "      <td>1</td>\n",
       "      <td>1</td>\n",
       "    </tr>\n",
       "    <tr>\n",
       "      <th>102</th>\n",
       "      <td>0</td>\n",
       "      <td>0</td>\n",
       "    </tr>\n",
       "    <tr>\n",
       "      <th>199</th>\n",
       "      <td>0</td>\n",
       "      <td>0</td>\n",
       "    </tr>\n",
       "    <tr>\n",
       "      <th>138</th>\n",
       "      <td>1</td>\n",
       "      <td>1</td>\n",
       "    </tr>\n",
       "    <tr>\n",
       "      <th>8</th>\n",
       "      <td>1</td>\n",
       "      <td>1</td>\n",
       "    </tr>\n",
       "    <tr>\n",
       "      <th>44</th>\n",
       "      <td>0</td>\n",
       "      <td>0</td>\n",
       "    </tr>\n",
       "    <tr>\n",
       "      <th>36</th>\n",
       "      <td>0</td>\n",
       "      <td>0</td>\n",
       "    </tr>\n",
       "    <tr>\n",
       "      <th>171</th>\n",
       "      <td>0</td>\n",
       "      <td>0</td>\n",
       "    </tr>\n",
       "    <tr>\n",
       "      <th>144</th>\n",
       "      <td>0</td>\n",
       "      <td>0</td>\n",
       "    </tr>\n",
       "    <tr>\n",
       "      <th>43</th>\n",
       "      <td>0</td>\n",
       "      <td>0</td>\n",
       "    </tr>\n",
       "  </tbody>\n",
       "</table>\n",
       "</div>"
      ],
      "text/plain": [
       "     Original  Predicted\n",
       "152         1          1\n",
       "102         0          0\n",
       "199         0          0\n",
       "138         1          1\n",
       "8           1          1\n",
       "44          0          0\n",
       "36          0          0\n",
       "171         0          0\n",
       "144         0          0\n",
       "43          0          0"
      ]
     },
     "execution_count": 373,
     "metadata": {},
     "output_type": "execute_result"
    }
   ],
   "source": [
    "original = np.array(target_test)\n",
    "predicted = np.round(np.array(rfc.predict(features_test)),0)\n",
    "df_prediction = pd.DataFrame({'Original':original,'Predicted':predicted})\n",
    "df_prediction.sample(10)"
   ]
  },
  {
   "cell_type": "markdown",
   "id": "c0cf12a3",
   "metadata": {},
   "source": [
    "#### Our model is performing well with the predictions and have predicted the samples without any mistakes. "
   ]
  },
  {
   "cell_type": "markdown",
   "id": "15221b75",
   "metadata": {},
   "source": [
    "### Succefully created the model to predict the survival of an arbitrary passenger on Titanic."
   ]
  },
  {
   "cell_type": "code",
   "execution_count": null,
   "id": "c22a4741",
   "metadata": {},
   "outputs": [],
   "source": []
  }
 ],
 "metadata": {
  "kernelspec": {
   "display_name": "Python 3",
   "language": "python",
   "name": "python3"
  },
  "language_info": {
   "codemirror_mode": {
    "name": "ipython",
    "version": 3
   },
   "file_extension": ".py",
   "mimetype": "text/x-python",
   "name": "python",
   "nbconvert_exporter": "python",
   "pygments_lexer": "ipython3",
   "version": "3.8.8"
  }
 },
 "nbformat": 4,
 "nbformat_minor": 5
}
