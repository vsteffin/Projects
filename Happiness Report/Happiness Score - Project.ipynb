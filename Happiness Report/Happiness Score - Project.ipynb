{
 "cells": [
  {
   "cell_type": "markdown",
   "id": "eb79b902",
   "metadata": {},
   "source": [
    "## World Happiness Report - Analysis"
   ]
  },
  {
   "cell_type": "markdown",
   "id": "2afaa172",
   "metadata": {},
   "source": [
    "#### The reports review the state of happiness in the world today and show how the new science of happiness explains personal and national variations in happiness."
   ]
  },
  {
   "cell_type": "markdown",
   "id": "788fdfa0",
   "metadata": {},
   "source": [
    "Dystopia is an imaginary country that has the world’s least-happy people. The purpose in establishing Dystopia is to have a benchmark against which all countries can be favorably compared (no country performs more poorly than Dystopia) in terms of each of the six key variables, :\n",
    "    \n",
    "World’s lowest incomes \n",
    "\n",
    "Lowest life expectancy \n",
    "\n",
    "Lowest generosity \n",
    "\n",
    "Most corruption \n",
    "\n",
    "Least freedom \n",
    "\n",
    "Least social support"
   ]
  },
  {
   "cell_type": "markdown",
   "id": "19d95876",
   "metadata": {},
   "source": [
    "### Loading the dataset"
   ]
  },
  {
   "cell_type": "code",
   "execution_count": 1,
   "id": "0586fdbd",
   "metadata": {},
   "outputs": [],
   "source": [
    "import pandas as pd\n",
    "import warnings\n",
    "warnings.filterwarnings('ignore')"
   ]
  },
  {
   "cell_type": "code",
   "execution_count": 2,
   "id": "919df30a",
   "metadata": {},
   "outputs": [
    {
     "data": {
      "text/html": [
       "<div>\n",
       "<style scoped>\n",
       "    .dataframe tbody tr th:only-of-type {\n",
       "        vertical-align: middle;\n",
       "    }\n",
       "\n",
       "    .dataframe tbody tr th {\n",
       "        vertical-align: top;\n",
       "    }\n",
       "\n",
       "    .dataframe thead th {\n",
       "        text-align: right;\n",
       "    }\n",
       "</style>\n",
       "<table border=\"1\" class=\"dataframe\">\n",
       "  <thead>\n",
       "    <tr style=\"text-align: right;\">\n",
       "      <th></th>\n",
       "      <th>Country</th>\n",
       "      <th>Region</th>\n",
       "      <th>Happiness Rank</th>\n",
       "      <th>Happiness Score</th>\n",
       "      <th>Standard Error</th>\n",
       "      <th>Economy (GDP per Capita)</th>\n",
       "      <th>Family</th>\n",
       "      <th>Health (Life Expectancy)</th>\n",
       "      <th>Freedom</th>\n",
       "      <th>Trust (Government Corruption)</th>\n",
       "      <th>Generosity</th>\n",
       "      <th>Dystopia Residual</th>\n",
       "    </tr>\n",
       "  </thead>\n",
       "  <tbody>\n",
       "    <tr>\n",
       "      <th>0</th>\n",
       "      <td>Switzerland</td>\n",
       "      <td>Western Europe</td>\n",
       "      <td>1</td>\n",
       "      <td>7.587</td>\n",
       "      <td>0.03411</td>\n",
       "      <td>1.39651</td>\n",
       "      <td>1.34951</td>\n",
       "      <td>0.94143</td>\n",
       "      <td>0.66557</td>\n",
       "      <td>0.41978</td>\n",
       "      <td>0.29678</td>\n",
       "      <td>2.51738</td>\n",
       "    </tr>\n",
       "    <tr>\n",
       "      <th>1</th>\n",
       "      <td>Iceland</td>\n",
       "      <td>Western Europe</td>\n",
       "      <td>2</td>\n",
       "      <td>7.561</td>\n",
       "      <td>0.04884</td>\n",
       "      <td>1.30232</td>\n",
       "      <td>1.40223</td>\n",
       "      <td>0.94784</td>\n",
       "      <td>0.62877</td>\n",
       "      <td>0.14145</td>\n",
       "      <td>0.43630</td>\n",
       "      <td>2.70201</td>\n",
       "    </tr>\n",
       "    <tr>\n",
       "      <th>2</th>\n",
       "      <td>Denmark</td>\n",
       "      <td>Western Europe</td>\n",
       "      <td>3</td>\n",
       "      <td>7.527</td>\n",
       "      <td>0.03328</td>\n",
       "      <td>1.32548</td>\n",
       "      <td>1.36058</td>\n",
       "      <td>0.87464</td>\n",
       "      <td>0.64938</td>\n",
       "      <td>0.48357</td>\n",
       "      <td>0.34139</td>\n",
       "      <td>2.49204</td>\n",
       "    </tr>\n",
       "    <tr>\n",
       "      <th>3</th>\n",
       "      <td>Norway</td>\n",
       "      <td>Western Europe</td>\n",
       "      <td>4</td>\n",
       "      <td>7.522</td>\n",
       "      <td>0.03880</td>\n",
       "      <td>1.45900</td>\n",
       "      <td>1.33095</td>\n",
       "      <td>0.88521</td>\n",
       "      <td>0.66973</td>\n",
       "      <td>0.36503</td>\n",
       "      <td>0.34699</td>\n",
       "      <td>2.46531</td>\n",
       "    </tr>\n",
       "    <tr>\n",
       "      <th>4</th>\n",
       "      <td>Canada</td>\n",
       "      <td>North America</td>\n",
       "      <td>5</td>\n",
       "      <td>7.427</td>\n",
       "      <td>0.03553</td>\n",
       "      <td>1.32629</td>\n",
       "      <td>1.32261</td>\n",
       "      <td>0.90563</td>\n",
       "      <td>0.63297</td>\n",
       "      <td>0.32957</td>\n",
       "      <td>0.45811</td>\n",
       "      <td>2.45176</td>\n",
       "    </tr>\n",
       "    <tr>\n",
       "      <th>...</th>\n",
       "      <td>...</td>\n",
       "      <td>...</td>\n",
       "      <td>...</td>\n",
       "      <td>...</td>\n",
       "      <td>...</td>\n",
       "      <td>...</td>\n",
       "      <td>...</td>\n",
       "      <td>...</td>\n",
       "      <td>...</td>\n",
       "      <td>...</td>\n",
       "      <td>...</td>\n",
       "      <td>...</td>\n",
       "    </tr>\n",
       "    <tr>\n",
       "      <th>153</th>\n",
       "      <td>Rwanda</td>\n",
       "      <td>Sub-Saharan Africa</td>\n",
       "      <td>154</td>\n",
       "      <td>3.465</td>\n",
       "      <td>0.03464</td>\n",
       "      <td>0.22208</td>\n",
       "      <td>0.77370</td>\n",
       "      <td>0.42864</td>\n",
       "      <td>0.59201</td>\n",
       "      <td>0.55191</td>\n",
       "      <td>0.22628</td>\n",
       "      <td>0.67042</td>\n",
       "    </tr>\n",
       "    <tr>\n",
       "      <th>154</th>\n",
       "      <td>Benin</td>\n",
       "      <td>Sub-Saharan Africa</td>\n",
       "      <td>155</td>\n",
       "      <td>3.340</td>\n",
       "      <td>0.03656</td>\n",
       "      <td>0.28665</td>\n",
       "      <td>0.35386</td>\n",
       "      <td>0.31910</td>\n",
       "      <td>0.48450</td>\n",
       "      <td>0.08010</td>\n",
       "      <td>0.18260</td>\n",
       "      <td>1.63328</td>\n",
       "    </tr>\n",
       "    <tr>\n",
       "      <th>155</th>\n",
       "      <td>Syria</td>\n",
       "      <td>Middle East and Northern Africa</td>\n",
       "      <td>156</td>\n",
       "      <td>3.006</td>\n",
       "      <td>0.05015</td>\n",
       "      <td>0.66320</td>\n",
       "      <td>0.47489</td>\n",
       "      <td>0.72193</td>\n",
       "      <td>0.15684</td>\n",
       "      <td>0.18906</td>\n",
       "      <td>0.47179</td>\n",
       "      <td>0.32858</td>\n",
       "    </tr>\n",
       "    <tr>\n",
       "      <th>156</th>\n",
       "      <td>Burundi</td>\n",
       "      <td>Sub-Saharan Africa</td>\n",
       "      <td>157</td>\n",
       "      <td>2.905</td>\n",
       "      <td>0.08658</td>\n",
       "      <td>0.01530</td>\n",
       "      <td>0.41587</td>\n",
       "      <td>0.22396</td>\n",
       "      <td>0.11850</td>\n",
       "      <td>0.10062</td>\n",
       "      <td>0.19727</td>\n",
       "      <td>1.83302</td>\n",
       "    </tr>\n",
       "    <tr>\n",
       "      <th>157</th>\n",
       "      <td>Togo</td>\n",
       "      <td>Sub-Saharan Africa</td>\n",
       "      <td>158</td>\n",
       "      <td>2.839</td>\n",
       "      <td>0.06727</td>\n",
       "      <td>0.20868</td>\n",
       "      <td>0.13995</td>\n",
       "      <td>0.28443</td>\n",
       "      <td>0.36453</td>\n",
       "      <td>0.10731</td>\n",
       "      <td>0.16681</td>\n",
       "      <td>1.56726</td>\n",
       "    </tr>\n",
       "  </tbody>\n",
       "</table>\n",
       "<p>158 rows × 12 columns</p>\n",
       "</div>"
      ],
      "text/plain": [
       "         Country                           Region  Happiness Rank  \\\n",
       "0    Switzerland                   Western Europe               1   \n",
       "1        Iceland                   Western Europe               2   \n",
       "2        Denmark                   Western Europe               3   \n",
       "3         Norway                   Western Europe               4   \n",
       "4         Canada                    North America               5   \n",
       "..           ...                              ...             ...   \n",
       "153       Rwanda               Sub-Saharan Africa             154   \n",
       "154        Benin               Sub-Saharan Africa             155   \n",
       "155        Syria  Middle East and Northern Africa             156   \n",
       "156      Burundi               Sub-Saharan Africa             157   \n",
       "157         Togo               Sub-Saharan Africa             158   \n",
       "\n",
       "     Happiness Score  Standard Error  Economy (GDP per Capita)   Family  \\\n",
       "0              7.587         0.03411                   1.39651  1.34951   \n",
       "1              7.561         0.04884                   1.30232  1.40223   \n",
       "2              7.527         0.03328                   1.32548  1.36058   \n",
       "3              7.522         0.03880                   1.45900  1.33095   \n",
       "4              7.427         0.03553                   1.32629  1.32261   \n",
       "..               ...             ...                       ...      ...   \n",
       "153            3.465         0.03464                   0.22208  0.77370   \n",
       "154            3.340         0.03656                   0.28665  0.35386   \n",
       "155            3.006         0.05015                   0.66320  0.47489   \n",
       "156            2.905         0.08658                   0.01530  0.41587   \n",
       "157            2.839         0.06727                   0.20868  0.13995   \n",
       "\n",
       "     Health (Life Expectancy)  Freedom  Trust (Government Corruption)  \\\n",
       "0                     0.94143  0.66557                        0.41978   \n",
       "1                     0.94784  0.62877                        0.14145   \n",
       "2                     0.87464  0.64938                        0.48357   \n",
       "3                     0.88521  0.66973                        0.36503   \n",
       "4                     0.90563  0.63297                        0.32957   \n",
       "..                        ...      ...                            ...   \n",
       "153                   0.42864  0.59201                        0.55191   \n",
       "154                   0.31910  0.48450                        0.08010   \n",
       "155                   0.72193  0.15684                        0.18906   \n",
       "156                   0.22396  0.11850                        0.10062   \n",
       "157                   0.28443  0.36453                        0.10731   \n",
       "\n",
       "     Generosity  Dystopia Residual  \n",
       "0       0.29678            2.51738  \n",
       "1       0.43630            2.70201  \n",
       "2       0.34139            2.49204  \n",
       "3       0.34699            2.46531  \n",
       "4       0.45811            2.45176  \n",
       "..          ...                ...  \n",
       "153     0.22628            0.67042  \n",
       "154     0.18260            1.63328  \n",
       "155     0.47179            0.32858  \n",
       "156     0.19727            1.83302  \n",
       "157     0.16681            1.56726  \n",
       "\n",
       "[158 rows x 12 columns]"
      ]
     },
     "execution_count": 2,
     "metadata": {},
     "output_type": "execute_result"
    }
   ],
   "source": [
    "df = pd.read_csv('happiness_score_dataset.csv')\n",
    "df"
   ]
  },
  {
   "cell_type": "code",
   "execution_count": 3,
   "id": "9f9ed858",
   "metadata": {},
   "outputs": [
    {
     "data": {
      "text/plain": [
       "Index(['Country', 'Region', 'Happiness Rank', 'Happiness Score',\n",
       "       'Standard Error', 'Economy (GDP per Capita)', 'Family',\n",
       "       'Health (Life Expectancy)', 'Freedom', 'Trust (Government Corruption)',\n",
       "       'Generosity', 'Dystopia Residual'],\n",
       "      dtype='object')"
      ]
     },
     "execution_count": 3,
     "metadata": {},
     "output_type": "execute_result"
    }
   ],
   "source": [
    "df.columns"
   ]
  },
  {
   "cell_type": "markdown",
   "id": "749e4e2d",
   "metadata": {},
   "source": [
    "### About the Columns"
   ]
  },
  {
   "cell_type": "markdown",
   "id": "690254ca",
   "metadata": {},
   "source": [
    "1. Country\n",
    "\n",
    "This column refers to the name of the country which the analysis is done. "
   ]
  },
  {
   "cell_type": "markdown",
   "id": "a99ff102",
   "metadata": {},
   "source": [
    "2. Region\n",
    "\n",
    "It shows the geographical region of the country where it is located."
   ]
  },
  {
   "cell_type": "markdown",
   "id": "4b1c39cd",
   "metadata": {},
   "source": [
    "3. Happiness Rank\n",
    "\n",
    "It shows the rank of the country on the based on the happiness score out of all countries of the whole set."
   ]
  },
  {
   "cell_type": "markdown",
   "id": "331c3db9",
   "metadata": {},
   "source": [
    "4. Happiness Score\n",
    "\n",
    "It is the sum of the columns : 'Economy (GDP per Capita)', 'Family', 'Health (Life Expectancy)', 'Freedom', 'Trust (Government Corruption)', 'Generosity', 'Dystopia Residual'. This is the outcome of the dataset after considering all the factors. The least happiness score is 1.85(Dystopia Happiness Score).\n",
    "\n"
   ]
  },
  {
   "cell_type": "markdown",
   "id": "7f0b18fe",
   "metadata": {},
   "source": [
    "5. Standard Error\n",
    "\n",
    "It is the approximate standard deviation of the happiness score of the country."
   ]
  },
  {
   "cell_type": "markdown",
   "id": "24a47aa1",
   "metadata": {},
   "source": [
    "6. Economy(GDP per Capita)\n",
    "\n",
    "It is the value which the GDP per Capita contributing to the happiness score of the country."
   ]
  },
  {
   "cell_type": "markdown",
   "id": "1c848853",
   "metadata": {},
   "source": [
    "7. Family\n",
    "\n",
    "It is the value which families in a country contributing to the happiness score of the country."
   ]
  },
  {
   "cell_type": "markdown",
   "id": "fe31aaaa",
   "metadata": {},
   "source": [
    "8. Health(Life Expectancy)\n",
    "\n",
    "It is the value of life expectancy of people in the country contributing to the happiness score of the country."
   ]
  },
  {
   "cell_type": "markdown",
   "id": "addf90e5",
   "metadata": {},
   "source": [
    "9. Freedom\n",
    "\n",
    "It is the value of the freedom of people in the country contributing to the happiness score of the country."
   ]
  },
  {
   "cell_type": "markdown",
   "id": "49d5df34",
   "metadata": {},
   "source": [
    "10. Trust (Government Corruption)\n",
    "\n",
    "It is the rate of government corruption contributing to the happiness score of that country."
   ]
  },
  {
   "cell_type": "markdown",
   "id": "31f20900",
   "metadata": {},
   "source": [
    "11. Generosity\n",
    "\n",
    "It is the value generosity of people of the country contributing to the happiness score of the country."
   ]
  },
  {
   "cell_type": "markdown",
   "id": "10860134",
   "metadata": {},
   "source": [
    "12. Dystopia Residual\n",
    "\n",
    "The Dystopia Residual metric actually is the Dystopia Happiness Score(1.85) + the Residual value or the unexplained value for each country. The residuals, or unexplained components, differ for each country, reflecting the extent to which the six variables either over- or under-explain average life evaluations. These residuals have an average value of approximately zero over the whole set of countries. "
   ]
  },
  {
   "cell_type": "markdown",
   "id": "460b8fee",
   "metadata": {},
   "source": [
    "### To check if there are any null values in the dataset."
   ]
  },
  {
   "cell_type": "code",
   "execution_count": 4,
   "id": "08a14f99",
   "metadata": {},
   "outputs": [
    {
     "data": {
      "text/plain": [
       "Country                          0\n",
       "Region                           0\n",
       "Happiness Rank                   0\n",
       "Happiness Score                  0\n",
       "Standard Error                   0\n",
       "Economy (GDP per Capita)         0\n",
       "Family                           0\n",
       "Health (Life Expectancy)         0\n",
       "Freedom                          0\n",
       "Trust (Government Corruption)    0\n",
       "Generosity                       0\n",
       "Dystopia Residual                0\n",
       "dtype: int64"
      ]
     },
     "execution_count": 4,
     "metadata": {},
     "output_type": "execute_result"
    }
   ],
   "source": [
    "df.isnull().sum()"
   ]
  },
  {
   "cell_type": "code",
   "execution_count": 5,
   "id": "b66e350e",
   "metadata": {},
   "outputs": [
    {
     "data": {
      "text/plain": [
       "<AxesSubplot:>"
      ]
     },
     "execution_count": 5,
     "metadata": {},
     "output_type": "execute_result"
    },
    {
     "data": {
      "image/png": "[encoded data removed]",
      "text/plain": [
       "<Figure size 432x288 with 2 Axes>"
      ]
     },
     "metadata": {
      "needs_background": "light"
     },
     "output_type": "display_data"
    }
   ],
   "source": [
    "#PLotting the same data on heatmap\n",
    "\n",
    "import seaborn as sns\n",
    "sns.heatmap(df.isnull())"
   ]
  },
  {
   "cell_type": "markdown",
   "id": "2188fa1a",
   "metadata": {},
   "source": [
    "There is no null values in the dataset"
   ]
  },
  {
   "cell_type": "markdown",
   "id": "9490d511",
   "metadata": {},
   "source": [
    "### Type of data in dataset"
   ]
  },
  {
   "cell_type": "code",
   "execution_count": 6,
   "id": "e5233e12",
   "metadata": {},
   "outputs": [
    {
     "data": {
      "text/plain": [
       "Country                           object\n",
       "Region                            object\n",
       "Happiness Rank                     int64\n",
       "Happiness Score                  float64\n",
       "Standard Error                   float64\n",
       "Economy (GDP per Capita)         float64\n",
       "Family                           float64\n",
       "Health (Life Expectancy)         float64\n",
       "Freedom                          float64\n",
       "Trust (Government Corruption)    float64\n",
       "Generosity                       float64\n",
       "Dystopia Residual                float64\n",
       "dtype: object"
      ]
     },
     "execution_count": 6,
     "metadata": {},
     "output_type": "execute_result"
    }
   ],
   "source": [
    "df.dtypes"
   ]
  },
  {
   "cell_type": "markdown",
   "id": "a1f16723",
   "metadata": {},
   "source": [
    "We have string values for the columns Country and Region and numerical values for rest of the columns."
   ]
  },
  {
   "cell_type": "markdown",
   "id": "b5736c15",
   "metadata": {},
   "source": [
    "\n",
    "### EDA"
   ]
  },
  {
   "cell_type": "code",
   "execution_count": 7,
   "id": "fac13059",
   "metadata": {},
   "outputs": [
    {
     "data": {
      "text/plain": [
       "<AxesSubplot:xlabel='count', ylabel='Region'>"
      ]
     },
     "execution_count": 7,
     "metadata": {},
     "output_type": "execute_result"
    },
    {
     "data": {
      "image/png": "[encoded data removed]",
      "text/plain": [
       "<Figure size 432x288 with 1 Axes>"
      ]
     },
     "metadata": {
      "needs_background": "light"
     },
     "output_type": "display_data"
    }
   ],
   "source": [
    "sns.countplot(y='Region',data = df)"
   ]
  },
  {
   "cell_type": "markdown",
   "id": "0cffc3bc",
   "metadata": {},
   "source": [
    "#### Regplot"
   ]
  },
  {
   "cell_type": "code",
   "execution_count": 8,
   "id": "7e15c1ff",
   "metadata": {
    "scrolled": true
   },
   "outputs": [
    {
     "data": {
      "text/plain": [
       "<AxesSubplot:xlabel='Standard Error', ylabel='Happiness Score'>"
      ]
     },
     "execution_count": 8,
     "metadata": {},
     "output_type": "execute_result"
    },
    {
     "data": {
      "image/png": "[encoded data removed]",
      "text/plain": [
       "<Figure size 432x288 with 1 Axes>"
      ]
     },
     "metadata": {
      "needs_background": "light"
     },
     "output_type": "display_data"
    }
   ],
   "source": [
    "sns.regplot(x='Standard Error',y= 'Happiness Score',data =df)"
   ]
  },
  {
   "cell_type": "code",
   "execution_count": 9,
   "id": "102bbddc",
   "metadata": {},
   "outputs": [
    {
     "name": "stdout",
     "output_type": "stream",
     "text": [
      "Country with highest standard error:-\n",
      " Country           Jamaica\n",
      "Standard Error    0.13693\n",
      "Name: 64, dtype: object\n",
      "\n",
      "Country with least standard error:-\n",
      " Country           Germany\n",
      "Standard Error    0.01848\n",
      "Name: 25, dtype: object\n"
     ]
    }
   ],
   "source": [
    "print(\"Country with highest standard error:-\\n\",df.iloc[df['Standard Error'].idxmax(axis = 1)][['Country','Standard Error']])\n",
    "print(\"\\nCountry with least standard error:-\\n\",df.iloc[df['Standard Error'].idxmin(axis = 1)][['Country','Standard Error']])"
   ]
  },
  {
   "cell_type": "markdown",
   "id": "2658caa1",
   "metadata": {},
   "source": [
    "Most of the standard error in data are ranging between 0.02 and 0.08. The country with least standard error in the data is Germany(0.01848).\n",
    "The country with highest standard error in the data is Jamica(0.13693).\n",
    "\n",
    "The regression line is downwards, that means the standard error is negatively correlated to the Happiness Score."
   ]
  },
  {
   "cell_type": "code",
   "execution_count": 10,
   "id": "db5a61b4",
   "metadata": {},
   "outputs": [
    {
     "name": "stdout",
     "output_type": "stream",
     "text": [
      "Country with highest Economy (GDP per Capita):-\n",
      " Country                       Qatar\n",
      "Economy (GDP per Capita)    1.69042\n",
      "Name: 27, dtype: object\n",
      "\n",
      "Country with least Economy (GDP per Capita):-\n",
      " Country                     Congo (Kinshasa)\n",
      "Economy (GDP per Capita)                 0.0\n",
      "Name: 119, dtype: object\n"
     ]
    },
    {
     "data": {
      "image/png": "[encoded data removed]",
      "text/plain": [
       "<Figure size 432x288 with 1 Axes>"
      ]
     },
     "metadata": {
      "needs_background": "light"
     },
     "output_type": "display_data"
    }
   ],
   "source": [
    "sns.regplot(x = 'Economy (GDP per Capita)',y= 'Happiness Score',data = df)\n",
    "print(\"Country with highest Economy (GDP per Capita):-\\n\",df.iloc[df['Economy (GDP per Capita)'].idxmax(axis = 1)][['Country','Economy (GDP per Capita)']])\n",
    "print(\"\\nCountry with least Economy (GDP per Capita):-\\n\",df.iloc[df['Economy (GDP per Capita)'].idxmin(axis = 1)][['Country','Economy (GDP per Capita)']])"
   ]
  },
  {
   "cell_type": "markdown",
   "id": "49040813",
   "metadata": {},
   "source": [
    "The GDP per capita contribution is increasing as the Happiness Score increases. That means the Economy(GDP per Capita) is positively correlated to the Happiness Score. The country with highest GDP per Capita contribution to Happiness Score is Qatar. The country with least contribution to happiness score is Congo (Kinshasa)."
   ]
  },
  {
   "cell_type": "code",
   "execution_count": 11,
   "id": "33d2072f",
   "metadata": {},
   "outputs": [
    {
     "name": "stdout",
     "output_type": "stream",
     "text": [
      "Country with highest Family contribution:-\n",
      " Country    Iceland\n",
      "Family     1.40223\n",
      "Name: 1, dtype: object\n",
      "\n",
      "Country with least Family Contribution:-\n",
      " Country    Central African Republic\n",
      "Family                          0.0\n",
      "Name: 147, dtype: object\n"
     ]
    },
    {
     "data": {
      "image/png": "[encoded data removed]",
      "text/plain": [
       "<Figure size 432x288 with 1 Axes>"
      ]
     },
     "metadata": {
      "needs_background": "light"
     },
     "output_type": "display_data"
    }
   ],
   "source": [
    "sns.regplot(x = 'Family',y= 'Happiness Score',data = df)\n",
    "print(\"Country with highest Family contribution:-\\n\",df.iloc[df['Family'].idxmax(axis = 1)][['Country','Family']])\n",
    "print(\"\\nCountry with least Family Contribution:-\\n\",df.iloc[df['Family'].idxmin(axis = 1)][['Country','Family']])"
   ]
  },
  {
   "cell_type": "markdown",
   "id": "974f55f7",
   "metadata": {},
   "source": [
    "The Family contribution is increasing as the Happiness Score increases. That means the family contribution to Happiness score is directly correlated to the Happiness Score. Most of the Family contribution of contries are between the range 0.6 to 1.4.\n",
    "\n",
    "The country with highest family contribution to happiness score is Iceland(1.40223).\n",
    "The country with least family contribution to happiness score is Central African Republic(0.0)."
   ]
  },
  {
   "cell_type": "code",
   "execution_count": 12,
   "id": "fdf185ab",
   "metadata": {},
   "outputs": [
    {
     "name": "stdout",
     "output_type": "stream",
     "text": [
      "Country with highest Health (Life Expectancy) contribution:-\n",
      " Country                     Singapore\n",
      "Health (Life Expectancy)      1.02525\n",
      "Name: 23, dtype: object\n",
      "\n",
      "Country with least Health (Life Expectancy) Contribution:-\n",
      " Country                     Sierra Leone\n",
      "Health (Life Expectancy)             0.0\n",
      "Name: 122, dtype: object\n"
     ]
    },
    {
     "data": {
      "image/png": "[encoded data removed]",
      "text/plain": [
       "<Figure size 432x288 with 1 Axes>"
      ]
     },
     "metadata": {
      "needs_background": "light"
     },
     "output_type": "display_data"
    }
   ],
   "source": [
    "sns.regplot(x = 'Health (Life Expectancy)',y= 'Happiness Score',data = df)\n",
    "print(\"Country with highest Health (Life Expectancy) contribution:-\\n\",df.iloc[df['Health (Life Expectancy)'].idxmax(axis = 1)][['Country','Health (Life Expectancy)']])\n",
    "print(\"\\nCountry with least Health (Life Expectancy) Contribution:-\\n\",df.iloc[df['Health (Life Expectancy)'].idxmin(axis = 1)][['Country','Health (Life Expectancy)']])"
   ]
  },
  {
   "cell_type": "markdown",
   "id": "7e1631a7",
   "metadata": {},
   "source": [
    "The Health (Life Expectancy) contribution is increasing as the Happiness Score is increasing. That means the Health (Life Expectancy) is positivevly correlated to the happiness score.\n",
    "\n",
    "The country with highest Health (Life Expectancy) contribution to happiness score is Singapore(1.02525).\n",
    "The country with lowest Health (Life Expectancy) contribution to happiness score is Sierra Leone (0.0)."
   ]
  },
  {
   "cell_type": "code",
   "execution_count": 13,
   "id": "c44fa952",
   "metadata": {},
   "outputs": [
    {
     "name": "stdout",
     "output_type": "stream",
     "text": [
      "Country with highest Freedom contribution:-\n",
      " Country     Norway\n",
      "Freedom    0.66973\n",
      "Name: 3, dtype: object\n",
      "\n",
      "Country with least Freedom Contribution:-\n",
      " Country    Iraq\n",
      "Freedom     0.0\n",
      "Name: 111, dtype: object\n"
     ]
    },
    {
     "data": {
      "image/png": "[encoded data removed]",
      "text/plain": [
       "<Figure size 432x288 with 1 Axes>"
      ]
     },
     "metadata": {
      "needs_background": "light"
     },
     "output_type": "display_data"
    }
   ],
   "source": [
    "sns.regplot(x = 'Freedom',y= 'Happiness Score',data = df)\n",
    "print(\"Country with highest Freedom contribution:-\\n\",df.iloc[df['Freedom'].idxmax(axis = 1)][['Country','Freedom']])\n",
    "print(\"\\nCountry with least Freedom Contribution:-\\n\",df.iloc[df['Freedom'].idxmin(axis = 1)][['Country','Freedom']])"
   ]
  },
  {
   "cell_type": "markdown",
   "id": "1abe4406",
   "metadata": {},
   "source": [
    "The Freedom contribution of contries are increasing as the Happiness Score is increasing. That means the Freedom contribution is positively correlated to Happiness Score. \n",
    "\n",
    "The country with highest Freedom contribution to happiness score is Norway(0.66973).\n",
    "The country with least Freedom contribution to happiness score is Iraq(0.0)."
   ]
  },
  {
   "cell_type": "code",
   "execution_count": 14,
   "id": "fb02f5df",
   "metadata": {},
   "outputs": [
    {
     "name": "stdout",
     "output_type": "stream",
     "text": [
      "Country with highest Trust (Government Corruption) contribution:-\n",
      " Country                           Rwanda\n",
      "Trust (Government Corruption)    0.55191\n",
      "Name: 153, dtype: object\n",
      "\n",
      "Country with least Trust (Government Corruption) Contribution:-\n",
      " Country                          Indonesia\n",
      "Trust (Government Corruption)          0.0\n",
      "Name: 73, dtype: object\n"
     ]
    },
    {
     "data": {
      "image/png": "[encoded data removed]",
      "text/plain": [
       "<Figure size 432x288 with 1 Axes>"
      ]
     },
     "metadata": {
      "needs_background": "light"
     },
     "output_type": "display_data"
    }
   ],
   "source": [
    "sns.regplot(x = 'Trust (Government Corruption)',y= 'Happiness Score',data = df)\n",
    "print(\"Country with highest Trust (Government Corruption) contribution:-\\n\",df.iloc[df['Trust (Government Corruption)'].idxmax(axis = 1)][['Country','Trust (Government Corruption)']])\n",
    "print(\"\\nCountry with least Trust (Government Corruption) Contribution:-\\n\",df.iloc[df['Trust (Government Corruption)'].idxmin(axis = 1)][['Country','Trust (Government Corruption)']])"
   ]
  },
  {
   "cell_type": "markdown",
   "id": "f73d1bbe",
   "metadata": {},
   "source": [
    "The Trust (Government Corruption) contribution is increasing as the Happiness Score is increasing. That means the Trust (Government Corruption) is positively correlated to Happiness Score. Most number of Trust (Government Corruption) contribution is between the range 0.0 to 0.2.\n",
    "\n",
    "The country with highest Trust (Government Corruption) contribution to Happiness Score is Rwand(0.55191).\n",
    "The country with least Trust (Government Corruption) contribution to Happiness Score is Indonesia(0.0)."
   ]
  },
  {
   "cell_type": "code",
   "execution_count": 15,
   "id": "96c96f20",
   "metadata": {},
   "outputs": [
    {
     "name": "stdout",
     "output_type": "stream",
     "text": [
      "Country with highest Generosity contribution:-\n",
      " Country       Myanmar\n",
      "Generosity    0.79588\n",
      "Name: 128, dtype: object\n",
      "\n",
      "Country with least Generosity Contribution:-\n",
      " Country       Greece\n",
      "Generosity       0.0\n",
      "Name: 101, dtype: object\n"
     ]
    },
    {
     "data": {
      "image/png": "[encoded data removed]",
      "text/plain": [
       "<Figure size 432x288 with 1 Axes>"
      ]
     },
     "metadata": {
      "needs_background": "light"
     },
     "output_type": "display_data"
    }
   ],
   "source": [
    "sns.regplot(x = 'Generosity',y= 'Happiness Score',data = df)\n",
    "print(\"Country with highest Generosity contribution:-\\n\",df.iloc[df['Generosity'].idxmax(axis = 1)][['Country','Generosity']])\n",
    "print(\"\\nCountry with least Generosity Contribution:-\\n\",df.iloc[df['Generosity'].idxmin(axis = 1)][['Country','Generosity']])"
   ]
  },
  {
   "cell_type": "markdown",
   "id": "90c8bce7",
   "metadata": {},
   "source": [
    "The Generosity contribution increases as the Happiness Score increases. This means the Generosity contribution is positively correlated to Happiness Score. Most number of Generosity contribution of contries are between the range 0.0 to 0.5.\n",
    "\n",
    "The country with highest Generosity contribution to Happiness Score is Myanmar(0.79588). \n",
    "The country with least Generosity contribution to Happiness Score is Greece(0.0)."
   ]
  },
  {
   "cell_type": "code",
   "execution_count": 16,
   "id": "e294aa37",
   "metadata": {},
   "outputs": [
    {
     "name": "stdout",
     "output_type": "stream",
     "text": [
      "Country with highest Dystopia Residual contribution:-\n",
      " Country               Mexico\n",
      "Dystopia Residual    3.60214\n",
      "Name: 13, dtype: object\n",
      "\n",
      "Country with least Dystopia Residual Contribution:-\n",
      " Country                Syria\n",
      "Dystopia Residual    0.32858\n",
      "Name: 155, dtype: object\n"
     ]
    },
    {
     "data": {
      "image/png": "[encoded data removed]",
      "text/plain": [
       "<Figure size 432x288 with 1 Axes>"
      ]
     },
     "metadata": {
      "needs_background": "light"
     },
     "output_type": "display_data"
    }
   ],
   "source": [
    "sns.regplot(x = 'Dystopia Residual',y= 'Happiness Score',data = df)\n",
    "print(\"Country with highest Dystopia Residual contribution:-\\n\",df.iloc[df['Dystopia Residual'].idxmax(axis = 1)][['Country','Dystopia Residual']])\n",
    "print(\"\\nCountry with least Dystopia Residual Contribution:-\\n\",df.iloc[df['Dystopia Residual'].idxmin(axis = 1)][['Country','Dystopia Residual']])"
   ]
  },
  {
   "cell_type": "markdown",
   "id": "eafa5804",
   "metadata": {},
   "source": [
    "The Dystopia Residual contribution is increasing as the Happiness Score is increasing. This means the Dystopia Residual contribution is positively correlated to Happiness Score. Most number of Dystopia Residual contribution of counties are between the range 1.0 to 3.4.\n",
    "\n",
    "The country with highest Dystopia Residual contribution to Happiness Score is Mexico(3.60214). \n",
    "The country with least Dystopia Residual contribution to Happiness Score is Syria(0.32858)."
   ]
  },
  {
   "cell_type": "markdown",
   "id": "d7db07c5",
   "metadata": {},
   "source": [
    "### Correlation"
   ]
  },
  {
   "cell_type": "code",
   "execution_count": 17,
   "id": "c13820cb",
   "metadata": {},
   "outputs": [
    {
     "data": {
      "text/html": [
       "<div>\n",
       "<style scoped>\n",
       "    .dataframe tbody tr th:only-of-type {\n",
       "        vertical-align: middle;\n",
       "    }\n",
       "\n",
       "    .dataframe tbody tr th {\n",
       "        vertical-align: top;\n",
       "    }\n",
       "\n",
       "    .dataframe thead th {\n",
       "        text-align: right;\n",
       "    }\n",
       "</style>\n",
       "<table border=\"1\" class=\"dataframe\">\n",
       "  <thead>\n",
       "    <tr style=\"text-align: right;\">\n",
       "      <th></th>\n",
       "      <th>Happiness Rank</th>\n",
       "      <th>Happiness Score</th>\n",
       "      <th>Standard Error</th>\n",
       "      <th>Economy (GDP per Capita)</th>\n",
       "      <th>Family</th>\n",
       "      <th>Health (Life Expectancy)</th>\n",
       "      <th>Freedom</th>\n",
       "      <th>Trust (Government Corruption)</th>\n",
       "      <th>Generosity</th>\n",
       "      <th>Dystopia Residual</th>\n",
       "    </tr>\n",
       "  </thead>\n",
       "  <tbody>\n",
       "    <tr>\n",
       "      <th>Happiness Rank</th>\n",
       "      <td>1.000000</td>\n",
       "      <td>-0.992105</td>\n",
       "      <td>0.158516</td>\n",
       "      <td>-0.785267</td>\n",
       "      <td>-0.733644</td>\n",
       "      <td>-0.735613</td>\n",
       "      <td>-0.556886</td>\n",
       "      <td>-0.372315</td>\n",
       "      <td>-0.160142</td>\n",
       "      <td>-0.521999</td>\n",
       "    </tr>\n",
       "    <tr>\n",
       "      <th>Happiness Score</th>\n",
       "      <td>-0.992105</td>\n",
       "      <td>1.000000</td>\n",
       "      <td>-0.177254</td>\n",
       "      <td>0.780966</td>\n",
       "      <td>0.740605</td>\n",
       "      <td>0.724200</td>\n",
       "      <td>0.568211</td>\n",
       "      <td>0.395199</td>\n",
       "      <td>0.180319</td>\n",
       "      <td>0.530474</td>\n",
       "    </tr>\n",
       "    <tr>\n",
       "      <th>Standard Error</th>\n",
       "      <td>0.158516</td>\n",
       "      <td>-0.177254</td>\n",
       "      <td>1.000000</td>\n",
       "      <td>-0.217651</td>\n",
       "      <td>-0.120728</td>\n",
       "      <td>-0.310287</td>\n",
       "      <td>-0.129773</td>\n",
       "      <td>-0.178325</td>\n",
       "      <td>-0.088439</td>\n",
       "      <td>0.083981</td>\n",
       "    </tr>\n",
       "    <tr>\n",
       "      <th>Economy (GDP per Capita)</th>\n",
       "      <td>-0.785267</td>\n",
       "      <td>0.780966</td>\n",
       "      <td>-0.217651</td>\n",
       "      <td>1.000000</td>\n",
       "      <td>0.645299</td>\n",
       "      <td>0.816478</td>\n",
       "      <td>0.370300</td>\n",
       "      <td>0.307885</td>\n",
       "      <td>-0.010465</td>\n",
       "      <td>0.040059</td>\n",
       "    </tr>\n",
       "    <tr>\n",
       "      <th>Family</th>\n",
       "      <td>-0.733644</td>\n",
       "      <td>0.740605</td>\n",
       "      <td>-0.120728</td>\n",
       "      <td>0.645299</td>\n",
       "      <td>1.000000</td>\n",
       "      <td>0.531104</td>\n",
       "      <td>0.441518</td>\n",
       "      <td>0.205605</td>\n",
       "      <td>0.087513</td>\n",
       "      <td>0.148117</td>\n",
       "    </tr>\n",
       "    <tr>\n",
       "      <th>Health (Life Expectancy)</th>\n",
       "      <td>-0.735613</td>\n",
       "      <td>0.724200</td>\n",
       "      <td>-0.310287</td>\n",
       "      <td>0.816478</td>\n",
       "      <td>0.531104</td>\n",
       "      <td>1.000000</td>\n",
       "      <td>0.360477</td>\n",
       "      <td>0.248335</td>\n",
       "      <td>0.108335</td>\n",
       "      <td>0.018979</td>\n",
       "    </tr>\n",
       "    <tr>\n",
       "      <th>Freedom</th>\n",
       "      <td>-0.556886</td>\n",
       "      <td>0.568211</td>\n",
       "      <td>-0.129773</td>\n",
       "      <td>0.370300</td>\n",
       "      <td>0.441518</td>\n",
       "      <td>0.360477</td>\n",
       "      <td>1.000000</td>\n",
       "      <td>0.493524</td>\n",
       "      <td>0.373916</td>\n",
       "      <td>0.062783</td>\n",
       "    </tr>\n",
       "    <tr>\n",
       "      <th>Trust (Government Corruption)</th>\n",
       "      <td>-0.372315</td>\n",
       "      <td>0.395199</td>\n",
       "      <td>-0.178325</td>\n",
       "      <td>0.307885</td>\n",
       "      <td>0.205605</td>\n",
       "      <td>0.248335</td>\n",
       "      <td>0.493524</td>\n",
       "      <td>1.000000</td>\n",
       "      <td>0.276123</td>\n",
       "      <td>-0.033105</td>\n",
       "    </tr>\n",
       "    <tr>\n",
       "      <th>Generosity</th>\n",
       "      <td>-0.160142</td>\n",
       "      <td>0.180319</td>\n",
       "      <td>-0.088439</td>\n",
       "      <td>-0.010465</td>\n",
       "      <td>0.087513</td>\n",
       "      <td>0.108335</td>\n",
       "      <td>0.373916</td>\n",
       "      <td>0.276123</td>\n",
       "      <td>1.000000</td>\n",
       "      <td>-0.101301</td>\n",
       "    </tr>\n",
       "    <tr>\n",
       "      <th>Dystopia Residual</th>\n",
       "      <td>-0.521999</td>\n",
       "      <td>0.530474</td>\n",
       "      <td>0.083981</td>\n",
       "      <td>0.040059</td>\n",
       "      <td>0.148117</td>\n",
       "      <td>0.018979</td>\n",
       "      <td>0.062783</td>\n",
       "      <td>-0.033105</td>\n",
       "      <td>-0.101301</td>\n",
       "      <td>1.000000</td>\n",
       "    </tr>\n",
       "  </tbody>\n",
       "</table>\n",
       "</div>"
      ],
      "text/plain": [
       "                               Happiness Rank  Happiness Score  \\\n",
       "Happiness Rank                       1.000000        -0.992105   \n",
       "Happiness Score                     -0.992105         1.000000   \n",
       "Standard Error                       0.158516        -0.177254   \n",
       "Economy (GDP per Capita)            -0.785267         0.780966   \n",
       "Family                              -0.733644         0.740605   \n",
       "Health (Life Expectancy)            -0.735613         0.724200   \n",
       "Freedom                             -0.556886         0.568211   \n",
       "Trust (Government Corruption)       -0.372315         0.395199   \n",
       "Generosity                          -0.160142         0.180319   \n",
       "Dystopia Residual                   -0.521999         0.530474   \n",
       "\n",
       "                               Standard Error  Economy (GDP per Capita)  \\\n",
       "Happiness Rank                       0.158516                 -0.785267   \n",
       "Happiness Score                     -0.177254                  0.780966   \n",
       "Standard Error                       1.000000                 -0.217651   \n",
       "Economy (GDP per Capita)            -0.217651                  1.000000   \n",
       "Family                              -0.120728                  0.645299   \n",
       "Health (Life Expectancy)            -0.310287                  0.816478   \n",
       "Freedom                             -0.129773                  0.370300   \n",
       "Trust (Government Corruption)       -0.178325                  0.307885   \n",
       "Generosity                          -0.088439                 -0.010465   \n",
       "Dystopia Residual                    0.083981                  0.040059   \n",
       "\n",
       "                                 Family  Health (Life Expectancy)   Freedom  \\\n",
       "Happiness Rank                -0.733644                 -0.735613 -0.556886   \n",
       "Happiness Score                0.740605                  0.724200  0.568211   \n",
       "Standard Error                -0.120728                 -0.310287 -0.129773   \n",
       "Economy (GDP per Capita)       0.645299                  0.816478  0.370300   \n",
       "Family                         1.000000                  0.531104  0.441518   \n",
       "Health (Life Expectancy)       0.531104                  1.000000  0.360477   \n",
       "Freedom                        0.441518                  0.360477  1.000000   \n",
       "Trust (Government Corruption)  0.205605                  0.248335  0.493524   \n",
       "Generosity                     0.087513                  0.108335  0.373916   \n",
       "Dystopia Residual              0.148117                  0.018979  0.062783   \n",
       "\n",
       "                               Trust (Government Corruption)  Generosity  \\\n",
       "Happiness Rank                                     -0.372315   -0.160142   \n",
       "Happiness Score                                     0.395199    0.180319   \n",
       "Standard Error                                     -0.178325   -0.088439   \n",
       "Economy (GDP per Capita)                            0.307885   -0.010465   \n",
       "Family                                              0.205605    0.087513   \n",
       "Health (Life Expectancy)                            0.248335    0.108335   \n",
       "Freedom                                             0.493524    0.373916   \n",
       "Trust (Government Corruption)                       1.000000    0.276123   \n",
       "Generosity                                          0.276123    1.000000   \n",
       "Dystopia Residual                                  -0.033105   -0.101301   \n",
       "\n",
       "                               Dystopia Residual  \n",
       "Happiness Rank                         -0.521999  \n",
       "Happiness Score                         0.530474  \n",
       "Standard Error                          0.083981  \n",
       "Economy (GDP per Capita)                0.040059  \n",
       "Family                                  0.148117  \n",
       "Health (Life Expectancy)                0.018979  \n",
       "Freedom                                 0.062783  \n",
       "Trust (Government Corruption)          -0.033105  \n",
       "Generosity                             -0.101301  \n",
       "Dystopia Residual                       1.000000  "
      ]
     },
     "execution_count": 17,
     "metadata": {},
     "output_type": "execute_result"
    }
   ],
   "source": [
    "df.corr()"
   ]
  },
  {
   "cell_type": "code",
   "execution_count": 18,
   "id": "d48d4cb5",
   "metadata": {},
   "outputs": [
    {
     "data": {
      "text/plain": [
       "<AxesSubplot:>"
      ]
     },
     "execution_count": 18,
     "metadata": {},
     "output_type": "execute_result"
    },
    {
     "data": {
      "image/png": "[encoded data removed]",
      "text/plain": [
       "<Figure size 1440x720 with 2 Axes>"
      ]
     },
     "metadata": {
      "needs_background": "light"
     },
     "output_type": "display_data"
    }
   ],
   "source": [
    "import matplotlib.pyplot as plt\n",
    "plt.figure(figsize=(20,10))\n",
    "sns.heatmap(df.corr(),annot=True,linewidths=0.5,linecolor='black',fmt='0.2f')\n"
   ]
  },
  {
   "cell_type": "markdown",
   "id": "225b7f57",
   "metadata": {},
   "source": [
    "### Outcome of correlation"
   ]
  },
  {
   "cell_type": "markdown",
   "id": "e1fdaebe",
   "metadata": {},
   "source": [
    "All the columns except Happiness Rank  and Standard Error is positively correlated to the Happiness Score(Target).\n",
    "\n",
    "Happiness Rank has -99% of correlation with the target column which is not considered as highly negative correlation.\n",
    "Standard Error has -18% of correlation with the target column which is considered as slightly negative correlation.\n",
    "Economy (GDP per Capita) has 78% of correlation with the target column which is considerd as strong bond.\n",
    "Family has 74% of correlation with the target column which is considerd as strong bond.\n",
    "Health(Life Expectancy) has 72% of correlation with the target column which is considered as strong bond.\n",
    "Freedom has 57% of correlation with the target column which is considered as strong bond.\n",
    "Trust(Government Corruption) has 40% of correlation with the target column which is considerd as good bond.\n",
    "Genorosity has 18% of correlation with the target column which is considered as good bond.\n",
    "Dystopia Residual has 53% of correlation with the target column which is considered as strong bond.\n",
    "\n",
    "Max Correlation : Economy (GDP per Capita)\n",
    "\n",
    "Min Correlation : Happiness Rank"
   ]
  },
  {
   "cell_type": "markdown",
   "id": "377f545e",
   "metadata": {},
   "source": [
    "### Describing Dataset"
   ]
  },
  {
   "cell_type": "code",
   "execution_count": 19,
   "id": "c0884627",
   "metadata": {},
   "outputs": [
    {
     "data": {
      "text/html": [
       "<div>\n",
       "<style scoped>\n",
       "    .dataframe tbody tr th:only-of-type {\n",
       "        vertical-align: middle;\n",
       "    }\n",
       "\n",
       "    .dataframe tbody tr th {\n",
       "        vertical-align: top;\n",
       "    }\n",
       "\n",
       "    .dataframe thead th {\n",
       "        text-align: right;\n",
       "    }\n",
       "</style>\n",
       "<table border=\"1\" class=\"dataframe\">\n",
       "  <thead>\n",
       "    <tr style=\"text-align: right;\">\n",
       "      <th></th>\n",
       "      <th>Happiness Rank</th>\n",
       "      <th>Happiness Score</th>\n",
       "      <th>Standard Error</th>\n",
       "      <th>Economy (GDP per Capita)</th>\n",
       "      <th>Family</th>\n",
       "      <th>Health (Life Expectancy)</th>\n",
       "      <th>Freedom</th>\n",
       "      <th>Trust (Government Corruption)</th>\n",
       "      <th>Generosity</th>\n",
       "      <th>Dystopia Residual</th>\n",
       "    </tr>\n",
       "  </thead>\n",
       "  <tbody>\n",
       "    <tr>\n",
       "      <th>count</th>\n",
       "      <td>158.000000</td>\n",
       "      <td>158.000000</td>\n",
       "      <td>158.000000</td>\n",
       "      <td>158.000000</td>\n",
       "      <td>158.000000</td>\n",
       "      <td>158.000000</td>\n",
       "      <td>158.000000</td>\n",
       "      <td>158.000000</td>\n",
       "      <td>158.000000</td>\n",
       "      <td>158.000000</td>\n",
       "    </tr>\n",
       "    <tr>\n",
       "      <th>mean</th>\n",
       "      <td>79.493671</td>\n",
       "      <td>5.375734</td>\n",
       "      <td>0.047885</td>\n",
       "      <td>0.846137</td>\n",
       "      <td>0.991046</td>\n",
       "      <td>0.630259</td>\n",
       "      <td>0.428615</td>\n",
       "      <td>0.143422</td>\n",
       "      <td>0.237296</td>\n",
       "      <td>2.098977</td>\n",
       "    </tr>\n",
       "    <tr>\n",
       "      <th>std</th>\n",
       "      <td>45.754363</td>\n",
       "      <td>1.145010</td>\n",
       "      <td>0.017146</td>\n",
       "      <td>0.403121</td>\n",
       "      <td>0.272369</td>\n",
       "      <td>0.247078</td>\n",
       "      <td>0.150693</td>\n",
       "      <td>0.120034</td>\n",
       "      <td>0.126685</td>\n",
       "      <td>0.553550</td>\n",
       "    </tr>\n",
       "    <tr>\n",
       "      <th>min</th>\n",
       "      <td>1.000000</td>\n",
       "      <td>2.839000</td>\n",
       "      <td>0.018480</td>\n",
       "      <td>0.000000</td>\n",
       "      <td>0.000000</td>\n",
       "      <td>0.000000</td>\n",
       "      <td>0.000000</td>\n",
       "      <td>0.000000</td>\n",
       "      <td>0.000000</td>\n",
       "      <td>0.328580</td>\n",
       "    </tr>\n",
       "    <tr>\n",
       "      <th>25%</th>\n",
       "      <td>40.250000</td>\n",
       "      <td>4.526000</td>\n",
       "      <td>0.037268</td>\n",
       "      <td>0.545808</td>\n",
       "      <td>0.856823</td>\n",
       "      <td>0.439185</td>\n",
       "      <td>0.328330</td>\n",
       "      <td>0.061675</td>\n",
       "      <td>0.150553</td>\n",
       "      <td>1.759410</td>\n",
       "    </tr>\n",
       "    <tr>\n",
       "      <th>50%</th>\n",
       "      <td>79.500000</td>\n",
       "      <td>5.232500</td>\n",
       "      <td>0.043940</td>\n",
       "      <td>0.910245</td>\n",
       "      <td>1.029510</td>\n",
       "      <td>0.696705</td>\n",
       "      <td>0.435515</td>\n",
       "      <td>0.107220</td>\n",
       "      <td>0.216130</td>\n",
       "      <td>2.095415</td>\n",
       "    </tr>\n",
       "    <tr>\n",
       "      <th>75%</th>\n",
       "      <td>118.750000</td>\n",
       "      <td>6.243750</td>\n",
       "      <td>0.052300</td>\n",
       "      <td>1.158448</td>\n",
       "      <td>1.214405</td>\n",
       "      <td>0.811013</td>\n",
       "      <td>0.549092</td>\n",
       "      <td>0.180255</td>\n",
       "      <td>0.309883</td>\n",
       "      <td>2.462415</td>\n",
       "    </tr>\n",
       "    <tr>\n",
       "      <th>max</th>\n",
       "      <td>158.000000</td>\n",
       "      <td>7.587000</td>\n",
       "      <td>0.136930</td>\n",
       "      <td>1.690420</td>\n",
       "      <td>1.402230</td>\n",
       "      <td>1.025250</td>\n",
       "      <td>0.669730</td>\n",
       "      <td>0.551910</td>\n",
       "      <td>0.795880</td>\n",
       "      <td>3.602140</td>\n",
       "    </tr>\n",
       "  </tbody>\n",
       "</table>\n",
       "</div>"
      ],
      "text/plain": [
       "       Happiness Rank  Happiness Score  Standard Error  \\\n",
       "count      158.000000       158.000000      158.000000   \n",
       "mean        79.493671         5.375734        0.047885   \n",
       "std         45.754363         1.145010        0.017146   \n",
       "min          1.000000         2.839000        0.018480   \n",
       "25%         40.250000         4.526000        0.037268   \n",
       "50%         79.500000         5.232500        0.043940   \n",
       "75%        118.750000         6.243750        0.052300   \n",
       "max        158.000000         7.587000        0.136930   \n",
       "\n",
       "       Economy (GDP per Capita)      Family  Health (Life Expectancy)  \\\n",
       "count                158.000000  158.000000                158.000000   \n",
       "mean                   0.846137    0.991046                  0.630259   \n",
       "std                    0.403121    0.272369                  0.247078   \n",
       "min                    0.000000    0.000000                  0.000000   \n",
       "25%                    0.545808    0.856823                  0.439185   \n",
       "50%                    0.910245    1.029510                  0.696705   \n",
       "75%                    1.158448    1.214405                  0.811013   \n",
       "max                    1.690420    1.402230                  1.025250   \n",
       "\n",
       "          Freedom  Trust (Government Corruption)  Generosity  \\\n",
       "count  158.000000                     158.000000  158.000000   \n",
       "mean     0.428615                       0.143422    0.237296   \n",
       "std      0.150693                       0.120034    0.126685   \n",
       "min      0.000000                       0.000000    0.000000   \n",
       "25%      0.328330                       0.061675    0.150553   \n",
       "50%      0.435515                       0.107220    0.216130   \n",
       "75%      0.549092                       0.180255    0.309883   \n",
       "max      0.669730                       0.551910    0.795880   \n",
       "\n",
       "       Dystopia Residual  \n",
       "count         158.000000  \n",
       "mean            2.098977  \n",
       "std             0.553550  \n",
       "min             0.328580  \n",
       "25%             1.759410  \n",
       "50%             2.095415  \n",
       "75%             2.462415  \n",
       "max             3.602140  "
      ]
     },
     "execution_count": 19,
     "metadata": {},
     "output_type": "execute_result"
    }
   ],
   "source": [
    "df.describe()"
   ]
  },
  {
   "cell_type": "code",
   "execution_count": 20,
   "id": "79cb5f50",
   "metadata": {},
   "outputs": [
    {
     "data": {
      "image/png": "[encoded data removed]",
      "text/plain": [
       "<Figure size 1080x864 with 2 Axes>"
      ]
     },
     "metadata": {
      "needs_background": "light"
     },
     "output_type": "display_data"
    }
   ],
   "source": [
    "plt.figure(figsize=(15,12))\n",
    "sns.heatmap(round(df.describe()[1:].transpose(),2),linewidths=2,annot=True,fmt='f')\n",
    "plt.xticks(fontsize=18)\n",
    "plt.yticks(fontsize=12)\n",
    "plt.title('Variable Summary')\n",
    "plt.show()"
   ]
  },
  {
   "cell_type": "markdown",
   "id": "ca3cfd29",
   "metadata": {},
   "source": [
    "From the above plotting we are determnining mean, standard deviation, minimum and maximum value of each column. It helps us further in data cleaning. \n",
    "\n",
    "Total number of rows and columns in the dataset.\n",
    "\n",
    "1. 158 Rows.\n",
    "2. 12 Columns\n",
    "\n",
    "Happiness Rank\n",
    "\n",
    "1. Mean = 79.493671\n",
    "2. std = 45.754363\n",
    "3. max_value = 158\n",
    "4. min_value = 1\n",
    "\n",
    "Standard Error\t\n",
    "\n",
    "1. Mean = 0.047885\n",
    "2. std = 0.017146\n",
    "3. max_value = 0.136930\n",
    "4. min_value = 0.018480\n",
    "\n",
    "\n",
    "Economy (GDP per Capita)\t\n",
    "\n",
    "1. Mean = 0.846137\n",
    "2. std = 0.403121\n",
    "3. max_value = 1.690420\n",
    "4. min_value = 0.000000\n",
    "\n",
    "\n",
    "Family\t\n",
    "\n",
    "1. Mean = 0.991046\n",
    "2. std = 0.272369\n",
    "3. max_value = 1.402230\n",
    "4. min_value = 0.000000\n",
    "\n",
    "\n",
    "Health (Life Expectancy)\t\n",
    "\n",
    "1. Mean = 0.630259\n",
    "2. std = 0.247078\n",
    "3. max_value = 1.025250\n",
    "4. min_value = 0.000000\n",
    "\n",
    "\n",
    "Freedom\t\n",
    "\n",
    "1. Mean = 0.428615\n",
    "2. std = 0.150693\n",
    "3. max_value = 0.669730\n",
    "4. min_value = 0.000000\n",
    "\n",
    "\n",
    "Trust (Government Corruption)\t\n",
    "\n",
    "1. Mean = 0.143422\n",
    "2. std = 0.120034\n",
    "3. max_value = 0.551910\n",
    "4. min_value = 0.000000\n",
    "\n",
    "\n",
    "Generosity\t\n",
    "\n",
    "1. Mean = 0.237296\n",
    "2. std = 0.126685\n",
    "3. max_value = 0.795880\n",
    "4. min_value = 0.000000\n",
    "\n",
    "\n",
    "Dystopia Residual\n",
    "\n",
    "1. Mean = 2.098977\n",
    "2. std = 0.553550\n",
    "3. max_value = 3.602140\n",
    "4. min_value = 0.328580\n",
    "\n",
    "Happiness Score\t\n",
    "\n",
    "1. Mean = 5.375734\n",
    "2. std = 1.145010\n",
    "3. max_value = 7.587000\n",
    "4. min_value = 2.839000\n",
    "\n",
    "Country and Region are having string type data. So describe showns no valid outcome."
   ]
  },
  {
   "cell_type": "code",
   "execution_count": 21,
   "id": "b43cbe4c",
   "metadata": {},
   "outputs": [
    {
     "name": "stdout",
     "output_type": "stream",
     "text": [
      "<class 'pandas.core.frame.DataFrame'>\n",
      "RangeIndex: 158 entries, 0 to 157\n",
      "Data columns (total 12 columns):\n",
      " #   Column                         Non-Null Count  Dtype  \n",
      "---  ------                         --------------  -----  \n",
      " 0   Country                        158 non-null    object \n",
      " 1   Region                         158 non-null    object \n",
      " 2   Happiness Rank                 158 non-null    int64  \n",
      " 3   Happiness Score                158 non-null    float64\n",
      " 4   Standard Error                 158 non-null    float64\n",
      " 5   Economy (GDP per Capita)       158 non-null    float64\n",
      " 6   Family                         158 non-null    float64\n",
      " 7   Health (Life Expectancy)       158 non-null    float64\n",
      " 8   Freedom                        158 non-null    float64\n",
      " 9   Trust (Government Corruption)  158 non-null    float64\n",
      " 10  Generosity                     158 non-null    float64\n",
      " 11  Dystopia Residual              158 non-null    float64\n",
      "dtypes: float64(9), int64(1), object(2)\n",
      "memory usage: 14.9+ KB\n"
     ]
    }
   ],
   "source": [
    "df.info()"
   ]
  },
  {
   "cell_type": "markdown",
   "id": "0be2f36e",
   "metadata": {},
   "source": [
    "### Outliers Checking:"
   ]
  },
  {
   "cell_type": "code",
   "execution_count": 22,
   "id": "9b3c460b",
   "metadata": {},
   "outputs": [
    {
     "data": {
      "image/png": "[encoded data removed]",
      "text/plain": [
       "<Figure size 2160x6480 with 10 Axes>"
      ]
     },
     "metadata": {
      "needs_background": "light"
     },
     "output_type": "display_data"
    }
   ],
   "source": [
    "collist = df.iloc[:,2:].columns.values\n",
    "ncol = 30\n",
    "nrow = 14\n",
    "plt.figure(figsize = (ncol,3*ncol))\n",
    "for i in range (0,len(collist)):\n",
    "    plt.subplot(nrow,ncol,i+1)\n",
    "    sns.boxplot(y =df[collist[i]],color='blue')\n",
    "    plt.tight_layout()"
   ]
  },
  {
   "cell_type": "markdown",
   "id": "ec07ad63",
   "metadata": {},
   "source": [
    "We have excluded the column \"Country\" and \"Region\" since it is string values and no impact on the outcome.\n",
    "\n",
    "From the above plot we can see that columns ['Family', 'Generosity','Dystopia Residual'] has less outliers. \n",
    "Columns ['Standard Error','Trust (Government Corruption)'] has more outliers while columns ['Happiness Rank','Happiness Score','Economy (GDP per Capita)','Health (Life Expectancy)','Freedom'] has no outliers.\n"
   ]
  },
  {
   "cell_type": "markdown",
   "id": "df12c573",
   "metadata": {},
   "source": [
    "### Skewness"
   ]
  },
  {
   "cell_type": "code",
   "execution_count": 23,
   "id": "d04e1e71",
   "metadata": {},
   "outputs": [
    {
     "data": {
      "text/plain": [
       "Happiness Rank                   0.000418\n",
       "Happiness Score                  0.097769\n",
       "Standard Error                   1.983439\n",
       "Economy (GDP per Capita)        -0.317575\n",
       "Family                          -1.006893\n",
       "Health (Life Expectancy)        -0.705328\n",
       "Freedom                         -0.413462\n",
       "Trust (Government Corruption)    1.385463\n",
       "Generosity                       1.001961\n",
       "Dystopia Residual               -0.238911\n",
       "dtype: float64"
      ]
     },
     "execution_count": 23,
     "metadata": {},
     "output_type": "execute_result"
    }
   ],
   "source": [
    "df.skew()"
   ]
  },
  {
   "cell_type": "markdown",
   "id": "a3b1ae99",
   "metadata": {},
   "source": [
    "Outcome of of the skewness: Skewness threshold taken is +/-0.5. Columns which are having skewness:\n",
    "        \n",
    "        Standard Error\n",
    "        Family\n",
    "        Health (Life Expectancy)\n",
    "        Trust (Government Corruption)\n",
    "        Generosity\n",
    "        "
   ]
  },
  {
   "cell_type": "markdown",
   "id": "e58e1fda",
   "metadata": {},
   "source": [
    "### Normal Distribution Curve"
   ]
  },
  {
   "cell_type": "code",
   "execution_count": 24,
   "id": "58750699",
   "metadata": {},
   "outputs": [
    {
     "data": {
      "text/plain": [
       "<AxesSubplot:xlabel='Happiness Rank', ylabel='Density'>"
      ]
     },
     "execution_count": 24,
     "metadata": {},
     "output_type": "execute_result"
    },
    {
     "data": {
      "image/png": "[encoded data removed]",
      "text/plain": [
       "<Figure size 432x288 with 1 Axes>"
      ]
     },
     "metadata": {
      "needs_background": "light"
     },
     "output_type": "display_data"
    }
   ],
   "source": [
    "sns.distplot(df['Happiness Rank'])"
   ]
  },
  {
   "cell_type": "markdown",
   "id": "6cd5adf0",
   "metadata": {},
   "source": [
    "Since the column is categorical, skewness of this column is not much relevant."
   ]
  },
  {
   "cell_type": "code",
   "execution_count": 25,
   "id": "3b6c4fce",
   "metadata": {},
   "outputs": [
    {
     "data": {
      "text/plain": [
       "<AxesSubplot:xlabel='Standard Error', ylabel='Density'>"
      ]
     },
     "execution_count": 25,
     "metadata": {},
     "output_type": "execute_result"
    },
    {
     "data": {
      "image/png": "[encoded data removed]",
      "text/plain": [
       "<Figure size 432x288 with 1 Axes>"
      ]
     },
     "metadata": {
      "needs_background": "light"
     },
     "output_type": "display_data"
    }
   ],
   "source": [
    "sns.distplot(df['Standard Error'])"
   ]
  },
  {
   "cell_type": "markdown",
   "id": "49c96ae5",
   "metadata": {},
   "source": [
    "The data of the column is not normailzed. The building blocks is out of the normal curve."
   ]
  },
  {
   "cell_type": "code",
   "execution_count": 26,
   "id": "f86b190c",
   "metadata": {},
   "outputs": [
    {
     "data": {
      "text/plain": [
       "<AxesSubplot:xlabel='Economy (GDP per Capita)', ylabel='Density'>"
      ]
     },
     "execution_count": 26,
     "metadata": {},
     "output_type": "execute_result"
    },
    {
     "data": {
      "image/png": "[encoded data removed]",
      "text/plain": [
       "<Figure size 432x288 with 1 Axes>"
      ]
     },
     "metadata": {
      "needs_background": "light"
     },
     "output_type": "display_data"
    }
   ],
   "source": [
    "sns.distplot(df['Economy (GDP per Capita)'])"
   ]
  },
  {
   "cell_type": "markdown",
   "id": "873a3879",
   "metadata": {},
   "source": [
    "The data of the column is not normailzed. The building blocks is out of the normal curve."
   ]
  },
  {
   "cell_type": "code",
   "execution_count": 27,
   "id": "ad1b69c2",
   "metadata": {},
   "outputs": [
    {
     "data": {
      "text/plain": [
       "<AxesSubplot:xlabel='Family', ylabel='Density'>"
      ]
     },
     "execution_count": 27,
     "metadata": {},
     "output_type": "execute_result"
    },
    {
     "data": {
      "image/png": "[encoded data removed]",
      "text/plain": [
       "<Figure size 432x288 with 1 Axes>"
      ]
     },
     "metadata": {
      "needs_background": "light"
     },
     "output_type": "display_data"
    }
   ],
   "source": [
    "sns.distplot(df['Family'])"
   ]
  },
  {
   "cell_type": "markdown",
   "id": "88febbdd",
   "metadata": {},
   "source": [
    "The data of the column is not normailzed. The building blocks is out of the normal curve."
   ]
  },
  {
   "cell_type": "code",
   "execution_count": 28,
   "id": "f41ed7b1",
   "metadata": {},
   "outputs": [
    {
     "data": {
      "text/plain": [
       "<AxesSubplot:xlabel='Health (Life Expectancy)', ylabel='Density'>"
      ]
     },
     "execution_count": 28,
     "metadata": {},
     "output_type": "execute_result"
    },
    {
     "data": {
      "image/png": "[encoded data removed]",
      "text/plain": [
       "<Figure size 432x288 with 1 Axes>"
      ]
     },
     "metadata": {
      "needs_background": "light"
     },
     "output_type": "display_data"
    }
   ],
   "source": [
    "sns.distplot(df['Health (Life Expectancy)'])"
   ]
  },
  {
   "cell_type": "markdown",
   "id": "4aacfb6a",
   "metadata": {},
   "source": [
    "The data of the column is not normailzed. The building blocks is out of the normal curve."
   ]
  },
  {
   "cell_type": "code",
   "execution_count": 29,
   "id": "41fc44f6",
   "metadata": {},
   "outputs": [
    {
     "data": {
      "text/plain": [
       "<AxesSubplot:xlabel='Freedom', ylabel='Density'>"
      ]
     },
     "execution_count": 29,
     "metadata": {},
     "output_type": "execute_result"
    },
    {
     "data": {
      "image/png": "[encoded data removed]",
      "text/plain": [
       "<Figure size 432x288 with 1 Axes>"
      ]
     },
     "metadata": {
      "needs_background": "light"
     },
     "output_type": "display_data"
    }
   ],
   "source": [
    "sns.distplot(df['Freedom'])"
   ]
  },
  {
   "cell_type": "markdown",
   "id": "0c3cd71c",
   "metadata": {},
   "source": [
    "The data of the column is not normailzed. The building blocks is out of the normal curve."
   ]
  },
  {
   "cell_type": "code",
   "execution_count": 30,
   "id": "a148395e",
   "metadata": {},
   "outputs": [
    {
     "data": {
      "text/plain": [
       "<AxesSubplot:xlabel='Trust (Government Corruption)', ylabel='Density'>"
      ]
     },
     "execution_count": 30,
     "metadata": {},
     "output_type": "execute_result"
    },
    {
     "data": {
      "image/png": "[encoded data removed]",
      "text/plain": [
       "<Figure size 432x288 with 1 Axes>"
      ]
     },
     "metadata": {
      "needs_background": "light"
     },
     "output_type": "display_data"
    }
   ],
   "source": [
    "sns.distplot(df['Trust (Government Corruption)'])"
   ]
  },
  {
   "cell_type": "markdown",
   "id": "48e8128c",
   "metadata": {},
   "source": [
    "The data of the column is not normailzed. The building blocks is out of the normal curve."
   ]
  },
  {
   "cell_type": "code",
   "execution_count": 31,
   "id": "ab84208a",
   "metadata": {},
   "outputs": [
    {
     "data": {
      "text/plain": [
       "<AxesSubplot:xlabel='Generosity', ylabel='Density'>"
      ]
     },
     "execution_count": 31,
     "metadata": {},
     "output_type": "execute_result"
    },
    {
     "data": {
      "image/png": "[encoded data removed]",
      "text/plain": [
       "<Figure size 432x288 with 1 Axes>"
      ]
     },
     "metadata": {
      "needs_background": "light"
     },
     "output_type": "display_data"
    }
   ],
   "source": [
    "sns.distplot(df['Generosity'])"
   ]
  },
  {
   "cell_type": "markdown",
   "id": "b6c05b19",
   "metadata": {},
   "source": [
    "The data of the column is not normailzed. The building blocks is out of the normal curve."
   ]
  },
  {
   "cell_type": "code",
   "execution_count": 32,
   "id": "bc99b495",
   "metadata": {},
   "outputs": [
    {
     "data": {
      "text/plain": [
       "<AxesSubplot:xlabel='Dystopia Residual', ylabel='Density'>"
      ]
     },
     "execution_count": 32,
     "metadata": {},
     "output_type": "execute_result"
    },
    {
     "data": {
      "image/png": "[encoded data removed]",
      "text/plain": [
       "<Figure size 432x288 with 1 Axes>"
      ]
     },
     "metadata": {
      "needs_background": "light"
     },
     "output_type": "display_data"
    }
   ],
   "source": [
    "sns.distplot(df['Dystopia Residual'])"
   ]
  },
  {
   "cell_type": "markdown",
   "id": "b9870e56",
   "metadata": {},
   "source": [
    "The data of the column is not normailzed. The building blocks is out of the normal curve."
   ]
  },
  {
   "cell_type": "markdown",
   "id": "77260b82",
   "metadata": {},
   "source": [
    "### The normal distribution shows that the data is skewed"
   ]
  },
  {
   "cell_type": "markdown",
   "id": "02482a4f",
   "metadata": {},
   "source": [
    "### Data Cleaning"
   ]
  },
  {
   "cell_type": "code",
   "execution_count": 33,
   "id": "f9a54b37",
   "metadata": {
    "scrolled": true
   },
   "outputs": [
    {
     "data": {
      "text/html": [
       "<div>\n",
       "<style scoped>\n",
       "    .dataframe tbody tr th:only-of-type {\n",
       "        vertical-align: middle;\n",
       "    }\n",
       "\n",
       "    .dataframe tbody tr th {\n",
       "        vertical-align: top;\n",
       "    }\n",
       "\n",
       "    .dataframe thead th {\n",
       "        text-align: right;\n",
       "    }\n",
       "</style>\n",
       "<table border=\"1\" class=\"dataframe\">\n",
       "  <thead>\n",
       "    <tr style=\"text-align: right;\">\n",
       "      <th></th>\n",
       "      <th>Contributing to outcome</th>\n",
       "      <th>Column Name</th>\n",
       "      <th>Dtype</th>\n",
       "    </tr>\n",
       "  </thead>\n",
       "  <tbody>\n",
       "    <tr>\n",
       "      <th>0</th>\n",
       "      <td>No</td>\n",
       "      <td>Country</td>\n",
       "      <td>object</td>\n",
       "    </tr>\n",
       "    <tr>\n",
       "      <th>1</th>\n",
       "      <td>No</td>\n",
       "      <td>Region</td>\n",
       "      <td>Object</td>\n",
       "    </tr>\n",
       "  </tbody>\n",
       "</table>\n",
       "</div>"
      ],
      "text/plain": [
       "  Contributing to outcome Column Name   Dtype\n",
       "0                      No     Country  object\n",
       "1                      No      Region  Object"
      ]
     },
     "execution_count": 33,
     "metadata": {},
     "output_type": "execute_result"
    }
   ],
   "source": [
    "delete = pd.DataFrame([['No','Country','object'],['No','Region','Object']],columns=['Contributing to outcome','Column Name','Dtype'])\n",
    "delete"
   ]
  },
  {
   "cell_type": "code",
   "execution_count": 34,
   "id": "e02bc965",
   "metadata": {},
   "outputs": [
    {
     "data": {
      "text/html": [
       "<div>\n",
       "<style scoped>\n",
       "    .dataframe tbody tr th:only-of-type {\n",
       "        vertical-align: middle;\n",
       "    }\n",
       "\n",
       "    .dataframe tbody tr th {\n",
       "        vertical-align: top;\n",
       "    }\n",
       "\n",
       "    .dataframe thead th {\n",
       "        text-align: right;\n",
       "    }\n",
       "</style>\n",
       "<table border=\"1\" class=\"dataframe\">\n",
       "  <thead>\n",
       "    <tr style=\"text-align: right;\">\n",
       "      <th></th>\n",
       "      <th>Happiness Rank</th>\n",
       "      <th>Happiness Score</th>\n",
       "      <th>Standard Error</th>\n",
       "      <th>Economy (GDP per Capita)</th>\n",
       "      <th>Family</th>\n",
       "      <th>Health (Life Expectancy)</th>\n",
       "      <th>Freedom</th>\n",
       "      <th>Trust (Government Corruption)</th>\n",
       "      <th>Generosity</th>\n",
       "      <th>Dystopia Residual</th>\n",
       "    </tr>\n",
       "  </thead>\n",
       "  <tbody>\n",
       "    <tr>\n",
       "      <th>0</th>\n",
       "      <td>1</td>\n",
       "      <td>7.587</td>\n",
       "      <td>0.03411</td>\n",
       "      <td>1.39651</td>\n",
       "      <td>1.34951</td>\n",
       "      <td>0.94143</td>\n",
       "      <td>0.66557</td>\n",
       "      <td>0.41978</td>\n",
       "      <td>0.29678</td>\n",
       "      <td>2.51738</td>\n",
       "    </tr>\n",
       "    <tr>\n",
       "      <th>1</th>\n",
       "      <td>2</td>\n",
       "      <td>7.561</td>\n",
       "      <td>0.04884</td>\n",
       "      <td>1.30232</td>\n",
       "      <td>1.40223</td>\n",
       "      <td>0.94784</td>\n",
       "      <td>0.62877</td>\n",
       "      <td>0.14145</td>\n",
       "      <td>0.43630</td>\n",
       "      <td>2.70201</td>\n",
       "    </tr>\n",
       "    <tr>\n",
       "      <th>2</th>\n",
       "      <td>3</td>\n",
       "      <td>7.527</td>\n",
       "      <td>0.03328</td>\n",
       "      <td>1.32548</td>\n",
       "      <td>1.36058</td>\n",
       "      <td>0.87464</td>\n",
       "      <td>0.64938</td>\n",
       "      <td>0.48357</td>\n",
       "      <td>0.34139</td>\n",
       "      <td>2.49204</td>\n",
       "    </tr>\n",
       "    <tr>\n",
       "      <th>3</th>\n",
       "      <td>4</td>\n",
       "      <td>7.522</td>\n",
       "      <td>0.03880</td>\n",
       "      <td>1.45900</td>\n",
       "      <td>1.33095</td>\n",
       "      <td>0.88521</td>\n",
       "      <td>0.66973</td>\n",
       "      <td>0.36503</td>\n",
       "      <td>0.34699</td>\n",
       "      <td>2.46531</td>\n",
       "    </tr>\n",
       "    <tr>\n",
       "      <th>4</th>\n",
       "      <td>5</td>\n",
       "      <td>7.427</td>\n",
       "      <td>0.03553</td>\n",
       "      <td>1.32629</td>\n",
       "      <td>1.32261</td>\n",
       "      <td>0.90563</td>\n",
       "      <td>0.63297</td>\n",
       "      <td>0.32957</td>\n",
       "      <td>0.45811</td>\n",
       "      <td>2.45176</td>\n",
       "    </tr>\n",
       "    <tr>\n",
       "      <th>...</th>\n",
       "      <td>...</td>\n",
       "      <td>...</td>\n",
       "      <td>...</td>\n",
       "      <td>...</td>\n",
       "      <td>...</td>\n",
       "      <td>...</td>\n",
       "      <td>...</td>\n",
       "      <td>...</td>\n",
       "      <td>...</td>\n",
       "      <td>...</td>\n",
       "    </tr>\n",
       "    <tr>\n",
       "      <th>153</th>\n",
       "      <td>154</td>\n",
       "      <td>3.465</td>\n",
       "      <td>0.03464</td>\n",
       "      <td>0.22208</td>\n",
       "      <td>0.77370</td>\n",
       "      <td>0.42864</td>\n",
       "      <td>0.59201</td>\n",
       "      <td>0.55191</td>\n",
       "      <td>0.22628</td>\n",
       "      <td>0.67042</td>\n",
       "    </tr>\n",
       "    <tr>\n",
       "      <th>154</th>\n",
       "      <td>155</td>\n",
       "      <td>3.340</td>\n",
       "      <td>0.03656</td>\n",
       "      <td>0.28665</td>\n",
       "      <td>0.35386</td>\n",
       "      <td>0.31910</td>\n",
       "      <td>0.48450</td>\n",
       "      <td>0.08010</td>\n",
       "      <td>0.18260</td>\n",
       "      <td>1.63328</td>\n",
       "    </tr>\n",
       "    <tr>\n",
       "      <th>155</th>\n",
       "      <td>156</td>\n",
       "      <td>3.006</td>\n",
       "      <td>0.05015</td>\n",
       "      <td>0.66320</td>\n",
       "      <td>0.47489</td>\n",
       "      <td>0.72193</td>\n",
       "      <td>0.15684</td>\n",
       "      <td>0.18906</td>\n",
       "      <td>0.47179</td>\n",
       "      <td>0.32858</td>\n",
       "    </tr>\n",
       "    <tr>\n",
       "      <th>156</th>\n",
       "      <td>157</td>\n",
       "      <td>2.905</td>\n",
       "      <td>0.08658</td>\n",
       "      <td>0.01530</td>\n",
       "      <td>0.41587</td>\n",
       "      <td>0.22396</td>\n",
       "      <td>0.11850</td>\n",
       "      <td>0.10062</td>\n",
       "      <td>0.19727</td>\n",
       "      <td>1.83302</td>\n",
       "    </tr>\n",
       "    <tr>\n",
       "      <th>157</th>\n",
       "      <td>158</td>\n",
       "      <td>2.839</td>\n",
       "      <td>0.06727</td>\n",
       "      <td>0.20868</td>\n",
       "      <td>0.13995</td>\n",
       "      <td>0.28443</td>\n",
       "      <td>0.36453</td>\n",
       "      <td>0.10731</td>\n",
       "      <td>0.16681</td>\n",
       "      <td>1.56726</td>\n",
       "    </tr>\n",
       "  </tbody>\n",
       "</table>\n",
       "<p>158 rows × 10 columns</p>\n",
       "</div>"
      ],
      "text/plain": [
       "     Happiness Rank  Happiness Score  Standard Error  \\\n",
       "0                 1            7.587         0.03411   \n",
       "1                 2            7.561         0.04884   \n",
       "2                 3            7.527         0.03328   \n",
       "3                 4            7.522         0.03880   \n",
       "4                 5            7.427         0.03553   \n",
       "..              ...              ...             ...   \n",
       "153             154            3.465         0.03464   \n",
       "154             155            3.340         0.03656   \n",
       "155             156            3.006         0.05015   \n",
       "156             157            2.905         0.08658   \n",
       "157             158            2.839         0.06727   \n",
       "\n",
       "     Economy (GDP per Capita)   Family  Health (Life Expectancy)  Freedom  \\\n",
       "0                     1.39651  1.34951                   0.94143  0.66557   \n",
       "1                     1.30232  1.40223                   0.94784  0.62877   \n",
       "2                     1.32548  1.36058                   0.87464  0.64938   \n",
       "3                     1.45900  1.33095                   0.88521  0.66973   \n",
       "4                     1.32629  1.32261                   0.90563  0.63297   \n",
       "..                        ...      ...                       ...      ...   \n",
       "153                   0.22208  0.77370                   0.42864  0.59201   \n",
       "154                   0.28665  0.35386                   0.31910  0.48450   \n",
       "155                   0.66320  0.47489                   0.72193  0.15684   \n",
       "156                   0.01530  0.41587                   0.22396  0.11850   \n",
       "157                   0.20868  0.13995                   0.28443  0.36453   \n",
       "\n",
       "     Trust (Government Corruption)  Generosity  Dystopia Residual  \n",
       "0                          0.41978     0.29678            2.51738  \n",
       "1                          0.14145     0.43630            2.70201  \n",
       "2                          0.48357     0.34139            2.49204  \n",
       "3                          0.36503     0.34699            2.46531  \n",
       "4                          0.32957     0.45811            2.45176  \n",
       "..                             ...         ...                ...  \n",
       "153                        0.55191     0.22628            0.67042  \n",
       "154                        0.08010     0.18260            1.63328  \n",
       "155                        0.18906     0.47179            0.32858  \n",
       "156                        0.10062     0.19727            1.83302  \n",
       "157                        0.10731     0.16681            1.56726  \n",
       "\n",
       "[158 rows x 10 columns]"
      ]
     },
     "execution_count": 34,
     "metadata": {},
     "output_type": "execute_result"
    }
   ],
   "source": [
    "df = df.drop(['Country','Region'],axis =1)\n",
    "df"
   ]
  },
  {
   "cell_type": "markdown",
   "id": "a2764bed",
   "metadata": {},
   "source": [
    "We have dropped the string value columns Country and Region since it is not contributing to the Target value."
   ]
  },
  {
   "cell_type": "markdown",
   "id": "88271306",
   "metadata": {},
   "source": [
    "### Removing Outliers"
   ]
  },
  {
   "cell_type": "markdown",
   "id": "7c27b812",
   "metadata": {},
   "source": [
    "Z-Score Technique"
   ]
  },
  {
   "cell_type": "code",
   "execution_count": 69,
   "id": "44ab4737",
   "metadata": {},
   "outputs": [
    {
     "data": {
      "text/plain": [
       "(158, 10)"
      ]
     },
     "execution_count": 69,
     "metadata": {},
     "output_type": "execute_result"
    }
   ],
   "source": [
    "from scipy.stats import zscore\n",
    "import numpy as np\n",
    "z = np.abs(zscore(df))\n",
    "z.shape"
   ]
  },
  {
   "cell_type": "code",
   "execution_count": 70,
   "id": "60d2c868",
   "metadata": {},
   "outputs": [
    {
     "name": "stdout",
     "output_type": "stream",
     "text": [
      "(array([  0,   0,   0, ..., 157, 157, 157], dtype=int64), array([0, 1, 2, ..., 7, 8, 9], dtype=int64))\n"
     ]
    }
   ],
   "source": [
    "threshold = 3\n",
    "print(np.where(z<3))"
   ]
  },
  {
   "cell_type": "code",
   "execution_count": 71,
   "id": "4019ad4e",
   "metadata": {},
   "outputs": [
    {
     "name": "stdout",
     "output_type": "stream",
     "text": [
      "(158, 10)\n",
      "(149, 10)\n"
     ]
    }
   ],
   "source": [
    "df_new = df[(z<3).all(axis = 1)]\n",
    "print(df.shape)\n",
    "print(df_new.shape)"
   ]
  },
  {
   "cell_type": "markdown",
   "id": "9603c113",
   "metadata": {},
   "source": [
    "#### Percentage data loss"
   ]
  },
  {
   "cell_type": "code",
   "execution_count": 72,
   "id": "ab075293",
   "metadata": {},
   "outputs": [
    {
     "data": {
      "text/plain": [
       "5.69620253164557"
      ]
     },
     "execution_count": 72,
     "metadata": {},
     "output_type": "execute_result"
    }
   ],
   "source": [
    "loss_percent = (158-149)/158*100\n",
    "loss_percent"
   ]
  },
  {
   "cell_type": "markdown",
   "id": "d8d6f3e8",
   "metadata": {},
   "source": [
    "Checking whether how much outliers are still there. If the outliers there help in testing the model or not.\n"
   ]
  },
  {
   "cell_type": "markdown",
   "id": "b31e315a",
   "metadata": {},
   "source": [
    "#### Model without outliers is df_new and model with outliers is df."
   ]
  },
  {
   "cell_type": "markdown",
   "id": "9bb31fd2",
   "metadata": {},
   "source": [
    "### Model without outliers"
   ]
  },
  {
   "cell_type": "code",
   "execution_count": 142,
   "id": "092d9f11",
   "metadata": {},
   "outputs": [],
   "source": [
    "x = df_new.drop(['Happiness Score'], axis =1)\n",
    "y = df_new.iloc[:,1]"
   ]
  },
  {
   "cell_type": "code",
   "execution_count": 143,
   "id": "d8bf060c",
   "metadata": {},
   "outputs": [
    {
     "name": "stdout",
     "output_type": "stream",
     "text": [
      "(149, 9)\n",
      "(149,)\n"
     ]
    }
   ],
   "source": [
    "print(x.shape)\n",
    "print(y.shape)"
   ]
  },
  {
   "cell_type": "markdown",
   "id": "9bcaacfc",
   "metadata": {},
   "source": [
    "### Transforming the data to remove skewness."
   ]
  },
  {
   "cell_type": "code",
   "execution_count": 144,
   "id": "5e6e8d56",
   "metadata": {},
   "outputs": [
    {
     "data": {
      "text/plain": [
       "array([[-2.05151352, -0.95033703,  1.49245411, ...,  1.81762514,\n",
       "         0.65957855,  0.75525527],\n",
       "       [-1.99584442,  0.37856182,  1.19406711, ...,  0.32967608,\n",
       "         1.56260401,  1.11116834],\n",
       "       [-1.94524081, -1.04140135,  1.26661161, ...,  1.95339957,\n",
       "         0.97722591,  0.70649452],\n",
       "       ...,\n",
       "       [ 1.53128908, -1.32081011, -1.36521585, ..., -0.19284339,\n",
       "         1.13425805, -0.32711524],\n",
       "       [ 1.56626337, -0.69272644, -1.43304072, ..., -0.4344978 ,\n",
       "        -0.31207994, -0.93216364],\n",
       "       [ 1.60111233,  2.17876604, -1.93874732, ..., -0.14727363,\n",
       "        -0.17248608, -0.55359236]])"
      ]
     },
     "execution_count": 144,
     "metadata": {},
     "output_type": "execute_result"
    }
   ],
   "source": [
    "from sklearn.preprocessing import power_transform\n",
    "x = power_transform(x,method = 'yeo-johnson')\n",
    "x"
   ]
  },
  {
   "cell_type": "code",
   "execution_count": 145,
   "id": "f6e0818e",
   "metadata": {},
   "outputs": [
    {
     "data": {
      "text/plain": [
       "array([[-2.05151352, -0.95033703,  1.49245411, ...,  1.81762514,\n",
       "         0.65957855,  0.75525527],\n",
       "       [-1.99584442,  0.37856182,  1.19406711, ...,  0.32967608,\n",
       "         1.56260401,  1.11116834],\n",
       "       [-1.94524081, -1.04140135,  1.26661161, ...,  1.95339957,\n",
       "         0.97722591,  0.70649452],\n",
       "       ...,\n",
       "       [ 1.53128908, -1.32081011, -1.36521585, ..., -0.19284339,\n",
       "         1.13425805, -0.32711524],\n",
       "       [ 1.56626337, -0.69272644, -1.43304072, ..., -0.4344978 ,\n",
       "        -0.31207994, -0.93216364],\n",
       "       [ 1.60111233,  2.17876604, -1.93874732, ..., -0.14727363,\n",
       "        -0.17248608, -0.55359236]])"
      ]
     },
     "execution_count": 145,
     "metadata": {},
     "output_type": "execute_result"
    }
   ],
   "source": [
    "from sklearn.preprocessing import StandardScaler\n",
    "sc = StandardScaler()\n",
    "x = sc.fit_transform(x)\n",
    "x"
   ]
  },
  {
   "cell_type": "markdown",
   "id": "03a73d05",
   "metadata": {},
   "source": [
    "### Model Selection"
   ]
  },
  {
   "cell_type": "code",
   "execution_count": 146,
   "id": "fc990172",
   "metadata": {},
   "outputs": [],
   "source": [
    "from sklearn.model_selection import train_test_split\n",
    "from sklearn.linear_model import LinearRegression\n",
    "from sklearn.metrics import mean_squared_error, mean_absolute_error\n",
    "from sklearn.metrics import r2_score\n",
    "lm = LinearRegression()"
   ]
  },
  {
   "cell_type": "markdown",
   "id": "7d9cbd96",
   "metadata": {},
   "source": [
    "### Splitting the DataFrame"
   ]
  },
  {
   "cell_type": "code",
   "execution_count": 147,
   "id": "32a07d74",
   "metadata": {},
   "outputs": [
    {
     "name": "stdout",
     "output_type": "stream",
     "text": [
      "At random state:: 893 the model is performing well\n",
      "Training Score is :- 0.9954935915698765\n",
      "Testing Score is :- 0.9954888490650264\n"
     ]
    }
   ],
   "source": [
    "#Selecting the best random state for the model\n",
    "\n",
    "for i in range(0,1000):\n",
    "    x_train, x_test, y_train, y_test = train_test_split(x,y,random_state = i, test_size = 0.20)\n",
    "    lm.fit(x_train,y_train)\n",
    "    pred_train = lm.predict(x_train)\n",
    "    pred_test = lm.predict(x_test)\n",
    "    if round(r2_score(y_train,pred_train)*100,3)==round(r2_score(y_test,pred_test)*100,3):\n",
    "        print(\"At random state::\",i,\"the model is performing well\")\n",
    "        print(\"Training Score is :-\",r2_score(y_train,pred_train))\n",
    "        print(\"Testing Score is :-\",r2_score(y_test,pred_test))\n"
   ]
  },
  {
   "cell_type": "code",
   "execution_count": 148,
   "id": "223fd8c3",
   "metadata": {},
   "outputs": [],
   "source": [
    "x_train, x_test, y_train, y_test = train_test_split(x,y,random_state = 893, test_size = 0.20)\n",
    "lm.fit(x_train,y_train)\n",
    "pred_test = lm.predict(x_test)"
   ]
  },
  {
   "cell_type": "code",
   "execution_count": 149,
   "id": "7f8cb252",
   "metadata": {},
   "outputs": [
    {
     "data": {
      "text/plain": [
       "array([-0.38312162,  0.00149631,  0.2678831 ,  0.16616515,  0.15679909,\n",
       "        0.09994486,  0.04422157,  0.06542788,  0.33336962])"
      ]
     },
     "execution_count": 149,
     "metadata": {},
     "output_type": "execute_result"
    }
   ],
   "source": [
    "lm.coef_"
   ]
  },
  {
   "cell_type": "code",
   "execution_count": 150,
   "id": "59dbcf70",
   "metadata": {},
   "outputs": [
    {
     "data": {
      "text/plain": [
       "5.422756870769387"
      ]
     },
     "execution_count": 150,
     "metadata": {},
     "output_type": "execute_result"
    }
   ],
   "source": [
    "lm.intercept_"
   ]
  },
  {
   "cell_type": "code",
   "execution_count": 151,
   "id": "6e2dd97c",
   "metadata": {},
   "outputs": [
    {
     "data": {
      "text/plain": [
       "0.9954935915698765"
      ]
     },
     "execution_count": 151,
     "metadata": {},
     "output_type": "execute_result"
    }
   ],
   "source": [
    "lm.score(x_train,y_train)"
   ]
  },
  {
   "cell_type": "code",
   "execution_count": 152,
   "id": "0c10bffa",
   "metadata": {},
   "outputs": [
    {
     "name": "stdout",
     "output_type": "stream",
     "text": [
      "0.9954888490650264\n"
     ]
    }
   ],
   "source": [
    "print(r2_score(y_test,pred_test))"
   ]
  },
  {
   "cell_type": "markdown",
   "id": "90b31630",
   "metadata": {},
   "source": [
    "### Cross Validation Score for Linear Regression"
   ]
  },
  {
   "cell_type": "code",
   "execution_count": 153,
   "id": "d3e56891",
   "metadata": {},
   "outputs": [
    {
     "name": "stdout",
     "output_type": "stream",
     "text": [
      "At cv:- 2\n",
      "Cross Validation score is :- 89.51595685241654\n",
      "r2 Score is :- 99.54888490650265\n",
      "\n",
      "\n",
      "At cv:- 3\n",
      "Cross Validation score is :- 92.20716764885502\n",
      "r2 Score is :- 99.54888490650265\n",
      "\n",
      "\n",
      "At cv:- 4\n",
      "Cross Validation score is :- 87.83983490276772\n",
      "r2 Score is :- 99.54888490650265\n",
      "\n",
      "\n",
      "At cv:- 5\n",
      "Cross Validation score is :- 84.32701868104544\n",
      "r2 Score is :- 99.54888490650265\n",
      "\n",
      "\n",
      "At cv:- 6\n",
      "Cross Validation score is :- 77.03451648766385\n",
      "r2 Score is :- 99.54888490650265\n",
      "\n",
      "\n",
      "At cv:- 7\n",
      "Cross Validation score is :- 70.21624697989375\n",
      "r2 Score is :- 99.54888490650265\n",
      "\n",
      "\n",
      "At cv:- 8\n",
      "Cross Validation score is :- 66.7256411971282\n",
      "r2 Score is :- 99.54888490650265\n",
      "\n",
      "\n",
      "At cv:- 9\n",
      "Cross Validation score is :- 61.16124602446548\n",
      "r2 Score is :- 99.54888490650265\n",
      "\n",
      "\n"
     ]
    }
   ],
   "source": [
    "pred_lm = lm.predict(x_test)\n",
    "from sklearn.model_selection import cross_val_score\n",
    "lss = r2_score(y_test,pred_test)\n",
    "for j in range (2,10):\n",
    "    lsscore = cross_val_score(lm,x,y,cv =j)\n",
    "    lsc = lsscore.mean()\n",
    "    print(\"At cv:-\",j)\n",
    "    print(\"Cross Validation score is :-\",lsc*100)\n",
    "    print (\"r2 Score is :-\",lss*100)\n",
    "    print('\\n')"
   ]
  },
  {
   "cell_type": "code",
   "execution_count": 154,
   "id": "f3504847",
   "metadata": {},
   "outputs": [
    {
     "name": "stdout",
     "output_type": "stream",
     "text": [
      "The cv score is:  0.9220716764885503 \n",
      "The r2 score is 0.9954888490650264\n"
     ]
    }
   ],
   "source": [
    "lsscore_selected = cross_val_score(lm,x,y,cv = 3).mean()\n",
    "print(\"The cv score is: \",lsscore_selected,'\\nThe r2 score is',lss)"
   ]
  },
  {
   "cell_type": "code",
   "execution_count": 155,
   "id": "d73b0f61",
   "metadata": {},
   "outputs": [
    {
     "name": "stdout",
     "output_type": "stream",
     "text": [
      "0.003025041760681048\n",
      "0.04659713553005134\n"
     ]
    }
   ],
   "source": [
    "mse = mean_squared_error(y_test,pred_test)\n",
    "mae = mean_absolute_error(y_test, pred_test)\n",
    "\n",
    "print(mse)\n",
    "print(mae)"
   ]
  },
  {
   "cell_type": "code",
   "execution_count": 156,
   "id": "5540f654",
   "metadata": {},
   "outputs": [
    {
     "data": {
      "image/png": "[encoded data removed]",
      "text/plain": [
       "<Figure size 720x360 with 1 Axes>"
      ]
     },
     "metadata": {
      "needs_background": "light"
     },
     "output_type": "display_data"
    }
   ],
   "source": [
    "plt.figure(figsize=(10,5))\n",
    "plt.barh(df_new.drop(['Happiness Score'],axis=1).columns,lm.coef_)\n",
    "plt.show()"
   ]
  },
  {
   "cell_type": "markdown",
   "id": "862d56bf",
   "metadata": {},
   "source": [
    "### Model with outliers"
   ]
  },
  {
   "cell_type": "code",
   "execution_count": 126,
   "id": "60dc09ae",
   "metadata": {},
   "outputs": [],
   "source": [
    "x1 = df.drop(['Happiness Score'],axis= 1)\n",
    "y1 = df.iloc[:,1]\n"
   ]
  },
  {
   "cell_type": "code",
   "execution_count": 127,
   "id": "15ddf384",
   "metadata": {},
   "outputs": [
    {
     "name": "stdout",
     "output_type": "stream",
     "text": [
      "(158, 9)\n",
      "(158,)\n"
     ]
    }
   ],
   "source": [
    "print(x1.shape)\n",
    "print(y1.shape)"
   ]
  },
  {
   "cell_type": "markdown",
   "id": "c81a7d26",
   "metadata": {},
   "source": [
    "### Transforming the data to remove skewness."
   ]
  },
  {
   "cell_type": "code",
   "execution_count": 128,
   "id": "545003b5",
   "metadata": {},
   "outputs": [
    {
     "data": {
      "text/plain": [
       "array([[-2.06341393, -0.9722262 ,  1.44606101, ...,  1.77399061,\n",
       "         0.62239051,  0.75099154],\n",
       "       [-2.00849761,  0.30934969,  1.17332111, ...,  0.31599326,\n",
       "         1.48099498,  1.11001108],\n",
       "       [-1.95857395, -1.06201662,  1.23983557, ...,  1.90679207,\n",
       "         0.92797276,  0.70227525],\n",
       "       ...,\n",
       "       [ 1.52535242,  0.39913742, -0.5134688 , ...,  0.73891461,\n",
       "         1.65933595, -2.86621557],\n",
       "       [ 1.54254416,  1.92690194, -1.89495386, ..., -0.15194624,\n",
       "        -0.19482942, -0.51480136],\n",
       "       [ 1.55970548,  1.31032295, -1.52122584, ..., -0.06732623,\n",
       "        -0.49041465, -0.97664547]])"
      ]
     },
     "execution_count": 128,
     "metadata": {},
     "output_type": "execute_result"
    }
   ],
   "source": [
    "from sklearn.preprocessing import power_transform\n",
    "x1 = power_transform(x1,method = 'yeo-johnson')\n",
    "x1"
   ]
  },
  {
   "cell_type": "code",
   "execution_count": 129,
   "id": "716cb795",
   "metadata": {},
   "outputs": [
    {
     "data": {
      "text/plain": [
       "array([[-2.06341393, -0.9722262 ,  1.44606101, ...,  1.77399061,\n",
       "         0.62239051,  0.75099154],\n",
       "       [-2.00849761,  0.30934969,  1.17332111, ...,  0.31599326,\n",
       "         1.48099498,  1.11001108],\n",
       "       [-1.95857395, -1.06201662,  1.23983557, ...,  1.90679207,\n",
       "         0.92797276,  0.70227525],\n",
       "       ...,\n",
       "       [ 1.52535242,  0.39913742, -0.5134688 , ...,  0.73891461,\n",
       "         1.65933595, -2.86621557],\n",
       "       [ 1.54254416,  1.92690194, -1.89495386, ..., -0.15194624,\n",
       "        -0.19482942, -0.51480136],\n",
       "       [ 1.55970548,  1.31032295, -1.52122584, ..., -0.06732623,\n",
       "        -0.49041465, -0.97664547]])"
      ]
     },
     "execution_count": 129,
     "metadata": {},
     "output_type": "execute_result"
    }
   ],
   "source": [
    "from sklearn.preprocessing import StandardScaler\n",
    "sc = StandardScaler()\n",
    "x1 = sc.fit_transform(x1)\n",
    "x1"
   ]
  },
  {
   "cell_type": "markdown",
   "id": "40cff8b8",
   "metadata": {},
   "source": [
    "### Model Selection"
   ]
  },
  {
   "cell_type": "code",
   "execution_count": 130,
   "id": "9ccf40f0",
   "metadata": {},
   "outputs": [],
   "source": [
    "from sklearn.model_selection import train_test_split\n",
    "from sklearn.linear_model import LinearRegression\n",
    "from sklearn.metrics import mean_squared_error, mean_absolute_error\n",
    "from sklearn.metrics import r2_score\n",
    "lm = LinearRegression()"
   ]
  },
  {
   "cell_type": "markdown",
   "id": "614c7b5e",
   "metadata": {},
   "source": [
    "### Splitting the DataFrame"
   ]
  },
  {
   "cell_type": "code",
   "execution_count": 131,
   "id": "698ab15c",
   "metadata": {},
   "outputs": [
    {
     "name": "stdout",
     "output_type": "stream",
     "text": [
      "At random state:: 76 the model is performing well\n",
      "Training Score is :- 0.9930994964102516\n",
      "Testing Score is :- 0.9930688438780234\n",
      "At random state:: 297 the model is performing well\n",
      "Training Score is :- 0.992964716096542\n",
      "Testing Score is :- 0.9929539769769591\n",
      "At random state:: 414 the model is performing well\n",
      "Training Score is :- 0.9929974260581691\n",
      "Testing Score is :- 0.9929988877738751\n",
      "At random state:: 502 the model is performing well\n",
      "Training Score is :- 0.9930377026649587\n",
      "Testing Score is :- 0.9929778696975217\n"
     ]
    }
   ],
   "source": [
    "#Selecting the best random state for the model\n",
    "\n",
    "for i in range(0,1000):\n",
    "    x1_train, x1_test, y1_train, y1_test = train_test_split(x1,y1,random_state = i, test_size = 0.20)\n",
    "    lm.fit(x1_train,y1_train)\n",
    "    pred_train = lm.predict(x1_train)\n",
    "    pred_test = lm.predict(x1_test)\n",
    "    if round(r2_score(y1_train,pred_train)*100,2)==round(r2_score(y1_test,pred_test)*100,2):\n",
    "        print(\"At random state::\",i,\"the model is performing well\")\n",
    "        print(\"Training Score is :-\",r2_score(y1_train,pred_train))\n",
    "        print(\"Testing Score is :-\",r2_score(y1_test,pred_test))\n"
   ]
  },
  {
   "cell_type": "code",
   "execution_count": 132,
   "id": "77ff2742",
   "metadata": {},
   "outputs": [],
   "source": [
    "x1_train, x1_test, y1_train, y1_test = train_test_split(x1,y1,random_state = 76, test_size = 0.20)\n",
    "lm.fit(x1_train,y1_train)\n",
    "pred_test = lm.predict(x1_test)"
   ]
  },
  {
   "cell_type": "code",
   "execution_count": 133,
   "id": "31410a39",
   "metadata": {},
   "outputs": [
    {
     "data": {
      "text/plain": [
       "array([-0.31539319, -0.00410899,  0.30885238,  0.20384489,  0.16537641,\n",
       "        0.11236554,  0.05266007,  0.07500727,  0.37956133])"
      ]
     },
     "execution_count": 133,
     "metadata": {},
     "output_type": "execute_result"
    }
   ],
   "source": [
    "lm.coef_"
   ]
  },
  {
   "cell_type": "code",
   "execution_count": 134,
   "id": "bfaed9fc",
   "metadata": {},
   "outputs": [
    {
     "data": {
      "text/plain": [
       "5.368355923822545"
      ]
     },
     "execution_count": 134,
     "metadata": {},
     "output_type": "execute_result"
    }
   ],
   "source": [
    "lm.intercept_"
   ]
  },
  {
   "cell_type": "code",
   "execution_count": 135,
   "id": "d2d78b2e",
   "metadata": {},
   "outputs": [
    {
     "data": {
      "text/plain": [
       "0.9930994964102516"
      ]
     },
     "execution_count": 135,
     "metadata": {},
     "output_type": "execute_result"
    }
   ],
   "source": [
    "lm.score(x1_train,y1_train)"
   ]
  },
  {
   "cell_type": "code",
   "execution_count": 136,
   "id": "c2293383",
   "metadata": {},
   "outputs": [
    {
     "name": "stdout",
     "output_type": "stream",
     "text": [
      "0.9930688438780234\n"
     ]
    }
   ],
   "source": [
    "print(r2_score(y1_test,pred_test))"
   ]
  },
  {
   "cell_type": "markdown",
   "id": "8f6b8d26",
   "metadata": {},
   "source": [
    "### Cross Validation Score for Linear Regression"
   ]
  },
  {
   "cell_type": "code",
   "execution_count": 137,
   "id": "bd64daee",
   "metadata": {},
   "outputs": [
    {
     "name": "stdout",
     "output_type": "stream",
     "text": [
      "At cv:- 2\n",
      "Cross Validation score is :- 84.51208334033724\n",
      "r2 Score is :- 99.30688438780234\n",
      "\n",
      "\n",
      "At cv:- 3\n",
      "Cross Validation score is :- 87.54316199429161\n",
      "r2 Score is :- 99.30688438780234\n",
      "\n",
      "\n",
      "At cv:- 4\n",
      "Cross Validation score is :- 82.32846695951208\n",
      "r2 Score is :- 99.30688438780234\n",
      "\n",
      "\n",
      "At cv:- 5\n",
      "Cross Validation score is :- 75.88140573583225\n",
      "r2 Score is :- 99.30688438780234\n",
      "\n",
      "\n",
      "At cv:- 6\n",
      "Cross Validation score is :- 64.19640850826542\n",
      "r2 Score is :- 99.30688438780234\n",
      "\n",
      "\n",
      "At cv:- 7\n",
      "Cross Validation score is :- 57.116977032732684\n",
      "r2 Score is :- 99.30688438780234\n",
      "\n",
      "\n",
      "At cv:- 8\n",
      "Cross Validation score is :- 56.06226258985387\n",
      "r2 Score is :- 99.30688438780234\n",
      "\n",
      "\n",
      "At cv:- 9\n",
      "Cross Validation score is :- 41.37268762410679\n",
      "r2 Score is :- 99.30688438780234\n",
      "\n",
      "\n"
     ]
    }
   ],
   "source": [
    "pred_lm = lm.predict(x1_test)\n",
    "from sklearn.model_selection import cross_val_score\n",
    "lss = r2_score(y1_test,pred_test)\n",
    "for j in range (2,10):\n",
    "    lsscore = cross_val_score(lm,x1,y1,cv =j)\n",
    "    lsc = lsscore.mean()\n",
    "    print(\"At cv:-\",j)\n",
    "    print(\"Cross Validation score is :-\",lsc*100)\n",
    "    print (\"r2 Score is :-\",lss*100)\n",
    "    print('\\n')"
   ]
  },
  {
   "cell_type": "code",
   "execution_count": 138,
   "id": "b7e66452",
   "metadata": {
    "scrolled": true
   },
   "outputs": [
    {
     "name": "stdout",
     "output_type": "stream",
     "text": [
      "The cv score is:  0.8754316199429161 \n",
      "The r2 score is 0.9930688438780234\n"
     ]
    }
   ],
   "source": [
    "lsscore_selected = cross_val_score(lm,x1,y1,cv = 3).mean()\n",
    "print(\"The cv score is: \",lsscore_selected,'\\nThe r2 score is',lss)"
   ]
  },
  {
   "cell_type": "code",
   "execution_count": 140,
   "id": "d18685a4",
   "metadata": {},
   "outputs": [
    {
     "name": "stdout",
     "output_type": "stream",
     "text": [
      "0.005896306328068883\n",
      "0.06929460272533176\n"
     ]
    }
   ],
   "source": [
    "mse = mean_squared_error(y1_test,pred_test)\n",
    "mae = mean_absolute_error(y1_test, pred_test)\n",
    "print(mse)\n",
    "print(mae)"
   ]
  },
  {
   "cell_type": "code",
   "execution_count": 141,
   "id": "6dd4ce57",
   "metadata": {},
   "outputs": [
    {
     "data": {
      "image/png": "[encoded data removed]",
      "text/plain": [
       "<Figure size 720x360 with 1 Axes>"
      ]
     },
     "metadata": {
      "needs_background": "light"
     },
     "output_type": "display_data"
    }
   ],
   "source": [
    "plt.figure(figsize=(10,5))\n",
    "plt.barh(df_new.drop(['Happiness Score'],axis=1).columns,lm.coef_)\n",
    "plt.show()"
   ]
  },
  {
   "cell_type": "markdown",
   "id": "9b95f886",
   "metadata": {},
   "source": [
    "### Since the model without outliers is performing slightly better with cross validation and having slightly less mean squared error, we will select the model without outliers as best model."
   ]
  },
  {
   "cell_type": "markdown",
   "id": "0da6d658",
   "metadata": {},
   "source": [
    "### Model Saving"
   ]
  },
  {
   "cell_type": "code",
   "execution_count": 157,
   "id": "ee7d28cb",
   "metadata": {},
   "outputs": [],
   "source": [
    "import pickle\n",
    "filename = open('Happiness_report_model.pkl','wb')\n",
    "pickle.dump(lm,filename)"
   ]
  },
  {
   "cell_type": "markdown",
   "id": "c60f2229",
   "metadata": {},
   "source": [
    "### Conclusion"
   ]
  },
  {
   "cell_type": "code",
   "execution_count": 158,
   "id": "4e732e43",
   "metadata": {},
   "outputs": [
    {
     "data": {
      "text/html": [
       "<div>\n",
       "<style scoped>\n",
       "    .dataframe tbody tr th:only-of-type {\n",
       "        vertical-align: middle;\n",
       "    }\n",
       "\n",
       "    .dataframe tbody tr th {\n",
       "        vertical-align: top;\n",
       "    }\n",
       "\n",
       "    .dataframe thead th {\n",
       "        text-align: right;\n",
       "    }\n",
       "</style>\n",
       "<table border=\"1\" class=\"dataframe\">\n",
       "  <thead>\n",
       "    <tr style=\"text-align: right;\">\n",
       "      <th></th>\n",
       "      <th>Original</th>\n",
       "      <th>Predicted</th>\n",
       "    </tr>\n",
       "  </thead>\n",
       "  <tbody>\n",
       "    <tr>\n",
       "      <th>0</th>\n",
       "      <td>4.332</td>\n",
       "      <td>4.384119</td>\n",
       "    </tr>\n",
       "    <tr>\n",
       "      <th>1</th>\n",
       "      <td>5.073</td>\n",
       "      <td>5.016953</td>\n",
       "    </tr>\n",
       "    <tr>\n",
       "      <th>2</th>\n",
       "      <td>4.633</td>\n",
       "      <td>4.559172</td>\n",
       "    </tr>\n",
       "    <tr>\n",
       "      <th>3</th>\n",
       "      <td>7.187</td>\n",
       "      <td>7.094405</td>\n",
       "    </tr>\n",
       "    <tr>\n",
       "      <th>4</th>\n",
       "      <td>4.800</td>\n",
       "      <td>4.799057</td>\n",
       "    </tr>\n",
       "    <tr>\n",
       "      <th>5</th>\n",
       "      <td>6.983</td>\n",
       "      <td>6.967558</td>\n",
       "    </tr>\n",
       "    <tr>\n",
       "      <th>6</th>\n",
       "      <td>5.268</td>\n",
       "      <td>5.269911</td>\n",
       "    </tr>\n",
       "    <tr>\n",
       "      <th>7</th>\n",
       "      <td>5.192</td>\n",
       "      <td>5.165696</td>\n",
       "    </tr>\n",
       "    <tr>\n",
       "      <th>8</th>\n",
       "      <td>5.007</td>\n",
       "      <td>4.952489</td>\n",
       "    </tr>\n",
       "    <tr>\n",
       "      <th>9</th>\n",
       "      <td>4.898</td>\n",
       "      <td>4.938166</td>\n",
       "    </tr>\n",
       "    <tr>\n",
       "      <th>10</th>\n",
       "      <td>5.889</td>\n",
       "      <td>5.823721</td>\n",
       "    </tr>\n",
       "    <tr>\n",
       "      <th>11</th>\n",
       "      <td>4.788</td>\n",
       "      <td>4.699844</td>\n",
       "    </tr>\n",
       "    <tr>\n",
       "      <th>12</th>\n",
       "      <td>5.332</td>\n",
       "      <td>5.303013</td>\n",
       "    </tr>\n",
       "    <tr>\n",
       "      <th>13</th>\n",
       "      <td>6.798</td>\n",
       "      <td>6.753986</td>\n",
       "    </tr>\n",
       "    <tr>\n",
       "      <th>14</th>\n",
       "      <td>6.130</td>\n",
       "      <td>6.086212</td>\n",
       "    </tr>\n",
       "    <tr>\n",
       "      <th>15</th>\n",
       "      <td>5.689</td>\n",
       "      <td>5.670778</td>\n",
       "    </tr>\n",
       "    <tr>\n",
       "      <th>16</th>\n",
       "      <td>5.716</td>\n",
       "      <td>5.664767</td>\n",
       "    </tr>\n",
       "    <tr>\n",
       "      <th>17</th>\n",
       "      <td>4.550</td>\n",
       "      <td>4.489404</td>\n",
       "    </tr>\n",
       "    <tr>\n",
       "      <th>18</th>\n",
       "      <td>5.855</td>\n",
       "      <td>5.851563</td>\n",
       "    </tr>\n",
       "    <tr>\n",
       "      <th>19</th>\n",
       "      <td>5.477</td>\n",
       "      <td>5.425958</td>\n",
       "    </tr>\n",
       "    <tr>\n",
       "      <th>20</th>\n",
       "      <td>4.518</td>\n",
       "      <td>4.411039</td>\n",
       "    </tr>\n",
       "    <tr>\n",
       "      <th>21</th>\n",
       "      <td>6.810</td>\n",
       "      <td>6.789913</td>\n",
       "    </tr>\n",
       "    <tr>\n",
       "      <th>22</th>\n",
       "      <td>4.876</td>\n",
       "      <td>4.759626</td>\n",
       "    </tr>\n",
       "    <tr>\n",
       "      <th>23</th>\n",
       "      <td>5.212</td>\n",
       "      <td>5.164861</td>\n",
       "    </tr>\n",
       "    <tr>\n",
       "      <th>24</th>\n",
       "      <td>5.791</td>\n",
       "      <td>5.819578</td>\n",
       "    </tr>\n",
       "    <tr>\n",
       "      <th>25</th>\n",
       "      <td>4.565</td>\n",
       "      <td>4.559461</td>\n",
       "    </tr>\n",
       "    <tr>\n",
       "      <th>26</th>\n",
       "      <td>6.946</td>\n",
       "      <td>7.011570</td>\n",
       "    </tr>\n",
       "    <tr>\n",
       "      <th>27</th>\n",
       "      <td>4.512</td>\n",
       "      <td>4.454840</td>\n",
       "    </tr>\n",
       "    <tr>\n",
       "      <th>28</th>\n",
       "      <td>5.286</td>\n",
       "      <td>5.244792</td>\n",
       "    </tr>\n",
       "    <tr>\n",
       "      <th>29</th>\n",
       "      <td>4.739</td>\n",
       "      <td>4.698323</td>\n",
       "    </tr>\n",
       "  </tbody>\n",
       "</table>\n",
       "</div>"
      ],
      "text/plain": [
       "    Original  Predicted\n",
       "0      4.332   4.384119\n",
       "1      5.073   5.016953\n",
       "2      4.633   4.559172\n",
       "3      7.187   7.094405\n",
       "4      4.800   4.799057\n",
       "5      6.983   6.967558\n",
       "6      5.268   5.269911\n",
       "7      5.192   5.165696\n",
       "8      5.007   4.952489\n",
       "9      4.898   4.938166\n",
       "10     5.889   5.823721\n",
       "11     4.788   4.699844\n",
       "12     5.332   5.303013\n",
       "13     6.798   6.753986\n",
       "14     6.130   6.086212\n",
       "15     5.689   5.670778\n",
       "16     5.716   5.664767\n",
       "17     4.550   4.489404\n",
       "18     5.855   5.851563\n",
       "19     5.477   5.425958\n",
       "20     4.518   4.411039\n",
       "21     6.810   6.789913\n",
       "22     4.876   4.759626\n",
       "23     5.212   5.164861\n",
       "24     5.791   5.819578\n",
       "25     4.565   4.559461\n",
       "26     6.946   7.011570\n",
       "27     4.512   4.454840\n",
       "28     5.286   5.244792\n",
       "29     4.739   4.698323"
      ]
     },
     "execution_count": 158,
     "metadata": {},
     "output_type": "execute_result"
    }
   ],
   "source": [
    "import numpy as np\n",
    "a = np.array(y_test)\n",
    "predicted = np.array(lm.predict(x_test))\n",
    "df_com = pd.DataFrame({'Original':a, 'Predicted':predicted},index = range(len(a)))\n",
    "df_com"
   ]
  },
  {
   "cell_type": "code",
   "execution_count": null,
   "id": "fd8c8ff1",
   "metadata": {},
   "outputs": [],
   "source": []
  }
 ],
 "metadata": {
  "kernelspec": {
   "display_name": "Python 3",
   "language": "python",
   "name": "python3"
  },
  "language_info": {
   "codemirror_mode": {
    "name": "ipython",
    "version": 3
   },
   "file_extension": ".py",
   "mimetype": "text/x-python",
   "name": "python",
   "nbconvert_exporter": "python",
   "pygments_lexer": "ipython3",
   "version": "3.8.8"
  }
 },
 "nbformat": 4,
 "nbformat_minor": 5
}
